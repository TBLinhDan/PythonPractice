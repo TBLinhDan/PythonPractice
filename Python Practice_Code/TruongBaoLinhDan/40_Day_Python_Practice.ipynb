{
  "nbformat": 4,
  "nbformat_minor": 0,
  "metadata": {
    "colab": {
      "provenance": []
    },
    "kernelspec": {
      "name": "python3",
      "display_name": "Python 3"
    },
    "language_info": {
      "name": "python"
    }
  },
  "cells": [
    {
      "cell_type": "code",
      "execution_count": null,
      "metadata": {
        "colab": {
          "base_uri": "https://localhost:8080/"
        },
        "id": "FgpftoX5bjcD",
        "outputId": "42e739d3-279b-47ff-d48c-bb710739c972"
      },
      "outputs": [
        {
          "output_type": "stream",
          "name": "stdout",
          "text": [
            "Hello Word\n",
            "Welcome to Python Word\n"
          ]
        }
      ],
      "source": [
        "print(\"Hello Word\")\n",
        "print(\"Welcome to Python Word\")"
      ]
    },
    {
      "cell_type": "code",
      "source": [
        "# DAY 1_Tính lịch Can Chi\n",
        "\n",
        "lst_Can = ['Canh', 'Tân', 'Nhâm', 'Quý', 'Giáp', 'Ất', 'Bính', 'Đinh', 'Mậu', 'Kỷ']\n",
        "lst_Chi = ['Thân', 'Dậu', 'Tuất', 'Hợi', 'Tý', 'Sửu', 'Dần', 'Mão', 'Thìn', 'Tị', 'Ngọ', 'Mùi']\n",
        "Year = int(input(\"Nhập vào Năm:\"))\n",
        "Can_index = Year % 10\n",
        "Chi_index = Year % 12\n",
        "print(lst_Can[Can_index] + \" \" + lst_Chi[Chi_index])"
      ],
      "metadata": {
        "colab": {
          "base_uri": "https://localhost:8080/"
        },
        "id": "itBjVUBMiiyq",
        "outputId": "2820f7c2-fdfa-4c2e-bb0b-6a092001cab1"
      },
      "execution_count": null,
      "outputs": [
        {
          "output_type": "stream",
          "name": "stdout",
          "text": [
            "Nhập vào Năm:2017\n",
            "Đinh Dậu\n"
          ]
        }
      ]
    },
    {
      "cell_type": "code",
      "source": [
        "def tinh_CanChi(year):\n",
        "  Can =\"\"\n",
        "  Chi =\"\"\n",
        "\n",
        "  if year % 10 == 0:\n",
        "    Can = \"Canh\"\n",
        "  elif year % 10 == 1:\n",
        "    Can = \"Tân\"\n",
        "  elif year % 10 == 2:\n",
        "    Can = \"Nhâm\"\n",
        "  elif year % 10 == 3:\n",
        "    Can = \"Quý\"\n",
        "  elif year % 10 == 4:\n",
        "    Can = \"Giáp\"\n",
        "  elif year % 10 == 5:\n",
        "    Can = \"Ất\"\n",
        "  elif year % 10 == 6:\n",
        "    Can = \"Bính\"\n",
        "  elif year % 10 == 7:\n",
        "    Can = \"Đinh\"\n",
        "  elif year % 10 == 8:\n",
        "    Can = \"Mậu\"\n",
        "  else:\n",
        "    Can = \"Kỷ\"\n",
        "\n",
        "  if year % 12 == 0:\n",
        "    Chi = \"Thân\"\n",
        "  elif year % 12 == 1:\n",
        "    Chi = \"Dậu\"\n",
        "  elif year % 12 == 2:\n",
        "    Chi = \"Tuất\"\n",
        "  elif year % 12 == 3:\n",
        "    Chi = \"Hợi\"\n",
        "  elif year % 12 == 4:\n",
        "    Chi = \"Tý\"\n",
        "  elif year % 12 == 5:\n",
        "    Chi = \"Sửu\"\n",
        "  elif year % 12 == 6:\n",
        "    Chi = \"Dần\"\n",
        "  elif year % 12 == 7:\n",
        "    Chi = \"Mão\"\n",
        "  elif year % 12 == 8:\n",
        "    Chi = \"Thìn\"\n",
        "  elif year % 12 == 9:\n",
        "    Chi = \"Tị\"\n",
        "  elif year % 12 == 10:\n",
        "    Chi = \"Ngọ\"\n",
        "  else:\n",
        "    Chi = \"Mùi\"\n",
        "\n",
        "  result = Can + \" \" + Chi\n",
        "  return result\n",
        "\n",
        "year = int(input(\"Nhập vào Năm:\"))\n",
        "print(f\"Năm {year} có Can Chi là {tinh_CanChi(year)}\")\n",
        "\n"
      ],
      "metadata": {
        "colab": {
          "base_uri": "https://localhost:8080/"
        },
        "id": "xtV6ie1qliVH",
        "outputId": "a2ccfea5-8a26-4378-e44a-e1d85ef37507"
      },
      "execution_count": null,
      "outputs": [
        {
          "output_type": "stream",
          "name": "stdout",
          "text": [
            "Nhập vào Năm:2018\n",
            "Năm 2018 có Can Chi là Mậu Tuất\n"
          ]
        }
      ]
    },
    {
      "cell_type": "code",
      "source": [
        "# DAY 2 _ Cài Anaconda...Done\n",
        "import cv2\n",
        "import matplotlib.pyplot as plt\n",
        "img = cv2.imread(\"C:\\Users\\ADMIN\\OneDrive\\Hình ảnh\\Ảnh chụp màn hình\\Anaconda.png\",0)\n",
        "plt.imshow(img, cmap='gray')\n",
        "plt.show\n"
      ],
      "metadata": {
        "id": "6KiiBfgcxanG",
        "colab": {
          "base_uri": "https://localhost:8080/",
          "height": 108
        },
        "outputId": "450fe7a6-deff-4f8e-c4c2-f091fa0de30c"
      },
      "execution_count": null,
      "outputs": [
        {
          "output_type": "error",
          "ename": "SyntaxError",
          "evalue": "(unicode error) 'unicodeescape' codec can't decode bytes in position 2-3: truncated \\UXXXXXXXX escape (<ipython-input-7-4173cb1f7ffd>, line 4)",
          "traceback": [
            "\u001b[0;36m  File \u001b[0;32m\"<ipython-input-7-4173cb1f7ffd>\"\u001b[0;36m, line \u001b[0;32m4\u001b[0m\n\u001b[0;31m    img = cv2.imread(\"C:\\Users\\ADMIN\\OneDrive\\Hình ảnh\\Ảnh chụp màn hình\\Anaconda.png\",0)\u001b[0m\n\u001b[0m                                                                                            ^\u001b[0m\n\u001b[0;31mSyntaxError\u001b[0m\u001b[0;31m:\u001b[0m (unicode error) 'unicodeescape' codec can't decode bytes in position 2-3: truncated \\UXXXXXXXX escape\n"
          ]
        }
      ]
    },
    {
      "cell_type": "code",
      "source": [
        "# DAY 3 _ Giải Phương trình Bậc 2\n",
        "import math\n",
        "\n",
        "def PTbac2(a, b, c):\n",
        "  if a == 0: # PT bậc 2 trở thành PT bậc 1 y=bx+c\n",
        "    if b == 0:\n",
        "      if c == 0:\n",
        "        print(\"Phương trình có vô số nghiệm\")\n",
        "      else:\n",
        "        print(\"Phương trình bậc 1 Vô nghiệm\")\n",
        "    else:\n",
        "      x = -c/b\n",
        "      print(f\"Nghiệm của Phương trình là: x = {x}\")\n",
        "  else: # Giải PT bậc 2\n",
        "    detal = b**2 - 4*a*c\n",
        "\n",
        "    if detal < 0:\n",
        "      print(\"Phương trình bậc 2 Vô nghiệm\")\n",
        "    elif detal == 0:\n",
        "      x = -(b/(2*a))\n",
        "      print(f\"Phương trình có Nghiệm kép x1 = x2 = {x}\")\n",
        "    else:\n",
        "      x1=(-(b) + math.sqrt(detal))/(2*a)\n",
        "      x2=(-(b) - math.sqrt(detal))/(2*a)\n",
        "      print(f\"Phương trình có 2 Nghiệm phân biệt: x1 = {x1}, x2 ={x2}\")\n",
        "\n",
        "PTbac2(0,0,0)\n",
        "PTbac2(0,0,4)\n",
        "PTbac2(0,6,3)\n",
        "PTbac2(2,6,4)\n",
        "PTbac2(1,2,1)\n",
        "PTbac2(4,6,3)"
      ],
      "metadata": {
        "colab": {
          "base_uri": "https://localhost:8080/"
        },
        "id": "JadRWQgGswml",
        "outputId": "42dcd36b-a7b5-46c4-d354-d52532a87594"
      },
      "execution_count": null,
      "outputs": [
        {
          "output_type": "stream",
          "name": "stdout",
          "text": [
            "Phương trình có vô số nghiệm\n",
            "Phương trình bậc 1 Vô nghiệm\n",
            "Nghiệm của Phương trình là: x = -0.5\n",
            "Phương trình có 2 Nghiệm phân biệt: x1 = -1.0, x2 =-2.0\n",
            "Phương trình có Nghiệm kép x1 = x2 = -1.0\n",
            "Phương trình bậc 2 Vô nghiệm\n"
          ]
        }
      ]
    },
    {
      "cell_type": "code",
      "source": [
        "# DAY 4_String\n",
        "\n",
        "student_name = \"TOM\"\n",
        "class_name = \" AI VIỆT NAM\"\n",
        "msg = f\"{student_name} học lập trình Python tại{class_name}\"\n",
        "print(msg)\n",
        "print(f\"{student_name} học lập trình Python tại{class_name}\")\n"
      ],
      "metadata": {
        "colab": {
          "base_uri": "https://localhost:8080/"
        },
        "id": "Qbdn_K_z2Eg1",
        "outputId": "fa94e80a-ffb9-4f2a-9c96-b896753dfa17"
      },
      "execution_count": null,
      "outputs": [
        {
          "output_type": "stream",
          "name": "stdout",
          "text": [
            "TOM học lập trình Python tại AI VIỆT NAM\n",
            "TOM học lập trình Python tại AI VIỆT NAM\n"
          ]
        }
      ]
    },
    {
      "cell_type": "code",
      "source": [
        "name = \"Alice\"\n",
        "print(f\"{name} is a great Teacher!\")"
      ],
      "metadata": {
        "colab": {
          "base_uri": "https://localhost:8080/"
        },
        "id": "-pT4-jMV5BHQ",
        "outputId": "e4c2d60e-7473-4195-8a42-352bc72ed489"
      },
      "execution_count": null,
      "outputs": [
        {
          "output_type": "stream",
          "name": "stdout",
          "text": [
            "Alice is a great Teacher!\n"
          ]
        }
      ]
    },
    {
      "cell_type": "code",
      "source": [
        "name = \"ms Taylor\"\n",
        "lower_name = name.lower()\n",
        "upper_name = name.upper()\n",
        "title_name = name.title()\n",
        "print(f\"Tên chữ thường: {lower_name}\")\n",
        "print(f\"Tên chữ hoa: {upper_name}\")\n",
        "print(f\"Ký tự đầu viết hoa: {title_name}\")\n"
      ],
      "metadata": {
        "colab": {
          "base_uri": "https://localhost:8080/"
        },
        "id": "7IfqG2DF8IXo",
        "outputId": "75f08537-cb8b-4028-f3cf-870e18b558b4"
      },
      "execution_count": null,
      "outputs": [
        {
          "output_type": "stream",
          "name": "stdout",
          "text": [
            "Tên chữ thường: ms taylor\n",
            "Tên chữ hoa: MS TAYLOR\n",
            "Ký tự đầu viết hoa: Ms Taylor\n"
          ]
        }
      ]
    },
    {
      "cell_type": "code",
      "source": [
        "# DAY 5_List\n",
        "lst_data1 = [1,2,3,4,5,6,7,8,9,10]\n",
        "print(\"list 1:\",lst_data1)\n",
        "lst_data2 = []\n",
        "for number in range (1,11):\n",
        "  lst_data2.append(number)\n",
        "print(f\"List 2: {lst_data2}\")\n",
        "\n",
        "print(\"5 phần tử đầu tiên:\",lst_data1[:5])\n",
        "\n",
        "print(\"Phần tử không chia hết cho 2:\")\n",
        "for number in lst_data1:\n",
        "  if (number % 2 !=0):\n",
        "    print(number)\n",
        "\n",
        "total = 0\n",
        "for num in lst_data1:\n",
        "  #total = total + num\n",
        "  total += num\n",
        "print(f\"Tổng của các giá trị trong List là: {total}\")"
      ],
      "metadata": {
        "colab": {
          "base_uri": "https://localhost:8080/"
        },
        "id": "SyEqCfoW20Gs",
        "outputId": "7bf33671-7163-49dc-f140-64e712d847d8"
      },
      "execution_count": null,
      "outputs": [
        {
          "output_type": "stream",
          "name": "stdout",
          "text": [
            "list 1: [1, 2, 3, 4, 5, 6, 7, 8, 9, 10]\n",
            "List 2: [1, 2, 3, 4, 5, 6, 7, 8, 9, 10]\n",
            "5 phần tử đầu tiên: [1, 2, 3, 4, 5]\n",
            "Phần tử không chia hết cho 2:\n",
            "1\n",
            "3\n",
            "5\n",
            "7\n",
            "9\n",
            "Tổng của các giá trị trong List là: 55\n"
          ]
        }
      ]
    },
    {
      "cell_type": "code",
      "source": [
        "# DAY 6_ các phương pháp thay thế Switch Case\n",
        "\n",
        "# 1. Dùng If elif else\n",
        "time = input(\"(1-24h) Input time: \")\n",
        "if time == \"5\":\n",
        "  print(\"Wake up\")\n",
        "elif time == \"6\":\n",
        "  print(\"Yoga\")\n",
        "elif time == \"7\":\n",
        "  print(\"Work\")\n",
        "else:\n",
        "  print(\"Do something else\")\n"
      ],
      "metadata": {
        "colab": {
          "base_uri": "https://localhost:8080/"
        },
        "id": "9rOI_93J9ama",
        "outputId": "53e7bcd3-f143-4231-b0ce-af8e0da59a3c"
      },
      "execution_count": null,
      "outputs": [
        {
          "output_type": "stream",
          "name": "stdout",
          "text": [
            "(1-24h) Input time: 7\n",
            "Work\n"
          ]
        }
      ]
    },
    {
      "cell_type": "code",
      "source": [
        "# 2. Dictionary\n",
        "# dict.get(key,default=None)\n",
        "todo = {\"5\":\"Wake up\",\n",
        "        \"6\":\"Yoga\",\n",
        "        \"7\":\"Work\"}\n",
        "time = input(\"(1-24h) Input time: \")\n",
        "todo.get(time,\"Do something else\")"
      ],
      "metadata": {
        "colab": {
          "base_uri": "https://localhost:8080/",
          "height": 53
        },
        "id": "WjmG6i0NA8qo",
        "outputId": "660f3f83-8af2-4016-b518-dfbb31a541ef"
      },
      "execution_count": null,
      "outputs": [
        {
          "name": "stdout",
          "output_type": "stream",
          "text": [
            "(1-24h) Input time: 10\n"
          ]
        },
        {
          "output_type": "execute_result",
          "data": {
            "text/plain": [
              "'Do something else'"
            ],
            "application/vnd.google.colaboratory.intrinsic+json": {
              "type": "string"
            }
          },
          "metadata": {},
          "execution_count": 35
        }
      ]
    },
    {
      "cell_type": "code",
      "source": [
        "# 3. Match case\n",
        "time = input(\"(1-24h) Input time: \")\n",
        "match time:\n",
        "  case \"5\":\n",
        "    print(\"Wake up\")\n",
        "  case \"6\":\n",
        "    print(\"Yoga\")\n",
        "  case \"7\":\n",
        "    print(\"Work\")\n",
        "  case _:\n",
        "    print(\"Do something else\")\n"
      ],
      "metadata": {
        "colab": {
          "base_uri": "https://localhost:8080/"
        },
        "id": "m_NFIIJHCdPJ",
        "outputId": "cd1af274-ca22-4f61-d908-8f02b04ba39d"
      },
      "execution_count": null,
      "outputs": [
        {
          "output_type": "stream",
          "name": "stdout",
          "text": [
            "(1-24h) Input time: 6\n",
            "Yoga\n"
          ]
        }
      ]
    },
    {
      "cell_type": "code",
      "source": [
        "# DAY 7_Thêm/Xoá/Sửa trong List\n",
        "\n",
        "# Tạo 1 List gồm các số chẵn từ 1 đến 12\n",
        "lst_data=[]\n",
        "for num in range(1,13):\n",
        "  if (num % 2 == 0):\n",
        "    lst_data.append(num)\n",
        "print(lst_data)\n",
        "\n",
        "# Loại bỏ các số chia hết cho 3 trong list\n",
        "for item in lst_data:\n",
        "  if (item%3==0):\n",
        "    lst_data.remove(item)\n",
        "print(lst_data)\n",
        "\n",
        "# thêm vào cuối list dãy số từ 1 đên 3\n",
        "for number in range (1,4):\n",
        "  lst_data.append(number)\n",
        "print(lst_data)\n",
        "\n",
        "# Chèn thêm vào từ vị trí index số 3 dãy số từ 6 đến 8\n",
        "pos = 3\n",
        "value = 6\n",
        "for _ in range(3):\n",
        "  lst_data.insert(pos, value)\n",
        "  pos += 1\n",
        "  value += 1\n",
        "print(lst_data)\n",
        "\n",
        "# Cập nhất thành 0 các số trong list chia hết cho 3 hoặc 5\n",
        "for index, item in enumerate(lst_data):\n",
        "  if((item%2==0)or(item%5==0)):\n",
        "    lst_data[index] = 0\n",
        "print(lst_data)\n"
      ],
      "metadata": {
        "colab": {
          "base_uri": "https://localhost:8080/"
        },
        "id": "zLdLnx0jEBUO",
        "outputId": "b157bd77-48b4-412f-b388-c71f6fd30b39"
      },
      "execution_count": null,
      "outputs": [
        {
          "output_type": "stream",
          "name": "stdout",
          "text": [
            "[2, 4, 6, 8, 10, 12]\n",
            "[2, 4, 8, 10]\n",
            "[2, 4, 8, 10, 1, 2, 3]\n",
            "[2, 4, 8, 6, 7, 8, 10, 1, 2, 3]\n",
            "[0, 0, 0, 0, 7, 0, 0, 1, 0, 3]\n"
          ]
        }
      ]
    },
    {
      "cell_type": "code",
      "source": [
        "# DAY 8_ Enumerate(DS đối tượng, chỉ số bắt đàu)\n",
        "shopping_list = [\"Cà rốt\",\"Táo\",\"Sữa\"]\n",
        "\n",
        "print(\"Danh Sách mua sắm:\")\n",
        "for index in range(len(shopping_list)):\n",
        "  print(f\"{index+1}. {shopping_list[index]}\")\n",
        "\n"
      ],
      "metadata": {
        "colab": {
          "base_uri": "https://localhost:8080/"
        },
        "id": "K2TYpdvd1z0F",
        "outputId": "eb2bf550-7548-4d14-97e1-c04d8ce82561"
      },
      "execution_count": null,
      "outputs": [
        {
          "output_type": "stream",
          "name": "stdout",
          "text": [
            "Danh Sách mua sắm:\n",
            "1. Cà rốt\n",
            "2. Táo\n",
            "3. Sữa\n"
          ]
        }
      ]
    },
    {
      "cell_type": "code",
      "source": [
        "shopping_list = [\"Cà rốt\",\"Táo\",\"Sữa\"]\n",
        "\n",
        "print(\"Danh Sách mua sắm:\")\n",
        "# truyền vào hàm Enumerate DS shopping_list, bắt đầu chỉ số start=1\n",
        "# Hàm sẽ truyền về đối tượng Enumerate là 1 cặp giá trị index và tên SP tương ứng index đó\n",
        "for index, item in enumerate(shopping_list, start=1):\n",
        "  print(f\"{index}. {item}\")"
      ],
      "metadata": {
        "colab": {
          "base_uri": "https://localhost:8080/"
        },
        "id": "7I2DMySt5jbM",
        "outputId": "7e6c44f3-748b-4c08-d9d8-31f2264d3d36"
      },
      "execution_count": null,
      "outputs": [
        {
          "output_type": "stream",
          "name": "stdout",
          "text": [
            "Danh Sách mua sắm:\n",
            "1. Cà rốt\n",
            "2. Táo\n",
            "3. Sữa\n"
          ]
        }
      ]
    },
    {
      "cell_type": "code",
      "source": [
        "food_list = [\n",
        "    [\"Bơ\", \"Pizza\", \"Sữa\"],\n",
        "    [\"Xúc xích\", \"Táo\", \"Kem\"],\n",
        "    [\"Cà rốt\", \"Bánh quy\", \"Kẹo\"],\n",
        "    [\"rau\", \"đậu\", \"bột\"]\n",
        "]\n",
        "search_item = [\"Cà rốt\",\"Táo\",\"Sữa\"]\n",
        "print(\"Số hàng:\", len(food_list))\n",
        "print(\"Số cột: \", len(food_list[i]))\n",
        "for i in range(len(food_list)):\n",
        "  print(f\"Hàng {i+1}. {food_list[i]}\")\n",
        "  for j in range (len(food_list[i])):\n",
        "    print(f\"Cột {j+1}_{food_list[i][j]}\")\n",
        "    if food_list[i][j] in search_item:\n",
        "      print(f\"{food_list[i][j]} được tìm thấy:\"\n",
        "            f\" ở cột {i+1} và hàng {j+1}\")\n"
      ],
      "metadata": {
        "colab": {
          "base_uri": "https://localhost:8080/"
        },
        "outputId": "164ddba5-90fb-4f2c-dabe-056b9dbbebd2",
        "id": "sht7lEq_pmoq"
      },
      "execution_count": null,
      "outputs": [
        {
          "output_type": "stream",
          "name": "stdout",
          "text": [
            "Số hàng: 4\n",
            "Số cột:  3\n",
            "Hàng 1. ['Bơ', 'Pizza', 'Sữa']\n",
            "Cột 1_Bơ\n",
            "Cột 2_Pizza\n",
            "Cột 3_Sữa\n",
            "Sữa được tìm thấy: ở cột 1 và hàng 3\n",
            "Hàng 2. ['Xúc xích', 'Táo', 'Kem']\n",
            "Cột 1_Xúc xích\n",
            "Cột 2_Táo\n",
            "Táo được tìm thấy: ở cột 2 và hàng 2\n",
            "Cột 3_Kem\n",
            "Hàng 3. ['Cà rốt', 'Bánh quy', 'Kẹo']\n",
            "Cột 1_Cà rốt\n",
            "Cà rốt được tìm thấy: ở cột 3 và hàng 1\n",
            "Cột 2_Bánh quy\n",
            "Cột 3_Kẹo\n",
            "Hàng 4. ['rau', 'đậu', 'bột']\n",
            "Cột 1_rau\n",
            "Cột 2_đậu\n",
            "Cột 3_bột\n"
          ]
        }
      ]
    },
    {
      "cell_type": "code",
      "source": [
        "food_list = [\n",
        "    [\"Bơ\", \"Pizza\", \"Sữa\"],\n",
        "    [\"Xúc xích\", \"Táo\", \"Kem\"],\n",
        "    [\"Cà rốt\", \"Bánh quy\", \"Kẹo\"],\n",
        "    [\"rau\", \"đậu\", \"bột\"]\n",
        "]\n",
        "search_item = [\"Cà rốt\",\"Táo\",\"Sữa\"]\n",
        "#print(\"Số hàng:\", len(food_list))\n",
        "#print(\"Số cột: \", len(food_list[i]))\n",
        "for i in range(len(food_list)):\n",
        "  #print(f\"{i}. {food_list[i]}\")\n",
        "  for j in range (len(food_list[i])):\n",
        "    #print(f\"{j}_{food_list[i][j]}\")\n",
        "    if food_list[i][j] in search_item:\n",
        "      print(f\"{food_list[i][j]} được tìm thấy:\"\n",
        "            f\" ở cột {i+1} và hàng {j+1}\")\n"
      ],
      "metadata": {
        "colab": {
          "base_uri": "https://localhost:8080/"
        },
        "id": "fuXnXhhih5UV",
        "outputId": "0b189ddf-048c-4630-ea54-dc8736d36d9d"
      },
      "execution_count": null,
      "outputs": [
        {
          "output_type": "stream",
          "name": "stdout",
          "text": [
            "Sữa được tìm thấy: ở cột 1 và hàng 3\n",
            "Táo được tìm thấy: ở cột 2 và hàng 2\n",
            "Cà rốt được tìm thấy: ở cột 3 và hàng 1\n"
          ]
        }
      ]
    },
    {
      "cell_type": "code",
      "source": [
        "food_list = [\n",
        "    [\"Bơ\", \"Pizza\", \"Sữa\"],\n",
        "    [\"Xúc xích\", \"Táo\", \"Kem\"],\n",
        "    [\"Cà rốt\", \"Bánh quy\", \"Kẹo\"],\n",
        "    [\"rau\", \"đậu\", \"bột\"]\n",
        "]\n",
        "search_item = [\"Cà rốt\",\"Táo\",\"Sữa\"]\n",
        "for i, row in enumerate(food_list, start=1):\n",
        "  print(f\"Hàng {i}. {row}\")\n",
        "  for j, item in enumerate(row, start=1):\n",
        "    print(f\"Cột {j}_{item}\")\n",
        "    if item in search_item:\n",
        "      print(f\"{item} được tìm thấy:\"\n",
        "            f\" ở cột {i+1} và hàng {j+1}\")"
      ],
      "metadata": {
        "colab": {
          "base_uri": "https://localhost:8080/"
        },
        "id": "OGBrqDbhpmI0",
        "outputId": "ab82f9b6-67be-4ecd-dc0a-559896fe8ed1"
      },
      "execution_count": null,
      "outputs": [
        {
          "output_type": "stream",
          "name": "stdout",
          "text": [
            "Hàng 1. ['Bơ', 'Pizza', 'Sữa']\n",
            "Cột 1_Bơ\n",
            "Cột 2_Pizza\n",
            "Cột 3_Sữa\n",
            "Sữa được tìm thấy: ở cột 2 và hàng 4\n",
            "Hàng 2. ['Xúc xích', 'Táo', 'Kem']\n",
            "Cột 1_Xúc xích\n",
            "Cột 2_Táo\n",
            "Táo được tìm thấy: ở cột 3 và hàng 3\n",
            "Cột 3_Kem\n",
            "Hàng 3. ['Cà rốt', 'Bánh quy', 'Kẹo']\n",
            "Cột 1_Cà rốt\n",
            "Cà rốt được tìm thấy: ở cột 4 và hàng 2\n",
            "Cột 2_Bánh quy\n",
            "Cột 3_Kẹo\n",
            "Hàng 4. ['rau', 'đậu', 'bột']\n",
            "Cột 1_rau\n",
            "Cột 2_đậu\n",
            "Cột 3_bột\n"
          ]
        }
      ]
    },
    {
      "cell_type": "code",
      "source": [
        "food_list = [\n",
        "    [\"Bơ\", \"Pizza\", \"Sữa\"],\n",
        "    [\"Xúc xích\", \"Táo\", \"Kem\"],\n",
        "    [\"Cà rốt\", \"Bánh quy\", \"Kẹo\"],\n",
        "    [\"rau\", \"đậu\", \"bột\"]\n",
        "]\n",
        "search_item = [\"Cà rốt\",\"Táo\",\"Sữa\"]\n",
        "for i, row in enumerate(food_list, start=1):\n",
        "  #print(f\"Hàng {i}. {row}\")\n",
        "  for j, item in enumerate(row, start=1):\n",
        "    #print(f\"Cột {j}_{item}\")\n",
        "    if item in search_item:\n",
        "      print(f\"{item} được tìm thấy:\"\n",
        "            f\" ở cột {i+1} và hàng {j+1}\")"
      ],
      "metadata": {
        "colab": {
          "base_uri": "https://localhost:8080/"
        },
        "id": "2P7XRy2cxAk0",
        "outputId": "313e18c3-99ed-45a3-f3d4-c2c217707e69"
      },
      "execution_count": null,
      "outputs": [
        {
          "output_type": "stream",
          "name": "stdout",
          "text": [
            "Sữa được tìm thấy: ở cột 2 và hàng 4\n",
            "Táo được tìm thấy: ở cột 3 và hàng 3\n",
            "Cà rốt được tìm thấy: ở cột 4 và hàng 2\n"
          ]
        }
      ]
    },
    {
      "cell_type": "code",
      "source": [
        "# DAY 9_ Tính giá trị Trung vị Median. Sử dụng làm sort với List và thao tác các phần tử trong List.\n",
        "\n",
        "lst_data =[]\n",
        "for number in range (1,11):\n",
        "  lst_data.append(number)\n",
        "print(lst_data)\n",
        "#Tính Trung vị\n",
        "lst = lst_data\n",
        "def tinhtoan(lst):\n",
        "  n = len(lst)\n",
        "  sorted_lst = sorted(lst) # Sắp xếp các con số trong list theo thứ tự TĂNG dần\n",
        "  if n%2 != 0:\n",
        "    median = sorted_lst[n/2]\n",
        "  else:\n",
        "    median = (sorted_lst[n//2] + sorted_lst[n//2-1]) / 2\n",
        "  return (median)\n",
        "\n",
        "median = tinhtoan(lst)\n",
        "print(f\"Giá trị Trung vị của dãy số: {median}\")\n",
        "\n",
        "# tao 1 list mới chứa các số lẻ trong lst_data theo thứ tự GIẢM dần\n",
        "lst_odd =[]\n",
        "for item in (lst_data):\n",
        "  if item % 2 != 0:\n",
        "    lst_odd.append(item)\n",
        "lst_odd.sort(reverse=True)\n",
        "print(lst_odd)"
      ],
      "metadata": {
        "colab": {
          "base_uri": "https://localhost:8080/"
        },
        "id": "1HX94B7g9vTk",
        "outputId": "05c5d7d7-7da2-42e0-d0e6-fbb734cbdc77"
      },
      "execution_count": null,
      "outputs": [
        {
          "output_type": "stream",
          "name": "stdout",
          "text": [
            "[1, 2, 3, 4, 5, 6, 7, 8, 9, 10]\n",
            "Giá trị Trung vị của dãy số: 5.5\n",
            "[9, 7, 5, 3, 1]\n"
          ]
        }
      ]
    },
    {
      "cell_type": "code",
      "source": [
        "# DAY 10_ Numpy Array & Pytorch/Tensorflow Tensor\n",
        "# Tạo Numpy Array, Pytorch Tebsor, Tensorflow Tensor từ DS 1 chiều\n",
        "\n",
        "import numpy as np\n",
        "import torch\n",
        "import tensorflow as tf\n",
        "\n",
        "lst_1D = [1,2,3,4,5]\n",
        "\n",
        "numpy_1D = np.array(lst_1D)\n",
        "print(numpy_1D.shape)\n",
        "print(numpy_1D.dtype)\n",
        "print(type(numpy_1D))\n",
        "print(\"======================\")\n",
        "\n",
        "tensor_1D = torch.tensor(lst_1D)\n",
        "print(tensor_1D.shape)\n",
        "print(tensor_1D.dtype)\n",
        "print(type(tensor_1D))\n",
        "print(tensor_1D.device)\n",
        "print(\"======================\")\n",
        "\n",
        "tf_tensor_1D = tf.convert_to_tensor(lst_1D)\n",
        "print(tf_tensor_1D.shape)\n",
        "print(tf_tensor_1D.dtype)\n",
        "print(type(tf_tensor_1D))\n",
        "print(tf_tensor_1D.device)\n",
        "print(\"************************************\")\n",
        "\n",
        "lst_2D = [[1, 2],\n",
        "          [3, 4],\n",
        "          [5, 6]]\n",
        "numpy_2D = np.array(lst_2D)\n",
        "print(numpy_2D.shape)\n",
        "print(numpy_2D.dtype)\n",
        "print(type(numpy_2D))\n",
        "print(\"======================\")\n",
        "\n",
        "tensor_2D = torch.tensor(lst_2D)\n",
        "print(tensor_2D.shape)\n",
        "print(tensor_2D.dtype)\n",
        "print(type(tensor_2D))\n",
        "print(tensor_2D.device)\n",
        "print(\"======================\")\n",
        "\n",
        "tf_tensor_2D = tf.convert_to_tensor(lst_2D)\n",
        "print(tf_tensor_2D.shape)\n",
        "print(tf_tensor_2D.dtype)\n",
        "print(type(tf_tensor_2D))\n",
        "print(tf_tensor_2D.device)\n"
      ],
      "metadata": {
        "colab": {
          "base_uri": "https://localhost:8080/"
        },
        "id": "4c6yb2KL5sZT",
        "outputId": "c5a28513-ea7a-412a-8728-ff6031da4bdd"
      },
      "execution_count": null,
      "outputs": [
        {
          "output_type": "stream",
          "name": "stdout",
          "text": [
            "(5,)\n",
            "int64\n",
            "<class 'numpy.ndarray'>\n",
            "======================\n",
            "torch.Size([5])\n",
            "torch.int64\n",
            "<class 'torch.Tensor'>\n",
            "cpu\n",
            "======================\n",
            "(5,)\n",
            "<dtype: 'int32'>\n",
            "<class 'tensorflow.python.framework.ops.EagerTensor'>\n",
            "/job:localhost/replica:0/task:0/device:CPU:0\n",
            "************************************\n",
            "(3, 2)\n",
            "int64\n",
            "<class 'numpy.ndarray'>\n",
            "======================\n",
            "torch.Size([3, 2])\n",
            "torch.int64\n",
            "<class 'torch.Tensor'>\n",
            "cpu\n",
            "======================\n",
            "(3, 2)\n",
            "<dtype: 'int32'>\n",
            "<class 'tensorflow.python.framework.ops.EagerTensor'>\n",
            "/job:localhost/replica:0/task:0/device:CPU:0\n"
          ]
        }
      ]
    },
    {
      "cell_type": "code",
      "source": [
        "# DAY 11_ xử lý text trong NLP dùng list. Thuật toán Bag of Words_BoW\n",
        "\n",
        "lst = [\"Tôi thích môn Toán\", \"Tôi thích AI\", \"Tôi thích Âm nhạc\"]\n",
        "data = ' '.join(lst) # gộp các phần tử thành 1 dòng\n",
        "print(data)\n",
        "\n",
        "words = list(set(data.split())) # phân tách thành từng từ và set xuất hiện 1 lần trong list\n",
        "print(words)\n",
        "\n",
        "for i, word in enumerate(words):\n",
        "  print(i,word)\n",
        "\n",
        "sentence = (\"Tôi thích AI thích Toán\")\n",
        "n = len(words)\n",
        "sentence_vec = [0]*n # tạo Vecto rỗng có cùng độ dài phần tử words, các phần tử bằng 0\n",
        "sen_word = sentence.split()\n",
        "print(sen_word)\n",
        "for word in sen_word: # đếm từ xuất hiện trong VD so sánh với từ trong List gốc, cũa mỗi lần xuất hiện thì tăng thêm 1\n",
        "  sentence_vec[words.index(word)] +=1\n",
        "print(sentence_vec)\n",
        "\n"
      ],
      "metadata": {
        "colab": {
          "base_uri": "https://localhost:8080/"
        },
        "id": "CSDZ2FGvCwz1",
        "outputId": "c35cf420-de9b-4643-eaf3-46aeed116701"
      },
      "execution_count": null,
      "outputs": [
        {
          "output_type": "stream",
          "name": "stdout",
          "text": [
            "Tôi thích môn Toán Tôi thích AI Tôi thích Âm nhạc\n",
            "['AI', 'môn', 'Âm', 'Toán', 'Tôi', 'thích', 'nhạc']\n",
            "0 AI\n",
            "1 môn\n",
            "2 Âm\n",
            "3 Toán\n",
            "4 Tôi\n",
            "5 thích\n",
            "6 nhạc\n",
            "['Tôi', 'thích', 'AI', 'thích', 'Toán']\n",
            "[1, 0, 0, 1, 1, 2, 0]\n"
          ]
        }
      ]
    },
    {
      "cell_type": "code",
      "source": [
        "# DAY 12_ Khởi tao các array với giá trị 0,1 & chỉ định, cùng kích thước tuỳ ý; Sử dụng hàm zeros, ones, full/fill\n",
        "import numpy as np\n",
        "import torch\n",
        "import tensorflow as tf\n",
        "\n",
        "numpy_zero_2D = np.zeros([2,3])\n",
        "torch_zero_2D = torch.zeros([2,3])\n",
        "tf_zero_2D = tf.zeros([2,3])\n",
        "print(numpy_zero_2D)\n",
        "print(torch_zero_2D)\n",
        "print(tf_zero_2D)\n",
        "\n",
        "numpy_ones_2D = np.ones([3,3,3,])\n",
        "torch_ones_2D = torch.ones([3,3,3,])\n",
        "tf_ones_2D = tf.ones([3,3,3,])\n",
        "print(numpy_ones_2D)\n",
        "print(torch_ones_2D)\n",
        "print(tf_ones_2D)\n",
        "\n",
        "numpy_ones_2D = np.full([2,3],4)\n",
        "torch_ones_2D = torch.full([2,3],4)\n",
        "tf_ones_2D = tf.fill([2,3],4)\n",
        "print(numpy_ones_2D)\n",
        "print(torch_ones_2D)\n",
        "print(tf_ones_2D)"
      ],
      "metadata": {
        "colab": {
          "base_uri": "https://localhost:8080/"
        },
        "id": "HC7B4AjXI8Ax",
        "outputId": "df8a6962-3964-4af8-e178-92b719584a96"
      },
      "execution_count": null,
      "outputs": [
        {
          "output_type": "stream",
          "name": "stdout",
          "text": [
            "[[0. 0. 0.]\n",
            " [0. 0. 0.]]\n",
            "tensor([[0., 0., 0.],\n",
            "        [0., 0., 0.]])\n",
            "tf.Tensor(\n",
            "[[0. 0. 0.]\n",
            " [0. 0. 0.]], shape=(2, 3), dtype=float32)\n",
            "[[[1. 1. 1.]\n",
            "  [1. 1. 1.]\n",
            "  [1. 1. 1.]]\n",
            "\n",
            " [[1. 1. 1.]\n",
            "  [1. 1. 1.]\n",
            "  [1. 1. 1.]]\n",
            "\n",
            " [[1. 1. 1.]\n",
            "  [1. 1. 1.]\n",
            "  [1. 1. 1.]]]\n",
            "tensor([[[1., 1., 1.],\n",
            "         [1., 1., 1.],\n",
            "         [1., 1., 1.]],\n",
            "\n",
            "        [[1., 1., 1.],\n",
            "         [1., 1., 1.],\n",
            "         [1., 1., 1.]],\n",
            "\n",
            "        [[1., 1., 1.],\n",
            "         [1., 1., 1.],\n",
            "         [1., 1., 1.]]])\n",
            "tf.Tensor(\n",
            "[[[1. 1. 1.]\n",
            "  [1. 1. 1.]\n",
            "  [1. 1. 1.]]\n",
            "\n",
            " [[1. 1. 1.]\n",
            "  [1. 1. 1.]\n",
            "  [1. 1. 1.]]\n",
            "\n",
            " [[1. 1. 1.]\n",
            "  [1. 1. 1.]\n",
            "  [1. 1. 1.]]], shape=(3, 3, 3), dtype=float32)\n",
            "[[4 4 4]\n",
            " [4 4 4]]\n",
            "tensor([[4, 4, 4],\n",
            "        [4, 4, 4]])\n",
            "tf.Tensor(\n",
            "[[4 4 4]\n",
            " [4 4 4]], shape=(2, 3), dtype=int32)\n"
          ]
        }
      ]
    },
    {
      "cell_type": "code",
      "source": [
        "# DAY 13_Tìm kiếm các giá trị None, trạng thái không giá trị, trong List\n",
        "\n",
        "def None_first(lst):\n",
        "  result = -1\n",
        "  for index, value in enumerate(lst):\n",
        "    if value == None:\n",
        "      result = index\n",
        "      break\n",
        "  return(result)\n",
        "\n",
        "def None_list(lst):\n",
        "  lst_index = []\n",
        "  for index, value in enumerate(lst):\n",
        "    if value == None:\n",
        "      lst_index.append(index)\n",
        "  return(lst_index)\n",
        "\n",
        "lst = [1, 1.1 , None, 1.4 , None, 1.5 , None, 1.6]\n",
        "first_Index = None_first(lst)\n",
        "lst_index = None_list(lst)\n",
        "print(f\"Vị trí None đầu tiên là {first_Index} trong các vị trí None {lst_index}\")"
      ],
      "metadata": {
        "colab": {
          "base_uri": "https://localhost:8080/"
        },
        "id": "Sch2_JSwUQcS",
        "outputId": "18573063-9935-46f3-d7b1-26437df0551d"
      },
      "execution_count": null,
      "outputs": [
        {
          "output_type": "stream",
          "name": "stdout",
          "text": [
            "Vị trí None đầu tiên là 2 trong các vị trí None [2, 4, 6]\n"
          ]
        }
      ]
    },
    {
      "cell_type": "code",
      "source": [
        "# DAY 14_phép toán Transpose và Summation\n",
        "\n",
        "# Viết chương trình tạo hai Numpy array, Pytorch tensor, Tensorflow tensor với các giá trị số nguyên ngẫu nhiên trong khoảng [-10, 10) với kích thước (3, 4).\n",
        "# Sau đó chuyển vị array, tensor thứ 2 và thực hiện phép nhân matrix multiplication. Lưu ý: sử dụng seed=2024\n",
        "\n",
        "import numpy as np\n",
        "\n",
        "# Đặt seed để đảm bảo kết quả ngẫu nhiên có thể tái tạo được\n",
        "np.random.seed(2024)\n",
        "\n",
        "# Tạo 2 mảng với các giá trị số nguyên ngẫu nhiên trong khoảng [-10, 10) với kích thước (3, 4)\n",
        "arr_1 = np.random.randint(-10, 10, (3, 4))\n",
        "arr_2 = np.random.randint(-10, 10, (3, 4))\n",
        "\n",
        "# Chuyển vị arr_2\n",
        "arr2_transposed = np.transpose(arr_2)\n",
        "# arr2_transposed = arr_2.T\n",
        "\n",
        "# Nhân ma trận\n",
        "result_matmul = np.matmul(arr_1, arr2_transposed)\n",
        "# In ra màn hình\n",
        "print(\"array 1:\\n\", arr_1)\n",
        "print(\"array 2:\\n\", arr_2)\n",
        "print(\"array 2 sau khi chuyển vị:\\n\", arr2_transposed)\n",
        "print(\"Kết quả phép nhân arr_1 với  arr_2:\\n\", result_matmul )"
      ],
      "metadata": {
        "colab": {
          "base_uri": "https://localhost:8080/"
        },
        "id": "q1wGjnvWbeRm",
        "outputId": "17e99f8a-0841-4bb6-e565-4d27523a046e"
      },
      "execution_count": null,
      "outputs": [
        {
          "output_type": "stream",
          "name": "stdout",
          "text": [
            "array 1:\n",
            " [[ -2 -10 -10  -6]\n",
            " [ -1  -9  -7   0]\n",
            " [ -8 -10  -5   7]]\n",
            "array 2:\n",
            " [[ 5  0  4  5]\n",
            " [ 1 -3  8 -1]\n",
            " [-4  0 -9 -5]]\n",
            "array 2 sau khi chuyển vị:\n",
            " [[ 5  1 -4]\n",
            " [ 0 -3  0]\n",
            " [ 4  8 -9]\n",
            " [ 5 -1 -5]]\n",
            "Kết quả phép nhân arr_1 với  arr_2:\n",
            " [[-80 -46 128]\n",
            " [-33 -30  67]\n",
            " [-25 -25  42]]\n"
          ]
        }
      ]
    },
    {
      "cell_type": "code",
      "source": [
        "import torch\n",
        "# Thiết lập seed để đảm bảo kết quả ngẫu nhiên có thể tái tạo được\n",
        "torch.manual_seed(2024)\n",
        "\n",
        "# Tạo 2 tensor với các giá trị ngẫu nhiên trong khoảng [-10, 10)\n",
        "tensor_1 = torch.randint(-10, 10, size=(3, 4))\n",
        "tensor_2 = torch.randint(-10, 10, size=(3, 4))\n",
        "\n",
        "# Chuyển vị tensor\n",
        "#tensor2_transposed = torch.t(tensor_2)\n",
        "# Cách 2: Sử dụng phương thức torch.transpose()\n",
        "# Cách 3: sử dụng toán tử chuyển vị T\n",
        "tensor2_transposed = tensor_2.T\n",
        "\n",
        "# Nhân ma trận\n",
        "result_matmul = torch.matmul(tensor_1, tensor2_transposed)\n",
        "\n",
        "# In ra màn hình\n",
        "print(\"tensor 2:\\n\", tensor_1)\n",
        "print(\"tensor 2:\\n\", tensor_2)\n",
        "print(\"tensor 2 sau khi chuyển vị:\\n\", tensor2_transposed)\n",
        "print(\"Kết quả phép nhân tensor_1 với  tensor_2:\\n\", result_matmul )"
      ],
      "metadata": {
        "colab": {
          "base_uri": "https://localhost:8080/"
        },
        "id": "SKu-t4BL5iz_",
        "outputId": "f32d92ef-0a3a-4511-c7a1-2269436b6e0e"
      },
      "execution_count": null,
      "outputs": [
        {
          "output_type": "stream",
          "name": "stdout",
          "text": [
            "tensor 2:\n",
            " tensor([[  2,   0,  -6, -10],\n",
            "        [ -7, -10,   0,   1],\n",
            "        [  3,   9,   7,  -6]])\n",
            "tensor 2:\n",
            " tensor([[  1,   8,   0,  -2],\n",
            "        [ -9, -10,  -9,   0],\n",
            "        [ -3,  -7,  -4,   8]])\n",
            "tensor 2 sau khi chuyển vị:\n",
            " tensor([[  1,  -9,  -3],\n",
            "        [  8, -10,  -7],\n",
            "        [  0,  -9,  -4],\n",
            "        [ -2,   0,   8]])\n",
            "Kết quả phép nhân tensor_1 với  tensor_2:\n",
            " tensor([[  22,   36,  -62],\n",
            "        [ -89,  163,   99],\n",
            "        [  87, -180, -148]])\n"
          ]
        }
      ]
    },
    {
      "cell_type": "code",
      "source": [
        "import tensorflow as tf\n",
        "# Thiết lập seed để đảm bảo kết quả ngẫu nhiên có thể tái tạo được\n",
        "tf.random.set_seed(2024)\n",
        "\n",
        "# Tạo 2 tensor với các giá trị ngẫu nhiên trong khoảng [-10, 10)\n",
        "tensor_1 = tf.random.uniform((3, 4), minval=-10, maxval=10, dtype=tf.dtypes.int32)\n",
        "tensor_2 = tf.random.uniform((3, 4), minval=-10, maxval=10, dtype=tf.dtypes.int32)\n",
        "# Chuyển vị tensor\n",
        "tensor2_transposed = tf.transpose(tensor_1)\n",
        "\n",
        "# Nhân ma trận\n",
        "result_matmul = tf.matmul(tensor_1, tensor2_transposed)\n",
        "\n",
        "# In ra màn hình\n",
        "print(\"tensor 1:\\n\", tensor_1)\n",
        "print(\"tensor 2:\\n\", tensor_2)\n",
        "print(\"tensor 2 sau khi chuyển vị:\\n\", tensor2_transposed)\n",
        "print(\"Kết quả phép nhân tensor_1 với  tensor_2:\", result_matmul)"
      ],
      "metadata": {
        "colab": {
          "base_uri": "https://localhost:8080/"
        },
        "id": "C3A6_xmH50PA",
        "outputId": "5eb0a567-b4ff-4328-e64f-4e688f5f6a9e"
      },
      "execution_count": null,
      "outputs": [
        {
          "output_type": "stream",
          "name": "stdout",
          "text": [
            "tensor 1:\n",
            " tf.Tensor(\n",
            "[[-6 -2  0 -2]\n",
            " [ 4  4 -9  3]\n",
            " [ 7  1  2 -5]], shape=(3, 4), dtype=int32)\n",
            "tensor 2:\n",
            " tf.Tensor(\n",
            "[[-3 -7  9  3]\n",
            " [ 2 -5 -3 -5]\n",
            " [ 4 -3 -3  5]], shape=(3, 4), dtype=int32)\n",
            "tensor 2 sau khi chuyển vị:\n",
            " tf.Tensor(\n",
            "[[-6  4  7]\n",
            " [-2  4  1]\n",
            " [ 0 -9  2]\n",
            " [-2  3 -5]], shape=(4, 3), dtype=int32)\n",
            "Kết quả phép nhân tensor_1 với  tensor_2: tf.Tensor(\n",
            "[[ 44 -38 -34]\n",
            " [-38 122  -1]\n",
            " [-34  -1  79]], shape=(3, 3), dtype=int32)\n"
          ]
        }
      ]
    },
    {
      "cell_type": "code",
      "source": [
        "# Câu 2: Viết chương trình tạo một Numpy array, Pytorch tensor, Tensorflow tensor với các giá trị số nguyên ngẫu nhiên trong khoảng [-10, 10) với kích thước (3, 3).\n",
        "# Sau đó hãy tính tổng của toàn bộ tensor, array, tiếp theo tính tổng theo chiều dọc, chiều ngang . Lưu ý: sử dụng seed=2024\n",
        "\n",
        "import numpy as np\n",
        "# Đặt seed để đảm bảo kết quả ngẫu nhiên có thể tái tạo được\n",
        "np.random.seed(2024)\n",
        "\n",
        "# Tạo mảng với các giá trị số nguyên ngẫu nhiên trong\n",
        "# khoảng [-10, 10) với kích thước (3, 3)\n",
        "arr = np.random.randint(-10, 10, (3, 3))\n",
        "\n",
        "# Tính tổng của tất cả các phần tử trong mảng\n",
        "total_sum = np.sum(arr)\n",
        "\n",
        "# Tính tổng theo cột (theo chiều dọc)\n",
        "column_sum = np.sum(arr, axis=0)\n",
        "\n",
        "# Tính tổng theo hàng (theo chiều ngang)\n",
        "row_sum = np.sum(arr, axis=1)\n",
        "\n",
        "# In ra màn hình\n",
        "print(\"Mảng:\\n\", arr)\n",
        "print(\"Tổng của tất cả các phần tử trong mảng:\\n\", total_sum)\n",
        "print(\"Tổng theo cột:\\n\", column_sum)\n",
        "print(\"Tổng theo hàng:\\n\", row_sum)\n"
      ],
      "metadata": {
        "colab": {
          "base_uri": "https://localhost:8080/"
        },
        "id": "oZf0BtgG5UZa",
        "outputId": "1ce7906f-bc3f-44b2-f40a-063ea344e14a"
      },
      "execution_count": null,
      "outputs": [
        {
          "output_type": "stream",
          "name": "stdout",
          "text": [
            "Mảng:\n",
            " [[ -2 -10 -10]\n",
            " [ -6  -1  -9]\n",
            " [ -7   0  -8]]\n",
            "Tổng của tất cả các phần tử trong mảng:\n",
            " -53\n",
            "Tổng theo cột:\n",
            " [-15 -11 -27]\n",
            "Tổng theo hàng:\n",
            " [-22 -16 -15]\n"
          ]
        }
      ]
    },
    {
      "cell_type": "code",
      "source": [
        "import torch\n",
        "# Thiết lập seed để đảm bảo kết quả ngẫu nhiên có thể tái tạo được\n",
        "torch.manual_seed(2024)\n",
        "\n",
        "# Tạo tensor với các giá trị ngẫu nhiên trong khoảng [-10, 10)\n",
        "tensor_1 = torch.randint(-10, 10, size=(3, 3))\n",
        "# Tính tổng tensor\n",
        "tensor_sum = torch.sum(tensor_1)\n",
        "# Tính tổng tensor theo cột axis = 0\n",
        "tensor_sum_axis_0 = torch.sum(tensor_1, axis=0)\n",
        "# Tính tổng tensor theo hàng axis = 1\n",
        "tensor_sum_axis_1 = torch.sum(tensor_1, axis=1)\n",
        "\n",
        "# In ra màn hình\n",
        "print(\"tensor:\\n\", tensor_1)\n",
        "print(\"Tổng các phần tử trong tensor:\\n\", tensor_sum)\n",
        "print(\"Tổng theo cột:\\n\", tensor_sum_axis_0)\n",
        "print(\"Tổng theo hàng:\\n\", tensor_sum_axis_1)"
      ],
      "metadata": {
        "colab": {
          "base_uri": "https://localhost:8080/"
        },
        "id": "ILFCLe6g5Uon",
        "outputId": "bdb154d2-be3c-471e-f45d-9926de6ea8b0"
      },
      "execution_count": null,
      "outputs": [
        {
          "output_type": "stream",
          "name": "stdout",
          "text": [
            "tensor:\n",
            " tensor([[  2,   0,  -6],\n",
            "        [-10,  -7, -10],\n",
            "        [  0,   1,   3]])\n",
            "Tổng các phần tử trong tensor:\n",
            " tensor(-27)\n",
            "Tổng theo cột:\n",
            " tensor([ -8,  -6, -13])\n",
            "Tổng theo hàng:\n",
            " tensor([ -4, -27,   4])\n"
          ]
        }
      ]
    },
    {
      "cell_type": "code",
      "source": [
        "import tensorflow as tf\n",
        "# Thiết lập seed để đảm bảo kết quả ngẫu nhiên có thể tái tạo được\n",
        "tf.random.set_seed(2024)\n",
        "\n",
        "# Tạo tensor với các giá trị ngẫu nhiên trong khoảng [-10, 10)\n",
        "tensor_1 = tf.random.uniform((3, 3), minval=-10, maxval=10, dtype=tf.dtypes.int32)\n",
        "# Tính tổng tensor\n",
        "tensor_sum = tf.reduce_sum(tensor_1)\n",
        "# Tính tổng tensor theo cột axis = 0\n",
        "tensor_sum_axis_0 = tf.reduce_sum(tensor_1, axis=0)\n",
        "# Tính tổng tensor theo hàng axis = 1\n",
        "tensor_sum_axis_1 = tf.reduce_sum(tensor_1, axis=1)\n",
        "\n",
        "# In ra màn hình\n",
        "print(\"tensor:\\n\", tensor_1)\n",
        "print(\"Tổng các phần tử trong tensor:\\n\", tensor_sum)\n",
        "print(\"Tổng theo cột:\\n\", tensor_sum_axis_0)\n",
        "print(\"Tổng theo hàng:\\n\", tensor_sum_axis_1)"
      ],
      "metadata": {
        "colab": {
          "base_uri": "https://localhost:8080/"
        },
        "id": "X42U5RF8dORA",
        "outputId": "02c0961c-2acb-4ecb-8179-5b855e4eb726"
      },
      "execution_count": null,
      "outputs": [
        {
          "output_type": "stream",
          "name": "stdout",
          "text": [
            "tensor:\n",
            " tf.Tensor(\n",
            "[[-6 -2  0]\n",
            " [-2  4  4]\n",
            " [-9  3  7]], shape=(3, 3), dtype=int32)\n",
            "Tổng các phần tử trong tensor:\n",
            " tf.Tensor(-1, shape=(), dtype=int32)\n",
            "Tổng theo cột:\n",
            " tf.Tensor([-17   5  11], shape=(3,), dtype=int32)\n",
            "Tổng theo hàng:\n",
            " tf.Tensor([-8  6  1], shape=(3,), dtype=int32)\n"
          ]
        }
      ]
    },
    {
      "cell_type": "code",
      "source": [
        "# DAY 15_ Nội suy Interpolate với phương pháp Nearest Neighbor NN\n",
        "\n",
        "def find_none_index(data):\n",
        "  result = -1\n",
        "  for index, value in enumerate(data):\n",
        "    if value == None:\n",
        "      result = index\n",
        "      break\n",
        "  return(result)\n",
        "\n",
        "def find_end(data,index):\n",
        "  end = len(data)\n",
        "  for i in range(index+1, len(data), 1):\n",
        "    if data[i] != None:\n",
        "      end = i\n",
        "      break\n",
        "  return end\n",
        "\n",
        "def interpolate_nearest_neighbor(data, none_position):\n",
        "  nearest_neighbor = None\n",
        "  nearest_distance = float('inf')\n",
        "  for index in range(len(data)):\n",
        "    if data[index] is not None and abs(index-none_position) < nearest_distance:\n",
        "      nearest_neighbor = data[index]\n",
        "      nearest_distance = abs(index-none_position)\n",
        "  return nearest_neighbor\n",
        "\n",
        "def process_data(data):\n",
        "  while True:\n",
        "    index = find_none_index(data)\n",
        "    if index == -1:\n",
        "      break\n",
        "\n",
        "    begin = index - 1\n",
        "    end = find_end(data,index)\n",
        "\n",
        "    if begin<0:\n",
        "      y = data[end]\n",
        "    elif end >= data[end]:\n",
        "      y = data[begin]\n",
        "    else:\n",
        "      y = interpolate_nearest_neighbor(data, none_position)\n",
        "    data[index] = y\n",
        "  return data\n",
        "\n",
        "data = [1, 1.1 , None, 1.4 , None, 1.5 , None, 2.0]\n",
        "result = process_data(data)\n",
        "print(result)\n"
      ],
      "metadata": {
        "colab": {
          "base_uri": "https://localhost:8080/"
        },
        "id": "zoGkYHDq6p3v",
        "outputId": "314b9420-511b-45e4-896e-3e286e9f3b10"
      },
      "execution_count": null,
      "outputs": [
        {
          "output_type": "stream",
          "name": "stdout",
          "text": [
            "[1, 1.1, 1.1, 1.4, 1.4, 1.5, 1.5, 2.0]\n"
          ]
        }
      ]
    },
    {
      "cell_type": "code",
      "source": [],
      "metadata": {
        "id": "UxbUTqul3Z-i"
      },
      "execution_count": null,
      "outputs": []
    },
    {
      "cell_type": "markdown",
      "source": [
        "**Triển khai Ứng Dụng dùng Streamlit**\n",
        "[Phép toán Tính GIAI THỪA](https://toan-giaithua-app.streamlit.app/)"
      ],
      "metadata": {
        "id": "QD-CXpsZ3ahG"
      }
    },
    {
      "cell_type": "code",
      "source": [
        "# DAY 16_  triển khai một ứng dụng dùng Streamlit  https://toan-giaithua-app.streamlit.app/\n",
        "\n",
        "# Bài toán Tính Giai Thừa bằng phương pháp Đệ quy: Hàm gọi lại chính nó trong câu lệnh của Hàm\n",
        "n = int(input(\"Nhập số nguyên dương:\"))\n",
        "def fact(n):\n",
        "  if n == 0 or n ==1:\n",
        "    return 1\n",
        "  else:\n",
        "    return n*fact(n-1)\n",
        "print(f\"{n}! có giá trị là: {fact(n)}\")\n",
        "\n",
        "# Chương trình tạo Ứng dụng\n",
        "def fact(n):\n",
        "  if n == 0 or n ==1:\n",
        "    return 1\n",
        "  else:\n",
        "    return n*fact(n-1)\n",
        "\n",
        "import streamlit as st\n",
        "from factorial import fact\n",
        "\n",
        "def main():\n",
        "  st.title(\"TOÁN GIAI THỪA\")\n",
        "  number = st.number_input(\"Nhập Số Nguyên dương\", min_value =0, max_value =900)\n",
        "\n",
        "  if st.button(\"Tính Toán\"):\n",
        "    result = fact(number) # Gọi hàm fact() từ file factorial.ny đã import\n",
        "    st.write(f\"{number} giai thừa ({number}!) có giá trị: {result}\")\n",
        "    st.balloons()\n",
        "\n",
        "if __name__ == \"__main__\":\n",
        "  main()"
      ],
      "metadata": {
        "id": "IYdHADCH3T17"
      },
      "execution_count": null,
      "outputs": []
    },
    {
      "cell_type": "code",
      "source": [
        "# DAY 17_ List\n",
        "lst_data = [[1,2,3],[4,5,6,],[7,8,9]]\n",
        "lst_sub_data = []\n",
        "for i in range(len(lst_data)):\n",
        "  sub_row = [lst_data[i][0], lst_data[i][2]]\n",
        "  lst_sub_data.append(sub_row)\n",
        "print(lst_sub_data)"
      ],
      "metadata": {
        "id": "u6f1bLzCQJRF",
        "colab": {
          "base_uri": "https://localhost:8080/"
        },
        "outputId": "b0852fa0-6ce3-4285-fefa-34b41b0d5cbc"
      },
      "execution_count": null,
      "outputs": [
        {
          "output_type": "stream",
          "name": "stdout",
          "text": [
            "[[1, 2, 3], [4, 5, 6], [7, 8, 9]]\n",
            "[[1, 3], [4, 6], [7, 9]]\n"
          ]
        }
      ]
    },
    {
      "cell_type": "code",
      "source": [
        "# DAY 18_ List Comprehension\n",
        "'''\n",
        "EXPRESION for ITEM in INTERATION if CONDITION\n",
        "\n",
        "EXPRESION:  Biểu thức được tính toán cho mỗi phần tử trong vòng lặp\n",
        "ITEM        Biến đại diện cho từng phần tử trong vòng lặp\n",
        "INTERATION: Danh sách dữ liệu cần được lập qua\n",
        "CONDITION : Điều kiện\n",
        "'''\n",
        "stop_word = [\"I\",\"love\",\"and\",\"to\"]\n",
        "data = \"I love AI and listen to music\"\n",
        "lst_compare = data.split()\n",
        "print(lst_compare) # DS dữ liệu so sánh\n",
        "# Những từ trong stop_word xuất hiện trong lst_compare sẽ bị loại bỏ\n",
        "result = [word for word in lst_compare if word not in stop_word]\n",
        "print(result)\n"
      ],
      "metadata": {
        "colab": {
          "base_uri": "https://localhost:8080/"
        },
        "id": "9a9i-eBS8sKF",
        "outputId": "54ab1907-9200-42f5-ab74-1f461011ac63"
      },
      "execution_count": null,
      "outputs": [
        {
          "output_type": "stream",
          "name": "stdout",
          "text": [
            "['I', 'love', 'AI', 'and', 'listen', 'to', 'music']\n",
            "['AI', 'listen', 'music']\n"
          ]
        }
      ]
    },
    {
      "cell_type": "code",
      "source": [
        "# Tupple\n",
        "my_tuple1=(2,3)\n",
        "my_tuple2=(3,6)\n",
        "# tổng và tích 2 vector\n",
        "sum_vector1 = tuple([i+j for i,j in zip(my_tuple1,my_tuple2) ])\n",
        "multil_vector2 = tuple([i*j for i,j in zip(my_tuple1,my_tuple2) ])\n",
        "print(f\"sum_vector1 ={sum_vector1}, multil_vector2={multil_vector2}\")\n",
        "\n",
        "#khoảng cách của 2 vector\n",
        "import math\n",
        "distance = math.sqrt(sum([(i-j)**2 for i,j in zip(my_tuple1,my_tuple2) ]))\n",
        "print(distance)\n",
        "\n",
        "#vị trí của phần tử có giá trị là 3\n",
        "value=3\n",
        "index=(my_tuple1.index(value),my_tuple2.index(value))\n",
        "print(index)"
      ],
      "metadata": {
        "colab": {
          "base_uri": "https://localhost:8080/"
        },
        "id": "bMJJ0auKBwO6",
        "outputId": "a6f008c2-035d-460c-fd26-05511bb7d1ab"
      },
      "execution_count": null,
      "outputs": [
        {
          "output_type": "stream",
          "name": "stdout",
          "text": [
            "sum_vector1 =(5, 9), multil_vector2=(6, 18)\n",
            "3.1622776601683795\n",
            "(1, 0)\n"
          ]
        }
      ]
    },
    {
      "cell_type": "code",
      "source": [
        "# DAY 19_ Read/Write file trong Python\n",
        "\n",
        "# Write file\n",
        "f = open(\"data.txt\", \"w\")\n",
        "with open(\"data.txt\", \"w\") as f:\n",
        "      f.write('-'.join(str(i) for i in range(0,11)))\n",
        "# Đọc file\n",
        "with open(\"data.txt\", \"r\") as f:\n",
        "  data1 = f.read()\n",
        "print(data1)"
      ],
      "metadata": {
        "colab": {
          "base_uri": "https://localhost:8080/"
        },
        "id": "rYVSrFROB80n",
        "outputId": "83ef2de0-201b-4623-99be-3e276f16e749"
      },
      "execution_count": 13,
      "outputs": [
        {
          "output_type": "stream",
          "name": "stdout",
          "text": [
            "0-1-2-3-4-5-6-7-8-9-10\n"
          ]
        }
      ]
    },
    {
      "cell_type": "code",
      "source": [
        "test = 'D:/AIO/40-Day Python Practice_Code/Day 19/data.txt'\n",
        "with open(test, \"r\") as testdata:\n",
        "    print(testdata.read())"
      ],
      "metadata": {
        "colab": {
          "base_uri": "https://localhost:8080/",
          "height": 178
        },
        "id": "UJ5O_7KvjP2T",
        "outputId": "68a25190-21af-45a8-e293-b4ec39d73fae"
      },
      "execution_count": 15,
      "outputs": [
        {
          "output_type": "error",
          "ename": "FileNotFoundError",
          "evalue": "[Errno 2] No such file or directory: 'D:/AIO/40-Day Python Practice_Code/Day 19/data.txt'",
          "traceback": [
            "\u001b[0;31m---------------------------------------------------------------------------\u001b[0m",
            "\u001b[0;31mFileNotFoundError\u001b[0m                         Traceback (most recent call last)",
            "\u001b[0;32m<ipython-input-15-814c41d4f11b>\u001b[0m in \u001b[0;36m<cell line: 2>\u001b[0;34m()\u001b[0m\n\u001b[1;32m      1\u001b[0m \u001b[0mtest\u001b[0m \u001b[0;34m=\u001b[0m \u001b[0;34m'D:/AIO/40-Day Python Practice_Code/Day 19/data.txt'\u001b[0m\u001b[0;34m\u001b[0m\u001b[0;34m\u001b[0m\u001b[0m\n\u001b[0;32m----> 2\u001b[0;31m \u001b[0;32mwith\u001b[0m \u001b[0mopen\u001b[0m\u001b[0;34m(\u001b[0m\u001b[0mtest\u001b[0m\u001b[0;34m,\u001b[0m \u001b[0;34m\"r\"\u001b[0m\u001b[0;34m)\u001b[0m \u001b[0;32mas\u001b[0m \u001b[0mtestdata\u001b[0m\u001b[0;34m:\u001b[0m\u001b[0;34m\u001b[0m\u001b[0;34m\u001b[0m\u001b[0m\n\u001b[0m\u001b[1;32m      3\u001b[0m     \u001b[0mprint\u001b[0m\u001b[0;34m(\u001b[0m\u001b[0mtestdata\u001b[0m\u001b[0;34m.\u001b[0m\u001b[0mread\u001b[0m\u001b[0;34m(\u001b[0m\u001b[0;34m)\u001b[0m\u001b[0;34m)\u001b[0m\u001b[0;34m\u001b[0m\u001b[0;34m\u001b[0m\u001b[0m\n",
            "\u001b[0;31mFileNotFoundError\u001b[0m: [Errno 2] No such file or directory: 'D:/AIO/40-Day Python Practice_Code/Day 19/data.txt'"
          ]
        }
      ]
    },
    {
      "cell_type": "code",
      "source": [
        "with open(\"data.txt\", \"r\") as f:\n",
        "  read_lst = f.read().split('-')\n",
        "  print(read_lst)\n",
        "results = [int(item) for item in read_lst if int(item)%3 ==0 ]\n",
        "print(results)"
      ],
      "metadata": {
        "colab": {
          "base_uri": "https://localhost:8080/"
        },
        "id": "M631t3TSC9Lz",
        "outputId": "ebecfd03-730c-4a58-c9e4-8e6915c77c5f"
      },
      "execution_count": null,
      "outputs": [
        {
          "output_type": "stream",
          "name": "stdout",
          "text": [
            "['0', '1', '2', '3', '4', '5', '6', '7', '8', '9', '10']\n",
            "[0, 3, 6, 9]\n"
          ]
        }
      ]
    },
    {
      "cell_type": "code",
      "source": [
        "!pip install newspaper3k\n",
        "# Successfully installed cssselect-1.2.0 feedfinder2-0.0.4 feedparser-6.0.11 jieba3k-0.35.1 newspaper3k-0.2.8"
      ],
      "metadata": {
        "colab": {
          "base_uri": "https://localhost:8080/"
        },
        "id": "YCVgb86Hmzlf",
        "outputId": "095ed0ec-a390-4e30-d63b-52d3e2266894"
      },
      "execution_count": null,
      "outputs": [
        {
          "output_type": "stream",
          "name": "stdout",
          "text": [
            "Collecting newspaper3k\n",
            "  Downloading newspaper3k-0.2.8-py3-none-any.whl (211 kB)\n",
            "\u001b[?25l     \u001b[90m━━━━━━━━━━━━━━━━━━━━━━━━━━━━━━━━━━━━━━━━\u001b[0m \u001b[32m0.0/211.1 kB\u001b[0m \u001b[31m?\u001b[0m eta \u001b[36m-:--:--\u001b[0m\r\u001b[2K     \u001b[91m━━━━━━━━━━━━━━━━━━━━━━━\u001b[0m\u001b[90m╺\u001b[0m\u001b[90m━━━━━━━━━━━━━━━━\u001b[0m \u001b[32m122.9/211.1 kB\u001b[0m \u001b[31m3.4 MB/s\u001b[0m eta \u001b[36m0:00:01\u001b[0m\r\u001b[2K     \u001b[90m━━━━━━━━━━━━━━━━━━━━━━━━━━━━━━━━━━━━━━━━\u001b[0m \u001b[32m211.1/211.1 kB\u001b[0m \u001b[31m3.8 MB/s\u001b[0m eta \u001b[36m0:00:00\u001b[0m\n",
            "\u001b[?25hRequirement already satisfied: beautifulsoup4>=4.4.1 in /usr/local/lib/python3.10/dist-packages (from newspaper3k) (4.12.3)\n",
            "Requirement already satisfied: Pillow>=3.3.0 in /usr/local/lib/python3.10/dist-packages (from newspaper3k) (9.4.0)\n",
            "Requirement already satisfied: PyYAML>=3.11 in /usr/local/lib/python3.10/dist-packages (from newspaper3k) (6.0.1)\n",
            "Collecting cssselect>=0.9.2 (from newspaper3k)\n",
            "  Downloading cssselect-1.2.0-py2.py3-none-any.whl (18 kB)\n",
            "Requirement already satisfied: lxml>=3.6.0 in /usr/local/lib/python3.10/dist-packages (from newspaper3k) (4.9.4)\n",
            "Requirement already satisfied: nltk>=3.2.1 in /usr/local/lib/python3.10/dist-packages (from newspaper3k) (3.8.1)\n",
            "Requirement already satisfied: requests>=2.10.0 in /usr/local/lib/python3.10/dist-packages (from newspaper3k) (2.31.0)\n",
            "Collecting feedparser>=5.2.1 (from newspaper3k)\n",
            "  Downloading feedparser-6.0.11-py3-none-any.whl (81 kB)\n",
            "\u001b[2K     \u001b[90m━━━━━━━━━━━━━━━━━━━━━━━━━━━━━━━━━━━━━━━━\u001b[0m \u001b[32m81.3/81.3 kB\u001b[0m \u001b[31m6.7 MB/s\u001b[0m eta \u001b[36m0:00:00\u001b[0m\n",
            "\u001b[?25hCollecting tldextract>=2.0.1 (from newspaper3k)\n",
            "  Downloading tldextract-5.1.2-py3-none-any.whl (97 kB)\n",
            "\u001b[2K     \u001b[90m━━━━━━━━━━━━━━━━━━━━━━━━━━━━━━━━━━━━━━━━\u001b[0m \u001b[32m97.6/97.6 kB\u001b[0m \u001b[31m8.0 MB/s\u001b[0m eta \u001b[36m0:00:00\u001b[0m\n",
            "\u001b[?25hCollecting feedfinder2>=0.0.4 (from newspaper3k)\n",
            "  Downloading feedfinder2-0.0.4.tar.gz (3.3 kB)\n",
            "  Preparing metadata (setup.py) ... \u001b[?25l\u001b[?25hdone\n",
            "Collecting jieba3k>=0.35.1 (from newspaper3k)\n",
            "  Downloading jieba3k-0.35.1.zip (7.4 MB)\n",
            "\u001b[2K     \u001b[90m━━━━━━━━━━━━━━━━━━━━━━━━━━━━━━━━━━━━━━━━\u001b[0m \u001b[32m7.4/7.4 MB\u001b[0m \u001b[31m21.1 MB/s\u001b[0m eta \u001b[36m0:00:00\u001b[0m\n",
            "\u001b[?25h  Preparing metadata (setup.py) ... \u001b[?25l\u001b[?25hdone\n",
            "Requirement already satisfied: python-dateutil>=2.5.3 in /usr/local/lib/python3.10/dist-packages (from newspaper3k) (2.8.2)\n",
            "Collecting tinysegmenter==0.3 (from newspaper3k)\n",
            "  Downloading tinysegmenter-0.3.tar.gz (16 kB)\n",
            "  Preparing metadata (setup.py) ... \u001b[?25l\u001b[?25hdone\n",
            "Requirement already satisfied: soupsieve>1.2 in /usr/local/lib/python3.10/dist-packages (from beautifulsoup4>=4.4.1->newspaper3k) (2.5)\n",
            "Requirement already satisfied: six in /usr/local/lib/python3.10/dist-packages (from feedfinder2>=0.0.4->newspaper3k) (1.16.0)\n",
            "Collecting sgmllib3k (from feedparser>=5.2.1->newspaper3k)\n",
            "  Downloading sgmllib3k-1.0.0.tar.gz (5.8 kB)\n",
            "  Preparing metadata (setup.py) ... \u001b[?25l\u001b[?25hdone\n",
            "Requirement already satisfied: click in /usr/local/lib/python3.10/dist-packages (from nltk>=3.2.1->newspaper3k) (8.1.7)\n",
            "Requirement already satisfied: joblib in /usr/local/lib/python3.10/dist-packages (from nltk>=3.2.1->newspaper3k) (1.3.2)\n",
            "Requirement already satisfied: regex>=2021.8.3 in /usr/local/lib/python3.10/dist-packages (from nltk>=3.2.1->newspaper3k) (2023.12.25)\n",
            "Requirement already satisfied: tqdm in /usr/local/lib/python3.10/dist-packages (from nltk>=3.2.1->newspaper3k) (4.66.2)\n",
            "Requirement already satisfied: charset-normalizer<4,>=2 in /usr/local/lib/python3.10/dist-packages (from requests>=2.10.0->newspaper3k) (3.3.2)\n",
            "Requirement already satisfied: idna<4,>=2.5 in /usr/local/lib/python3.10/dist-packages (from requests>=2.10.0->newspaper3k) (3.6)\n",
            "Requirement already satisfied: urllib3<3,>=1.21.1 in /usr/local/lib/python3.10/dist-packages (from requests>=2.10.0->newspaper3k) (2.0.7)\n",
            "Requirement already satisfied: certifi>=2017.4.17 in /usr/local/lib/python3.10/dist-packages (from requests>=2.10.0->newspaper3k) (2024.2.2)\n",
            "Collecting requests-file>=1.4 (from tldextract>=2.0.1->newspaper3k)\n",
            "  Downloading requests_file-2.0.0-py2.py3-none-any.whl (4.2 kB)\n",
            "Requirement already satisfied: filelock>=3.0.8 in /usr/local/lib/python3.10/dist-packages (from tldextract>=2.0.1->newspaper3k) (3.13.3)\n",
            "Building wheels for collected packages: tinysegmenter, feedfinder2, jieba3k, sgmllib3k\n",
            "  Building wheel for tinysegmenter (setup.py) ... \u001b[?25l\u001b[?25hdone\n",
            "  Created wheel for tinysegmenter: filename=tinysegmenter-0.3-py3-none-any.whl size=13538 sha256=25b3e7a4832fa095a0c06a017d484d22fb0615b09898f7102d2da86b64835504\n",
            "  Stored in directory: /root/.cache/pip/wheels/c8/d6/6c/384f58df48c00b9a31d638005143b5b3ac62c3d25fb1447f23\n",
            "  Building wheel for feedfinder2 (setup.py) ... \u001b[?25l\u001b[?25hdone\n",
            "  Created wheel for feedfinder2: filename=feedfinder2-0.0.4-py3-none-any.whl size=3340 sha256=59885586103ec25d2c6d61f5969091be7bb79185e438a1760826feb08c4b9aca\n",
            "  Stored in directory: /root/.cache/pip/wheels/97/02/e7/a1ff1760e12bdbaab0ac824fae5c1bc933e41c4ccd6a8f8edb\n",
            "  Building wheel for jieba3k (setup.py) ... \u001b[?25l\u001b[?25hdone\n",
            "  Created wheel for jieba3k: filename=jieba3k-0.35.1-py3-none-any.whl size=7398382 sha256=ea8f7cfbd35cca64c3cf8225ee8af32d285bb92e4297e1b2877267b6220fdc9a\n",
            "  Stored in directory: /root/.cache/pip/wheels/7a/c4/0c/12a9a314ecac499456c4c3b2fcc2f635a3b45a39dfbd240299\n",
            "  Building wheel for sgmllib3k (setup.py) ... \u001b[?25l\u001b[?25hdone\n",
            "  Created wheel for sgmllib3k: filename=sgmllib3k-1.0.0-py3-none-any.whl size=6049 sha256=d131964e805348087451aa2b035c92c95de9fba1ea01d6890accd3672dc48393\n",
            "  Stored in directory: /root/.cache/pip/wheels/f0/69/93/a47e9d621be168e9e33c7ce60524393c0b92ae83cf6c6e89c5\n",
            "Successfully built tinysegmenter feedfinder2 jieba3k sgmllib3k\n",
            "Installing collected packages: tinysegmenter, sgmllib3k, jieba3k, feedparser, cssselect, requests-file, feedfinder2, tldextract, newspaper3k\n",
            "Successfully installed cssselect-1.2.0 feedfinder2-0.0.4 feedparser-6.0.11 jieba3k-0.35.1 newspaper3k-0.2.8 requests-file-2.0.0 sgmllib3k-1.0.0 tinysegmenter-0.3 tldextract-5.1.2\n"
          ]
        }
      ]
    },
    {
      "cell_type": "code",
      "source": [
        "!pip install nlpk\n",
        "# Successfully installed nlpk-0.0.6"
      ],
      "metadata": {
        "colab": {
          "base_uri": "https://localhost:8080/"
        },
        "id": "UlpZuVrNnQPw",
        "outputId": "72e8f5aa-fd39-412e-8bef-5a678de0bbf2"
      },
      "execution_count": null,
      "outputs": [
        {
          "output_type": "stream",
          "name": "stdout",
          "text": [
            "Collecting nlpk\n",
            "  Downloading nlpk-0.0.6-py3-none-any.whl (47 kB)\n",
            "\u001b[2K     \u001b[90m━━━━━━━━━━━━━━━━━━━━━━━━━━━━━━━━━━━━━━━━\u001b[0m \u001b[32m47.7/47.7 kB\u001b[0m \u001b[31m1.5 MB/s\u001b[0m eta \u001b[36m0:00:00\u001b[0m\n",
            "\u001b[?25hInstalling collected packages: nlpk\n",
            "Successfully installed nlpk-0.0.6\n"
          ]
        }
      ]
    },
    {
      "cell_type": "code",
      "source": [
        "# DAY 20_ Work with Text Data. làm quen Thư viện newspaper3k và nlpk\n",
        "# đã cài thư viện newspaper3k và nlpk bằng lệnh pip install\n",
        "\n",
        "from newspaper import Article\n",
        "# Tạo một đối tượng từ URL của bài báo\n",
        "article = Article('https://vnexpress.net/man-utd-vs-liverpool-4731509-tong-thuat.html')\n",
        "\n",
        "#Tải bài báo\n",
        "article.download()\n",
        "article.parse()\n",
        "# In bài báo\n",
        "print(article.text)\n",
        "# Lấy toàn bộ ảnh của bài báo --> sẽ đưa ra link đường dẫn ảnh\n",
        "print(article.images)"
      ],
      "metadata": {
        "colab": {
          "base_uri": "https://localhost:8080/"
        },
        "id": "MYeh-EXtFKmx",
        "outputId": "acf10f05-39dd-4e03-d9db-49d0dd544df5"
      },
      "execution_count": null,
      "outputs": [
        {
          "output_type": "stream",
          "name": "stdout",
          "text": [
            "AnhMan Utd hòa Liverpool 2-2 tại Old Trafford ở vòng 32, khiến đối thủ không thể đòi lại đỉnh bảng Ngoại hạng Anh.\n",
            "\n",
            "Lần thứ hai, Man Utd cầm hòa Liverpool ở Ngoại hạng Anh mùa này. Ở lượt đi, họ rời Anfield với tỷ số 0-0. Trong cả hai lần, Man Utd đều không đạt phong độ tốt và lực lượng bị sứt mẻ, nên bị đánh giá thấp hơn. Nhưng ở lần đối đầu này, nếu không bị phạt đền cuối trận, thầy trò Erik Ten Hag đã có thể giành ba điểm. Tính cả trận thắng 4-3 ở tứ kết Cup FA, Man Utd nhỉnh hơn Liverpool về mặt kết quả trong những lần chạm trán mùa này.\n",
            "\n",
            "Kobbie Mainoo vui mừng sau khi nâng tỷ số lên 2-1 cho Man Utd. Ảnh: AP\n",
            "\n",
            "Liverpool phải tự trách bản thân, bởi họ phung phí quá nhiều cơ hội. Đặc biệt ở hiệp một, thế trận gần như nằm trong tầm kiểm soát của đoàn quân dưới trướng Jurgen Klopp. Họ kiểm soát bóng 58%, tung ra tới 15 pha dứt điểm với bốn lần trúng đích. Liverpool đã khiến Man Utd không tung ra nổi bất kỳ pha dứt điểm nào trong 45 phút đầu, dù có tình huống Alejandro Garnacho đưa bóng vào lưới trong thế việt vị. Đây là lần đầu tiên kể từ tháng 10/2015 Man Utd để xảy ra tình trạng này trong một trận đấu trên sân nhà Old Trafford.\n",
            "\n",
            "20 phút đầu, Dominik Szoboszlai nhiều lần uy hiếp khung thành Man Utd, trong đó có tình huống đối mặt nhưng không thể đánh bại Andre Onana ngay phút thứ 2. Tiền vệ Hungary còn sút vọt xà sau đường chuyền nhả lại của Mohamed Salah và rồi đệm bóng chệch khung thành từ đường căng ngang của Andy Robertson.\n",
            "\n",
            "Phút 22, Liverpool tận dụng phạt góc để mở tỷ số. Darwin Nunez lùi lại một nhịp để đón quả tạt từ Robertson, trước khi đánh đầu chuyền bóng đến cột xa. Luis Diaz đợi sẵn, tung cú vô-lê cận thành trong tư thế không bị kèm, khiến Onana không kịp phản xạ. Đây là trận thứ ba liên tiếp, Diaz ghi bàn hoặc kiến tạo cho Liverpool.\n",
            "\n",
            "Fernandes chia vui với CĐV sau khi gỡ hòa cho Man Utd. Ảnh: Reuters\n",
            "\n",
            "Đội khách liên tục bỏ lỡ trong những phút tiếp theo. Onana phải đổ người, cản cú cứa lòng chân trái từ Salah. Không lâu sau, Nunez và Salah lần lượt sút lên trời trong tư thế thoải mái. Chứng kiến học trò phung phí, Klopp tỏ ra rất tức giận ngoài đường biên. Ông đập tay xuống rồi hét lên với vẻ tiếc nuối. Đáng ngạc nhiên là dù thi đấu như mơ ngủ, hàng thủ Man Utd không chịu thêm bàn thua trong hiệp một. Họ vẫn được cổ vũ nhiệt tình từ khán đài.\n",
            "\n",
            "Niềm tin của CĐV Man Utd được đền đáp ở đầu hiệp hai. Trong thế trận Liverpool hoàn toàn lấn lướt, đường chuyền ngang tai hại của Jarell Quansah trao cho Bruno Fernandes cơ hội. Quan sát thấy Caoimhin Kelleher lên cao, tiền vệ Bồ Đào Nha sút ngay vào khung thành trống trong sự ngỡ ngàng của các cầu thủ Liverpool cũng như Klopp.\n",
            "\n",
            "Bàn gỡ 1-1 khích lệ tinh thần của Man Utd và tạo ra những phút sôi động tiếp theo, khi hai đội ăn miếng trả miếng. Phút 67, khoảnh khắc ngôi sao của tiền vệ 18 tuổi Kobbie Mainoo đưa Man Utd vượt lên. Nhận đường chuyền từ Aaron Wan-Bissaka, Mainoo khống chế một nhịp rồi xoay người dứt điểm chân phải. Bóng hướng về góc chữ A, khiến Kelleher không thể với tới. Old Trafford như bùng nổ sau bàn thắng này còn Klopp nổi cáu thực sự và lập tức thay người trước nguy cơ trắng tay.\n",
            "\n",
            "Salah hướng lên khán đài sau khi gỡ hòa 2-2 cho Liverpool. Ảnh: AFP\n",
            "\n",
            "Với lợi thế dẫn bàn, Man Utd chơi phòng ngự phản công và suýt thành công với ý đồ này khi Rasmus Hojlund chuyền cho Garnacho dứt điểm trong vòng cấm, nhưng trúng vị trí của Kelleher. Ở khung thành bên kia, Salah tiếp tục trải qua ngày vô duyên. Tiền đạo Ai Cập ập vào sút bồi sau khi Onana đã đổ người cản cú sút của Diaz, nhưng sút lên trời.\n",
            "\n",
            "Phút 84, điều chỉnh của Klopp phát huy tác dụng. Tiền vệ vào thay người Harvey Elliott đi bóng, khiến Wan-Bissaka phạm lỗi. Đây là pha xử lý bất cẩn của hậu vệ Man Utd khi anh xoạc bóng dù cơ hội của đối thủ chưa rõ ràng. Trên chấm phạt đền, Salah đánh lừa Onana để ấn định tỷ số 2-2. Trong thời gian bù giờ, Diaz một lần nữa bỏ lỡ cơ hội, với cú đệm bóng cự ly gần vọt xà, khiến Liverpool ngậm ngùi ra về với một điểm.\n",
            "\n",
            "Kết quả hòa đồng nghĩa thầy trò Klopp không thể đòi lại đỉnh bảng từ Arsenal. Họ cùng 71 điểm, nhưng kém hiệu số bàn thắng bại. Liverpool và Arsenal cũng chỉ hơn Man City một điểm, tạo ra cuộc đua tam mã hứa hẹn đầy kịch tính trong bảy trận còn lại. Liverpool sẽ tiếp Atalanta ở tứ kết lượt đi Europa League vào giữa tuần rồi tiếp Crystal Palace, trong khi Man Utd làm khách của Bournemouth trận tiếp theo.\n",
            "\n",
            "Quang Huy\n",
            "{'https://s1cdn.vnecdn.net/vnexpress/restruct/i/v874/premierleague/graphics/premier_league_logo.svg', 'data:image/gif;base64,R0lGODlhAQABAAAAACH5BAEKAAEALAAAAAABAAEAAAICTAEAOw==', 'https://s1cdn.vnecdn.net/vnexpress/restruct/c/v2629/v2_2019/pc/images/graphics/menu-myvne.svg', 'https://s1cdn.vnecdn.net/vnexpress/restruct/i/v874/premierleague/graphics/logo-pl.png', 'https://s1cdn.vnecdn.net/vnexpress/restruct/i/v874/v2_2019/pc/graphics/logo.svg', 'https://vcdn1-thethao.vnecdn.net/2024/04/07/Screenshot-2024-04-07-at-23-10-7429-6683-1712506324.png?w=1200&h=0&q=100&dpr=1&fit=crop&s=ZwK0cvi9wyAlW_8SqFtC-A'}\n"
          ]
        }
      ]
    },
    {
      "cell_type": "code",
      "source": [
        "import nltk\n",
        "from nltk.tokenize import word_tokenize\n",
        "\n",
        "nltk.download('punkt')\n",
        "\n",
        "data = \"Tôi thích học AI và Toán\"\n",
        "# tokenization data\n",
        "tokenization = word_tokenize(data)\n",
        "# Gọi thư viện Pos tagging\n",
        "result = nltk.pos_tag(tokenization)\n",
        "print(result)"
      ],
      "metadata": {
        "colab": {
          "base_uri": "https://localhost:8080/",
          "height": 752
        },
        "id": "En4i6mj4J0Q0",
        "outputId": "77bf2512-0f55-43b7-e582-81f8cb41b178"
      },
      "execution_count": null,
      "outputs": [
        {
          "output_type": "stream",
          "name": "stderr",
          "text": [
            "[nltk_data] Downloading package punkt to /root/nltk_data...\n",
            "[nltk_data]   Package punkt is already up-to-date!\n"
          ]
        },
        {
          "output_type": "error",
          "ename": "LookupError",
          "evalue": "\n**********************************************************************\n  Resource \u001b[93maveraged_perceptron_tagger\u001b[0m not found.\n  Please use the NLTK Downloader to obtain the resource:\n\n  \u001b[31m>>> import nltk\n  >>> nltk.download('averaged_perceptron_tagger')\n  \u001b[0m\n  For more information see: https://www.nltk.org/data.html\n\n  Attempted to load \u001b[93mtaggers/averaged_perceptron_tagger/averaged_perceptron_tagger.pickle\u001b[0m\n\n  Searched in:\n    - '/root/nltk_data'\n    - '/usr/nltk_data'\n    - '/usr/share/nltk_data'\n    - '/usr/lib/nltk_data'\n    - '/usr/share/nltk_data'\n    - '/usr/local/share/nltk_data'\n    - '/usr/lib/nltk_data'\n    - '/usr/local/lib/nltk_data'\n**********************************************************************\n",
          "traceback": [
            "\u001b[0;31m---------------------------------------------------------------------------\u001b[0m",
            "\u001b[0;31mLookupError\u001b[0m                               Traceback (most recent call last)",
            "\u001b[0;32m<ipython-input-145-50686445a831>\u001b[0m in \u001b[0;36m<cell line: 10>\u001b[0;34m()\u001b[0m\n\u001b[1;32m      8\u001b[0m \u001b[0mtokenization\u001b[0m \u001b[0;34m=\u001b[0m \u001b[0mword_tokenize\u001b[0m\u001b[0;34m(\u001b[0m\u001b[0mdata\u001b[0m\u001b[0;34m)\u001b[0m\u001b[0;34m\u001b[0m\u001b[0;34m\u001b[0m\u001b[0m\n\u001b[1;32m      9\u001b[0m \u001b[0;31m# Gọi thư viện Pos tagging\u001b[0m\u001b[0;34m\u001b[0m\u001b[0;34m\u001b[0m\u001b[0m\n\u001b[0;32m---> 10\u001b[0;31m \u001b[0mresult\u001b[0m \u001b[0;34m=\u001b[0m \u001b[0mnltk\u001b[0m\u001b[0;34m.\u001b[0m\u001b[0mpos_tag\u001b[0m\u001b[0;34m(\u001b[0m\u001b[0mtokenization\u001b[0m\u001b[0;34m)\u001b[0m\u001b[0;34m\u001b[0m\u001b[0;34m\u001b[0m\u001b[0m\n\u001b[0m\u001b[1;32m     11\u001b[0m \u001b[0mprint\u001b[0m\u001b[0;34m(\u001b[0m\u001b[0mresult\u001b[0m\u001b[0;34m)\u001b[0m\u001b[0;34m\u001b[0m\u001b[0;34m\u001b[0m\u001b[0m\n",
            "\u001b[0;32m/usr/local/lib/python3.10/dist-packages/nltk/tag/__init__.py\u001b[0m in \u001b[0;36mpos_tag\u001b[0;34m(tokens, tagset, lang)\u001b[0m\n\u001b[1;32m    163\u001b[0m     \u001b[0;34m:\u001b[0m\u001b[0mrtype\u001b[0m\u001b[0;34m:\u001b[0m \u001b[0mlist\u001b[0m\u001b[0;34m(\u001b[0m\u001b[0mtuple\u001b[0m\u001b[0;34m(\u001b[0m\u001b[0mstr\u001b[0m\u001b[0;34m,\u001b[0m \u001b[0mstr\u001b[0m\u001b[0;34m)\u001b[0m\u001b[0;34m)\u001b[0m\u001b[0;34m\u001b[0m\u001b[0;34m\u001b[0m\u001b[0m\n\u001b[1;32m    164\u001b[0m     \"\"\"\n\u001b[0;32m--> 165\u001b[0;31m     \u001b[0mtagger\u001b[0m \u001b[0;34m=\u001b[0m \u001b[0m_get_tagger\u001b[0m\u001b[0;34m(\u001b[0m\u001b[0mlang\u001b[0m\u001b[0;34m)\u001b[0m\u001b[0;34m\u001b[0m\u001b[0;34m\u001b[0m\u001b[0m\n\u001b[0m\u001b[1;32m    166\u001b[0m     \u001b[0;32mreturn\u001b[0m \u001b[0m_pos_tag\u001b[0m\u001b[0;34m(\u001b[0m\u001b[0mtokens\u001b[0m\u001b[0;34m,\u001b[0m \u001b[0mtagset\u001b[0m\u001b[0;34m,\u001b[0m \u001b[0mtagger\u001b[0m\u001b[0;34m,\u001b[0m \u001b[0mlang\u001b[0m\u001b[0;34m)\u001b[0m\u001b[0;34m\u001b[0m\u001b[0;34m\u001b[0m\u001b[0m\n\u001b[1;32m    167\u001b[0m \u001b[0;34m\u001b[0m\u001b[0m\n",
            "\u001b[0;32m/usr/local/lib/python3.10/dist-packages/nltk/tag/__init__.py\u001b[0m in \u001b[0;36m_get_tagger\u001b[0;34m(lang)\u001b[0m\n\u001b[1;32m    105\u001b[0m         \u001b[0mtagger\u001b[0m\u001b[0;34m.\u001b[0m\u001b[0mload\u001b[0m\u001b[0;34m(\u001b[0m\u001b[0map_russian_model_loc\u001b[0m\u001b[0;34m)\u001b[0m\u001b[0;34m\u001b[0m\u001b[0;34m\u001b[0m\u001b[0m\n\u001b[1;32m    106\u001b[0m     \u001b[0;32melse\u001b[0m\u001b[0;34m:\u001b[0m\u001b[0;34m\u001b[0m\u001b[0;34m\u001b[0m\u001b[0m\n\u001b[0;32m--> 107\u001b[0;31m         \u001b[0mtagger\u001b[0m \u001b[0;34m=\u001b[0m \u001b[0mPerceptronTagger\u001b[0m\u001b[0;34m(\u001b[0m\u001b[0;34m)\u001b[0m\u001b[0;34m\u001b[0m\u001b[0;34m\u001b[0m\u001b[0m\n\u001b[0m\u001b[1;32m    108\u001b[0m     \u001b[0;32mreturn\u001b[0m \u001b[0mtagger\u001b[0m\u001b[0;34m\u001b[0m\u001b[0;34m\u001b[0m\u001b[0m\n\u001b[1;32m    109\u001b[0m \u001b[0;34m\u001b[0m\u001b[0m\n",
            "\u001b[0;32m/usr/local/lib/python3.10/dist-packages/nltk/tag/perceptron.py\u001b[0m in \u001b[0;36m__init__\u001b[0;34m(self, load)\u001b[0m\n\u001b[1;32m    165\u001b[0m         \u001b[0;32mif\u001b[0m \u001b[0mload\u001b[0m\u001b[0;34m:\u001b[0m\u001b[0;34m\u001b[0m\u001b[0;34m\u001b[0m\u001b[0m\n\u001b[1;32m    166\u001b[0m             AP_MODEL_LOC = \"file:\" + str(\n\u001b[0;32m--> 167\u001b[0;31m                 \u001b[0mfind\u001b[0m\u001b[0;34m(\u001b[0m\u001b[0;34m\"taggers/averaged_perceptron_tagger/\"\u001b[0m \u001b[0;34m+\u001b[0m \u001b[0mPICKLE\u001b[0m\u001b[0;34m)\u001b[0m\u001b[0;34m\u001b[0m\u001b[0;34m\u001b[0m\u001b[0m\n\u001b[0m\u001b[1;32m    168\u001b[0m             )\n\u001b[1;32m    169\u001b[0m             \u001b[0mself\u001b[0m\u001b[0;34m.\u001b[0m\u001b[0mload\u001b[0m\u001b[0;34m(\u001b[0m\u001b[0mAP_MODEL_LOC\u001b[0m\u001b[0;34m)\u001b[0m\u001b[0;34m\u001b[0m\u001b[0;34m\u001b[0m\u001b[0m\n",
            "\u001b[0;32m/usr/local/lib/python3.10/dist-packages/nltk/data.py\u001b[0m in \u001b[0;36mfind\u001b[0;34m(resource_name, paths)\u001b[0m\n\u001b[1;32m    581\u001b[0m     \u001b[0msep\u001b[0m \u001b[0;34m=\u001b[0m \u001b[0;34m\"*\"\u001b[0m \u001b[0;34m*\u001b[0m \u001b[0;36m70\u001b[0m\u001b[0;34m\u001b[0m\u001b[0;34m\u001b[0m\u001b[0m\n\u001b[1;32m    582\u001b[0m     \u001b[0mresource_not_found\u001b[0m \u001b[0;34m=\u001b[0m \u001b[0;34mf\"\\n{sep}\\n{msg}\\n{sep}\\n\"\u001b[0m\u001b[0;34m\u001b[0m\u001b[0;34m\u001b[0m\u001b[0m\n\u001b[0;32m--> 583\u001b[0;31m     \u001b[0;32mraise\u001b[0m \u001b[0mLookupError\u001b[0m\u001b[0;34m(\u001b[0m\u001b[0mresource_not_found\u001b[0m\u001b[0;34m)\u001b[0m\u001b[0;34m\u001b[0m\u001b[0;34m\u001b[0m\u001b[0m\n\u001b[0m\u001b[1;32m    584\u001b[0m \u001b[0;34m\u001b[0m\u001b[0m\n\u001b[1;32m    585\u001b[0m \u001b[0;34m\u001b[0m\u001b[0m\n",
            "\u001b[0;31mLookupError\u001b[0m: \n**********************************************************************\n  Resource \u001b[93maveraged_perceptron_tagger\u001b[0m not found.\n  Please use the NLTK Downloader to obtain the resource:\n\n  \u001b[31m>>> import nltk\n  >>> nltk.download('averaged_perceptron_tagger')\n  \u001b[0m\n  For more information see: https://www.nltk.org/data.html\n\n  Attempted to load \u001b[93mtaggers/averaged_perceptron_tagger/averaged_perceptron_tagger.pickle\u001b[0m\n\n  Searched in:\n    - '/root/nltk_data'\n    - '/usr/nltk_data'\n    - '/usr/share/nltk_data'\n    - '/usr/lib/nltk_data'\n    - '/usr/share/nltk_data'\n    - '/usr/local/share/nltk_data'\n    - '/usr/lib/nltk_data'\n    - '/usr/local/lib/nltk_data'\n**********************************************************************\n"
          ]
        }
      ]
    },
    {
      "cell_type": "code",
      "source": [
        "# DAY 21_ Thao tác Đọc Ghi file\n",
        "\n",
        "with open('data.txt', 'r') as f:\n",
        "    data = f.read()\n",
        "data\n"
      ],
      "metadata": {
        "colab": {
          "base_uri": "https://localhost:8080/",
          "height": 35
        },
        "id": "5yQkS0tzNFQe",
        "outputId": "954e5488-3cab-43b7-aa68-3fe42d44b9a5"
      },
      "execution_count": null,
      "outputs": [
        {
          "output_type": "execute_result",
          "data": {
            "text/plain": [
              "'0-1-2-3-4-5-6-7-8-9-10'"
            ],
            "application/vnd.google.colaboratory.intrinsic+json": {
              "type": "string"
            }
          },
          "metadata": {},
          "execution_count": 27
        }
      ]
    },
    {
      "cell_type": "code",
      "source": [
        "# loại bỏ các ký tự \\n Thay thế bằng khoảng trắng, chuyển về chữ thường toàn bộ văn bản\n",
        "data = data.replace('\\n', ' ').lower()\n",
        "data"
      ],
      "metadata": {
        "id": "Nwm6efy0Wfjg"
      },
      "execution_count": null,
      "outputs": []
    },
    {
      "cell_type": "code",
      "source": [
        "words = data.split()\n",
        "distinct_words = list(set(words))\n",
        "distinct_words.sort()\n",
        "print(distinct_words)"
      ],
      "metadata": {
        "id": "kuomAo2lXTZI"
      },
      "execution_count": null,
      "outputs": []
    },
    {
      "cell_type": "code",
      "source": [
        "def count_word(words, distinct_words):\n",
        "    count = {}\n",
        "    for small_word in distinct_words:\n",
        "        for word in words:\n",
        "            if small_word in word:\n",
        "                if small_word not in count:\n",
        "                    count[small_word] = 1\n",
        "                else:\n",
        "                    count[small_word] = count[small_word] + 1\n",
        "    return count\n",
        "\n",
        "res = count_word(words, distinct_words)\n",
        "res"
      ],
      "metadata": {
        "id": "HlUoaTh3XaTd"
      },
      "execution_count": null,
      "outputs": []
    },
    {
      "cell_type": "code",
      "source": [
        "#DAY 22_ Vòng lặp While-Lopp\n",
        "import random\n",
        "def random_number_with_condition(total):\n",
        "  random.seed(0)\n",
        "  count = 0\n",
        "  a = 0\n",
        "  b = 0\n",
        "\n",
        "  while a + b != total:\n",
        "    a = random.randint(1, 20)\n",
        "    b = random.randint(1, 20)\n",
        "    count += 1\n",
        "  return print(f'Số lần lặp của a + b = {total} là {count}')\n",
        "\n",
        "random_number_with_condition(40)\n",
        "random_number_with_condition(20)\n",
        "random_number_with_condition(35)"
      ],
      "metadata": {
        "colab": {
          "base_uri": "https://localhost:8080/"
        },
        "id": "OYOfnmlVTMtE",
        "outputId": "4bfdb7d6-ca43-4b1e-9b65-2e8b66a2264f"
      },
      "execution_count": null,
      "outputs": [
        {
          "output_type": "stream",
          "name": "stdout",
          "text": [
            "Số lần lặp của a + b = 40 là 266\n",
            "Số lần lặp của a + b = 20 là 32\n",
            "Số lần lặp của a + b = 35 là 96\n"
          ]
        }
      ]
    },
    {
      "cell_type": "code",
      "source": [
        "def find_visible_number(a):\n",
        "  x = 101\n",
        "  while True:\n",
        "    if x % a == 0:\n",
        "      break\n",
        "    x = x +1\n",
        "  return print(f'Số cần tìm là {x}')\n",
        "\n",
        "find_visible_number(5)\n",
        "find_visible_number(17)"
      ],
      "metadata": {
        "colab": {
          "base_uri": "https://localhost:8080/"
        },
        "id": "VvR_tmL5ayMB",
        "outputId": "8713e052-29ae-41ec-875d-768e00a15b96"
      },
      "execution_count": null,
      "outputs": [
        {
          "output_type": "stream",
          "name": "stdout",
          "text": [
            "Số cần tìm là 105\n",
            "Số cần tìm là 102\n"
          ]
        }
      ]
    },
    {
      "cell_type": "code",
      "source": [
        "def find_square_root(a):\n",
        "  EPSILON = 0.001\n",
        "  x = a\n",
        "  while abs(- (x**2 - a) / (2*x)) > EPSILON:\n",
        "    x = abs(x - (x**2 - a) / (2*x))\n",
        "    if abs(- (x**2 - a) / (2*x)) < EPSILON:\n",
        "      break\n",
        "  return print(f'Kết quả là {x}')\n",
        "\n",
        "find_square_root(2)\n",
        "find_square_root(3)"
      ],
      "metadata": {
        "colab": {
          "base_uri": "https://localhost:8080/"
        },
        "id": "twn7uOTeTM4E",
        "outputId": "0ac50c9d-4313-42a9-845d-3e0ea5811399"
      },
      "execution_count": null,
      "outputs": [
        {
          "output_type": "stream",
          "name": "stdout",
          "text": [
            "Kết quả là 1.4142156862745099\n",
            "Kết quả là 1.7321428571428572\n"
          ]
        }
      ]
    },
    {
      "cell_type": "code",
      "source": [
        "# DAY 23 _ Các Hàm khởi tạo Numpy Array và Pytorch/Tensorflow\n",
        "\n",
        "import numpy as np\n",
        "import torch\n",
        "import tensorflow as tf\n",
        "print(\"Numpy:\\n\", np.arange(0,10,1))\n",
        "print(\"Numpy:\\n\", np.arange(10))\n",
        "print(\"Torch:\\n\", torch.arange(0,10,1))\n",
        "print(\"Torch:\\n\", torch.arange(10))\n",
        "print(\"tensorflow:\\n\", tf.range(0,10,1))\n",
        "print(\"tensorflow:\\n\", tf.range(10))"
      ],
      "metadata": {
        "colab": {
          "base_uri": "https://localhost:8080/"
        },
        "id": "Fi4KxsurTM70",
        "outputId": "f63ff5df-6e5d-4323-af29-5014391470f4"
      },
      "execution_count": null,
      "outputs": [
        {
          "output_type": "stream",
          "name": "stdout",
          "text": [
            "Numpy:\n",
            " [0 1 2 3 4 5 6 7 8 9]\n",
            "Numpy:\n",
            " [0 1 2 3 4 5 6 7 8 9]\n",
            "Torch:\n",
            " tensor([0, 1, 2, 3, 4, 5, 6, 7, 8, 9])\n",
            "Torch:\n",
            " tensor([0, 1, 2, 3, 4, 5, 6, 7, 8, 9])\n",
            "tensorflow:\n",
            " tf.Tensor([0 1 2 3 4 5 6 7 8 9], shape=(10,), dtype=int32)\n",
            "tensorflow:\n",
            " tf.Tensor([0 1 2 3 4 5 6 7 8 9], shape=(10,), dtype=int32)\n"
          ]
        }
      ]
    },
    {
      "cell_type": "code",
      "source": [
        "print(\"Numpy:\\n\", np.eye(3,3))\n",
        "print(\"Torch:\\n\", torch.eye(4,4))\n",
        "print(\"tensorflow:\\n\", tf.eye(5,5))"
      ],
      "metadata": {
        "colab": {
          "base_uri": "https://localhost:8080/"
        },
        "id": "zLr2wbBjetVd",
        "outputId": "098a2240-d373-4563-8e68-34476d01de4a"
      },
      "execution_count": null,
      "outputs": [
        {
          "output_type": "stream",
          "name": "stdout",
          "text": [
            "Numpy:\n",
            " [[1. 0. 0.]\n",
            " [0. 1. 0.]\n",
            " [0. 0. 1.]]\n",
            "Torch:\n",
            " tensor([[1., 0., 0., 0.],\n",
            "        [0., 1., 0., 0.],\n",
            "        [0., 0., 1., 0.],\n",
            "        [0., 0., 0., 1.]])\n",
            "tensorflow:\n",
            " tf.Tensor(\n",
            "[[1. 0. 0. 0. 0.]\n",
            " [0. 1. 0. 0. 0.]\n",
            " [0. 0. 1. 0. 0.]\n",
            " [0. 0. 0. 1. 0.]\n",
            " [0. 0. 0. 0. 1.]], shape=(5, 5), dtype=float32)\n"
          ]
        }
      ]
    },
    {
      "cell_type": "code",
      "source": [
        "import numpy as np\n",
        "np.random.seed(2024)\n",
        "arr_rand = np.random.rand(3,4)\n",
        "print(\"Mảng ngẫu nhiên trong khoảng [0,1):\\n\",arr_rand)"
      ],
      "metadata": {
        "colab": {
          "base_uri": "https://localhost:8080/"
        },
        "id": "o5jNeGZIgqXI",
        "outputId": "7a6c1a89-8a75-47d8-9872-4f837545f812"
      },
      "execution_count": null,
      "outputs": [
        {
          "output_type": "stream",
          "name": "stdout",
          "text": [
            "Mảng ngẫu nhiên trong khoảng [0,1):\n",
            " [[0.58801452 0.69910875 0.18815196 0.04380856]\n",
            " [0.20501895 0.10606287 0.72724014 0.67940052]\n",
            " [0.4738457  0.44829582 0.01910695 0.75259834]]\n"
          ]
        }
      ]
    },
    {
      "cell_type": "code",
      "source": [
        "arr_randint = np.random.randint(-10,10, size=(3,4))\n",
        "print(\"Mảng ngẫu nhiên trong khoảng [-10,10):\\n\",arr_randint)"
      ],
      "metadata": {
        "colab": {
          "base_uri": "https://localhost:8080/"
        },
        "id": "T48tbKxujawF",
        "outputId": "9b8ac814-a564-4376-9c1c-c85ccc8ad220"
      },
      "execution_count": null,
      "outputs": [
        {
          "output_type": "stream",
          "name": "stdout",
          "text": [
            "Mảng ngẫu nhiên trong khoảng [-10,10):\n",
            " [[ 5  1 -3  8]\n",
            " [-1 -4  0 -9]\n",
            " [-5  9 -6 -2]]\n"
          ]
        }
      ]
    },
    {
      "cell_type": "code",
      "source": [
        "import torch\n",
        "torch.manual_seed(2024)\n",
        "tensor_rand = torch.rand(3,4)\n",
        "print(\"Tensor ngẫu nhiên trong khoảng [0,1):\\n\",tensor_rand)"
      ],
      "metadata": {
        "colab": {
          "base_uri": "https://localhost:8080/"
        },
        "id": "5aKR-AnjjwdU",
        "outputId": "acdee6df-342c-4a0a-aee0-4aa1e1f148f6"
      },
      "execution_count": null,
      "outputs": [
        {
          "output_type": "stream",
          "name": "stdout",
          "text": [
            "Tensor ngẫu nhiên trong khoảng [0,1):\n",
            " tensor([[0.5317, 0.8313, 0.9718, 0.1193],\n",
            "        [0.1669, 0.3495, 0.2150, 0.6201],\n",
            "        [0.4849, 0.7492, 0.1521, 0.5625]])\n"
          ]
        }
      ]
    },
    {
      "cell_type": "code",
      "source": [
        "tensor_randint = torch.randint(-10,10, size=(3,4))\n",
        "print(\"Tensor ngẫu nhiên trong khoảng [-10,10):\\n\",tensor_randint)"
      ],
      "metadata": {
        "colab": {
          "base_uri": "https://localhost:8080/"
        },
        "id": "9HRbWiaskmak",
        "outputId": "734ef8ad-0422-4a70-cd2c-86be9fd65c57"
      },
      "execution_count": null,
      "outputs": [
        {
          "output_type": "stream",
          "name": "stdout",
          "text": [
            "Tensor ngẫu nhiên trong khoảng [-10,10):\n",
            " tensor([[  1,   8,   0,  -2],\n",
            "        [ -9, -10,  -9,   0],\n",
            "        [ -3,  -7,  -4,   8]])\n"
          ]
        }
      ]
    },
    {
      "cell_type": "code",
      "source": [
        "import tensorflow as tf\n",
        "tf.random.set_seed(2024)\n",
        "tensor_rand = tf.random.uniform((3,4))\n",
        "print(\"Tensor ngẫu nhiên trong khoảng [0,1):\\n\",tensor_rand)"
      ],
      "metadata": {
        "colab": {
          "base_uri": "https://localhost:8080/"
        },
        "id": "ymtWwVXOlPYe",
        "outputId": "f3dad2ab-bca6-45e3-da87-4991679e4fd9"
      },
      "execution_count": null,
      "outputs": [
        {
          "output_type": "stream",
          "name": "stdout",
          "text": [
            "Tensor ngẫu nhiên trong khoảng [0,1):\n",
            " tf.Tensor(\n",
            "[[0.90034294 0.19453335 0.36069036 0.66361904]\n",
            " [0.76605344 0.2159369  0.6261736  0.07380784]\n",
            " [0.22062695 0.934368   0.93327904 0.69267046]], shape=(3, 4), dtype=float32)\n"
          ]
        }
      ]
    },
    {
      "cell_type": "code",
      "source": [
        "tensor_randint = tf.random.uniform((3,4),minval=-10, maxval=10, dtype=tf.dtypes.int32)\n",
        "print(\"Tensor ngẫu nhiên trong khoảng [-10,10):\\n\",tensor_randint)"
      ],
      "metadata": {
        "colab": {
          "base_uri": "https://localhost:8080/"
        },
        "id": "zBhl7SJTl6BC",
        "outputId": "d29fb0e5-b4d3-4541-c92e-5e6daea61525"
      },
      "execution_count": null,
      "outputs": [
        {
          "output_type": "stream",
          "name": "stdout",
          "text": [
            "Tensor ngẫu nhiên trong khoảng [-10,10):\n",
            " tf.Tensor(\n",
            "[[-3 -7  9  3]\n",
            " [ 2 -5 -3 -5]\n",
            " [ 4 -3 -3  5]], shape=(3, 4), dtype=int32)\n"
          ]
        }
      ]
    },
    {
      "cell_type": "code",
      "source": [
        "# DAY 24,25 _ BÀI LUYỆN TẬP Python cơ bản\n",
        "# Câu 1: e\n",
        "\n",
        "n = 0\n",
        "for i in range (0,1000,100):\n",
        "  n =+ 1\n",
        "print(n)\n"
      ],
      "metadata": {
        "colab": {
          "base_uri": "https://localhost:8080/"
        },
        "id": "cCkxJhIEmwcX",
        "outputId": "2d629c18-7ee1-412a-ff0d-9a23763b55ee"
      },
      "execution_count": null,
      "outputs": [
        {
          "output_type": "stream",
          "name": "stdout",
          "text": [
            "1\n"
          ]
        }
      ]
    },
    {
      "cell_type": "code",
      "source": [
        "# Câu 2: b\n",
        "\n",
        "def a_funtion_helper(x):\n",
        "  if x>0:\n",
        "    return 'pos'\n",
        "  else:\n",
        "    return 'neg'\n",
        "def a_funtion(data):\n",
        "  res = [a_funtion_helper(x) for x in data]\n",
        "  return res\n",
        "data = [1,0,-1,2]\n",
        "print(a_funtion(data))\n"
      ],
      "metadata": {
        "colab": {
          "base_uri": "https://localhost:8080/"
        },
        "id": "1Z5znt8HnyYe",
        "outputId": "48314e6c-01e1-4ba4-e34c-82af6d8c6254"
      },
      "execution_count": null,
      "outputs": [
        {
          "output_type": "stream",
          "name": "stdout",
          "text": [
            "['pos', 'neg', 'neg', 'pos']\n"
          ]
        }
      ]
    },
    {
      "cell_type": "code",
      "source": [
        "#Câu 3: a\n",
        "\n",
        "data = \"Python Programming\"\n",
        "print(data.split() [0])"
      ],
      "metadata": {
        "colab": {
          "base_uri": "https://localhost:8080/"
        },
        "id": "8cxmN_fzpO8r",
        "outputId": "de6bc37b-6d89-4d7b-8dd8-deec39dd6f83"
      },
      "execution_count": null,
      "outputs": [
        {
          "output_type": "stream",
          "name": "stdout",
          "text": [
            "Python\n"
          ]
        }
      ]
    },
    {
      "cell_type": "code",
      "source": [
        "# Câu 4: b\n",
        "\n",
        "\" elephant \"*1 > \"ant\" *100\n",
        "\n",
        "#print(\" elephant \"*1)\n",
        "#print(\"ant\" *100)\n",
        "print(\" elephant \"*1 > \"ant\" *100)"
      ],
      "metadata": {
        "colab": {
          "base_uri": "https://localhost:8080/"
        },
        "id": "V504MjXfpvTq",
        "outputId": "51f0c4d2-e22c-4382-db37-dad95754823b"
      },
      "execution_count": null,
      "outputs": [
        {
          "output_type": "stream",
          "name": "stdout",
          "text": [
            "False\n"
          ]
        }
      ]
    },
    {
      "cell_type": "code",
      "source": [
        "# Câu 5: c\n",
        "\n",
        "def my_function ( signal ) :\n",
        "  var = True\n",
        "  while var :\n",
        "    var = False\n",
        "    for i in range (len ( signal ) - 1) :\n",
        "      if signal [ i ] > signal [ i + 1]:\n",
        "        print(i,var)\n",
        "        signal [ i ] , signal [ i + 1] = signal [ i + 1] , signal [ i ]\n",
        "        var = True\n",
        "\n",
        "my_signal = [1 , 0 , 0 , 1 , 1 , 1]\n",
        "my_function ( my_signal )\n",
        "print ( my_signal )"
      ],
      "metadata": {
        "colab": {
          "base_uri": "https://localhost:8080/"
        },
        "id": "mBzFuZjweOHH",
        "outputId": "21e3206b-0985-437a-afad-455aa8e4a5c7"
      },
      "execution_count": null,
      "outputs": [
        {
          "output_type": "stream",
          "name": "stdout",
          "text": [
            "0 False\n",
            "1 True\n",
            "[0, 0, 1, 1, 1, 1]\n"
          ]
        }
      ]
    },
    {
      "cell_type": "code",
      "source": [
        "# Câu 6: d\n",
        "\n",
        "n = 0\n",
        "for i in range (10) :\n",
        "  n += i\n",
        "  print(i,\":\",n)\n",
        "  if n >0 and n %2 == 0:\n",
        "    break\n",
        "print (f\"Giá trị của n: {n}\" )"
      ],
      "metadata": {
        "colab": {
          "base_uri": "https://localhost:8080/"
        },
        "id": "RYgF6-8ZeOKJ",
        "outputId": "9565f034-3d43-4b9b-9f9b-52c855fc8068"
      },
      "execution_count": null,
      "outputs": [
        {
          "output_type": "stream",
          "name": "stdout",
          "text": [
            "0 : 0\n",
            "1 : 1\n",
            "2 : 3\n",
            "3 : 6\n",
            "Giá trị của n: 6\n"
          ]
        }
      ]
    },
    {
      "cell_type": "code",
      "source": [
        "# Câu 7: a\n",
        "\n",
        "def my_function ( list_nums = [1 , 2 , 3, 4]) :\n",
        "  var = 0\n",
        "  for i in list_nums :\n",
        "    var += i\n",
        "    print(i,\":\",var)\n",
        "  return var /len( list_nums )\n",
        "my_function ()\n"
      ],
      "metadata": {
        "colab": {
          "base_uri": "https://localhost:8080/"
        },
        "id": "zBL04Y5EeOM-",
        "outputId": "9d2e1342-842b-4220-c5b8-42b86cd4ff65"
      },
      "execution_count": null,
      "outputs": [
        {
          "output_type": "stream",
          "name": "stdout",
          "text": [
            "1 : 1\n",
            "2 : 3\n",
            "3 : 6\n",
            "4 : 10\n"
          ]
        },
        {
          "output_type": "execute_result",
          "data": {
            "text/plain": [
              "2.5"
            ]
          },
          "metadata": {},
          "execution_count": 29
        }
      ]
    },
    {
      "cell_type": "code",
      "source": [
        "# Câu 8: e\n",
        "\n",
        "space1 = \"It ’s sunny here !\"\n",
        "space2 = \"Is it hot here in the spring ?\"\n",
        "space = space1 + space2\n",
        "print ( space )\n",
        "print ( space [ -7: ])\n",
        "print ( space [ -7: -1])\n",
        "print (len( space [ -7: -1])) # tính cả khoảng trắng nên là 6"
      ],
      "metadata": {
        "colab": {
          "base_uri": "https://localhost:8080/"
        },
        "id": "OF3BdA69eN7k",
        "outputId": "3e0d9030-079f-4fb8-f6c9-547e259fcd37"
      },
      "execution_count": null,
      "outputs": [
        {
          "output_type": "stream",
          "name": "stdout",
          "text": [
            "It ’s sunny here !Is it hot here in the spring ?\n",
            "pring ?\n",
            "pring \n",
            "6\n"
          ]
        }
      ]
    },
    {
      "cell_type": "code",
      "source": [
        "# Câu 9: d\n",
        "\n",
        "data = [1 , 2 , 3 , \"I\", \"am\", \"AI\"]\n",
        "data1 = [\"1\" , \"2\" , \"3\" , \"I\", \"am\", \"AI\"]\n",
        "\n",
        "#new_data = sorted ( data ) #not supported between instances of 'str' and 'int'\n",
        "new_data1 = sorted ( data1 )\n",
        "\n",
        "#print ( new_data )\n",
        "print ( new_data1 )\n"
      ],
      "metadata": {
        "colab": {
          "base_uri": "https://localhost:8080/"
        },
        "id": "xoht3DAjeN-T",
        "outputId": "3bf93af1-0d4e-4a42-fb23-2bbd7f49a297"
      },
      "execution_count": null,
      "outputs": [
        {
          "output_type": "stream",
          "name": "stdout",
          "text": [
            "['1', '2', '3', 'AI', 'I', 'am']\n"
          ]
        }
      ]
    },
    {
      "cell_type": "code",
      "source": [
        "# Câu 10: d\n",
        "\n",
        "my_string = \"Duo, come here !\"\n",
        "my_bag_of_word = []\n",
        "for element in my_string :\n",
        "  if element not in my_bag_of_word :\n",
        "    my_bag_of_word . append ( element )\n",
        "print ( my_bag_of_word )\n"
      ],
      "metadata": {
        "colab": {
          "base_uri": "https://localhost:8080/"
        },
        "id": "Fwoz__AteOBq",
        "outputId": "5c88d034-b56e-47da-d724-23220f0c0b2b"
      },
      "execution_count": null,
      "outputs": [
        {
          "output_type": "stream",
          "name": "stdout",
          "text": [
            "['D', 'u', 'o', ',', ' ', 'c', 'm', 'e', 'h', 'r', '!']\n"
          ]
        }
      ]
    },
    {
      "cell_type": "code",
      "source": [
        "# Câu 11: c\n",
        "\n",
        "my_string = \"It ’s raining cats and dogs \"\n",
        "results = my_string . count (\"s\")\n",
        "\n",
        "print ( results )"
      ],
      "metadata": {
        "colab": {
          "base_uri": "https://localhost:8080/"
        },
        "id": "YrRqX9MpeOFF",
        "outputId": "8d549822-eba2-4619-fe44-5d75712b5a29"
      },
      "execution_count": null,
      "outputs": [
        {
          "output_type": "stream",
          "name": "stdout",
          "text": [
            "3\n"
          ]
        }
      ]
    },
    {
      "cell_type": "code",
      "source": [
        "#Câu 12: a\n",
        "\n",
        "def my_function ( x ) :\n",
        "  for i in range ( x ) :        # i=0,j=0,1,2. i=1,j=0,1,2. i=2,j=0,1,2\n",
        "    for j in range ( x ) :\n",
        "      if i == j :\n",
        "        print (\"1 \", end =\" \")\n",
        "      else :\n",
        "        print (\"0 \", end =\" \")\n",
        "    print ()\n",
        "\n",
        "my_function (3)\n"
      ],
      "metadata": {
        "colab": {
          "base_uri": "https://localhost:8080/"
        },
        "id": "QVlZtUHJeOG-",
        "outputId": "c398d2db-7e3c-4a35-b7c3-b44ea7c914aa"
      },
      "execution_count": null,
      "outputs": [
        {
          "output_type": "stream",
          "name": "stdout",
          "text": [
            "1  0  0  \n",
            "0  1  0  \n",
            "0  0  1  \n"
          ]
        }
      ]
    },
    {
      "cell_type": "code",
      "source": [
        "# Câu 13: 6\n",
        "def my_function ( y ) :\n",
        "  var = 1\n",
        "  while ( y > 1) :\n",
        "    var = var * y\n",
        "    print(y,\":\",var)\n",
        "    y = y - 1\n",
        "  return var\n",
        "\n",
        "print ( my_function (3) )"
      ],
      "metadata": {
        "colab": {
          "base_uri": "https://localhost:8080/"
        },
        "id": "vhsrTfEReOJh",
        "outputId": "b3b48f38-becc-4d7d-a4a7-6dedc51d0a4a"
      },
      "execution_count": null,
      "outputs": [
        {
          "output_type": "stream",
          "name": "stdout",
          "text": [
            "3 : 3\n",
            "2 : 6\n",
            "6\n"
          ]
        }
      ]
    },
    {
      "cell_type": "code",
      "source": [
        "# Câu 14: c\n",
        "\n",
        "even_numbers = [ x for x in range (3 , 12) if x % 3==0]\n",
        "print ( even_numbers )\n",
        "\n",
        "x = 0\n",
        "lst =[]\n",
        "for x in range (12):\n",
        "  if (3<= x <12 and x%3 == 0):\n",
        "    print (x)\n",
        "    lst.append(x)\n",
        "    x += 1\n",
        "print(lst)"
      ],
      "metadata": {
        "colab": {
          "base_uri": "https://localhost:8080/"
        },
        "id": "qjaNeXmkeOMK",
        "outputId": "de1800b0-8ab2-4968-aebd-51f8131813b9"
      },
      "execution_count": null,
      "outputs": [
        {
          "output_type": "stream",
          "name": "stdout",
          "text": [
            "[3, 6, 9]\n",
            "3\n",
            "6\n",
            "9\n",
            "[3, 6, 9]\n"
          ]
        }
      ]
    },
    {
      "cell_type": "code",
      "source": [
        "# Câu 15: a\n",
        "\n",
        "X = [[1 , 1 , 2] ,\n",
        "    [3 , 51 , 99] ,\n",
        "    [5 , 81 , 23]]\n",
        "\n",
        "result = [[0 ,0 ,0] ,\n",
        "          [0 ,0 ,0] ,\n",
        "          [0 ,0 ,0]]\n",
        "\n",
        "for i in range (len ( X) ) :\n",
        "  for j in range (len ( X [0]) ) :\n",
        "    result [ j ][ i ] = X [ i ][ j ]\n",
        "    print(\"r\",i,j,\":\", X [ i ][ j ])\n",
        "print(\"Result:\", result)\n",
        "print(\"Từng phần tử của Result:\")\n",
        "for r in result :\n",
        "  print ( r )"
      ],
      "metadata": {
        "colab": {
          "base_uri": "https://localhost:8080/"
        },
        "id": "pBextuPEeOPY",
        "outputId": "9067a9a3-2ca5-445d-ed27-5a22ade7998e"
      },
      "execution_count": null,
      "outputs": [
        {
          "output_type": "stream",
          "name": "stdout",
          "text": [
            "r 0 0 : 1\n",
            "r 0 1 : 1\n",
            "r 0 2 : 2\n",
            "r 1 0 : 3\n",
            "r 1 1 : 51\n",
            "r 1 2 : 99\n",
            "r 2 0 : 5\n",
            "r 2 1 : 81\n",
            "r 2 2 : 23\n",
            "Result: [[1, 3, 5], [1, 51, 81], [2, 99, 23]]\n",
            "Từng phần tử của Result:\n",
            "[1, 3, 5]\n",
            "[1, 51, 81]\n",
            "[2, 99, 23]\n"
          ]
        }
      ]
    },
    {
      "cell_type": "code",
      "source": [
        "# Câu 16: c\n",
        "\n",
        "def my_function ( my_data ): # Cộng các giá trị trong list\n",
        "  rs = 0\n",
        "  for i in my_data :\n",
        "    rs += i\n",
        "  return rs\n",
        "\n",
        "my_list = [2 , 3 , 4 , 5]\n",
        "print ( my_function ( my_data = my_list ) )\n",
        "\n",
        "def my_function1 ( my_data ): # Cộng các giá trị trong list theo index\n",
        "  rs = 0\n",
        "  for i in range(len(my_data)) :\n",
        "    rs += my_data[i]\n",
        "  return rs\n",
        "\n",
        "my_list = [2 , 3 , 4 , 5, 6]\n",
        "print ( my_function1 ( my_data = my_list ) )\n"
      ],
      "metadata": {
        "colab": {
          "base_uri": "https://localhost:8080/"
        },
        "id": "-vGyXhg1eOTv",
        "outputId": "8799317b-ccbe-4472-9240-3247735c5570"
      },
      "execution_count": null,
      "outputs": [
        {
          "output_type": "stream",
          "name": "stdout",
          "text": [
            "14\n",
            "20\n"
          ]
        }
      ]
    },
    {
      "cell_type": "code",
      "source": [
        "# Câu 17: e\n",
        "\n",
        "def my_function ( my_data ):\n",
        "  result = []\n",
        "  for element in data :\n",
        "    if element not in result :\n",
        "      result . append ( element )\n",
        "  return result\n",
        "data = [ {'friends':[ 'Tom', 'Mike', 'Taylor']} , 2002 , 2099 , 3000 , 'moon']\n",
        "print ( my_function ( data ) )\n"
      ],
      "metadata": {
        "colab": {
          "base_uri": "https://localhost:8080/"
        },
        "id": "Gx5i9PNqeOW7",
        "outputId": "d2752439-ea92-4cd0-e6f1-26a4d7cd3f5a"
      },
      "execution_count": null,
      "outputs": [
        {
          "output_type": "stream",
          "name": "stdout",
          "text": [
            "[{'friends': ['Tom', 'Mike', 'Taylor']}, 2002, 2099, 3000, 'moon']\n"
          ]
        }
      ]
    },
    {
      "cell_type": "code",
      "source": [
        "# Câu 18: c\n",
        "\n",
        "def my_function ( data , max , min) :\n",
        "  result = []\n",
        "  for i in data :\n",
        "    if i < min:\n",
        "      result . append ( min )\n",
        "    elif i > max :\n",
        "      result . append ( max )\n",
        "    else :\n",
        "      result . append ( i )\n",
        "  return result\n",
        "\n",
        "my_list = [1 , 2 , 3 , 4 , 5 , 6 , 7]\n",
        "max = 5\n",
        "min = 2\n",
        "print ( my_function (max = max , min = min , data = my_list ) )"
      ],
      "metadata": {
        "colab": {
          "base_uri": "https://localhost:8080/"
        },
        "id": "1vvbJ_FKeOZp",
        "outputId": "696e50eb-679d-4b2f-ece0-50453746a2b6"
      },
      "execution_count": null,
      "outputs": [
        {
          "output_type": "stream",
          "name": "stdout",
          "text": [
            "[2, 2, 3, 4, 5, 5, 5]\n"
          ]
        }
      ]
    },
    {
      "cell_type": "code",
      "source": [
        "# Câu 19: a\n",
        "\n",
        "def my_function (x , y ) :\n",
        "  x . extend ( y)\n",
        "  return x\n",
        "\n",
        "list_num1 = [ -1 , -4 , -9]\n",
        "list_num2 = [2 , 3 , 5]\n",
        "list_num3 = [0 , 0 , 0]\n",
        "\n",
        "my_function ( list_num1 , my_function ( list_num2 , list_num3 ) )"
      ],
      "metadata": {
        "colab": {
          "base_uri": "https://localhost:8080/"
        },
        "id": "BseE0UCGyhp3",
        "outputId": "0e0d0be0-fa44-43b1-a388-96f48904b645"
      },
      "execution_count": null,
      "outputs": [
        {
          "output_type": "execute_result",
          "data": {
            "text/plain": [
              "[-1, -4, -9, 2, 3, 5, 0, 0, 0]"
            ]
          },
          "metadata": {},
          "execution_count": 85
        }
      ]
    },
    {
      "cell_type": "code",
      "source": [
        "# Câu 20: b\n",
        "\n",
        "def check_the_number ( N ) :\n",
        "  list_of_numbers = []\n",
        "  result = \"\"\n",
        "  for i in range(1 , 10 , 3) :           # for i in (1 , 10 , 3):\n",
        "    list_of_numbers . append ( i )\n",
        "    if N in list_of_numbers :\n",
        "      results = \" True \"\n",
        "    if N not in list_of_numbers :\n",
        "      results = \" False \"\n",
        "  return results\n",
        "\n",
        "N = 0\n",
        "N =+ 5\n",
        "results = check_the_number ( N )\n",
        "print ( results )\n"
      ],
      "metadata": {
        "colab": {
          "base_uri": "https://localhost:8080/"
        },
        "id": "RY72NyFpyhs0",
        "outputId": "7a43717b-9a00-4744-91c7-a519bfc7c247"
      },
      "execution_count": null,
      "outputs": [
        {
          "output_type": "stream",
          "name": "stdout",
          "text": [
            " False \n"
          ]
        }
      ]
    },
    {
      "cell_type": "code",
      "source": [
        "# Câu 21: a\n",
        "\n",
        "data = \"[ ’dog ’, ’cat ’, [1 , 2]]\"\n",
        "print ( type ( data ) )"
      ],
      "metadata": {
        "colab": {
          "base_uri": "https://localhost:8080/"
        },
        "id": "w6OxXXkGyhwK",
        "outputId": "28aaa008-4d30-421f-f1b7-736380878188"
      },
      "execution_count": null,
      "outputs": [
        {
          "output_type": "stream",
          "name": "stdout",
          "text": [
            "<class 'str'>\n"
          ]
        }
      ]
    },
    {
      "cell_type": "code",
      "source": [
        "# Câu 22: c\n",
        "\n",
        "def my_function ( n ) :\n",
        "  x = n [0]\n",
        "  for i in n :\n",
        "    if i < x :\n",
        "      x = i\n",
        "  return x\n",
        "\n",
        "my_list = [ -7 , 99 , 100 , 2 , 0 , -20]\n",
        "my_function ( my_list )\n"
      ],
      "metadata": {
        "colab": {
          "base_uri": "https://localhost:8080/"
        },
        "id": "YHtlfl1Vyhyo",
        "outputId": "7301e5e0-822a-4652-d913-3ea1beb8c1c2"
      },
      "execution_count": null,
      "outputs": [
        {
          "output_type": "execute_result",
          "data": {
            "text/plain": [
              "-20"
            ]
          },
          "metadata": {},
          "execution_count": 95
        }
      ]
    },
    {
      "cell_type": "code",
      "source": [
        "# Câu 23: a\n",
        "\n",
        "Ann = '@ThiS tEst is Very eaSy @@ '\n",
        "David = \"i love iT!\"\n",
        "\n",
        "print (Ann . strip ('@'))\n",
        "print (Ann . strip ('@') . capitalize (),\"\\n\")\n",
        "\n",
        "txt = Ann . strip ('@') . capitalize () + David . title ()\n",
        "print ( txt )"
      ],
      "metadata": {
        "colab": {
          "base_uri": "https://localhost:8080/"
        },
        "id": "TTYinBwPyh1j",
        "outputId": "6f899f42-fc41-4ae7-a25e-a2291454e9d8"
      },
      "execution_count": null,
      "outputs": [
        {
          "output_type": "stream",
          "name": "stdout",
          "text": [
            "ThiS tEst is Very eaSy @@ \n",
            "This test is very easy @@  \n",
            "\n",
            "This test is very easy @@ I Love It!\n"
          ]
        }
      ]
    },
    {
      "cell_type": "code",
      "source": [
        "# Câu 24: c\n",
        "\n",
        "def my_function ( n ) :\n",
        "  x = n [0]\n",
        "  for i in n :\n",
        "    if i > x :\n",
        "      x = i\n",
        "  return x\n",
        "\n",
        "my_list = [ -200 , -99 , -100 , -2004 , 0 , -20]\n",
        "my_function ( my_list )\n"
      ],
      "metadata": {
        "colab": {
          "base_uri": "https://localhost:8080/"
        },
        "id": "hTHKQPvEyh4m",
        "outputId": "ab508e8f-7c63-4e98-90a9-8075c5cabfc7"
      },
      "execution_count": null,
      "outputs": [
        {
          "output_type": "execute_result",
          "data": {
            "text/plain": [
              "0"
            ]
          },
          "metadata": {},
          "execution_count": 104
        }
      ]
    },
    {
      "cell_type": "code",
      "source": [
        "# Câu 25: c\n",
        "\n",
        "def my_function ( integers , number = -999) :\n",
        "  return any ([ True if i == number else False for i in integers ])\n",
        "\n",
        "my_list = [1 , 3 , 6 , 9. -100 , 19 , 2004 , 2023]\n",
        "my_function ( my_list , 2004)"
      ],
      "metadata": {
        "colab": {
          "base_uri": "https://localhost:8080/"
        },
        "id": "a-RY_Ttdyh7f",
        "outputId": "8a31eaf6-b1ea-4d87-90b6-67a00150fb27"
      },
      "execution_count": null,
      "outputs": [
        {
          "output_type": "execute_result",
          "data": {
            "text/plain": [
              "True"
            ]
          },
          "metadata": {},
          "execution_count": 105
        }
      ]
    },
    {
      "cell_type": "code",
      "source": [
        "# Câu 26: c\n",
        "\n",
        "my_exam = \"I do my     homework every evening !\"\n",
        "print ( my_exam . strip ('!') . split () )\n"
      ],
      "metadata": {
        "colab": {
          "base_uri": "https://localhost:8080/"
        },
        "id": "K_1-j0TN7NZx",
        "outputId": "c2fddac2-6213-484f-c7ce-4a751a503808"
      },
      "execution_count": null,
      "outputs": [
        {
          "output_type": "stream",
          "name": "stdout",
          "text": [
            "['I', 'do', 'my', 'homework', 'every', 'evening']\n"
          ]
        }
      ]
    },
    {
      "cell_type": "code",
      "source": [
        "# Câu 27: a\n",
        "\n",
        "def function_helper (x , data ) :\n",
        "  for i in data :\n",
        "    if x == i :\n",
        "      return 0\n",
        "  return 1\n",
        "print(function_helper (x , data ))\n",
        "\n",
        "def a_function ( data ) :\n",
        "  res = []\n",
        "  for i in data :\n",
        "    if function_helper (i , res ) :\n",
        "      res . append ( i )\n",
        "\n",
        "  return res\n",
        "\n",
        "lst = [1 , 1 , 2 , 2 , 3]\n",
        "print ( a_function ( lst ) )\n"
      ],
      "metadata": {
        "colab": {
          "base_uri": "https://localhost:8080/"
        },
        "id": "70s-6Hic7Nfe",
        "outputId": "9bebaadf-3feb-44c6-acf9-a8e1345717b2"
      },
      "execution_count": null,
      "outputs": [
        {
          "output_type": "stream",
          "name": "stdout",
          "text": [
            "1\n",
            "[1, 2, 3]\n"
          ]
        }
      ]
    },
    {
      "cell_type": "code",
      "source": [
        "# Câu 28: a\n",
        "\n",
        "def my_function ( signal1 , signal2 ) :\n",
        "  var = False\n",
        "  for s1 in signal1 :\n",
        "    for s2 in signal2 :\n",
        "      if s1 == s2 :\n",
        "        var = True\n",
        "  return var\n",
        "\n",
        "print ( my_function ([0 , 1 , 1 , 0] , [100 , 11 , 110]) )"
      ],
      "metadata": {
        "colab": {
          "base_uri": "https://localhost:8080/"
        },
        "id": "nv0KjaCC7NiX",
        "outputId": "fd27787e-734b-4546-9bfa-f7869eb2edaa"
      },
      "execution_count": null,
      "outputs": [
        {
          "output_type": "stream",
          "name": "stdout",
          "text": [
            "False\n"
          ]
        }
      ]
    },
    {
      "cell_type": "code",
      "source": [
        "def my_function ( signal1 , signal2 ) : # giá trị trong list 1 có năm trong list 2 ko ?\n",
        "  var = False\n",
        "  for s1 in signal1 :\n",
        "    for s2 in signal2 :\n",
        "      if s1 == s2 :\n",
        "        var = True\n",
        "  return var\n",
        "lst1 =[0,0,0,0]\n",
        "lst2 =[0,0,0]\n",
        "\n",
        "for i in range(4):\n",
        "  lst1[i] = int(input(lst1[i]))\n",
        "print(\"List 1: \", lst1)\n",
        "for i in range(3):\n",
        "  lst2[i] = int(input(lst2[i]))\n",
        "print(\"List 2: \", lst2)\n",
        "\n",
        "print ( my_function (lst1 , lst2 ))"
      ],
      "metadata": {
        "colab": {
          "base_uri": "https://localhost:8080/"
        },
        "id": "nAzJHggPbaXL",
        "outputId": "14d6c65c-bf1a-41f2-e011-c39871f7ada0"
      },
      "execution_count": null,
      "outputs": [
        {
          "output_type": "stream",
          "name": "stdout",
          "text": [
            "012\n",
            "013\n",
            "02\n",
            "02\n",
            "List 1:  [12, 13, 2, 2]\n",
            "02\n",
            "03\n",
            "01\n",
            "List 2:  [2, 3, 1]\n",
            "True\n"
          ]
        }
      ]
    },
    {
      "cell_type": "code",
      "source": [
        "1\n",
        "# Câu 29: b\n",
        "\n",
        "def my_function ( signal1 , signal2 ) :\n",
        "  var = False\n",
        "  for s1 in signal1 :\n",
        "    for s2 in signal2 :\n",
        "      if s1 == s2 :\n",
        "        var = True\n",
        "  return var\n",
        "print ( my_function ([0 , 1 , 1 , 9] , [9 , 9 , 9]) )\n"
      ],
      "metadata": {
        "colab": {
          "base_uri": "https://localhost:8080/"
        },
        "id": "6nSmTloT7NoG",
        "outputId": "47db4b95-2753-4c2f-a42b-104b82a8356e"
      },
      "execution_count": null,
      "outputs": [
        {
          "output_type": "stream",
          "name": "stdout",
          "text": [
            "True\n"
          ]
        }
      ]
    },
    {
      "cell_type": "code",
      "source": [
        "# Câu 30: d\n",
        "def my_function ( data ) :\n",
        "  var = []\n",
        "  for i in data :\n",
        "    if i %2 == 0:\n",
        "      var.append ( i )\n",
        "  return var\n",
        "\n",
        "print ( my_function ([1 , 2 , -4 , 5 , 7 , 23]) )\n"
      ],
      "metadata": {
        "colab": {
          "base_uri": "https://localhost:8080/"
        },
        "id": "ylM32qKK7Nqu",
        "outputId": "91289680-cc83-4c56-fed8-3c122b64fcd2"
      },
      "execution_count": null,
      "outputs": [
        {
          "output_type": "stream",
          "name": "stdout",
          "text": [
            "[2, -4]\n"
          ]
        }
      ]
    },
    {
      "cell_type": "code",
      "source": [
        "# Câu 31: a\n",
        "\n",
        "def square ( num ) :\n",
        "  '''\n",
        "  Returns the square of the number entered .\n",
        "  The number entered must be an integer\n",
        "  '''\n",
        "  return num ** 2\n",
        "\n",
        "print ( square . __doc__ )"
      ],
      "metadata": {
        "colab": {
          "base_uri": "https://localhost:8080/"
        },
        "id": "xbsOGfbD7Nt2",
        "outputId": "4a086b71-c5ae-4e79-c912-5cfd40a1e1bb"
      },
      "execution_count": null,
      "outputs": [
        {
          "output_type": "stream",
          "name": "stdout",
          "text": [
            "\n",
            "  Returns the square of the number entered . \n",
            "  The number entered must be an integer\n",
            "  \n"
          ]
        }
      ]
    },
    {
      "cell_type": "code",
      "source": [
        "# Câu 32: b\n",
        "\n",
        "def a_function ( x ) :\n",
        "  res = \"\"\n",
        "  for i in x :\n",
        "    res = i + res\n",
        "    print(res)\n",
        "  return res\n",
        "\n",
        "x = 'cat'\n",
        "print ( a_function ( x ) )"
      ],
      "metadata": {
        "colab": {
          "base_uri": "https://localhost:8080/"
        },
        "id": "CZtb2Pyo7NwW",
        "outputId": "afdaa781-107d-4ff5-ce7c-c14a54c41720"
      },
      "execution_count": null,
      "outputs": [
        {
          "output_type": "stream",
          "name": "stdout",
          "text": [
            "c\n",
            "ac\n",
            "tac\n",
            "tac\n"
          ]
        }
      ]
    },
    {
      "cell_type": "code",
      "source": [
        "# Câu 33: c\n",
        "\n",
        "my_list = [1 , 1 , 2 , 3 , 5]\n",
        "odd = 1\n",
        "even = 0\n",
        "\n",
        "for number in my_list :\n",
        "  if number % 3 == 0:\n",
        "    even += number\n",
        "  else :\n",
        "    odd += number\n",
        "print ( f\" odd :{ odd} , even :{ even }\")"
      ],
      "metadata": {
        "colab": {
          "base_uri": "https://localhost:8080/"
        },
        "id": "WpqWZpfT7Nzg",
        "outputId": "27218f72-9d1c-46cb-bb27-6f58bacc06e8"
      },
      "execution_count": null,
      "outputs": [
        {
          "output_type": "stream",
          "name": "stdout",
          "text": [
            " odd :10 , even :3\n"
          ]
        }
      ]
    },
    {
      "cell_type": "code",
      "source": [],
      "metadata": {
        "id": "RetgNNuVmjPz"
      },
      "execution_count": null,
      "outputs": []
    },
    {
      "cell_type": "code",
      "source": [
        "!pip install opencv-python"
      ],
      "metadata": {
        "colab": {
          "base_uri": "https://localhost:8080/"
        },
        "id": "zC8QftkSeOPi",
        "outputId": "f5bd9695-f7c5-4dd8-f837-016424b4e13f"
      },
      "execution_count": null,
      "outputs": [
        {
          "output_type": "stream",
          "name": "stdout",
          "text": [
            "Requirement already satisfied: opencv-python in /usr/local/lib/python3.10/dist-packages (4.8.0.76)\n",
            "Requirement already satisfied: numpy>=1.21.2 in /usr/local/lib/python3.10/dist-packages (from opencv-python) (1.25.2)\n"
          ]
        }
      ]
    },
    {
      "cell_type": "code",
      "source": [
        "# DAY 26_ Work with Image data\n",
        "\n",
        "# pip install opencv-python...Successfully installed opencv-python-4.9.0.80\n",
        "\n",
        "import cv2\n",
        "import matplotlib.pyplot as plt\n",
        "img = cv2.imread(\"D:\\AIO\\40-Day Python Practice_Code\\Day 2\\Anaconda.png\",0)\n",
        "if img is None:\n",
        "    print(\"Error: Image not found\")\n",
        "    exit()\n",
        "plt.imshow(img, cmap='gray')\n",
        "plt.show"
      ],
      "metadata": {
        "colab": {
          "base_uri": "https://localhost:8080/",
          "height": 780
        },
        "id": "V68MsF8ceOSM",
        "outputId": "96394880-7268-43a4-91f2-0cb3975b5589"
      },
      "execution_count": null,
      "outputs": [
        {
          "output_type": "stream",
          "name": "stdout",
          "text": [
            "Error: Image not found\n"
          ]
        },
        {
          "output_type": "error",
          "ename": "TypeError",
          "evalue": "Image data of dtype object cannot be converted to float",
          "traceback": [
            "\u001b[0;31m---------------------------------------------------------------------------\u001b[0m",
            "\u001b[0;31mTypeError\u001b[0m                                 Traceback (most recent call last)",
            "\u001b[0;32m<ipython-input-3-aeaf7f2b51df>\u001b[0m in \u001b[0;36m<cell line: 11>\u001b[0;34m()\u001b[0m\n\u001b[1;32m      9\u001b[0m     \u001b[0mprint\u001b[0m\u001b[0;34m(\u001b[0m\u001b[0;34m\"Error: Image not found\"\u001b[0m\u001b[0;34m)\u001b[0m\u001b[0;34m\u001b[0m\u001b[0;34m\u001b[0m\u001b[0m\n\u001b[1;32m     10\u001b[0m     \u001b[0mexit\u001b[0m\u001b[0;34m(\u001b[0m\u001b[0;34m)\u001b[0m\u001b[0;34m\u001b[0m\u001b[0;34m\u001b[0m\u001b[0m\n\u001b[0;32m---> 11\u001b[0;31m \u001b[0mplt\u001b[0m\u001b[0;34m.\u001b[0m\u001b[0mimshow\u001b[0m\u001b[0;34m(\u001b[0m\u001b[0mimg\u001b[0m\u001b[0;34m,\u001b[0m \u001b[0mcmap\u001b[0m\u001b[0;34m=\u001b[0m\u001b[0;34m'gray'\u001b[0m\u001b[0;34m)\u001b[0m\u001b[0;34m\u001b[0m\u001b[0;34m\u001b[0m\u001b[0m\n\u001b[0m\u001b[1;32m     12\u001b[0m \u001b[0mplt\u001b[0m\u001b[0;34m.\u001b[0m\u001b[0mshow\u001b[0m\u001b[0;34m\u001b[0m\u001b[0;34m\u001b[0m\u001b[0m\n",
            "\u001b[0;32m/usr/local/lib/python3.10/dist-packages/matplotlib/pyplot.py\u001b[0m in \u001b[0;36mimshow\u001b[0;34m(X, cmap, norm, aspect, interpolation, alpha, vmin, vmax, origin, extent, interpolation_stage, filternorm, filterrad, resample, url, data, **kwargs)\u001b[0m\n\u001b[1;32m   2693\u001b[0m         \u001b[0minterpolation_stage\u001b[0m\u001b[0;34m=\u001b[0m\u001b[0;32mNone\u001b[0m\u001b[0;34m,\u001b[0m \u001b[0mfilternorm\u001b[0m\u001b[0;34m=\u001b[0m\u001b[0;32mTrue\u001b[0m\u001b[0;34m,\u001b[0m \u001b[0mfilterrad\u001b[0m\u001b[0;34m=\u001b[0m\u001b[0;36m4.0\u001b[0m\u001b[0;34m,\u001b[0m\u001b[0;34m\u001b[0m\u001b[0;34m\u001b[0m\u001b[0m\n\u001b[1;32m   2694\u001b[0m         resample=None, url=None, data=None, **kwargs):\n\u001b[0;32m-> 2695\u001b[0;31m     __ret = gca().imshow(\n\u001b[0m\u001b[1;32m   2696\u001b[0m         \u001b[0mX\u001b[0m\u001b[0;34m,\u001b[0m \u001b[0mcmap\u001b[0m\u001b[0;34m=\u001b[0m\u001b[0mcmap\u001b[0m\u001b[0;34m,\u001b[0m \u001b[0mnorm\u001b[0m\u001b[0;34m=\u001b[0m\u001b[0mnorm\u001b[0m\u001b[0;34m,\u001b[0m \u001b[0maspect\u001b[0m\u001b[0;34m=\u001b[0m\u001b[0maspect\u001b[0m\u001b[0;34m,\u001b[0m\u001b[0;34m\u001b[0m\u001b[0;34m\u001b[0m\u001b[0m\n\u001b[1;32m   2697\u001b[0m         \u001b[0minterpolation\u001b[0m\u001b[0;34m=\u001b[0m\u001b[0minterpolation\u001b[0m\u001b[0;34m,\u001b[0m \u001b[0malpha\u001b[0m\u001b[0;34m=\u001b[0m\u001b[0malpha\u001b[0m\u001b[0;34m,\u001b[0m \u001b[0mvmin\u001b[0m\u001b[0;34m=\u001b[0m\u001b[0mvmin\u001b[0m\u001b[0;34m,\u001b[0m\u001b[0;34m\u001b[0m\u001b[0;34m\u001b[0m\u001b[0m\n",
            "\u001b[0;32m/usr/local/lib/python3.10/dist-packages/matplotlib/__init__.py\u001b[0m in \u001b[0;36minner\u001b[0;34m(ax, data, *args, **kwargs)\u001b[0m\n\u001b[1;32m   1440\u001b[0m     \u001b[0;32mdef\u001b[0m \u001b[0minner\u001b[0m\u001b[0;34m(\u001b[0m\u001b[0max\u001b[0m\u001b[0;34m,\u001b[0m \u001b[0;34m*\u001b[0m\u001b[0margs\u001b[0m\u001b[0;34m,\u001b[0m \u001b[0mdata\u001b[0m\u001b[0;34m=\u001b[0m\u001b[0;32mNone\u001b[0m\u001b[0;34m,\u001b[0m \u001b[0;34m**\u001b[0m\u001b[0mkwargs\u001b[0m\u001b[0;34m)\u001b[0m\u001b[0;34m:\u001b[0m\u001b[0;34m\u001b[0m\u001b[0;34m\u001b[0m\u001b[0m\n\u001b[1;32m   1441\u001b[0m         \u001b[0;32mif\u001b[0m \u001b[0mdata\u001b[0m \u001b[0;32mis\u001b[0m \u001b[0;32mNone\u001b[0m\u001b[0;34m:\u001b[0m\u001b[0;34m\u001b[0m\u001b[0;34m\u001b[0m\u001b[0m\n\u001b[0;32m-> 1442\u001b[0;31m             \u001b[0;32mreturn\u001b[0m \u001b[0mfunc\u001b[0m\u001b[0;34m(\u001b[0m\u001b[0max\u001b[0m\u001b[0;34m,\u001b[0m \u001b[0;34m*\u001b[0m\u001b[0mmap\u001b[0m\u001b[0;34m(\u001b[0m\u001b[0msanitize_sequence\u001b[0m\u001b[0;34m,\u001b[0m \u001b[0margs\u001b[0m\u001b[0;34m)\u001b[0m\u001b[0;34m,\u001b[0m \u001b[0;34m**\u001b[0m\u001b[0mkwargs\u001b[0m\u001b[0;34m)\u001b[0m\u001b[0;34m\u001b[0m\u001b[0;34m\u001b[0m\u001b[0m\n\u001b[0m\u001b[1;32m   1443\u001b[0m \u001b[0;34m\u001b[0m\u001b[0m\n\u001b[1;32m   1444\u001b[0m         \u001b[0mbound\u001b[0m \u001b[0;34m=\u001b[0m \u001b[0mnew_sig\u001b[0m\u001b[0;34m.\u001b[0m\u001b[0mbind\u001b[0m\u001b[0;34m(\u001b[0m\u001b[0max\u001b[0m\u001b[0;34m,\u001b[0m \u001b[0;34m*\u001b[0m\u001b[0margs\u001b[0m\u001b[0;34m,\u001b[0m \u001b[0;34m**\u001b[0m\u001b[0mkwargs\u001b[0m\u001b[0;34m)\u001b[0m\u001b[0;34m\u001b[0m\u001b[0;34m\u001b[0m\u001b[0m\n",
            "\u001b[0;32m/usr/local/lib/python3.10/dist-packages/matplotlib/axes/_axes.py\u001b[0m in \u001b[0;36mimshow\u001b[0;34m(self, X, cmap, norm, aspect, interpolation, alpha, vmin, vmax, origin, extent, interpolation_stage, filternorm, filterrad, resample, url, **kwargs)\u001b[0m\n\u001b[1;32m   5663\u001b[0m                               **kwargs)\n\u001b[1;32m   5664\u001b[0m \u001b[0;34m\u001b[0m\u001b[0m\n\u001b[0;32m-> 5665\u001b[0;31m         \u001b[0mim\u001b[0m\u001b[0;34m.\u001b[0m\u001b[0mset_data\u001b[0m\u001b[0;34m(\u001b[0m\u001b[0mX\u001b[0m\u001b[0;34m)\u001b[0m\u001b[0;34m\u001b[0m\u001b[0;34m\u001b[0m\u001b[0m\n\u001b[0m\u001b[1;32m   5666\u001b[0m         \u001b[0mim\u001b[0m\u001b[0;34m.\u001b[0m\u001b[0mset_alpha\u001b[0m\u001b[0;34m(\u001b[0m\u001b[0malpha\u001b[0m\u001b[0;34m)\u001b[0m\u001b[0;34m\u001b[0m\u001b[0;34m\u001b[0m\u001b[0m\n\u001b[1;32m   5667\u001b[0m         \u001b[0;32mif\u001b[0m \u001b[0mim\u001b[0m\u001b[0;34m.\u001b[0m\u001b[0mget_clip_path\u001b[0m\u001b[0;34m(\u001b[0m\u001b[0;34m)\u001b[0m \u001b[0;32mis\u001b[0m \u001b[0;32mNone\u001b[0m\u001b[0;34m:\u001b[0m\u001b[0;34m\u001b[0m\u001b[0;34m\u001b[0m\u001b[0m\n",
            "\u001b[0;32m/usr/local/lib/python3.10/dist-packages/matplotlib/image.py\u001b[0m in \u001b[0;36mset_data\u001b[0;34m(self, A)\u001b[0m\n\u001b[1;32m    699\u001b[0m         if (self._A.dtype != np.uint8 and\n\u001b[1;32m    700\u001b[0m                 not np.can_cast(self._A.dtype, float, \"same_kind\")):\n\u001b[0;32m--> 701\u001b[0;31m             raise TypeError(\"Image data of dtype {} cannot be converted to \"\n\u001b[0m\u001b[1;32m    702\u001b[0m                             \"float\".format(self._A.dtype))\n\u001b[1;32m    703\u001b[0m \u001b[0;34m\u001b[0m\u001b[0m\n",
            "\u001b[0;31mTypeError\u001b[0m: Image data of dtype object cannot be converted to float"
          ]
        },
        {
          "output_type": "display_data",
          "data": {
            "text/plain": [
              "<Figure size 640x480 with 1 Axes>"
            ],
            "image/png": "[encoded data removed]"
          },
          "metadata": {}
        }
      ]
    },
    {
      "cell_type": "code",
      "source": [
        "# Tăng giảm độ sáng\n",
        "import cv2\n",
        "import matplotlib.pyplot as plt\n",
        "img = cv2.imread('D:\\AIO\\40-Day Python Practice_Code\\Day 2\\Anaconda.png',0)\n",
        "if img is None:\n",
        "    print(\"Error: Image not found\")\n",
        "    exit()\n",
        "img = cv2.cvtColor(img,cv2.COLOR_BGR2RGB)\n",
        "\n",
        "\n",
        "new_img = img.astype(np.float32) +50\n",
        "new_img = np.clip(new_img, 0, 255)\n",
        "new_img = new_img.astype(np.unit8)"
      ],
      "metadata": {
        "colab": {
          "base_uri": "https://localhost:8080/",
          "height": 232
        },
        "id": "hNTQ84sBKv6J",
        "outputId": "f9d7ccd3-1257-4074-b087-1a6f107d35e2"
      },
      "execution_count": null,
      "outputs": [
        {
          "output_type": "stream",
          "name": "stdout",
          "text": [
            "Error: Image not found\n"
          ]
        },
        {
          "output_type": "error",
          "ename": "error",
          "evalue": "OpenCV(4.8.0) /io/opencv/modules/imgproc/src/color.cpp:182: error: (-215:Assertion failed) !_src.empty() in function 'cvtColor'\n",
          "traceback": [
            "\u001b[0;31m---------------------------------------------------------------------------\u001b[0m",
            "\u001b[0;31merror\u001b[0m                                     Traceback (most recent call last)",
            "\u001b[0;32m<ipython-input-1-947eccd18e4d>\u001b[0m in \u001b[0;36m<cell line: 8>\u001b[0;34m()\u001b[0m\n\u001b[1;32m      6\u001b[0m     \u001b[0mprint\u001b[0m\u001b[0;34m(\u001b[0m\u001b[0;34m\"Error: Image not found\"\u001b[0m\u001b[0;34m)\u001b[0m\u001b[0;34m\u001b[0m\u001b[0;34m\u001b[0m\u001b[0m\n\u001b[1;32m      7\u001b[0m     \u001b[0mexit\u001b[0m\u001b[0;34m(\u001b[0m\u001b[0;34m)\u001b[0m\u001b[0;34m\u001b[0m\u001b[0;34m\u001b[0m\u001b[0m\n\u001b[0;32m----> 8\u001b[0;31m \u001b[0mimg\u001b[0m \u001b[0;34m=\u001b[0m \u001b[0mcv2\u001b[0m\u001b[0;34m.\u001b[0m\u001b[0mcvtColor\u001b[0m\u001b[0;34m(\u001b[0m\u001b[0mimg\u001b[0m\u001b[0;34m,\u001b[0m\u001b[0mcv2\u001b[0m\u001b[0;34m.\u001b[0m\u001b[0mCOLOR_BGR2RGB\u001b[0m\u001b[0;34m)\u001b[0m\u001b[0;34m\u001b[0m\u001b[0;34m\u001b[0m\u001b[0m\n\u001b[0m\u001b[1;32m      9\u001b[0m \u001b[0;34m\u001b[0m\u001b[0m\n\u001b[1;32m     10\u001b[0m \u001b[0;34m\u001b[0m\u001b[0m\n",
            "\u001b[0;31merror\u001b[0m: OpenCV(4.8.0) /io/opencv/modules/imgproc/src/color.cpp:182: error: (-215:Assertion failed) !_src.empty() in function 'cvtColor'\n"
          ]
        }
      ]
    },
    {
      "cell_type": "code",
      "source": [
        "!pip install underthesea\n",
        "# Successfully installed python-crfsuite-0.9.10 underthesea-6.8.0 underthesea-core-1.0.4"
      ],
      "metadata": {
        "id": "GhUgDZvCMGPn"
      },
      "execution_count": null,
      "outputs": []
    },
    {
      "cell_type": "code",
      "source": [
        "# DAY 27_ Work with Text Data: Làm quen với thư viện Underthesea\n",
        "\n",
        "# đã cài đặt thư viện: pip install underthesea\n",
        "#Successfully installed python-crfsuite-0.9.10 underthesea-6.8.0 underthesea-core-1.0.4\n",
        "\n",
        "#Gán nhãn từ loại (POS tagging):\n",
        "from underthesea import pos_tag\n",
        "pos_tag(\"Công cụ Suno AI nhanh chóng nhận được sự chú ý từ người dùng khi có thể tạo bài hát chỉ với vài câu lệnh. Phiên bản mới nhất V3 Alpha mới được giới thiệu cuối tháng 2, có bản miễn phí với 10 bài hát mỗi ngày.\")\n"
      ],
      "metadata": {
        "colab": {
          "base_uri": "https://localhost:8080/"
        },
        "id": "ytIBySMegWJF",
        "outputId": "dfd1d2ad-caf1-44ac-ec6d-56a7f6a7b141"
      },
      "execution_count": null,
      "outputs": [
        {
          "output_type": "execute_result",
          "data": {
            "text/plain": [
              "[('Công cụ', 'N'),\n",
              " ('Suno', 'Np'),\n",
              " ('AI', 'P'),\n",
              " ('nhanh chóng', 'A'),\n",
              " ('nhận', 'V'),\n",
              " ('được', 'R'),\n",
              " ('sự', 'N'),\n",
              " ('chú ý', 'V'),\n",
              " ('từ', 'E'),\n",
              " ('người', 'N'),\n",
              " ('dùng', 'V'),\n",
              " ('khi', 'N'),\n",
              " ('có thể', 'R'),\n",
              " ('tạo', 'V'),\n",
              " ('bài', 'N'),\n",
              " ('hát', 'V'),\n",
              " ('chỉ', 'R'),\n",
              " ('với', 'E'),\n",
              " ('vài', 'L'),\n",
              " ('câu', 'N'),\n",
              " ('lệnh', 'N'),\n",
              " ('.', 'CH'),\n",
              " ('Phiên bản', 'V'),\n",
              " ('mới', 'A'),\n",
              " ('nhất', 'A'),\n",
              " ('V3 Alpha', 'Np'),\n",
              " ('mới', 'R'),\n",
              " ('được', 'V'),\n",
              " ('giới thiệu', 'V'),\n",
              " ('cuối', 'N'),\n",
              " ('tháng', 'N'),\n",
              " ('2', 'M'),\n",
              " (',', 'CH'),\n",
              " ('có', 'V'),\n",
              " ('bản', 'N'),\n",
              " ('miễn phí', 'V'),\n",
              " ('với', 'E'),\n",
              " ('10', 'M'),\n",
              " ('bài', 'N'),\n",
              " ('hát', 'V'),\n",
              " ('mỗi', 'L'),\n",
              " ('ngày', 'N'),\n",
              " ('.', 'CH')]"
            ]
          },
          "metadata": {},
          "execution_count": 2
        }
      ]
    },
    {
      "cell_type": "code",
      "source": [
        "#Phân loại văn bản (Text classification):\n",
        "from underthesea import classify\n",
        "classify(\"Công cụ Suno AI nhanh chóng nhận được sự chú ý từ người dùng khi có thể tạo bài hát chỉ với vài câu lệnh. Phiên bản mới nhất V3 Alpha mới được giới thiệu cuối tháng 2, có bản miễn phí với 10 bài hát mỗi ngày.\")"
      ],
      "metadata": {
        "colab": {
          "base_uri": "https://localhost:8080/"
        },
        "id": "5rt9BJ7mrqVc",
        "outputId": "10fc3b76-c3a9-4b6f-98c4-1f51db284997"
      },
      "execution_count": null,
      "outputs": [
        {
          "output_type": "stream",
          "name": "stdout",
          "text": [
            "2024-04-08 05:32:20,557 https://github.com/undertheseanlp/playground/releases/download/1.3.x/tc_svm_vntc_20201228.zip not found in cache, downloading to /tmp/tmpqz6ajh6_\n"
          ]
        },
        {
          "output_type": "stream",
          "name": "stderr",
          "text": [
            "100%|██████████| 75578053/75578053 [00:01<00:00, 50609131.53B/s]"
          ]
        },
        {
          "output_type": "stream",
          "name": "stdout",
          "text": [
            "2024-04-08 05:32:22,368 copying /tmp/tmpqz6ajh6_ to cache at /root/.underthesea/models/tc_svm_vntc_20201228.zip\n"
          ]
        },
        {
          "output_type": "stream",
          "name": "stderr",
          "text": [
            "\n"
          ]
        },
        {
          "output_type": "stream",
          "name": "stdout",
          "text": [
            "2024-04-08 05:32:22,568 removing temp file /tmp/tmpqz6ajh6_\n"
          ]
        },
        {
          "output_type": "execute_result",
          "data": {
            "text/plain": [
              "['vi_tinh']"
            ]
          },
          "metadata": {},
          "execution_count": 3
        }
      ]
    },
    {
      "cell_type": "code",
      "source": [
        "#Phân đoạn câu văn (Sentence Segmentation):\n",
        "from underthesea import sent_tokenize\n",
        "text = \"Công cụ Suno AI nhanh chóng nhận được sự chú ý từ người dùng khi có thể tạo bài hát chỉ với vài câu lệnh. Phiên bản mới nhất V3 Alpha mới được giới thiệu cuối tháng 2, có bản miễn phí với 10 bài hát mỗi ngày.\"\n",
        "sent_tokenize (text)"
      ],
      "metadata": {
        "colab": {
          "base_uri": "https://localhost:8080/"
        },
        "id": "5jr-9PmcoGjy",
        "outputId": "24622c57-aa77-457c-969d-93f399949e5f"
      },
      "execution_count": null,
      "outputs": [
        {
          "output_type": "execute_result",
          "data": {
            "text/plain": [
              "['Công cụ Suno AI nhanh chóng nhận được sự chú ý từ người dùng khi có thể tạo bài hát chỉ với vài câu lệnh.',\n",
              " 'Phiên bản mới nhất V3 Alpha mới được giới thiệu cuối tháng 2, có bản miễn phí với 10 bài hát mỗi ngày.']"
            ]
          },
          "metadata": {},
          "execution_count": 4
        }
      ]
    },
    {
      "cell_type": "code",
      "source": [
        "#Phân tích cảm xúc (Sentiment Analysis):\n",
        "from underthesea import sentiment\n",
        "sentiment(\"Công cụ Suno AI nhanh chóng nhận được sự chú ý từ người dùng khi có thể tạo bài hát chỉ với vài câu lệnh. Phiên bản mới nhất V3 Alpha mới được giới thiệu cuối tháng 2, có bản miễn phí với 10 bài hát mỗi ngày.\")\n"
      ],
      "metadata": {
        "colab": {
          "base_uri": "https://localhost:8080/",
          "height": 126
        },
        "id": "j1YUloU-rph7",
        "outputId": "4ec67cd9-453d-4cda-d38c-f61e4ca68e28"
      },
      "execution_count": null,
      "outputs": [
        {
          "output_type": "stream",
          "name": "stdout",
          "text": [
            "2024-04-08 05:32:50,780 https://github.com/undertheseanlp/playground/releases/download/1.3.x/sa_svm_vlsp2016-sa_20210107.zip not found in cache, downloading to /tmp/tmpac3bhk82\n"
          ]
        },
        {
          "output_type": "stream",
          "name": "stderr",
          "text": [
            "100%|██████████| 2234880/2234880 [00:00<00:00, 11974632.31B/s]"
          ]
        },
        {
          "output_type": "stream",
          "name": "stdout",
          "text": [
            "2024-04-08 05:32:51,371 copying /tmp/tmpac3bhk82 to cache at /root/.underthesea/models/sa_svm_vlsp2016-sa_20210107.zip\n"
          ]
        },
        {
          "output_type": "stream",
          "name": "stderr",
          "text": [
            "\n"
          ]
        },
        {
          "output_type": "stream",
          "name": "stdout",
          "text": [
            "2024-04-08 05:32:51,378 removing temp file /tmp/tmpac3bhk82\n"
          ]
        },
        {
          "output_type": "execute_result",
          "data": {
            "text/plain": [
              "'positive'"
            ],
            "application/vnd.google.colaboratory.intrinsic+json": {
              "type": "string"
            }
          },
          "metadata": {},
          "execution_count": 5
        }
      ]
    },
    {
      "cell_type": "code",
      "source": [
        "#Phân đoạn từ ngữ (Word Segmentation):\n",
        "from underthesea import word_tokenize\n",
        "sentence = \"Công cụ Suno AI nhanh chóng nhận được sự chú ý từ người dùng khi có thể tạo bài hát chỉ với vài câu lệnh. Phiên bản mới nhất V3 Alpha mới được giới thiệu cuối tháng 2, có bản miễn phí với 10 bài hát mỗi ngày.\"\n",
        "word_tokenize(sentence)"
      ],
      "metadata": {
        "colab": {
          "base_uri": "https://localhost:8080/"
        },
        "id": "f3d2b781sUQ6",
        "outputId": "cc5c32ec-7d92-4321-fc4e-d0de0432df09"
      },
      "execution_count": null,
      "outputs": [
        {
          "output_type": "execute_result",
          "data": {
            "text/plain": [
              "['Công cụ',\n",
              " 'Suno',\n",
              " 'AI',\n",
              " 'nhanh chóng',\n",
              " 'nhận',\n",
              " 'được',\n",
              " 'sự',\n",
              " 'chú ý',\n",
              " 'từ',\n",
              " 'người',\n",
              " 'dùng',\n",
              " 'khi',\n",
              " 'có thể',\n",
              " 'tạo',\n",
              " 'bài',\n",
              " 'hát',\n",
              " 'chỉ',\n",
              " 'với',\n",
              " 'vài',\n",
              " 'câu',\n",
              " 'lệnh',\n",
              " '.',\n",
              " 'Phiên bản',\n",
              " 'mới',\n",
              " 'nhất',\n",
              " 'V3 Alpha',\n",
              " 'mới',\n",
              " 'được',\n",
              " 'giới thiệu',\n",
              " 'cuối',\n",
              " 'tháng',\n",
              " '2',\n",
              " ',',\n",
              " 'có',\n",
              " 'bản',\n",
              " 'miễn phí',\n",
              " 'với',\n",
              " '10',\n",
              " 'bài',\n",
              " 'hát',\n",
              " 'mỗi',\n",
              " 'ngày',\n",
              " '.']"
            ]
          },
          "metadata": {},
          "execution_count": 6
        }
      ]
    },
    {
      "cell_type": "code",
      "source": [
        "!pip install translate\n",
        "#Successfully installed libretranslatepy-2.1.1 translate-3.6.1"
      ],
      "metadata": {
        "id": "NQaluqKxMjzS"
      },
      "execution_count": null,
      "outputs": []
    },
    {
      "cell_type": "code",
      "source": [
        "!pip install googletrans"
      ],
      "metadata": {
        "id": "5He0eHe-MwEI"
      },
      "execution_count": null,
      "outputs": []
    },
    {
      "cell_type": "code",
      "source": [
        "# DAY 28_Work with Text Data: Làm quen với thư viện translate và googletrans\n",
        "\n",
        "#  pip install translate...Successfully installed libretranslatepy-2.1.1 translate-3.6.1\n",
        "#  pip install googletrans...Successfully installed chardet-3.0.4 googletrans-3.0.0 h11-0.9.0 h2-3.2.0 hpack-3.0.0 hstspreload-2024.4.1\n",
        "\n",
        "from translate import Translator\n",
        "translator = Translator(to_lang =\"vi\")\n",
        "translation = translator . translate (\" Don ’t cry because it ’s over , smile because it happened .\")\n",
        "print(translation)"
      ],
      "metadata": {
        "colab": {
          "base_uri": "https://localhost:8080/"
        },
        "id": "PhDuBDc2sUXK",
        "outputId": "b6c61a5d-93d9-472e-e9ab-e38835b700df"
      },
      "execution_count": null,
      "outputs": [
        {
          "output_type": "stream",
          "name": "stdout",
          "text": [
            "Đừng khóc vì nó đã kết thúc , hãy mỉm cười vì nó đã xảy ra .\n"
          ]
        }
      ]
    },
    {
      "cell_type": "code",
      "source": [
        "from googletrans import Translator\n",
        "# define a translate object\n",
        "translate = Translator ()\n",
        "# Translate some text\n",
        "result = translate.translate (\"Hôm nay thời tiết không tốt và mưa nhiều\", dest ='fr')\n",
        "print (result)\n",
        "print (result.text)"
      ],
      "metadata": {
        "id": "U_dccoqWsUZz"
      },
      "execution_count": null,
      "outputs": []
    },
    {
      "cell_type": "code",
      "source": [
        "from translate import Translator\n",
        "text = \"Công cụ Suno AI nhanh chóng nhận được sự chú ý từ người dùng khi có thể tạo bài hát chỉ với vài câu lệnh. Phiên bản mới nhất V3 Alpha mới được giới thiệu cuối tháng 2, có bản miễn phí với 10 bài hát mỗi ngày.\"\n",
        "\n",
        "translator = Translator(to_lang =\"en\")\n",
        "translation = translator . translate (text)\n",
        "print(translation)\n",
        "\n",
        "translator = Translator(to_lang =\"ja\")\n",
        "translation = translator . translate (text)\n",
        "print(translation)\n"
      ],
      "metadata": {
        "colab": {
          "base_uri": "https://localhost:8080/"
        },
        "id": "j7Vva9cMv_MN",
        "outputId": "a65bc0ff-2810-4b53-bfb8-62e466cd77e7"
      },
      "execution_count": null,
      "outputs": [
        {
          "output_type": "stream",
          "name": "stdout",
          "text": [
            "Công cụ Suno AI nhanh chóng nhận được sự chú ý từ người dùng khi có thể tạo bài hát chỉ với vài câu lệnh. Phiên bản mới nhất V3 Alpha mới được giới thiệu cuối tháng 2, có bản miễn phí với 10 bài hát mỗi ngày.\n",
            "コン・ク・スノーAI nhanh chóng nh ”nh” nh ”nh” du ”c” s ”chu” t ”ng” i ”dúng khi” t ”t” o ”bài” hát ”ch” v ”i” v ”vài” câu lệnh ”. Phiên b ”nh” t V 3 Alpha m ”i” c gi ”i thiệu cu” i tháng 2, có b ”n mi? n phi v” i 10 bài hát m ”i ngày.\n"
          ]
        }
      ]
    },
    {
      "cell_type": "code",
      "source": [
        "from googletrans import Translator\n",
        "# define a translate object\n",
        "translate = Translator ()\n",
        "# Translate some text\n",
        "text = \"Công cụ Suno AI nhanh chóng nhận được sự chú ý từ người dùng khi có thể tạo bài hát chỉ với vài câu lệnh. Phiên bản mới nhất V3 Alpha mới được giới thiệu cuối tháng 2, có bản miễn phí với 10 bài hát mỗi ngày.\"\n",
        "result = translate.translate (text, dest ='en')\n",
        "print (result)\n",
        "print (result.text)"
      ],
      "metadata": {
        "id": "vybo6rsxv_X8"
      },
      "execution_count": null,
      "outputs": []
    },
    {
      "cell_type": "code",
      "source": [
        "from googletrans import Translator\n",
        "# define a translate object\n",
        "translate = Translator ()\n",
        "# Translate some text\n",
        "text = \"Công cụ Suno AI nhanh chóng nhận được sự chú ý từ người dùng khi có thể tạo bài hát chỉ với vài câu lệnh. Phiên bản mới nhất V3 Alpha mới được giới thiệu cuối tháng 2, có bản miễn phí với 10 bài hát mỗi ngày.\"\n",
        "result = translate.translate (text, dest ='ja')\n",
        "print (result)\n",
        "print (result.text)"
      ],
      "metadata": {
        "id": "qCb88Kjav_ia"
      },
      "execution_count": null,
      "outputs": []
    },
    {
      "cell_type": "code",
      "source": [
        "!pip install librosa"
      ],
      "metadata": {
        "id": "FuOH4V4mOGI4"
      },
      "execution_count": null,
      "outputs": []
    },
    {
      "cell_type": "code",
      "source": [
        "# DAY 29_ Thư viện xử lý âm thanh\n",
        "\n",
        "#  pip install librosa ...Successfully installed audioread-3.0.1 librosa-0.10.1 pooch-1.8.1 soundfile-0.12.1 soxr-0.3.7\n",
        "#Sử dụng thư viện librosa để visualize âm thanh:\n",
        "\n",
        "import librosa\n",
        "filename = librosa.xample(\"nutcracker\")\n",
        "# Load the audio as a waveform 'y'\n",
        "# Store the sampling rate as 'sr'\n",
        "audio,sr = librosa.load(filename)\n",
        "\n",
        "import numpy as np\n",
        "import matplotlib.pyplot as plt\n",
        "time = np.linspace(0 , audio . shape[0]/sr , num = audio . shape [0])\n",
        "plt.plot(time , audio , color =\" blue \")\n",
        "plt.xlabel(\"Time (s)\")\n",
        "plt.ylabel(\"Amplitude(quantized)\")\n",
        "plt.title(\"Wav file visualization\")\n",
        "plt.axhline(y=0, color ='r', linestyle ='-')\n",
        "plt.show() # Biểu đồ cho thấy biên độ của sóng âm thanh theo thời gian.\n"
      ],
      "metadata": {
        "id": "LXlywBNUv_n9"
      },
      "execution_count": null,
      "outputs": []
    },
    {
      "cell_type": "code",
      "source": [
        "!pip install SpeechRecognition\n",
        "#Successfully installed SpeechRecognition-3.10.3"
      ],
      "metadata": {
        "id": "7KfJ_ZEyOamO"
      },
      "execution_count": null,
      "outputs": []
    },
    {
      "cell_type": "code",
      "source": [
        "# pip install SpeechRecognition...Successfully installed SpeechRecognition-3.10.3\n",
        "#Sử dụng thư viện SpeechRecognition để chuyển âm thanh thành văn bản:\n",
        "import speech_recognition as sr\n",
        "r = sr.Recognizer()\n",
        "audio_filename = 'data.wav'\n",
        "\n",
        "my_audio = sr.AudioFile( audio_filename )\n",
        "with my_audio as source:\n",
        "audio = r.record(source)\n",
        "\n",
        "print(type(audio))\n",
        "your_speech = r.recognize_google(audio, language =\"vi -VN\")\n",
        "print(\"Audio transcription : \", your_speech)\n",
        "#Output: Hiện ra tận phía xa."
      ],
      "metadata": {
        "id": "yb3rXoGm7AAi"
      },
      "execution_count": null,
      "outputs": []
    },
    {
      "cell_type": "code",
      "source": [
        "!pip install gtts\n",
        "#Successfully installed gtts-2.5.1"
      ],
      "metadata": {
        "id": "7tRIZ3hrPKYy"
      },
      "execution_count": null,
      "outputs": []
    },
    {
      "cell_type": "code",
      "source": [
        "# pip install gtts...Successfully installed gtts-2.5.1\n",
        "#Sử dụng thư viện SpeechRecognition để chuyển âm thanh thành văn bản\n",
        "from gtts import gTTS\n",
        "import librosa\n",
        "import numpy as np\n",
        "\n",
        "lang ='vi'\n",
        "output_filename = 'record.mp3'\n",
        "content =  \"Tôi yêu AIO. Nơi trao truyền Kiến thức và Yêu thương\"\n",
        "output = gTTS (content , lang = lang , slow = False) # text to speech\n",
        "\n",
        "output.save (output_filename) # save google audio to a file\n",
        "data, sr = librosa.load(output_filename) # load google audio using librosa library\n",
        "\n",
        "import IPython\n",
        "IPython.display.display(IPython.display.Audio(np.transpose(data), rate = sr)) # display audio\n",
        "# Output: Một đoạn âm thanh mp3 với nội dung là \"Tôi yêu AIO\""
      ],
      "metadata": {
        "colab": {
          "base_uri": "https://localhost:8080/",
          "height": 75
        },
        "id": "jSKVZ-QT7AL0",
        "outputId": "3f1779dd-927c-4e83-ec40-c7098280bb41"
      },
      "execution_count": null,
      "outputs": [
        {
          "output_type": "display_data",
          "data": {
            "text/plain": [
              "<IPython.lib.display.Audio object>"
            ],
            "text/html": [
              "\n",
              "                <audio  controls=\"controls\" >\n",
              "                    <source src=\"data:audio/wav;base64,UklGRlgmAwBXQVZFZm10IBAAAAABAAEAIlYAAESsAAACABAAZGF0YTQmAwAAAAAAAAAAAAAAAAAAAAAAAAAAAAAAAAAAAAAAAAAAAAAAAAAAAAAAAAAAAAAAAAAAAAAAAAAAAAAAAAAAAAAAAAAAAAAAAAAAAAAAAAAAAAAAAAAAAAAAAAAAAAAAAAAAAAAAAAAAAAAAAAAAAAAAAAAAAAAAAAAAAAAAAAAAAAAAAAAAAAAAAAAAAAAAAAAAAAAAAAAAAAAAAAAAAAAAAAAAAAAAAAAAAAAAAAAAAAAAAAAAAAAAAAAAAAAAAAAAAAAAAAAAAAAAAAAAAAAAAAAAAAAAAAAAAAAAAAAAAAAAAAAAAAAAAAAAAAAAAAAAAAAAAAAAAAAAAAAAAAAAAAAAAAAAAAAAAAAAAAAAAAAAAAAAAAAAAAAAAAAAAAAAAAAAAAAAAAAAAAAAAAAAAAAAAAAAAAAAAAAAAAAAAAAAAAAAAAAAAAAAAAAAAAAAAAAAAAAAAAAAAAAAAAAAAAAAAAAAAAAAAAAAAAAAAAAAAAAAAAAAAAAAAAAAAAAAAAAAAAAAAAAAAAAAAAAAAAAAAAAAAAAAAAAAAAAAAAAAAAAAAAAAAAAAAAAAAAAAAAAAAAAAAAAAAAAAAAAAAAAAAAAAAAAAAAAAAAAAAAAAAAAAAAAAAAAAAAAAAAAAAAAAAAAAAAAAAAAAAAAAAAAAAAAAAAAAAAAAAAAAAAAAAAAAAAAAAAAAAAAAAAAAAAAAAAAAAAAAAAAAAAAAAAAAAAAAAAAAAAAAAAAAAAAAAAAAAAAAAAAAAAAAAAAAAAAAAAAAAAAAAAAAAAAAAAAAAAAAAAAAAAAAAAAAAAAAAAAAAAAAAAAAAAAAAAAAAAAAAAAAAAAAAAAAAAAAAAAAAAAAAAAAAAAAAAAAAAAAAAAAAAAAAAAAAAAAAAAAAAAAAAAAAAAAAAAAAAAAAAAAAAAAAAAAAAAAAAAAAAAAAAAAAAAAAAAAAAAAAAAAAAAAAAAAAAAAAAAAAAAAAAAAAAAAAAAAAAAAAAAAAAAAAAAAAAAAAAAAAAAAAAAAAAAAAAAAAAAAAAAAAAAAAAAAAAAAAAAAAAAAAAAAAAAAAAAAAAAAAAAAAAAAAAAAAAAAAAAAAAAAAAAAAAAAAAAAAAAAAAAAAAAAAAAAAAAAAAAAAAAAAAAAAAAAAAAAAAAAAAAAAAAAAAAAAAAAAAAAAAAAAAAAAAAAAAAAAAAAAAAAAAAAAAAAAAAAAAAAAAAAAAAAAAAAAAAAAAAAAAAAAAAAAAAAAAAAAAAAAAAAAAAAAAAAAAAAAAAAAAAAAAAAAAAAAAAAAAAAAAAAAAAAAAAAAAAAAAAAAAAAAAAAAAAAAAAAAAAAAAAAAAAAAAAAAAAAAAAAAAAAAAAAAAAAAAAAAAAAAAAAAAAAAAAAAAAAAAAAAAAAAAAAAAAAAAAAAAAAAAAAAAAAAAAAAAAAAAAAAAAAAAAAAAAAAAAAAAAAAAAAAAAAAAAAAAAAAAAAAAAAAAAAAAAAAAAAAAAAAAAAAAAAAAAAAAAAAAAAAAAAAAAAAAAAAAAAAAAAAAAAAAAAAAAAAAAAAAAAAAAAAAAAAAAAAAAAAAAAAAAAAAAAAAAAAAAAAAAAAAAAAAAAAAAAAAAAAAAAAAAAAAAAAAAAAAAAAAAAAAAAAAAAAAAAAAAAAAAAAAAAAAAAAAAAAAAAAAAAAAAAAAAAAAAAAAAAAAAAAAAAAAAAAAAAAAAAAAAAAAAAAAAAAAAAAAAAAAAAAAAAAAAAAAAAAAAAAAAAAAAAAAAAAAAAAAAAAAAAAAAAAAAAAAAAAAAAAAAAAAAAAAAAAAAAAAAAAAAAAAAAAAAAAAAAAAAAAAAAAAAAAAAAAAAAAAAAAAAAAAAAAAAAAAAAAAAAAAAAAAAAAAAAAAAAAAAAAAAAAAAAAAAAAAAAAAAAAAAAAAAAAAAAAAAAAAAAAAAAAAAAAAAAAAAAAAAAAAAAAAAAAAAAAAAAAAAAAAAAAAAAAAAAAAAAAAAAAAAAAAAAAAAAAAD//wAAAAAAAAAAAAAAAAAAAAD//wAAAAAAAAAAAAAAAAAAAAAAAAAAAAAAAAAAAAAAAAAAAAAAAAAAAAAAAAAAAAAAAAAAAAAAAAAAAAAAAAAAAAAAAAAAAAAAAAAAAAAAAAAAAAAAAAAAAAAAAAAA//8AAAAAAAAAAAAAAAAAAAAAAAAAAAAAAAAAAAAAAAAAAAAAAAAAAAAAAAAAAAAAAAAAAAAAAAAAAAAAAAAAAAAAAAAAAAAAAAAAAAAAAAAAAAAAAAAAAAAAAAAAAAAAAAAAAAAAAAAAAAAAAAAAAAAAAAAAAAAAAAAAAAAAAAAAAAAAAAAAAAAAAAABAAAAAAAAAAAAAAAAAAAAAAAAAAAAAAAAAAAAAQAAAAAAAAAAAAAAAAAAAAAAAAAAAAEAAQAAAAAAAQAAAAAAAAABAAEAAAAAAAAAAAAAAAAAAAAAAAAAAAAAAAAAAAAAAAEAAAAAAAAAAAAAAAEAAQAAAAAAAAABAAAAAAAAAAAAAAAAAAEAAgABAAAAAAAAAAAAAAAAAAAAAAAAAAAAAQABAAAAAQABAAAAAAAAAAAAAAAAAAEAAAAAAAEAAAAAAAAAAAAAAAAAAAAAAAAAAAAAAAAAAAAAAAAAAAAAAAAAAAAAAAAAAAAAAAAAAAAAAAAAAAAAAAAAAAAAAAAAAAAAAAAAAAD/////AAAAAAAA/P/7//v/9//x//b//v///wAAAQABAP7/+v/5//v/+//6//r//P/6//j/+f/6//n/+P/4//j/+P/5//n/+P/3//f/9//3//f/9v/3//j/9//3//f/+P/4//b/9v/2//b/9v/3//f/9//3//X/9v/2//T/8v/y//L/8P/w//H/8v/z//L/8f/x//L/8v/y//X/9v/4//j/9v/0//X/9f/1//f/+P/5//n/9//5//z/+v/5//r/+v/6//r/+//8//z//P/7//z//P/9////AAD+//7//f/6//n/+//8//3//P/8//z//f/9//7//v/+///////+//////8AAAAAAAAAAAIABAACAAAAAAAAAAEAAQAAAAAAAAABAAAAAAAAAP////8AAP///v8AAAAAAAABAAAAAQADAAEAAQACAAMAAgADAAQABgAFAAUABgAEAAIAAwAGAAcABwAGAAYABgADAAMABQAEAAQAAwADAAIAAgAEAAcABgAFAAgACAAHAAkACQAIAAkACAAIAAkACQAJAAoACwALAAoACAAHAAcABQAFAAcABwAEAAIAAwAGAAYABAAEAAQAAwAEAAUABAADAAMABgAHAAcACAAJAAgACAAIAAgACAAJAAoADAAMAAsACgAKAAoACgAKAAwADgAMAAoACgAMAA4ADgAPAA8ADwAOAA8AEgARAA8ADwANAAsADAANAA4AEAATABIAEAAMAAsADgAOAAwACwALAAwADQALAAoACgAIAAgACgAKAAoACgAIAAcABgAEAAQABAACAAAAAQAGAAcABQADAAIAAgAEAAQAAQABAAMAAgADAAIA//8BAAIAAAAAAAIAAgACAAAAAAABAAEAAAAAAP///v///wAAAAABAAAAAAAAAP/////+//3/+//6//v/+//4//f/9//1//b/9//3//j/9//0//P/8//x//H/8f/v/+//8P/u/+3/7P/q/+v/7P/r/+r/6//q/+n/6P/n/+f/5v/l/+P/4f/i/+L/4v/h/9//4P/h/+D/3//e/93/3f/e/93/2v/Z/9j/1//Y/9v/3f/d/9z/3P/e/93/2//b/9r/2P/Y/9f/1f/V/9X/1P/T/9T/1v/X/9X/1P/T/9H/z//R/9H/0f/T/9X/0//P/9D/0//U/9D/zf/N/8z/y//L/8r/y//L/8v/y//I/8b/xv/D/8D/wf/D/8T/xf/F/8X/xP/D/8P/wv/A/7//v//B/8L/wv/D/8X/xP/D/8X/xP/D/8T/xf/G/8n/yf/H/8j/y//N/87/zv/Q/9P/0//V/9X/0//S/9T/1f/W/9j/2v/c/9z/3P/f/+H/4P/g/+L/5P/l/+f/5//o/+n/6//r/+z/8P/x//H/8v/0//T/9v/4//n/+v/8//3//v8AAAAAAQAAAAAAAwAEAAQABwAJAAcACAALAAwADAAMAAwADAAKAAoADAAMAAsADQAPAA4ADgAPAA8ADgAOABAAEAAQABEAEgARABMAEwASABIAFAAVABYAGAAZABkAGQAZABoAGgAZABoAGQAZABsAGwAcACIAIwAjACQAIgAjACQAIwAmACgAKAAoACgAKAArAC4ALwAvADAAMQAyADMANgA2ADUANwA8ADwAPAA/AEEAQABAAEAAQwBGAEcARwBGAEQARgBKAE0AUABRAFEAUgBTAFQAVABSAFEAUABNAE4AUgBTAFMAUABOAE8ATwBPAFAATgBNAE4ATgBQAFEAUABPAE8ATwBNAEwASwBJAEYAQwBCAEIAQgBBAEAAPwA9AD0APAA8ADwAOAA3ADYANgA3ADUANAA0ADIAMAAuACsALAAuAC0ALQAsACoAKgArACsAKQAmACUAJQAkACQAIwAjACIAIQAhACAAIAAhAB8AHAAcABsAGgAZABkAGgAZABkAGQAXABcAGAAYABkAGQAZABkAFwAYABsAGQAYABcAFQAWABcAFwAXABUAFAAVABUAFQAWABUAFAATABMAEwARABEAEQAOAA8ADwANAAsACgAMAAwACAAGAAQABAAGAAUAAgAAAP7/AAAAAP7//f/6//f/9//2//b/9//1//P/7//q/+n/6f/o/+j/5f/k/+X/5P/k/+P/4P/f/93/2//b/9r/2//c/9r/2P/U/9H/0v/S/9P/0//S/9L/0f/P/8//zv/Q/9H/0P/Q/87/yv/K/8n/yf/L/8n/yv/L/8z/0P/Q/83/zf/M/83/0P/R/9L/0//T/9P/0v/P/8//z//O/87/z//S/9T/1P/U/9P/1P/V/9X/0//R/9H/1P/S/9D/zv/K/8f/xv/F/8b/xf/F/8T/wP++/8D/v/++/77/vP+8/7r/uP+3/7L/sP+x/6//rf+t/63/rP+p/6f/pv+l/6T/o/+g/57/n/+f/57/nP+c/5z/nP+f/5//m/+Y/5f/mP+V/5L/kv+T/5P/lf+V/5P/lP+U/5b/lv+W/5f/l/+W/5n/mv+Z/53/n/+f/53/nf+g/6P/ov+j/6T/pP+n/6n/q/+t/67/r/+v/7H/sv+y/7T/t/+5/7n/uP+6/7v/u/+8/73/vf+//8H/wP/B/8D/wP/C/8T/yP/K/8n/yf/I/8T/xf/J/83/z//P/8//zv/N/87/0f/S/9P/0f/O/83/zv/N/8v/y//O/9D/0f/R/9L/0f/R/9P/1f/V/9X/1//Y/9j/2P/Y/9n/2//d/+D/4v/j/+T/4v/k/+r/7v/v//H/8//2//b/9v/3//f/+P/6//z//v8AAAEAAgADAAQABgAIAAgACAAHAAkADgASABIAEAAQABEAFQAZABsAHgAfACAAIQAjACYAKwAvADAALwAuADAANQA4ADoAOwA7ADwAPgA/AEAAQABAAEIAQwBEAEUARgBGAEYARQBEAEQARABEAEMAQwBGAEcARwBHAEcARwBHAEgASABJAEkASgBKAEkASQBIAEcASABIAEcARwBHAEUARABEAEQAQwBCAEIAQQBAAD4APQA8ADsAOgA6ADoAOgA6ADkAOgA6ADoAOwA8AD0APgA+AD8APwBAAEIAQwBDAEUARgBGAEcASABJAEkASgBLAEsASgBLAEwATABMAEwATgBOAE0ATgBPAFEAUABQAFMAVABTAFQAVwBZAFcAWQBdAF0AWwBdAGAAXwBdAF4AXwBeAFsAWgBaAFkAVQBTAFQAUwBNAE0ATQBJAEUARgBEAD8APgA+ADkANgA5ADYAMAAzADYAMAAtADEAMQArACoALgAsACcAJwApACcAJAAjACUAJQAhAB8AIgAiABwAGgAcABwAFgASABQAFQAOAAoADgAQAAkABwANAA4ABgAIAA4ACgAFAAoADAAHAAcACwAJAAcADAAMAAgACwAPAAwACQANAA4ACQAHAAoACwAGAAQACAALAAgABgAKABAACwAGABAAEwAJAAYADQAOAAcABQALAAgAAQAGAAkABAABAAAAAAABAPr/+P/+//n/8v/0//j/9//y//D/9f/0/+//7//t/+r/6v/p/+f/4//g/+H/3v/a/9z/2f/T/9X/1v/Z/8//w//V/9b/vf/H/9P/xP/D/8b/zv/V/8L/wv/J/7z/zv/V/7n/v//J/8P/z//J/8D/wv+7/8T/xP+3/8X/wv+3/8n/yf/A/8j/yv/K/8b/vf/H/9D/yf+8/7z/xP+8/7P/tv+5/77/wv/E/8z/zf/I/8T/xf/D/7b/u//F/7r/vf+8/7L/xf+8/7D/wf+q/63/w/+c/57/tf+S/4r/nv+l/5T/df+b/7P/d/+Q/8X/k/+M/8v/wf+H/6D/2v+w/5L/x//G/6H/sP/C/6r/hf+b/7P/kf+b/77/vf/E/7n/r/+v/6L/xf/B/4T/of/M/7//r/+m/9L/5//H/97/7P/k/+r/1//u/+7/v//y/wQA3f/9/wEA9/8QACoASQAcAPz/QAA4APz/EABFACMAuv/p/00AEADv/wAABAAeAAsARwBcANn//v8SAMH/JgAsANL/1f+9//D/1//H/5AAKQBn//7/KQDU/53/4/8cAOf+S//DADL/3/7JAA4Atv67/nT/dgDB/5/+UP5Y/rL/5/8k/00AHAAB/ykAdQCH/xMAAwFmAD7/DAAeAYIARADk/2r/OwBBAA8AkgDU/2D/FwBMAI8ALAEGAS0ATwCyALD/DAAAAeX/gADQARwBZQGDASUBdQFnALcA1AHbACQBnAAq/5kAawAmABcC1wBkAKsBn/8j/4UAcwD/ANcAtAAgATMAhAECA4UBKgJGAxECFQLpAZUAtAAOAW0A1QBBAtwBRQE9Al8BvgD/AScBCQG/AeL/Pv8C/xL/NwHy/yn/DAGs/7oC+AYqAigALQFe/kgA2QHU/nv/Of8w/e/9SP0d/Wb+tf2B/cn8s/uw/Qv/5v5VAAUB6f8dALsBHAK/Ao0DVQHwALgCYgAL/w3/8/t//GT+gv2AAN4DtQR4BWQC2v8pAD7+5P0Z/fz5bfwd/2f+1wBVAdv+0/65/KX5YPpX+6j7g/wY/Zf+8ADcAmgDvAHG/6P+L/3X/O/9s/0t/Uz+s/5v/lv/Q/+d/hwAAwEhABYABABJ/2f/cv+9/n3+2f6o/l39l/yd/D77BvpG+kX5+PhW+gf5Vvi9+t36K/rS+e72z/WW9t31FfbR9Vv1aPbP9OTzGPVh83fzivNA75vvN/IV8kz13PYr9Vf3RPlj+jn9Bv4k/38BHgPhBTcHygcUC10NuQ7VEEgReRKzFT8XphaRFpsX0heRF/EWaBQNFAYWfBT8EX0Q/w0rDXQMqwkFCC8HQgbCBMwBXwDf/1L+tP0R/B75uPdK9Wvx6+5T7Cno0OPT4PLeOd4K32He3NwF3gLe3Ns224/ZhNdl13HW6Nfw3sbnPPGe+fUAbwunFbYcoSLSJLAm6CukLZIuMzNfNeY39jtsOy08eD5PO+829TB7KNIiHhwEFWoRsQyBCaIHqAJrAccBf/7o/BD66vX89bX1qfW7+Dr8egEKBxMMOBKwFYoX4hjiF9IY6RkvGKMXgxeFF3gX0xQVEsIO2glPA8z35+zi5VTeTthd0WXJVMZDw26/QLv/ssOtx6kdpQ6p9K66tvLFRtGS3kXyKAA+DpUawR61JZ8quCsIMb4zjDjeQcJFiEotTulKTkleRJU5FzAMJGsXFw5EBQn+nfcQ84/wfuzJ6c3ltN5X2wDYA9SR1NXVUtoH5Dju6flqBMgMkxUlG2EgSSYWKGYq8Cy6LG4uGDB5L6wuyCwWKU0iGBqEEV0GYv049bDp3+EW23rRJ8t7w7q52LK4qVugYJm3kbCMiohxhguOZpsGrW/CftPQ5EX6Bgz3Gkwnai2BM6Q7RkF9RvNMtlLoWE9e4F5pW1ZVsUyxQpc1xiUlFzQKdQE2/IP0vO1u6avjq9/N2ijS68zuycLGLseOyRLPgNnF5H/wgfwwCL0TnxukIBMlMyh+LIAwJjLMNDU3LjiAOJg1zzBVK1ojIhpSDxsDHvjA7XfkGd3x1fPOu8dpv8e29K3MpMebF5Qrjl+JlYZqhoaL1JmzrdbC+Nck6sH85BH1Io0vJzncPmFFNkzeTx9U2VmIX05kDmTeXnJX801ZQ9w1uyTHFEAHRvyJ9WLv0eg/5RDil9112bPTBM58y2HJD8giyiLQeNvo6AH1RgG6DEIYdSNRKFEqny0IL+ox7TSCM3Q03DZ1NeUzdi+5J2EiCxtfELoFKPma7unn2t9o2LnRjckvxJa+A7UErTSl95xdmcaUiI59jeONVJMYpF+3nsxr5Ej24gilHtwtkTqJRF9IpE7LU5tTHFa9WaZdYmKBX8lX21A6R/08mDCSHhwPmgNZ98XuIumP4hTgGN8n2fPUDtSq0a7S9tQq0zvVftz65C3xZP1sB2cSSBySJCwqwCxSMdc0GzUyNr80+TLWNZE1wzDJLAMnpB9kGbMQ4gQv+0/zVukF4MLYdNHFzBHJ38GRuXeyY63eqEOjgp8wmx6XlZhTmZueW7I0yKjd9fTfAxwUKit1OoREGEyqTUFRiFTXUvlSZ1V1WX1cXVeBTqdGwD03NUopyxYzBsL6HPBD6GTjpd2k25ndp9qY1uLWS9es2n3fH97+3evkiO5k+osFlA1sFj8gRSjaLJQvnzPCNp034TYiM1cwszBZLz0sbChLIqUbKBU1DScEEvvk8RXovt7O1snPIsp0xQjArLlBtEGw3apapYihM5wlmc2Z65jqnwGz1sfo3xr3+gWYGO4tTDsJRnhMZk3mUBJS8k6cTqRQtlRPV3lSx0pOQzQ7ZDOLJjAUPQXS+cnu/uah4Enbz9z13//c2tlx2Snacd7W4K/dit3p44vtiffo/38IaBI5HX0mZCkbK3gwdDNrNBg09S7iK1ItcSzeKY8mByGeG1oWxg7BBN/6o/IM6qPggtdMz9LJisaQwmO817XfsUKtqKYjovCcPpjcmGyY35o7qoy+vNSK7Xj/hg9YJJE0XkDQSUNMFE7sUD9PVU5qTy9Q/lNtVL9No0djQB83Ey+7IIEOcwKL9wTtouYK31bamtxy3LDZJNnf2DfbW9+T3ybfOOKV5//ulvYe/VUFBg8FGM4fLCVUKYwuczKkM+symi+lLBgsESosJp0hTRvJFe0QHQlyAEL4JO+h5hbe39S8zdzHt8EZvPG18q/hqvuknqAxnnmaNZiflyqZP6WTuBTMCuNO91UHXBwaLj85dkUwS/9MMVIYUSVOcVCPUT5VEVjhUThLw0ROPBY1XSfuFd8Jnf108iLqfN/02Q3bf9kU18XVkdRz1wrcHN0P3Qzfl+Nh6m7xD/jc/xEJDxPZG+kghiX7K2MwMDM/NNUwFi9mMOwt4SkTJtofgBp6FWkMOQL9+cbxq+jW313Xss8yyjTF+r7PuNWzba95qYOjlJ9TmgGXtJe2luaciK5awEzWMO7E/TUR6SfRNS1CYEqqS5tQTlOrUFxQIlFmVW5ar1czUhpMNUVWQPU0ACNbFOsGzvq98U7m09ys2rPZtNdi1mfUztTx2IbaSNnK2SPcUOJO657xc/hEAgMMoBZPH2kkKityMS00HzV4MxAywzKVMVEuqSk/JM0f9hkuElQK3AFL+Ujw8OUW3F3Uoc6VyBTCkrw8thaxw60Qpy+htp40mgSY9JiVmWCjj7bYyajeaPKjAtQWYyvWOMJCpklnTdpRb1MpUQtS+lXPWeFbh1fwTw1LZ0WEPSIyJSEFEloGoPkv78floN1s3GbbMdcR1S3TctSo2UPa+thT2lTd0+Tf7Dry8flAAzkNjhdEHoYkTSz6MRE2Gzf9NGk0/TPGMYYu8CjcIrodixeTENQIVQBN+Fnv6eTl2rXSt8yBx4bBXrp0szuvTauqpbOhVp7rmtqauJqSnJWp07xq0OzlgPfPBsgbqC7DOvJEdkrPTHNQ+VCRT7tRLlYzWjRaa1WgT+pJKUWFPoswriA9E9oE1vi77//lv+CW33Pbntax1FbUttXx13vXGNVn1l/bLeBt5xrxcPm/AzEP7hZHH9UozC4mMwI2kTXjNMM0AzSRMhow0SxbJ2sgvRrXE50L4AOD+Gnrb+Hr12PQA8yxxUe/dbq4tEKw+qttpr+ikJ6zmVqXIJaqm8Wrs75o06voMvnFCxIhITC2OxFEJUYqSfxLfUooTGJRnlZeXKNcfFekUwxPjkj1PsAujh48ETUDcfjC75XnXOUm4/7co9kr19vVMdii1sjSmNKH0+LXHt9e5e3uFvqiA3wOQBfzHuUocy7lMNwzaDPkMx02YDQzM5QyHy5/KYwjRxuoFJYMiQHU9Qnpct46117QmsoIxfa+gbritWuwb6tKptChYJ14mOSVS5dNoJKxxMTo2Prs6P2VENUiXi4HOOc+JEENRfZGcEbUS2BTJlotYBpf/1pVWBNSBUklPEYrmR3FENcCO/gp71vqFeqn5dbfLNxn2AXYm9Z50LnNCs4E0B7WW9tk4n/vnvvgBfMO5hQ7HQ0mVCmoKiwrXizsMP0yXTI/MxEzPjILL6ElZBwmFTALLQAf85/k99tc19LRysyDx6bBUr2ZuP+ww6gqo66evZmNlteU2ZfUpfe4mcuq3wLxNQDCEUcfrCd8L2A0EDhvPCU/mUOFSw9VW14PYqZgul2sV2NQBUefN64oCh18ED0Gqv4i94fzZPGo6pniPtyd1o7SKc/FygHIrMllzlfUvNx+5/rxFPz4BEsKvg+BFyUdYCGLJRAn+SnILzkz7jVhOOA2wDOHLo4lDB2GFGIKLQCM9MLpf+Jk3BXYOtS2zfXGi7/4tg6wrKgroSycqpdllaWWMJsoqNm698wI31fto/kbChIX5h49J6orcDBcOao99kJsTopX8l8cZZtgIVzbWJJQzEZYOR0q0SBSGAkPCQgqAfX9a/v98Yjn8t6Y1/bT4s2zxTHEfMf9zBbUO9ov45jvK/q8AKsDyAcCDxIVLhp3HZofAycDL8MyDjfTOOc3ZjgtMygp1iF6GUQQqgf0+ynyDO3556/i3tsT1CfOlca1veu0/qlSoqad8ZZ/lKSV/ZcwpA61gsOW1MLiU+1B/PcHSA4XFkMcCCNGLQo1Dj2VSApUal4GZGtjuGDJWwFVjkx4QHQ1yi0vJsUfmBlyEt0Nugh+/jfyH+ap20rUKc1fxkHEc8dXzfnSztct3uzl5exM8XvysPRu+oQAhAfxD5MX7SCGKvMvjDQaOJs3GTY0MvIqayV6IEIaxhR+Dh0IVAM0/Sb1K+yP4uDZo9C6xY+7IrIKqhqlrKC3nAGcDZyWnrSodbWrwS/PR9mb4ujw9ftYA88NphaVH0crATKZOEFFzVD9WfxfGF/QXEdb4FYHUJNHsz+1OQwzWivbIuUazRX/DtYCcPV46ajfldh80T3KHshFy/XN2M9A03XX5N2Z5Cvm9ub162nyXvpPA8AKChOCHEEkAiqMLnQybjSHMzgxBC35KN8n6yQzH38aDxRSDKcFgfvC76bnFt+C1NnK3sDot9yyT66yp+Gho51amo2c7KXdsF68R8iE0ADaX+cD8dD5QQX/DXkXpiGZJx0xkz82TChXhFzrW9ZbplrHV9tTQk3DSGtF6j4eOL8vdCfGIiUafAxy//Hyd+k04hzZDtLdz5DQGNHkz3zQntNE14zaTdpU2nDg7udO71T4GwDbCIsTlBrjHjcktSisK5UtciyjKhEsVy2pK+knNCLyHFIXPQ6JAzb4mu/g6X7f0NS6zI7Cab35t0irn6Rxn4CZ4J8fp86tubtMwsvHVdOr2OngK+yT8tT+CArcEJYdTSkoNyhIu0+yVJBXCVUOV5hWjlKAU4RR5062TCxD4TtlNyYvoCZnGLkHVf0T8yDqAeSY3YTcQdxW17/T6dDRz7zRfdDtzlXRhdVO3GLkQuz49QAAxAcDDewQbxXcGjcgQyQOJ/EpAy3hLsstGyt2KAAkOR4DFqgKDwOJ/TX1Le4b5f7Z3NIUyVe9MLWQqzqkuaKIpF6s4bT8uXS+XcFSx/bNzdD82ELj5+xB+wEESwwSHlwsxTi8Q/xDJEYHS/9KO07TULFSxFhfWNNS20s/QpI+ZDlXLOEg6RMcCfoE2/vo88nyc+5a6U7iNdet0iDSbM/WzfLMR89k1frZc94F5Dvq5fHh9rP5+/5aBQ0NsBUrG20fCiRvJsInpideJTckgSJSHo4ZDxOoDWYKUQMX+w3z6ecv33TWfMrpwjm7R7KVsMOxXrYNvnm+gr3pvhC/ecOYxxjM7dhS5JDt0/eu/UgJQhmAItYr9DHkM6s6lz6RQYFJTU+WVqdaflR7TuhGaT8APpE2qS2vKZEgOBn6EjIHPALi/jv1cu3542Dc4Nuk2JjVV9Us1FvWYdYM1I3X5NtF4lHqyezQ8Q35fP3LBYILUA6kFUQYwxl5HpYdOCBfJVsiECE9HlQWexTlD9QGbgI++4HzNu3l4bjYm9B0x3zDT7/9v+LGwcVJxEvDBLwevgvD78JmzcfX+tzG55HsG/Cu/D0HTRIiHaAhqSfcLPYxNjsWQUJJD1LUUCFPDUuDQvFC1EIXPeA6RTRqK28mvB3YFWARfwruAp35hvDy607ol+WV4o/d/drC2NXVX9by2IDdnOKa5PPl3uen633yPviV/XMD7QZvCkcObxCeE/YXqRreGsoZvBdkFBgTvxFvDOEIEQVZ/Jz1Ze7x4w/e7tiE0nzSU9Xa1ZzUF9A7yXTEOsQ7xYjHTtAH2VHdd+IO5IblzO9s+d0AuwsvEx8Z9iCPJYYqiTKNOhxBQUNdQp9Anj4cQAlB/z1mPEg5fDL5LBomhh51G6EXOA+qBnD/dPnM9TPyTuzY5urjquDP3BHcfN223njhH+NF4WnifOZO6cvvEvdX+av8GQDeAIYE0ggRDKQQSxOwE7ER8A56DyoOKgwTDAIGIABB/Uz0ye136pniUuCB4uDhR+Ie37fXsNEezSPMBs080XjaR94B30DgRNxY3yrqsvCq+9EGcwmCDn0SgRN4G3gkJiw5NI42JTaYNTc1hziNOok6yzoDN84yWy9WKT0m+yPgHcUXjxAKCooHaAM4/ij6FvRZ7wXsHOfA5RTnMebj5WHl8uJY4xHmbeiV7PfwGvOr9DX2IPgF+xD/agSEB1gIAgoYCR4IxgrDCTQIfgphB0wCAQCM+Rf02/HS68rnN+n+6nPruOgq403c29YY1jzVn9bJ3p3iM+Lo4pTdW9uh4/LqofNb/rwBgQOnBqMHqQv6E/wd8Sa7Kvgq/ijCJ0ssgjAVMqE1fzWGMT4vrCoPJtIl4iNlH6IbKBdQEvYNigmzBM3/kPz4+Bv0LPLM8OrtZe2l67Lng+du6AnpMuwN7jTuo+9t8LPwTPLZ9RH7J/8TAf4Aq/+XAJ8CEQMUBF0FVgUYBMcAUvyD+FD2o/RD8WXvAPBG7wjvaO0w5yTjrOEQ38/fxeKL5HfnkujE5Prg6OEz5+ruIPfc+wf9TP8HAaIBywZXD9QXPB9CIdAeEB6oINYklyjCK6AtyyxEK3soUSSsI4kk1SKfIOEcThdwE2AQUQy+CH0GwwMyAHX93PkC9qv0NPLv7mTur+3e7Xrvqu4z7pzuAu7p7hLw1fGX9QP4uPnP+tD6aPxI/QT+HQAcAPoApQHm/sn+M/7++uv6ffij9G306vFs8P/xAPFg8CHuFem75snkVOUU6eDpZ+vX69DnTeeV6PHq6/LU+CD7/fzA+/f7X//fA28LSRLRFocZqheNFsQYThtoIL0k/yTrJEQj+h9/HkseCB/DH5QeXBvNFk8T+BBaDngMIArYBh8EygCJ/VH7Ofnq91b2WPRo8w3yFPE88YLwb/A28Vjxb/IE9Fn1HveN+Cz6qPst/O38LP13/RL/lP9D/0D/if5K/t39Sfzh+rL4mPYn9YHy//F886Hy1PG0713qn+ht6e/oReuN7WbsJuwU61ToqOlQ7vTyhvcI+tD51Pmh+3H+UAJHCGUO9RGrE34TVhI7FO4XXhoQHc8eWh4VHvEcDBtzG3EcZhybG9QYjhUGE0gQBw6sC1kJKwj5BVsDWgHt/Y37qvpS+F73h/cK9pL1OPVu8xzz8/Pg9F326ff++K34hfiH+c35o/uU/rD+Tv+hAED/df6o/h3++P5JANX/a/39+s35I/dB9c71G/Qz9Kr2wPP58G7wcuxs6zPtKuxy7YrvuO7u7U7skuvJ7RTxE/YD+fD4nvrZ+uP6P//rAgkH+gxgDr4NPA5YDtQQYxSgFtQYgxlGGfUYORfPFvcXLBhEGFcXihT/EUIQZw5nDFcLkwrSCGYHLQVXAYn/5v59/TH9g/zY+iL6J/nE90v3y/f++Jf5s/na+Z35aPqg++X77/w1/t7+0/8hACkAmgC1AAUB4gAnAAQAEv+a/e/8r/uz+sT6l/lo9771+PO18m3zA/Th8vDxFPAW7QTtVe5f70HyW/PW8TTxFPA48HTzt/Ym+ij8xPt6/Cr9FP/8A+YGawmkDCUMLAzyDV4OQhHPFIwVCRZBFdoT1BNoE60TGRQvEw4TtBFvDr8MZgvkCfAJZQlFB3UF6gMpAZH+Cf6R/Uz9Uv7y/Br6e/ni+Iv49PmY+pz6Jvs/+8L6lvrZ+4H9bv50/4j/J/8kAOAAIQGAAbMBjAJZAiABjQDJ/h/+h/+C/oD9ef3g+tH4u/fJ9bX1o/bn9vH1M/Oq8bLw9u9G8jDzg/Iu9FPzKfER8oLyG/T79+z5vfoH+z37rfzQ/XUAEgSvBV8INQrkCLoJgAtxDEkPLRFkEcMRSBH2EEkQpw/2EMAQ2Q8uEI0NMgt1C0kJxQdLCGAG4QQ1BJEB7f9z/7v+i/6o/Z/8+/vA+pz63fo5+tH6bfvI+gf7jvt4++r7pvz5/H39C/9FADwAuQDgAEgAjQG5ApwCTgPBAkQBFwGEAEIAYQAE//H91/xm+2T7bvq0+PX3M/Ys9a/1H/Xc9IT0ofKQ8WXxefGW8njzIvN+8n7y8vIv9N32iPga+aT65fo++y7+CACsAaoE2gXJBpAIbQlHCk4L6wxUDqMONBCBEOYOzw93D+oN6A8/EJ8Okg5VDJIJNQnvCKsI4AeQBuYEEAIdAegAHv+B/4//I/2n/P/7Lfpx+qX6GvpV+or6lPpP+i36VvpU+oX79vxf/fr9+v22/UX+nP6L/9sAVgGrARgB+v+s/+H/eAAdAEz/+v5J/bf8UP1z+237Nfwt+dz3WPf09C/2hve29d70cvMT8svyO/NK9Bv1qfRk9eH0KfTK9rb4A/rD/FH9dv2e/7sAYQFAAzcFEgf6CG4K1woACx4MAg2WDUUPlBBvEO4P1Q5pDZENzA7TDtENkQxTCkAIugcGByEGIAbpBHMCAwG0/2f+kP5f/hn9ufxZ/Az7kvpx+sT5Ivoc+x77OvuZ+/H6iPqP+8T8Gv6f/47/hf6c/mT/dADLAVICEgLPAdcB/QGZAXEBmgHDAFUAbwAD/+n9if2F+z366/qN+uj51Plr92D0YvTY9MT0i/aD9q3zdfO085vy4fQ193D2Vvcy+Nr2JvgL++P7Zv3h/0AA0wBGA/4DdwR8BxwJxQnvCxYMpQsYDVoNug1DD5kP4g98D5oNwQyDDJwMgQ0IDWcL5gk5CNMGBwbLBWMFUARXA70Byv8V/2f+YP0e/TP9Cv1o/Nf7+Pqp+W/6yvvC+xL9wv0r/OX7Ifwt/Pr9BACcALL/K/93/7f+6P/1AcUAVQFNApL/h/9OAG/+Jf93/439Sv1E/Lf6RPqI+W35gvjk9nT2Z/WX9ZP2JfWd9GT0VvO99GP1HfXT9tj2bPaJ94T3x/h7+5b8WP0P/u7+pgA+AucD6gSjBdwHbQn5CS0LbQtgC7gM1w05Ds4O9g7IDdIMEA3EDMkMhQ0VDB4KUQnCBxwHmgeiBkUFBQRnAmMBqwAAAD7/Qv76/W/9Wfw4/MT71foj+zL75fos/O787vuV+3z7WPs9/fv+nf6a/qT+Qv4L/7D/7P+jAO4AVAFEAWgAuQC3APX/bQBIAKL/8v9N/7H9YvzM+4n7pvqr+iv6fvcS9xX3z/Q39YX1CvNz85X0n/Pu8wj0p/JJ8rfzd/UH9gX38ffT9mr3lPlP+qb8YP+8/4cAsAG9ApcEGAbsB5kJRwoRDD4Njgw5DXQOlA7FD2IRkhAWDxsPDg7JDHEOsA5ADL8LgQp0B38H9AfNBQkF8QR8AuQA8wAq/6L9M/5R/R38h/xw+6r5VvkD+Q352vmP+mH6G/nr+DL54PjG+i/8dvuz/Lr8Fvud/C/9pPzQ/g7/3f0y/jr9xfx0/Rb9FP1D/HD71PtB+in6UPul+Eb4Cfnl9Uj3G/rf9+z3Lvey89z1B/lC+T36x/mc+MX48vk7/OH8Dv5bAFf/DwCnAlICrwQTB8sF0QeSCmEL3QwrDHcLTwzdDHIPWBCzDs8OFw2DC1wNDQ0pDPYMhwtFCaAIVQjKBk4FpAWPBBEDowOPAfn+av8W/qf8Ef5T/qD8YfsD+8v5avky/Mz8PPsi/Hr7jfoT/eP9UP2a/nD/tv49/gUA2wDA/3YB5gEMAOQBQgKPAL4BYwGoAMQBAgGy/2D+Dv47/+j9+PwZ/ej6O/rm+Vb4UPgb9872m/f69Bn0rPMg8b/zt/Vw8zD1WvWt8STzMPZq9kz4dfo4+ZT4y/q0+wn9GAEzArwBXAQLBkAGIwg+CggL6AtoDucPdA8CEEQPWg5WEdMSFRKcEroQRA7EDl4PfA/dDjsNtwsbCvQIlAeSBgUHOgUWA/oChwDg/ln/O/2m/ID9dvv8+hj7Wvia91b5Bfox+m36xPlv+FH4Z/lI+v77gv1V/E37MPz6+zz8K//1/5z+kv9Z/579ef55/rr9Jv8K/3j9mvzG+wT7rPlA+jr7FfiE96j4cPXs9cb2NfIA83r10/PW9Z/28vK08gf1CPe7+Az6ufpa+eT5j/wP/er/PwP0AakCCwWvBY0IKQtWC7MLegzsDg8RsRCxEAIQHw9jEbISahENEXEPgAz3DGwOIg0RDKIKBAe3BSEGxATiA5ACEwBr/9z+bv1h/On6dfq4+ir6I/p8+Qb4uPfW98X4bfof+/z6DfrL+Tn7y/yN/iL/Gv6V/nf/3/8cAS4ByQBOAVMBjQGKAUIBUgFx/1D+M/8P/kr+6v6S+uT4lPqN+Nf4NfrB9cnzPfUh8xjyD/Pk8bDwkPAQ8AXu7O398SjyCPGI9Brypu9d9ln3qfbD/J77WvkH/p/+y//0BIwGFQdMCGsKfQxbDHgPyREEEC0T9RRmEpAUcRSjEdATgBR9E/gTUhLTD5cNJw2UDgcNLwu0CakFiATfBMcCgwKGASj+Jv3C/GP7oPq++fD4Zvjo9xn4Cfj09jn2xPbe9035Tvp8+R35+fnY+XT7eP4z/m/9SP5s/k3/6wD0ADMADQBdAJUAQQE4AY3+s/xV/eT87/sn/GD7qPiZ9kb2GfVq9AP1FPK372nxEPCj7vbvAu0S60LvKfJf8tTxGfDg7znz6/fq+Xr62/sr+/P7mgC5AoUEPggSCdMJyQskDUYQShItEpoTDRVUFhMXsRVbFawVchVyFhkWdxQZE64Q2Q9zDxMN8gxtDKQIWgZsBNYCrgP2Afj+K/5L/Cj7TfvN+Vj5ufgY90L4YfgX97L4svhv9/34J/r9+5L+Hv1Z+9T86f44AQQDDAMRAkIBKwKAA7EDJAQpBDkD2wINAmkAQQCeAE7+WPx7/SP8Lvln+Uf3XPQ/9jH1gfG68evvoOwR7t3uHey060DtAesP6S3sOu3J7afyR/KL76zylfNk9Gn6yf1r/pD/mQDhAR8DAgj/DOgMnA/KEdcPfRPwFR4UkheKGbkYRhpoGX0Y7Rd6FoUYRRiDFp8XwRMSELkQHA7jDU8PWAuNCK0GwgOGA5oCwwGsAZH+ffyN+1v5rvl++rH5Uvlq+Jf3T/dc94P4pfhR+dz7gPuB+gr8afsN++n+DQH1AIgCUAEf/vX/rwLgAqEEYARAANX+0f9B/5b+tP7E/HL5svnP+fz1QvVV9D/vOvAd8qbt8eyo7MDoWeoD7PvocejS6eTr2u7Z7w7vC+0R7uLzLPc6+cz8ffy5/MIA4wExAxkJSg1ODpAQ0hHYEEcTwxZDFjcYZxwlHLwbSRtqF7YW8Bl/G0Qbvhm/Fr8SShCHENgP9Q+OEH4LgwYpBYYCywIKBF0ACP4Z/eD6V/pH+LD1Svbw9iP4qPgN9rz0BvQt81z2NPq0+3v8ovpt99j30/sCANQCGgNHAF3+jP/FACUC0wOiA0ICOQDM/oj+eP08/W38XPkP+db4o/Xy8zDxv+2F7mPvxu386n3ovudz5qrmqef/5EnmPepG6eXq+etQ6ELrEfGg8973GfqK+Wn67/w6AVUEBAi+DA4NPg+NEmEQIhMjGKYXERuiHUgbER12HVkbvRzqHDMdtR47HSkbCRhRFTAWPRWdEwsTVg5kCmYJSAZQBc4F5AGp/kL9x/ll+NL4zPba9RT2wfRK9EXzVPEW8mfz9vT69i72OvYs9wX22vc0+qn6Ev5d/1b+Z/8V/mH+TAHgAD8CwwJw/4n/uv28+gz91vsA+bD4RfQW8cTw7u6+7sHtNeyz6jHmTuUf5d/jnOry7KHoOOou5qLiYewo8T/zbflm9ZXxYvYK+cH9UQRrBkUHGwgHC68Nlg7DE+oVYBUMHA4e9RsKIOIdShqJIBojpCKnJIwfWRlLGv8bEB0+HU8ZZxNcD6oOoA7aDHELAQlRBPkBTADc+wn6UPrd91L31Pfm8wbxYPAU7rDuKfLT8yf0N/Mz8Zvvo/Gg90D6mPqU+yz4fvhq/gz+Rf5PAJf8n/0sAF78BvzG+1b5Vvo2+EL1MvTx8Lfwau+77Mfv2+0y6TjoSeKE48TstOwR7HDpteCk44nqOe0X9Jr0VvEm89TxBvXw/TgCIQfrB0MEnwiuDVMR0hYKFugWNh1CHwEhQCFEHs4gPyRYJaongyY5JDojkB/5HaEfKCC2H9YbXRWoEaUQnBAwDxwLbweOBPMBjQAN/vP6JPqZ+M71h/XO9HHyKvLC8AjvXvK49Irz/fLV8HvwHPV6+Kj5C/mr9jb2vfbU+Jb7+Prq+pb51fX69uz2yPQv9mvyw+458LXslOw579TpWuf75CrfU+RA6+DrXuyp5WjePeLC6a7xo/aH9CDxi+/C8iT6EgAUBp4I5AXYBi4K/g3rFPEXFBcwGbQcgCDFI5Uj3SFnIqslLSnEKkspMCXxIcQguiFZJGYj4B7bGcETyhHSEy0SOQ/7C3YGtwN8Asf+f/vj+b/4VPdA9ur00PHE8L/wRu4v7/Lx3vGr8mPxMe6v7w/zsvZl+QH4wPaU9df0IfhB+e34LfpG9oLyefLE7w/vPu+B68fq7+qA6H/mJuE13avg9eRk6Tzq7uE13MzdF+LP63PzXfK38IPvee7F8rf5kwBnBpAIfwh1B5EJXBEaF7Iaqx5iHm4gfibzJmkm4yfiJ2ErrC84LzUsXCdpJBUkICTmJu0lYB/jGm4UOw/bEccR+w17CgIDdP29/Bv8x/sx+WT17PIS7y3uaO/67MHsvu1u67Pste+K7i3ue+9n71/xmPV29mz0dvPo8jLzEvaV+Of2gfIb8ODtReuF7rnvIuu77E3qX+Ak4LLe8Nvp5lPqeuPd4XPan9c545vqUe8X8t3sd+p66xXwQvpQAb0H+Qm2Bf8IpA3BEWEc7R6IH9om6yZ1KEssXyglK5cwaTD8MwAzoy1uLFUoQCafKIkogyhtIyYZahLcDZwO7xF1DgcJywGp+Tj48vbT9Dz1mPF27u3tAurP6LfpHujz6U7sz+t67Qbu7+s27G7the809KH2W/Xu8uXvIvBW8xj0IvRp8sftce0O7cvoNemb6M7jTuP53+/avd/N5IzkweMj3gHZyt2w5tDsUO9x7qfrIOtZ8E33k/3FBYEKPQk1CugNchFeGbwhqiOeJrYrOitkK/0tFi1UMKc2zTbxNRw0Hy+8LNQqoCllKjMoQiUNH9cUKxHuD+8Npg/8CsIBX/2M94rzvfRw8y/ydfF/7e7pcOec5kDoy+ne6+XsEuwi7ArrF+qC7L7vmPOj9jL1pvFR71Lv4PHy9IH1IfLT7XrqT+dN59XorOZ548Hfwdrv2wjjW+Yw5YXhbtpP2SPjFuux7n7yXu++64rw+/MT+SsFJwyoDa0OVA1PD7oXPSFyJhgoUyt0LLArYS7vLc8u+zZgOWU31zVgL4MsAy0wKgEqfyjUJIIiDxp0EvAQ6Q0gDrcNxgUtAGD8Tvfr9Uz1dfQA9Bryle+B67Tpb+v96jLs4e707VbudO6+6/zrZe4H8SPzHfO58jXwPu2d7Qrtm+1n8L7sk+Up4mngeuB/4hfgWtkB2ZLeb+CH4dvfFdi42VjjoOfs7MLvOusw7FzxXfVv/TUGZQq5C+8NIRH0FIkdyiPEI7YoAC0ELakxFDGILTMzYDc0OQs7TTXEL4gtmCtyLHEq+ydcJsUeUBnKFGUNBg4VDkgIzQVa/0n4+Pfv9LnyOvNX8NnvLe9y6+3q7Okj6RXsEu3q7d7vKO5C7FLsiuxD7+7yB/Ph8FHuKOtR6uTrIOx76/jo9+P24Mbew9xE3OnYldfX2xXeOuCF3yHX79Se2rvgyOpN8CDt8OsD7ObtS/bHALgKPxFrEvkRAxIwF/UgiCeZLPsw5TFKM1w0oTJgMpI1bjnKOkA6yDYGL1IqcShCJUMnQCjiIAMaMRLhCZ4JyAlbBpQDWv4z+HTznO+H7uvuUPDj72jrSek86WDpXutw6ijqL+7i8GTz/PEZ7D3sk+5o8T73g/aG8vvv7Opm6b3qTOzy7QvpfuS24NvYztkH2vnU6NyP4MvbDN8a2IzQS9oL3wvk/e1y60vqee3d7JX0xP73BosQiRFGEUQVExh6IZAq+yw/MrY0CTXjOFY47jclOk45ETsKPNY3gDQdL54oTic6JyElKSF3GlgRwgmvB7kFYwJpAdn7fvM18HLs5+kz7B3s6emn6PPniueE5q3ndugu6NPtRfFB79Pw5u5r683vVfIn83/2T/S37wjth+qb6vzrUeyv6Unk+9+62tbWOtdO1y7bLeBQ3pjbPNYb0WjXxd+g5xHw8e3w6krt5e6V+KkETgsPEwgVchT9GO0btiN/LQow6TW3Ob03fjvNOiI2YjnIOhw7yz0UOZAxFywcJ6EliSSDIhwf2BYmDwIJrQKnAXIBTf0H+Ufzv+0L7FXr2uol6inp0+k46tjpQOnr5+7oaexC8I/zLvMU8SjwLO9Z8Wj1WPaG9nj0Te+Y7Hrrv+tT7dbqKucd477bi9ik19XUwNkb4DrebtyK1zzPP9NT3nHld+x+7kjqwurT70j2oP9TCccQKBRfFWMYXht5IacrgTAxNMM61zpJOro8dzmKOU0/rT7iPGk7yjPwLREshyjMJUUk+R8vGJIQ5AoABUoCGgKD/fX4CPbB75Lraer46F3qqOvh6jjqOejK5zbpn+mN7KXw4/JA9Ozy2PBw8AryyfZQ+Nj1yvST8L3s5e5I7kbrLOoe5oPgHt0a2wXY6dV22pLdadtt3MbXuNBC2FHg1+OV7D7t0Okj79PypPcfAuMJ5hBpFRAWdhn5HRQlcy1NMPgzpDgYOuI8WDwoOU47cT0dPgc+gjgsMvwtJSqWJ7ck7CGhHf8Vyg9ECQsDEQJx/+/65/gK9CDvU+xP6MPnJel56UPrBupT56vnDefv52fsOvBF80j0f/IA8AvvpvL09kn4E/gB9CHvfe317IXuqu2u6UbovOHI2s3bCdeM1Qrg0N/j263ddNS/0MDcweK45xjv/OxZ67vu0vEc+fcC4gyDFMIUQBVnGWsdeCYXL5wwUjS+OA456jr9OgU5mztUPa48mTzCNzMx/yzFJtsiPyO1IH8brhSgC9kEVwEG/278Z/j19BrxeusW6M7mQOaD57fn8OXU5H3lJOdN5+DnvOrS7BTwAvPg8IPwxvLX8qD1TPfM81vzVvKV7frti+4H6v3o7ecq4PLbENyI1vLVu9563o3ah9yH1XDRSd7Y5P3l4e0k7fvprvAX9Xj58QMMDcYS4RTRFokbtx+cJ3EvSjC4NIc65jleOwc80znwPGg+KjwjOyU2JjFwLrcnSCPaIcAcWxhDE8oKnQUmAj/9p/nd9R3yuO8W7Dzo6uXJ5Ejl2OWH5dLk5OOa5Lrlg+Zb6tjtYu7z74/vuO2V8JzzqfTh9YXzkvAR74TsYO3v7BboN+jD5c7d/Nxu2W7S8dg639zcXN5J2gjR/NSQ3oDkM+xi8KTtNuzM7yn2AP//CrQTpxQ1FosawB0hJZ4tSjAfNRI8Pj3XPWc+DjtqOyk/sD7bPRU9uzYyL98p0iNMIJUgJx3WFCMNCAaU/wr9WPu79r7yJvCe63znnOb05aXkPOV75UPk++VO6CbnoOc76urrU/BR9GrzGvMp8wHyZPRn94j3Sfex9FTvEOwF7MzrLuqp6H/j79pv15XVHtSS28LgWdz82LnSYs1O1snh4ugX72Ttc+l567zw9PvRCNQQERZAFn0WKR0eJIgrqzJ7NRQ6Nz/EQLBBmT9LPco+bz+YQNBAmTt3Nb8tciUyI0EidB+AG9IRCQdIAXj9XftY+pn24PDS6xToaOUI5YPmBua+5Enlb+X65S/oKum66fTs+fBN8z71//U39P7zgvUY9iv4FPlM9qnzCfDa7G3sIuqf513kXN0S2dzVwdMZ2a/btNnc2LLR9c361OPZruDb6JToO+kz7Jbu+fZcAeYLGBRUFUUZsB38H40q4TEQNB4+WUJKQJtDB0LJP+9DAEQnQiVBUj2LOGgxcSpBJkkiuSClHMgSwgpwA+P8l/qG93n0ifLR7b3oJ+Qr4UnioeO35N/lb+Uw5gPnyuaj6E/sffH59bv3J/gH9hL1LPc69xb5vvv1+CP24fII7qHsceuD6qvnYN/p2XbTXc6u1wHeAdyz3DbRrcU5ztLW9N7z6sXpEuWu5uXofPHF/n8LghQwFagWVhoGHn0p0DFMNPs8zkHdQphGo0JVP8BCfUKMQwlFUECdOm4y6CfvIEwfDSKUH4MWOwzH/TD2Sfgp9Uz0EvXZ66vlOeLY26/eyuM25Pnl0+Sn443lUeYa6TrsnfDo97H5Fvrg+iT3SfhJ+1P6Lv2y/fn5P/d68cvtluvt5yjprOTk2yjZns8VyyrW4diB2IzZUcylxVjOSdTJ3I/lmuUE5p3on+wl9Ez+7QtoFDsWQhvsHtQjvi+oNaQ4TkErRW5GQUk3Rj5Exka6RG5BKUB5PJk4FzSBKhQhNB1kGo0Vyg8fB5r9+vgp9VPvUu3+64fny+Te4Lrbot1H4Z7h+OMK5e/jrOYe6brpw+6F9R75n/vU/AL7ofoS/Qr9qPy9/jL+hfs/+FzyCe006fjmA+b44GHbe9VTy9LKv9IA1RvYD9UCx33EK8tR0aXduOQV5FHm3OY76nT01P80DjsXAxilGyofiSUsMnQ4/zypRM5Gz0g9SlRGJEYqR35EZUPmQEw8SjimMO4mHiCsHIkabxX+DBkD7vls9azyEe9l7XPqqOXj4UzdEdxs3yThOOPY5Ovj5eYb6g/qme358Q726fwPABkAxwA4/3L+Sv8aAPUCwQNuAIn6vPIh7hPrTOj752ThPdj30h/JjMeB0ubU1NR30sPCTb2Bxt/Nn9pW5WvkquMw4xbl7O/2/jAQwRrqGqocAR+mJGAzzjzlQS9KeUsSS9hN7EoYSpRMf0iVReNEbD8cOxg1fiikH9cbEhjvFXkQmgXv+grx++pD6l/qv+u46dvgmto72MTYEODn5b/m1udA50Lnu+qM72z2D/wH/3MBfAHwAgIGXQVHBYEFgQMwBGIDIv5a+ov1nu1d6AXlt95Z2cXVecwkx4zNV8+0zr/QEcbavVrFgsnT0PPeMuKX487nmOdt7a36bAn8FoAdiCFWJRUpQjP6O7ZBn0sAULFQZVO1T9pNo1BhTIJIv0a8P487Sji/LZojsxwNFU0PXgvhBCn8PvS87E7l6eF+4uPh/t8a3rHa1thI22beUeGS5fnoT+t17vvxIvZr+zkAbgPOBQQIgwlHCmcKVAnUB4cGkQT2AKT8yPjt8c/ptuVQ3nrVCNOWyjDD6sr/zOLKnM6cw9y4AsAPxIzMutyJ4Ojiceaj5HHrA/gQB/kYQSBsI7on7iiKMvA9IkRxTvxSvlJUVe5QFU8HUq1Mb0nhRgw+JjsmNzYrfyEMGKMP3AtABzUB/fiO71Hoy+AP3YLeNN7a3UvcoNco19HZJt3G4ljmOely7bHvnvN8+VL+hARnCO8ILguxDIUNRg+MDUIKTgh/BRcCYf5T+nLzoekP49XayNAFz3fJisBexcbGN8KKxsu/LLVkvFnB2cbv1aTaSd2J5G7lnesl+CcF4RXSHyUkoClILdY2fkHSRiBPqVIHU7pX/VQDU1VWE1AlSsdG2DyKOHo2MSzrIcMXrwyiBR0Ad/pp9K/tFedR34HZANgM2O3YBNnV1/rX7tmr3aDhFeWq6eLtJvK399v87gLkCIYLAg0rDisPVBGOEgsSaA/MCu0GuwE+/Gv6wPSy6uTjP9khzR7KTsSjvCPBosOQwEnCkbvysay2c73wxDXSgdmR3qrlDenY7nD5MAchF18i4imiL0c1dj9YRmNKflGPU51WU1xAWE1VlFXLTf9H9kOXO643MDR2KkoeqhFDBzj/j/mw9dvuXuik4iba0NVV1QLVSNdY1y/W59gc3AThrebT6YfuHfPY9ib9BQPOCTsROhOFE40UkBQjF3YZuRfyFAcQOwn+At/7KvfY807rh+L12HvK0sKhvjC2O7glvma8qb4au+6v8bFduP2/8s8s2ZPftei86rnwOvy1BzwasSjXL6U3djuRQr5LNk+cVrBaRFq9X8JcwlYxWLFQcEgARaA5ZjKmL7QlURyUEaoDevru8tLsP+nn4zbeO9hu0j/QPNC80QnUU9Un2LjcZOGe5x3uwfKq9/X8FQGUB/0PsxWjGkoduBvnGwwctxrrGw4aZBSyDtYFQ/2f92zxg+lr3+LVyMo0vuy3K7H2rMS0qLbus2G2uK8OrRu26LkfxNHTeNxw6GLwevNn/mUJdRdmJ6MvxjpxRKtJ21LvVGtXb2B4YB1i9mNUW8xZg1coS4JE6TuhMJMstyTvGdYQAwW/+rTwN+fC4rndctmW1gPQlMxjzbHMqM6O0grVh9qG4THmuezf9JD6vQDYBusK3RGmGaIeACOqJLckQSTaINEeiRwrGIsVhQ3lATz6OfDj5rHfLdQhymnA9bS9rCGlOKRbqVmq16z6qy6noKzEspe5J8lG1JDg2O+h9Sr+IgqJE1IjqDBEOcREfk0EVtxc216FYtBiq2IAZZpfr1vbWbVPnEc/PigvmyY4H4YVzg2eAqD2muyp4wHeTtj/01rRjczJyiLKzMjmzEXRBdX32+rga+Y27y/3TP88B9cN5xOmGdofiSRKKPEr9StfKpcnPCIqHnkZZBOyDf8EZvtk8QXlRtqoz8rEHbt/r9elnZ6QmJGYb5lDmwaim6WdqeywALbKwHbPt9tg64n5TAXLExofzykxNz5DoE/aWeJfTmRAZ6dqEGyyas5pe2WjX7FZuU4lRJ46ay62IiQVaweO/Mnxj+lt4GHW/dCHyaLDqsLEvr3AXca+xorMetL21S7hwOl38M/79gJQC6EVkBwjJnItsTH7Nb80ITVDNiwy1zDLK/UhNBykEf0Fdf8A9S/rleFo0kjFDrqqr6Snip4ql+OPoYjQhRuCp4NkjpGXN6RPsg26g8c91wfjAfTDAzURUCKkL6Q7A0qpV4pmNXH/dX14S3aNdeN13XB8ba1og17kVrJMdD9fNncqmxrhCvP47+gK3pPVDs4Ux5DBDrzYt9a3ELh0unDAvsPfyP/Rk9qf5kDzrPxyB1oR+xrWJTUuADemPag/T0KoQRVA+0FAPhI4KzLPJkkeLBc7C8UB+vaH6eHeDdEHw1e40qyXpGect5LvjX2IGoTHg+mAdYSckLScha01viHK8dkZ6rv4oAlfGSEphje6Ql5OoVhmZSF0X3rrfAx97XZLdF9xTWiYYThZzUyGQgg3jivNIugXZAlV+LDok9xY0i/Ml8YvwIa/+775vH/BYcYXyjDSDtc12kHlzvEt/FkJVhS6G+ImijBZNKc6kEBTQfBCwUGhPJ47CzrTM0Us1iHHFpYNuAPc+PvseuJE2ZXNFsMguY+tSqcToUGWzJASjeyHKopHjHaLzpQlo1CwncN+1Yrh5/L+A5YObBybKpA1AkSlT9JVFF/iaBFwdHQ/cqZsIGeIYHhYd00JQ7I7gzNgKzEi6BY4D5kGePhW6y/fodSBzwTKk8P9wtLGTstP0CrVgdlz393mm+tO8Gn6CAamEBIbmSITKuIzsjqXPbY+wj7IPl88CTd/MfArdifzIdQXZw13BFf7I/Oo6G3cStOmyl7CHLvLsb6qvaZgoa6cDJhRlGaUlZS1lRmYmpx5qx6+3M5L43jya/8RE7MeFCZsMhc5S0GUS1JN/lI3XaJkuWsrafNgQFy7U7RKfz9SLzcnpiEfGXYT2QpvBVcElPrS7nPj6ddA1NjOAMc6xiHJGNKU2zjgIekD8Xr4rQEiAa8EQhDVFAwdvCQKJoMxZDupPAVApD2aOkc5CC+WJREe+hUsE/UKhf98+Q3ymuwn5nDZ588jx0a+xbfzrfqnraYZpJ+jnZ/Cm++d5ZzvnZ+fVp5Eq069u8tQ4gvztwA8GH0laiyLN3A7x0GZSTRIFEvAUX5Y3mHiYOBazlgHURJItTyQKdwdFhi9DhUIqAGn/C/+s/tQ813rXuMc3kvZa9CryrPMmNNO3BbkBOx89isCxQpvDQYPExRDGcockh9SInwozTHlN/g4WDneOZw3BDKtKDQd0RTcDUAED/rq8F/rLekY5Nnc8NTXyyDGZ7+QtEqtb6fgopqivJ7Rm4me0J5toY6kZqMIrc+9z8ug38HwGv1xEgolhS/dO2pDtkcDTk1OzUyoTxlUsVkpWs5U7FCWS8lEKj1+LhAgXheSDHQC6/tS9YjzOPSS72zqFedT4zLhm93c12PW99gm3cnjyusC9c//mQkMEMQUERsuIaAkDyfLJz0oESyBL8MwhTL9MqkxUy6DJ+sfOBimD0UGn/m67FnkVd6E2RnV6s4LyULFL8GyupezGa5zqailIqGdm3aa8JzMoDCm3Klxs1TGXtdd6RL7UQZyGD4rITKBOrZB5kTWTXJQcE0qUa5UpVhLWW5QBkubRlI+2zbkJjsXPxJ4CewA4Pvs8i7ywvRR7hvqYeep4zPlkOLr2xjc5d+X5SPtEvOB+v0E8g6/FcUZ/h4AJWUo5SlAKTUoCisELnEtzSzNK2wpmCfiIjkbNBUvDUUCifd96jbgrdvv1I3OhcpcxLnB4MC7u9q3frSsr5+raqXgoO6fSJ/kolGmCKpMuTfLn9vy8EcApg3hIQYuwjT0PZdA10M5SdtGGEcOTNpOQVM0UkBLhkhyQ0M7wDKrI6EXWRHABgT/xfkx85H0FvU476rtkOs76eDq2eZd4rPjOuUY6mvv/vLv+yMF9QwYFc0XBBxAI1MlYCdjKHwmNiltK1EqLypFKCgnUCbSIH8atRKTCU4Cdvfc6q/hg9ns0zfPbcjZwzDBZ7+8vXS4xLOwseOtJKoepumgIaBEowKmr6tCuAjJutuY75//9g3fIGww1Tj1P7pC7kM5SPxHAUbFSLdL/U2ITZhIBEX3QbU8fTQXJ4UbWRTTCjICpfvL9KrzB/SJ7trqL+vs6u/rius5547m+eob7pHww/S2+cUA/wjlDRsRGhdXHl4j3yVuJngmjCjuKqApXybpI38h9h5CG0YVCQ96Cf0CR/qz8MjoI+Ib3F7V/cs8xJa/c7rAtpKynqxEq+Op3qU1pnOlQ6QEqbaqP66avMTKS9pB7bb59wjFHdUrtzeTQTJFikrVTXhLA0sDS6ZLYEy3RkNBcz+IPMU6PTRkJ6QfOBkNEAUJjv+09jT00e/A6SHnEeZm6GjrIOr36HjqPO5c86T1dfaa+UH+2APtCAENoxI8Gc0eeSJzJH0nUisHLWYsQSkcJRIj+yBjHO8WgxA0CcoChvu48m3r3+RG3afVFs2NxPy+c7qJtemwB6y7qHGnWKYhptylhqUyp7CpXq8SuyDJENlF6mP5IwoIHdIsUTreRLFKNU9PUYtP1U1gTJ1KsEj9Q9M+VTwDOkY3rDIhKl4iDxwSE7oJvgBS9zvxZuy05ZThHuGj4iXm1+hS6qHtffLf9qX5avvQ/Q4BggThBr8IJA2AE8IZXx8jIwsndizFL0owpy6sKhkn5CJzG5sTNAzWBLz+X/fF7tDoM+Tm3h/Zc9FryZ3Dkb0atkevv6kapvyjE6I8oS+iCKW0qHmrr7EfvnDMKdxF6wr38gZgGg8pqzXAP8NFpE3sUpdRUlBtT1ZODE0eRzRAnzxNOnk4yjL0KDci7xz3Fb8OzwTd+pX1J/Ct6JrjYeFt4f/jzuXm5U/pOvBr9Qf5SPxX/k4CnQdECQYKtQ3SEfQVaRrwHPQfAyZfKjQrjCuZKgUp+ScZI0MboBQ0DTYFSP1C84jqZORy3YzW1s/1yPrDhb8NupO066+KrAep3qUWpOGhg6EQo6OjXqlOtdnB3tHU4hHx3gNmGD8oXzc6Qz5KnFFjVaZTrVHmTktLMEjxQkE9WzrMOFk3izRZL1cqCSb6H+wXOg6rA4v6VvJS6VHhbNys2oHb2d384J7l0OzJ9F36s/4tA2EGogn7C8sKvApZDRUPAxLBFXUYGB7vJPIogyw/LyowszAmLsMneCAHGDYOjQNp973rhOI62jjSaMu4xarBLb/pu+O3GrXSsuuvZ6xIqLOkjqJWoZigNqLkqa62J8VT1c3lX/eqDUMjjTOpQS9Ml1NlWoFbYFePUxpPNErjRG89pzdaNU80RjPTLz4rsCiNJTYgDxn8DqsET/zc8nXom+A52yXYhdjA2VbbROGR6afw+vcV/lMC6gduDJUNOw6/DiIPhRAGEuMTXxedHEoijCZZKlsuMjH9Mv0xqyzpJd4dPBOsB/n6se054m3XyswTxEe9nrgStqezJbGWr3auha3CrAKrSqiapSejyqLepuCu0bn5xmfVS+Z7+toPOiRONihF6FCQWTpeGl/dXbRaC1XDTTxFMD2HOGo14TH8LnErIijWJvUj3x5+GfQR/wjZ/wz1o+rk4tvc49c71NvSiNS12bLhF+nA7+L3c/82BtYMSBAjEgAVFRbVFYsWbReWGZcduSDSIiUmfioULgMwRC+PK5gmAiDqFYcJqPy27wDj+tXvyBK+rLbwsSyuD6vMqZqqMqwfrfmsfqwfrHOryqnbqGCsO7QUvlnJTtUS5HL4TA7MIXszxEJ2UJJcRWOfZLJjQWH4XINVMktfQUw65jWzMb8rWCZhI/IhniAQHR0XFBHqCi0DhvkQ7y7mit/g2WfUws+tzp7SI9nt36bm8e0S9zMBgAkvD8MTIRidG0EdER2THMAdGyBcIWohByI3JIsn7SlzKeAmriM1H1wYAg+UA4T3UuvD3b3PLcNvuFmwNqqQpEihk6CroFmimqT3pdOnRqlIqluujbUEvmvHAdEV3DLrDf2ADp4e9y3UPLtK6lXnXCFhH2SmZHFht1p4UnpLrEUOP9s2Ky59JzcjGx8YGkgUfQ6pCVQEUP3N9f3ucelX5Ibe9thU1ebUSNcV2hndouG154zv1fdy/qMEcQu1ESMXEht6HW0gECS4JjEo+ij9KQAsdi2xLDkquyZpIh0dkxXVC58Byfai6vrdStGTxTe8HrRcrH2mEqNCoeWgb6H1oQajtqStpUmnWaz8s6O8N8bFzwjb9eq+/EANWB2FLKc6k0h5U0Rav1+vY1VknGGAWwNU701rSHNB/Dh5MM0pKSXmIAwctBaOEfMMnQfbAPX5ovOu7c/nKOFD2qHVDNRj1OjVB9gL24fgUOh98Ib4hQA+CAkQExf+G+wf8iNlJwkqMCuoKpYqait5K2wq8CcOJBQgbhveFC4NwAQc+2rwuOSM2FzNmMNculmxeamSo6CfdJ2znMac153Vn+Kh+qQiq8uzfL2px7jR89ye6zL89Av9Gk0pdTb3QpZN7VS4Wqpfs2FBYEhcu1aRUV1Nv0feP983EzFbK30mOSGkGjMUlg4sCO0ACPoL80nsYebF3+bYkdSi0h3SZ9M/1XvXatyU4xjrMvNc+9UCiArgEZoXqRy+IR0mYCk8K9QrZiyXLXou0i2RK50oJiXRIGQbVxQBDDQDB/kZ7SXh6tV7yyvCu7g8rxOoXaMSoGuegJ0FnUWeS6B6or+mMa0HtX2+Uch/0lDfUO7n/fQNRh1dKzc5oEVxT3ZXR11bYDRhUV8QWypWx1CbSuNDbTz9NKouJSkUJDUf9BmtFGgPWgnWAj78bPXd7jPoz+AG2gfVyNFk0D3Q39CU097YwN+i5wPwq/jgAesKvxJxGYcfViVgKogt4C5cL48vuC8gL/gsHyogJ0IjbR6KGHERIAp2AhT5c+634zzZoc+axki9l7SkrSGovaNloCmei51VnpifIaENpM2pQrLju+vFldDX3MPrEPx8CzIagijANe9BBUz3UotYMV3TXnRd+1kFVdJQYk3fR5JAfTn9Ms4tiCn3I5QdDxiFEhgMKwW//Y/2evAu6mnirNro1FHRh8/QzjnOAs8r04bZaOBF6K3wRPkGA1MMfBOVGvYhwidiLGMv7y+rMD8yEDJpMBUuVSp7JtgiXR2yFj8QBwm2AHv3++xx4iPZStAAx3S9obSQrUuoWaQloUqepZyXnDudSZ/LowGq/7G5u7nFAdEc32ruCf4aDhId7yqQOChEIU3jVK5ayF3PXiJdLFkWVeZQoUu4RUU/cjh+Mo0toiioI6Qe+Ri9EnYM4gX//kP4MPFQ6YzhetpQ1AXQeM2oy0DL58w00KnVL91m5WvuZvj0AfoKARQ6HI8jJiqrLhkx1zLOM6wz3jLSMEgtYCkpJfwfcBq9FB8O7gaT/0j3cO4C5lPdWdQEzJzDErsNtFGuM6mSpbOi0Z92noCeFJ/qoXOnlq7Ot1TC+Myc2ePo3vgVCdAY0CYnNMNAqEo1UhtYllsXXaFcZFnmVIZQa0uGRUs/mDiGMs0tRSl4JNQf/hrJFV4QRgp7A878PfYI70Lnnt+k2CzTkM/KzL7K0co5zYPRp9et3kXmru8p+uoDPA0rFkUeHSalLG4w+jI6NS027zU5NIgwlyzLKHwjKx2TFksPUwigAaz5gvES6hziHdqO0kPKgcJ5vH62zLBjrPinYaQvo1+igaGRoiqlzKkHsmu7e8Sqz/fcJuvu+r4K/RibJwI2R0EpSrxRMlc7W2ldtVvDV0NUWlAaS/ZE8D0tNysyyy2PKDkjiR7jGb0U8w5PCHUBc/td9b/touVo3ibYldOH0D/Nwso2y7HNndF71+/dFOWQ7qP4lQHKCiIUrRzVJDYrxy7BMdo0dDZcNrg0qjFcLrUqiyUwH6AYOBK4C14ESvxL9Hns8ORz3SrVAM0Wxni/GbnIs5Suvambph+kBaLMoZSiCqRpqE6vGretwMnLldeE5Rn1+APaEjQi5i+tOxZGLU6MVOhZY1yoW4lZUVYvUudNpEgeQuI7WTb1MLwrhyZYIYYcjBe+ETwLlwRd/iX4G/Ga6TTiRtvm1erRKs5ny4DKMMsazvDSONjl3r7nBfFP+vgDLA1aFnwfkCbPK5MwHTRTNnA3gDZoNDYypi63KTokrB0FF/YQ1AkFAsP60vKc6k7jkdvr077NDMfMvyW6trQRr1yrX6hTpVKkFaSmoy2meat7scC5wMOdza3ZTOi49qQFPBUII8kvJDzcRYpNilT7WG1aDFqQV+pTkFCBTAFH4EB/OlE0+i5HKo4lXiAeGzAW1hDRCpcE5v1B9w7xwum54TLbz9Ui0fnNTMtvyYLKgs1o0VPXMt5o5YbuW/h1AfAKIxQ/HDUkvCrxLq8yvDX8Nis3vTWAMh0vDytzJYwfOxkFEhYLAQTn+/PzY+zI5ObdSdcB0DXJkMMtvgO5V7Txr4WslKooqf+nD6h7qVusorHvuB7Bg8pe1W7hXO+Z/j0NRxsLKXg1ZkDJSdRQClbDWeFajVm6Vr9Sek7xSRpERz1YNtwvsiooJuYgdBsmFqUQVwujBSX/TvnW8zztL+Z3317ZAtXB0UfOx8s5yzLM+85c04PY797s5rHv0fgeAm4L0xTuHdEl5CuiMOY0MziKOf443zaRM6svtSqLJCYeTBd8D4EHhv+V91LwK+nu4VbbvtQ+zhDJbMTHv7q7eLeFs0ixV6+ArWCtwq12rnyxDbbcuz3EYM2k1lvike/m/GsLohn+JfIxCD0fRhpOKlRHV8VYv1hoVp5SFE7pSEBDrDyCNcMuqShBI/odExhyEmYN9gfRAh/+e/jK8s3tE+hg4ufdU9k61eTSrdD1zszPzdE81K/YMt4e5A7s4/QM/e8FSg+pF/0f7Se4LUwybDa+OEw5nDgMNhcyoy0WKDchzhnkETwJtgAx+QLyf+pY47vciNam0XnNw8jlxA7CXr7yusW4QrajtNa0PbSCs9K0HbeGuw7DG8rf0LHaNuaF8lgAaA3SGU0nGTNuPKFFc00DUyNXOFiWVmFUy1AjTHNHzUCmOGUxhCoNJEwesheFERYN8gdHAvz91fm59RXyLu0D6FDkbeCL3CLaotfk1MHT5NML1ZvXpdqi3tPk8evg8oj6RQNtDDoVHR0+JMkqTjBxNDM3lTg7OMc11zFILbsnuiDeGKQQ+gdD/xL3e+996PDhY9uc1abRMM5AylrHZsUQw/nAyr4jvF2707vdumK6YbtxvADAe8Z5zF3Tn9wR5lnxBv8wCx0XwSR6MCA6fEOUSk9Q6lXZVzhWAVRMUFxLkkYhQB84djCmKAwhkhpOFHQOcAlWBGT/6vrf9hX0hvHM7QXqV+aR4h3gHd5c22DZ8dd31uPWz9i72ibeE+Mu6Hzu5/VG/aQF2Q4UF5IeoSVzK2swrzQ3N643WjaOM60vpCpaJO8cxxSrDF4Eavsp8xTsJOXi3pTZftR70JLNkcp2yH/H5MURxArDKcK+wSrCfsLRwu3D48U6yX/Op9TF2vvhN+uR9UMAPAtOFqEhjyykNVY9vEQNS1xPelFfUZFPq0z4SIZEvz6FN7kvQCiWISQbKBSpDUkI9AKp/SD5TfUy8j3vnusw6KblP+P04EDfr90H3O7ayNqP2xfd/t6M4Zvlzuo18B726Pw4BM8LNRMaGqUgaCYXK/cujTFyMgQyQjAuLeEoCiNPHI4VLg72Bbf9pfUE7mLnXuHE2/jWztJiz1HNHcz6yhXKnslJyRvJcskxysnKRcsLzF7N+s+k00nXANyM4kjpr/DN+SUD9wyFF6wgVSlwMok5fj+VRRVJKkpqSrVIEkYkQ+U9gjdyMTgqfCK2GzcV6g7+CEEDbv6W+un2k/NF8crv/+2A60bps+dq5l3lHuSD4jvhZOAo4Cnh0OKC5DDnEutS7x303vlkAJkHmQ5mFPoZ6h8lJW0pjSzDLaotpCw8KssmIyIgHM4VCw9rB8H/Y/i88ezrBea24MHcMNl81v7UpdPi0pfS/NFh0kPT09KT0mLTCdTW1KbVBtZ21y7aGN0S4Vnmc+vo8ED4rgAaCZYRtRnCISAqzTB6NYA69D7fQBNBqz/uPDE6aDYzMQssCib5HugYxBOjDq0JxgScAHL9A/qz9rH0UPOO8Rbvgez36vHpVejJ5rLlkeSm4z/jmOMS5fXm5ujg67PvpPNZ+Av+HwQiCmQPMxR7GX4edSKXJY4nRijrJ0smDSQ+IQkd6xdSEgwMzgXN/wX68PTg76bqRubO4j3gfd7C3ETbJNob2dPY3tif2NTY+ti92PXYLdnV2b/bYt2t3uXgsuOC53XsUPGM9n/8lgJoCYsQChdHHSQjfCg3LWQwgzJtNC41ZjRbMmAvciw5KdMkASBDG44WKxILDjUKjAbhAsz/SP3S+nX4F/Ye9KHyZfDa7VfsKuvX6YToJue/5kjnpOeQ6JPq9uzP7zHzEPeK+/7/eQSJCWUOahLyFVMZqhwVH+cfICAxIDgfAR0bGgkXvxOUD7IKCQa3AVD98PgS9avxHO6J6uTnJOZf5F7inuCP3+re5d3n3AndnN173UTdvN3v3qvgNuLO40/m9OiK6z7vqvMH+GT8pgCaBTYL3A8cFOAYBR1GIKgiPyQxJosnFCc3JhwlOyNfIScfmRwzGucWbBMUEaUOvQvdCPAFpwN2AYD+Cvwy+g/43PV18zbxs+8b7qLstOuK6qHplukh6mfrp+zO7TvwYfNp9tP5W/03AYQFGwl7DDUQOBPHFTIYsxmbGvYajhoUGvAYfRbzE6wR6Q6aC+oHbQSVAZX+Kfs6+ML1EfNg8DDuaOy56sXowuZt5Vbk3uL14dvhmuEY4cDgPeHh4ljkXuVS5+rpXewM70fyXPas+gX+UQGLBcIJiQ0VEXwUqRfOGSwbCB3pHrkfih/yHnoenh3fG0oaExkmF3EUihEuD1cNwAqqBzYFswKr/6T87fnZ97X1tvIV8Gjuyexn66DqOeo76lnqzeqA7LXuc/CC8kz1P/gk++j95AB6BLMHDgqcDHYP9xFKFDsWnhfIGFcZjhkBGpgZABhGFk8U8RE4D8wLfAh2Ba0Bt/1U+iz3b/Th8UzvQe1W65fp7ujA6GXo+ueS5+rn1uhq6TPqTesc7O3spO2D7hHwT/E98pjzpPSo9Vr3XvkE/Kr+VwB1AnQFaQiSC2IOfRCtEkkUQhWRFmIXaBcxFy0WrBRAE5cRQRAmDzYN5grtCFoHVwZUBeEDYgLOAB//lv0b/I360PjC9oz0WfJx8B7vKe5f7bTsS+yu7OntpO/t8ZD0RfdB+nv97wCzBEIIWAskDngQXBIgFJcVghbUFoMW4xU7FTwU2hJyEegP9w27C1oJFgcDBZsC0P8Q/U76kfcf9dHyovCh7rDsOutu6t7poenq6Zfqm+vL7DTuH/A+8iv05fV59//4U/pa+0L83vwR/Sn9P/2e/UH+sv5T/2EAfwH5ArgEWQY0CN0JCwtdDF0N0A1LDlEOzw0pDfILuwr+CdwIkAd0BjoFdQQNBHQDJwPdAj0C2QFbAXsAkP9N/tT8U/tO+Tz3o/U/9CTzOvKU8cbxk/LC85X1ufcQ+qz8Pv/yAagE1gbVCLYKDAwEDaMNCA6MDrEOWQ4jDvcNqw1jDfUMfAz4C/UKrwl2COIG2ASKAvn/P/1d+lr3qfRr8j/wSO757FTsRuzE7LrtQu8r8Q3zIvWN99H5vvtT/XD+Jf9O//T+jv7u/bL8PPv7+SX5xfim+Pf49vlT+/z8If+bASoEgwaACCoKOguUC6ALeAvNCmMJdQfDBY8EdAN1AtcBqwHmAVsCFgM7BGAFMQbJBvIGbQZZBeoDSQIwADj94/kB96r0qvIK8Qzw+u+18A7yOfQ99636P/7XAUQFUgjsCiQNAg8oEDoQlA/GDusN2wyKCyYK+AgBCDEHtQaMBoEGcQY7BrwF7wTTA3oC4QDF/hD8GvlF9sbzofHH71rule2Z7Wzu7+/+8Y70g/eP+mD93/8iAh0EfgUGBskFAwXcA20CzAAQ/0j9pPt2+tX5kfmT+Qr6E/tn/Jn9p/7a/yQBGgKGApgCigJbAvwBjAEpAcwAkwDHAG4BPgINAxgElgUvB10IIgnQCV4KYAqeCVQIywb6BNICeQAX/r77pPka+Cv3jvYu9l/2W/fS+Ez6wvt6/Wj/IgF0AoYDfwRdBQ4GiAbJBucGEgd9BxQIfAigCNUIOwmDCWsJ+whaCIwHYga/BM8CvwCo/qX8r/qj+K32NfVg9P3zz/PV80/0T/WC9rn3FPmK+ur7Kv0//hb/u/9HANAANwE5AeUAtADMAMwAegAMAMD/iP8x/7X+S/79/ZL9Df2m/Ez85ful+7r7+fsa/Cn8lPyC/X/+N//5/wwBPAI+AxoEBAX+BcoGTge+BxwIJQjxB8gHdAemBnkFRQQ5AwoCZACo/lH9NvwN+/T5KfnJ+Lv42Pg2+eX5sfqL+6v89P0I/+j/3ADyAewCjgP7A5gEZAX7BVIGnAbxBk8HmAeuB5IHPgerBvYFHQX7A4oC/wCG/wX+Z/zP+nT5dvjK9z330Pa39gn3ufeS+GT5RvpO+2b8fv2A/lr/EwC2AEQBvgERAjUCVQKVAs0CwwKOAm8CfQJ9Ah8CjgEaAZwA/P9X/5n+yP0G/VH82/uf+0f7CvtG+8r7VfzT/HX9if7C/7QAkwGMApADfAQyBdMFVAaBBpUGsQaYBjwGmgXqBHAEzgPKAtIBFAFpAK7/1P4m/rf9R/3q/Lj8nfyZ/KP83PxT/bT9Bf6I/ir/3/+HAAgBqwFnAuoCVwPLAy4EegSbBKUEqgR5BCQEzgNmA/oCbQKuAQoBdgDQ/z//qv4H/oj9Df2i/HX8RvwT/B78SPxw/Kr89vxn/f79gv7a/iD/cP/G/wsALgArABQA+v/f/8n/o/9n/0b/Qf8r//7+1f7M/uT+4/61/oP+X/5W/l7+V/5L/kz+YP6a/vT+Uf+w/ygAzABnAckBJwKZAu8CGQMGA8ACfwI2AsMBTQHNADgAxf93/zT/AP/P/qT+of6i/nT+Q/5C/jf+Bf7d/cH9tP3S/fv9Jv6A/uT+T//x/44AAgF4AeABLQJsAnQCVwJKAiICwQFjARgBxABzADEA7P+l/2z/PP8Z//H+n/5J/hj+4P2d/W/9SP04/UT9Rf1f/bj9Ff5o/tb+Pf96/7j/BABDAGQAYQBIAEIARQAdAPr/+//j/7r/nf9r/z7/MP8B/8f+qf5j/g7+Af4I/vP99/0U/jL+a/6p/tz+OP+n/+7/OwCWAM8AEAFrAZ4BvwHlAeUB4wHyAdIBmgF8AU4BAAG7AIMASgAVAO3/yf+e/3b/WP9A/zj/Jf8F/wv/If8X/yX/U/97/8T/EgBDAKEACgEwAWgBtQHKAdcB5gHZAdUBugGFAXoBbQFEAS4BFgEGAQQB1QCtAKEAbwAzAPz/tv+X/2//K/8n/y3/Ev8o/0n/Yf+b/8D/2v8PACMAJgA3ADsASgBTAD8ASwBnAGsAeACEAJEApQCfAJYAmACAAGQASwAeAPr/2f+1/6D/k/+H/3j/Zv9w/33/d/+G/5n/n/+6/83/2/8DACIAQABvAIoAqwDfAP4AIgFIAVEBWgFjAWcBbQFdAU8BQAEZAf4A3QCmAIkAcQBLACoA9v/L/7z/m/+H/4j/cf9t/4L/iP+d/8T/3/8IAEYAcwCOAL0A+QArAVcBbwF0AZIBpgGSAZIBlgF2AVoBQQEKAdoAwACaAHgAZAAxAO7/1//K/5n/ef9y/1f/Rv9A/yP/K/9U/1b/aP+N/4j/n//N/9H/7P8IAPj/AwAYAAsAFQAoADMAOQAdAA0ADgD4//D/5/+5/6H/iv9d/0v/Ov8i/yz/Kf8L/wn/DP8G/xn/IP8M/w7/G/8V/x7/NP8+/03/Zv9//5L/o//H//L/AwAIABMAGAAgADAALAAmADcAMAAeACUAFQAHABAA9v/s/+v/tf+u/8L/n/+b/6L/j/+l/6f/oP/F/8H/wP/i/9n/5f8HAAQAHQBAAEEATABTAFkAcgBwAGcAdABoAFAAUABRAEEAOQA3ADAAJwASAAMACgAEAAAA+//c/93/8//p/+z/8//l/+b/6P/i/9z/0v/a/97/0//E/5//oP+//7H/rv+r/4b/lP+m/5H/mv+l/5//q/+w/7L/tP++/+D/6P/j/+z/6P/4/xEADgAQAAwAAQAEAPX/5//w/+v/3P/J/7f/rP+m/63/sP+o/6n/pP+q/7v/sv+9/9f/1v/r//r/7/8IACgANABIAE8AVgBiAGcAcAB0AHAAaABdAGIAWABAAE0ATAA5AD8AKgAKAAoA/P/q/+v/4P/O/87/0f/L/9T/6v/p/+7//P/j/9b/5f/a/9j/3P/J/8n/z//L/9v/4f/X/9z/2P/F/7//v/++/8X/yP+3/7H/vP/B/83/2v/U/9D/zP/C/8L/xf/K/9L/zf/F/73/vP/K/9H/zv/F/7b/sf+z/67/sP+w/67/q/+c/5b/o/+m/7P/w/+1/6T/rP+2/7v/wv/D/73/t/+z/7j/wP/K/9v/4v/Y/9L/1f/Z/9v/2//V/7r/rf+9/7T/tf/O/8P/x//S/67/tv/O/67/tP/B/5r/l/+n/6f/uv/L/83/x//D/8v/v/+6/8r/t/+m/6j/o/+y/7j/s//C/77/vP+9/6D/pv+w/5j/pv+u/5j/p/+9/9D/7P/u/+r/8//7/wMA/f/7/wYA//8BABIADwAQAB8AIgAcAB4AFwD9//j/AQDw/+b/7//l/+j/9//4/wMACwACAAAABQAGAAIABQAMAAoAFAApACsANABFAEMARQBIAEEAOQAvAC0AMgAuAC0ALwAyAD4APwA6AD0ANAAmACMAIgAcABoAIgAlACkAOwBEAEYAUwBTAEkASQBEAEAAPgA8AEAARgBPAFIATwBjAGsAVwBeAF4AQwBHAEsAPgBEAEgARQBPAFYAVgBZAF8AYwBbAFcAVgBQAFkAXwBTAFgAXgBXAFgAWQBRAEkARwBJAEAANQA0ADMANwA+ADUAMwA0AC0AMQAyACgAKQAmACQAKQAiACAALgAwADAANQAyAC4ANAA5ADgAOQA5AC4AMQA3ACwAMgA/ADQANAA4ACkALQA8ADcALwA0ADYAKQAuAEcARwBGAFAASQBRAFcASQBZAF0ARgBRAE4AQgBSAEoATgBnAFEARwBQADoARgBXADUALgA5ACYAJgA7AD4AMwAvADkAOwA2ADMALgA5AD8AMgA2ADkANQBGAEkARQBRAD8AMwBIAEEAOAA/AC8ALgA7ACwALAA6ADEAJAAhACcAIwASABgAGAAIABsAGwADABkAFwD9/xQAGAD+/wAA///9/wYA/f/+/wcABAAKAAsABgAGAAMACQAMAAMAAwD9//n/CQANAAgACgAAAP7////1//r////x/+j/6//u/+f/7f8CAPj/6v/6/+7/2v/z//j/5v/u/+n/2P/i/+7/6//z//L/3v/b/9//1P/a/+n/3v/Y/9//1f/Y//L/9//z//b/5//g/+7/6v/r//f/5f/Z/+b/2f/R/+j/5//b/+L/1v/E/9X/5v/g/+L/5f/V/8//3v/h/+D/6f/l/9v/2//a/9v/5//u/+b/3v/V/8r/yv/U/9H/yf/H/73/sv+3/8P/xf/I/8v/v/+5/7//v//I/9P/zP/H/8P/tP+8/8z/xv/C/8L/rf+e/6f/q/+l/6r/pv+R/4//k/+M/5v/qf+X/5T/l/+K/5L/pf+h/6H/qP+Z/4v/lf+c/5r/oP+c/4n/if+N/4P/jv+X/4L/ff+D/3b/ef+L/4X/gv+I/3//gf+W/5L/h/+Z/5//jP+N/47/hP+X/5//hP+E/4n/dv+C/4//ev99/4r/ef93/4P/gf+K/5f/h/9x/37/k/+V/5j/lP+E/4//mv+I/4//oP+L/4f/nf+N/3r/g/9//4b/m/+P/4n/nf+S/4X/lf+Y/43/iv+G/4T/j/+j/6j/rP+5/7D/pP+4/8L/u/+3/5v/jP+k/6f/mv+j/6f/nP+Y/53/of+b/5f/mf+j/7r/vv+5/9D/2//U/+f/6v/Z/9n/zP/F/9X/1//V/87/xf/e//L/+P8IAAAA6//b/8X/2/8AAO7/3v/p/+7//v8TABEAAwD3//b/DgArABgA+f/7//3/BAAMAPz/DQAnACEAJgAPAP7/IAAYAAwAHgAYADAAOwAdADAAOwBAAFwANwAOABwAQwCCAIMAWABFACkAMQBCADoATwBDADkAWgAxAA8ANQBYAHkAZQBOAHIAZgBVAGAAagCcAIUAOgBBAE4AYQCWALUAtwCQAH8AcgBXAKAAuACMALIAgABXAJIAWgBXAI0AZQCBAHYAXgCgAGsAeQDQAJMArADFAJgA3ADVANYAFwHQALYAqwCzAC4B/QDfACMB4QAlAR0BdgC0AHYAHgCoAIAAqQDkAFIAxQCqAOT/tQBRAb4B+AHpAOUBlgPLAiMCIAGv/+H/p/+7/3YAcv9z/44AVAB8AAMAKP/I//H+0v2+/tD+v/6E/4j/x//+/+7/dABGAOL/7P+V/8f/xP8x/8j/QQAdAI4AqwBsAFcAZQCkABAAQ/86/zX/pf8JANj/ogBAAYYAOABlAFMA//+N/3//b/9q/5T/qv9oAIwApf81APsAggCoAOIArgD5APwAmgCfANkAsACpAGcBSQGZAC8BOAGkAB4BPgElAUkBogA4AGsArgDKAH0A7wBjAegAOgGEAVQB/gHyATwBHAGlAPL/c/87//D+SP41/t/9Tf3J/cv9T/7W/+L/2P9C/7D9F/7H/pkA9QOsBC0HgQpzCHgHuAeqBu4H5wN3/BD8i/vH+HX3m/S582vzFPEz8rjzm/RB9074uvrI+0/4qvnu+1D6AvsT+b31efYI9Xr1K/pb+xD9hwDlAE4AZ/9kAF8E5QW3BBUD/QKmBaQGJQccCREH3wIBAJj9i/4lAacClwV2B1kGfAXnBS4HLwiqCNoIjwfFBkgHrQeWCQELMAv3DQIPpQvLCesJ6AlrCdAG2APuAmwCgAAP/1EAgADL/Sb81PrU+dP7mv0a/nD+3/yS+zD8wfy1+5L48vXT8hHtIOkR5i/iteBo3VvYjtbJ1BjUr9Xy1dzWJdfA1wngr+9DBn8eXi3TNgo90TscOco0aS6rLDwq8CMPHwsbghnqGY0VoAvf/V7uY+C31YfRwNS53GXm4e4m9/H+BATeCJMNRhDWESMS9hRfHY4mIC1cMNYvXitHIpcX1QzDAa75DfPn7PHpGefp5jXtO/JA837yMvDA8TH47/+kCHcP8BN9GPkbFh6UHV0a5ReWE3gLggTmAGcAhQC0/D33H/Op7e3mluCU2n7WbtQH1N3WMNpd2y/dJd9s3hvbRdap04nTRNFrz+DTdOHy96AP7CJCMKMxYSkcIMsYYBeZGpYcXR7FHokcDRwXHXcc/xUGCA/5A+zq4XHfZeOL7Ab4NP3j/fD+YP5S/rb/WQFnBMYGqwqxE5sdSiYUKwcpGyVTHmYTeA2AC+QHbQV2ARr8jPpv+Ib1+vVJ9bfy2fCw8D327/5qBiENnw//DsoOAw15DakQtBC3D1wO5QtLCzwKoAfYA4H8jvJX5pbbs9aP0onOv8tUxzHFd8O6v33AwMKSxKvIwsp7zQ/SZ9d+5nn89hA0I30uSTYuPRU8lTgxN0w1ETXhMfkq7yX+H24ZHBMaCpz/OvTJ6o/kSt+N3onhBedf8Hb1YPeB/K0AvAaCDmYSfhdSHbUh0yaKKDookSYvIX0dQBkHEw8P1gccAMf8d/dK85XytPCo77nutO2B8KL2Qv5yBAsJSgzgC10NvBGHFDcY1Bc6ExoSEg4hCYYIYAJg+gb05uea3QXXZc68yjjK7sQ6v4K9Tb5twCDEJsebyRPPHtHdzuHU4uKt9gwRICSfLM0y4TMUMx41eTQ3M8Qzuy+PJ34hkx7bHE8acBIRBQD6PfOr7ozucfAL8hf2svm0+nT8z/+/BEwKyw1qD7IRExaRGmYdJh98HiAckhrCFyQUXhKJDxULcQdmApT8mfkD97f0kvUV9sX2V/u3AOwFRghMBcwEZwZhB58MyQ/8ENkUeBAmCo0JjQIs/Bj5Me+t6bLlKNqH1DbQtsZdwznBK732vvfBIcNuxvHJ4MlIyjHOvM/y1bbpIv8zExQlRSlgKbAsDyuKKwkwhjGQM9Q0NTEfK8AlMCEXGgwSQQj++7X3L/hh9878VgA1/rv+Ofto92L6OP3AA50M6hDiFH4VhRSKFkMUsBH/EUgQMBGbEuIQhg97DMwIkwTU/gT9y/zE/dMBXAGwAP8ErQZCB40H+QTsBU0JzwmkCroMSA0FDGAI0wD8+WD3jPMi8JjvBuvj5Bbe3NGRyPvEJMPAxPbFMccwyjTLms3AzSLJ2sc4xhPKut4n9/0MUR2DHSoZKBg0FagYAiIDKlIy+DSbMFIteysbKQgk2xpREYoKVgleDMYNaQ5/Dq4JwgJR/ZD5YPttAZ8ErAX7Bk0HLwjACHoH7AaSBskHEQzRDnERCRRDETkNFgn1A4MEggesCaQNtw3xC/cLLglYCYcLkwjACHILiwqsC0sM3wkYCUUGq/+0+fH1dvNi8MDt7+rp5bXgo9ixzk7J/8V2xnDK88kAyy3MwMYQxizGLsM2yFbJFMoB3O3tH/3iDNoM2A2qFhwV2xgrJDorKDghP9M5Jzj5NX0yRi4iJNsd3BnRFpwZ0xXyEGoQMAe0AG3/FvoJ/Fr+Vvtw/YT8W/p4/Ib6Cvtz/vT+1AI8BzMLChBuEJAPrQzHCaYNpw9jERsX2xbeFdoVxxBsEL0TBxQ8FA0RPw1bDRMM0AnrBpkBJf2H+eP01fC77yju8+d/4m7dOtVI0CDLr8PRxKPItsfeyc3Kz8WdxB7FQ8JDxa7IQcUZzqTiz/LQBBcNswUICbcPjxAmHDonSzA/Pnk+KzjpNQ8xmTFXL3UnGilkKMUjaSJFGpkVpxX5DIMFnQHq/18ETASmAOv+zfrM+J/3CvVJ95n7bP5k/1QAOQSTBhMIHQjPA/8FTgzVDqAToBR1EkYVrhNVEdETMRPGFYIZGRZlFcAV2xA6DYgJOgT7Af7/UfqD9FHxg+wQ5tzgDto41LfQ6cohx/HG6sZ8x/HFbMRdw4m/FcD5wZjCr8h9x/fEwtR65dXzoAQeBGoCig01D3YRhR5tKaI3dEK1Pu44RDYoNlc1AjA0MH8ygTAzMC8pOB9CHeYVvwuBCBEFKgbCCDUD6v2v+Bjy3++w7Yjt1PAz8lj0P/Xv9TT6gPqM+y4A/v+BBMcM6g0+EuoWMhQ7FmEa/BpXIEkluiTBJEkjSx/jHF0ZKxREENMLrgY9Ab/6nPU17xfmSd481aTOSs0Bx4jBw8AkuzO58rmJtXS2hbZRs3C2UbfNunS/Krw0yMbcZOma/T0Eb/2LCYcP9g7sIGouZzq7SrFH+T85QEdAvULvQOc+VUKdQI49YDZOKTQl2SCkFi4Suw4SDVUNNQWi+kXzK+3O6RrnhuW+5l/py+r857TmrOi26XjuJ/OZ9Jb7bQPkB6ENmRB8EfgUlBngHlclMS2zMVMw0y1UKPUj0iW8I9sfMh3lE/ELZgWr+lH1pO9F5hjhSNiZzyzMEsPXuyi6zrT1s2u3kbRgsNauWqt4qK6sSa/wrO64Jc3H2enq5vMj7XD1EQPhBywa+i3jN4JE50U5PUw+l0MJSSlOBE8WURxSPU2eRG859TEhL50rCShfI/oetBnKDA//WvUD7fPrT+1X6Zfm5ePo3WjZ6dbA1kbah+Ds5rnpT+yv8TX27Pr//1ADFgkSEwUdKiSlKWgtoi3uLbwu5C3rLw0xsy0NK7ckBhyRFQALEwNK/9b1h+4l5/TZJtI+ysO/oLx9uTy1ubPUrwKsaqhXpV2kH6JOpFunOql6uA7KstXu4xrmzeMa7+/4awbiHX4uOjsnQr49jzv1PjlIq1NfWAJdn13ZVvNS80kLQHVAQD27OKE3AS82JtUdig7uARb6AvXY8/zwv+oP4oraPNYo0PbNsNGb1EvbU+Bc3czetuSL6XXwcfYR/JkEZw6GF94cySLVKZYqIiyHMMAxMjZCOKkxAi38JzcgXRtEFNgMDwi2/kDzM+h33KnUw8/+ynDFOL4yuCextqqLqeOknZ8eocid1Ztrpp2wqrwDzR7Q/s2Z1RPfVOzoAP0RMR/kKwcxHzBLNMI+IkriVKVbnFyBXdxdy1gRU3ZQgk7LTWNMCEbpPcg1lCn1G4oR2AiTA7wBK/w/8kvngtua0jbPW8+p0KrRbNOp0zzR3dG702nW59/A6EbuJvdE/f0B8QrAEGIWLB/kJO4qcS8ALo0taC01LBct+ipUJhcicxqvEL8Gev3w9mHwzeiT4GvY6dIdy9vA/7kSs6OvkrAMqjejCaEJm4yekK1/tyPC5cljxarHxdNc3uPuCwJhD5gaCyCqIIcmoDP3Q3tOZ1HuVK1XFFmEWtJW71S/WBRYI1RlT15IM0N9Omwrxx6oFoET2BGBCdn8I+8N497c4tht2NDbANoj1SPPH8dCyBzRhdfa3GXfk+CX5h7uFfXS+30CNguwEX0V8RrjH14l5CnCKDQngCfuKLsrRynGIp8bkBApCNEDlf04+Rrzwef63dLU+81dymrDaL6uufKusKhio4mcx6QJstS3EL8wvou2Y7yhx9fSPuZy9nn/gQduCS8L7xaBJ7U2XUHQRkBKbk14UN9QaFGqVwJcT1uKWi5VyE8iTgtEkzd1MvorBybnICEUWQe4/pr0BOw550LlrON33hfXx86WyXPMLtCr0STUrNSW1tHcQuK754juOPVz/OcCYwg8DQES5heDGx8eAiNBJtYoYyrLJiQjByDkGkgXfhIpDM8G3/0c9GHtreZI4pfe1tVIy1bDOr32txm05q5BqYOt+LZzuoe+M79YuT++DcgfzmTeL/D994f+SQHrAfEL+hwNLR03Nj0OQmNCB0WwSy9OdFNyWgBZa1YOVM1OX0z7R2U/OzjAMN0q+iXpG6gQogah/D72yfFY7STqnuRy3NnUEs8gzhbRgdK40sHTtdTT16Pd7uGh5jruEvTJ+PT+fAPrB9ANEBJ5FXEZIh6DIs8jOyRYI00e9Bo2GaMUcxGlDWsFj/3g9pnwbOvU5jXiLNnGzqnI1cDounS53LLLsk+9d7/sv9PB67nTumbHasy71svoTfC69O75UPlT/+UQ9CCOKhIy/DcqOoM9IkMJRfFJBVSaVotUeFMaThtKskhbQZ85cTbhMuMt/yXIGXUN0ASE/zX7y/de9FftWOQE3N/U4NKq1B7V4tVe1ovUG9X72IDcm+H36HPtg/Cm9mD7mP7NBSQLUwzxEGIWuxm/Hu8ghx2uGnMZXBfaFYEUBhCiCWADCfxp9u3zw/Bi7Hbkdtna0djK+MRDwzG9lboMw77Fm8R/xe+9t7sUxo3MlNTf4bTpQO4T8KnwxveOBAEV3iEEJhornS/AMGM3Tz7CQ4VNhVE5T4lO90rBRzBIz0QZQKA9BjmzMiEr0SDvFusP1ApnBi4BI/uq9GTsoeN73czZTtkl24facdiW1i7Ul9Un2jveOOTY6NHqNO9R80z3zv2NAswGrwulDp4SaxYKGIYZeBkYGeIY2ha6FFMQ3woWCIMDcP/V/In2IPKL7Czhw9p51crOrc6gyMG+98J+yQbLTM3lxv29PMJyy5DSGtyo5YPqlusX7FLvTvnwCVAYUh7HIGwkDCkWLzY2bDzvQqFJ8kuGSqZIO0ZSRf5EY0F8PfQ6ZTcjMgQpsR17FZMQ3w2TCmcDD/vR8hfq2uMD4XjgXOD/3S/af9aC1EjWa9lF3GbgRuTx5vrpRO338CL2+PuYABsE9wfuC2YPLBIXE4kTDxZjGNwX1BV1ErINFAq/BpoCcgCM/gP6/vKQ6O3f8dsJ1wnUOtEFydzHBM3zyyXMUMsIxWvHkc0t0KLXsd62417pEekH6yH1WgBpDPsTnBabHMAiEymzL1IzqDv7Q8pEbkbYRRhDx0UIRahAFj/rOxI5KjV1LLokxR2tF40Ttgy0BjMCCPtg9H/szeRJ44jiKeD83Wjaa9gu2EvYK9qa3EHhh+aA6OTq3+1I8U33HfxtAPsE9weJDPgOGQ9mEswTdxX1GCUWbhM8EokMtAnPB4QDuQGr/Rf41PFU6ADk5d/Y2C3YDdLPyC3N/NDt0PnTis3jxbbJIs9q1c/dOOOx5vfnnuiG7Kf15wPPDr0TKRj6GqgfSiivLVoy5Tk+P9ZBOkO4QrNAwz8zQCI9VzmXOSo3wTBTKUkegxXjE4ISDQ5+B9n+w/Wu7kPq5eaP5aLl5+H03H7aA9h92DbcGt6N4MDkGehy6xbu1e/n8g74cf8SBl8JmQuoDGgMTA6dER8V9Rk5G2wWcBH3DMAInQhJCJYEEwFC+/nyQezv5QHhQt2N2C7VhNCKywnNRc+WzpzO2culySLOn9MI2PzdleOB5+/p4uyU8x/+HgkvEOUTdRhXHr4kFCsTMHE1JjxWQNlAT0FUQZk/Uz+GPvY6Rjk/N3wxEivAIkQajBVUEQ0NoQda/8D4l/Jw6z/nJ+QY4nDhS97h2iDZf9jz2bXbqN7B4pzllOnp7DHvNvQ3+Pv7AQO0CKkMAg+7DrcPNRLuFfYZxBoXGgYXKBG1DWELtAkOCcYElP5J+GDxces95ebgCd261pXTl86WyADNRM9LzJXOl8q8xhDPctOX1r3feOMQ52Tto+929ZsAywqaEuYWkhq5H6smKC92M7k2tD2VQIlAKUIwQJk+CUEvP9A5+DZgM1AtyCc9IRIZMRRIEZQKhAJL+07zW+437LTnT+OY4JTdG9zw2gPZAdlD2m3dmuGr4x/nm+rM65TwJfa4+l8CCgdeCTANGg5eEMcTLBUvGicc0hkBGrsUYQ/PD3MLOAlGCS4BH/sQ9znvd+qs5RXgY9w01xDSGsunx5jNk8/yzk3Qd8pwyZ3QjNLw18ThJ+Yi6l3ujfHg92kCgg3ZEiMY7h9bImUo3jDLMEI2Ej+NPtBAv0IFPmA+0z6dObU1VTPiMI8rwSNxHNgTqw8qDscF9/5d+rjwpurt5hbimeIB4nPda9rh17HYDdt22//eX+IQ5fXq/OxH7oj0Xfki/38G5QkmDeAQIhNbFaMWIxlHHKEdfh5PG/UV/BJtDtgKIAnvBHYBDfx59CLwqemA4y/gvdh71GzShMqkyB7MtswK0OXPQspdy0PRg9bE3NDiPedi6/Twh/Wx+t0FGRDmFbYcviDVIxEr7i+FMgQ3CzvvPT4/Xz6/O6Y5bDq2OGcz5C7OKA4j+x7CF+4QfgxiB7IBGPpS80Hv5+q4567jDd/v3kzeMdx/3OXbh9zJ31riCOZb6uzt3/Ch87D46f2TA9YKWQ7rEFsTjhL4FcAa8BuHHoMdXhrrGSEVCxA1Dd4IrgfkBGX+RvmQ8YfreOhv4pLfIt3v1uXSHczPxNjF5Mpn0aDVxNIRzgXNsdLj2yLk/uzZ8U3zMPdE+n4BsQ7uF0UeWCLMI0EoAy15McQ1vDYeOU46NzgaOWU3RTNcMkYuvyhQJcUfthmsExQNzgZIAaD+4vlr8oTuYekp5NvjPuFt3tHf1d7n3KHeEeGC4k7lzuip6oTvYfbN+Cf9wwO6BrsLcRAeEqgWpBl+GnsckhwkHgIfYRvyGAMV+w8oD2UMcQeqA3z9hfan8Q3uaepj5yzlkt7l1sPTbs/8zAPO6covy6HQC9Lk0srTX9Ra2gfi/Ocw7fXx2fgr/54DhQmbD7gWbB7dIvslySmkLjYztjRBNaQ0qjNaNqk2kzLTL2Yr7CV3Izof9xhVFfwQgggZAbz82Pdo9UDz7Ooj5WPkWuHf4HjhVt423jzfdt6L4MjjXed861PuF/JO9tj6FgGpBU0JSQ6HEmIWeBojHeMdtB6nHw4eRR3oHfwa+hdmFGENAArMBygCov1A+LrymO/W6hTm5uGu3VDbLNfU0wjTns+/zevMV8vbz7DUv9bz2mbcYt5L5LPoZvBi+sAAwwYiChYMWBJIGRsgkCbtKfgsYS8xMMowZDArMfgysTKbMOkrYSbdImMfxxsWGHkTFg+DCWwCFPy99rryj+8y7DTp6ObF5MLhOt/Y3m3fm+Ei5KHk9uUj6GPq+e7U82v4qf08Aj0HHQvMDQMSbhXkGWwf1iAnIgQjaB/2HC0b6BixGVUYRxP9DR4IGAO5/bv37PMD8WPvnexR5SXfddug2GbYaNc41S3UUdKiz3XNz86+1EPbBuEe47DiUefu7XL00PwoAgsIuA/PEigWkRpXHiMlrCgQKQQsnS2sL9MwxywSKi8orSVdJXkilB6OGm0S0gvaBlcC/wHm/iT4jvJi6wbnCufT5fvkzuO54czheuKi45fk3+SZ5+Tq7+4A9e/4S/zY/28BBgWhCo0Q+Ra2GokcYx1LHTgfWCB3IAEioCBKHjIcZxYJEmwPAAskCCEEY/6l+q71bfBR7Mfn1+WX5FviF+Hh3fba8dn019TYYdp92c/aMduM2yfgxeLu5VTsf+9k8/z3TPlV/iEFhwllD5kTRhYrGoUbIhywHawfyyPVJVAlryRvISgfxh1MGSEX+xWSEq8QSgxwBU4BVfz19xD2v/KC8MzuI+te6aXoC+hq6S7q4up/7TjwG/N29pb5rfzJ/+sC0gU4CSsN3Q/yEe0TBxUiFokWuBUBFTYUNRNlEYcO5QvoCK4FuAL5/sv7dPnJ9q30pPKy8CzvgO0t7W7tz+2t71nwCPH584P18fYv+WD5vvp9/Xj+5f/zATIDcwSZBeAFZAXBBRMGLAXgBYcGoAXyBYgE+gE2AvUB2QEFA5gC1gJGA2QCfgIcAuIBkwIOAmECnQLCAQ0CGAEwANwAKABYAEAAev4m/wv//P30/rf9+PyF/i/+MP96AFP/1v+YANUAQAKDAuICtwPBA4QEMwRzA0UEFQSjAxID/QBUAI4Apv+n/on99/zh/FH8nPtV+iT6dfuR+3n7lfst+yb8Df2k/BX9lf5qAJcBxAFTATMAaABAAbAAGwEFATH/rf7v/C36y/m0+KD3P/i+96L3s/dI9s/1ffVP9dL2HPjB+av7ZvzD/fj+wP++ATwDyAS+BmgHcgjWCMAHBQjCB70GIQdABtUEXwRiAqsAJACD/jv9w/zu+5v7vPvK+7/72vuw/Hz9KP4q/6X/egAmAuMCfwPKBDoFbwUtBiAGlgV1BQMFTwTLA78CTAEqAAP/vv3W/BX86vqz+S/5hvh593P31Pcy+F/54fn9+Sf72fuN/AH+pv6M/xsBGQLfAtUCcQKQAtoB6wAfANf+NP5l/Rb8Rvvd+dj4yPg3+Pr3dPe/9nb3s/c++EL6PPuS/Kb+jv8KAX4CQQMkBcoG3Af6CHUJzAk0CUcIJAj1BjIGVgb2BNMDlQI3AF7/rf5L/Q79k/yy+zr79fpF+4H7a/xW/qT/RgG4AjcDrgS9BTUG5wffCCAJvgmYCRMJHwjfBgMGogQ+AwYClQC8/2b+wfyN+1X5d/fg9oj2CvdR9233gvj1+J35IfsW/JT9Lf84AG4BqAHSAZoCwgLtApgCSALbAiwChAFjAb//vv4u/gL9Hv3t/Jr8W/0V/dX8Hf0t/RX+ZP72/sAAQgFtAmkE3wTcBScGUwX4BdcFZQUaBqcFCQVOBN0CNgLeAPD/igACAN7/JwBe/9T/4/8h/ykAjwCnABwCuQIkA1kDkwKKAl0CMgI+A90DKwQqBGkDQgPIAggCRwISAowBKQFoAEYABQCT/ygAOgCo/2z/4v6b/pv+d/7k/mb/nP/d/yAALQCV/1H/iP/R/lL+f/5x/tf+qf7S/R7+eP7e/v3/RgD//6f/Pf9j/zD/Mf8dAEcA6v9F/z3+OP5B/gf+sP7h/sT+QP+A/9P/9f/y/6UA7AAFAdMBYgLxAi0DyQIDAxQD4wKaAxcE4wN+A90ChwI5AtUB8AEPAu4BxAGtAZ4BDAFsAEEA7v+i/6j/BACzAOEA2gAoAfcAiAB6AJsA0wC1AGoAUQD8/7r/8P9JAGwABgC2/8//pP+2/2YA/AArAd0AbgBMAB4AJQDGAGsBlAFrAU4BFAGCABMA5/+H/8P+CP71/Uv+lP74/jj/2/7p/RD9Cf2B/S/+UP9eAMcAlABUAJsA5QDlAPYAswDe/8X+6P2h/Tv9gPwM/KT7SPtg+xD8NP3S/a/9jP1f/Wv9Qv7c/6kBYwLYARABQADR/0AATwGLAgQDoQIcAj0BVQAgAFwAfQDL/57+I/4U/if+iv7t/lX/nv/l/5QAAAEWAW4BoQFnAdgAjgA5AdkBoAHuAOT/+f6T/sv+0v/2AP4BTQMhBAsEegMBAxsDBANQAsQBSAGjAOL/1f7Q/df8HPw6/HL8Pvw6/Kb8hP0z/mP+0f4n/+P+b/7o/bX9+v2J/qP/eACDAJUAqgB1ALf/Vv4p/fr7Z/pQ+bv4efh8+GD4iPia+D/4gPhA+RX6LPtQ/On9g/9qAG8BRAJxAoACgQL6ApQDiwO9A+4DlwNBA7ACNALFAe0AuADeAMEAMQHlAacCAANKAvsBSAKWAokDjwR+BU4GTAZsBnYGzQWdBYQFEgVXBAIDhALCAo4CsgLAAoMCXgK7AZcB2gGfAQUCYwL+AVsBOAC7/7n/Bv/Z/sD+5f27/ML6/fiS92b1qPPd8UnvAe2+6ivpPujW5lXmY+ZA5qvnIOtG8UT5SQBNBnYK3wtZDEgMmQzwDQUPWRC0EKoObQyWCv8IDAcqA0H/VvzP+S/5AfrU++v+kwHlAzoFugQbBXcGPQcxBwEGCAbYBxAJAwobCuQItQfTBasDjQHx/jj+7P7a/v3+AAAYA2MHcgkACu0JNwm0CakKiguBDIwMMg3CDf8L2wlYCEEHywUMAmT+vfwT/C39sv77/nv+s/we+/L5ovfG9jP4EPqh+7f72/vV/F38bPsa+hr3qfPO71Hss+mc5lnlU+aE5svlHuSR4qTixuOe6PnxT/x2BqcObhNDFckT7RE1ER0PjAwGCuEGHgSOARABqwIYAov/TPx1+CX20/XI+PX+LARKCHALkAscCkAIRwdWByIFXAJtAbEAyQCTAbYCWATPA18CmQE9/xT94/xI/ggBsQKzBKMI5grAC2cMQQw/DFELsgq4CxYLGQq6CvsKjApPCFUFagPi/678rPy5/aD/hAEYA+YEugNcAfMA8f9e/on8j/r++dX4ivjq+o37OfqF+Dv2FvTv73nr0+lm5xDkdeHE3lvdKtyw24TdXN7W4JPpoPbcBZ0TeB4tJxYpsiRxHoIWZQ/dCScF/AGQ/TX6jfus/C77m/c48xbxLe/N7i70Ufz5BRQQsRaDGZQXhhMnEQsMVgSb/lr7HPsa++T6p/3S/6EABQJPAY3/Gf4t/sQBTwQaBrEL6BFPFpIXoxUJFKYQ5QvRCbIHsgWWBQUGTQdYBgQEDgWHBeADuAL3AREDsQMoAxQF0wVvBMEDmQE3/oz51PRc9I30YvS595v7G/4V/j77Uflw9afuaumT4xvdEdhM1PDT6tNP06jWodoU3qXk/+6G/swO1xv5JxEvdi/eLMkm+R6NFbYKCAND+0/yzu3T7BbuSu9l7qzvPvED8ur2vf1UBQsOlRUpHbkgfR6xHIIZDxNICx0ClPvM9hPyL/Lq8+r0GviH+7b/3wJ5Ax4H9QoVDIgOBREdFPkW2RbCFwAXhhIbEAIOMgv+B9YCkABN/y38ifwE/hz/hAHCAkkF1gbIBKYF/gadBcUDrf+r/Iz6PPYK9UH0RfGf8MzvAu+o7RvpcucN5m/gbtvX1RHRsM5Ky6XL9M4Z093eJu+wALQTfCPpMSw7fDnYM7wqXx45E4cG0/tW9BXt9usp7aDrkevx6snruO6677P11v9ECVoVdR+RJhUsTyukKNQiFRZ0Cpf/PvUj70rqhOvt8Rn2DfwSAQUD8AaFCTMNVBJyE9wWHxvKG3od0xzUGt4YehEfC4gGtv+L/CD6+Pco+bj4MvscAAgBqQPiBa0F+QZkBecErQYaBL4CEgHD++b3x/H26wnpYeNO4YziG+Ki5LDlieRP4x/cPdWz0DXKdcijyR7N49Y14aHvwAJRE2Il0DRZPCM/Bzm+Lo4kvBUzCY//rfWo8E3shukV67Lq1OwQ8TfyRvay+64C5Q1lFj8f7Ci6LDMuiip0INoVfgjx/K31Le3c6PzozOq98Rz5XgHmC/QRyRbAGqoauRsmHM4bzBzUGZYWGRXlEEMNjQi2Acf8D/ec85H0yPRc91H8sgBLBigJ8AmkCzAKGQgvBiQBlvwf+Jnz2fAs6+Lkb+Fk3VLaTNf+0hDR6s7KzOXMcMt2y93OAtLf1TnZPt+17rQDaRv3MhBD9UulTDZEoTdVJrITrgQZ9VrmRNvj1OXXid9w5yzxcfjQ/mkGtwvZEXcYHR8eKcgvMzGVMD4rjCNIGMQHBPnK66Xh9N423+bjuu3u+EcHOxNQGlohYyTmI8AhDRxyGOcVPRKHEUEPigsnCS0EiP/h+k31lvTU9Br1dvnJ/oEGAQ46EC4RvA4TCd4EZP559+Xxjesn6BHkb92g2SXWqtMe03bRotLL1CvVOdfh11PYXNvz3ADeeN243HvkyfPLB1oeWDBKPYhDlkCxOBgrmxmCCYv57OtM4vDcSeDI6BHyF/wqAzwIUwwkDjARuxRlGKoe1COgJhcnuyP+HlMXBgw9AUT3SfAB7oDuwvIA+SkAJwqqE+0agB+vH8Ud8xm7FAoRXg0mCmwIYwaSBIABYP2p+2b7qvwo/2oA9wG7A80FawkrC9gKjAnoBUIBl/p88srsmuhn5q7lDePh3+/bgddD1WTTQdPA1QTX9Nad1KXRBNMw1gvZMNoh2N/ZsuOb9X0O5iXdN6JDl0VdQDA1rCWtF8AJ8/sq8DflkuB141Pq5/TK/TwEpQqeDfIPBxMIFtEcVSMOJ6Up1ye4JHAgqBYLC8P9qvGA7BfqFutb8JT2ZwGqDUAXPiBtJCMlwySJHz8ZexKPCvcFcwGD/Qr9ivw+/p4AeQCzAZwBYQCzAQYDSAe0Dc0QKRKBDxQJDgME+6fyDuvI4qXdCNp81lXU3NDuzoHPZNCj1AvZctuK3Qncm9qG2+Xa8trU2XfXotqp4030awveIFQzlkA+RrNFrjv1KuAYqgXI9d/p5+Ec4s7mNe63+CIB7QfxDKQOfREcFYEYQh0sIWIkiiY7JoQkgh8dF3EMEwCN9vfv4+sY7fzwVPgGBDsPSRqZIjIkuyIMHj0X1hGNC/IFSwJQ/8r/2wF3A1sFCgW7BBUFFAPuAdgBhQK6BtkJGwrVCZMG3gF9/LvyqudY3z7aLdrY3M/d1N3a3GDZbNY21SDUn9Ni0U7NL8zGzdXRVdix3Nbe698W4wPwRwRlGtouZDvjQjBFkT0qM04m3BV9Bwf2ruXd3ircDuIC8Cv8xAihED8SrhbhGcccgSFxIu4jCyTuIPEg+h5TGx0WywgO/PrxDeqm7Mfxy/dLA6cL0RSQHjshASSFI7oc9BVRC5MBuPyc+B/6OP2j/owBYQAVAKUChAKNBl0KawpxDeMMGQz/DuoLFQfB/ynyW+f13ZjXK9iZ2DTajdoE1m7Skc5xzz3WOtgL2W7Y0dXH2bzbf9vG3g7be9UF1DHXDOvsBwwjpTw/SuJMEUj9OaQsPB10CYr5Ruqu4WjhvOF97Lj8+Ad5EuUTMBGqFNsUdRddHuogHCYGKlUpZCq9JfcbQRDb/zLzm+tv6QDw/vYJACYM+hRgHxgmDCU2I6ka3g74B6AAB/3i/Lj6ZPzw/nD/9QBwAC8ABwGTAYUEGAZyB/UK0gzkD6kPIQjiADv3Reyn5V/eT9oM2zzadNqJ2G7Swc49znTRd9RG0yDTldMX1RnXMdUK1wDafdbt1Qvamue5AzkeozStR5VM0koORFs1NCfPE9D9ve/64wPeuN5/47fzgANOC18RqRD+EQ8YKBgBHU4jKCMyKCAqBSgSK0wlFhoQEBH/QfTI8iLyyfhHAO8FGxG5GYsfKiQmIRQb3BHEBYT+WPii9Cf3vfmp/oMDXQLYAvYD9gIIBk0IIwiNCiMLTAvQDfoLfQZFAGj2YutA4nPak9Yq1znYVtjg1t/RksxfzKfPpdJr1DjUDdRg1cXUjdMh1b7U189EzIbRB+avBjgnAEGvUaBV301rP9IuKx7DDEv7aOz54pbfPuFs6638ZQpVETgSDQ+0EKEVahmxITgpjyu8LvUuVi1lLRgl3xVFBon1Fu2D70D1jf6VBz0OfRbEHCIgSSE3HZkVwwq4/yT6Yvfr9+D78P0WAMUA1P1+/mEBcAOLB+sJlApqDQYQtxHPEb8M4QKD+FjvleUa3unZytXT1XvX39XV1sDUXc67zmXP6M9Y1YDWB9k93ZHYGNaY1VnQTs2tyD3MR+Ll+54YyzQAR95W/VivS6I+LyhFEB0BHu/65wXpR+Vj7zr91QMODyAQywwaEgoQrRHNG3cgpSmzMOkvszMhMUonhhwbCsL7U/So7tjym/ih/igL/BIqGZweThv7GLsUCwqIA0P92Pf3+Cb6uf0hA3oDrQE9/0r+8f/MAdEFswiRCtsNlwwtC2MJuQCB+qDz+ucv4rPcDNlo3WvdVtwl3EDUsc5WzETKd85n0OrQLNQI0mrQNtDczbnOHssMyeTXvPBtEUoyZ0VCUqhVsEovPo4u5hugDH/7zO0c6a3okO6W+SQEjwo/CtEGaQSOB4oQHBlhIxst/TCkNHQ0YS+/KsEd2gs2/r7yPfFS95v85wXEDFsQWhYpF38XvhfcEE4MHQan/Zr+b/58/hoEAQLSALsBFPuX/AACCgLhByoKIgnIDvQNsQqzChgDc/tE9W/rKucm5czi/eTP4z7fOdsZ1O/NIsm3xPrG/8vpzzLV9NYv1eHTsdCDzn7NJsjGxzbWe+/kEKsyKkorWTNbk0tyN2MjNw+nAhH5DPLs8xD2yfhkADwEsAUoBUb/Fv7kAkwKHhdqI3kudjlXPX085jZZKewZpAjm+ff1N/a3+coBXgdlDecSxxK8EyYU/g+nDFEIfANlA8gEMgbyB7EGWgPA/2H7Uvjp+Sz/fwMWBhcIXwkkC/cKdQfoBHYBVvth9l7x0+w669/puejR5eDdE9bQ0GDMQMkCxx/Jj8+P09/UUdLnyhPFUsHswNzFDck60DHk9v0ZG6Q2iUgFVTBWREfHNcEkFxXVC7gCVPxP/OT64Pr6/Mn7T/q/9p3yofV8/c8JkxkEJ+IzGD26Pqc8bDQRJ1gZlAp6AXYAtgAEA58GUgnwDNcNvgvHCtkJcwgcB+sFbgWbBSUHmAesBXYDv/9G/Tb92/t1/ioEZQb7CCMKewllCygJhgWWBU0CIf9r/FX2CPM57iLoreag4NrYb9RKzn3MQcoLxYbJ98490RDV2s9wyMLD2Ls+vaTC/MON0BLmfQLeJM87mEu5VS5O6j6kLI8bvBVQEEoLQwt8BtICwADL+zn7g/aL7TLsPe5M+HEK3BmJKyY6CT7KPfE1OypmIVoV4wt2CH8GkQibCRMJPAwBDbgLLQoyBjsFawXMBMMHgwm5CewKZghrBHAAj/tk+4D+gQFeBqYJeQmMCPMGDQb5BfID3gFUAUn/TPzM+hv6ufnG9pnvCehH3/LVzdGD0ObPiM+jzNvMIc+azFHKKsbEvVi4WbQbtoi/w8Ya1envKA12K9lAwkpYUSZKqzm/LGsflxi+FaoPLRCoDXAE2gBC+xT2rfIv6GTmJu619tgINxqjKFs5bzxdOB4zvCUmHv8XdA4FD9sODQ56EvEOIA3VDfYGqgUbBA3/tAFMAWkCbgnsCFkKyAtUBQMDe/7p+av/UwNTCMQOUgs4CfoGtQAmAHf9pfvv/x7+iPxM/fH67fwI+wjzWO2A4v7Y29Y60y/SudCFzBjOK8z4xF3Aq7m7tFSyFrAkt6XBi8tg39P63RmaNT9DoUmXSrxAXTRxKogkvyJ+HfoW7hIvDN8DAfzf9OPv3uje4S3jReym+kIMWBwVKqozDjVKMUgsUCbCIdseVxzBGwQbIBjQFBYQxQrmBR0AFf3M/Fr8hf45AYgDiwfNB4sFbgQoAc3/HwJvBR4M4xE/E2kRYQqxAsP9ivoX+9P7Ofxt/gv+of3l/Qv7LPiL8yjt4edL4fneAOHE3yrb2dDjx5rGssE0vHC6/bYIuLm48Le/wOfIz9Bh42j6jhZcL0o70EWVSFA/gzXuKbUkMCaQIIwcshlaEGUI1f098nPsQuUZ4c/jIuqt90YHDhb2I6sq1C1NLcAn4CRjIoch0CQOJWEkECGBGN8RSAqWA/8Af/xt/O7+mf2WAEcC5gCPA3MBC/4O/5P+4gONDXETbRiWFxAR9gmGAD77Sftg/JgAhgL+ACkAqvxv+J/09u5o6+npTOhc5yvodeq/5kbaKMyxwWy+E756uz28Ar+OvR66HbgJuje/I8gO2wT4mxfhL509xUYsSOk+GzNZKYwl3yXhIwgjYCEuG7cSMwV29wPsrN9J3KPgN+h++WYKUhYGIbsiTCKjI8cf6B4BIbIiSSdJKPAnvSbAHYsUwAtvA08C2QDhAK0FhgXOA6sAHPpi+HX4gfp6AGoEXQs6EgITfhP2DXIFpgK+/dz7AwAoARkFMQkLBhoCR/wA9QPx8eym6tbr7Oz77SfufevC45bVnMbOvi6+072BvvvCY8VGxTLBfLkpuhW9Jr9S0l/wVg/cLJI5oz0KQOs00yojKIwmDy3fL3ksciuZIJIT1AqY+0jxIOvf47PoO/D+9ugFZA/yEtkX4RjeGqgdyR08IXolXScOKEcn+iX6H6MVBw7ZCYIIzgfpBQQFkQMAATD9n/i190D3+Pba+v/9GQS4DhcTTRMjEOkGUQFw/9P+iwPHB6AJFwpWBY3+Ivfy8D3wFO8T7drtUu0C7j7vDOqD4TzXPcxfyKjJXsmeyC7IQsaFwSS7jLiqu+a/x8NTzfjixADmGY4pdTMjNngxFytjJl0o4zDbNaI1ADJOJ3wa+A8bBCz5DvIW7hjvlfMU+aAAvwcBC7QLPgyKDpkS3Ra6HJIi9iMCJVInryUDIqQbGhOQEfAQqwtHCzILpgdpBZ7+SPiI+Mj2Dfa5+Bn7kQGyByAKSQw4ClIHTwZnA2wEzAhZC2EOlg4bCnoEV/77+Bn20fXv86LwMvG/7hHpfuUo24zQ2cudxC3F58kRx17JecmZwu/Aj7vNudi/hb3wxMva7vCEDlwhHiVsLdooDx5RIRIkSi58PVM86zm5NMMjmxjIDZEBR/9n/MP6b/1Z+pT6gf8rAKcCJASJAoIHPw4ZE6YbdiEOIzknxCZIHzwaLhfxFicbMhoFFrUUAQ+0Bav9tPcD+DH6Bfqp+wH+pQGjBRMF2wT2BTEFFwY7BiIFKgj0C+EMwQs5CPoCI/4i+5z3KvTQ87zyLvKH8uDrmuO53RHVu88RzhvNQNAgz0/J5Mbiw+bCSMR6wnLCpr9lu6/G090T+FwRch0IIEAfxhdfFkIioDFiPvVBRTzsNOcr2iJwHB4WXBDWCegCBQHqACQARwJJAnD+Gfza+S77tQTSDX4TWxjKGKUYsxrqGEMWyxY/GJ8avBuJG1UcKhp0ExwK3QEIAI0ANAA3AjADKgLIAAP9fftE/rwARwIhAoUBFAMFBYUG2AWVAyMDfAEA/wD+v/uQ+sz5SPZ98pTsceYr4+3dHtmR1Y7SQtXg07HLochFxRfCosO5wInAmcM3vou/IM+m45L7Pws8EAwVYxW5FPMaziRUMtM73jvHOUEztCqrJsAgsRphFhIP0AuqDN4K5QnUB+UBwPy1+b/6+AArCBQNxQ5CD90P/A/0EAcSARSVGFgbBhzyHNEc1RyCGVYROQynCeoHMwmrBw8F7AQhAE/73vuU+3z96QC3/oP+hQJ5A34EZAQsALX/BwGL/v79Jv6b/P78Gvpw87vtAeY84afgQNxj2QjYktTn1KfPr8VNxdXDlsHZxcLDJcIkwku6XsHY11LqifxzBIIEqw3OESQU/x+tKEMzjjxaOTY4jDZ1L1kt6Cd0ILEegRoXF8QUYA5mCRgE9v7G/Uj+0gJYBiMFBQW3Ay0Fewt+DeUO1xAaEUcVyRd+F/gYXxhaGD0WFhD6DoQOBg6cD38JGARPBIgBPgOZBVICxgPwAzQAnQFmAi4CcAO2AAj+Yv6W/qP+yf34+p72g/Ns8c7s/ueP48fg9+Fi3jXXbdR+0YbPwMzAxYjFisjhx7/JLMiewqi+bbtpxSfdyvKuAgwI0gbnCWYM3hHwHeQnijJHOm443DWhMcsq9SijJjwi1yGZITYfsRuXE3sJLAU6BQQGGgpUDYwMmAvJBRP+e/6yAWwGYwxSDGoN3hC7DygPVg1lC18PkxCdD4cQ5w6DDxsOowbzAzIEMQZ/C64KcghiCCMEhALqAmwBSQQ3BscE3wT6ARP+Qf2k+qP2g/SX84TyS+9B6MTg3d5Q3sjZ6NbI1anUydRT0EzLk8uEyV/HEMnfyeXJ5sVqwcjIf9mD6/H3w/sh/yoDEAfqDgIX2iDkKzMwijJ5M1kwHDARL5ArzSofKaEoOSl2JIAd2BWiD8wNfAwJDlAQsA7HDBQGXv6W/V/8Hv9QBeADNQQuBXQCTAdjCvoIUgxSCsoHOQv0CmkNOBHYDmcO7gwZCkINiRBLEm8RvwsdCR4JsQjtCDQHtQaBBtYBtP1C+zH5k/dn8yXvEOxb6KzkUOCb3ezaGNbp1LHTvNCb0HLO6c4G0izNzMotzVvLv8kmw/G+is3h37PtRvcr9TT1lPpd/bEIrBYvHzAoVSnIJrEpzimUKzsvKS2JLWku0yu0KkMkBxvsFjgTzBPiGLUZnxgEFGUK3gS5AkgB+APKBukG4wWAAoz/ywB0A3gE4QSGBewFbAeLCX4J+wiUCNgGvwfTChIMPg7xDxkOuwx2C7MJGQtTDIQLxwu0Cp0HfwV5A8AAsP0H+hH3h/Xc8p/s8+Vy4lzfCttT19zU+9Ss1Y/SHc+oz1nQKs7gy3XL7MzFzjzLs8Tqx1nUWeLN74/0SPNd92L60vz1BbcONxqIJxspBSf1JlElSSpDL+kusDLGMx0xqi87J1wfFR4PHEoenCCNHBIaHBVMDHMGCQEdAOADVwR5AyQAR/sP+jv4S/jL++n8v/+sAhcCKQOtAgwBrwIuBIAHAQyeDlYR/BBlEM8R7Q/MEAwUpxS9F/gVww70DLUJ7wRVA2H/Hv66/R72t+2W5k7hSN9h26nYMthH1uDTFc60yObIosqTzRLNrMgZyArHD8b8xbnDysy83DDlauzR7TruIvnG/c3/wQrZE7AfAClcJiAn/CjlKSsx1DOfNbE4iTRSNI4ySiliJ54lFyPbJQUgtxmEGh4VVg5/CN4A7f+VAUYAcP4E++P22fIN8RfydPNM+HP8hPvu+df1dfXr/NoApAPCBqoGVQtiDpYNWxPqFigXcxlBF7cXyRtLGngYXxVND7cLigheBn0DXv2d+DPyCOs05nvf/tw23bLXF9PizpDJCsg8xqzGLckVx/jEzcG+v4zCEMANwgnP6tfu4WDpuOaW7W325PfaA90PrRabIiAl/CJoKF0qCi/gOPI7Iz3FPHM5rDgmNUgwtC4uLXQtKivEJHYhsBstEyUOaAhvBW4FwgAI/Vj6wvMq79LszetE7njvHO+h7yXvZO7S7qrxhfZb+l/9FwBkA1kIagw3EFQUhxaAGEAa/hs6H1Mgph8qHlMZVBUwE/UPxQ36CaoCt/xS99Xv0+lt5jzhpNvP1wrR+8zszUfIFsSMxbe/ab0uwAC8BL6SwH65Tb0OyRjS1d665KHjueg/74D2fAJPD6YZOR+lIc4iCSaeL5Y4Iz5ZQrVAdD5kP80+LT7ROxQ4FDaQMgAw1CyuJcYfLBc1DoMMoQktBfsAI/ht8f3sX+hS6KfoDOlV6Fvj7+Jt5Bzl/OpN7QruafO69Bb40/+GA6oIEA6iEMYU4BdLGywffiAZIlAhRSAmIr8fBRz3GGMSvA3/CV4E8v8G+vTyTeuz4vfcINh01eXUQs65xszCEr5wvM67ubikubu7LLlkt3+8TMbWzz3Wt9bq2HDkke479sMAWwc1D6EYZxsnIl4s+TJPO38+mD0NQehC7kXNSLREJEJuQP888TuSN0AyuS4/Jxcfhxd3EUIOwwdWANb5CvMy8FvrpeQR4+DgJOAm4v3fRN+M4GDgV+PW5qrpj+7083P5w/35AZcGiwq9EPQUxBchHoMgESLAJAMhPyG5I5EgdyFBHtMVyxNoDa4FlAKT+mf1rPGH6FLiK9sR1BvQFclUxvHDZL3Au++1WLAJsxixNLbywkbFSsheyenGEtM94Kro2fUX/SYDeQoTDDMUqiCxKoA00TZfOT5ARkIZRulHSkXzSE1JYkYmR0xBkDvEONsvVSrtJl4g1hxhFH4H1v8u+v/3TPaU7mPn7OHd3XndGtyl2+3c9NtD3Evdwt7i4zvo9ush8Wz1bvvoAZcGggvIDq4SpBj+HKYhJST6ItwjYCNDIY4hKh8fHB8aRBPSC+EF5v4z+lH1wu4R6cDhhNo51ELNL8nxxCm/zrwKuXi0WbUqt2q7k8KgwofArsQTy7XU8d+N5m3tUvbb+7sAEQn0Eywf2yfJLA8wCzbNPbtBqETCSC5KMkx9TWNJo0auRJU/rjzuOIQyqi1eJrQd5RWoDM8GlgK9/Hz41PBO6AnlkeCo3Rbe6to52bbZIdhI2TDcy97Z4hXnn+sL733yNPiw/IkCggk9DAAQkxQjFqkZjB07H3YgCyBGHrAbkxp9Ge8TyA8zC8sC+P8n/NbzUfBP6cfg9t3O1q7Ps8tRxdrBxr29ut2+vcHGxDfExLzmvxnI481g2ZjemuHO65LunfFs/MQFBBJKG5IdKiM6KlUy9DjsOqFAtUVoSB9MfkgARhBIy0NyQU8/hDijNnUxjyfpIYAaPhSmD5gG1v8i+mbz/u6k6PfjGOI73jHcWtkD1hfXtdcG2m/e+N9U46Lm2egi7uvxC/ek/hoDaQhPC5wLThEjFXQXWhz3G/UcdSDbHDQa5hj+E4kSaBB/CsEGCAIk+wz1OPCx7GbnreAC2d7PhMsLyabEMsewy4LKD8lSwzu9pcPhzGbSv9k13Y7etOPD5szrQfhVBOQMoRFqE/sYAyKbKn4xIDWZOZM/ckKORJpFLUQpRMdCBD+aPUY8mDidMnYqzyN3H9kb9Ba9DhMHOQDC95DywO//60zp6+Nq3GnZwth52PjZcdtE3BjdHt7c35jjCum37OrvJ/Xd+av+ywLmBPMIAg1AEDkVAhiDGp0cWRnpFxYYdRVLFjUVxQ8PDTQHDwDK/Tj67vWT8JbnMODE2YfUK9FkzdzOf9Eez03NRci4w27Ij8yM0ODXZNoo3QfhmuHq5qnwvfslB0QMwA6BEjQXcSA7KEIt/zTUOS48aT4lPc8990DEQU1B7D6jO5U34DF4Le8nviJSIEQaahTVD/EFbf6D+Yny2+907DDmauMq35/aGdmT1y3ZHdsU26XcC91z3+/ja+Uz6kTvffHU93L7qP1wBJgG+QmPEeUT/BfjGjkXxxfsF5sWNhpjGQ0WRxPtCyYIRwbgAZgAr/st9Cjv8OV830fdxNcz1vDVUdMN1ATRXstHyl3Kbs730xvXdtyJ3jre7OAy473sxfoDAd8GdQuxDJ0UkRsHH4QnQS5qMqY2kDaeNi455DvIPZg8eTvvOQU2TzOWLeAmRyVjIRYcyBdPD6kIqQPy+xz3AvNK75Pty+cP4mDe/9mt2t/buNoG3Rrd29s/3p/fGeNu6ejthvIJ9qn4Rfx9/w0FPgpmDecSthU/FvcX6hUdFn8a+xqMGocYvxOSEbMNWwgRBtgDMwLo/b/07e3k6Ffkg+GL3EPYvtbM1EfTGdHczl7Olc6l0bXUjdax2yvfH+Fd5STnbux49+7+mwW1C3EOBBQ9GgIftyV9K+Yv1TLqM0Y24jcFOW46hDg2N6o2WDPcMHAsYyUBIXgc1Rd6EyAMgQWN/x35B/VI8B7sj+nx4xnfD9zt2J3ZI9qg2DnZrtly2yXfO+Fx5Kzo6+xH8tX1xPnq/mwCQQc2CwYOCxS0F6EZ2xz0G+kbTR5nHXEe8h6mGlkYFRWIDwgNtQnYBeQCw/w99sbwU+sr5xjivN292sXVGNMy03rT+NW51FbP4M580c3VutyL4DvjSudQ6WHsevJp+gkEfwtdEFwU6xZyG0EhaSUKK/gvDjL/NLg1WDM2MzkzujF7MfQvACxJKPIiZhv0FVUSsQ1nCcwE3/0S9+rwuuqG55fmW+Qz4cfd5dnT1pjVW9Ya2UPddOA+4fbhIOSQ5wrtNPNF+OX8zACbA7sGDwtOEIAVyBmaHOwdDB/eH4wfCiCNIaohWyCHHSkZyRXaEmEOcQpIB/cCVv4k+W7zVu816/zl7eE73rLa+dd11EXSpdLY0qPTRtRM03vUttcL28nfyOMl5/XsgPJp9uj6NwAcB5YOrRNEF4EbgSAlJXooKiuGLU8vsTAhMfUwdjCVLusrLCnhJWoitR6tGkoWthDqCscFywCH/DX4M/P37o7qs+WS4k/gHd4Q3TzcpNs63H/cbtz73YPgF+PV5jTrTO/y89T3bPpP/sEC6AZRDNkQuBPmFiIZHRvyHTgfBCBoIWMhtCBGH4QciRquGBcW7hPREHYMKwh+A1//L/wg+OvzffC77BPp1+U44iff9dyZ2sjYpdcc1m7VAdfW2evcit8l4fjiH+aZ6XTtDfM4+Wn+0ALuBdwIrA0cE3kY5h1aIfoiPiQeJX8mLCj/KEEpYihEJtsj8iD8HRsbgBf/E30QtwuZBggCn/18+W31DfGG7SfrEOi45P7i/+GD4avhIeGI4dfjpOU955vpUexK8PT0vfjV+/D+vwLbBrQKSA7wEOMTTRe+GHwZshpMG2Acphz8GtcZpxiQFk0UVRGtDiAM2AjxBWAC1f5d/NX4FvZq9DvxSO/Y7dfqNump5/zlY+YF5jrlXuUH5Z3l/+XR5WLnyehE63/vqPH58y/2YfZv+WX9k/+HA48GRAhXC6oMxQ3pEIITARbcFz8YrBh1GGIYhRhuF9QWxxWoE4sSIhC9DLwKvAeFBFkCbf81/Wn7U/ir9ZXzqfFh8ATvTO5u7jLuCu4M7nLuUvC48qj0wfbH+Gv6pvxK/2IBDgRGB08JQQspDdoNfQ9UERcRKxGTERMRYRHHEGYO9wxzCzMJzAcRBgsEeQLk/zL9c/u5+bj4GPgD95f2wPUv9MXzg/Om8xf1TvUD9ZL1VfXE9a/2/vXc9Uj2+PX19XH1dvVQ9/z4EfrR+Zf4x/jv+HD5XPs4/ML98P8PAAoBLQJuAiEFfQebCMUKeQtHDPINnw3sDXwOvQ0aDmQN0QujCwAKRAg0BwMEZwG+/2X9ifxh+9f4Vfeg9bDzG/Ps8jfzCPRT9IH0VPXH9o/4zPo1/QL/8wA6A0sF5wcwCoYLEw3hDQkO8Q5aD1YPeQ99Dk8NLwzbCcgHPwYHBOQBp/9L/fL7evqC+CL35/Ud9dv0UfRq9AL1ivXf9uv3ofhU+vX7v/2Z//b/xwCRArED8AR+BRwFJgVCBNQCAgLrAFsAxv9Z/if9IPv4+An4q/av9UX1UPS39GP1CPWx9X/2bPej+Wr7H/1P/9UAvgIJBb0GWgimCYsKNwtECwcLAQseC7QKhwkPCCwGXgTfAvUAaf8K/if8FPtD+iD5u/gu+Kb35/f893b4kfm4+lL84P18/zIBWwL6A4wFhgZDCHMJBgpDC0gL8gpnC2gKKAlxCLoGqwXyBNMCKgHG/8P9r/yJ++f5jflE+bH4xfgW+NP3I/mx+Uz6dPur+xD92f7z/vn/GAE/AZAC9wIqAmACzQGgANz/Hv5k/Gf7Z/pa+V/4+veG9/n25fbo9Yr1q/bj9gz4+Plp+kD8ZP5M/94BAgRPBfQHTgkkCtQLSgzjDIoN+QymDMULPQogCY8HAwZyBFgCnwC9/t78nfsw+if5Yvh692H3Y/d291f4SPmK+gj8Tv0a//UAjQI4BJ0FCgcuCNMIwAlVCnkKlgobCpUJ/AiKBxgGpwStAuoArv+u/sH9svxh+2f6J/q3+XX5Cvo0+nX6Sfuw+8z8PP77/oQAsgHhAcACjwOlBPUFyQW1BcUF1gQ8BA8DggHGAA7/WP18/Nn64fl/+W34yfe59oD1yvU79nb2CPei98D48/kK+578V/4sAJQBiwLxA/EE9gWrB4cI9ggeCWEIYwg5CO4GUgZ7BRsEIANfAQQAjf8p/iT9e/wy+/X6+Pr2+iX8ZfxG/F/9of3+/R3/X/+sAEoCOQIdA1cEdwR7BQIGmwUeBvAFTwW0BX0F2gSrBB4EVwNlAjgBdQAIAI3/4f5g/i3+1f2R/Vv9Gv0k/e78+/ya/aj9Cv7O/uf+dP+n/zz/7f8mAAIAugB+AF0AmgCl/7r/4P+h/r/+b/4C/QD96vtp+sz6vPlH+HL4ZPfE9ub3G/jA+Or5X/lt+WX6Z/oy+3r8O/0M/6wAtAHGAyEFxAXTBtEGDwfbB7EHVQi7CK8HNAftBVwE4gMVAsUAfQDU/iL+dv3J+wz8vPvz+uH7d/uK++f83Pxy/jgAKwDrAekC2wKRBH8ENQShBS0F+wSJBWkEBQTlA8gCKwIZAYP/X/6X/Tv9f/zN+3775PoL+zf78frf+6T8KP1i/qb+C/8lAIoAfgFmAmsCFgOCA2oDswN6AyUD4gL0AQoBWwDG/0r/gf56/Wb8pPsx+5P6B/qD+ZP5tPpM+z/7a/uE+3H8uf0K/mz+5P4c/8P/hwBhAQ4CbgIMA+kCVwJMAvMBRQLJApYB5gBKARcBPgEwAWgAMwCi/47+U/6Y/kz/OgCmAPgA7QCTAEcBXwK1AhIDbgORAxkEMQSVA8EDXAQYBFoDygIrApMBxQHGAa4ARwAfAE//9/9JAN3+J//h/4X/dwDwAEsAuwDtAK8A2wDJALcApgDlACQBlgAGAdMBXAFPAdoAsv+7/5r/b/8XAO//jf9K/53+O/4q/cf7JvvF+Qr4G/eF9nb2SvZO9Vv0NfS69Ir1Yffv+X37fPwo/Tr98v0S/3MAYgJJAzkDRAMaBDYGlQfaBzcIrQcjBxIHWAY/Bv4FiASQA4MCSQHNAFMAVgBjAJv/BP+Q/qT+mf/CAOUC4gSrBbEGRAfqB5YJ0glFCSMJ+gdRB3QHdgZ4BdIEcwOtAYX/Ev0W+/n5S/kS+P324Pbx9gb4TvpI+7T7HP0C/qH/fQLpA88FyAh0CeoJFwvfCnILyAsJCgAJggetBL8CeACo/dz6aveJ9OrxZ++E7UnrH+o66bznmOks7ULwefRs9g/3x/lg+zv9uwCeAmIESAZxB30JEgtNDGENkQxgC1cJjwbGBX4EUQJoAQUAH//r/qX9Iv0d/Rz9w/03/Sb9nf7W/5cCPQW8BVMHCQnxCbkLEgxfC1MLbAqpCd4ILweiBsgF4QN4Aoj/hvz5+8D6CPlw+Ov2rvUG9iv2pfZY+Ar67PoQ/EX+wv86AXoEmgYOCO4K6gukDJ8PUxDTD9wQ5Q/2DWQN2QvMCWsIOQajAwwCDwA+/NH46vaa9F/yWfBw7czrL+sz6U3nD+b55GHlROb75YDlWubl6RvwKvaW+TL7wfyk/t0AvwLlA3kFIwfaB1QIDwmmCl0NoQ/qD7YNfwr7B94FfARuA7MB1wBuAFf/Uv8IAL4A5gEkAlYBuwArARQDWgXHBxIKdgsrDTYO2Q1BDgsOXwyYCqYHuAQHAyEB1f8G/1n9L/vt+D/3DfYq9db0UPSI9Bv1+vQN9y36CPzg/jEB4wIcBvgHYAm2DHIPDhGtEYMRpRFyETMR7A9vDZkLEQgpBKIC6v9n/eb7EPgs9QDzVe8q7Wrqneam5Ozi/uGb4ZngSeFp4kbjs+Qy5vnqt/Ht9l/8BAA+AucFiAdnCJcKYwvADH8OXw4YDg4Oaw99EQ8R2Q7sClEH0AYfBQMCXgCL/i/+cv8t/87+l/8DAU0CtgJOA8QDPQV+CIgJ4QkfDAANxA3lDoANwQvOCeUFIQKE/7H9I/zu+pb6j/ls+Av4wvYV9if2RfWU9cH2evdW+QP8pf8UBEYH6wn8C+wM2g5MEeUSBhSWEysS8xH3EbgQ5w7WDKIJZQUPAe38tfmp92H1t/Ke8DTuQuvF6UXpi+c55cTiLeA838be09313hfhVeLB4+nlAOtz87z7WwIfBowHoAnYC1kOYxGCEhITZxP5EXcRMxKkE+oV+BSPEIILqAaBBNMDIwLhACX/v/02/mb+7f/rAs0EBweuBysGmgaxB1wJjAx1DU4NEg7yDQkOng2ACzsJ2AVGAYj8X/gf9wL37PUG9Q3znPHf8vfzffW691H45/np/Db/LQJzBRUJ0w3yEDISKxMyFPMVxBaOFUITWQ8SC9QHCgUjA/MAxv0R+6f3PfNG76nr/uiG5uXij98+3fDba9ts2oHZKNmA2R/bytsK24LcyOJV7rD7AgYuDQQTNRjFG9kcPB3JHJIauBd7E4QP0w66D4wRoBJODwAKxgV6Aq7/6Pun+OP3RfjB+Q38w/8uBtwLPQ8XEUAQGg8vD1YPFRDSD0gPthAZESUQXg8rDjENzwg+//n20/Jc8c3wFe8j7vfuOfB18lj1V/nC/eD/vAEKBEoFbwhlDTYSDBc1GWoY8RZrFBES1BBiD6MMnwdrAun+dvtf+On1X/M68ZvtXuiA5HLhJN5o23PZXNj51tTU69Pv1AXXntj22OjZNdwR4KPn4PLj/ysNixiJIWconitcK1kpGybNIQ8c4xRSDp8KjgpoDOQMpAqPBjIC8v2t+LbzA/JO8+j1mvid+5MB4QnNEHoV7xd9GCAYLBaMExASMxGZEJwPAg4TDRgMNAr4BjsBnvqI9BLvC+wJ6z7rau1x8Mz0n/pF/8oCuQVVCOsLnA7dD5kRYBN0FRgXmRZhFVcTExDRDMEIngQKAV78c/eT8uDtUeuC6Z3nWOYC5HLgg9tD1SbRpM83z6bPtc9q0K/SJdWJ2PHbCN6b4W7pjfcDCsUZLCSjKrouFTL2MnowRiyPJb0cKxPVCYwEcwTwBvEIOQad/xz6Jvda9gn2ZvUX9+/6hf+xBQoNLhWAHHEg1SHIICEddhmYFm0U6RETDZMIrwbWBT0FYwOh/9/6gvRq7kbrkur968fuPvKr9uD6oP9EBq8MGxF5EpcRcBGgEbER4hLBE0QT9RCHDF0I6AQqAdf96/mt9PfuDuoR6NnnruaV5Inh3d2t2erUqNIl087S6tBNzrbNctFW1uXZDNxX3dvhSuxd+3YMqBvkJ78xjzckOVg3wzPZL6koYB2JEdEHggMuBEUFcQVdAyH/H/zM+VX3F/b/9Sn48vuX/zwF5A19GFoiCycMJ6Yk+CB8HmUbqRVeD8EI/gOEAq8A7P4U/vT77Pjt8+jtl+vD7LvvMvOm9ab51f9/BmcNXhLUFY8YtBfVFNERzw4rDv4MEAmwBVYCTP9f/br55/Xd8pvuueo75yXkteKB4BvdLNno1FTTgNNC0+3SctDfzWHONdAz1KDYLdpI3f/k7/EsBFcVNCJRLLAyUzadN6c17jFhK90hpxeWDdkGmATOBL8G5wWrAPf7F/nv+PL6ufpZ+qb8cAAgB1IPuxZRHvMjvyXjI74e2hmoFhITyA2JBgcBh//G/uP9nfxZ+s74IPYc8ubw2fH388P3JPvG/s4DGAkwD+YUuBfgF2AWJhQZESgNtgmUBlAD5P++++D4zfcV9j/0Y/KH7zTt7+ps56fjX9+42gXXsdOu0MHP59Bp0bTPw82hzpPTrtlw3EXdy+BV6MzznAFOD7Actig7MUA2AjhHNtExSytiIpUXcA3LBZABTgE2Au8BFQEM/1r9Nv7O/hr+2P2N/g4CxwcuDZgTtRtWI9QneyfvIyEfnxloE2ULuwPM/kL73fmj+TP4L/jV+M73MPcS9kb11Pfp+rH9bAH8BK4JFw8lE/cVdRYXFZgSVQ5KCvoFHQEr/vb63ffx9uD0/vJp8hrw0u4J7qfqY+f64pvcnteg0/TR2NIv0nvPWcukyDPLk9DO1rvbCd2p30zlhO2I+yML8xhmJe8rES8zMyo1ZTVxMlgpVR7+EugIGgQPAyEEkwR9ARz+4Pv9+3f/UQG7AZgCkAI5Bl8NFBSCHOgiWySFJPchZB5bHJUXvBCiCRUCUP36+h36zvoQ+m/4nfbT9En2nfhL+nz9f//7Af0GnQr9DmAUvhb7F7UW2hFUDnYLogdJA+v8BPeQ807xXPDD7+7vmfCE7t/qz+Z54i3ghNzR1cfQ3M0YznDR5tEA0ELPSc+H0ZjU2dV+17Ta1d8i6LTzngILE1QinC7nNbU5Pzv+OBI0/CvOH6QTPgl+AWL/nwBJAlgE8QSBBD0FGAY4BgUGOwWaBCgGxAqAEXcZviCgJJolwiSoIcYdTxmREuUKiAOu/N74y/gz+jz83/2J/dP8QP2o/aH+1ACxAgkFbQgkC58OrBPcF5IathorF1MSlg1jCJ4COPza9bfw9e1R7Vvtje4F8I/vDu646kvlDeG03EjXYNMZ0PLOrNEW1BbVAdXm0rzR8NGg0ZjRCdIn1Y3dlupr+9IMhBwAK+M1Bj2bQAA+ajhdMaomgBsWEHAFkwE/AuwDIwZ7BWQEkgXqBYsF/gPaAd0CiwWbCc8P+BXhHWslQyhGKbknRiMuH/EXbQ5cB+EAcPwL+9X52/qP/dH+Qv+y/kL+Df+w/6QAzQH9A3MIjAybEDEV2ReaGdMY2xPeDqsJtwOx/iP40/Fx7vPrSevG64TrvuvP6mjoueXY4UHeBNq+1PvRQtAl0JXSNNJt0Q/S389czwLQuM35zkbTLNnd5gr4kAg/Go0oYTM5PUVCgEHcOzkyryYsGuQOogW1/xAA7gFBAokDBAO7AmMFmQS0AbYAYv9lAaQHnw1BFRseliQ4KXcrgSo3J6UhlhnEDyAH0gDq+w/6Nfq3+nz9u//K/7AAmwCY/+r/Bv+a/lkB0QRcCdAOoBKRFWcXtRYfFCYQ0QrcA0n8qfUp8HHt8uyD68Pq4+qB6czo5ueE5IHhjd1l1gfQOMwXy8vNutBF0G/OhM1xzRvO1c5SzrTOsdPr3N/pT/vcDaAewS2oODM+70B1PzI4US6PIkIVBwuyBJkAgwAbAokBVQEbAhUCugKiAjcAJ//cABcEgwnBEGkY4B+gJdgnVidFJgMkuB7UFpENYgXmAMr+TP0Y/QH+Nv8AAN//yv/HAG4CIgNSAk4CcwQlCOUM6BB1EzoVtBS8ERsOEgqsBev/afgE8oHuju1b7anrDerZ6Yzpbego5aTgeN2D2fTTz84sywDMac/Hz0HOXMwVywHNPc4OzSXO/dG42TjnC/cuCGwauCnzNC0990GcQqY+JTavKWkcVxGYB/MAH/8n/r/9vf5j/lr/sAJPAz4CAQJaAdICigd3DK0S+RpPIeEkhCf3J6ImJiRgHRMUrwxWBqgBHf9z/On7Uv2F/X7+zf/8ACcEJwUJBDcFZgYgCTQOCxBLETgTrRGOEEMQOQ26CRAEtPv49brySvDL7QHq0+eX52rnMOeN5KrhruDx25/UCs+Eyi7LxM7AzHvJwchdyFnLNc60zPvNj9NV27roBPmFCSIc8StmNtc+rUPJRDtDUju2LqQhJBSoCSkEWwBX/nn9fftJ+5b9Mv8gAEoARP99/80BIgVYCicSNRovIH4kGCc5KDMp/ybRHxEYvxCVCfsE8QCC/Qz+Ov8G/9v//ABEA7oGJAdEBVsEDAUQCG4LEw1nDmoPrw+ND04OigxFCs4FZP+K+CLz1O8g7b/qX+gd5u3lu+UZ5Hrj9OB+2/fWGdGby2rLdsqbx3HHocVcxBLIoMlzyhbQQdYT4L/wDQFaEfsiOjCMOn5DA0ddRtRCOTrtLWIgIBOmCFoC0P4o+7n3D/eo+Oj7q/8YAAP/jACZAiQFwwn+DW4TVBugIHAjpSZRKIAoyCYiIFEXihD4CgwGIQKA/oP8pf2U/wIBXwO9BXEHBQm2CPUHewkSCz4M/QyjC0kLfwxODMkLpAk8BaABD/2599nziu/H7JLrweiG583mwuQ65azjmN5E253Vlc92zkvLjMcex6bDe8GywxDDoMPjxzTMjNaB5iH2yQdsGbgouDcuQjlH80hnRUY/CTZKJ/oZPw+5BV8Bh/zp9Sn1GPYu90372/sg+27+iQALAzQIdAxpEl4ZsB2LIbAk1SbWJ6MkXh+gGRIT6Q6LCtwE0QKbAY4AyAKAA/8DzAcNCdYIQQp1CZoJWAwBDM0KSwtkCnAKIAyqCnoH5ARFAFn7bfhT9PPv9e1h67LojOiT54TlFOUw47rfvt3z2U7UD9GIzZTJSsgHxXnAxr+kvsy99MC8w8LKntqb69H9XRFaIJ0vEj/kRolJt0cuQNk3sC0KIGMTzgmYA3P/T/vx9232X/gb/Dj9H/1Z/fn9MQGYBCkHzQvfEAQW5hr2HHAfWyIOInAgVhwBFkITahFvDegKhAhRBuoHswkYCdEJZwtmC3ULFQuzCDQIdQpdCpMIqQfKBWQFtwehBogC0P9W/E75sviq9TnxFO9C7GLpiecY5Kvhs+CE3l7cQthG07fRmc9IzQzMZsYDwq3Bbr6WvZG/RcBzyf3Yvecs+zgOAR5pMKA9j0OOR15F5T96OdEshx+ZFRgN6QheBbf/XP1m/V3+igCm/2L9gf2X/R/+q/+fAEQEuAp8D3QTHhdVGeYc4x+mHoQcLxohF9wVqxPoDxUO3wzBDLANfQy/C2wLywlEChQKpAheCpkKUAleCvQIWwehCOsGMQTQAnX/B/1m/Oj5gvY881Pv0uuL6Qrnt+ME4R7e29qN2GvV6tJZ0jnQT84MzMbG4MRgxFzAQr/gvqm/wssV3BTrL/7qDjAd7y5qO69AJ0RjQiU8DDQ3KDkchxS1ELQNZQg3A/MAKwGxBMsGAQOw/1n+CvwM/Tb/Iv/6AggIeQnhDBQRHxSEGRscExq6GFEX9xYRGIoWehTwEgMRPxE1ERkQmRCrD58NyQyDC/ALQg7CDpMNPQulCDwHKQaoBMYBsv44/YD77vls+BT15PJT8cLtj+q15lziHuAx3R3ZH9Vk0R3Qvs9Vz3/O1MrsyBPI08NjwrDBE8HFyj3XWuIA9GQDNBGWJDwxzzecPgg+VjqINu8sNSNGHG4WjhK9DaAJngcpBlAI6Qj+BNUDwAE6/n3/q/6y/DsAOQK8A8AINQtaDuoTuRUAFwwYeBZJF7IXkBWLFZAToxCoERgQDA7ND0cOaw0bELwOjw5eESkQ7A9CECkMwQlTCGkEKgLD/zP86fpk+ZT2QfSn8XTv6+0R65fm8+Fd3o3bqdgX1enQ3s3hzGfMxMqSyArHC8VwwxnDBsLgxU7Rf9zK6Tf57gPrEqkkPS3ZNMM5nDWANJ0xfiegIloe4BcJFpQRqAxqDYwNtQ1uDCIHdQSYAmoAZABk/TX7+vwJ/RX/LwPUBYoLzBCJEg8VkxaOGCsc3hvtGUYYeRWaFSsWrRO0ElYSVhF5EpYSWRFwEm0T2RKOEWkOkQuQCssI0wXuAZr9XftC+gT4c/XC8h/wB+5i60rnc+Jg3zTdBNm51YHSbM1tzbPOD8sYy/XKFMYkx07HjcLRxmPOQ9X84wHx4fpvCzcbWieoMos3aziqOD41Zy/8J54g1RucFgkRfw0pC9sL0A6WDrALFwpnCeIIQwmpB38DEQIxAsEAswHbAysFoAkBDkwPThJ9FhIaEB4hH4EcCxqoGI0X+xX4EjgPFA06Dd4Nkg6tD9YQxBICFJgSpRD9DsAMMwq6BTP/svk39qvzcfFy7y3tF+uB6nPpAOcp5UTiDt6I2gXWc9G2zprMessDyh7Iw8eNxhXGGMdMxSrHX88e16TiM/AK+UUGzxZnIZQrRzOVM3M0vTOgLCUmrCC7GToUZQ4CCCQFdgUZB9IHYQa7BQoGbAZBCPMHIwWeBIsDdAF0AtECEAP+BpsJ3woCDmYQ1RO7GJQaSBoCGTwX+BYYFrETTREFD3MO8A6fDugO3A9iEdcSvRGCDz4Nbwp+CP0E9P7y+Uv1UfGu72zt1eqm6SDovuaC5cfilN9n3H3YQ9T+z8bLEsktyJbG58TaxBTEOcQ3xszFosg00gDbWOVS8QP56QQXFRcfXCfeLZEurjCtMaIs0yeJI18eshkhE7MMLgn5BwAJKAgYBZwEwQQ/BZYH+QbLBDMFqwSfA44EqQRcBaUI1wr5CwAO5g/UEnEWyhcJGBIYthd+GCEYzRXSFMgTchKhEjMRlg+4EKQQoA82D7cMhwpbCd0FSgIq/8r6qffN9Onwyu7W7PTprugP5yDk4+GG3ujZu9bP0+fPrMxtyuzH88XQxTPFLcSaxd3FiMWmy0bUytw16fjytPoqCbsW2x+TKcItZy7yMSAxkyylKbIk1R8OHCsVRw9wDJ8KMQuOCkwHZAZoBnUGswhwCI4FVgXrBHoD2gS4Bd4FsgnkDEwNeA/7ES4URRghGpYY3BcFGDgYZhhpF98V4xSlFCEUlhJnEoETaBOkEh4QLQyRChUJqAUaAhr9Y/hB9kfz6e+07cHqm+hW53bkWuEi37bcddm61cPRe82fy6LL6MjBxqzG68Qkxt/IlccJy+nTR9ut5dvvVPaiAmsRQBvfIxEpBCs7LyExYC7TKrkmTCPrHzkaxxQjEYYPqA+qDWQKeglsCe8JrwoHCSsHLAe7BssFXAUiBRMGXAhCCl0LJw0xEIUTXhb2FyIYehiiGUYarRldGCAXRRakFaEU3BLyEb4SCxNAEgIR3g5iDZ4MjQkJBf4Am/zI+I/15fBj7GjpEebb4pHgud1r2xjaKdfG03LRpc4ZzdPMksqayMDH+sVjxurH1sfyyvnQl9e64c3rV/ScAHcNSRjFIvwoTyx7MHQxfi+tLJEnPyPGHxYaKhWzEfMOzA4kDugLwgsTDPALwAyqC08J2QjzB/UF7ASnA6wC8gOJBYwGuQjMCzYPFRMpFrkXtxgFGh8bxBpzGdgXqxVhFNoTEBIFEcER5RE5ErkSjxGbEPEPEw3GCPIDnP6q+ez08u/s6mLm5eKx37bcztpB2Z/XrtXh0ufPd81JzG7L+sjlxoXFpMOoxLPG5cYoy0/St9gF453ttfUxAiwPKBh5IRQoMCs9L30wxi23Ki4nzCP4H64aCBY3EoYQ7hDsDtAMVw3VDNgMdA2BCiUIfgj6BvoE9wPxAWMBgQO5BBEFQwdTCj0NIRHcE18UTBaLGG4YcRjtF/YV0hWaFU8TSRITEqgRdhJjEhoRExENEdcPyw1CChwGWALy/Yn4w/Jb7Z/oBORf39Xa9tbd1JDTfNFNz0HNpsvjy07M+Mp+ySXIxcbNxuTGzsbDya7PMtce4Pbo0fKC/8cMrBgAIlco9i0eMsUyQzGTLdgoPSW/H1MY6hLiDqUMxQyECw0KWwsMDXQOmg+GDt0MBgwjCjQHMARtAej/fP8x/1X/7QCEBGQJ/A2oEfUUQRhLGzsdKR3XG50a6xhPFn0T3BCVD9APiw/JDtAOoA8nEe4RlBBWDpMLzgcOA6z8q/WS70npgOIS3EfWRdJA0I7Oj8w2ywHLW8ttzLnNXM27zMfM+8o4yQDJCcjuyeLPKNUk3AXmg+/o+18KaBVUH58ohi7PMsY0IzNrMPQs8ic8Ia8ZDhQLEOUMlgvfCbcIHws1DekNxg8XEDYPbg95DZoJJwf2BHwC3AB5/2T+Rf+WAh4G7gjODLEQ6BN7GJQbhxtpHNocyxqIGZoXBxQaE80SbBA7D+IOeQ7RD4QQDw+eDdMLIQmTBTQAMPoz9HDt0eYP4CLZVdS/0NfMPcqHyBjHwsd+ySPKzsrnyyzMY8z3zDfMtcuPzijTWdg+3/rlau2v+HcEXQ4cGCkgiCa0LM0v5C+vLzcuTCvVJiIgHxoRFpcS+A8HDRAKEQpTC90LEQ2CDR0NEA7iDXULtgk9CFkGdgVBBEICRAJGBCwGBAj/CdMLtg60ElUVQRZYF1gYtRgIGWAY3RaJFoQWRRXqE9wSBRLnEVMRYQ/yDF4KjQcZBI//e/rj9Kbusei24nrcWNfP0jDO88q/yLTGR8Ylx6LHfMi7ySHKrsreyzXM68wg0MbUPtr94LLn9e7Z+IgD8wzeFbsdDyTMKcEtAC8fL2wu9yvYJ4Qi0hziFwMUnRAXDVEKdAnGCZsK2wt+DNYM/g2GDoUNTAzTCvQIugdaBikEGgOzA2UEVgXzBq0Igwu1D9MSnBTTFtAYGhpQGzkbCBrHGXAZtRfvFVsUyhL+Ec0QMA6KC0sJogZVAwT/uvlS9M/uxehL4r/b79UO0XLMa8iPxcLDgsN3xBzF+8Xvx7zJO8vNzKjNYM/K0wjZHd7+4zzqnvE2+5oEgwx7FDQc1iJ1KN8r/SymLZwtYStBJ0MiVh0/GYIVQREvDc8KYwq1CuMKEguSC50M4w0DDrAMfwukCjUJoQftBQQEkgNVBFgEvgSgBgEJZQw7EFsSLxQeF18ZzhrTG20b1hoBGycaPxilFiUVuhNlEjEQYA0bCxUJNAZGArP9xfjL84zuTOiI4W/b8tXU0EXMPchOxfbDesNqw/3DLcXwxs/IGsosy/vMLtDX1D7as9+K5ZPs/fQT/gkHTw/WFjEewyRAKRsspS11LUwsrCnRJPof3RsnF9ES7w4IC2EJrwmbCQwKKgvuC2INzA6TDuQNMQ26C/EJ6QelBd8DywIsAsEBCALgA6EGrwklDRUQ4RKxFvIZ3Bt5HSYeFB5dHqEdhxu9GewXdRUIEz4Q5wwbCnwHuQNN/wX7W/Zj8WTsWObd36jav9Ws0KrM98iyxWXEjsN8wuvC58OyxFzGoMegyPLL09AW1lXccuLB6EHxgvoTA40LHBPPGYEgkCWGKL4qpCv+KkMpwCWFIR4ejRqVFtISHw/CDDcM0wumCwkMKgyyDGMN5QxEDLsLJQpmCJEGGwSwAkACdQFTAfYB6wJ4BfQI4AsDD1gSRhVjGAcbbxxyHSoeEx5NHeEbAxogGDUW5BMAEQYOUAtuCFAF6wHV/XP57PSt7yfqv+Qw3+bZANVM0FjMPsnTxjLF+sNGw1zDwsOHxJvFt8YYyUXNUtJV2PTevOX77XD3gQBqCd8RNRkNIJwl9ygmKyksdiuAKRUmtSG2HdcZ2xU3EuMOoQzyC+QLUAwvDdANlw6ED6EPQA+TDggNHQv4CCIGhAPYAa4AAQDT/xYAiAFrBN8HLgtuDv0RuBUaGbsbWh1sHm4fhx87HnocihplGE8WcBOfD0MMRAnbBV8CfP7v+Y/1B/Gy617mWOFN3IvXBdOYzvvKcMhkxqbEbsPfwgvDt8N0xJbFJ8h+zPnR09fc3dHkU+2s9rn//wenD0AXZx7LI2cn6Ck+K2gr+imRJr8ioh8/HEgYJhQvEMUNOA3fDFgMXgzIDJYNlw6+Dh0OqQ0UDaULfQnpBnYE9wIcAs8Adv9H/3kAxQKbBfwHWwoADkAS2RXgGEkbIB3vHrsfpx4rHfgbJhqhFykUqQ/QC+MIQAX+ALf8Nvgz9Hvw1esI5/Di0N622r/Wg9L3zobM+MlXx1vF4cNHw2rDQMOkwxnGTsq2z+nVRNyl4+bsrPa//zAIExCZF44ezSP6JvEoJCoRKkkoUCX9Ib0etRtTGEcUDhF2D3gO7A27DTsNag2QDugOhA4sDi0NAQwRCxsJlwbgBHUDGgIiAScAuf/JALYCjQRlBrgIwgtOD8kSlRXYFz8aXhw6HQwdTRwUG6IZghceFD8QnAzbCL0EVwC6+yP3zvJz7srpYeWh4eXdJNq71jnTGdDezWXL5MhjxwDG0cR9xBLEpsTUxyjMLNFi19bdheU776r4SgHkCbARFRkNINIk5idRKkMrtyrkKM4lxCIKIKgcrRitFKQRNxBVD1QOew3eDC0NIA40DroNRA1LDE8LGQrQB7oFawThAlsB6f96/oH+BACXASYD7QQ1B58Kdg6xEX8USRcYGlIcPR0hHZEcxRt9GtEX9BMrEIoMtgiLBIX/Ufrp9Z3xHO3H6IbkteBi3efZf9aR0yXRHc/OzGzKpcgax/zFWcWOxDvFeMitzO7Rb9gG3ybnO/GK+kgDYQxeFKwbeyLVJn4p6ivPLMQrvyndJoEjbSAhHecYARXNEjMRpA/qDhEOLg3QDTAOMg3kDIAM8Qr6Cb0IMwaaBKcDvAExAFf/Vf5n/sv//wA3AnUEJwfdCTMNiRAKE+QV4xhGGgEbxRsvGyoaJBlEFrYSzw/bC1UHQgNN/i757PQh8DnrTudm43Pf7ttK2PfUetIi0LPNe8upyVzIPMcixo/FG8ZuyGDM59AN1nrcDeSx7Pb1uf4oB9kPxhdAHpAjbichKiUsYiyXKlsoDyZHIy0gTBwBGBwVmBMkEr4Qjw+gDngOlA4ADiMNfQymCz8KSQgbBjkEzAJeAXT/iP2T/KH8Q/1C/kb/mQAEAzMGcwnJDBUQORNWFgEZvxrQG4EckRycG5gZxBZ1EwUQMwxmByACHv01+IbzDe9V6gvmjuIA34rbkdij1S/TIdF+zv/LRcqFyA3HEMZAxQ3GC8nqzJvRTNes3Yfly+4U+CgBKgqeEisafiBwJRwpmSvsLHQsSyoFKKslhCI4H2UbGxeIFDkTehFFEGwPCg6eDeUNOA2YDEsM9wpACdMH5AXWA1kCjQBF/sf8LvzV+138kP1h/t7/twK6BSUJNg2PEIMTwRY+Gf8agBwOHYUcKRvVGLEVFRI5DsoJiwRC/yX6/PRu8CHsheeP4xjglNzX2X7XCtX/0r7QWc67zDHLqcmEyFXHhMfkyQnNE9EZ1nHbf+I668/zk/yHBckNuBW9HAkiTiarKb0rNizwKv8o3yY4JEohcB0DGSIWThR1EjIRoA/lDaoNpA3xDIwMuQuECrIJLggtBpgE1wIbAWv/Xv0X/M37zPtS/OL8hf2A/2MChgUYCWQMdA/cEu0VaRiBGsYbOxzCGwoaixeFFOoQwQzABzAC0/zF9/zyQe5z6QPlG+HO3SXbjtgq1iLUv9GVzyTOeczzys3JYMg/yE/KFc2e0CPVFdqw4CDpm/H1+X8C3QoIE2YaNyCzJE0oDCsyLIErESo1KMwlCyM7H+Aa3xfNFb0T5RHWDxsOtQ2ADcgMBgwnC3gKzQlnCLUGEgWCAyUCOwAP/tz8Nfzz+z/8Mfy1/OD+YwEnBIQHdgqyDaARpBQNF3sZ4RqFG5Ab+hmEFwQVhxEODS8IsAI2/W34cfMD7iHpw+TN4M7dIdtF2BvWN9Tj0R3Qxs4gzdjLp8pdycvJCczEzknSk9an28riRutY80n7bwN7C3oTjhrYHw0kpycAKrUqFCqyKAYnBSUcIjwesBphGKYW1hTcEuIQrA9lD/UO8Q31DDIMTgsACj8INAZtBCADRgGs/rH8ffvB+vP6EfvF+u77PP6HAKoD/AaoCRoNzxByE/8VTRhVGdkZwRk+GCAWtxM4EOULPwciAgv9afie85fu++my5e/hCt9A3JLZYNfo1JzSCdEiz3bNaMzQyjvKtcuMzWvQqNS42F/eSObX7XP1uv1FBQgNDBUoG9wfOSR+J34pQCqaKR8ofiahJLMhHR5rG2AZaxfUFcITkRHbEHwQWw9BDukMaQtTCqoIQwYFBBACWQBW/ur7OPpM+QL5gfmW+cr5zPt4/jwBsQSRB1AKSQ7VEV4U0RZGGNcYXRnBGO8W1BToERMO5Qk0BVMA2PtN94Ly7u2c6bLli+Kg36bcFtqB18PUwNL40OzOVM2iyx7KpcqUzObOS9Iy1uHazOGf6STxEPkFAegI2RCRF+8cuSG2JZIotSkvKVcoWSe9JVcjxh9THFwayhjsFtkUhRIgEbwQ7Q/CDnwNOwxeC94JiQeABZ4DAwKBAOP9cPtx+tf5x/n0+Xr5I/p4/Pf+7AEHBaMH8AqRDm8RAxT7FRYXzReQF00WgBTnEbsODwuWBvQBaP26+FT0DPCs67vnPuQZ4XbeDtyE2ejWmNS20vjQXM+2zR/M7MtezYvPpNJw1rHasuAN6FnvGfcO/4gGKQ4gFYkaWx9qIxImpyfwJzknYyYRJeMiHiAsHdwaLBl2F6MVvRMwEl8RpBCsD6gObA0kDLYKvgi3BtQE3QLhAIf+H/yY+rv5Tvkz+er4QPnv+kz9KAAoA88F6wh1DJ4PehKcFOkVBBdDF1EWzRRtEnAPQAwWCD0DpP4H+nn1O/HU7IjoA+UT4lTf8NzO2mTYJNaR1OjSUdEx0JjOns3VzuXQftMW143aL99N5qvtsPQT/AMDRQoBEhEYkRyQIL0jNiaDJyEnKyYgJbEjjyFUHjIbSRm4FwUWABR9EQUQ4A9KDw8OpgwHC+4JJQl4Bz0FXgPFAQIAFv5A/M76UvqM+jT6vfmm+oP8//4UAloEUga2CTwN3w9iEu4TjBSLFY4VvxPBEWwPGwyjCHMEQv+9+uP2lPJG7hvq9OXM4nng9N1e2+rYoNb81L/TV9LS0HXPH89t0KvSZNWM2BrcIeHJ53Xu8/TD+4wCvAnLEAAWDBoZHmwhwCPoJIskAiT9Ixwj1SDqHWAb8hkAGU4XtxRTEjIRqxCAD74N0QtSCqsJlAhyBocECAOzAYwAwP7X/DL8NPwx/BL8o/sV/A3+YACrAskEoAZACWgM6g76EHUSKBO7E5sTKhIyEMkNugpQB0QDr/5l+oj2p/KP7l3qhOZt4wDhqN7y20PZMde01XbUBtNL0QvQMdC70fbTjNaj2ZvdCeOR6QPwY/Yv/SQELgufEXcWdxpJHjwhFiO6I1wjICPjIpMhOh92HFoaXxkwGCAW1xPmEQQRmhAfDyYNwQuzCucJrwh3BogEcgMlAmAAdv7W/ED8WvwN/Gf7aPuY/KT+7gANAxsFsgfKCo4Nww+fEQAT2hP9EwwTSxEoD4MMMglLBQkBxPyu+Lr0wfDL7Bbp3uUh47Lgc94w3PPZPdj71prVNdTZ0sTRM9IL1B3Wsdj22+jfjOU37Fbygfge/8cFsQziEl8XGRuUHlMhCSN/IykjvSIpIuogjB7HG+kZphgsF1sVFRM0EZMQ+w+ODvgMlguNCsoJdAhkBosEUwP7ARUAP/7k/Df8Uvwi/GT7s/tC/TP/iwGyA3sFJQhRC7YNkA8BEcoRQhIsEuQQwQ5oDKsJOwZ0Anf+RPp89hrzae/H66LopeUh40vhO9/O3MTaCdl712PWEtVE05fSpdOL1TjYOdsy3s3iRem67/H1KfxGAikJGhBDFf0YSRxPH9Ah6iJzIoMh4yBWILEeuxsMGW8XdRZ+FYATHREmEAgQbg84DnMMAwuHCrAJwweLBc4DsAJzAY3/n/2B/JD86/xm/N37jfxM/s4AGQN1BFsGXAkvDG4O0Q8zEMMQbRHWECkP4gz1Cf4G4QPf/5/71vct9LjwXO2s6WfmF+Qd4kXgR97x2yTaEdkA2MDWMNUG1JXUi9YM2brbVd4C4ovnt+3V8775ZP/NBZMMChJHFrYZnRyIH2shiiEIIYEg7x/hHoUcqxm6F8IWDBZ6FBgSdhDiD6QP8g4bDT8LfgrNCYUIqAZdBOACEQKPAL/+Zv3H/AP9/vxF/DH8cf20/xcCoAMABU4HOwr5DKIOFQ94DxQQIRA1DycNWwqQB6EEGwFB/Xf52vVq8vnuW+sI6ITlbeNn4WHfJt042wba59iZ113WdtXk1d7XXdoD3eXfduN76F/uF/Sa+R7/AQUVCy4QBRQ6FzQa+xzLHkIfNR8xHxMfOR4nHPMZtBgEGDEXeRUmE8YROhFTENUOvgzxCjYKPQldB10FjQNyArEBGgB+/tD9sf3z/cr9JP2q/Vf/IAHZAhIEbgXyB4EKOAxbDfINbw7pDn4OCQ0XC9sINwYjA7v/K/zM+J/1LPKZ7mfrm+hD5jbk/OG338HdK9zi2prZJNjS1lHWKtcY2W3b9N3/4BDlUeoP8Hv1vvpZACkGrwtOEMkTyha1GfQbGh16HZgdnh1BHQocCBp2GN4XIxfoFU8UchKPEUUR7Q8xDp8MEQs5Ch4JBAdQBREE1QK7AUEA9v6Z/nv+O/7V/bn9vv5bANMBKgNxBEgGzQjiCjkMSA0SDqwO5g4WDmYMkAptCLYFrgJR/877ofh29fbxi+6H69/omeab5GjiF+Ba3u3cktuQ2jzZ19fC18XYetrp3Eff+eEh5kjrkvCx9ZT6mf8bBYwK0w4XEi4V+xdaGvwbZxyNHPUc0xzsG1kaxhgUGIoXXRaKFHoSYRH5ENoPJA4yDIYK2QkICT4HfQUkBC4DjwJ4AQ8Aav9m/1H/Gf/t/lX/wgB1AqYDpwQGBvAHAQp/Cz8MogwODUgNkwwSCx8JyAaHBPwBqv5i+zT45fTl8cHueevL6HbmVORO4hXgE96G3GTbidpm2WfYc9iR2bjbWN7A4Kvj8ecf7WDyUffr+6oAHwZPCwAP/hHsFHsXzxkhGwsbKBvJG6YblRoCGYQX7ha4FmkVJhN3EcYQThBMD14NSQs6Cs8JrgizBv4EAwRYA58COwGz/4v/9f+c/yb/+P6c/4gBRQMRBPkEoAbVCLwK1AtVDJ0MNQ1RDe4LHQo2CNsFmwPCAAn90fnv9svzxfCq7ZzqTeiA5pnkoeLQ4C3fA95J3U3cLduL2q7a8tvw3erfHOIZ5TzpHu7W8kT3w/vHAEIG7wp1DpYRkRSCF78ZhhqxGh4bnRt6GzkaihhSF8gWOhaPFHMSJRFgEMwPrw6iDBILUwp7CVEIsAYrBVIEhwN6Aj4BWwBJACoAt/9p/3n/hgAaAikDKwR1BRoHFgl9CkgL+QtoDJ4MPAzyClgJjwdfBcwC4v/N/L751PbR85zwxu0969Ho4Obt5N3iP+HW36nex93M3PfbpttL3Ojdrd+34ULkV+ef60zwYfST+BP9xQGdBqoKxw2pEJQTKxa6F4cYJRmaGRAa0BmBGG4X1RYdFiIVhRPJEcUQFBASD3wNzgukCrIJtQhwB+0F5gQhBBsDHwJOAfYAAAG6AFsAWgD0AEECdQNKBFsFwwZtCPIJ2QpYC7cL/gvLC8IKUQmTB3YFQgOUAHv9pvre9/j0J/JZ77vsiequ6NHmxuT44nXhIOAy3x3ewtwj3HnciN083wHh7+La5eHpTu598pH24PqO/3UEowi5C7IOxRFiFEMWMReiF2MYGxnrGNAXqhYXFsUVDhWRE80R2BCQENQPaQ7IDIcL5wo3CtEIIwfvBT8FZgQdA98BLQE2AWoB/wCAAOUADwJ9A6MEVgVVBgUIxAniClYLlAvJC8kLNgu2Cc4HCAbvA24BrP6b+834WPao8+XwWO4c7E7qrOjq5gXlXeMu4hDh+t/y3t3dod1t3oPfB+Hb4vrkJegP7PPvwfOr9+n7SgB+BBsI7grkDewQBROcFMcVdhaBFzMYthfuFmkWDhaMFY8UIRO2ESYRwhBWD9wNsAxzC9UK8AknCPcGVgZuBVAEHAMyAuIBFwLzAR8BJAEUAuAC8gOtBAMFeAYsCBAJqwn7CTwKcQoaChEJdQcaBrkEZALp/1L9hfpZ+O71/PKB8EPuVOyQ6oPoqObt5HjjZuL64NDfFt9r3qfeg9+t4JXiq+RB55nqMO428hf2zfkI/gUCwgU0CcsLYw7dEKsSLxQWFdsVshbEFoUW+RU8FQ0VcxRME08SQRGXEPMPtA6BDVUMcQu6CmIJPAhVBzQGbwVPBBcD0wKjAmECIgLAARsC8wLNA6QEMAU9Bp4HgghjCdAJ7glQCuUJ5gjLBzIGqQS+AigAsv0R+5H4S/an80zxJu8C7V7ruOkz6NbmIeXO47ziuuEp4Uvgw99r4HnhCOPM5JLmfek57Qbxp/T49+P7SwBLBKsHFAqEDIQPxhEyE/MTXRRmFR0WyxUUFUcUDxTtE+gSrRGsEC4QBxAND6cNmQzaC2gLawr0COsHGQdtBoEFJQR3A1IDIQPxAn4ChQJSAwoEpQQkBd4FNwdPCOoISQlvCcIJswnNCJYHLwbVBD0D3gBT/sv7avlj9+z0SvIf8A3uTey06svoDeee5W/kceN24q7hDeHt4KnhnuL149Pl1OeP6t7tBfFP9L73T/si/6wCvgVrCOcKXw1TD8IQ8BHOEqgTNBQfFN8TjBM9E+YSIRJXEasQ7Q9MD2kOVA2MDL4L1gr1CQcJNghxB6EGzwUYBdMEnQQ8BBkEBQQiBKEE7gRBBQIG2QaqB0YImgjuCEAJYAn0CP8H9ga5BS8EZwIoANP9rft2+T33AfXX8t3w4u4Q7V/rrek+6MjmQOUo5EHjZuLh4bbhHOI447TkO+YK6KTqvu3w8DD0KfdK+hX+nQF/BBsHYAmZC84NTw8nEPcQ2hFsEokSVRL7EfIREBKJEasQEhCnD3APBA8EDggNZQzRCw8LDgoQCUwIqAfuBgsGZQUuBRAF3gShBJgECgWuBTAGlAYMB8sHiwj0CBgJBgnfCI8ItQd4BjMF1QNEAl0AD/6++8L53vfQ9bDzkvGa7wfuh+zM6i3pu+dk5nPlruTD4x7j/OI34wDkPOWE5jDoleo87fLvxPKI9Yr4AfxP/xECngQfB3gJkwsyDT8OSg+CEFIRkhGREYoRqRG9EWkRuxA8ECcQ5w8wD2MOnQ0LDbcM8AvOChEKlQnqCBoIQweOBlEGTQbCBRQFDgVFBYgF6wX5BTsGLgfnBxAIGAgTCA8I9AdhBzUGAAULBKgCugC1/pD8qvoP+QP3vvTB8gDxbO/H7QnsbOoB6ezn2+ak5cjkMeTJ4/DjeuRa5b3mbuhO6orsRe8m8uX0xvem+n/9kwBHA2kFiweGCTsLzAzzDcIOjA8/EJUQmRCfEJkQfxBjEO4PXw8fD9EOag7vDT4NsAw6DKcLEgteCrMJIglrCMMHRQfbBpYGTQYEBvUFKgaPBuQGMQeeBwYIeAjICLMIiQhHCLAH5wbXBYMEIgOSAbT/nv2G+4P5lvfH9drz4fEz8J/uNO3865LqRelU6Hnn1+Y+5pHlX+W75X3me+eI6ATqGeyY7jTxefPO9bH4xPvG/koBPANUBYoHZwnTCsELsQzNDY0O3w7fDtwOMA9OD+wOhw5YDmYOcQ4IDloN8wziDKAMAgxhC9wKgworClkJgwhNCEEI8gdmB8gGnQYJB1wHNAcaB38HFgiICI4IHwjgB+gHdgeBBmwFUARIA/8BFAD2/SL8jvrh+N32vvTV8i/xr+8V7mLsBOvx6enoDuhY57nmbuZj5onmIecX6Dzpk+o27Drub/Cz8v/0Q/fN+YT80/7kAOMCtgSmBl4IggmNCogLVwwODWQNhg3GDf0NIQ4eDvMN4g3jDdcNrw1qDS0N6gyaDEsM0QtRC+AKRwrDCXUJFQm5CGMI8wegB44HhAduB3sHnAe5B/oHLAgYCAEIzQdDB5IGrwWGBDsDyAEeADz+V/yS+sH4Bvdg9Yjz0vFx8AvvvO2W7FPrOOp86czoEeiL50nnUefR55joXOlw6hLs4O3F79fx0PPx9Zb4Ffst/U//PAH/AukEaQZ3B6MIuwmVCkILpwvwC1AMwQwDDfQMDA1CDVANdA1lDRsNLQ08DQMN2QyRDDYM6AtfC7kKMArgCawJOwm/CG0INAhPCGsIPghACGsIewiFCF0I/wenB0kHpga5BcQEqwNFAr8A7/76/Fv7yfkc+In26/Rc8/vxmvA67+ztzOzL683qD+pt6dbooOiS6LHoWOkd6vzqNeyC7QXvyPB+8l70cfaY+NP61/y2/poAVAL6A3MFlwbCB9oInwlACrAKDAuZCw0MUAyJDK8M6gwoDTENLw0nDR8NMQ0aDeQMuwxqDAkMqws1C+4KyQp9CiIKtAlICRoJ+AjRCLoIogiqCMIIrgh7CCEImwcFB08GegWNBHMDIgKbAPv+Yv3K+zD6i/jZ9kX11vN78jHx++/i7uHt/+wx7GLrvOo26rDpcOmC6dbpk+py61Hsfe3w7qTwi/Jm9E32T/hX+mH8Iv6z/1ABwQIfBG8FcAZ3B3wIGgmTCfcJVArwCnYLtgvmCxEMaQzJDOQM8gz7DA4NTQ1LDQoN5QynDGQMJwyyC1kLNgv1Cp4KLArGCbcJxwnICbkJmAmoCcwJrglgCecIVwjTBxQHBgbYBIwDJwKbANr+F/1u+9f5O/iE9uD0e/NN8jvxL/A873Duxu0q7Xbsyutb6wzr8OoT61Pr3+uq7Hztfe627yPxyPJu9B/25Pev+Zv7WP3Y/nIA4wEzA4sEfgVOBjYH0AdOCNAIOQm/CTwKiQrBCvMKXwvQCwMMRAxsDIgM7QwPDeoM/wzyDM8MyQx9DCEM9wuvCzsLtwpQCh8KCgr+Cb4JVgk5CSUJ0AiACAEIUQfSBh8G+ATYA7MCVgHx/2D+kvz1+pL5Bvha9sn0UfMS8hfxFPAA7zLuoe0J7YrsNOze68Xr7evn6/zrhewg7djt1+6/79bwY/Li80f10vZW+OX5j/sZ/Yj+//96AcACswOfBHgFJwbxBn0HyAdqCAAJUwnICRUKXAoBC38LxwsiDHMMzAwaDTsNUA1XDXANbw0SDcUMgQwPDLsLQAunCn4KbQo2CgIKqQlfCUcJEQmrCCEIlQcRB1oGfQV1BEADGgK/ABL/cf3T+zz6xfgt95v1XfRe84DyofGy8NXvKO+v7kDu1+2M7VLtN+1C7Vrtn+0Z7qfuTe8L8Ovw+PEj82H0l/XX9kD4qPkd+5H8zP0E/z8ATQFdAlMDDwTQBIAFEgawBkkH5QeNCB4JnQkLCnoK/QptC8cLGwxSDIwM0gzqDPIMBw0DDfcM6AyvDHcMVwweDNELgwsqC+MKrgpmCgYKmQkhCZUI8gc/B3UGkQWWBGoDHgLXAIz/M/7X/Hr7Jfro+LX3dfZG9UP0TfNo8pbxw/Am8LnvP+/S7nLuLu4w7j7uTu6F7s/uV+8J8KnwfPF68ovzyPTs9QP3SviN+cf66PvY/N398v73//EAuQF0AkED6QOHBC8F0gWVBlcH7weBCCIJzglwCvsKdAvlC24M7ww1DWgNlg20DdgN4A28DZQNbw01DeEMjwxJDAgM3wukC0ML+gqvCkIKzgkxCW4IpwfHBsIFoARvAysCxABm/wz+oPxe+xP6ofhq90f2L/Ve9JDzyPI18qPxGPGl8D3w9O+x73zvZe9Q723vre/W7yvwpvAg8d7xvPKJ84L0jfWF9qD3zvjl+QL7E/wD/f/9BP/z/80AkgFIAv0CsANmBBEFvAWCBjYH3gebCEEJ5QmhCjELtgtPDL0MFg1pDZYNwQ3xDf0N6w3ODaUNcQ01De4MoAxiDC0M6wunC2oLKwvaCmUKyQkRCVgIkQeSBnIFQgT/AskBgQAO/6/9Zfwl+//51fiy97n23vUZ9Wj0zPNL89jyb/IH8qLxVvEJ8bDwX/AW8PDv7e/07xrwXvDW8IjxSfIr8yX0HfU49kv3Tfht+XT6avtj/Cz9BP7t/rL/eQAjAbEBYQIJA7MDagQGBbYFeQY4BxQI5wirCXMKGwu+C1oM0gxCDZQNwg3nDeUNyw2rDXINPg0FDcIMjQxTDCAM9wu+C48LWAv/Cp8KHQp1CcwIAAgSByEGEQXqA7wCcQEaANP+jf1G/BD75PnK+NL35fYH9k/1t/RB9NXzXfPz8pLyP/IC8rHxZ/FE8R3xDfES8QbxKvF78cjxPvLN8mTzKfT59MD1oPaM93/4fflu+mL7XfxK/Sv+7f6V/08A/ACVATwCzgJgAxIEoQQoBdsFiAZMByIIxAhvCSwK0Qp5C/4LWwy8DAANMg1TDUcNQg0uDeoMswxvDCoMFAzkC54LaQshC98KpgpNCuYJbQnZCCQITQdrBnMFZQRTAyEC8QDf/7b+hv1c/C37KvpM+XH4pPfj9jv2sPUv9cP0ZfQa9OrzqPNU8wTzr/Jm8izy9/HQ8cfx1vHp8RTyafLZ8n3zQ/T+9NP1uvaN93H4S/kQ+un6svtm/Bv9vP1d/vb+c//6/4cAJQHeAX4CFwPKA3wERAUUBssGjgdeCBsJyQlVCsUKMguXC+kLIAw3DDoMIQzwC7sLhQtYCzoLEQvgCr4KpAqICmsKNArmCZYJLgmjCAUISwd5BpwFpgSfA50CnAGQAHv/Yf5a/Xf8qfvi+iH6bvnY+FX4zPdF98b2T/b59ab1R/UE9b/0dfRA9PTzqvOK82fzUvNc82PzjPPX8yT0kfQX9a/1X/YJ97H3Y/gS+cv5gvou++v7rPxf/QX+kf4Q/5H/DgCBAPEAcQH7AY4CLAPFA2kELAXtBaYGWQf3B5EIJgmiCQgKXwqsCucKEAsqCysLIQsSC+kKvgqXCmYKQAoaCuoJxwmhCXUJRwkICcQIbgj1B2kHvwYDBk4FfwScA7cCvwHQAPH/C/8z/mj9ofzq+0D7qfop+rv5YvkN+bj4bPgT+Lb3Y/cF9672aPYU9sr1kPVT9S31IPUa9TH1V/V/9cH1FfZ79v32g/cN+Kf4Qfno+Zb6L/vI+1384/x2/Qb+hP4J/4D/6P9hAOAAXgHnAWIC0wJQA9ADUgTcBGAF4QVmBuMGVwfIBzAIkwjtCDYJbwmbCboJzQnWCdcJ0gnCCaIJdAk9CQYJzQiPCEYI8QeXBzkH0gZnBvEFdAX4BHYE8gNzA+gCUAKsAfIAPACS/+T+Nf56/bL8+PtP+7f6OfrL+Wz5Jfnp+Lj4k/h1+Fv4Sfg4+Cf4F/j+99n3sveO93D3XvdS90v3Vvdy96D34/c0+Jb4EPmW+Sb6wPpY++77f/z7/G393P1E/qn+Av9G/4T/yf8QAGMAvAAYAYMBAAKDAg8DmwMgBKgELwWwBTIGrQYZB3oHyQcDCC4IPwg0CBsI8ge/B4kHRgf6BrUGcwY2Bv8FxAWNBWIFOgUUBfEExwSZBGUEHgTJA28DDgOqAj4CuwEuAZ4ADACC//v+c/74/Yz9K/3V/IP8MPzp+7L7iPtw+1r7OfsS++b6tPqK+l/6LvoA+tT5p/mA+Vj5Mvkc+Rb5Ifk/+Wn5n/nl+TL6hPrf+kD7q/sg/JD89fxP/Z/97/1B/oz+0/4X/1f/nP/n/y0AdwDGABgBdgHaATkCmwIAA2IDwgMWBFcEkwTLBP0ELwVWBW4FggWRBZcFmAWOBXwFawVXBUMFMAUaBQAF6QTQBLcEoASABFgELgT6A78DfwM0A+YCmAJBAuUBhgEgAcIAbgAZAMn/d/8h/9D+g/4z/un9qP1w/UP9E/3X/Jr8ZPw0/BP8+PvX+7n7mvt2+1n7Q/sw+yn7Kvsv+zz7R/tR+2f7hvut+9/7FPxI/ID8s/zj/BH9O/1n/Z392v0Z/k3+df6d/sv++/4w/2z/qv/r/y4AbQCwAPsARQGQAdgBEgJGAnYCmwK6AtEC3ALpAvgCAwMMAxMDEQMLAwUDBgMPAxoDJQMtAzEDOAM+AzwDMwMhAwUD4gK0AnsCPwIGAswBkwFaASIB9QDTAKsAhQBmAEYAKwAVAPf/2P+8/5r/cv9E/wz/1f6h/mj+Lv71/b79kP1o/UX9K/0d/Rr9Hf0l/TP9R/1e/XT9hf2O/Zn9qP2x/bT9uP24/br9wv3E/cf91P3g/fT9Ff44/mL+l/7H/vr+Mv9i/5L/x//4/yYAVQB9AJoAswDJANwA7wACARMBIwEvATkBTAFjAXwBlQGqAcAB2QHvAQYCGgIpAjMCNQI0AjQCLgImAiMCGwINAgEC9gHtAeIB0AG8Aa0BngGJAXEBWAFAASYBBQHfAL8ApACEAGYASgAvABoACwD8/+z/3f/O/8D/rv+Y/3//Zf9N/zL/Ev/1/tv+xv6x/pf+g/57/nj+ff6E/o3+nv6y/sH+zf7c/uv++P4B/wP//v72/ur+3/7Z/tT+1P7f/uz+/P4U/yz/Sf9t/47/rv/R/+//CQAhADUARQBMAE0ATgBPAFAAUwBUAFUAVgBaAGUAdQCHAJsArQC9AMkA1QDgAOoA9AD3APQA8wDoANMAwwC3AKwAqACkAKIAqwC3AMEAzQDSAM8AywDCALIAnwCLAHQAXwBNADgAJgAeABQABgD///j/9P/2//j/+P/0/+3/5P/a/87/vv+t/5z/hP9l/0f/Kf8Q/wD/8v7q/uv+7v7y/v/+Ff8r/z7/UP9d/2T/bP9u/2n/ZP9e/1L/TP9C/zP/Kf8g/xv/H/8l/yz/P/9a/3P/iP+g/7f/z//r//v/BAASABkAGQAZABcAFgAZABoAHAAhACEAIQAkACgAKwAvADkASABZAGkAdQCBAJEAlwCTAI8AigCEAH8AfgCBAIIAgQCDAIUAiQCMAIoAiwCNAIkAhAB9AHUAcgBuAGoAaQBmAF8AWgBUAEkAPAAzACsAIgAeABwAFwAUABAACgAGAAAA9v/u/+b/3//a/9b/0//S/9D/zv/O/9D/zv/M/8v/xf+8/7f/s/+y/7L/sv+z/7X/tP+0/7P/sv+4/73/wP/F/8n/z//Z/+L/6f/w//X/+f/4//T/8v/y//P/8//1//z/AgANABsAJQAvADoAQgBHAEkASwBPAFIAUwBSAFEAVQBaAFoAWwBfAGEAZABpAG8AcwB2AHcAdQB0AHMAcgBwAGsAXgBXAFQATABGAEIAQgBLAFIAVwBjAHIAegB9AHwAeQBzAGgAWgBLADgAIAAJAPz/7//g/9j/1f/U/9X/1//g/+///f8IABIAHQAlACIAGgASAAMA8v/g/8z/uv+q/5n/jv+K/4z/kv+a/6b/t//K/9n/5//1/wAAAgADAAQAAAD9//T/5P/Y/9H/yf/C/8D/wf/F/8v/1P/g/+z/9v8CABAAGgAeACAAIgAgAB4AGQASAA8ADgALAAsADQAPABIAGQAhACQAJgAsADIANQA0AC8AKQAgABYAEQALAAQA///6//n/+//+/wAABgALAA4ADAAMAA4ADQANAA4ACAAAAPv/9P/s/+T/2P/M/8P/uv+x/6z/qv+s/7P/uf+9/8X/zv/T/9j/2v/X/9P/zP/F/7//tv+s/6P/mv+W/5L/jP+H/4X/iP+Q/5b/nP+k/7D/vv/G/8f/xf/C/77/uf+y/67/qv+l/6X/pv+o/6//tP+3/73/w//G/8r/zf/Q/9T/1v/Y/9z/4f/k/+f/6f/p/+n/6v/p/+f/5v/l/+T/5f/o/+v/7v/z//f/9P/1//j/9f/0//b/9f/1//j/+P/5//v/+//6//X/7//u/+r/4//d/9n/1f/U/9f/2v/f/+j/7//z//f/+f/1//P/9P/w/+j/4v/f/9r/1//X/9X/0P/M/8b/xP/E/8T/xP/E/8j/zv/T/9j/3P/e/+D/4f/f/93/2P/U/9H/zv/L/8j/x//I/8r/yv/J/8r/zf/T/9n/3P/g/+P/6P/t//D/8f/v/+7/7f/r/+z/8P/v/+7/8P/y//T/+P/7////BAAIAAsADQANAA8AFAATABEAEgAQAA4ADwAMAAwAEgASABAAFAAZABwAHgAgACMAJQAkACQAJgAnACUAJAAjACIAHwAbABYAEwAUABMAEQATABQAEwAVABgAGwAeAB8AHAAcAB0AGwAYABYAFgAUABAADAAKAAgABQAEAAUACQAMAA4ADwARABUAFgAWABUAFAARAA4ACwAIAAgABgABAAAAAQABAAIABAAIAA0ADwASABcAGgAbABwAGwAbAB0AGgAVABQAEAALAAsADQANAA4ADwAQABIAFgAaABsAHQAjACYAJAAnACgAIwAgAB4AGgAWABUAEgAPABAAEQARABMAGQAcAB4AJAAqACoAKQArACoAJwAkACIAGwASAAwACAACAAEABQAGAAcADAANAA0AFAAdACMAKgArACUAHwAdABgAEQAKAAUA///4//T/9P/1//f/+/8AAAMABwAMABAAFgAcAB4AHAAbABcAEwAQAAoAAwAAAPv/9v/z//D/8f/0//X/9//8/wAAAQAGAAgACgAMAAsACQAKAAoABwAFAAUABQAGAAQAAQAAAAEAAAAAAAIAAwACAAQACQAMAA0ADQANAA8ADAAKAA4ADwANAA0ADQANAA8AEQATABUAFAATABQAFQAWABUAFQAVABMAEgAUABMAEgATABUAFwAYABcAFQAUABYAFQATABIAEgAPAA0ADQANAA4ADgAMAA4AEQASABMAEwATABUAFQARABEAEAAJAAUABgAEAAIAAAD9//3/+//4//j/+P/5//z//P/9//7///8AAAAA/f/+//7//v8AAAAA/P/+/////f/9//n/9v/4//b/8f/y//X/9//3//T/9f/4//f/9v/4//r/+//7//v/+//5//f/+P/6//r/+v/5//f/9//4//f/9//5//n/9v/4//r/9f/z//X/8v/w//L/7//u//b/+f/2//f/9//2//j/+P/4//f/9v/0//D/7//t/+f/5v/l/+D/3//h/9//4//m/+b/6//w//L/9P/1//X/9f/z//H/7//p/+b/5P/e/9n/1v/T/9H/0P/P/9H/1f/W/9n/3v/h/+b/6v/p/+n/7P/s/+z/6v/k/9//4P/d/9n/1v/T/9D/0f/R/9L/2P/e/9//4f/n/+r/6//v//H/8f/v/+r/6f/n/+P/4//i/+D/4f/i/+P/5//n/+b/6f/q/+n/6v/q/+n/6//s/+r/6//s/+n/6f/s/+z/7f/v/+7/7v/s/+n/7P/t/+n/6v/u/+3/7f/t/+3/7//w//D/7//t/+z/7f/s/+z/6//p/+v/7//w//D/8P/v/+//7f/o/+b/5v/m/+f/5//l/+X/5v/l/+P/4v/g/+H/4v/h/+T/5f/k/+f/5//k/+b/5f/j/+X/5P/g/+H/4//g/+H/5f/k/+L/5f/m/+b/5//m/+X/5f/l/+f/6//r/+n/6P/m/+X/5f/m/+n/6//r/+3/7f/s/+3/7P/t//H/8f/y//T/9f/1//b/+P/5//n/+v/5//j/+f/5//r/+v/1//P/9P/z//X/+v/7//n//f8AAAAAAgAFAAYACAAMAAwACQAMAA0ACwALAAoABgAEAAQAAwADAAEA/v/9/wAA///+/wMABQAEAAkACwAKAA8AEwASABIAEwARAA8ADwAOAA0ADAAKAAoACAAEAAQABwAEAAMABgAFAAcADAAMAA4AEwARAA8AEgAOAAsADwAPAA0ADQANAA0ADQANAA8AEgAUABMAEgAUABQAEgATABUAEwATABQAEgAUABUAEwAVABcAFAATABIAEwAWABYAFwAcABsAFwAaABwAGwAdABwAGgAdAB0AGwAZABUAEwATABAAEAATABMAEwAWABkAHAAbABoAHAAZABUAFgAWABIADwAOAA8AEwATABAAEQASABEAEAAPAA8AEAAVABcAFQAUABIADwARABIADgAOAA0ACwALAAsACQAIAAgACQAKAAsACwAMAAsACgALAA4ADgAMAAoACwAJAAUAAgAAAAAAAQADAAIABAAGAAUABAAFAAcACQAIAAgACgAKAAsACwAJAAcABQADAAEAAAABAP///v8BAAIAAgAGAAcABgAIAAkACQALAAoABwAIAAgABAAEAAMA//8AAAMAAAD//wQABgAHAAkACQAKAAwADAAOAA0ACgAHAAMAAgACAP7/+v/7//3/+//9/wAAAAD/////AQAFAAcABwAHAAgABwAFAAIAAQAAAPz/+v/5//f/9//1//T/9//4//T/9f/3//X/+P/9//3/+//6//n/+f/6//z/+//4//r/+v/0//D/8v/z//P/8//y//L/8P/u/+//8P/x//H/8v/y//D/8P/x//H/8v/z//P/8//0//P/8f/w//H/8v/x//H/8P/u/+//7//t/+7/7f/t/+//8P/y//T/8//w/+7/7//v/+3/6//q/+r/6v/o/+j/6//q/+v/7v/v/+//8P/v/+//7//v/+7/7v/v/+7/6v/s/+z/6f/p/+n/6f/s/+r/5v/n/+j/5//p/+r/6f/r/+z/6v/o/+n/6//q/+n/6f/o/+n/6f/n/+j/6f/m/+n/7f/t/+3/7P/s/+z/7P/s/+3/6//s/+z/6v/r/+v/6f/r/+r/6v/r/+v/7P/s/+n/6v/t/+3/7P/t/+//7v/u/+//7//w//P/8v/x//L/8//y/+//8f/1//L/8P/1//X/9P/2//X/9f/1//X/9f/1//X/9f/0//X/9//1//X/9v/4//r/+//8//z/+v/8//3//P/+/////f/+//7/+f/3//f/9//3//f/9//3//j/+P/3//f/+P/5//v//P/7//v//P/8//v/+//9//7//v/+//3//P/8//r/+P/4//r/+v/5//v//f/8//r/+//9//7//v///wAAAQAAAAAA///9//7//f/7//3////+/////////wAAAAD///3//P/+/wAAAAD//////////wAAAgACAAAAAAACAAQAAQAAAAAA/////wAAAQD/////AAAAAAAAAgACAAAAAQACAAAAAAAAAAIAAgABAAIAAgABAAIAAwADAAQAAwADAAMAAQACAAQAAwADAAQABAACAAEABAAEAAIAAwADAAIAAwACAAAAAgAEAAMAAgADAAEAAAAEAAUAAwAGAAcABAAFAAYABQAGAAQAAwAEAAUABgAGAAUABgAEAAQABQADAAIABAAEAAUABwAGAAYABwAFAAYABwAFAAMAAwAGAAcABAAFAAgABwAHAAcABQADAAQABQADAAEAAQACAAAAAAABAAQAAwACAAUABwAEAAUACgAKAAoADAALAAkACgAIAAMABAAGAAUABAAFAAQABQAEAAAAAAABAAAAAgAFAAIAAwAEAAIAAgAFAAUABQAGAAUAAwACAAMAAwACAAEAAQACAAMAAAABAAIAAgADAAEAAAABAAAAAAACAAIAAAAAAAIAAQABAAIAAQABAAIAAAAAAAEAAAD//wAAAAD//wAA///9//3//P/7//v/+v/6//v//P/7//z//P/6//n/+v/5//r/+v/5//v/+//4//n/+P/1//X/9v/3//v/+//5//n/9//0//X/9v/2//b/9f/2//X/9P/3//T/8P/y//L/8v/1//X/9//5//f/9v/3//b/9//3//b/9f/0//X/9v/1//X/9f/z//T/9v/2//X/9//4//b/9v/4//f/+P/4//b/9f/2//X/9f/2//b/9v/1//b/9v/1//b/9v/0//T/9f/1//b/9v/2//b/9f/0//X/9f/2//b/9P/0//b/9f/0//f/+P/3//f/9v/2//j/+P/4//n/+f/6//v/+f/5//n/+P/7//z/+v/6//r/9//4//n/+f/4//n//P/7//r//P/7//n/+//7//v//P/9//3//P/7//v//f/+//3/+//7//r/+P/4//j/+v/8//n/+f/6//j/+P/6//r/+//6//n/+v/7//r/+v/6//n/+P/3//j/+P/2//f/9//4//r/+P/1//b/9//3//j/+v/6//j/+//8//r//P/9//n/+v/7//r/+//7//j/+P/5//n/+P/5//r/+f/5//r/+f/7//z/+v/6//v/+v/7//z/+//7//z///8AAP/////9//3//v/8//v/+v/5//r/+//8//3/+//8//7//v/+//3//P8AAAAA/v8AAP7//v8AAP7//v8AAAAA/f/+/wAAAQAAAAAAAQAAAAAAAgAAAAEAAwABAAAAAQD/////AAAAAAAAAAD//wAAAQAAAAAAAQABAAAAAAAAAAEAAQABAAEAAQABAAAAAAAAAAAAAQAAAP//AAAAAP//AAABAAAAAAAAAAAAAAAAAAAAAAD//////v///wAAAAABAAAA/v/+//7//P/9/wAA///+//////8AAAAAAAD/////AAAAAP//AAD///7///////7//P/7//3///8AAAAAAAAAAAAAAAD//////v////3/+//7//v/+//8//3//v/9//3//P/7//z//v/9//3//f/8//z//f/7//n/+f/7//z/+f/3//j/+P/3//j/+P/5//n/+v/6//v//P/7//v//P/8//v/+//6//r/+//6//r/+f/3//f/+P/2//b/9//5//n/+P/3//n/+f/6//v/+//6//r/+//7//v//P/7//r/+//7//v/+//8//v/+//7//r/+v/7//v/+v/7//z/+//7//z//f/9//7//f/8//z//f/9//3//P/7//z//f/8//z//f/9//z//f/9//z//f/9//z//P/9//3//f/9//7//f/8//3//f/8//3//P/9//3//P/9//3//P/8//3//f/9//7//f/9//3//P/9//3//P/9//3//P/7//z//P/7//v//f/9//z//f/9//r/+//9//z//P/+//7//f/9//z//P/8//z//P/8//3//f/8//3//P/7//z//f/8//z//f/8//z//f/9//3//P/8//3//f/9//7//f/9//z//P/7//v/+//9//z//P/9//3//f/9//z//P/7//v/+//6//v//f/8//z//f/9//3//P/8//3//f/9//3//f/9//v/+//9//z//P/9//3//P/9//z//P/8//z//f/9//z//f/9//3//f/8//z//f/9//3//f/8//v//P/9//z//P/8//z//f/9//3//f/7//v//f/9//z//f/8//z//f/9//z//f/9//3//f/9//3//P/8//3//P/8//3//P/9//3//f/9//3//f/9//3//f/9//z//f/9//z//P/9//3//P/8//z//f/+//3//P/9//z//P/9//3//f/9//3//f/9//z//f/9//3//f/8//z//f/9//3//f/7//z//P/8//3//f/8//3//f/9//3//f/9//3//f/9//z//P/9//z//f/9//z//f/9//z//f/9//z//f/9//z//P/9//3//f/8//z//f/9//3//P/7//z//f/8//z//f/9//3//f/9//z//P/9//3//f/9//3//f/9//3//P/7//3//v/8//z//f/8//3//v/8//z//f/9//3//f/9//3//f/8//3//f/9//3//P/8//3//f/9//z//P/9//3//P/9//3//f/9//3//f/9//v//P/9//3//f/9//3//f/9//3//f/9//3//f/9//3//P/8//3//f/9//3//f/8//v//P/9//3//f/9//3//f/9//3//f/9//3//f/9//z//f/9//z//f/9//3//f/9//3//f/9//3//f/9//3//f/9//3//f/9//z/+//9//3//P/9//3//P/9//3//f/9//z/+//8//3//f/9//3//f/9//3//f/9//3//P/7//3//f/8//3//f/8//3//f/9//3//P/9//3//P/8//z//P/9//3//f/9//3//f/9//3//f/9//3//f/9//3//f/8//z//P/8//3//f/9//3//f/9//3//f/+//3//P/9//z/+//9//3//f/9//z//P/9//3//f/9//3//f/9//3//f/9//3//f/9//3//f/9//3//P/8//z//f/9//3//f/9//3//f/9//3//f/9//3//f/8//v//P/9//3//f/9//3/+//7//3//f/9//3//f/9//3//f/9//7//P/7//z//f/9//3//f/9//3//f/8//z//f/9//3//f/9//3//f/9//3//f/9//z//P/9//3//f/9//3//f/9//z//P/7//z//f/9//3//f/+//7//f/9//3/+//8//3//f/8//3//f/9//v/+//8//z//P/9//3//P/9//3//P/8//3//P/9//3//f/9//3//f/9//3//P/7//v//P/9//3//f/9//3//f/9//z//P/9//3//f/9//3//f/9//3//f/8//3//f/9//3//f/9//3//f/7//z//f/9//3//f/9//3//f/9//3//f/9//3//f/9//v//P/9//3//f/9//3//f/9//3//f/9//3//f/9//3//f/9//z//f/9//v//f/9//3//f/9//v//P/9//3//f/9//3//f/8//3//f/9//3//P/8//3//f/9//3//f/9//z/+//8//7//v/+//z/+//9//3//P/9//3//f/9//3//f/9//3//f/9//3//f/9//3//f/9//3//f/9//3//f/9//3//f/9//7//f/9//3//f/9//7//f/8//v/+//8//3//f/9//3//f/7//v//f/9//3//f/9//3//f/9//3//f/9//3//P/8//3//f/9//3//f/9//3//f/9//3//f/8//z//f/9//z//f/9//z//P/9//3//f/9//3//f/9//z//P/8//3//f/9//3//P/7//z//f/9//3//f/8//3//f/9//3//f/9//3//f/9//3//P/9//z/+//8//3//f/9//3//f/+//3//f/9//3//f/8//z//f/9//3//f/9//3//f/9//3//f/9//3//P/9//3//P/7//v/+//9//3//f/9//3//f/9//3//P/7//v//P/7//v//P/9//3//f/9//3//P/9//3//f/9//z//f/9//3//f/9//z//f/9//3//P/8//3//f/8//3//f/8//3//f/8//3//f/8//v/+//9//7//f/8//3//f/9//3//P/7//3//f/8//3//P/7//3//f/9//3//f/9//3//f/9//3//f/9//3//f/+//v/+//8//3//P/9//3//f/9//3//f/9//3//f/9//3//f/9//3//f/9//3//f/9//3//f/8//v//f/9//z//f/9//3//f/9//3//f/8//z/+//8//3//f/9//3/+//8//3//P/9//3//f/9//3//f/8//3//f/9//z//f/9//3//f/9//3//f/9//3//f/9//3//v/9//3//P/9//3//P/8//7//f/9//z/+//8//3//f/9//3//f/9//3//f/9//z/+//7//z//f/9//3//f/9//3//f/9//3//f/8//3//f/7//v/+//7//z//f/9//3//f/8//z//f/9//z/+//8//3//f/9//3//f/8//z//f/9//3//f/8//3//P/7//3//f/8//3//f/8//v/+//8//3/+//7//3//P/7//z//f/9//3//P/8//3//f/9//3//f/8//3//f/7//v//P/9//3//f/9//3//f/8//z//f/9//3//f/9//z//f/9//3//v/9//v//f/9//3//f/9//z//f/+//7//f/8//v/+//8//z//f/9//z//P/9//3//P/9//3//f/9//7//f/7//v//P/9//3//f/9//3//f/9//3//f/9//3/+//8//3//P/9//3/+//8//3//f/9//3//f/9//3//f/9//3//f/9//3//P/9//z/+//9//3//f/9//z//f/9//v//P/9//v//P/9//z//f/9//z//f/9//3//f/9//z//P/9//3//P/8//3//f/9//3//f/9//3//f/9//z/+//7//3//f/9//3//f/7//3//f/9//3//P/9//3//f/9//3//f/9//z//P/8//v//P/9//3//f/9//3//f/9//3//P/8//3//P/7//z//f/8//v//P/9//3//f/9//3//f/8//3//f/8//z//f/9//3//f/9//3//P/8//7//f/8//7//P/7//3//f/8//z//f/9//z//P/8//3//f/9//3//f/8//3//f/9//3//P/7//z//f/9//3//f/8//z//f/9//3//P/8//z//f/9//3//f/9//3//f/9//3//P/8//3//P/8//3//f/9//3//f/8//3//f/9//3//f/9//3//f/9//3//f/+//z//P/9//3//f/9//3//f/9//z/+//9//3//f/9//3//P/9//3//f/9//3//f/9//z//P/9//3//f/9//3//f/9//3//P/9//3//f/9//3//f/9//3//f/9//v/+//9//3//P/7//v//f/9//3//f/8//z//P/7//v//P/9//3//f/9//3//f/9//3//P/8//3//f/9//3//f/9//3//P/9//3//P/8//3//f/9//3//f/9//z/+//7//z//f/9//z//P/9//3//f/9//3//f/8//3//f/9//3//f/8//z//P/9//z//P/9//3//f/9//z//P/+//3//f/9//z//P/8//3//f/8//z//P/9//3//f/9//3//f/9//z//f/9//3//f/9//3//f/9//3//f/8//3//f/9//3//f/9//3/+//7//3//f/9//z//f/9//3//f/9//3//f/9//3//f/8//3//f/8//z//P/8//v/+//8//z//P/+/////v/9//z/+//7//3//f/9//3//f/8//3//P/8//3//f/9//z/+//8//3//f/9//3//P/9//3//f/8//v//f/9//z//P/9//3//f/8//v/+//8//3//f/9//3/+//7//3//f/9//z/+//8//3//P/8//3//f/9//3//f/9//z//P/9//3//P/9//3//f/9//3//f/8//v//P/9//3//f/8//z//f/9//3//f/9//3//f/8//v/+//7//3//f/9//3//P/8//3//f/9//3//f/9//3//f/9//3//P/8//3//f/9//3/+//9//3//P/9//3/+//8//3//f/9//z/+v/7//3//f/9//3//f/9//3//f/9//3//f/9//3//P/9//3//f/8//z//f/9//3//f/9//3//f/8//v/+//8//3//f/8//z/+//8//3//f/9//3//f/9//3//P/9//3//f/9//3//f/9//3//f/9//v/+//9//3//f/9//3//f/8//3//f/9//3//f/9//3//f/8//v/+//7//z//f/9//3//f/9//3//f/8//3//f/8//3//f/7//z//f/9//3//f/7//z//f/9//3//P/9//3//f/9//3//P/8//z//f/9//3//f/9//3//P/8//z//f/9//3//f/8//3//f/9//3//f/9//z//f/9//v/+//9//3//f/9//3//f/9//3//f/9//z//f/9//z//P/9//z//P/9//3//f/9//3//f/9//3//f/9//z/+//8//3//f/9//3//f/9//3//f/9//z/+//8//z//P/9//3//f/9//3//f/8//3//v/9//v//P/9//3//f/9//3//P/7//z//f/9//3//f/9//z//P/9//3//f/9//z//P/9//3//f/9//3//f/9//z//f/9//3//f/9//3//P/9//3//P/8//z//P/9//3//f/9//z//P/9//3//f/8//v/+//9//3//f/7//z//P/8//3//f/9//3//P/8//7//f/9//3//P/7//v/+//8//3//f/9//z//P/9//3//f/9//3//P/6//z//f/8//v/+//9//3//P/9//7//f/8//z//f/9//3//f/9//3//f/8//v//P/9//3//f/9//3//P/8//3//f/9//3//P/8//3//f/9//3//f/9//3//P/8//v//P/9//3//P/7//v/+//8//3//f/9//3//f/9//3//f/9//z//f/9//3//f/8//v//f/9//3//f/8//v/+//7//3//f/8//z//P/9//3//P/9//3//f/9//z//P/9//3//f/9//3//f/9//3//P/7//v//P/9//3//f/9//3//f/9//3//f/9//3//f/7//v//f/9//3//f/9//3//f/9//7//f/7//z//f/9//3//f/9//3//f/9//v/+//9//3//f/9//3//f/9//z//P/9//3//f/8//v//P/9//3//f/9//3//f/9//z/+//8//3//f/9//3//f/9//3//f/8//3//f/9//3//f/8//z//f/9//z//P/9//3//f/9//3//P/8//3//f/9//3//f/8//v/+//9//3//f/9//3//f/9//3//f/9//z/+//7//z//f/9//3//f/9//3//P/7//v//P/9//3/+//7//3//f/9//3//f/9//3//f/9//3//f/9//3//P/9//3//f/9//3//f/9//3//f/8//v//P/9//3//P/9//3//f/9//z//f/9//z//P/9//3//f/9//v//P/9//3//f/9//3//f/9//3//P/7//3//P/7//3//f/8//3//f/9//3//f/9//3//P/9//3//P/9//3//P/7//v//P/9//z//f/9//3//f/9//3//f/9//3//f/9//3//f/9//z/+//7//z//f/9//3//f/9//3//P/9//3//f/9//3//f/9//3//f/9//3//f/9//3//f/9//3//f/9//3//f/9//3//f/9//z/+v/7//3//f/9//3//f/9//3//f/8//z//f/9//z//P/9//3//f/9//3//f/9//3//f/9//3//f/9//3//f/9//3//f/9//3//f/9//3//f/9//v//P/9//3//f/8//v//P/9//3//f/8//3//f/9//3//P/7//v//P/9//3//f/9//3//f/9//3//f/9//z//f/9//3//f/9//3//f/8//3//f/7//z//P/8//3//P/8//3//f/9//3//f/9//3//f/9//3//f/9//3//f/9//3//f/9//3//f/8//v/+//7//z//f/+//3//f/9//3//P/9//3//f/9//3//P/7//v//P/9//3//f/9//3//P/7//v//P/9//3//P/9//3//f/9//3//f/8//z//P/8//3//f/9//3//f/9//z//P/9//z/+//8//3//f/9//3//f/9//3//f/9//3//f/9//3//f/8//v//P/9//3//f/8//v//P/9//3//P/8//z//f/9//z//P/9//3//f/9//3//f/9//3//P/6//v//P/9//3//f/9//3//f/9//z/+//8//3//P/9//3//f/9//7//f/9//3//f/9//3//f/9//z//f/8//v//P/9//3//f/8//v//f/9//z//f/9//3//f/9//z//f/9//3//f/9//3//f/9//z//P/9//3//f/8//v/+//9//3//f/9//3//f/9//3//f/9//3//f/9//3//f/9//3//f/9//3//P/9//3//f/9//3//P/8//3//f/8//3//P/8//3//f/8//z//P/8//3//f/8//3//f/9//3//f/9//z//f/9//3//f/+//z/+//7//z//f/9//3//P/8//3//f/8//3//f/8//3//f/8//v//P/9//z//f/9//3//f/8//v//f/9//3//f/9//3//f/9//7//f/9//3//f/8//z//f/9//z//P/9//3//f/9//3/+//7//z//f/9//3//v/8//z//f/9//3//f/8//3//f/9//3//f/9//3//f/9//3//v/8//v//f/9//3//P/9//7//f/9//3/+//7//z/+//8//7//f/9//z/+//8//3//f/9//3//f/8//z//f/9//3//f/+//3/+//8//3//P/9//3/+//8//3//f/9//3//f/9//3//f/8//v//P/9//3//f/8//z//f/9//3//f/9//3//f/9//3//P/9//3//f/9//3//f/9//3//P/8//z//f/8//v//P/8//3//f/9//3//f/9//3//f/7//v//P/9//3//f/9//3//f/8//v/+//8//3//f/9//3//f/9//3//f/8//3//f/9//3//f/9//z/+//7//v//P/9//3//P/9//3//P/9//3//f/9//7//P/8//3//f/9//7//f/8//3//f/9//3//f/9//3//P/9//3//P/8//z//f/9//3//f/9//z/+//8//3//P/8//3//f/9//3//f/9//3//P/8//3//f/9//3//f/9//7//f/8//z//P/8//3//f/9//3//f/9//3//f/9//z//P/9//3//f/9//3//f/9//3//f/9//3//f/7//v//P/9//3//f/9//3//P/8//3//f/+//3//f/9//3//f/9//3//f/9//v//P/9//3//f/9//v//P/9//3//P/7//z//f/9//3//f/9//3//f/9//3//f/9//3//f/9//v//P/9//3//f/9//3//P/7//v/+//7//3//f/9//3//f/9//3//f/9//3//P/8//3//f/9//3//f/9//3//f/9//3//f/9//3//P/7//z//P/9//3//f/9//z/+//7//z//f/8//3//v/9//z//f/9//3//P/8//3//v/9//3//f/9//3//f/8//z//P/9//3//f/9//3//f/9//3//f/8//v//P/7//v//P/9//z//f/9//3//f/8//z//f/9//3//f/9//3//f/9//7//f/8//z//f/9//z/+//7//z//f/9//3//f/9//3//f/9//3//f/9//3//f/9//3//P/8//3//v/8//z//P/7//z//f/+//3//P/9//3//f/+//7//f/9//3//f/9//3//f/+//3//P/7//v//f/9//3//f/9//3//P/7//v//f/9//3//f/9//3//f/9//3//f/9//3//f/7//v//f/9//3//f/9//3//f/9//3//f/9//3//f/7//z//v/9//3//f/8//v/+//7//z//f/9//3//f/9//3//v/9//3//f/8//3//P/7//z//f/9//3//f/9//3//f/9//z//P/7//z//P/9//3//P/9//3//f/9//3//f/9//3//f/9//3//P/7//v//P/9//3//f/9//z//P/9//3//P/9//3//f/9//3//f/8//v//P/9//z//P/9//3//f/9//3//f/9//3//f/9//3//f/9//3//f/9//z//P/9//3//f/9//v//P/9//3//f/9//z/+//7//v//f/9//3//f/9//3//f/9//3//P/8//3//v/9//3//f/9//z//f/9//3//f/9//3//f/9//3//f/8//3//f/9//3//f/8//z/+//7//3//f/8//3//f/9//3//f/9//3//P/8//3//f/9//3//f/9//3//f/9//3//f/9//3//f/9//3//f/9//3//f/9//7//f/9//3//v/9//3//f/9//3//v/8//v//P/+//3//f/+//3//P/9//3//P/9//z/+//8//3//f/9//z//P/9//3//f/9//3//f/8//v//f/9//3//f/9//3//f/9//3//f/9//3//f/8//z//P/9//3//f/9//3//P/8//3//f/9//3/+//6//z//f/9//3//f/8//z//f/+//z/+//8//3//f/9//3//P/8//z//f/9//3//f/9//3//f/9//3//f/9//3//f/9//3//f/9//3//f/9//3//f/8//z//f/9//3//f/9//3//f/9//z//P/9//3//f/9//3//P/8//3//f/9//3//f/9//3//f/9//3//f/9//3//f/9//3//f/8//v/+//8//z/+//8//7//f/9//z//P/9//3//P/9//3//f/9//3//f/9//3//f/9//3//f/9//3//P/7//z//f/9//3//P/7//v//P/9//3//f/9//z//f/9//z//P/9//z/+//8//3//f/9//3//f/9//3//f/9//z/+//7//3//f/8//3//f/8//3//f/9//z//P/9//3//f/9//3//f/9//z/+//8//3//f/8//3//f/9//3//f/8//z//f/9//3//f/8//3//f/8//3//f/9//3//f/9//3//f/9//z/+//8//3//f/9//3//f/9//3//f/9//3//P/9//3//f/9//3//f/9//3//f/8//3//f/9//3//f/9//3//f/9//3//f/9//3//f/9//3//f/9//z/+//8//3//P/9//z/+//7//v//P/9//3//f/9//3//f/8//z//f/9//v/+//7//3//f/9//3//f/8//3//f/9//3//f/9//3//P/8//3//f/9//3//f/9//3//P/7//3//f/8//z//f/8//v//f/9//3//f/9//3//f/9//3//P/8//z//P/8//z/+//7//3//f/8//3//f/7//z//f/9//3//P/7//z//f/9//3/+//7//3//f/9//3//f/8//z//f/9//3//f/9//3//f/9//3//v/9//3//f/8//z//f/9//z//f/9//v//P/9//z/+//8//3//f/8//v//f/9//3//f/9//3//f/9//z//f/9//3//f/9//z//P/8//3//f/8//z//P/9//7//f/9//3//P/8//3//f/9//z//P/9//3//f/8//v//P/9//3//f/7//v//P/8//z//f/8//z//f/9//3//f/8//3//f/9//3//P/8//3//P/7//v//P/9//3//f/9//3//f/9//3//f/9//3//f/9//3//f/9//3//f/9//3//f/9//3//f/9//3//f/9//z/+//8//3//f/8//v//P/9//3//f/9//3//f/9//3//f/9//3//f/8//3//f/9//3//f/8//3//f/9//3//f/9//3//P/9//7//P/7//3//f/9//3//P/7//z//f/9//3//f/9//v//f/9//z//f/+//z//P/9//3//f/9//3//f/9//3//f/9//z/+//8//z/+//9//3//P/9//3//f/8//r//P/9//3//f/9//z//P/9//z//f/9//z//f/9//v/+//9//3//f/9//3//f/9//3//f/8//z//f/9//v//P/+//3//f/9//3//f/9//3//v/+//3//f/9//z//P/8//3//v/9//3//P/7//z//P/8//3//v/9//3//f/9//3//P/7//z//P/9//3//f/9//z//P/9//3//f/9//3//f/9//3//f/9//z//f/9//3//f/9//z//P/9//7//P/8//3//f/9//3//f/8//3//f/9//7//v/9//3//f/9//3//P/8//7//f/9//z/+v/7//3//f/9//3//f/9//z//P/9//7//f/9//v/+v/8//3//f/9//3//P/8//3//f/+//z/+//8//z//P/+//3//f/9//3//f/9//3//f/9//3//v/8//v//P/9//3//f/9//z/+//7//z//P/9//3/+//8//z/+//8//7//v/9//v/+//9//3//f/9//3//f/9//3//f/9//3//f/8//z//f/9//3//f/9//3//P/7//v//P/9//7//v/9//3//P/7//z//f/9//3//f/9//3//f/9//3//f/9//3//f/9//3//f/9//3//f/9//3//f/9//3//f/+//3/+//7//7//v/9//z/+//9//3//P/9//3/+//7//z//f/9//3//f/9//z//f/9//3//f/9//3//f/8//z//f/8//3//f/9//3//P/8//3//f/9//3//f/9//3//f/8//3//f/8//3//f/7//z//v/9//3//f/9//7//f/9//3//P/7//z//P/9//3//f/9//3//f/8//v//P/9//3//f/9//3//f/9//3//f/9//z/+//9//7//P/9//3/+//8//3//f/+//3//P/9//3//f/9//3//f/+//3//P/7//3//f/9//3//f/9//3//f/9//3//f/8//v/+//8//3//f/9//3//f/8//v//f/9//3//f/8//3//f/9//3//f/8//3//P/7//3//f/9//3//f/9//3//f/8//z//P/8//3//f/9//3//f/9//3//f/9//3//f/8//3//f/9//3//P/8//3//f/9//3//f/8//z//f/+//3//f/8//v/+//8//3//v/9//3//f/9//3//f/9//3//f/9//3//f/9//3//f/9//3//f/8//v//f/9//3//P/9//3//f/9//3//f/9//z//f/9//v//P/9//3//f/8//r//P/9//3//f/9//z//P/7//v//f/9//3//f/9//7//P/7//z//f/9//3//f/9//3//f/9//3//f/9//z//f/9//3//f/8//v/+//8//3//f/9//3//f/9//z/+//7//v/+//9//7//f/9//3//f/9//3//f/9//v//P/9//3//f/9//z/+//7//v//f/9//3//f/9//3//P/7//v/+//7//z//f/9//3//f/8//z//f/9//3//f/9//z//P/9//3//P/9//3//P/8//3//f/8//3//f/9//3//f/8//3//f/9//3//f/9//3//f/9//3//P/8//3/+//7//3//f/9//3//f/9//3//f/8//v//P/9//z//f/9//3//P/8//3//f/8//3//f/8//3//f/9//3/+//7//z//f/9//3//f/9//3//f/9//z//f/9//3//P/8//z//P/8//z//f/9//3//P/7//z//f/9//3//P/8//3//f/9//3//f/9//3//P/7//3//f/9//3//f/9//z/+//8//3//f/9//3//f/9//3//f/8//v/+//8//3//f/8//3//f/8//z//f/9//3//f/9//3//f/9//z/+//8//3//f/9//z//P/8//3//f/9//3//f/9//3//f/9//z//P/9//z//f/9//3//f/8//v//P/9//3//f/9//3//f/8//3//f/9//3//f/9//3//f/9//3//f/9//3//f/9//3//f/9//3//f/9//3//f/9//3//f/9//z//f/9//z//P/9//3//f/9//z//f/9//3//f/8//z//f/9//3//f/9//3//f/9//3//f/8//3//v/9//3//f/9//3//f/8//3//f/9//3//f/9//3//f/8//3//f/9//3//P/7//3//f/9//3//f/8//z/+//7//3//f/9//z//P/9//3//P/8//3//f/9//3/+//8//3//f/9//3//f/9//3//P/9//3//f/9//3//f/9//3//f/8//3//v/8//v//f/9//3//f/9//3//P/8//3//f/8//z//f/9//3//f/9//3//f/9//3//f/9//3//f/9//3//f/7//v//f/9//z//f/9//3//f/7//v//P/9//3//f/9//3//f/9//3//f/9//3//f/9//3//f/9//3//f/9//3//f/9//3//f/9//3/+//8//7//f/9//3/+//7//z//f/9//z//P/9//3//P/9//3//f/9//z//f/9//3//f/9//3//f/9//3//P/7//3//f/9//3//P/8//3//f/9//3//f/9//3//f/9//z//f/9//3//f/9//3//f/9//3//f/9//3//P/8//3//f/9//3//f/9//3//f/9//3//f/9//z//P/8//3//f/7//v/+//8//3//f/9//3/+//7//3//f/9//3//f/9//z//f/9//3//f/8//3//f/9//3//f/9//3//P/9//3//f/9//z//P/9//3//P/8//3//f/9//3//f/9//3//f/8//3//f/9//3//f/9//3//f/9//3//f/9//3//f/9//z//f/9//z//f/8//v//f/9//3//P/8//z//P/9//3//f/+//3//P/9//3//P/9//3//f/9//3//f/8//3//f/8//3//f/9//3//f/9//3//P/8//z/+//9//3//f/+//3//P/9//3//P/8//z//f/9//z//P/7//v//f/9//3//f/8//z//f/9//v/+//9//3//f/9//z/+//7//3//f/9//3//f/9//3//f/9//3//f/9//z//P/7//z//f/9//3//f/9//z//P/9//z//P/9//3/+//7//z//f/9//3//f/+//3//P/9//3//P/8//3//f/9//z//P/9//3//f/9//v/+//8//3//f/8//3//f/7//z//f/9//3//f/9//3//f/9//3//f/8//3//f/9//3//f/9//3//f/9//3//f/7//r//P/9//3//f/9//3//f/7//v//f/+//3//f/9//3//f/9//3//f/9//v/+//9//3//f/9//3//f/9//3//f/9//z/+//8//7//v/8//v//P/9//3//P/8//3//f/9//3//P/8//3//f/9//3//P/8//3//f/9//3//f/9//3//P/9//3/+//8//7//f/9//3//f/9//3//f/9//3//f/9//3//f/9//z//P/9//3//f/9//3//f/9//3//f/9//3//f/9//3//f/9//3//f/9//3//f/9//3//f/9//3//f/9//3//f/8//v/+//9//3//f/9//3//P/9//7//f/9//z/+//8//3//f/9//3//P/9//3//P/9//3//f/9//3/+//8//3//f/9//3//f/9//3//P/7//z//f/9//3//f/9//3//f/9//3//P/6//v//P/9//z//P/8//3//v/9//3//f/9//3//f/9//3//P/8//v//P/9//3//f/9//3//f/9//3//f/9//3//f/9//v/+//9//3//f/9//3//f/+//3//f/9//3//f/8//v//f/9//z//f/9//z/+//7//3//f/9//3//P/9//3//f/9//3//f/9//z//P/9//z//P/9//3//f/9//3//f/9//3//f/9//3/+//7//z//f/9//3//f/9//3//f/9//3//f/9//v/+//8//3//f/9//z//f/9//z//f/9//3//f/9//3//f/9//3//f/9//3//f/9//3//f/8//v//P/8//v/+//9//3//f/9//3//f/8//z//f/9//3//P/9//3//f/9//3//f/9//3//f/8//v/+//7//v//P/9//3//v/9//3//f/9//3//f/9//3//f/8//z//P/7//v//P/9//3//v/+//3/+//7//3//f/9//3//f/8//v/+//9//3//f/9//3//f/9//3//f/9//3//f/7//z//f/9//3//f/9//3//f/9//3//f/9//3//f/9//3//f/9//z/+//7//v//P/9//3//f/9//3//f/9//3//f/9//3//f/9//3//P/8//3//f/9//3//f/9//3//f/9//3//f/9//3//P/9//3//P/8//3//f/9//z/+//8//3//f/9//3//f/8//3//f/9//3//f/9//3//f/8//3//f/9//z//f/9//z//f/9//3//f/9//z//f/8//v//P/9//3//f/+//3//v/+//3/+//7//v/+//8//3//f/9//3//f/9//3//f/9//3//f/8//3//f/7//z//f/9//3//f/9//3//f/9//3//P/7//z//P/8//3//f/9//3//f/8//z//P/8//3//f/8//z//f/9//3//f/9//3//f/9//3//f/9//3//f/9//v/+//8//z/+//8//3//f/9//3//f/9//3//f/9//3//f/9//3//f/9//z//f/9//3//f/7//v//f/9//3//f/9//3//f/9//3/+//7//z//f/9//3//f/9//3//f/9//3//f/8//3//f/8//z//f/9//3//f/9//3/+//8//7//f/9//z/+//9//3//P/9//3//f/9//3//f/9//3//f/9//3//f/9//3//f/9//3//f/9//3//f/9//3//f/9//3//f/9//3//f/9//3//f/9//3//f/9//3//f/9//z/+//8//3//f/9//3//f/9//3//P/8//3//f/8//z//P/8//3//f/8//3//f/9//z/+//7//v//P/9//3//f/9//3//f/9//3//f/9//3//f/7//v//P/8//z//f/9//3//f/9//3//f/9//3//f/9//3//f/7//v/+//7//v//P/7//v//f/9//z//f/8//3//v/8//z//f/8//v//f/9//z//f/9//z//P/9//3//P/9//3//f/9//3//f/7//v//f/9//3//f/8//z//f/8//z//f/8//3//P/8//3//f/8//3//f/9//3//f/9//3/+//8//3//P/9//3/+//8//3//f/9//z//P/9//3//f/9//3//f/9//3//f/9//3//f/9//3/+//7//3//v/+//7//f/9//3//f/9//3//f/9//3//f/9//3//f/9//3//f/9//3//f/9//3/+//6//v//f/9//3//f/9//3//f/8//3//f/8//v//P/9//3//f/8//v//P/9//z//P/+//3//P/9//z//f/9//v/+//9//7//P/8//3//P/7//z//f/9//3//f/8//3//f/9//z/+//7//3//P/9//7//P/7//z//f/9//3//f/9//3//f/9//z//f/9//v//P/8//z//f/8//z//f/9//z//f/9//3//f/7//r//P/8//z//f/9//3//f/7//v//f/9//3//f/7//v//P/9//3//f/9//3//f/8//3//f/8//v//P/9//3//f/9//z//f/9//3//f/9//3//f/8//3//f/9//3//P/8//3//v/9//3//f/9//3//f/9//3//f/9//z//f/9//3//f/9//3//f/9//3//f/8//3//f/9//7//f/9//3//P/8//v/+v/7//z//f/9//z//P/9//3//f/9//3//f/9//z//P/9//3//P/8//z//f/8//3//v/8//v//P/7//z//f/9//3//f/9//7//f/8//3//f/8//3//f/8//3//f/9//z//P/9//3//P/9//3//P/9//3//f/9//3//P/8//3//f/8//z//f/8//z//f/9//z//f/9//3//f/8//z//P/8//3//f/9//v/+//9//3//f/9//3//f/9//v/+//7//z//f/9//3//f/9//z//f/9//3//v/8//z//f/9//3//f/9//3/+//8//3//f/9//3//f/8//z/+//8//3//P/8//3//v/9//v/+//7//z//f/9//3//f/8//3//v/8//v//f/9//z/+//7//z//f/9//3//f/9//3//f/9//3//f/9//3//f/9//3//f/8//v//f/9//z//P/9//3//f/+//3//f/9//z/+//9//3//P/9//3//f/9//3//f/9//3//f/9//3//f/9//z//P/8//z//f/9//3//f/9//3//v/9//z/+//8//3//f/9//3//f/9//z//f/9//3//f/9//3//f/9//3//f/8//3//P/7//z//f/9//3//f/8//z//P/9//3//f/9//3//f/9//3//f/8//z//P/8//z//f/9//3//f/9//3//f/9//3//P/8//3//f/9//3//f/8//z//f/9//3//f/9//3//f/9//3//f/8//v/+//9//z//P/9//3//f/9//v//P/9//3//f/9//3//f/8//z//f/9//3//f/8//3//f/9//3//f/8//z//f/9//3//f/9//z//P/8//z//P/9//3//P/9//7//f/9//z/+//9//3//P/9//3//f/9//z//P/8//v//P/9//3//f/9//3//f/9//3//f/9//3//f/9//3//f/9//3//P/9//3//f/9//3//P/8//3//f/8//z//P/9//3//f/9//z/+//7//z//f/9//3//f/8//z/+//7//z//f/9//3//f/9//3//f/8//3//f/9//3//f/9//3//P/9//3//f/9//z//P/9//3//f/9//z//f/9//3//f/9//z/+//8//3//f/7//v//P/9//3//f/9//z/+//8//3//P/9//3//f/9//3//f/9//z//f/9//3//P/9//3//f/9//3//f/9//3//f/9//3//P/8//v//P/9//3//f/9//z//f/9//z//P/9//3//f/9//3//f/9//3//f/9//z/+//8//3//f/9//3//f/9//3//f/8//3//f/8//3//f/9//3//f/9//3//P/8//z//f/9//z/+//8//3//f/9//3//f/9//3//f/9//z//P/7//z//f/9//3//f/9//3//f/9//3//f/9//3//f/9//3//f/9//3//P/9//3//P/8//3//f/9//3//f/9//v/+//8//3//f/9//3//f/9//3//f/9//3//f/9//3/+//7//3//f/9//3//f/9//3//P/7//v/+//8//3//f/9//3//f/9//3//f/8//z//P/9//3//f/8//3//f/9//z//P/9//3//f/9//3//f/9//3//f/9//3/+//7//z//f/9//3//f/9//3//f/8//3//f/9//3//f/9//3//P/9//3//f/9//3//f/9//3//f/9//3//f/9//3//f/9//3//f/9//3//f/9//3//f/8//3//f/8//v//P/8//z//f/9//3//f/9//3//f/+//3/+//7//3//P/8//7//f/8//3//f/8//3//P/8//3//f/9//3//f/9//3//f/9//z/+v/8//3//f/+//7//f/9//3//f/9//z//f/9//z//f/9//z/+//9//7//f/9//3//P/+//z//f8LAA4A/v/9//7/7v/u//z//f/+/wEAAAD9//z/+//7//z//v/9//7//v/8//z//P/6//v/+//5//3//f/5//n/+P/4//z//f/+////+//6//r/9//2//j/+P/2//b/+f/+/////f/9//7//f/9//7//f/8//7/+//5//z//f/6//v//v/+//7//P/8//7//f/6//v//f/8//j/9f/0//T/9P/2//f/9v/3//f/9f/3//j/9v/3//z///8AAAIAAAAAAAAA/v8AAAIAAwADAAQAAAD6//n/+v/2//b/+P/3//f/9v/2//X/9P/1//j/+f/+//7/9v/3//v//f8AAAAAAAAAAPv/+P/5//b/+P8AAP7/9f/t/+r/6//n/+z/+/8AAP3/AAACAP3/+P/8//////8AAAAA/P/4//f/+v/+//z/+v/8//X/5//j/+///f8HABQAFwAHAPr/9//1//b//f8AAAEAAAD9//3//P/6//f/9P/z//f//f8BAAUACQANAAsABwANABEADQAPABEACwAJAAYAAAD9//r/9//5//r/+f/7//3/////////AgADAAMABwAKAAkACQAKAA0ADQANAAsAAgD6//f/+P/5////CAAQAA4ABgD8//X/9/8AAAUACgAOAA0ACQAJAA4AEAAMAAQA///8//j/9v/9/wEAAQADAAQABAAFAAMABAAJABAAGAAcABcAEQAIAAAABgAUABsAHgAcAA8ABwAHAAAAAQANAA8ACwAGAAAAAgAJAA8AFQAUABYAFwAOAAoADAAJAAwAEgATABUAFQATABEADQAIAAcACwATABIAEgAVAA8ACgALAA0AEQAUABwAJwAjABsAFgALAAcACAAGAAQA///6//n/8f/o/+n/7P/s//D/+f/5//H/6v/e/9T/1//a/+D/7v/s/+n/6P/a/9D/zv/K/8r/yv/G/8b/v/+2/7D/q/+w/7v/wP+//73/t/+v/7D/uP+9/8f/z//E/7r/vP/E/9T/5f/u/+3/3f/P/8j/y//p/wMADgAXAA4A/v/+/wMAEwAoACkAKgAuACUAHwAqADkAPgA/AEMAPAAxADQAPQBGAEgARwBOAEUAMAAyADkANQA1ADYANgApABcAEgANAA0AGAAYAAwAAQD6/+//3v/T/9T/2f/c/9X/yP++/6b/k/+e/6X/q/+w/5v/gP9p/1j/Yv9x/37/jP91/03/Of80/0D/UP9Y/2T/YP9R/1H/Vv9f/2v/cP92/3r/e/+A/4D/hf+N/5L/ov+o/6f/uP+9/7T/wf/Y/+r/9//9//v/8v/0/wgAHgAxADoALgAnACkAMQBLAGUAawB3AH8AcgBtAH8AjwCYAKAApACiAKIAogChAKEApgCuALkAwAC9ALoAtACpAKQAoACYAJgAlACKAIEAcABhAGIAZABoAGAASAA7ADEAIAAgABwAEAAJAPL/1//J/7b/rf+x/6v/n/+P/3v/Yv9D/z3/Qv8y/y7/M/8j/xH//v7l/uH+4/7c/uf+7P7b/tz+5v7k/vH+Cf8X/yP/Jf8m/zP/Of9N/3j/kf+e/7D/uP/G/9j/5P8JADQASQBdAGgAZAB1AJUAsgDRAOoAAAESARkBIwFEAWcBegGJAZoBpgGqAakBswHOAeUB7QHyAfAB5wHlAecB4AHZAdIBwAGpAZYBhQF5AWMBPQEiAQMB1QC4AJ4AdABFAAgA3//N/53/af9B/wT/1f63/pH+e/5b/iX++/3M/aD9j/1w/U/9Qf0o/Q398/zc/OT87fzf/N/87vz5/Az9Jf03/U79dv2k/cr98/0h/kn+dv6t/uX+I/9Z/4L/vv8DAD4AggDPABgBaQG0AfQBNQJ5AskCGQNSA4wD1AMLBDYEbQSpBNwEBAUrBVMFcQWGBZ8FugXMBcYFuwWtBZYFiwV8BVAFIAX/BNwEnARABPUDswNdAwUDrAJHAtkBVAHLAFIA1f9d/+v+a/7t/XH96PxT/L/7SPvZ+lL6zPlK+dL4b/gD+J73WfcK97j2dvYz9gH25vXS9cb1vPW49bz1yPX59Ub2mPbn9jX3ovc0+Mf4WvkE+sz6mftQ/A393v3B/rv/nABkATgCEgP9A+wEsgV7BkkH+gerCF0JCgq0CjwLuQszDJMM9AxFDX4NyQ38DR8ORg5KDlwOdQ5LDh4O+g24DYENLg29DFYMxwswC6cK+QlGCYEIlAe+BtYF1ATaA7gCngGgAG//P/4s/QX80vp4+Rz48va69YD0T/MF8tzwsO907nHtY+xl67Dq4Ok46erogeg/6CzoCegm6FPohegv6fTpsOqs66zsxe0R72Tw+fG080r18/aq+GD6P/wM/qL/OgHiAokEIAaBB8gIPwq3C/YMMw5oD3UQhxGAEkYTGhTgFH0VERaHFuwWVxegF9AXBxg8GGQYXxg1GA8Y0xd6FxoXjxbUFQsVHhQrE1cSYBE2EPgOjw0dDLgKNQmtBx4GaQSnAtAA6/4T/Sb7J/ki9xX1HfMf8Sjvae2r6/fpY+i45i3l0ONw4kbhROBA33be7t2p3bXd5d0f3lfer95K3wbgF+Gd4jTk3OWW50XpPut57b7vJfKU9AT3hfno+zn+hgCoArIEpAaKCJoKhAwUDqEPOxHMEmkU8RU/F2wYehlbGiQb5RuSHCEdiR3EHekdDh4VHvwd4h2xHVQd3BxUHMobLBtnGqMZyBimF3gWYRU9FA0TxxFdEOIOWQ3FCyYKcwikBr8E2QLTAKb+kvyD+l74U/ZF9B3y9u/V7errG+o+6KDmJ+WE4+/hfuAt3/Ldtdyq29HaBtqQ2YXZ39lz2tTaKNui2zXcMd2g3l/gduKC5FDmHOgm6r/snO9J8gP15ffH+o79DgCgAmQF9QdOCnYMYw4/EPoRtBOqFYkXJhmhGt0b3RzKHZkeQh/aH3kgECFeIVUhQyElIdogkiBRIPkfgR+9HtYdFx1LHHYbqRqRGT4Y4xZ0FQIUkxI8EfMPYQ6RDMgK/AgJB+4E3wLSAKH+afwY+sT3jvUp89Hwqe5V7Bnq/Ofh5TnkmeLA4Bvfet0I3NzaiNlK2EzXltZA1hDWh9aJ1zrY9NiN2d7Z9Np33CXequAm41Llxecm6qfshO958qj1yfjd+xn/9gG7BLoHawrrDFIPPhEQExIV8Ra4GJ8aaBz4HWwffyA7IQQipyIYI4EjwSP/Ixwk1SN6IwwjjiIdImchpiD+Hwkf9x3xHOcb7Bq0GUMY2hZuFRAUhRK3EAIPRg1uC6IJtwehBXYDPQEC/+T8yvo7+J/1e/Mu8druuuwf6qrn1+Xl4//hVeCm3v/cWdvy2bHYYNdd1lvVjNSV1M/UW9WL1m7XDti/2HrZltoX3HTeZeHW43jmH+kk6+ztLfEk9Oz3zfv4/jYCLgXKB7IKoQ0VEBYSPBSCFmsYaBplHP8dsB9JIYEimyNfJLkk7iRGJaclpyXFJeAlKiVmJMwjzyIHImUhiSCkH4wedB1NHPka3RmEGAkXrBWcE64RURBnDrYMZAtjCUUHIgXMApsAP/7y+675Ivfb9InyGvD/7Xnr9+js5obkeOID4U7fn93021HaG9n91+bWyNWx1O7TNtMu0yXUJdVt1qjXIdjw2AfaMttj3RzgF+Mm5oToF+sa7hbxh/TH9wb76v4PAtcENAgwCxcO/RAyE2IVmBeHGXYbMx37HrsgESKHI+ok0SWCJq4mjSa1Jr4mkSZpJhEmYSWUJNEjxyKgIbYgjR9LHjUd0BuCGlcZtxcXFmoUgxLvEEgPZg2gC6sJwQfdBbEDwwG+/z/99PqZ+Pn1mvMu8bTuhewl6qTnZuUl4//gKt9p3cXbLtqd2GfXV9Ys1RfUEdNS0gDS/tG10vDTS9Xq1gjYrtjt2WDbR90q4AzjFeZR6cXrSe5c8Wr00fdy+wf/lwLNBQcJKgzFDmwR6xMUFmYYehpqHHQeICC8IU4jkyTdJc0mOSd3J28nWidcJzsn6yZiJr0lwySAI4kiaiEjIDUf7h2GHG0b8BlxGA4XVxWrE80R7Q9kDpQM5go+Ce8G7QQGA7EAnv5B/KD5WffT9GHyKvCr7Vvr/+iJ5mfkGOIJ4Hnevdw927zZ+9fP1qzVUtRW01PSmtFq0WjRGdJf08fUMNYb1xvYkNkE2zTd+d+54inmaenY68Tu1/HG9Hf4avxFADYElQeKCqUNohBjE+0VOxiEGrscqR5PIOUhlyNDJaMmkidCKMMo3CjWKOMovCiRKDooXidzJmwlFCTkIrMheSB7H0Me0RxfG8EZJhh/FsAUFhNFEYwP9A0YDFkKlQh3Bm4ELQK0/3b9F/vB+JH2N/QS8tvvU+386oPo+OXB44XhnN8c3mrcqtr22FrX/NWu1HrTSdI90bDQT9CY0NzRENNH1IDVRtZw1/HYmdo13THgQOOL5nfphezR7+TyivZy+k3+jgIlBj4JzQzxD9ESvBUiGJca3xyJHmggTiI/JGcm0ifxKCgqpyrxKiIryCq6Kr4qIyqGKeQo4ifCJoYlLSTmIrAhVyDGHk8d4hs2GnwYpxa7FOQS+RAZD0kNYguaCa8HiQWQA1wB9v7O/Ff6rfdP9djya/A87rrrAumO5iDknuFr33Ddctuu2fnXLday1D7ToNFO0CnPds5uzofOS8/H0ALSUdOL1GrVFtcq2TjbTt7J4Qjlg+in67TuW/IC9qf5eP1VAYIFgwkRDZYQshN4Fj0Zhhu0HREgBiL+IyUm2CdhKcYqqytvLNYsoCx1LFYsFyzLKwsrHypIKQsosyZpJe0jrSJBIWEf5R18HNUaTxlhF0gVgxNhESYPSg1tC6sJywePBWcDMwHo/pP87vlX9970OvLF70ztmur750DllOI64Pjd5tvh2cLXztXk0yDSp9Anz9zN5cwlzA7Mk8x5zc/OHNA20V7Sn9NL1YHXM9p23fHgZ+TK5wHrc+4i8tb13vkC/g0CPQY2CtoNYRGVFIUXQhqhHN4eEyFGI48lrSeLKTcrgyxmLeQtBC78LeMtry1JLb8sMCxTKxQqtSgkJ4glDSRzItQgYh/VHRIcORpSGF0WYxRZEi0QGQ45DEUKOQgiBt8DmwFO/9P8UPqy9wr1gvLk70ftuuoD6GDly+IO4ILdTNs72VXXfNV+04LRxs8lzqTMkcvAykPKhso1yzfMnM3FzujPZdHy0hDVy9ey2izezOEa5bDoNuyh757zqffJ+1wAngSjCKsMORClE/4W5BmwHEcflSHyIxkmGigtKgAsqC37Lpwv5C/vL7wvei8GL4cu/S0hLQwspioEKYcn4iUbJIUi0SAPH1kdeRugGcEXqxV8EzcRGg8fDRALKgk1B/8E3AKCAO79X/uB+Kj1DfNd8MztF+s96Ljl6uIA4JfdH9sU2WPXDdX/0kTRK8+SzRnMqMobypvJc8k/ygvLYszszcbOSdD20V/THdY+2X7cnuD04w3nCOu17sHyR/dG+7v/KgT6BzgMLBC0E3wXeBogHRUgVSKEJB0nQylkK4Et7y49MGox2THcMbExWTEIMZAwzy/jLrstcCwBK0gplSfmJQMkSyKuIOYeOx2IG5MZiBdNFfMSzBDqDioNMQvkCI8GNwThAZ//Ff1L+r33D/X/8TLvgOzN6avnI+UB4mTfsdwi2k3Y9dXA0/LReM+szUDMc8rMyRHJZMhdydrJdsoXzKfM1s2bz3rQDNNu1ovZ1d054Vbkfeig63DvNfRC+Ez9zgEoBcMJ7w2tEfQV6hjoG0kfpSF0JEInZSnEK3Et8y7aMPkxsTIXMx4zTDPgMuox9TANMFQvBS5RLNQqLCm/J/glhyOrIdcfBx69HMkarhilFhIUKBJjEBcO7QtaCRcHdAUuA8kANP5m+yX5WvYv81DwV+0G663oy+VD41Lgld1C2z7YBtYH1H/R2s95zezKrcm+x63Gpsa+xUnGEcc9x0jJhMpQy5nNy85f0aHVYNhy3KngYOPH53brse4x9KD4/fxVAjkGSAuyEC4UbRgkHPke5iJ9JZ8nzyrNLMIu9DAJMpYz3DToNCg1AjVKNLYznTKIMckwWC90LZ8rtikEKEwmDCQEIosgvh60HK4aZhiXFvYUnhJ3EIgOUAxPCv8HawVTAwcBl/5z/AH6cfe89HXxee7t6wnpGuZF413g+N3A2wfZp9aG1NbRKM9ezLbJLsikxt3Ez8MKw0jDVsTjxCHGucfeyMbKiMyPzhLSP9Wq2NDcReBU5HvoP+yY8fH20PsmAXcFWwoEED0UyRg3HZEgjCRYJ0MpWiyzLv8wojPcNGw2ojcuNz038DYPNvw18DSrMywzWTEcLz4tGisxKnopSScGJXoioR+uHVIblBiCFswTHRFaDx8NKgtVCWYGNQRtAtL/wP1A+4v4C/eV9KrxPe/I687oteVj4Y/eItyW2RHYJtVV0rnQM87TzIzL3chPxwzFNMMlxIzEosUXx2/GcceoyATJDMx/zhvRd9Vj12/aRN/O4tboVO6w8ev29/mo/HICKAevDeAUNRiMHGYgpSKEJ68qyyyZMKEx5zKbNXA2yTivOts5EzpnOSQ4zThaOHY3pDaaM+Qwei/0LdMsZSr+JeEhbR5lGxcZ1hZ0FJoSpxA+DosMLAuhCVcIzQVYApn/c/y6+fT3CPX78SzvmevK6LrlN+H33M7YUNUt05rQOc6lzHvK5sdNxGy/N7vqt0q1XrRqtce4Db4Lw8vG78njzJHQedVH2tneK+S66ULwqfjbAAwIRg5OEjoVSRh8Gygg3SUhK54vaTLZNJQ4ezuCPJk7JjjUNHUzVzKjMY4xNTC1LZMqGCYHIoIfsxzpGVwXIBR/EmgS7xFLEoYRcw4ZDMQJaQjbCdEKzgsrDXcMhgzEDGkLIwsjCRkF8gLsADYAUgH0/y/9NvmB8/ruTOqA5TzhuNo/1BPPd8rayJrHmsTZwH+6FLTOr4ys66tPqxipZalzrYC2+8IkzdHTk9fN26bjD+y19SgA5AeCEA8ZTx/YJx0w1DVeOvE66DrYPMc+8UKURYVEfkSUQnc/bT4lOuUztS75J5YifR9DHPwZURcVEzgO7QjhBJUCkAGrAbgBJAKwAvsCrgR8BqsHAQkDCX8JNwxYD8USOhXaFVsW4xWYFHUTABH6DRcLUAcBBA4C3/9J/I33TvGj6cjiZNzp1UHRG8zsxSLBFLz9uBm4I7QXsLKscaiuqLOpdKjoqVOsSrMiwUPOOtus5F/omvCi+boB6g69FukbRCb9K8UyKz0cQZtF1EfBQmRBSz9FPaRBqD+rOwE7lTMoMG0waij9IugcwxEdD/INSQv5DXML1wawBSEAAf5GAJ3/uQJ0BZAE9wffCvQMFBHUEEEQsRG1ET8VaBmAGk0cbhtrGPQWWRS3EcQOrwmxBDT/0fqE+OX05vBD6xLjENy01ALOtsmJxPfAqL3Ht+K0VbMfsjizObDcqwWqxKcVqlCtxa4+uE7E8dCX4uvsNvMM/jkEPQvBFQMbaSJyKzoxDTrJQJhEXUlVR0JDGUFjOs42pTahMp0xgjEpLbAq5CeZImQeaRhUEXcM+giDCNsJgwkQCQ4IkwUcBM4C0QGVA/AFIgiiCrULFQ5kEbkRPhJpEhoRahMtFVIU0BV6FS4ULhQGECUM6QgqAtz9u/iR8t/xbe5q6b/mbt+x2sDXoM9ry6/GDMCpv3S7+rZhuNW1KrZatzuy8rHDsEGue7Jgsmu37sYx0kjjC/RY+GgClAudDl8ZHx+sIZYqWS7INAU+fEAyRs1G6z7uOy81pC4+MH8shyiQKD0loSXPJkMjiR8xGGkQDgycB74HnQrMCwkOjg2eC/ALRAuXCz8LagjgCIAKiwxJEagTlRS8FUkUeRLMELsPOhAeD7gNTQz6CVoK3gnmBZEBD/uv9K/wr+sM6JDl9eGx317c4dfc1H3QtMv7xuHA87whuke3RLdQtwW3JLhvt0+1Z7RttIG167lCxC3S4+EF8+H+kwaAEAUYVB2II0gmSymTL9A0TTohPyNCm0RrQS460zNZLBooPifjIhgggCGLIuIkICa0IiQeqhj3EccMuAnrCa0MZA4KDxsQgBErE/QTHhKSDkgMwgvIC1UNWxDNEmUUlxS3ErUQARBLD78MQwmzBpMEzQNHBFQCO/8Q/N71C/A87P3nJeZN5KTfTN2R2w7Z8dcd0y/MyMa2vwK7trgstm+4x7nbt2S5P7iVtku51bYUtvK+YsrA2yPv0fsKCMYSjho5IvokvSeXLJstxzCcNMs21T7ERHNDvT8uNxgv+SkDI9we4xvMGYIdAx9xH5Mj/iIcIGYcSxNcDcEL7gkKCyMMvw0uE6IWlRe+F+wU+BHSDxYM9wg6CXcLeA27D0sRUxEJEjARNg1NCbcFFgNDAe/+Of6o/Zv8bfvg9f7vgexM5wfkluCY2vjYztdf1ejUstCOyxLHMb/Euda1drNlthO2iLUWuMy11rbUuW+3Xr10yerU3eYc9ooA1A4YGlUinClrK9otGTF9MeMzcDYPOQ8/x0H3PlY6mjPCLGonyCHSHDca+hnTGygeTSDgIiYjex9rGh8USQ51DI4LUQrIC24OmRGGFXYX/xa3FP8QEA1uCagHOwi8Cc4LCg4KENgQcBBWD58LcweSBAEATf0K/Uz7jPtY+9b3ZfUD8X/rAehU4pzdNNqJ1cXUL9S80TvQ18mrwpu+rLgZtqq17bJzs2W0BbT1tAC11bbmupnCZNBp3S/sr/wBB8MTciBVJX8sUjC1Llgy/zJeM7k5gzu9PQVANzp9Nigy0SiGI0odMBfqFyMYeBmsHUcfziFLIgodtBjlEzUOgww6Cq0HzQq8DgkRtxSRFbgTWBM5EPAKTghIBjYGiAioCUgMnQ+5EEARbg7lCbsHSATbAFD+Zfrm+Q77R/ou+gz3B/IO7zrpV+PB30Tastfl1qbSH9DNzHrGYsPrvpy4ZrbIsuGv+rFBsuezX7e3tmu5sb8zyEvZQelb9sEFBA55FyUl9ykIMR43ezIENMk0/DGLOtw9IDyDPjM2FzCJLyMmriLBHx8XkxjpFysWZx1NHiYfbiChFxgU+hFeDGMO3AttB9IKBQp3C3sRchFrEmgSPg3bCqwJUwkMC4wLmAz0DWkPQRG7EHMPUA2bCR4G1AGp/iL9JPxP/CD6WvcY9VzwHu7u6o7kPuKn3arYPthk0q7N2ssFxKe/Mbsks7CyjbEvr22x/69EsXq1SLXbuEC/WMrE3cDtkvuCCLQRTh8WKksueDNUNK40OTY3M700nzkiPQ9AgDqtMw4x6SsQKd4iQBnBGB0YZRc+G9AZYBxQIQ8ctBf0EqwMvg6uDRYJRAngB8YJRg5PDjIQ2xBaDjENEQnHBtcI2Qj7CrkNGA4XEucU/hMcFP4QHwz9CaEGMQQWBGoB1v4q/Yf5I/ct9M7u9uqk5bPfetx111PUo9L0y9PHyMNqvHi7KrhAsvSzkLBfrbqxbK/msKO2zLTWvKDL6tin7pH9/AWeFOwcZCWWL+UvJzTnNxM0yzZ/OO86M0TEQmg8BTgIL+grpyirHroa7BejFV0YZhe5GPsdjx0sGgMTPAsECoIJKAmsCJcGZAmRC3cLkQ/0EH4RfBIEC4YFwga6BkoKdQ1YDAgQDRRiFDQV4xMOEnAQgAuiBocDrQLSA68B6P2V+774ffb/8hjssOXk4Ebc/teZ1EfR38wFyd/D6bzouY63PLTItGqyoK4KsOmuK6/os1a067mTx+7Uruc0+UgDXhDqGygjGSvoLY0v3jP2NDM2Bzh7Or9AhEKoPr85zjGaLC4pUiBlGRsXrhW6FwMatRmbG4sehRwrFvUPeAq/BxAJ+QfvBWsITwonDPoPbxANEGgPaQpzBekC2wLsBdsI8gvyDuEQ7BOfFIQToxMuEPILpAn/BdsF+QZKBPMCxQD1/M36BfX07eDoOuKW3cTZNtV91PfRpsy5x12/d7rIuWy1urM4ssOt+K8msfGucrKBsxW2lcHby0/aiu1h+iEIvxS8G20m3S3HMMQ1EzU6Neg5wTrCPyBE0UBmQIg7gjKJL4ontB9AHroXnhVbGH0WhxrEHZgZ4xehEa0JgQgeBa4DXAX2Al4EYQfXCLsOiRDXDS4MDgaYApoE0QMRBoUKcQuUD7ITmxMHFl0XCRTwEEgMTwd/Bz0IlgYuBT8COf+J/ZL4v/GJ67rkst+/2tzUg9LX0OrNPcpAwou7frmltvS0xrI6rriuCbHSsCyytrKBtCe9xMhN1uPm0/ZbBMAPQhkoIf8oHjEpNeU1gjfMOBc8m0IjRhhGekRJPxA43zGiK0cknx4IGwYXIhbUGLcZtBroGskUFg1bB7UBfv/QANUAIADEAb8EKQhRDRQQDw1BCXQFdgFsAvkFhghEDKcPeBGbE0MW7hdEF4wVlxHdC6IKYguFC+UNLQyHB0sFEf96+DD0SOxV54Xj2tvo2NzWxNPh0xrOecVwv0+39rP4ssmvNLKbskGxLLUqsyuyTLeGtly9ys0I2qvsHv8FB40Tcx9xJHksBzHeMWE1SjbsN108mkFESUlKA0UsQYo4xzBXLaoiHBs1HAEZghjjG2sZOxrwG7ETAAqTAmv8cPuE+7r6gftv/lgEnwfQB4cJqgeABHcDC/9L/p8D1AZ1C2cQ5xLQF0kaURkzGFcUcRKHETMOfw6kDqoNtQ7kCu8FbgGy+JjyZ+t+4u/fj9oo1uzXI9PMzxfOLsPdvBS5TLKvszi02bKXtfiz7bTYtq6zKbfYuYa+CdFH357t9wEvCsITbSCsITIoVDBMMc82IzgUOM4/nURCSoVMA0W7QRg7XC8BKxcjiB2QIVQe8RqMHO8ZoRpDGUoPJgdc/3X5jfjG9d72P/zz/a4ADQLH/9wB3AJ1/jH83/tK/QoDVQhFDGcSKhjmGisa4xatFQQW6hSoFKwTYBPbFxgYnxIEDzEIPwAs++rwl+fD5K/gV9012gPVANOjz27Ix78QtduwubIPs0m2trc4tQK3qrX4sEqxpbEOthDCcc6y3m7xaABiDkkXzhqsH1AjkifuLsgzAjkJQVJH6EyCUGdOsEnAQzI7FzI4KgclRSSQJRMmcCWVIg0fERtSEjcIyABz+Z/2Avi49o34+/zu+wz7c/ps9vr1v/ZY9Ob08fhq/kEF+gorDz0S+RTLFv8U7xO5Fj8ZJBwvH+AeyR4zIDodSxYVEOUIKAGd/HP2zu5Y7OnoTOJr3VTVwszYxy7A+riStEWxQLM7tSC1nrVFsS+ulK1PqC2owqvkrzrAxdJs4gX2OQEDCGoRIBP2FoEf5SQyME86tT69R35N7FAjVVFPRkhGQy06OjaQMjQt+C/QMDIuXSxbI1cbuxYODYMFbf84+cH5LPoG+dH50/cy9vHzfe7P7Lns8e3X8rj0zvds/uABlwb8CtYL8Q9NEycU2BdhGx0gzSX6JjomzyMyINodqBinEqMNrAbBAcn8rfVp8abrm+P72zjRfciIw7K+Zb1xuxG4p7c5tA6xRrBnq9+pBarhpTunc6r/rie/4dC64OLxLfop/wAHvQsnE0gdAyavMc07f0LVSERM9U9vUuVOVkoBRac/iT7xPEc6pTlZOPw0PC6VJJEa6hFKDVoIegHM/jv8PPmm+cj1ifCD74nrvudp5/bm3upO8UT1ePgD+gX8R//qAIMEXAkHDs0V6xtEHyMk4CbYJikmGiPdH7MebR0qGnsVihAWC7wFiP+V9nvt1uRq3KLVcM7ZyNbFk8Gqvuy6gbQ8sj+vBaoTqEyjp6AfpFCkxqfprhq1vMTX1Fjfxe1U9mL9Qwt0EcIYqyaDLjM6YUVZRuJLBFEpUYdUu1E7TQxOSUpMRwpF0T5RPns80zO7LNQidRnEFagO8walAtH9p/oC90nxee2Q6hboDOX44PLgcuQx6Pnrsu347pryUvZZ+W/9eAMUC3ASrBdGG4gfsCNdJm4nwSVkJRcnzSQOIhUfExjvFF0RGgdQAOz4ce6n6VLiBdnd1LfNWcdxw/K7ari/tNqtNqwcpyShXKJ5niKcrqD4n1OliLO2vmzO093G5I7tb/Yj/uIJNxVMIp8wRzoGQ/xHC0piUdtVWFZLWZxXGFVSVllSBE5uTatJ20T0PVoy4yjZIUgbMRaHDzQJWATA/C/1Ae+R6HrlLeN33pTcBd1s3Y/fL+C4393iv+ba6k/xF/cK/t0G7Av8D/wVVxqSH0slkSaiJ3gqWiraKKEn9iOCH2kcFBfxDo0IlAKH+i300+0N5PLbr9WKzT/HIcOkvHS1Y7DiqlqkD6Evn/Ga+5lXm1WZiZ2Cqlm2lMQM1Fna+98T693xNfmuCEwXJyUlNuI+yUBBSCdPVlKVWIVcW10hYVtiU14sWjpYr1aSUY9KFEKJNukvPCs7IPgYUhRACi8Dzvvd71rqred04f/cr9kK1zrXXtdk1aDTDNYy2y7gQuaC6wbx7vg4/qoCMgmUD+4XYh5bIG4jIibvKOYrdiq4Kf8oWCWDI44d/BXNE4MMpwPS/Qjygel35dvbsdQYzz7Gd794t9Ku4KdIoSWfVZtflbqVqJQfl9GkQK5WtsDCxMbDyjvVDNya5pL4bQgcF/0jESvJMJM4eEEvSjBSTFrQYMljIWX0ZEpj7WOKZCVgjVpDVYBNgkbsP1A2ji2eJoYdDxN4CaIAvvhk8lTrTeLG2zrYONRP0f3Od8xCzbTPW9Ed1DjYE96+5A7qgO+z9YT8WwRKCl0ObBTkGkAfDiP1JOIkWCfRKBYm0CREIpUcHxnTEq8KpQah/wn3xO+P5aTezNibzwnJaL9VtaWwTaddoF+ecJdHmDWfR6KCqzmygLEKtsq6q8D0zI/ZY+ja9uMBfgu+D1oXmySPLlE9GkvaT61Y7l3lWzdhd2XwZoZtFW2UZk1jgl30VgRTp0vyQWE6IjKlJ4ceDxYvDKQDcfpO7hnlUuDi27PXzdNyzhnKccnyyNHIfc2S0/nXtNvc3dvgDee479b3WvwaA6IKmwyxEXwWDxYZHbAiMyBQIkMhURzrGyMY5xOUEBIK+AQf+8jxIe/O5f3elts7zbLE4MAdtVevqKqYoiWj0KecrfGxSbKms0axs7IUvQ7E9dHN5KzrrvJq+Eb5MAXIFIgjXjR9PctELkrhSbhQMVi1Xc1pnm1yaSJo5WFgXDpd61pYVcpOYka4PFczkizmI10ZiBE+Bsv51vP97SvnnOL/2jXSL84VzHTKe8xZ0HzSidNY06rSx9Uy3anlsOx/8v/3P/tV/qIDEAi7Dj4X7RnVGv4bahmQGDgZJxf+FXIUKw+aB87//PhF8pztYukb4PLX7tF1x2O/X7mrr2GtMbPRtZ63Qbi1se2sLLHKtTG8DstL1iHbH+IX41zjfvEbAnYQfSDaKEssCjIsOLZA50pCVlBg3mKYZCplEmDfYFhjR2DjYNxdL1TPTZ5F4TziNtAtvyWPHMUQdwqTAgP5D/TA6SvfedxN2DTV39V102fQCM9uzp7OBtHP1xDcLd3C4RLkg+Yq7yz1k/nRAA8FZweLCqwNKRCIEf0TQRQJEnUSAxAYCzkImAI0/a74mPKP7urmbt9j3ALSQ8lexI64gbnkw3rDqsRjwAGyD7FAtr66dMdp0cjXYdw72fvYJ9+261EBkBApF5cdzh7TIYIsUjZpQZ1ORlZzWMxYnVi9WO1aol3cXD5bLFoFVmNPKUcsPu82sDFXLZUmgh2oFaQMsAKg+vjyxu0m613nIOKX2yfXndVf08TTqtWf1UzYIdp72FjaVN5Z4i/oaO2O8dD04/e7+2z+tgLGBzEInggxCpYICwiICKYF2QJ2AXz9bfjB9VXxGurt5XDh6Nln1DvNHcZeyG3NxM4Tzb7EcrzOvCTBUMeOzr7SstW411LXAdqM4pfuTfzuBYkJBw5yFO4aESRxLcI1xT+ZRzlLOE33TepPI1NPVQpX3latVdJT/UwMRZs/hDrcONI2Sy5hJe0dwRVGD2QJ1QNf/6L5PvNt7GblA+Ll4HHe9twa3bjb8Nnr2YDZ7dns3aHhbOTJ6Efr/+sn7mvwPvSG+sn+WwBVATQBBQDj/oj+XP+jAHUAY/2U+LT0XvEg7d/p3+bH4bDc19UMzh7P0tQV1bfTq849xevDOMnEzNfRedea2I3XtNjG2/jg5usd97j80wJSCEELwhLHGrQgkyoHNE06LUCLQ15EOkWGSKpMw04HUlxT705tSsNEdj5wPVI9jjr/NJ4scCWPHpcY6xQID4wKAgc5/gD34PLr7eLqyed95Lfiq+Eu4lnf2dt13qrfXuAa5Ozj9ONR5h3n5Olm7SPxffTX8wH17vbB9k35svh/9m748fb49D70q/DG7zXtIOnS6Cbjl97G3e3U/dLU2ePYw9my2b7PLcz+z1DTodkz3jreXN2D3UnhYuZ97Lj0sfnU/UQFyQpkD8gWsxxRIBAnZTD7NmA8zUAZP589iUKqRt1JyU1CSz9F00G5PUg79DxaOw01ki/BKVAiCx6bG1gVrA+/DWQImwBt/CX38+9N7XvsJeoB6jfqLOY/4ezfVuE+5FDndee45YzlJuYj59Lp4Oxv78vxOvNn843zqvR49DrzyPQm9r31gPY588/sHeuc6RjoVOth6qfjVt8J2tbTT9YF3nrfmNwk2uXTKdA81/zcXN3M4THkX+HP4mHnLusX8fX3x/tz/n8ERQs1EPEVyxnCHNwkUC2NMsU2sDdbNzc5+ztdP89BGUN1Qjo9NTnSOAI3pjXEM00uninlJeIhlR6lGWUUaxBwDF0JAQXe/lD6mvaB9Cz0SfKI8OnuCutY6Bzox+gm6lLqmek36U7oq+iA6gfrweuH7fntiO697/Puo+5Q8ErwDfBK8QPxZ/B/7wTs1OnT6pHrTupN6IvnJOUU4Z7gYt+t3cHi7uRd4RviKuA/27HebeOn5CDokuoG6ivqO+zy7szxEPhf/u3/8gOlCf0KxQ5sFPkWXRx7Iyon6CmOKwwrkSszL2ozYTRCNKc0QjKTLzMvly2jKyUryyicJGsi5iAeHC8XaRXpEmwP+QxBCZ8FUgMoAOD9aPwZ+gn5YvcB9MXySvIb8TvyHfMb8QvwUvAG8L7w5vCw71LxSPMe8lfyKvMM8mLyzvIb8snyBPMX85Lzu/FS8JLwDPCm8IHxC/D77cvsvewt7Pnr4+7a7hnqsuj16T7rPO3x6wLq0euv7JPspe227abvuPMr827wavN7+L35DPuW/VX+8wCjBlsJwwcICJQNhBH7EYMWbhkmFwMasBupF3Ib/iCbHp8dxB2fG8EbWRsHGYAY4BhyF7UTCxLHEvMP9AzZDNQKYwklCscIRgYNBKIC6gKSAjoDHQUsArX+HgGqAe7+pgDjAa7+lP5NAKH+B/1b/Vr+pv2s+s76Ffyw+gP8B/xt93r4nfxZ+7j4hfcP+DD5wvf19rX3GfcY9pH0r/Od9If0SvOa8RPxhvK38dXwI/I38fvwVfHa7qjvy/HY8BzyBPMb8Ubx3PJF9F/0s/Oa9cD2kPZK+O34BvqE/Cf8//vs/L/9JgFuAkEBmwPJBKcD+gXeCEkJcgk1CgcLRwv+C8ENkg5kDoIO6g2JDAgNTQ7hDCEMtA3IDLkKBApGCR0K2QqFCe4I/gceB8wHAQfwBj4IdAaxBCUFWQW9BV4FiARzBEEDPALrAkQEMgWCA5UB6AFFAQIBYwIVAlAB2wADAIMAjgAy/5/+nP6R/nD9D/x//a/+pPyX+t351fnB+b74ZviM+LD3XvdI9+z1UPUy9gr2tPSs9I71/fXc9tz2S/U/9fL1FfbQ9774m/f491b4sPf8+Dr6M/o/+6b7avqf+tb8+P0h/en92f/r/mr+cgAYAZIBWgJVAesBfwPuAjUDKAQNBJMEtATxA7cDQQRuBUYFmASFBcUErgOlBQMGzwSzBZsFdwTaBGcFDwacBp0FwQRTBb4FfwWZBX8F3QReBZMF6gM4BBkG/QRIA2wDzQIzAiQDDQO4AbAB4gGYAHz/MP/8/j3/9/4H/g3+0/2D/PP7Tfx0/MX74fo3+6n7DfvC+vb63Pqp+s/6Zvuh+3n7lvuK+8n7i/yU/G/8Ev2o/X/9RP2+/cL9eP25/h//+P3o/vP/8v7L/g7/+f67/+j/qf8CAP7/yv+A/3j/RQAAAFT/OQCDAO7/BwDa/9r/cwBsAIoAsABRAAEBaAFrAPwAGgKdAfUBiQLsAYsCIgMwApcChwMzA2UDsQMiAxgDfwNuAwkD0QIXA1ADBAOOAlMCagKIAjwCiQE5AXoBMwG4ALkAUwABAAYAYv8W/yn/sv7S/u3+Wf56/qn+QP4Z/j3+gf55/mj+1v7O/qD+1f7D/i3/u/+B/67/CQACAEQAdgCuAOYAmgC2ACcBIwEeARMB3ACSAFkAdwBuAHIAjgDJ/3H/AACF//X+ZP9v/y//Dv/R/u3+Cf+4/ov+p/7Y/gD/Bv8K/yj/Q/9X/4v/xP8HAHcAhABhANEAIAEuAYEBYwFIAfgBJgLCAfABHgIMAi4CEALvATkCEwLGARcC2wE2AXYBiAH1AL8AkgBoAGgAFgDN/27/Bf9X/2D/wf69/uT+vP6x/n/+X/6w/tz+rf6x/vv+Cf8X/1D/PP9n/9z/2v8VAH8AaACCAKMAtQAZAQgBCgF9ATQB8gA+ASAB/QAFAdcAqwCXALMAmAAWAPz/EwDf/53/cP+U/5H/If8M//X+qP7M/ur+1P64/oT+tf7t/tb+6f7g/v/+cv92/3//w//Q/wwANwAjAFUAmADlAAoBygDdAB4BHAFEAVcBQwFTATcBFAEqAUABKwHFAIcAxgC6ADgACwBBABgAj/9q/23/Qf9j/0X/rf60/g3/2f6O/pX+vv6o/lz+if4A/+r+kP6h/uX+9f4P/0T/Wf99/5P/cf+P/+3/FgAPABMAQAAyAAQAUwBqAAoAJwBDAPX/CAAkAOL/tv+Y/2//df+W/3n/Jf8Q/xn/+P7//hD/9/7v/vH+9f7n/uX+Qv9t/zL/Ov9a/2z/pP+8/8z/2f/L//r/JgAdABoAAwAsAHgAQgAOAEYAbwBXAB4AJABjAGIASwA9ACoAMwAdABwATgAmAPX/8//Q/+P//P+1/5X/t//A/4b/Tf96/4X/SP9t/3L/L/9d/37/O/8q/2D/i/9p/1D/if+P/3j/mv+X/5T/y//Z/7b/of/E/+z/y//G//H/8//5/+v/wf/i/wAA8f8AABEAFQACANj/8P8pACYAAgD8/y4AOQD3//v/MwA5ACMAAAADADQANwAqACMACgANAB0ANwBVAC4AEwBEAFsAYQBpAGYAeQB1AGkAjwCaAJUAugC1AIQAhAChAKEApACiAHcAcwCWAHcAaQCGAFUALABWAFUAKgAzAEYAGwD2/xMALgAlAB0AAADm////DgABAAwAMQAYANv//f83ACIADgALABsAOQAVABIAWgBIABsALAA0AE0AawBcAEoAUQBrAGEAOwBjAIsAYgBLAFEASQBFAEYARQA7ADEAMwAqADMAQwAwABwAGAAqAEAAMgArADQAKgAnACkAMQBBADkAPABAACoAPQBVAEsARAAyAEEAXwBDAEQAVwA2ADEASABPAEkAOABKAGEASwBAAEAATgBeAEAAOwBIADAAOwA6ABcALQAvAA0AEwAOAAcAFAAKAAQA/v/y////AAAAAAYA7P/m//f/5f/h//b/7//r//b/8//y//X/7f/n/+v//P8TAAgA9v8DAPz/5v8AAAcA5f/z/wEA5//o/+3/2P/g/+n/3P/n/+r/0//W/9j/yP/S/9n/xf+1/7P/tv+x/6n/rP+l/5f/mv+e/5f/lv+i/6j/mP+U/5//n/+g/5v/i/+Q/5n/nP+f/5v/o/+n/53/pv+i/5P/ov+j/6D/sv+g/47/pf+q/5v/lf+X/5b/iv+T/6b/mv+X/6P/mv+O/4v/hP+B/3z/eP+G/4X/Zv9m/43/jv91/3D/X/9a/3j/ff94/4f/f/95/37/bv91/4n/cv97/7P/pf94/6H/xv+q/6b/s/+4/8j/sf+8/wIA4v/C/wAA2f+6/wwADQADABMA2v/9/0UAEAAHACkAIQAsABsALQBhACIAEQBuAG8AUABSAEsAYgBSADgAeACCAFYAcABvAFQAaABhAFUAcgBjAFUAgwCBAHAAkwBlAC0AcAB9AEwAZwBiAE8AewBeACEANABQAE0ANgAvAEcALgAkAE4AKAABADIAOAASAAUADQAMAOv//P8rAAgABwAeAOL/9P8mAO//+P8lAAUAAQD+/wcALQD1/+n/NAAMANv/AgAwAFQAIgABAFMAPwAUAHEAdgApACcAQABoAIIAXQBCAGAAdwBlAIsAsQBSADoAkwCQAKgA1QCXAIIAiACNAL8AmACNAMwAlwCmAAQBwAB7ALYA+wDxALEArQCPAGkA5AATAaAAggCYAK8ArgCKAMIAtABjALsA4gCAAHUAuQDQAGMANQC4AI0AHQBIAD0AgADRACwADwB6AD4AQABpADAAIQArAE0ATwDz/+7/BwAAAD8AFQCe/9b/FgDr//v/FgDg//T/NADR/4f/7P8CANX/0f+y/8P/6v/h/9L/rf/L/+j/rf/9//L/P//T/2YA0v/A/5j/Uf8KACAAcP+P/+n/3v+x/8n/EQDK/5H/5f/b/7X/1//n/9P/df+J/yMA+v+M/6D/mP+r/wAACwCt/2r/zv8EAKL/rf/G/4b/nf/D/7X/dv8r/47/0P+F/8b/xv8w/2T/xf+V/5X/qv9l/zT/bf+L/2//d/8g//n+p/+G//v+b/9T/9L+XP+8/3b/Jf8P/1//Ov/s/kb/OP8E/zv/Df8d/2T/If9E/1//+/4m/zz/Av9S/3//Vv8w/wz/MP8H/+z+kv9h/8T+X/+S/x3/X/+C/1T/SP9c/7//Uv+o/nv/yf8k/4j/c/8I/+f/uv/F/mz/xP9S/87/8f9u/5X/n/9p/67/n/9m/6f/ff9n////3P+C/9X/xv+5/6T/TP8oAGcAMv+1/04AXv+c/wAAt//e/1//n/+WALb/ZP8MAK7/NACJAG3/rP8YAGP/nf83ACgA1P+m/wgA8v9v/+j/UwC1/2X/RgDgAP//d//x//P/BQAeALn/5/8HAOH/VQBNAPX/DgDR//D/lQBhAMn/8v+fAJwA7v/8/1oAFgALAH0AgADw/9v/gQCrAFYAhwD8AIgAlv8uABQBMgD//9IApwCoAJQADgBtAJgAjQCrADEAlQA0AcsAugB9AFcA0gCaAIQAdQBHAN8AjwCYACwBBQDEANQB2v88ACgB5//wACoB8f/nAL4AbgAvASwABgCiAGgABAGxAEQArwBCAFQBlgGA/0oA7wCc/5QAvQA9AJgBgQAI/2EAdwDr//AA2wCx/xAA9AAtAMz/vQBEAO//xgDg/5z/CAFiAO//sgBK/yz/uwFIAWn/JgCVAEEAjQDU/8H/nAD+/9YA3AGV/7L/kAH5/6r/wgAAAGAAcQDc/+gAZgCw/1AAf/8AABUB1/9FAH8BbACq/0cAlgCQ/8r/QgHJ/3b/PgGk////FgKx/yD/vgAiAIAATACY/0kAa/8EAM0B5v+6/iwAAgHQAF7/NP/zAL0Acv+D/2f/nv78/wECCQAt/u3/GwHvAPD+if1fAIoAIf9eATEAIP/TAez/cv43ANP+9P7QAL7/SP9rAKcAMv8g/4IBYQBb/hcAKgDo/lX/zgAWAkH/l/3vAFQA7f0U/zYAdQEJAH/9LgAtAU7/CwAz/zL/fwFR/zn9lP9BAbkAW/8X/1QAbgBI/wz/aQBaAAH/pAC2AMP+fAHCAAD8t/6cAa0A7QBI/gz/BwNB/iv9wwP5APn7zf7MAMf/SP/A/1b/1f7jAIYAHf7V/t3+Q/9jAP7+pgCGAU39sP0XArAC5v2k+6MBTQES/VkC6wDw+88AiQDQ/yUCIv1n/0UDFP0o/2YCQf1V/h8Bx/8VALgAuf8c/tj+dACgAS8B6vpN/fQFif9c/iIDePpP/8oGGvzd/w8EOfolAE4F1P7O/kT/AwEOAiP/NgFv/7f+GAQUABD+2/8G/hkEJQJa+mIBJQLt/hwC9/s//nYHcP+/+9cAef5ZAGkEef9y/L8BqgJa/tMBAgCR+ZEEOwUx+qsELwEk9SEIPAeE9ToDTQVc+hkFCQOR9hX/AQds/3T7MgQKBPH5hAAxBIP7dwHRAV/7AQQgABz60AT3/6T6qARjAbH7hwBMAhQAlPz+/pYD6gCIAZYAPfv6AGAE/f1J/k3/O/xWAC8FU/8c/VwFIAKr+9sBrf1r+t8HNQUF+nn8NgD0BewCYPgn/w0CCfx9AtcCY/7K/8P8mwG6BQX7JfvrA7oBCP4VAMIBr/7W/TIAwACxA5D9kPjKB0sDPvY6CEoF5fSoA7ECgvmzAsL8Cv6KB037s/77CVT/l/y7/qf63QA3Bsb+5PmnBKEFcfKe+nwOlv4A9WwDvgby/RD55wflC0bxiPcLEIEAwvUXAQYHIAat+KH42Qbz/q79fAjS/pf4BQEqBSYBsfyvAdMAf/utAZb/Wf6ZBYr8+vuYBDT6fP6IC0v7SfV0C9IFE+1nAagTy/T495QPBvvQ+x0Ei/O2C1MSQu8M/VwKOfvvAYb/3f8lCtf33/UjB5QE7wCD9+T54w/wAcTxVQZOCb/6b/pzA3QIoPoe9nEI9ga9+tT73vs9//oB8QEACpACbvZzATYBIflRBe8DZfhcAQoFu/33/QD/XQVwCiD6ye+O/5UIJwNzBMoA/fSX/WkLqf7E9o4IewtN9y/ziwJrCLoD9gGd/kn80wGyBNUCPf95+l79E/6j/LwJXQYP8m3+SAgB8xT5yA2XA1H7UQDl/mP8sPcw/ccPvQN+6RT9hxUg/K/opQILEvn+IfcGBL0C9fc+A/sQIf+T7pz9OwkmBb4CkPuO+20G5AErAfUIHPa17tQJjAif8/f+QQou/lX4q/tuAK8FpP8s/EEGn/7T8LcECRaTADrqF/QODfYMUfeh+HoC1fly+8YEngJIAj7/u/oH/qv7tf1iB3oCz//zBsn9U/ShAngOSgEl9H38igMVAJgDdwNe/eQAm/xf9UgElwod/nr+N/lM70EHiRMA9fXyaA0OBur0fffLA+URz/+05jT/bQpk9fkGABPM99XuO/srE/oVzOlD6WMVPA3R8+H3JgcRDpL3PfERBOP5vf1fE/MEo/Zn+NQDVg2+94X7Ug77957//wsx87cDdQh/7r4DQwSo8oAL7gg69Dz4g/vdBxAH4PP1/gcQCgQ761/y5xzIEVjkoPezEqsFwvp58bj/IB0eA7flDQYyDjftCQLvHeT3gemDBUkDpQGeA+3y/QSEFnL2TuyABA8MnQWM+UDwwf5mEn4El/GeArEG8fTQAogGwvEnAscXSgpk8sznhQDkFYECzfbQ+qkAsQ+vAaHosfj3CwcKtgPd98/xDfhHCRIVPfxb7EML4hFy89/vxAGAD4gQ+vUH6cMGNhCY/dsDxgFK7CwA8xYJ/yT2PgY2A+AA9gF39VD4NwZpBMQD4AB19Bb9bwrxAagBxQQ4+p36DPyP/PMOCAto9Nv85QMa+Xf/VwRG+dr3ugOmDDcHjP4B/9T8o/ju/TcIZApn/rv46AB4AJ7/ygeLBen5GvLC+YULEQzxB9EHBPON7EkJKxEK/qr1Hv68BzL6Xe5kCOQTHfhs8IIBBAkUBxgCFAZoC4X5ZfCjBy8R4QIBAdMHKP1R50HuLRfAINH1g+CJ/JkLsfoD90b/0Pa2+HIPzAnm7HLzsA9cC9328/bN/xcK5RHHAwj3v/+MA3sFPgdV9Mzvfg1AGRcBfe2l96kKygt9BKz8UfOR/GIPaglI+A/5WgRMCJn85Oxk9q0OQwy5+y35yfdy/voP7Qqe+dz2HftlB1UPFQBr9S8BwQgw/7r4gf+kBGUHgAWt8jLw3Qk2DLb9aQEZ/dfvBfuaDT0JifYk7wn/Og7h/yjvRP7kDYEBFvIP8wb8dQJBCkgNOfZm6IwEnBBE/5z/WgPO/u7+Jf8zBR8B5fRFCH4Sju783hT+mBZGCVf18gDoB8vtLurVCykYOgBB8c38mwFo+Y79YwcLBFz2DfWzBcQFavsgB7YMy/8M+J/1egMRF/UMFPnk8tz1hATkC8ADqQHV/in1OvnjCDAMNP+X+boCmAGn9hH8VwtEDHn8BfDa+RsHIgC2/TkJygM09+78zAX5A077rfcy/7b/MvtcArYFgf6D94r3CwMDA4740gcDFY8CxPYd/O3+6gD6AzcGNATa/Zj5h/i6/DMAlv3y/9cAKfyCArIGY/x9+psBR/1d+MYEcQyK/wf5H/0R/Cz+mf+k/k4GIwWr+Jj3Ov8qA7j9YveK/n4Fkf9w98H4VgKQAWv82gXQB0kAjgVfB07/efwsAoANIQw0/5z99f/b/zv/svfk9Vb8nwHmBzcCw/XE+aH+jPgK9iL5qP96B+kHff3682b5rACS/J/5GvtG/+IGLQZb//n7FvqZ/Gz+QftR/2kH3QclAbf4s/p6A5QBm/1YAcgBlgHxBfsCmftr/Kj/ZAATAOf9HwL4BrH9Tvj5/ykD4wQzBH35f/YR/WX/pAFKA2EAmvwb/KABQAKQ/EAAjQMt/af7F//yAvsG/QPw/fD5cPh2ADAKHggWALD82P/tALf9/wCSBa8CGwFjAtYBSgCp/5oC4QE2+5j7SQD6Ap8GfAJi+jX79/u4+zoB+AOSA2ABxvlx+UIDygWBAZUCMQTV/yP+4gKrBHwB1v79/g8CnAHu+wf9xAMHAqn7A/1AAkIC6v9lAOsAkADYAiEGYQTW/tb+WQNUA+AArv6J/H7/YAPDApgBW/8s/+4CCQEF/iED4gdnBiwC0//eAe0EqAZhBeQBQgIkBFIENAR4AcoAtwF6/Q//EAfEBjgCcv/F/sAAXf7P/CACdgLa/xgCLwEY/IL6bv4HAnn/w/xC/n//x/+N/kH9Hf+FACsCegWMA9j+HADNAtD/gf23AO0ATv93BHsG7P9G/c4A+AM4Ahn8E/xyAcsAW/4A/1f9n/vR/D79uP0+AIECHQOTANL6Yfi8+/D+rQBGArcBn//B/TH9rv08/E37Kf7zABMCSQCE+zP8hACM/kP8R//sANP/Cf6e/If+9gAIAQUCZwJHAGwANwMNBOwB5f/UAA8DsQT/BVAF3gOgA2kCeQIvBSkGHAZFBjUFuAQABQkGVwgeCTUIYAeuB4sIKgYRBD0GdgZcBYkGiQbIBxcKXgexAzoE2gW1BSYFYwWxAzgB8QBC/5f9/f4C/7T+pf8P/uL73PoL+mz6jvrd+W75d/kK+kb4UfS58U/wIPHW8nnxrvBn8fvvue467qnt5O5I71vtaOyo7FHt0u4p71Dt7Oys78Px8fCm7jbt4O6X8uj1vPjn+tb72/vZ/Kn/OwH5AiUJDQ83EJQPng9vEYgTMBQHFjYZ3RsUHm0eIh0LHAcbRxqAGdUZAB2aHlsb+BbOFD4VChYOFZETHxItEIQOsw2eDgIQhA7cCyILYQpkCIkHqwgSCZQGogMuA74D/wIjAcj/r/9N//j96fzB+5H6APr899P0JfP48CDtf+tS7Ofqtebz4/jiy+Cr3dfaf9kg2v3YMNbg1bDVrNRx1W3Vk9Q/1QXW6dfT28vfF+Nq5v3r6vCA8YD0avvLAAoGBwnYCcAPXxbOGCYaQBkLGdcc5R+uIbAj+iSaJGEh1h5IHdQZvhnYGzwaPBjuFHgQIhFnElQPSAuWCJkJrwwtDRoLgwi5CKQKXAqkC2sOgg63Ds0NEAsVDLMN/AxPDjMPhgwOCxcNKA5CCwQI6gfsCGUHQANWACT/Pfy09xLzPe927Lrp3ebY4Qzdgd4o3wnbmdmt19TT5tFnzkbNDM8jzQfNPs4WzjXSgdTS0qnRIdAl1wjkg+lG7ODtgPKHAL8H8QZpCkUO4hSNGsEZsR7WJF4mMikxJeYfmCJMJFgmDyXSHLYbwh2HG1IYWhAkDM8O/wsVCA8HoAfdCxALgwaZBr4GaAcbCWMJfgz6EKIUzBbwFe8XWBuYGiQZORfCFiEZHBhfFfcTlxKDEm8RvA7qC8cIdwdwBVMCLgHg/eP5IvdH8n7v2+1y6qDoXuZQ5DfhUdug223d4dpp2wnakNh32wXYS9Uv17vToNMk1ijVtdjM2ezU8tE20bXZX+fe7cbyvvVK9+T/UQdHCjcOthBkFZAbqByhHf0hAiaOJT0g9RuSG3QeOyDyGmMVBRQdESMPuw+hD+kOZQxjC1MO0w9AEIERbRH1D7QN6w50FIcWJRU3FggZcRqZGUAYJhh2GGwWfBLXEr8VKxSiEaQP9AtvCQ8GuwLlAvoAbv7n/i7+0f3j/ev8kP1b+8H1u/F07pruo/AE7ivqReef5G3jEOEj39LfBuCf3jjazdXG1bjV7NOa0RPQhtM91tvSEM5QyjfORdt+5VnqVO2x8Rn8gAT+BhgLcg/eEyoZKxt0HXogBiJHJXAl5iADHZMZnxnPGpMV+A85DpgOjhHAEC4MEQtTC+EL5Qs6CRoLeRIiF/4WyRN1E/IXxhhzFuIWbhf+F4oZ3RhLFvASJBC3EKsQ6AuBCDsKCAulB8QDtAJ7BHQECABX/WD+m/5b/nb+WP9FAcH/gPzY+nP2VvKC8eru0OtO6GXkX+WR5VvhYt8h3ubbY9mN1LbQSM7My2PLk8rNyfPJOMhLx1PGlMe30qLgAOyZ9mj+4giaEkUUDhepGT0aZCAWJVEoyyuXJyEn9SriJOQcnxVzD3IRRg+2CCEJrwnkCsoM4gg8B58IyQhfC+kMZQ4EFPAYYhu2G60b6B0YHwIeMhv2F5MWAhRIEu4SbhCxDcgKJAVvAiIAxP4sA+YEyAMiBIQCOgP2A8L/E/5q/lT+zv8v/17//gHHAF/8X/fR89jy2/B/7g3tp+rb5mbhJN6k3ebaWdhG127VhNLsy6jGHcc3xrbDS8K9wG3A4b96w0fSpuXm9u8Esg8bGWUevB+cIfAibiQmJ54q6i6PLloqtycOI0QbUhF8B8UE1AQaAi8A5P7XAIAGaQnsCqcL+Ap3DDYN8A0YE8kZUSBkI9ohlCGiIGQcohedEgYQww5iCxgKkwoBCeEFmgFd/+z/af/r/q4AJAQ2B84HTgfnBtgGvwZmBaQEtwPeATsCLAIQAZEAZv37+mf5evSt8VruMOib5gzmb+bq5wnhK9ra2DjVutPT0YjN6s6OzFHFksN9wVvAlMGqvo3A38k61nTqvv/5DjEbbyJGJnQoriZ3JZwmkScOKOknwSj0J/shRxrxEYcJrgFI+GvzUPYj+mb+PwPHBz0PKBR3EicRtxF9E3cXtxkmHGIifiYsJnkjWB3LFp8RfAujB88GSAW8BA4E4ACA/zcAHgF0AnIBwwFtCOYOLBFQEZgQ4xGZEV4LyQVAA50AaP+D/mr9Pf6I/ZD7Rvse+LPyxe+07O/pv+kf6o/sh+6f6l3l+t/Y1+DSQdK70N/LG8ORveS/ksA0u9y23bgzwLTIttTz6KEAFRTqIAwrGzQRNQAv8io8KpYrsCrrJHkhyB9CG6QWQQ/NBB38OPSZ74Xv1/Ar92wCugxFEzoVdRcMHJAdoBtaGbYazR/dICMfJCBYINkdcRfkDt4KSAeAAXwAvgIpBKsDBgGxAS0F3QUmBhQItwriDZMQ7BL4EikQDw/xDp4L3gSY/kz+HwBM/eb64vzk/p39KPn69Q313/B3603qmurQ6MrmAeh46tDnKOHS3ALaUdNoyC7Arr6DvgG9Tb1ovQ27c7ruwJ7QQ+Qt9vIKHiIHMOAy/DFfMecxAy/SJ+EjeSGuG7gXYRatE1gPQAf2/Df1bu496ursXvIc+dYEIhKiG94fgR/MH8ghph5gGDcXrxpLHt8euRzBHBgd9RY3DOwCaf1b+sD3UPcg+6QB8QcmDA4PAhDlDYoM6AzVDHIN9A0BDjQOtgvUCA0IfATq/cb4iffH+ab6wvl3+9n+xwB2/3L8Ffrn9D3tmeeZ463iOuQ25C7kw+Gr2t3Uc8+TyKfEp8Fnvne91rxMvQe/nL64wc7PUeWR+0oPrR9NLXM2WzjoNWIzGS9fKPQhzRpmEhEMbAkLCucJ1gMh+1b1hfB/65DqZ/Cl+z4IOxKOGpQimSZiJhEmlSQ1IBwbjhYhFPcTpRMxFdEYrRfxEOUKxAeGBcoByP0X/8cF7go9DWIQexOMFHkUhhObEXQOUArfCFYKkQiLAxMBSAFzAQoBAABH/03+zftb++39k/0r+hv5x/kF+Afy8unJ5Lji2t8j3avbA9j50kvRHdKZ0FvKksHCu1G6O7lmuIW5F7v9wOrRK+tbBPIXoibyNJw/Dj7uMkso7yFlHrwashR8DicLQQpFCvwHgACR+L717PS68jrx9fMs/jANehn2IcooLSxmK7gmvB4aGP4UcBIMEJoOKw3CDOsNlw4kDmQMCwnDBn8GXAWJBFwHHgybEBwUWhVkFTIUMBDiDL0LWQg/A9//kP6e/3cBJwIPAwQEEQQmBXwGtAQfAVP/r/4v/Xv6avY68k3uGemo5EbhOtvj1V7VctUw0x3Q58+V1LTWTtC1x5fCZ78pvPy4wLequ/LHxtxi9bwKahpoKvk740OcPaoxYSd9IFUZjBBJDMgLhgmnCMoKpArVBIz7sPXq9Zr2kfVY+LICRhGFHwEr6i+xLbcoYyNiHoAX7QycBSEFbwbbCL4MFBB0EoIRBA5nDAILvQebBcgGuwohDwcSzBMJFuAYOhm1FcAPAQi0AXD+Fft1+aL7+f7eAt8E6gMfBdUH5Qe/BbkBDv4p/Un8YPkg9cLwiO2V6v/lRN+D2ZrXBtbG0knQJs/1z7vPq8pvxfbBvb0tu7W51bdKuTLB7NKO7CUEphbrJ4I3GEBLPuw23S8UKfAgDxfbDngK9QYaBsoIcAkCB44B0fla9T30nvXg+2MEsQ7LG7YmtSymLt0tNCuPJJcaMBE3CqUFDQKIAdUFzQnNCwkNfQy1DC4N5gvLCzML3gmPDDURERXrF0sYTRjWF4UTTAzCBHH/ZPwE+U72bfaJ+sAApwPLBIgHzwg+CAgGYgJcAEH9k/jj9pz0Tu/A6uTnIeak4i3dyNpk2QnUuc3Ry17NSMoPwk2+x78mwEK9JLrouxDALsYq2Pry+giTGCYohDr3RXpAvjUOMggu2CFsEg0KTAjTA+n+nABdBcQFxwD5/dj+3vvs+Nb93gcdEjkZSSCGKsgvyy0aKlUjdBmHD+kHEATZ/+n7tf67BX4KwAo8CsANSRGwESoRIA9XDVINjw6+EoYVmRQvFVQV+hHPCwQD1PyJ+vj3XfYp9nr3xvtLADgEUgc5CNsIoAj/BooEuf5a+IP0IPF47mnqteSy4cLe/tru2LTV39EVz9TMcczQyWPDo7/zv5jBIsGlvYq86r8GyTXbrfKMCtAfkDCbPrNFNkO3Pqs5JzE5JTEXIg0bB4kAMP6oAZwF3wZCBJgBOAB0/b/9SwOMCtwRRhguIGooRythK9Ap/yIbGd0Oogd0AwT93fjj+5YAAwQeBgUJzA3MDj8Ncg5SEFcR9xCWENYSDRQOFDYVKhT/EHYMjAbzAZz8m/dJ90v4vPna/DAA0ATIB28HAwhpCJkHxgXdANn7tveW8q3tpucq4rffotyy2U/YH9bo0m7N48lVzQDQR8yLxYrAhsDYv2i7UrodvjPGUdRQ5y7+ZxOjIzU0uUJnSLtEwzqHMYUpDB5VEk8IiwAt/uz+5QBHAvMA5AHVBOkE+QOVA0YGJw0pFAkcbCOUJucoJypFJ1QgYBbpD28NgwccAPv7YvyjACgEJgieDQcPTg5XD2sRSxNyEfcOyxB5ElsSaREpDwAOFQxJCNYEwv97+936hvqt+sD7C/7uAgoGSwecCTkJkAW3AGX8l/qZ9nbvlOoN58fjyuDI3S/eDeCp31Td4da1z8/Nfs5zzYLHrb+lvda9MLssuXG658CZy/DZKu8VBU0VcyWFOCxJo01zRMQ7VjhTMIkgiw5PA+b/sfyg+rT7Dvxz/Dv+7AGqBX4E/gNvCnkS1xd0GqoegycDLW8r0CZnIFwa2BOhC14FKwCH/I/9QgCbAxwHdwmBDdoQBxHTELcPBA+PD7oOyA6kD5APPBD+DoQLeAjdBDoCof8E+8P4hvm6+/b+eACzAuwGvAgjCGwF6AGVAN/9VvjY8TDqjOTe4Mbchdo22eXX4tbC02XRvtGU0f7Q587oyu3GnMEHvsK+4b6SvUe+Isbg19vrSP5kEwIqiz1CSGJJG0itRDU8wjDBIlMUSwc7/KH3qfd294b4wvr//aIBOAMjBskKog3IEPEURBq9IIUk9SYsKTModiXEINcZThMLDMMFVgJt/+3+5gBWA4wHZgtwDrsRmxKuEpsSShBHDtoM7AtfDBwLmQmoCV0IZAbbA0YB+QDS/2z9ivyv/GX/PwMRBYMG1Qb1BRcFhAEy/BT2ne235V7fT9p919HUZNQm2CHbJNtn2OPUrdM70QPM2sZEwfm8crtSu1m8P7xlvv7Kwd9n9fEHLRioKqI770QHSW1J00U0PlQyECZMGUAKV/+0+6f7pPqU9qv1w/rv/9UDQgeTCtIO4hFMFYoa4x2ZIBgk+iVqJSkhfxyzGgAXbBDzCd0E7wLYAd4AdwL3A2gF+wi1DKMP1g84DpkPdxHCENkOhQxDDHQMqwmGBsMDsgG8ASIBxf9k/n78If2B/0ABnQMtBZ4FCAWsAR7+Zvqp87Tr/+NU3gDbMNbf0ZLRvdOT1tfWhdQJ0/XQQM5HzCnJXMWBweq+ur+Ovw29Bb85ypLeJPXlBywauizvO2ZGYUsATRtLeEIRNjAoPBgjCdj9lfkd+zn74Pmj+jD9ygAvA6gFDguOD8cRvRPDFWEZ8RxNH5EiFSSBIoUfDRsXFwkTWw1rCYYH2gZFByAGUgXOBsEIgQtZDYoNRA72DSUNIQ0lDJULbgumCrAKxgk0CPoH2wYbBWsDawHpABEAXv6a/lj/8P82AMz+iP13+xH3MfLi6+zkm9/52tDXwNUE1K/UcdU31NfSXdGt0NvPW8wlyLbDSL9ovXW8jbuTvInBOs674OzzCAhmHFcvTz9USaZO1E8QS8ZCjTfeKF8ZNAsFAkD+nPui+sT7Bf27/m8AUQOmB/QJ+wvED/4SlhXnF5gb4SCgIgEhjR/EHdkbLRn1FaITvQ+rC7gKIgpbCBMGOgV7BzcIIAauBegGmgiRCXEJtAp5C50KGAtyC1QKiQizBtIGZAaOA1YCowJsAn4B4f8ZALMAuf7s/F37NPiq87PtA+mz5Rbhbt3+2hvY6dVg1HDU2NRK0lHQg9EW06/Sbc5myS7HSsVYw8DBAcAxweXGSNJZ4/P0SQaRGTwt2D6mSYFMAkyHSGFBvTb5J6UYWAs6AeP8Zvus+fr4YPqS/30FGwdeB6MJ9A19EoATMRPxFCYXkxnuGk0aNxr0GjEd1x8YHmwZ2xUpFFQTbw+JCaQGzwVDBf8D0AH3Ae4D1wUqCAUJCQnWCSYKoQqHCkIJQAlnCQ4JBQndB7wG+gWMBAgENQMhARb/1/sd+HH0hu9D69DnfOQp4uHe6tr411bVYtS41HTUStRz0+jSItQn1HvSg9CizpvN8sqFxufDcsJIwl3GudB24fPyJwLHEwgo6zmTRRJLo04KT2BIqj19McIj1xXBCn8GOwWu/7P5BPqH/+MDbQMoBMMJ7A0IDmgN1A69EaQSYhO6FqYYNRjTGMgb2x5sHcIZzRnbGoYYRRNgDq0MnwqsBZ0B6v8kAEkBqgHiAvoExgZ7CcALyAxsDdUMJQx7C3YJhgfbBcIE7wTXA7YBpgBdAC8AnP2O+G30ffCB63Lmw+FZ3rfaUtZx1F7Uj9OC0oDS4dQC18PVN9Ro1ObUUNR90f3Nm8o4xtDC+8Cxv07Bucg9117pZ/koCZEcdTGCQn1Lak51T25N3kbwO1QtrR4EE48LNAe5Afb7Fvuh/7EFQQhWBw0I0wrZDBANhwuGCg0LTQyrDnIQ9RAfE8gXRx1MIIgfUx9bITsisB/qGUYUfxAYDM4GvAHE/d/8jf4rAUIDngM9BQ8KzA6eEEAPqQ0YDp0NrQrgBlsDYAFoAJ3/Gv9l/Sv7f/on+kH4x/Mm7mjqhOdy48TebdrW14PWpdTS0q7R1dGa06HUvtPx0VXQHtAL0HPOKcy+yd3HscYmxbjEtchD01bjhPMFARQPISDrMTw/Ekb5SXVM+0oWRPc43ywyInkZRRPkDe0GYAAe/tQAUwRNBAwDrQQvCDsKoAmfCEoJSQrRCp4LfAyXDd4PORTkGY4dhh7LH4sisCQ4IzIeFBn5FD4QMwoGBFEAuf8RACsALAAfARIECAigC9oN8w0eDawMbwx2C7AIRgVDAyACdADU/Sr7nfk++Or1yfK37u7pU+XB4VHfSdzP16PTNdFv0GbQqdCt0dzSRNNR04/TCtRB1KDTLNJuzyLLZcagwhfBCsNtyUTUx+Fa8J8ASxOqJlY3UUNtS1RQ5lBrTBFEBjqWL+0khRoeEUQJygNaAXEBjwLBA5QFZwjoCrMLQwvtCqwKVwniBugEvwRWBhMJogzmENMVRBvVIJwlbygqKYQodSZVIv4bVhTnDKAGaQH5/Hf50PfV+Af8FAANBBIIjwyFEGcS/REDEFoNXQqGBqMBovzT+LL2DvWY8hPwLe++73jvEu0g6u3nauWw4W7djtno1RfSQ8+Ozn/Ob82WzMXN+c/K0EPQE9C6z6DNgsp6yLLHwMZVxzXOh9ue6cD1fAOsFaworTZ7P9JG40x2ToxKkENBO1kxLSf3HqMXMA9WB8sD+wR8Bk4FrQSdB0ALsAt4CdwHmAdYBnQD2gD9//cAaAN1B+0MIRLxFgkdqCNXKAAqOymjJzslVyBOGUESYQxlB2UC2v1S+2v70v0vAVMEpwfkCgMNOw5fDi8NLQvdBx4DDv5G+YH1QPO18ULw+e5W7oDuhe4v7qXt4uu86MPkMuDO21PXlNKZz7vO5s2AzIvLYswez+DRK9OL0jfQl82iywfK0McmxQnGkM1k2JriKe1X+wcOpSArLuI38ECySJdMfku5Rt0/ujeQL20nWR4vFREO8goGC1kKhAgXCToM2w7fDsYMGwsyCtwHzwPC/yj9Rvzg/JD/5gOaCFcOehXkHIkjyyfOKX8rwyuZKK4ijBvAFKQOXAiLAqz+VP33/W7/DQIKBucJTg36D64Qvw9FDSMJwAS3/yT51vIN7lfqMefF5HDkNeYc6BTpHukT6RfpvOes5cPjBeCX2urVy9IS0V3PQs1rzQjQ/tEb0p7R4tEg0s/Qpc4vzJXJ9sj9y/jSYNxL5W/vUP4uD74dnylcNN0+nUbCSO9GkkPXPmM4xTBjKbkhZxneE4MSVRJPEZcPcg/tEdES3A9jDAwKgAdmA+z9Tfm39vL1Mffe+X39JwIoCKIQvRnOH/AjIChBKxQsWSnhI88eBxr6E60Nvgg0Bq0FJQafB6wJCwzADlYQqhAZEDsNxwjNA1T9bPZE8HDqxeV74kDgHuDl4TnkIeaF50npkeoc6sXof+YW4/vec9kp1G/RmM8OzjzOoc+t0dXTfdVG15PYJtgn1ijTGdBfzQXMoM4p1AzateGB7Bj6XAlRF7wjWzDuOixB8kNnRDFD3z9MOnEzaCtAI+kcyhjYFmAVHhPbEsQUbxWcFCcTXxGFD44LEwXf/i/61fZw9Nfy1PKc9Ov4MwAACD4PlRY5HUEjvCdzKEAnvyVkIlEdexfsEWYOrQzeC+ALfgwrDogQAhOeFWUWoRTIEesMCAbJ/t32Pu/l6GjiwdzF2QzZPtq93OvfbeMX5tTn1+jU6G7of+YZ4k7db9iu0ybRIdC8z8/Qa9JY1BbXWdm32mjbINuo2XrWvNJ00DjQ5dKx1+HcYuQq73P73QgKFsghHi2KNiA86D6LP0g+UDuONscwNSqkIxQflxy6G8AbLRu7Gxse1R5sHXEbtBgqFYoPbQfb/xv6L/UU8Zju1+5I8SD1XPsWA70KTxLGGCIeciI9I3Ih+h/RHfAZCBViEC0OFQ48DtcOzRB0FGEY1hp2HOMc9RqEFzISsApXAuz4XO/e54/hodtU15jVqNZE2dzbQ97J4I3jWeUa5fLj8OFH3hraItaL0vzPNs6szWjPdNL+1NjWV9ll3EPedN4W3bTa79j21/XXK9q63Tbia+lm84D+NglyE2YeJSlEMb41RTchOIg4fDbQMoouWCkrJSIjPCL3IV0h1yAsIsQj3SLcH9oceRqaFtMP9gftAFn7JPfU8wLyE/Iz80j2Z/xHA7gIkQ18EqgW1xgpGFoWuRXKFA8SUA8EDmIO8w8zErYVshm7HC4f+yD7IYshyx0iGPgRfwn5/yj3p+7k53vifd0e2/Landuo3f/fRuIj5BzkPOOq4eveUtyU2IfTrs+SzMPKQ8sVzBbODNKn1QnZdNwY3xnhYuEB4B7eZdv22PzX0thc3PTgKuau7pr50gQTEHoaQiTSLNgxDTQrNTM1pjMxMFEs9ChnJRwj5yKxIzklLCaNJjooQCnKJ10lRSIKHh8YJhAqCJEBBfyi9z30f/Lo8nD0DPjP/QoDsQcXDBoPVxEyEu8QwQ/dDgsNGQuaCUcJ0QqhDYkR1xXEGdIdRyGFI68kRSN9H58adROKCroB1/iz8CnqduQY4Jrdctyf3M3dJ9/o38rfQ9/c3TfbTdj71BHRis1HyrfHMscyyB/Ka81t0VXVOdne3Hnfu+Dz4BTgUd6j3FjbHdtM3VPhWeZF7dj1CP/rCOESyxtiI/soVSxrLnEv4C4VLS4rminFJxUmryVUJsonyykBK/Ar1CyrK1opJiceI0IdbBa/Di4InwIJ/Sf5XPce9y34pPmg/LUAvQPNBjwJoAmQCR0I6QWzBc4E4wL7AkAE/wZPC1sPlBScGk4fCSMRJYolwyQuIXQcDBc9D1sHUwC5+Qb1vfCZ7MPq3um96MLnuuaQ5Uvj+N833J3XMtPUzlHKk8dnxYHDRMSAxofJe8050djV+dnn21jddd203LjbRNjb1cDV6NTz1sXb8+Bg6U7yHvviBq0QGRi8H+IkDSkCKxYpvCg0KNwlXiUjJCQkXCegKHQrrDCRMmY05TWdNIgzMC/UJ2gi2htJFGgNOAZgAlEAd/2u/e/+3f+WAhQEXgVeBwQG+QMhA7gA1P3O+mv44Pg9+g38u//VBG4L+BGNF2YdryF9I0EkTiOAIDYcYhbBEB0MbgeeAu3+H/3p+3j6JvlS9wb1FfJ87SzogOLP2z3Vp88qy6jH+sQaxMrERMaRyIjKqcyCzwbRsNE20njRudAw0GjPvM+Q0PzREdU62SbfG+YD7Vj1jv29BBoMkxEQFhAbBR4uIFQi2yIRJP0lqCeeKk4toy/AMvg0FzeSOOs3gjcbNmQyki5OKXEjWx+3GhgWyRIlD2EMxgofCQUImQbDBCADuAAx/p/7s/gI99b1UfQK9Lr0SvZY+eb8sgDkBAUJyAz7D/wScRUMF6QYXhnfGIEY1RfyFk8WphRrElsQvg3aCoAHgwNy/776q/Wd8N7qZ+Ww4DHcvdi+1ZLSkdAoz2vNKMwRy/DJU8loyB7HmsaExmfG1caTx5TIeMrezLLPDdNS1l/a3d8c5vTsIvOO+Pf+CwVfCi0QyBTuGLwd4SC5IzYnZSk1LNcvcjILNa02PzdiOJw4GjhPNwg13DIyMOQrdSgNJc0goR0FGtkV7hLMD4EMGgonB5cDMwDX/OT5fPdc9a/zovJe8uLy3fNo9cT3QPq9/NT/igLSBKQH3QkFDBEP4hASEs8TqxSrFasWChZWFVEUQhJUEKANWwrvBkECw/1p+Ur0+e+L6wTnveOs34Lbxdi81djSHdDczILKmsixxivFzsONw4XDY8OuxJHFT8aDyFPK/czM0LnTEdjk3dPjhOqS8A/3Rv4HBG0KZBCxFHMarx5mITAmPCmjK+ovljJcNRs4sTgHOrE6UTpyOl04nzZWNSgxdi4NLEcnfiQGIScckRm7FS0R+g3yCbEGTQMO/3r8Qvmq9lH2gPTA83L0SvP389r1SvYI+AX61Pu4/sYAxwIRBTIHqgorDW4OohCFEc8RDxO6ErAR8hD2DqcMXAo4B6gDYwDM/er6/Paf8vjtaOle5VzhJ91I2SfW0tKGz4rNU8suycbIDchsx5THf8Y6xgvHDsfZx2fIG8nty2HOVNK72CbeLuXk7Jby5flDAIoEiwo7DxcTyxd0GlQeXiMfJ9UsoTGNNKg4Jzq1Ol88/zqhOf44kzZqNYwzPjCbLjUs/Sl7KJQkrCAiHMkVMhGiDOcHEAWYAcL+L/3h+tD5Jfn697H3WPbz9Kb0zPNL9Lr1Bff1+Z782f7ZAcUDHAbsCFUK+AuPDLwL2guiC9ML1QxTDKYLbwrzBz0GkgMKAAn9Svhb8yvv8+nE5V7i7d493avbpdmU1yjUEtFczjzLmsnex9PFj8VdxenFAcg0yXnKaMxbzsHR8NWS2uPfheS+6czvXvXF+9cBlgYzDJYR9BWNGlge6CGTJmQr4y8OM0g08TSVNfg2KDn6OWU5Sjg2NmQ0RzNeMfIuVSzOKO4k5SBEHMUX4xOcEOkNAQvAB5oEfgEt/839H/xQ+p74q/ay9fP1dPZ897v4zPlD+6j81/03/2cAGgJjBOUF8gacB3oHKQimCV4KkArdCeQHEwZ7BHcCKgA5/ST6Xvdh9KrxmO6b6pnn7uSV4SvfSNyE2HjWxdSw0mvRRc/HzGjLg8rXynXLiMsxzN/L7cuUzl7R29Vq3Lzg0ORx6Yrsa/GN95H85wE3BhkK9Q4mE0kYYx3aIAkmXio0LOAuXy+rLgExAzPFNA43oDZnNVw01TIsMjAwTC3CKj8mgCLaHy4bCxj7FUsSKxACDvIJtAZ2A1QAk/4H/QT8qPq7+CD4c/dZ9zv57Pn2+fL64fpf+4z9CP8sAHsBRQIbAyME/AQrBeMELQVKBawEGgSkAloA+/7H/cj7tfk89zH04/E88MTttOrj5y/lNeM/4trgkN4v3PHZENjF1pHV8tNq0uzRQ9Ly0v/Tl9TG1AjWPNgE29belOK85VPp+uyF8LH02/iM/CAAfAPUBkoKww1fEa4U7RdlG/4dBiD+If8iQiR1JiIoqCmDKqgp9CicKNknXycwJhYkJSIfII0eBR2gGnAY1BUBE5IRhQ/LDAgLeggLBjQFHQREA+YC8QFoAfkAfQCqAGQAXQDoANYAnQGfAlQCmwLfApYCdQPFA+ICXQJfAUEA7/+S//3+6/3q/MX8AvyX+vX4L/ZK9IT0qvRv9K/zcPFd793uOe+G77fuzOzj6rvpt+k36lbqa+qt6j7riexJ7aTs+uvL603sYu658Pzx9fKm8w30GfWd9uf3qPhj+df6Ffze/AP+nv7i/vr/AAHsARMDcQNhA4oDFQRqBbUGrgevCOMIwwg1Ce8JOAtmDMcMIQ0bDcIMHw2RDbcN3Q3EDcUN8g0cDj4Oug0YDRcN8Az4DJENag11DNYLvAvNC+ELEAzuCx8LcAoZCsAJwQm0CewIFwiqB0MH1AZ2BvAFEgX/AxIDmAJjAs8B3wAxAKb/5f5N/tj99fwH/KX7NPuC+h/6ffl9+Ef4efj891T3+PZ59vT1BfZC9sn1MfUW9fb0CvVK9QT11/QS9Sf1W/Wh9az1u/XR9Rr2oPYH9zP3Evc598z3tfeL9xX4KPgQ+In4xvjb+BT5HvkT+Sf5jfnT+az5+vla+iz6c/rq+uz6Efs9+4z7QPy4/Av9T/1F/Xj9/f2o/mz/3f9WABEBqQFjAu8CAQN4AyEEeQQQBbkFAAYoBnYGEQeeB9UHIwh3CKcI5QjgCLIIywjiCN4I1witCH4ILQjAB7MHpwc0B8kGYQbNBVEF8gSsBHQEKQTQAz4DmgI/AuEBdwEqAZwABQDM/5j/Tv/q/lL+1v17/Sv9Ev0A/cL8bvwz/Dr8N/wH/O/7yful+8H7v/u3+wb8Ofww/Ev8fPyL/IP8mfzA/NX8FP1a/XD9sv0Q/kj+mv7u/hT/Lf85/0//ef+j/9T/9/8gAG4AtADrAOQAoQChALYAqgDdABgBHAEkASwBNQFCAVEBZgFcAXkBwQG0AaQB5AELAikCSwJQAmgChQKuAvcCGAMqA0kDXQORA88D+gMYBP8D/QM1BEUEXASEBGQETwRtBGAENwQoBC4EEgTUA9AD0wODA0ADGQPdAscCqwJRAgYCzAGAATkBAwHoAMMAYQALAOH/pv9b/w7/1P6t/mf+O/5C/hr+9P38/dj9tf3O/dL9xf3Q/dj91f3b/Qj+Lf4j/kz+mf6a/q7+B/9B/2j/kP+s/9//DQAmAFUAiQCmAKcAlgCyAP4APQFkAWgBawGAAWMBVgGhAboBigGGAY0BeQFzAXIBXwE9ASEBCwHlANsA5wC5AJQAqgCjAJgAsgCzAKgAoQCaAL0A1AC5ALUAvwCvAJgAlACqAKAAYgBPAGQAdACJAGcAHQAQAP3/wf/E/93/tf9m/zb/O/84/wf/zf6N/lj+Qf4d/gf+BP7J/X79av1f/VX9Rf0O/er85PzE/K78vvzM/M38zPzY/OT81fzk/Bj9IP0p/V79df2L/b/91P3w/Tj+X/5u/qP+6/4d/yn/Jv9B/3P/mP+8/wAAPAA3ACQAQQBbAGQAgQCTAJMAoQCwALAAvgDjAOUAuwDFAPEA2QCvALIArACOAIUAjgCHAGsAZAB4AIgAnQCuAJ8AiwCOAKAAqACWAIIAdABjAHQAnACMAGIAZgBnADsAJQA9ADkAFAABAPH/z/+5/6j/iv99/4f/bf8o/w7/HP8K/9v+s/6U/nb+Tv46/kP+K/7v/cv9vf2o/aL9nf1s/UT9Vf1P/ST9M/1L/Sj9Jv1Y/XD9cP11/X79j/20/eb9A/4F/h7+VP5+/pz+wP7b/vL+I/9g/4H/lP+w/9b/+v8hAFoAfwB5AJAAzADsAAUBLgFDAUgBXgFwAWQBaAGTAaMBowHOAdwBtQGyAdEB4QHpAe4B8wH4Af8BCAL+AfkBCQICAv0BEAISAhMCFwIBAvsBDgIOAgYC+gHbAcIBugGqAYwBgQGBAWEBOgEuARkB+wDuANQArACpAJ8AWgAgABAA+v/j/8L/k/+J/3P/PP8q/xD/4P7c/sT+nv6q/pr+cv5r/ln+TP5T/kr+Wv5k/jn+QP5q/lz+Uf5x/ob+m/69/sr+xv7V/vz+J/9E/1T/Zv+C/6T/x//l//3/FAAqADwAUwB2AJUAmgCcAMQA6ADrAPcADAESAR0BMAE5ATEBLAFBAVcBWgFYAU8BQAFCAUMBRwFVAU8BPwFCAUYBRAFJAU0BUAFTAVIBVQFUAUYBQAE9ASYBGgElAQ0B5ADlAO0A2AC7AJwAjwCdAJgAcQBOAEYASQAxABcAGgAIAOH/0P+3/6D/nf96/1r/Xf8+/xL/Cf8A/+X+xf63/rj+nP6K/p3+jf5t/mf+WP5Q/lb+S/5J/k7+RP5E/lX+Zv5e/lz+ev54/m3+kP6a/qH+xv6//sL+8P72/v7+Gf8f/0H/aP9v/37/iv+g/8X/0v/j//b/9f8NAC0AQwBXAE8AWAB6AH4AiwCbAIwAnwC8ALEAtADHAM8A3gDbAM0A4QDwANkA0ADQAMYA1QDnANUAyQDRAMcAtwC5ALsApQCoALEAbgBcAKQAhQBWAHYAWQBFAFUAJQArAEUAFgAUAAoA7P8IANf/p//t/9j/mf+r/5H/hf+l/3L/SP9R/zP/Nv9Q/zn/Nf8h/+z+Gf8///n+7f4D/+v+D/8k/+b+2P7t/gT/LP8T/+f+C/9B/1H/RP9L/1f/Jf8v/5X/p/+L/4z/gv/G/xQA3/+z/9r///8dABgAGgBrAHcAPABnAJMAdQCcAMoAuQDJAKwAdwDEAOUAsgABASABvwDAAMYAtADxAOwA7ABJARwBwQDTANUAAQEzAewA1ADqAM0AAQE/AQUB0QDTAMsAuwCqAJkAugAJAQ4B0AC8AI4AbACxAKkAbwCcAKkAogDAAIMAUABkADYANACaAKQANwAfAGsAOADa/y8AWwAfADEA5/+c/y8AWAAOACwA2f+P/wgADwDj/y4A+v+m/wkANwDq/+D/3/+3/wgAdwAjAMH/7/8NAAgADgAIACYANwAyAGkAYwAFAMb/3f+KAOcAWQAvADkA7v9/AAUBZwAcAEIAaQDQAMEAlQCiACQANwDgAIQAXQDTAHgAWQC7AH0AYwBjABUAcgDLAFgARACiAJMANgD2/xkAgAClAFgAAwAlAC8A2f8qAMEAagCr/0j/yv+pAEUApf8NAPD/eP/C/+X/9f8XAI//Ov+v/+v/iP9e//v/EgBP/0T/e/9m/77/i/8y/7D/if9k//X/cP/v/kr/Dv9D/+7/qP9r/zP/4/6P/9r/M/8i/zf/Hf+J//f/1/9U/wb/Tv9//3z/sf+f/13/ev+w/+H/z/8T/+j++/9iAKr/kf+n/z7/sv9DAJr/XP/n/9z/5f8SAJv/eP+s/3z//P+SAL//Rv/a/7f/p/8yAOH/hP/j/7H/RP+o/0wAQwCf/3n/q/9G/z7/y//n/9//xf+c/9r/u/8a/9j+Jv8AAFgAtv9m/0b/JP/I/+H/9/7u/rn/5/+b/53/b//e/j3/AwCz/xb/vf4F/xMA7v8q/4X/Xv8U/4P/EP/1/qH/Zv+f//3/KP8K/0z/A/98/5v/IP+G/4j/D/94/67/Of8F/1L/8v+6/8H+E//9/7//cf9z/yn/oP9jAKb/qf5j/y8AZf9G/6wAYwDb/jv/HwAaAOr/MP9E/2wAPgDr/3UAx/8Q/wAAjgCn/0T/IQBGABcA6gBiANv+D//0/98A8QCN/3X/wf/A/4gB3AAl/oP//ADn//D/FQAtAFoAY/8EAAEBuv9R/8b////UAHQAfv+V/8n/cQCwAAIAsP8B/57/TAEXAJb/FgGG/67+egAHAAEABQGd/yb/FQAKADoA/f9RAOsAof5n/jgBkQCy/8wA9v9U/4//qv/QAGsAi/9QAJX/jP9bATQA1f5UAJsA0v9lACgAPv9+AH8B3/8f/ywAqABsAND/TABbAQUATP/SADsAH/+tAKgBkADd/+7/6P+aANkAvP9TAOMAi//RANwBkP83/wYA3gCcAm0Avf0DAJkB0ADlAM8ADQBHAO8As/8P/xgB2AFcATQAm/4NAXoCb/8E/wcAeAGOAnD/iv/RAN3+2gIeA3j8AP8gAnoA6wHrABIACACz/XsBrQPj/wAAZP/S/2sCsf8/AOYB+f7MAHwBnv/6AHv/CgDOAW7/MQHaADL+ZQGVAJEAFAMg/aL8OgItAgsDDwBR/JcAhgAyADIDc/+9/uMA/f9XAuf/7P3tA6MAZ/0FBMYA9fuzAQME2AGk/2v+VQBQAFECywQz/Xr8jQUVAcr8ngNPAXP9iQGgAQMB6f+s/agCVQLn/FoBGQE3/X4ELwSc+n77tQGRBfgDgvzc+7cArwFzAucAi/1TAD4Ccf/i/7X/W/3pAXUGoACa+ov8pAABA34DDwJv/nj7RP7jAT8CTwNZ/9352QAWBpT+o/wSAc//Dv+oAlADpf6S+iD9JQTXBoQAIPsc/q/+C/9IBrQCFvl7/2MF/f+m/TT91/6gA/sBSf5E/SP+WgOFAgj9KABVAD36rPwcBKEGJgAk+YT/nAMK/Hj9zAKM/5//2QEXAR0Aw/s7/lUHaACW9u/+tASSApEGZAK69ET2+APjCaUET/yc+uD9HQBBA24Cvf14/g7+8vzAAy4DAvpr/BQEZgPL/Qz62/xUAeUCYwL5/Ev7pwA7AFcAAANa/Cb6EQFwAR0AIgFuAHEBTgDb+s/49f42BsYD0QEQA8P4q/XzAokGaAIE/Rf4fAHnBZf+HAEg/xL6zADiACQAeQGB96j8ig1rCBr7lPOr8okB3RFXDrv3G+o+++8KDQciCfgCKusx7AgGRhQGEdv7Q+f+8wcIMAj0CCEAZfAW/uYHcPgj/JAGIgLWBO7/ve8A9ZkGuAuJCEsCBvQ361X+JRWPDOz3avNP/AEELATfATL+IP/DA0H97vnC/wb/AQZyChD7qPb3+/D8mAXhB+YAxful96f+PQPx/roF7wN/9Zv1lP9/ClIIlvk//Nj/w/eF/8wF+f1eAdIG8v629676UAL6BPIA+P6iAtIA7vg0+6oEIQlqAz/2bPmoBHAAJQWaB2L03vb/BpkFjgQn/wf3JPkx/2MOjAxF9P70RP3M/IYKFgwjAGz72PJC94wJagxfAo35Jf1RAST7TwJ9BiP4q/0CDXwFB/fw89j8IwWACEELEwK+9DHxUvbpCbgVqQdr91buvfXZC7kMUv8z/UD+Vv9G/nP8PwM9BxgABf0JBekBWPQ3/6IKwwARB+kCaet++7UPYgpXCo/2+uhgBBcKyf4+CX0GwPYB9koA5AidBfn/0vqD9LL+wwpJB7QCX/ye+YD+7vyMAB0IEQEO/EABBAM/AAj+pAAHAlIAQQKi/aL4jAI1CMsGJAlc/RjtW/XbCNQRHwqY9xP0yP+dAnsFEwrb/rD39Psh+lECJg0MA5UAFwUh94P00wDpAPkElQyGBTz8N/TG8+oFZg8EBdz8kvkP+jIADwd5COj86fkbBr39/vbxBSsBx/32C2QEiPrc92zzxAHGBzsJyBWS+97iCfQL/xMVTRvE8XfyjwQw8REALhZGAyT7Wf4E+tD6xgPlCTj/zf97CTH4uvTKA00AIwcIDLX6GfcO+3b8RQRACUoJRv/k9If1lvm4B5kLZgEKBsX6UuzxAc4Hwf+wCYoAEPJM/KkFsQAk/9MKywZj9Sv2xPeuACcPLQZeB2oBvul0+90EnP/TFeD+n+oJCFj7fPnVFb0Ci/oSANbvhfSSAZkUkhfr8fbytABl8JEDiQu0+7kLyP8n720IoAI59BYGsQXD+g7/mv5b+dAERBKj/3DuJvlX/G4FhxC8/Bz9jwiJ7Rvx4RDGBsYCTggy8CHyCwROAP4Mvgwh9wf54/B99l4WBAZN/poM1u2P8poIdPgHEPoN1upDBS78kOzLHHYJyupHBrT6S/iKBwb9BQ9pCUrqHvp1/wP9CAyoBfwBnPnA8ScGxf6R+sQTa/9t7i4Cuf6g/j4JHgMD+y71HADdCgT/LwBVAAH5eQPH+7r5ahCyAaL4sAv9+X/wbP6c+ucPeBx79gbuqfse9VUCGBCRB9MAVfUO9+kFDAGMBHwG5+9d+XAMIf2XAAQLTfzY+kP+aPo9/pv9IwYiEXIBtfah9c7xSwZLFI4EYf0Y+PzyuACuB4gHtAgU+8z1n/0l+uP+nwwLCs8Cj/zH8SPzGgEoCoQPcQ329mLns/jrCFAGqgjeCfD6kO+7+jIIhQQPBH8CdPYPAA4HTPhSAfIHHf72A8D4V/XqCtj+gQG3EMDxZff4Cwbz+wHCDjHzaQMPCXrypATFCRH3qPkq/8AFIQTc+U4FUQs++1/1b/lF+QYDrxgXD0bul/FB/kj+hAooA9T6bQu6/Tv0aAvL/e/uggsdEGb30PWbAdABmgOMCMr/Tfl2+e/1cgSVECQCSf/iAYH3lfYA+KsD0BnlCBTtj/hLAAn5QQSfC4MFXAXC+nzt4vYwAtkMbhYABEDyBfQj8Jj71xW0Ff7+ve7A9QX/8wDaD0kHrPFvAaj8yvDKEVUL1/HACEAESfItAvD4xvPlFj4V0/Hd8jwAevyXBakILfhW/WsBG/1HEGwFqOiY+iYIpAbKCuf0T/AdCegFagCpCdX/JPHQ+LQDtP3IBBgQoP4y/ekAaO5S/NoEE/xDFsUHX+s5Bwr68OxCF84KdvGt/132Gfz7ExEJffwb+272LfUt/RYLsgs9CvkCFOsJ9y0HtvRPCfUXbfXc+usA2upBBiYXCvv//7sGDOw17aQLlBIJCicHM/SA5lv7vwU1B6AVCQV/7ir3c/nvAW0QnwHR+ggBCfg2+wYGmQV3BzQDyvnt9zj3af7pCx8MXATPAM/4BO8K+ZkLhQ6MCxj/G+u08vsGKAr8CyoKO/gW58rwjAxiEHcKGg3+8y7jDvn7AEMJ5BduA5jz0/jW9Er4FgZkD6EI5vfF+cP20vCGCzwVwAZzAV/qqOcsCTYPkw+9DU3uAe3fAQb+zgehEjYA//q6/HrwE/wjDCoCbQoJEHbv+uu9AT/+fAfDErwBjfgk9of3BgKv/woFXQ/c/1rywfPd+rsGcgkFBiT8tPP5+wj+8QGBCv7+PQH6AgjwcP8OCKT1rwgaD6P6Z/+L9i3wdgtrDcz9iQGH/kXzqP0kEFkFUPbS+//5twKDEHj+Vv1AB5nyGvUcBugBrQbMBHD+KgVk943vcwEfA/UCrwxnBGbzTvEYAsMN0ATR/4b+8PW4+fsDLgaqCMoF6vzR+a/2KfcoBMkKcwe/Buf6ku5D+z8HDAXYA2r/nf55//T5EQLDB9/+TgLs/YLy0gABCR4FPwll/tf0JvpZ+RgEoQ5TA4cCFAMa9eD2dAFXBdsH9QP+AY//1vVn+gYFvwVfCSIC5++c9OsEyAaJBjYJf/587qrzSQKgBIoHXwYr+kv7kQA2+0D9wP+X/tEEdgLD+rL+iwJ6A6QD5PsW94b9fQN5BXEIZAMO+EH8JgPq+7f9wAKP/7IGTQaF/P8A+fm38iYIlQzI/Ov+oQCj/qAFMwIv+PH6AQJcAoACXgSl/wH+BgNx/Jz2hv1IAK4HPBGmBDX2aPfN+iEAZwRKBc8HkAOD/cL/3v9Z/GL7E/4PA74A0/y/AoQGqQND/vv2K/n1/Uj8uAQbDbYGSwJG/J/zAfoLAVwB8ge6CM8Ba/8K+zD4Pv6mAhACaAERBMEIogPi+UD9zQFF/hkCbQUDAE4DswYfAGkBLAFg9tX2oP7fAjMKwgnv/Vz2ifUZ+H79uQOlBwAGGAEk+4f4xPvJ+8z9cwahBK/9HP7T/ToAfATlALL6yvaY+jwCqASwDE0NLfow9tT++/uaAHAHEgMnBc4GPgEQACz8zflqAuMFPQG6AHIAv/ss+0cCeAVrAGT9RvwU+qn9/wFxAJgBmQJM+zD3ifqU/FcADQWVA2r/zvlz9t77Mv8P/tQCAgTz/qX/xf75+uz/vAK5/df/1wPxABMCPgNw/dv9QQLyAIECigXpAvb/aP6g/wwCwv6G/m0ERwMDAGACdQIuABH+a/q7+un/zwNeBX0EigKYAdv8kvc9/WgFpAPeAqkHYQQE/ET8gf9l/5wDjwajACMAXgRY/+T7rP7p/tQB4APfAAEDEAXfAdT/yfzM+s37Zv1KBAEJfgQlAPv8f/qo+Yn3hvuLAiADTgNCADL7C/3z+kv5AAEwACn9rgKs/6L8YQHm+4z2yPtn/e3+3gLxAKb+f/vq9lj7DAAP/dL+/gGu/jL/CwI2/pj7Wf7N/5MAOQKUAPD84fxdAK4CmAHa/9L+Pf0E/sMAiP9z/j0CvANnAQIB1gKvAmD/bgBdBK4Auf+cBU8Cy/7oA3MD0AEhA4j/GgDlAycBvAChA+oDaATaAx4DlAO1AmMEmgZZBNsCPwIRAdgDSQcjBw8FqwFOAOcCdgTdA8EDkgMEBH8EXQIZAj0EcgJcAk0GYgQEAbQCGANjAvgBmv+Q/nz/RQG6AhYB0//0/qf7EPtR/bP/6AEFADf+ef89/c/7Xf2x+k/6Z//g/VH43vr1/b35OvqW/nr6yfdZ+hD4b/ll/q36APez91n2ovbK91j30PcK+MX4s/f38sPxe/I28qL2Fvos95T0mvNN8zz0p/MT8zP0afXd92D54fde9+H27fVX+ev86PwN/uD+Pv+8AtkEtQUPCFgIJArXDZUNuQ5cEmwTIhVaFtQVgxeZGMgZYR3zHUYdvR4zHYEaDR3GIF8gcB+7HqgbsxpsGjAWmBVSF84SDQ/wDpQMZwrlCbsHWwPNACgB3/1w+qP8xvq49f30AvLv7gbwl+2j6uXryOoA6DDoNOeX45LipOLD4afkgeZD4ynj3eMx4f7gduIz5GLlt+RV5r/kgeBO49jikd/35JHm6OMy5lPl5+OE5eHlJOnG7MfuZPCP7d7uaPTf85P3yv5a/m0AeAUeBcIGpgyPEQ0V0hc+Gk4bNR2hIoQmOyhoLJouKy0EL7wweS/GM103ejPZMw40ty5CMEIxrizKLHEp9yMuJEIgfhwvG3UV/BMPEicL5QkbBs//iwBZ/tP6cPqA9gb0nPJR7wbvq+3v7NPuRuzg6v3rR+qI65fsjunw6bLqvOeY5ubn2Oj+6LHoEeiJ5vbjQeFE4D3h++K942rgONsc2B/W6tW+1S/UgNTg0vXQItSB1LLUN9nw1zTXYdxa3eTfQ+cE7ErwofJj8z74Sf2NA4kN9hNZGHoeuCCdIRkoSS5kMb44cj49PR1AU0M1QBtC/UUMRJRDjUN+QDU9EzoAOIc0SjCpLdYm5yCqH9EYABI1EDAKwgRsAyn/6PmR9nT0Z/IA75Psu+rN6ArpPekQ6cjps+nI6Sfq5eoR7XnuLPDN8uTz6vQh9Un0hPW69iL3Efed9Bzz//Lc8b3x4/Az7nfrm+cJ5cfjpOBN3nvblNaT0wPQZssyyTPHHshGzAbN582lzgvLp8yU0crSR9qJ4jnjFOlr7wDwZvds/+8DNw8wGaMegiWLKVEucDSKOLlAakbTR/JNFU/MTB5RVlDKTEJPjE3iSIZGvEHFPJY5PTazMH4nMCDKGoQTzg+1DJkE8P4b+4rzd+5I7PHnwOXR5TjjpeAS33zdk96a4GXiYuR85JnmSeq+6i/ti/DS8cr2m/rP+mD9lP6s/vv/Rf8q/xT/UP6w/vX7m/lh+Nvy6u/17U7oHeZB40ndHtkW1K/PEsu9xtfFQcCFvq/F7sSYx6vOucbUxW3P2M6H1sfjnOQj6vXyUPRn+RICaQo5FGcebSnLL5wyhTnBPchAdUpvUHBRn1YZWVJWZFb6VTdSv1CGT+5Ke0UwQAw7LTQ1LJ8mrB0iE1kP1AhKALX+bffN7PDpOOOX21vbzNgL12TZH9gv1l7V1NQV15bZb93a4uTlE+pn7sLvm/N/+Hj7pgDkBYMIzwq9CzkLYAtCDBENngvxCGgHcANm/+/+l/m+8rrxGOvg41/kudsv0aHQuciuwZLDoLvGtfy6tbuevzXGGcSBw1jFDcgz0czZyeK47OHwrPfj/woEFQ4IGsUj5jDoOUY+J0OZRhpN0FOtV3NedGDnXs9htl25VzdZEVS1TUpNYERkOtM2sC2NJAYfpRPoB18A2/il8nbtXecJ4BvYPdLFzCTIkcjKyeHJycsnzKPL581u0XjW89x84zTpaeyK8Pz2UvywA/sLBxCiFHEZsBnhGpodqh3GHhYgER0DGSAVmg+CC3YImAMG/gb3d+8Z6RnhvNlC09vJxsP2vr+1prFOrnGnNqq6rlqwfrm3vLG5/L43w7DJoNjk4eHpVPWQ/G0FQA/KFmQiUC98PA9JQk8eVONYv1wbZTtr4myxb1JuXWuDarFkJl4BWqhS4kozQug1cCs4I+0aXBJ5BuP49uwu4mTbmNce0fTK3sXcvQO5NbhFtZi2/Lx2wBXFVco/y8PPV9lM4tHrrPN4+Gr+wgVNDjUXHR6mJPwpECyZLTcujS11LwMx/S0QKegh/xl3FlUSzAqrA6v57O9e6kXhdteu0I3HJcB4uWavE6d6nxybVJpYl4ybCaJ/o5quPrVysqy9acUKyUfeoOul8z8IsxDVFfojwCkLNfdG+1AeXRZkNWV9bT9xl3S4fGx6cXdRd2huzmfVYyRadFKxSk4+PjEjIwMWMAv5AEr48+x83uLT6crgwaq9H7lEsiOx3rA1raWtcK7/rsS3E8HCxkXOfdPK2Sjm+/G9/LcGuQ7kF50g+ShCMFc04TpEQN5ASEPQQTM9+j1WOwY1zjAUKPAdfxZoDWAD9Pj57kDl2tqr03PLZcA/uUOxFKgtox+dDJcxlGSREZAUj/OP9ZZcoHKtUbwcxAPK49JC3ETqpvwVDekapCiVNAo890MNTi9XmmNAcBV20XiBeed5B3zUe797hniXbxdrRGTuVw1SREiVOAkvVSFZEB4Grvrt7gLmhduJ0UfHpL4Fulm0GrLrssSuuax2rgmvuLQPvhTFV8xC1FLcNOVi73z7cQbvEA0dIyaTLfs2Mz4ARH1Kt01tTt9OUE2PSv9HF0SxPRU18ypRIKoWgw25Ai331Ova34vV3szHwvi5QLOvqjyiWJuFkxuON42Gi8CHwYUxhd2E9IeWjWOSFZw2rW69O8yb3IToG/I7AaMPnBrwKtY7RkfIVNleqV9UZBVsYHCzd797wngrdwxzrW1WavphNlphUr1D6Dj4LdAdwBTrChb8dPJm5obZUNO4y+vEf8BeupW3/LTXsTe0vLb6ueLAjcV4yj/S1Nn84brrQfdcAf8J4BSbHI8jpy/NNwU+rkb/SKJK8U6JTT1Lqkl5Rc9BUTsmMWAm9xp/EqAJVP4+9srrmN/Z17rMPcIevu21na2Vqe6hfZwinHmZ/JUlk3qQcY7yjdSRHpR6laidXqCNoLOvLMCf0drtSPwAANUNfhXwG78vlT0eRzZXf19CYNdi4GOZZGtqoHEkcDhpSmW4XR5WHlRaSiI+HjgVLIYfThiPDCICzPsL8p7nON7U1cbQt8/00MrNEsnNyGTHlsnZ0cXVwds85dnn9uyW9q/7FwTIDkQUNh3CJ8wsoDSKPIA+6ENCSCZGoEjJSD5EDEhtRmw8HDiOLEUfphwtEnsH2wQh+OPrneQS1+TQWM9qyBvFnr89thKxH6xnqrKsEqynqk2oc6Q8ohyi6aOtpfOpAK+Mr5qzObYHtbbD7dcz6Dr/AAhsBtISiBklHzoxfDkeQsFRrFOfU+dUfFD1U7JY3lhLWdtRz0sJSyVDPD0iOOsrwSXuIBIViQ5FC2cDt/xY91Hur+YN5kXlM+NJ5iflHd8y4QzkzOSm7AnzD/XD+aH86/2HA2AMRRM5Fhsbeh90IJ4ocTBeMME1+TZeLxYywTNGLs8xhDEDKmYoPiEhFjMRRgmbAPz6WvTv75XpruGr3YbWM9BvzQ7GgcOTxTLBGr8vvru557kHuZW2DLgDtqq177Z1sCuvALJZsPG3c72fthu858rs127uFv4O/boCigtEDpQZySfOL608NUiqSGdI4UhWR3BKdU6zTaJLhEm2SOtGnT+zN1QvxiUPImsdVxVfFJcQyQVzAHD4Q+4o7/3ubewh8VLvQOk76yTrb+u58VnzOPUM+1r8Q//DBTsKKhDYE4ITiBaaGvofCSkqLmQvWS/ZK1QqWCsyKkIqQStKKnwnyR/ZFcsOtQfV/zH45+966vTn++Iz3EnW+M/oyWPGdcOJv6+9U71DuyS6w7nZtYKytbIYsSKwV7SdteGxALF3sOKwKLm+vY660MAyzlzb3+4P/Y8ASAngEFYSjBvQJlww8j/gSZdJ80iSRpZFg0n1SSdHpEWcRNlDYz8FNhMtFCZwIPkayhQ4EAkNYwk3BIL9UvgK9DDwmfCl8uH08fik+Vn4ZPln+SH79v+2AlkF0wj+C04QmhKBE/EVJxjeG/AehB95JKEptClRKkUoriTPJmcmxyI9IzIg4xlxFqMPrgeSA7H8MPTx7nHpauTU4uLf3tdizw7K0sZKx+3IHcVwwQTCV79Oux+6krd8tmu53rlwtza3HbdUtJW1ebo5uSi5571cvPPAwdCP2pvplf2W/6IAqwiWCJsSTSYcL7A5LEO0Pkc9vkAsQCRCAkQ5QvFBV0JIQCw7yDUxMMsn9yG3HioaXxmoGFgUdRGBCjQBP/6b/Nn9agJ8AZ8BQgTeATgChwSJAvcDnQZJBtwJrw1WDZgONBH6EQMTcRWkF3kaCx/tIHwg/CLDIz4hUyEdID8dmx09G9sWEBZaEgwMqQf4/3T3dfLv7GzpAOgf4hHbGNZh0TbPYc7vy2fJSsZKwjS/vr19vT68qLoLujy4/rZCt0q3OLlHuku42rdzuCS6prwAviPGI9UC5JrzWfuN+94BKwjqDl0d1CZwLqU6iT7JPppAlD7dQDpF3EMaQl9AAUFpQ8E+IzhSMrQqBCjkJA4eER7WHq8ZzxSGDQcFrAMoBVkEmgQnBcADHwQcBloFWATxBCIEhAM5BZIIUg0ZEawRXA+SDf4P7hJvFCIYPBtPHIsd8RuDGcAatRv4GToYKRfKFYYUMxNJDxAKeQVW/oH2jvF37fvqdulR5ZbfyNn31ePTp89wy1nIb8UdxhHGEMJUwIy/+bxUuz66CLp8ux+9L7x7uGa4cLpKuqq9/r97v0XI6NR34LnvRvfM95D8WwCTBtkSFR37J2Ux9TODNgY4qDiOPZw/Pz9hQTFAnj+nQ21Doj+8O08zuSt9KqUo9SZmKH8kJB2zGDESyw2MDgcMqAowDGQJ9Qc8CM8GXglNCnIGUAXaBGIGLQx7DokOjg9MDr4N1g6xDv4PAxR/Fz0ZMRqYGeoYbBoVGa8U+RKeEZgRkRNaEPMLEQn3AYH7pfbd8LfvI+/d6t3mb+Go2+zXydP6zx/MuMhwxx7GNcZUxibDmMBpvRO56bjQuXi6pLypvPm7CLzyure6+bt1v53FG82P1yXjH+2e9Hj2b/dE/J8CzwxNFz0eNSe1LbkvpTObNHM06Dh9Ovg6/D55QClB5kLhP0869zZSM/cuOy2DK6AozCj4JhkgLBvzFTwQhA/TDUQLDgymCnAJMgpZCFEH/QUgAxkErAVKByILCgyFDDIOTwwfCxIMFQxwDoIR1hG4EowU4BScFKkThhBHDqUOfA19C2gKlweUBcwDw/0X+KD0hPEM8Zvva+tM6JTkaOD13DrYUtQ10tPQ5NDs0BLQ7M0gyqfG0MPDwqPDkMMPxI7Ee8NGxNLEtsTwxvPGCcbwx6bKMtIb3YvkSOpN7QXub/Fc9UH6BQL2CVIS6hhuHOYf6yIPJ70rnS3jL9Ix3zLbNn05vzr/PBU7jDjEN9I0AzR0M24vhy3eKxApXCh+JfggOh6NGj8XqxXqExkT7BJoEdoOmAz1Co4JHwmrCH4H7QdACFwHrQfWBlcF1gUYBYYEyQUEBV8EFAWGBFoFbgY8BO4BYwCU/qf+kv4B/DH6KPkH95L1UPNX78ztQ+2668Dru+qe6LXoVucc5ZvkjuKD4Yfi6eFf4g7jaOHz4FDgm95k3mndOdzI3A7dKd353Mvb49pb2vnZM9mN2LHZjdsK3n3gv+Cl4a/jQOVs6ODqNuyT7yLyyvQM+YD7G//vA+cGbgtDD6wQzxMOFh0YuxxRHygh+CPoJNImAyl9KEgo/Cc8JysoZyjVJx8oxid5J3UnbybWJeglbSXJJMQjRCKVIb4hlyERIRwgSh7IHAgcwRpTGbsXPxWwE1cTjhLyEe0Qqw5EDT8MGQp5CNAGdQSHAzgCW//A/RL85fl7+a33pPSs89Px5u/G73ntHOt46s7nueWq5JjhC+CK36HdP92m3HfafNn81+7VatVk1BDTi9Ii0ZnPAc84ztPNOs7fzfjMtsxdzJHMfc4L0EbRldPk1FLWj9nz2+neZeNP5urp/+7g8gf40v2SATQGIQvpDikUMBnZHEoh5iR2J58q/Sz3LoIxQzNnNEI1XzV4NeI1XjbDNuA2uzb2Nd00xTM4MjMx1TD+L20vVS4QLKIqLylgJ6UmyiQ4IrYgIR7zGzUbFxlZFxcWBxP3ELgPXw0GDGQKWQddBbsD9AEnAREAI/4P/Mf5Sfca9bHzO/KX8GHvVu3v6m3pXueE5YbkbOKB4ErfL92724baStgW1z7W1dQs1LfSedBvzzjO/szRzPbLV8voy3nLwcqDym/JUsmQyjPLqswEz83Qg9NK1qzXqdkP3H7eruI25xTrme/Y89v3Jv1hAuIGxwseENMTeBjsHKUgMiU7Keor0S6yMI4xrDNpNRs2TDedN4Y3kTj2OJI4MTgSN+c1HjU5NFMzQTI9MSwwxS7ELYAsryo8KVgnLCVuIw0hnh6/HNoaYxmxF18VQhPqENsOMg3SCu8IlAfABWUErwIxAHb+0fz8+mn5W/dK9Wvzm/E08G7upewN647oe+br5JjiE+HA33HdB9yr2oDYZNeK1kvVwtS008DRY9BCzxPOe83EzNbLjctKy6vKOcqMyfbIFck1ybPJIcvqzE7P/NHy06PVbddQ2fbbod/W4xroX+xI8MPzHPgT/c0BJQcSDOcPUhRpGOUbbSCeJA0osisbLp4vaDGkMsYzRTVuNpk3uzhROaQ5nDkiOZI4uDedNs01/DQFNFozUjK+MGEvlC1bK7sp3ietJeQjmCENHywdMxsvGXsXZxUSE9wQkw5LDFIKsggbB4AF5QPuAej/Lv5l/LX6H/kt9yL1IPMa8XXvBe537M7qsehI5hPk9+En4MLeJ91v29PZ9NdB1hXV3NO00sbRc9D6zsnNjsx+y/vKm8o9yhvK38layQjJ6cjRyG/JzMpezJ3OONFH01vVY9fv2DrbXd7F4Tbm5OrO7szyh/bg+Sv+6wKkB9sMiRGMFdYZvB1fIXMl7yiyK2QuZjDoMZIz/zRQNrY3pThHOdQ54TmbOVw51TjoN/I2/jXcNNAz9zLrMZYw8i7jLMsquyiYJs8kICMQIQYf+Ry0GrMY0hbPFOkS0hCgDuUMRguZCS8Imga6BP8CSAGd/zX+oPy6+tj4yfaP9LvyMPGA7+DtPews6vXn4OXd4zTireDT3v7cKNsi2ZXXgtZd1VrUVNMG0sjQlM9/zuPNU823zGvMC8yNy0fL8sq9yv3KcstSzN3Noc+S0ePTLtY12D7aedzU3nvh0eS66OzsLPH39Gb4/fuY/64DvAh+DYoRuxV5GZ4cZiBaJJMnZCpzLLEtHS+ZMP0x3zNpNfs1jjbyNo82VjZpNuU1FjVUNFIzZTLJMQcxBTC0Ltcstyq0KMomIyXfI54iCCEsHyId8BrlGDQXjBXbE0oSixC3DlwNOAzoCnEJgAcYBdMC3gBF//j9cvyi+q/4W/YB9BLyPPCF7uTs2eqn6JjmZ+R/4v/gRN+T3Q/cG9pJ2ATXptWU1ADU/dL70XrRjtCQzznPwM5BzjjO2s1KzTjNJc03zdPNWc71zjfQqdFQ04fV1Nf82S/cSN5n4Ovi6+VM6dTsdPAS9E73fPoq/gAC/AVkCnkO7BFoFe8YZRz0HxcjvCUwKMwp3iqILBsuPy/8MJgyGjOEMwM0AjTvM80zYzP3MiMy/zBiML0veC4+Le8rBCorKN0mqyVbJAEjjSHVH8wdthv4GaIYWBfiFVgUkRKPENwOjA1LDAALgwnAB9oFwgO7ASoAlv6q/Mz69fjb9qH0cvJU8DfuBezw6RroSeaJ5CHjr+Gs34XdwdsT2nXYPdcu1h7VO9RR02TSqdG/0NHPZ88Nz6DOqM65zmXOMs4wzkHOs840z63P29Bx0vHTKNbx2DvbeN383wniEOTY5hvqsO1B8Vb0kPf0+vD9bgG1BXQJ3gygEPITwBbiGTMdQCD9Il8lbicBKfop/yp0LNMt7y4FMLkwyTDMMP0wyzApMI4v4y77LSUteCy+K+Yq1SlvKOYmbCUPJO4i7CG0IF0fFB6fHCIb/BncGIMXMxauFAETzhHGEHAPUQ4rDWwLqwniB44FcQPhATcAkf7e/Jz6Ufg59ufz6fFh8HLuZeyx6qzokeYL5XvjmOHy31nemdwc273ZZ9iM19XWztXp1C/USdOd0kbSvNEx0fbQuNB70F/QJ9Aa0IDQx9AF0QDSZNPG1NjWddmm25TdpN+R4ZLjGOYi6ZTs4+/I8gH2dPlA/CD/yQI5Bk4J3wxfEDoTHxZTGXccSR+mIcQjqCXOJpwn9ChmKoEr0ywnLr8u4i74LtYufS4ULqctNC2MLLMrBSt9Kq4peCgYJ88llyRcI1AiYyFDICQfOx42HQMcwxqCGWcYIBeBFVgUhxMpEtsQAxCNDpYMwAqZCGQGmAS/Ag0Be/9F/Sb7kPlS99z0OfNy8VDvhe2a66vpKOha5mPkuuKj4HveN90R3KravNny2NnXvta91fzUW9Ri04HSKNKs0QHRy9DA0HnQVtCV0OnQCdFe0ZXSRdTX1c/XK9oI3KXduN/84VjkJOcw6jrtBPB68kv1pfjh+1b/QgOLBjMJIgwAD88RRxXSGOIbuh7yIHwiDiRwJaEmVygmKlorLyyhLLUs9ixILU8tLi3JLPYrEytoKsopJSmoKAEoqSY2JUMkNyMGIkEhYSAoHxIe0xyRG+QaIRojGWUYFhdoFZEUsBM3EkURWhCkDuYMBQu/COUGTwWIAwYCYwAq/hH8J/r29/v1U/RV8vTvrO2s69jpF+hp5rLk1OLg4PneWt0I3LjaldnG2KPXKNZF1bHUudMK09LSJ9JM0fDQrdBn0GDQXtCJ0PXQF9GY0SnToNQE1nrYv9oW3BDeaeBN4u7kKuj76vLtyvAm80n2rvlX/Kr/ggN1BoUJAg2/D38SqxVPGN8ajx2UH34hhSPGJNslfyfcKLsptSqaKx4sSywgLNgrjSvwKiEqhinkKBgonCdCJ0Um7yT0Iwoj2yHFIAwgaR9/HnUduBwJHBMbNRp8GX0YSxchFgUV5ROqEqQR1hBsD2sNlQu1CZ8H0wVABLQCDgH2/sz84fqy+Jz2FfVU8yrxF+8D7fvqIOlc5+HlRuQc4j/g1t4p3bvb1drM2a3Ykddl1pHV1dTz05XTV9Ob0hnS1dE90fbQPNFy0bfRN9LY0u7Tb9UA19TY7Nrb3LHeueAD45vlgOhh6wXun/BN8/r16Pg5/Hr/iAJ5BQMIYApBDYIQoBOkFnUZyRuzHVMfuyBOIhckkCW6Js8naiijKBUpUiknKT4pJSliKMknQSdwJgwmniWIJMsjOyMPIj0h1iADIFUfux6dHc8cXxysG0Ub+RoOGhgZQxghFxYWShV0FHMTIRLDEHkP2Q0nDJwK1wgSB0IFFgM8AYr/Xv2b+xT6yve09fDzefFC75jtf+ua6eXnjuWp4zjiHuB93qXdLNyv2r3ZcNhP17/W6NUm1avUy9Mq0wXThdJI0sLS5NLN0ivTkdMQ1AHVDNZ+13XZJtva3PPewOCl4jPlhOeg6Sfsdu6v8GfzC/b1+HL8Nf+RAYcEEAdnCZUMjg8yEjwVmRdmGaIbch0RH1Eh7SL0I3clXSaDJiYnuCfwJ1goSSi9J1QnnSbLJYQlQyXSJGgkqSObIqch6iBnINYfJh+OHrcdnRzPGzAbnRo/GqoZ1BgRGAAXwxXVFL4TcxJzETkQgQ7dDFILqgkSCIUG5QQyA1ABQ/9J/Y376/k5+Hv2jPRd8kfwMO7h6+7pXeiG5rTkRePK4UTg395i3Q/cCtvv2ezYMthZ12/W09VY1dzUq9Sx1IPUQ9Q51DPUT9Tj1LfV3daB2BDahdtC3afe39/a4fDjzOVJ6N7q9ewu73Px1fPH9oX5AvwD/7ABxwNjBjAJvguyDqsRKxSZFscYmhpsHAkejh9aIdwixSOXJFcltCXUJRImXCZPJvEldyXYJDgkrCMjI9wimiLrIWohJCFLIGcf9B40Hlod2xxEHL4bSRtYGmwZpRhXFyMWWBUPFKUSqxFeELAOLg2rCxcKfAi3BiAFuwMLAkcA1/53/fP7Xvqn+Lb2mPRm8j3wNO5N7HLqo+jl5jXl1ePn4g/iLOF44Mnf6d7+3TndtdxF3LfbV9su28jaYtpO2hraxdmz2bLZuNkL2qbar9s83cTeNeDY4TbjROSx5WrnT+nH61ruk/D58lv1VPeZ+Qv8Ef5mAPQCzgS6Bi0JSwtnDcYP2RESFEIWhRfXGIkaYxseHGcdHR6NHlsfrh+9Hw4g+h+pH1kfix7MHYEd8BxeHEYcCBx5G+kaRxqbGe8YQxjDF24XIRfdFqYWdRb7FTUVthQzFBYTGRKEEYwQXQ9eDkwNLAzpCmEJFAjVBjgFzwOQAuQAYv9q/kb93vuv+ob52ffB9eXzZvIC8c7v0+737Szt9OtU6gLpsOci5j3lweQg5ADkD+Se41njL+PE4tTiCuPa4izjreNX4wDjFuPi4svibuN45LblFudh6HvpQ+rr6vLrZO367pvwZvI+9Kf13vaj+KT6ifzP/vsAfAL/A20FUQaSB38Jawt3DYEP8RAtEl4TCBSoFM8V5xaMF/YXGRj9F+4XyBeGF7MXDBjJF2gXXRf2FnQWXxbqFSsV1RT6E5ASzxE3EXEQWRBPENAPeQ+uDlMNewybC3cKEQqrCaII/AdWB0cGygV1BbsEZAQLBBIDDgL1AOT/Sf9e/lb9Jv26/Jb75fpm+sT5gPkA+Un4Evh991z2r/UW9Xf0TPTb80zzcvNv8wnzFPMq8xfzF/Oh8hDy/PG18UbxTvGK8cvxyvFa8TjxDPEw8N7vWPCL8Prw5PGM8jPzp/OV8+zzcPSQ9FP1gPZP94v4xPkk+tf6+vuS/DH9Lf4t/ycAlAC4AJUBhAIOAwkEUgWJBpMH1QcBCN0IQQlRCSQK2QoXC1kL6gpECkMK4QlhCcQJ6QmjCcoJXAmACI4Iegi7B8YHGAiFB+kGtAZyBmgGmAbLBk4HnQfnBvEFZAV+BGEDFAM+A0IDdQN3AwID8QL1AkMC1gENAscBKQHGAF4AOABcACIA8f8qAAQAUf+7/oP+h/50/jj+GP70/XD9l/zc+8v7APza+wL8h/xX/Pj7Bfy8+7D7Tfw9/Pj7Ufzk+/L64frR+qD6Ffs++y77iPsb+0f6cvqM+kL6v/pa+6n7Ufyy/K38HP2H/XH9T/1G/WH9Yv0J/R/9xv0k/mD+wf4O/2r/eP8a/0f/sP+e/9r/VAB4AM0A/AChALcA6gCEAHIAlgA6ABIACACZ/3f/mf92/3P/iv+A/4D/UP9A/7z///8OAKcAIgEQAfQA1QDWAOIAiACZAEcBVQE/Ac8BAwIBAm4CbAJIArACsgKDAuEC9ALgAjUD/AKNAtcC2QJ+AsEC+ALbAu8CqQI+AlwCLgLLAR4CRgLKAZYBZAHPAHMAUQBUAJwAqwChAOgAyQBFAD4ASQAOADEAYgAaAOX/yf9f/wf/8/4B/0f/cf9L/1z/Xv+3/jL+OP4X/g3+cP6Y/rL+JP85/yL/lf/0/wkAVwBoACEAAQCs/0X/Zf+G/5L/DQBJABwAVwCRAG0AmADjAPEAGgEdAdkA1ADWAJwAmQCcAGIAUQAtALz/oP++/3z/Pf8r/+X+uv7N/r3+7v6O/9T/z/8BAAQAx/+//8X/1v8lAEAADAAAAOL/k/+W/8T/0f8QAGAAVgBFAFUAPwA4AHAAlQCiAMAAuACKAHEAZwBrAIQAkACVAJsAeQBTADsA+f/d/wwA9//C/+7/EQAAAAwAMABlAHcAIgADAC8A2f+Q////JAD1/0EAZgALAOD/y/+p/8T/1P/v/0sARAD//zEAPgDo/xEAbgBbAF0AigB2AFYAOgAbAEcAbwBJAGIAsgCnAI8ArwC0AKMApACbAJoAqgCuALEArwCcAJIAigBkADUANQBYAD4A+v/8//P/i/9a/2z/SP89/1//Tf9L/17/PP86/1D/NP9R/43/c/9t/5f/kf+a/73/tP/I//L/4P/K/9v/7//4//T/EQBYAGEASgBiAFsAPgBgAH4AhACyANwA3wDRAKoAkgCTAG8AYACbALMAkwCMAIMAYABMADwAJQAcABMAAADo/87/xf/D/7f/uP++/6T/iP9y/0n/Nv9A/zT/KP8t/yL/Gf8M/+n+2f7P/rH+tv7F/rX+yf7m/tD+yv7Y/sT+uP68/s/+Bv8b/xL/Nv9C/x//JP8u/yn/QP89/zb/Y/9s/1//jP+z/8b/6//3//z/FAASAB8ATwBXAFoAfAB0AGIAfwCUAI4AkgCmALYApwCOAJYAqACmAK8AwwDOAMoAvAC+AM4A1ADcAOMA1wDRANUAxgC5AMMAxwC/AL4AuACgAJUAmQCUAJQAowCZAHwAbABZAEYASABFAD4ARABIAEAAMQAeAB0AIAAQAAkADQD9/9//yv/G/8n/tP+k/7L/pf+I/5X/l/96/3z/iP95/23/aP9i/2L/Yf9u/4X/i/+H/4T/fv+A/4H/ff+D/4j/jf+c/5P/hP+a/6z/p/+2/9T/3v/T/8z/1//i/9//4P/t////CwAHAA0AHQAUABMAMAAxACUAQgBUAEAATABwAGsAUwBaAGsAbQBpAGsAfQCVAI8AhgCfAKYAhAB9AI0AhACDAIgAcwBuAIAAdQBoAHgAewBpAF8AXABRAD4AMwAuACcAJQAeAAUA/v8AAOz/5f/w/+H/zf/E/6//n/+U/33/ef+C/3n/b/9w/2v/XP9S/1X/Uv9K/0//Qf8k/y3/Ov8o/yr/Ov81/zL/K/8c/x7/G/8N/xv/Mv87/0H/Pf9D/2D/Yv9W/2z/gP94/3n/hv+Y/6r/pf+m/8P/yf+2/8D/1f/Y/+H/7v/w//3/DAAKABEAJAAkACgAPQA/AD4ASgBHADsAPgBJAE8ASABDAE4ATwBKAF8AaABcAF4AXwBZAGcAawBlAHUAdwBqAHEAZABNAF4AXwBOAGYAeABiAGAAZQBcAFUASQBFAEsAPwA+AEoAPQAyADQAJgAhACAAGQAfABwACgAMAAMA7//u/+f/3f/o/+r/3v/a/9n/1v/P/8j/yP++/7T/vv/F/7//uv+z/6n/oP+h/6v/rv+r/63/tP+7/7n/rv+o/6L/nv+l/6z/s/+4/7D/qv+u/6v/p/+z/8P/yf/N/9b/1f/I/8b/zv/U/9X/0v/Z/+n/7v/p/+v/7P/r/+v/8v///wIAAQAFAAUACQAIAAMAEwAhACAAMAA7ADEANAAyACkANgA7AC0AMgA7ADwAOwA3AEMAUABFAEcAWQBbAFwAXgBUAFcAYABXAFMAVgBSAE4AQwA1AD8ATABDAEQAVABKADcAPwBKAEQAQwA/ADIANQA6ADMAOAA9ADQAMQAvACoAMQAnABAAEwAaABMAFQAVABIAEgAHAAUAEgAJAPz//P/3//T/9f/w/+3/5v/a/93/4v/a/9H/0f/W/9v/1v/L/8b/x//M/9b/2f/X/+D/4v/Y/9j/2f/V/9n/3f/d/+T/4f/Z/+T/7P/r/+v/6v/o/+T/5f/v//P/9f/9//z/AAAJAAAABAAcABkAEwAWABEAGQAfABMAFQAbABsAJwAtACkALgAuACUAJQAuADsAPQA1ADIALQArADcAOwAzADEANAA2ADIALAAyADUALgAvADUAMwAwAC8AKQAmACwAKgAcABcAGwAbABoAFgAUABsAHAASAAoABwACAP7/+v/1/+3/7P/x/+7/6//m/+H/7P/z/+X/5P/o/93/3P/k/+D/3v/b/9P/1v/e/93/2f/Y/9f/1P/X/9z/3f/f/+D/4f/m/+b/4f/l/+v/7f/s/+v/9f/7//T/+v8KAA8ADAAKAAoADAAMABIAHAAdABoAIAAoACYAJQAuADIAMgA6ADwAMwA0AD0APAA7AEIASgBGAD8AQgBHAEgATQBOAEwASgBFAEUARgBCAEMAQgA2ADIANQAyAC8ALAArACkAJQAmACIAEgAQABEADAAOAAsABQAGAP7/8P/z//T/7f/t/+r/4v/i/93/0v/N/8r/x//G/8P/wf/A/7r/uP+y/6L/oP+o/6T/nv+f/6D/nf+W/5b/nv+b/5P/lP+Q/4j/iP+K/4z/j/+U/5j/kv+O/5L/jv+M/5b/l/+W/57/pP+n/6X/n/+k/6j/pf+t/7T/sf+t/67/s/+7/8H/wv/C/8j/y//M/9L/0P/L/9H/0//T/9z/3//f/+T/4//m/+v/6v/w//n/+f/3//H/8f/3//X/9P/z/+v/8P/2//L/9P/y/+z/7//v/+3/8f/y/+//6f/l/+T/3f/b/+P/2//S/9X/z//O/9D/yv/K/8T/uf+//8P/uv+4/7P/rf+r/6P/nv+c/5//qf+m/53/n/+c/5n/lv+P/5L/k/+I/4n/jv+G/4L/fv+A/4v/iv+K/5X/jP+B/47/lP+O/4//kP+O/5L/nP+m/6r/q/+v/7P/sf+t/7D/tP+z/73/z//O/8L/x//T/9X/2P/d/93/3f/m/+7/8P/v//D/9/8AAAAA//8FAAUABgASABcADwAOABYAHQAhACYAKgAqACkALQAuACsALQAxADYAPAA/AD8AQQA9AEEASwBJAEQARgBEAEQARwBJAEsASgBFAEgASwBKAEkARQBCAEQARABDAEAAOQA4ADwAPQBAAEEAPgA9AD0APQA4ADMANwA7ADcANQA3ADwAPgA3ADYAPQA7ADsAQAA/AEIARABBAEkATgBGAEoATgBIAFAAVQBNAFgAZgBaAFYAYABeAFgAWwBjAGYAWwBVAGUAdQBuAF0AWgBpAHMAYwBXAGMAbQBtAHYAiQCNAIAAeQByAF0AXQB7AJQAigBzAHkAigCOAJcAhwBuAIcAkQB3AIMAnACgAIwAeACWAJsAeACXAJgAZgB/AI4AdgB4AFoAUwB0AGcAdgCDADoALABSAEcATgBXAD8APgA4ACIAIgArADIALAAXABUAHQAZABIADAAEAAMA/v/0//v/BwADAPL/3v/g/+j/2f/c/+f/4/8AAOH/iP+5//z/zv/f/+//rv+r/7f/u//V/6L/mv/k/8j/sP/l/8v/m//A//r/6/+p/8H/6P+k/5X/yf/D/8v/2f+u/6D/2v8kABMAoP9x/5P/mf+k/9f/8//N/7f/5//g/5L/i/+x/7X/l/95/6f/0P+E/1b/kf+//87/1v+3/5L/j/+Z/9r/QgAcALP/3P/y/8T/+/8CAN//HQADAOX/TQAhALP/7f8gACwANgDw/8r/AgA3AC8AAAAGAAUArP+d//f/KAAjAAwAAwACAPP/9/8PACgACwC5/9D/9v+0/8L/3v+6/+f/6P+v/7X/nf++/wMA5P/p/9z/g/9s/1L/hv/s/53/hP+8/27/V/+K/8z/AQCe/63/VgBeADMA8f/G/8z/C/9s/98A4v+v/mf/gP/S/7cAWwAWABAAR//8/oX/AADc/9b/ywDwAEQAqQDkAAQAEP5e/Mv+jgKfAxgGowau/i74Jvv8/xQCZAIyAEz98Ps1/Jz+RwFgAXcARQAG/yv9h/3v/l//IwAyAJL9Wvte+9L7SP2I/8f/PP5z/Tv+J/9V/83/s/+i/aX8L/9cAmEDaQPCA8wCoACvAKcCzQLGAbAC2QO0ARn+ufzr/TkAEAF7AG0BwQFH/9v89vtt/ogCXgFU/ln+mvz3+98AWwSIBJEE2wJlAIL/mf5n/MX7KAD3A3MAHP1DAAMD7gF4AB0AeQHaAoUClgMtBPX+3Pri/hMEcwV2A6X9pfn/+tT87/6VAdMAcv5q/UP9Qv65/5wAZgAo/6H+Fv45/QD/eQFxAYYAm/7z+8b8CQCPAJoAZALI/8b6sfx1Ac0CdQMHArD9Wvus+8D9qQDjAEb/jP54/Qz9AAC1ApAANf0B/W/9+vxv/pcBogGh/Rv83/42ABMAUgHFAboAiACIAdUB2QC2AIcBhwFfAaUB4gH+AVYCPwNEA6kCEgNqAtgAIwFzAqUDAgTsA+ID0gB9/h4CGgS+ArkDgAIfANkB2ADl/ngDtQRc/9X+TQAm/lL/OwIAAW4A0ACn/qD+5wFTA1oCTQHEABwAYv9wAHUD7gRSAoL+8/0EAEUClATABKkBnf8r/+39yv+RBAkEBv8R/c7+ogBYALsAAwMaAFD6u/vR/7kAyQFZATn+3vxS/uX/8P/Z/2n/Lf2l/Jf+q/+1/3b+ov3z/vz+Qv6Y/5kBKQJi/6L8EP45AN0BhwJDAHz/oQBpAJ0BdgPWAuUBawI1A7MCbwIeA18DLQWHBe8B9QEIBD4D0ASiBlAFlgTqA04EKQa3BT8FgQUtBL4D1QSPBSYFqQSEBWYFwQSEBSAFlgRJBI4CTgMCBfcDCwQpBMkB6wAxAqwCygE3AQEBpP8L/+H+JP2j/c7/Av9O/ST9R/0B/Dj7y/3x/WX6+Pq++7P4BPkp+1P6bfkI+YP4lvhA+On3Cvh199P2S/cK92b1A/VX9VH1U/a/9TH0p/Wb9RXzG/Nx85bz7fSG9LfzQvMk8lHzzfTw8/PzrvTF9Ff1RfYB9wD3Jfec+ET6ifu2/Ov+vgFTAgwDlwXtBiIJ9wvyDK4PAhL5EWAUahbRFnEZSxsgHBce4h4PH2Af0h8GIWsg7R5EH1kftx7zHYUcURvWGdYX5hZ6FpQUoxHVDxkOVQuZCXkHfgQnA/EAzf0D/DX56fY69ib0sPIm8j/wiO667Kzqfuk86NLnzucW5nHkp+Mw48jjXOPs4C/gQeGD4NPfgeAF36ndod5n3sLdQt013Abcn9rA2c3aMNqJ25rcgtkS243eLOBl5fDm2eUi6CvokOxA8y7z4vc8/Mb5QP/xBOEFlA20EwAW8xkZG9AdcCLiJcQrsC5BL+ExHDEVMaczPzN+NFk23jT/MxoyOi/VLiguTSzwKY8msiOZIOkbzRcAFZsRtw6nDPgHswM6Aqf+7vsP+x736/Wx9k3zM/IH8hnvBfC08azwQPHu8SzyJPOc85T0nvXS9iD5Tfpp+sn68frm+mz7+Pw9/XD8c/x4+r/4K/mu9sL0z/SI8ebujux25zXlK+RI4Tzextk61pTSvM19zQDMOsekxyjFbr9Mw83IqMrQzgjOjshTyZvP9NeA4APmTOlI603t4vHP+CMD3g/tGD8cihyPHu8lhC/yN7E+Y0G1QbBDRUULRShGN0nTS2RMi0pRR1lEdUEYPqc6RjcNNXQzZi/NKFcgHRgNFb4THQ/cCp0Gmf9I+Vb1HPIT77jupPCF7mfqvOiO5mvnUevB637t4u/Z7W3uXPFf8vD1Nvvi/kMA+f6s/nAAlAJmBRkIOgovCr4HswbXBc4DWgSgBW4C9vxc+tD3tvL973nt5uev5Hfi8t1d2MfRic3WyaXEN8NxwPC6h7lOtvixrLSpu/HCj8bExr3FMcN3yZPWK96V59TvrO9E8375vf9mDKwZHCUZLOEscDEaN908xUjeT0lSylcRWGNVclbYVYdUQ1fHWIFTYE7ZS+ZEfT+gPZQ3XzI6LmMnrCDNF+0QpAx0BcEBAv1W9cvzTO5n543nBOPf4DjkhuG44JjgpN6f4gDkq+T/6X/rJ+7B8l/0yfcy+2P/PAT+BaEJPQtOCoENMg6nDl0SfRICEuoQMw4LDJ4IfQiQBkkA/f7o+N3wNPCd6BHiFuGQ2LfUm9LoyanFiL8MugC4krEVs52xXKjorOapF6JBsUS7Yr4pytrG+75NxR3Q8uCB8jb9ZQGH/gkBjgkAFJ8puzzeQepDWkLlP71HXFdcY05n5Wh0ZWldKV2LXbFaVF6DXRFVvE7BRlo+NTibMiEtIyQDHu8aexBqBrH+nfNe7lLt1+nV5g3iZ9vZ1ZjSgNLZ027YGt2T3BzcotvD28XhEenc8FX3X/gr+1n+JQG8CdQPoxOiGb0ZvxjjGn4b9BwIHsAeCx4JGTYYLxfRD7MMFQlaAtUAzfwe9hrxced13h3Zn9LazX3JVcOcvFO0Pa6arK2qdKaEo62h8ZyUmwWf+J0AoLGpAbItvHbFp8deyu3OmNcN5432iQV9DlkP8xOKGqQk3Td9R31Q9VTSU5ZW81rgX/9qCHAGb89udmiXYg5gTFz5W4dXG04uSHU+KDS4LqsltBugE3oLPwX3/Qn3o+/h4+7cDNoV1QPVPtVX0LnNssuXybrMpdFD1qHbpd7233LjNemI8BP5ZwBKBtgLaw8cEwoZwB3xIcwmnCnVKvMqkSrjKQIntyS4I58h6x7CGCIRWwvFAg78wfnG89/smubS3cnUysoMxaDDkLyrtpqy1qhdpL+jD6DNoHyfzZkNmbeYApjEmtCfwqW2qFmxYMLGy5PTR95Z32vkf/VtBY8V2iHpJOEodS4iNmtEZFKIXWxl5GV9ZG1lHmdKbA5zU3TPb6BpjGOVXXdXzFJ6T+RGCjtPNOcqvR2zGB8ShQQH/Qf3CO4v6b/jy9uB1V/Q4M1tzMfL081ozVPMm85+0HbUqttY4QDmfeqG72H21/15BX4MaxN3GZEcPCG5JgEqnS9SMvovATEAMcQvAzLNLk8ooyW6IG0aNxX8De0GLgHJ+u7y3+pF43Pa+9N5zufECr+Muy60BLBEq+SkFKTVoJyeZKEjnvmcl566mqydVKKdo5us2rBVsmvAx81s2VXo4++F9Nv6wQTVFSkjdi4bO5Q9HUBhSTdPHlmkZsxrzWwsbftqPmm5aw9vxGupZuJiZ1pjU/ROvEaXP0g3GiwEJAgbbhJRDFgD8Pob8jTpnuaO4WXaTdjC0hzO986czZLPYtPG05fXIdmr2J/gR+lE8Or4DPyJ/boDXguAE2EbSiL3JZ8mxyouLiguTjLHNKUxei/8LMUqnyiJI+getRcQD/QKugRe/rv5iu966M/iM9fD0lTP6sWswiK8K7LnsG+sDaj7qeukXaAtoSifAqHQpNellKcKph+mk6tmsBm4/r6TwSvKptfx5Xb1i//zAiYF2QzrGkcoRTcFRdhHz0i9S0FNp1XKYUBqZm0jaDljlGEqX0tic2KXWpJW70+iRdhAsDm2MZwsWiLQFyoQZAjBA/H+Lfcc7mTl7eHD343cE93Q2ofVmNRI1InVQdvI4GvkU+XT5fXpafBF+RECDAdPClwNMRJEGOYdgSU1KcUoiCzDLD0qmy4gL+EqASr+JJcdMBphFpwRdAzCBef9RfYo8QDrouPO3sXXqs81yvnDKb8au5q2b7SRroOpgasNqXumh6nWpnala6pUq7GtfbLosW6zkbiiun2/DsjXy+PRouE47036VQgyC+8IYhMxHosnojjmQuZEgklySyxLkE6SVFda2ltcW79auVd0VphUfE1hR6dCID5zPEM4xTCoKUQgUhatDsYItwbWBfcBk/yZ9DLs9+lT6R7nnukE66fnFOkD6jznm+sW8FjwdvU4+cr7ogNECM0K7w4kECATHhiWHDUiKCQYJRgmCiKgISYjnR83IPwfVBkJFTUPkAdzA3H+7flN9S7vauxe5/TfANvW0g/NBswMxybEfcJ4vM66i7mXtFi0N7SBspWzsbKgsva0xrUZuf26AbqGvUC/TsGqyVTMGc7F013T4twN8lD+VAtJFMIMEw4/GUYh/DGKQdJGfEqrR3xE7EaYSQ1Tz1m4Ve5UgFLnTBtNLUnAQmQ/oDl/NhkzciwZKZAhfxbeDhoHLQVjB0IF+AJM/PXyTvHK7yzuV/Jq8ybxNfEO8QXxHvTl+EL6HPpv/XcAsQSODKoQkBJNFSIVEBYAGt8doiFQI40iKCAPHd4bcBpiGDUXohMGDtgHuwGm/Yz5qfVU8Z3q8+bl4/vdV9rX1PjOLc4EygbFFsTLwA6/Ob/gu9W42Lavtqe3/7Uat0u5PrhrumW9SL0YvhHB08RFxbXHo84tzUjPvd9a6iv2/QjNCXgFDQ5zE98b7y0mOG09PEQmRPVBJ0T7Ru9Lt1E+UuxQ3FA9T8tMTUlGQyU9hzkIOG80qy9RLH4j8xh3E8QK6QUTCkoHzwIrAj/61vTt9VjzoPJf9I/0nPXS9Vn3Jvki+ID6af3+/dUCqwhMDDgQMBPXFGsVHReuGlwc0R36HwsgxB7LHGcaahbDEq8SNQ+OCSQHhwCD+rz4t/Fh7PfqKObS4qre6NfN06DQWc9YzJPGQMUMwua+28CuvfS7070Ruoi5ILmett67p70VvY3Btb/DvifCNsK+xj/LCM1U0NbOHNbq57nyFwBDCXIDLQdDEZgV1yJcMHk10DzZP5A82j3IQp9Hl0viTGZLV0raTH9N+Eh7RSNBJjrEN9U1ZTBEL5ss5CFDGaIS4AvCDL0NtAivBd8BcfxX+0D69/hd+pn6hfmg+EL5RPz0/gcBSwFnAMcCvwU5CYAOjRDGEsIVRhTpFAYYgBhsGicbGRhYFk4VyhPxEVYODgpxBfIArf3T+tj3K/Tq70LryuYK5PHggd3O2kbWWdPw0XvNk8sByxrH0MU9xVzC1sHLwiTDssEQwKzAf7/zvyvE9MOrwojEX8UNxuLHP8rLyQ/L+tbV4YrqP/hr+b72kP9KAsIIzxgTHiQlxC4lLekvpDQONWI7Sz8EQNpDCUZaSfpKjkhYRppAPT3MPak6AjvmOjkzgC0GJxwe5BqNGY0WURMPEE4MQQd/BT0FhAEXAGn/vPt8+x7+Jf9n/y0Aif8E/bf+9wGjAm4HlgoWCY0LPQypDIIRoRGQEXgS7Q6KDzEQNA2SDfkKTAbOAwkAtP4Y/T/6hPjd8Rjugu6V6dvnhub139Ldfdtl13LVPdLY0YPPOspgynPHrcVuyhXIQcVoxZ3B7cEAwzrDHsaNxH/FuMf7xKbImsqtyJTPCtbq3uzrnO+u8uH0s/RW/mgFRQqZFdwYZhwNJO0ifybLLQov/TPXNrE2wzyDQcFDxUQUQWA9IDuFOvE6ajqHO+w4PjLaLdQmFiKdI/kgRh5IHRIYHRaIFX0RNhAaDugJOQlUCDsHZgkjCnsHZwXfA6ABswLyBcsFKgbbByMGzwWjBxEHHgdFBxwFvANpA3gDtgNHAgUAqv3s+kf5U/iw9hz1zvPZ8ZXv2O0e7Ojpk+d45WfjTeFE4D7f2tzK2yXbyNjY1+/WtdS21KTUJ9Ni0vvQCNAU0MzPsM91zgDOG8/mzhfQrdCHz5zT4diY3WLlr+c55+HqGOzM76f3Gvv0/9gFZAdbC6cPHRIhGPMcgx/oIwwndSoPMGIzmjRBNQE0uTJIMww06zQgNjY1uzJKMPUsuirdKQUoCCf5JY0jpiJVITYfaB5mG6oXIRaUE08SNhMxETkPpA+iDT0LGwuFCMUFWAc1BzgF1wbsBpYEpAR9AjT+Y/13/Yr84/sL+/P5o/jL9xb2a/JV8K7vlu5L7tftZ+3h7CbrM+pA6CLmledM53TlQ+ak5Ublmua55bzkruMe4zLkk+JC4tnjYOF/4b/iLt9j37TgKN6U3o/ejtw/3RzdYt2437jgjOLu48HiaOMP5ZfliedO6hbsw+7T8ub0UPY++hn9s/+ABM0GXAm/DlwRIBSjF8MX/hkgHRMdJB/mIEIgMCIYIxsiWiOuI0wjFSQ2I5AiJCPEIm0jECTcIuoi5yKIIbMhPSF5H3MfJh9uHrUehB09HMAbTBoCGnQZVxcoF1AWKhTuExsStQ+XD1kNhApLCbQGQwUTBZ8CVADY/p78N/sq+hf4OPZf9VD0lvJ+8U7wkO6r7SXs0em26LLn1+Yy5lzkPONa4obgMeCJ37Pdrd3w3Jra8dlq2dfXGtd51uHU59Pz07rS3dCR0GvQv9Br0gLTUtNE1K/U89UR1xXYbdsU3lPggOQC59npA+8s8qD1u/qj/pIDhwgJDMgQ3RSfGHUdnx+KIRolNCbeJzYrBCyZLY0wqjDrMF4yBzIQMtsyCTKYMVsybjJ2MpwynzFqMKYveS5VLbgs2CvDKuIpqCgwJ9glFCTcIaIfbB2JG+4ZQxiWFm8UyxFYD84MaAqwCM4GkwR1AiUAxv2f+575rve89Qj0T/It8Enus+z36nDpDuhP5oDkHuOz4fbfqN5t3eXbCdst2rnYpNdW1tnUFdQr0zXScNEL0N7OG84SzU7Mj8unylnKwcqyy8vM4s3xzojPUtCs0R/TeNW22AXcl98O4zPmlelm7fnx/vbz+/gAlQX9Cc4OaRPBF/4blx/NIsQlQSjDKmMt4y9lMmk0pDXsNv43XDjAOII4jjeTN7U3YTeWN/w2oDW7NDczkTFuMAkv7i2ZLMIqPilXJ5UlNCTEIU4fHh1+Gp4Y+RbuFB8T9RC3DosMBArsB9YFjwPEAaL/Sf1c+3T5u/cE9hb09vGE75vt+esU6sLoROdb5fbjJeIU4HHetNxl2zXastiP10PWEtVg1AfTldF10CvPV86OzXjMeMtJypbJPcm0yP/IlskiypPL0sy2zSXPXdCl0XfTc9Uw2JTbJt/j4iXmQukS7VrxK/Zi+zMAoAQQCZMNERKOFvMavh7bIbUkJidmKTMsEi9fMXMz9jTUNf82Czh/ON44qzhIOFo4ADirN103HjYcNRU0JDLVMJUvxi2gLAUrwyj7JvYk/CItIcEeZBwIGqoX4xXbE6URpQ9gDUoLUwlKB3MFXANeAVf/u/y0+gz5M/f/9V/07/HY78Dt3OuU6i/psuf/5QXkMOI94HreM93X23TaIdmf1x/W6tTh04/SM9EE0JPObc2YzGfLeMq2yefIm8hOyFvIJcniyU7L8My/zSDPmdDL0WHUP9cb2greeOGs5JToFOxM8Hf1/vnG/n8DRAfRC8oQBxWdGb0dmCC6I8cmNCknLPcuEzFWMx81YzbpN/w4rjlJOvo5ZjkbOX44FTjpNwg3yDWXNO0yBzGRL/Mt8CttKsQohybqJCcjxCDjHowcrhmIFywV+xKSEZwPvQ0kDL8JywczBvMDLQJVAJ/9Yftd+RT3cvXN84DxV+8e7cTq/ehS53/l2uPw4frfdN7z3K3brNpL2cjXTNbP1LHT4NJC0nzRTNA7z/HNk8zvyxPLJsruyXPJVckyyg/Ldsw0znTP3dAW0k/Tc9Xm1/va1d5K4s3liukP7R3xsfVX+v/+dwPrBzAMgRA3FWAZJx3kIJ8jHibsKDArvS2OMKoyvTSZNsU3DjkFOjU6SjruOS45+Ti+OBI4gzdRNmE0zTICMQMvuS0YLCYqkShLJvEjIiLKH6UdrRvNGEcWHBSgEfkPeg5SDGcKTQjYBeIDFwIvAFr+Xfww+gj4E/ZA9E3yL/Dg7XHrM+lY59PlUOSz4gThAd8N3ZbbKtry2PnXh9bt1JrTUdJs0d3QGtAwzyzOL815zNzLZ8sWy8PK98q9y8TMYs4f0IbR/dI01FfVSNfF2ePcteA95JrnHut57lnywPYS+6X/KwR2CP4MYxGqFekZgB25IJ8j7yV+KDIroS08MHYyCzShNe025TfEOBg5/DitOC046DegNwk3UTboNO0yKzEyLzUtuyvUKakn4SW4I48h0R+OHTMbBBloFhkUERLaDw8OJAzoCQoI5QXQA0MCOwAm/jL8rPmP9+D15/NL8o7wTu5V7EXqFuhM5nTktOJE4cPfXN7+3IPbLtrW2HfXTtYg1Q/UStN10pHRzNDnzwXPfs78zWzNKs3yzOHMfs1pzpTPMNG90k3UCNaw16rZ/duX3s7hGeVk6PrrQ++z8qb2WvpN/oUCTAZiCrAOnxK4Fn4amR2TIBMjViW4J+IpMSxzLkUwGTKIM4I0kzUjNkI2YzYLNpg1ZDXpNDU0PTO+MQkwTS6bLPYqMyllJ3UlaiOQIbgfwR3LG58ZQhf+FNUSzhAHD2ANjAuJCXMHSQU/A3UBmf+c/ZX7aPk/9071gPOn8bTvpe1r60HpYOeG5dLjcOL04HjfId6g3C/b69mc2GnXW9Zx1ajU39NL07TS+9GW0SbRp9CJ0CjQrs+0z97PrdBE0tnTntVK14XY99mD22LdDODc4u7lPuko7EDvdvJ/9R353fxnAEIE5QdnCzYPuxIaFmkZWBw8H+YhPiSJJmooOypULC0uCTDKMcYyaDPBM6AzkjOOM04z+jJpMn4xSDDSLlgt3StFKoYojCaKJMMiEiFYH4UddBszGfsW4hTsEhYRKw8fDS8LXgmUB9QF+gP5Aer/xP2I+135evfX9TP0kfLH8K7usezA6rDo6uZB5YvjGuLA4IffdN4p3e7bx9qe2dnY/dcG15fWCtZY1fjUTNSp02DT39KV0pXSfNK70lDTVNT11Y7XI9mu2vPbl91x31zh+uOe5i3pROwR78Lx9fTi9+n6bv6cAcMENAiCC+4OehLDFcMYfBsUHp0g8SIrJT0nGikQKwEtlS7YL7gwEzEvMUYxLzH1MLgwRTCiL9Quoi1CLOEqVCm4JwUmJyRdIqIg9h5wHcMb3hnNF6kVxxPzEQUQUQ6SDLcKEwlLB2YFswPEAZb/j/2L+4D5n/fQ9Qf0QfJp8I3uruzO6g/pYOfK5YnkUePy4cXgi98n3hXdBdzo2jLabNmt2EnYnNf91rrWOdb91fzVlNV11YjVc9X61dnW29dm2e/abNzs3Q3fceAv4gPkaubc6Cbrzu1C8NHy8fXg+Ob7Cf/LAQMFVgg3C5gO8RHIFOkXnxrXHGsfkCFGI2YlcidUKTErlCy2LasuJC9uL5Mvki+fL1YvwC4pLjAt+ivCKkEpySdQJnEkrSIFITMfpR31G+gZLRh5Fo0UxBLRENYOFw0zC08JcweHBdUD9AHv/0z+Xfws+ln4ZvaV9CLzRvF17wTuWuyx6g3pVecA5r/kcuNw4lPhK+A23yXeRt2v3AjcgtsG22ba69mC2TfZL9ka2QXZFdkT2SHZeNkV2u7a8dst3ZTe49864ZPi5+O65dXnpOmg69vt4O8d8pf03vZ0+VH87v6uAZgETgcqChMNvw97EhYVYxfDGRkcPh5cID0ixiNfJSEnqyjNKa4qTSuoK/cr/CusK4srViugKt4pFykMKOsmnyU6JAAjlSHYHxceaxzsGnYZ0RczFqoU6RL4EAwPPA2HC9AJEghRBoEErgK/AKf+tPzx+hP5R/et9f3zZPIA8Wjvw+1i7PPqcekR6K3mYOVH5DHjOeJw4aPgzN/03jjev91J3azcLtzx29nb09vc2+3b8tsI3EXcmtw93S/eKd9h4NDhAOMd5FrlmuYL6J3pSutK7VHvTPF/85r1r/cB+kb8tv5rAckDBAaFCAMLcw3ED9YR8hMTFhcYChrSG4YdKh+JINIhCiP8I78kUCXLJUkmdiZ5JnYmLSbpJYUlnCTCI/YizSHFIKMfDR6oHFgbyhlTGNgWaxUhFIgS3RBWD5wN+Qt9CvUIpwc8BmoErwIEAV//0P0U/Hv6EPlT96P1L/SY8i3x3O9X7hftGezo6rrpwujc5+XmAOZz5fvkYOTe43LjJuPz4obiPuJS4kLiReKS4tDiM+Ou4xHkzuSq5VXmSedT6DPpU+qE65Ts1e0r74Xw/fFk89X0ffYt+Nz5pfuJ/Xz/VgEZA+kEuAZuCDEKFAzVDXMPMxHOEhkUgxX3FhwYKhkbGs4abBvtG2oc6RwVHRgdLR0mHS4dMB3hHIwcIxxrG9UaWBqFGZEYuhfwFgUWzRSFE1sSJRHvD9AOlw02DNIKjQlUCAsHyQV4BA8DywF4APH+gf0b/Lr6lPlY+PP2tPVo9BfzCvIF8fnvG+9o7tvtP+137MbrLOuj6mjqVepM6mvqb+pi6pnqt+qZ6s/qTOux6zzs++ys7VnuAO+277nwv/GX8qLzpvRf9Vv2ivd9+Jj57PoK/Bz9NP4X/wMAGgEUAggDQQRwBSQGugabB3sIOAkLCv8KEAwDDaENMA61DvsOTA+0DwIQUhCnEPsQQBFFEUsRXxEdEcMQfhAzEBUQsw/vDrEOnQ72DWsNIw25DF8Mywv6Cn4K2AnOCCQIwAcrB54GAAb4BLwDqgK9AdIAJwDC/zz/rf4Z/hL95vv/+gX6IPmb+An4UPeh9sH15fR19B70ufOW84XzWfM589XyNvIR8hjysvGG8ZzxKvHL8P7w7PC28AfxWfGM8fDxI/Ji8vzyKPNC8yj06PQd9aD1LPai9l/3v/f89+f4vvk9+gb7ofsH/LP8MP2j/Zn+pP+GAEEBvAFjAggDIgNcAzIEEgWXBfQFjwYnBycHGweXBxsIeQjfCC8JYQlZCRoJ/Aj0CPcIKglECTkJRwlKCU0JbgmKCbgJwwk2CU4IfQfIBhIGgwWUBfkFywVBBc4EAATpAicCzAGmAWsBCwHAACgAGf9O/uL9Zf3r/IP8FvyX+9T6EPrK+dz5+vkH+vD5zvlu+Z348fe595T3g/d89zP36fa19j/22/Xp9R/2avbR9g/3PveJ97X32/c1+Hn4tfhC+aH5kfkJ+v36TvuM+278Cf1W/db9+v1E/jH/if+s/5gAGwFVATECeQKAAn8D9gPAA0EEegRSBOcEDgXZBNYFqwZoBqIGMAccBwQH+AbPBiYHcAcmB0YHxgewB4oHuAeRB0cHFweEBvIFyAVeBd8E7wTxBHME8QOKAxkDkgIYAhkCcAKRAnUCOALyAZUBxwASABMAGwDr/8b/XP/q/or+rf0P/Tn9OP0j/VT9KP3l/OX8m/xO/ID83fwQ/fL8wfzK/If8APzo+xD8LPxG/Dr8W/yT/GT8hvwm/Xf94P1X/hH+0/3S/U39I/2I/Zj9Af7Q/vr+E/+H/7P/2/8vAHAA8wBvAVQBVwG6AaMBawGtAbABhwHKAbsBcAHcAXICyQJAA3wDogPbA2UD3AJAA7IDxQPxA98DuQOiA7sC0QEdAnkCbQK/AvYC8QLKAvABTAF9AZcB2QFzAssCRwOoA2ADMwMTA4AC7wFCAVQArv8e/6H+z/4x/1//2v8nAMX/m//Q/8r/4P8HAPn/DQDq/zT/tv6T/lT+LP48/hX+t/2c/X/9BP3t/Df9Kf1G/Y79a/2R/fn9+/1g/gL/5/7r/jj/y/6P/hL/Kv8j/3r/Zv9O/2r/5/6e/hb/O/9S/7P/sf/R/0wANwAYAMgAWgEEAZIAlgC1AMIAtgDNAI0BMALkAZkBowGYAaIBTAHEAPsACwGGAGIAUwBlAAEBFwHgACUB+gCeAJsAQACEAHwBSgH5AIoBLwFPAAYApP/R/3sAMAD2/1MA8f9t/3T/Vf+L/x0ABQCz/97/6P93/w7/CP8s/yP/y/6B/sf+CP+U/mX+Av8o/7T+t/7o/sD+s/7g/if/ov/m/7P/pP/K/8H/4P8UAPD/LAC9AEMAcf91/0L/uv7Y/ur+q/66/oT+Ef4c/ir+Nv7L/kP/YP/N/x8A/v8EABAA6P8sAG0AEwAmAKIAdwBbANgAOQGcAf0B3QGpAWgB5ADcADEBMwF7AQsC+wGoAZkBWwHvAKYAigCyAMIAaAA0AG0AggAXALL/sP+N/1X/cf9V/yn/bv9x/0n/QP/Z/uL+VP/Z/oT+If9f/1n/if+S/9r/KwDf/7P/+v/Q/0z/Xf/p/00AmwDYAMYAbwDN/y//MP9h/1T/v/+BAIAAAADk/8P/YP9s/9//LgAmAOj/4v/S/3v/ov/h/6D/xv8MAK//fP+1//n/TgB9AIoAgwBJAEEAggCeAJcA6gCQAYgB8QDUALUAgQDnADIBTgGYAU4BwgCeAIsAmQCrAKoA7gDxAIgAOwAKABMAZACPAKUAywC9AHcAVABwAKkA8QD4AKQAUwDu/4H/bv9g/0//iv/M//b/5P+5/9b/wf95/4z/vv/s/+r/zP/v/6L/af8LAPL/Vv+T/4v/OP87/yn/gv/M/1j/Nf8r/8/+2/4C/0H/uv+G/xn/Yv+1/5P/V/8o/zT/kf+u/5D/u/+3/57/9//W/5P/FQAJAH7/mv+b/1H/V/+g/w4ALgAXADYAMgAuAC8AEQArAA0A0P8MADUARQBdAD0ASgAbAM//KgAkAMT/AgAxAD8AOwDl/+T/3/+v//v/GAAVAIMAsQCMAG8AOgDj/4v/gv9s/0X/of+x/3n/x/+j/2v/+P/i/1H/nv8SAO3/sf/Z/wQAyv9w/1j/vP/0/3X/ff/x/7v/zv/+/3j/a/+//5f/m//t//b/u//t/4MAYQDd/+3/DQD9//b/EgBbAEgADgBPAF0A9P/z/3sAqgBeAE8AIgDz/3QAewAFAEoAYABqAM4ASgD8/4QAPADi/1IAnQCiAGkADADX/8f/LACgAJ0AqADEAMEAmQA4ACcATwAxADwAfQCfAL4AswBsADAAMgBSAEYANgBxAKYAXQALAGIAjAAlADIAQADt/xUAHwDI/9b/2f/j/0kAbABcAC0A8f8UAAIAqP++/93/qf+G/4//hv9i/2f/X/9B/2P/Yf+H/xgA6v92/5X/gf+l/+P/Sf8R/1z/G/9A/9D/wv+c/wAAcQBAAO//IQAUABsAfADm/5r/UQCp/+T+tP+6/zX/ov/5/xUA7/+Q/77/mP9C/4n/S/8k/4f/Ff/K/i7/UP+E/3n/ZP/H/4X/Nf9X/+3+F//v/8f/Rv9w/6z/JP+L/iz/0v97/1P/nv/v/8n/UP9X/yv/Hf/W/8b/f/+k/2P//f8+AAf/Af9b/x7/tP/H/7T/LQDB/3//PP+R/mH/1P8X/3D/9f8LAC4AAAARAJP/oP41/xAAp/8K//f+SP+d/8P/X/8t/18ArABt/53/PgDe/+P/GAAUAJr/5/5G/+b/PAA+AG//1P9tADT/Yf+XAHIAdgASALD/jQB0ABMAQwB0/2z/ewChAIwAuwDgAMYALAC2/7X/IQBDAOL/lAAoAaMABAHaANT/PgA/AMH/dwDDABQBjgFJAEP/4P9QAFIASwALANH/CgB8ADwA0//+/xcASACJACQA+P88AOP/1f/SACABpACdAPv/7P7U/vX+l/9RAHj/Iv8SANQADQKzAXH/t//IAZUCUQKcAbsBQgLVAR0BTABSADEB+gCuAMsAJAGRAlMCcQArAC8AKQCsAEgAqf8J//n+NQDHAOUATwD4/kwAFgEZ/2MAWQNsA/ECkAIWAhUCoQHdAH8A4gAsAf0CTgjiCHkDVgSXB0cEpAL5BJAErAL3AQsCPAKlAUUAfv4S/cT7sfpO/Lb+ff4+/rj+w/10/Qb+7vte+Ub6M/uf+ir8rv0I/QD97PzQ+9369Pqe/FH98f1bAHH/Bf74/zv+M/zI/RT8uvu8/hT+fP4YAP79pv05/uH7ifpp+1b9tPys+ff7jf5n+/f7of4n/Kb6n/qE+cD6XPvJ+h39V/6Q/BL7oPq4+8D7XvoE/Br9U/xl/7UBEACT/yL/DP9gAMX+xf25ANsBjwD2/3cAPwE/AHP/RQCX/zz/9ABqAQ8BtAEiArEB4QDh/9/+O/8cAIf/IQA5AW7/jP9NAn0BD/81/rb9lP4tAJIAcAFRA0MDDgEZABMATf/Z/1UAFP9gANMDkwSFA2sDHAOXAFv+J/9OAMIA7wFTA3oErwNkAnwDWwJ2/9T/0f/y/9MC8wM2BC4EfQGbAG0BJQFEAmgDtwNgBA8EzARUBu8FkAXGBHoDsgQ9BrUGIQjrCIoH+AXEBaQFRQVPBikH/QawBxQIBQgRCAgHgQaGBVYDVgQnBtsFOAcHCFYG6wWeBSAERwPdAswC9QJfA30E4wQsBHECvv+C/vf9a/wv/Rn/YP5t/m//hv2L/Ej9ZfpM+Fz6tvlt9+D3jvdm9374gPaB9Kv1k/Vc9Gf0YfQu9MzzN/Pr8+T1d/hh+sb6Pvzg/c/8gP3EAIgBpwIiBlsIfwr9C2kLLQxoDJgL6A2XD9oPPRLTEoMS9BPREocR1xJvEsUQxg/ZD+sQnw97Db8M7gkkBzYGTARVBCkFrwL6AX8CoP9P/oD+zvtP+kz6Dvjl9gH4C/gx9072RvW49C30KPOF8oDyQvLf8ePxRfHo73fvCe/G7O3pguhJ6MnnJeeH5trkW+Pd4jfiAOJM4R3gWeHY4h3kgOjA7EDvifFM8WDx2fRW+Af8ZACxAyYHoQqWDT0Q4RFsE8ATAxNLFeEXbRiWG7seXx0RHAgc1hlCGJUYRRaUExMUxBI+ELQQbQ+vC2oJlwZEA9EBawETAXAAJgD0/mj8Ofzi+zX5SvmJ+Xz3KvgG+tv6EPx7/H/8+fu/+hP64vgQ+Xb6+Phf97b2E/WO9B/zIfDz7QPrpejD5jvk6+P44gfhXeCN3KvZ9tqI2sLbct/F4ZLlQOhG6r/ugvBT8874P/og/eEBaQSKCioQixEFFQMY8BjEGkgcUh71H6kgTSIuIhAigyN5Ibwe+x30GlUXqxXnE4URkA9YDtoMDAs/CRQH1gWFBBgCRQFdAQIBhwCW/3kAOwFf/8X/pQBg/4gAowEXAUgC3AK+AhcDFgJsAPj9bfw7/Nn4HPbB9uz0FvJA7yPqU+dL5uTim9+K3Qjbwtd11VrVodVO2OfdjuBU4nLmruht6+LwyvPt9eD7XwIFB5wMTRMAGEsbDB5dHg4f1yLqJYkn0SluKhEpaCkqKigo/yVVJBEguhvMGAwVYRO0E34RLg6rC3cJdgejBCICKgDw/fz9Bv9j/18BTwL3ABUAtP57/q0AAgJQA+EEuASWBMMEaQSBBCgEFQIQ/7T8jfot+Hj37/Wh8fjtkuk95OzgYNya13fVNdJ7zpTMqc1m0obVRtgY3c/eLeLx5//pPfBr+Pf6OwHTCKgMrxQwHfkiGChDKDwogSrZKpksQS3YLA8wry6CKjYr6ShqJNkh2Bs+Fk8TRA81DeMLHggxBKYA3/7b/TP6/fee+JD3g/Zq98j4r/uH/pf+N/+wAfUCsAMCBbcFfAUcBQMH8AkACiAJNwd5Ao3+sPlx82vx7O7+6LrkqOCS3B3ZqNNzzizJSsT5w4bF5MlX0T/VytkK4Ibifeep7pfzbvoHAK0Evg2CFvUehydkK18ugzDwLyYyKTScM+szwzEdL3wvpS5jLfoqBSSkHCYVGA0aCY0GAQPWALf9Kfod+RL4mPZz9djyFfCT78zxivVP+OD6Of58AFsCdAQ4BuMIowqeCbMInAlSCzcMHQymCiUFeP7e+ffzpu5R6l3jT9983ATVls+lyx7GbcJ9veW7XsEOxjfNKNVO2P/eXOQb5wbx1vak+ZoDXAqQEs8e2SSsLUk1BzQFNq82TDUPOLw0ZzKRNCswJS/5L7gq2icVIAAUlw4UB+3/+v2d+U/3DvZl8mnyBPKM8BTxpe/B7vHtI+1W8pP40/zxALMCWAVjCAwJLgocC60MUg3xCvwKRAoXCK8IdAMs+xz25e0x6O7kb9zp1a3QJsr2xWnAJ76VwDTCX8fDymTMjNUd3Hfg9OhW7LPxDfwqAvMLOxgHIcMq4C/dMYA1gjboOYU8RjmqOKw2ljPhNTgzNS59LFwk0BqZEwwKKAUZAub6TvYI8/bufO0O7EXrauyl60XqV+pq6gLso+9Q85X3Gfu7/AwBYAZ+CMELJA5/De8OGg3iCbAMKApHA7v/VfcX8bvu9OQ+3hjZ9MzPxi7DIL8rw//Ed8YDzJDLsc791bzZSuOy6Tvs9Pdj/hsDghFzGvkjii/jLqcwrzaiNi06Cj21O4w8JjryN702mzF7L3YqoCDcGmsQbAZPBUX++PUt9O7vNO8A8TLsQujd5qblPuar5pXpeOxD7QjyXvSG9W/+DwQJB0sN0AohB8YKLgq8CW8LCwcEA/7+Jvc48frro+el4j7YdM+7x8zAFcRiyPzJFtC90EnQ9dce3KbfHOfA6vjv4/el/twI3RRUIBcpMy2pMWQ0bzYwPJM9kTx1PSs7ZDtEPEE34DKtLT8mah7bEncKOwY1AVn+Q/jT8anxc+/B7k3vxuh/5RPlZ+Po50DqZupe8H7zNPU9+m3/5gYiDF0LWwgaBowIzgpJCikK8APR+/j34PGm7MLnBd/V10DQ1MjBxJDElMzZ0aPR7dYh2CvagOSb5h3qSfMc81L4VQQVDMQYwyQ3LPIyEzNVNFw4rTqDP+E8dje8Ouk4/jX+NzgySCudJW4aehLsDWQHgQFs/f/5nfQb8mr0yfLl74jtm+h86HfpRObC52ft/vHS9f35y/9gBKsHFgk+BlAFtASbAbsCHgLs/DH66vbu8dPqquHD2wvVosxfxWXAKcdO0TfUiNlN3BzdceTe5r3pSfFQ8gr4cgHTBp4TwCCUK0w3dzbgM5o4FTpnPGo6LDSUNkc2YDLeMm0vgC2fK8Ig2hcpEEcG0QLq/135OvR48Vry8/M280Hxhe+m7z3sCuZJ57js4/D59Hf3+fq4ALIEnAVxBGMDwQAa/WH81/gD86nxxO7N6Gfjt9zJ1lbRnsl0wkbCx8rn0OrSBNia2mDff+np7JPxqfkB+7P/vgZUDHAZRyZ/MF84LzeKOWc+cD18PwU7iDIHNK4vtSndLEsq+CeUJqka+BE8DTMF+AD7+j3zkfBy7nrwmPUY9hH3ovbg8YbwPvDf78/z+/SM89H3c/3DAewFTAVnA4ACv/zI9kTzse7o6wrnRt8822DWxNBhzCLESr/pwMbEeszA0JHT/dzu5F7swfL68rT4M/+x/zIGLA7iF10oCTITNwA8njxcQM1BpjwvOOAwoyzsK/0ksyIQJGoguh6CGOINjwmYBPz95Phh8ozuLO9s9Iv6yfs6/bX8b/mH+i75U/cW+mf4Z/e9+Vf6sv4OAmkDkAWM//f43PQ97KHo7+JF1zLU4c4Cxi/E9b69vevFYMrH0J/W1taw3b3lIOun8vn0bvjyAE8F7gyWGXskpTBoOL85/jxnPxc/hD2lN5AwLStKJ9UmSyZxI3Mhhx4LGZ0S6woFBHL/avkQ8qDue+958ff0G/q//VX/UP8v/eH8u/53/fP73PwG/EX7Yv3NAJUEWwVdAiP+CvjC8NPodOH322zSPMfBwkHAYL7IvyzCNcls0V3UFNlr4Hrm2eth7wf1q/s3/3MGehCHGggnxDD9ORBCcECUPhVAWz2bOKovzSf3J38kch8BIFQffB5nGgYR1wv3BaH84fZ08QHt5uuX7Qb12Po8+z3+8wLcBToFXQBd/oD/gPxw95b3aPzZ/yICCQPH/6/84/dN8KfsvOQF17nOcMaJvZe5FrmKwVnMStCe1ZzbV+Lo6vrsL/Hj9072qfgsALYHQReMJd4vTjz9Pwk/LkJ9Qoc/szezLB4n6yI5Hx4gVyKmJIEiqhokFYgQSwm+AWr5EvG26pLoXu2M9Xb6RfsW/YsA0gC+/tT8Dvx1+wf2OfEb9Kj4Uv24AKv+NPui9cnvcO7b6OfdX9PVyfTEnL9Zu+vDTM851rfbadxK4lvtpPFP91r8oPpg/YkDWAurFrYexCjGNMM4yTmRO9k+qkE9Ob8sMidfI/chbSK3ICAgwB13GOUVqxJqCz8Etf69953v/+v27jv1vvjP9jb3RPuz+936/PoT+1/7Jfhc9TX3oPjQ+mD8XvkT9fzu4euW7cbnJ9011HbJasKBvoG96cen0k/VINgS2zrhz+y49Vj7xfyC+n/9CQXLDe0XByFNK90ysDITNUQ8E0DWP045Oi/JKoEoviVbJkkkQx5GG2kYSRNNDm4IuQOj/ij1fe6U7iPxLPPh8S/y5vUi9Xj0tPYD9tn2qfaO8zL2h/cW9qz5NvgL8vfvPe647ZvpAN7z1S3QU8gKw/XBusnq04fWp9lu3rTjOe6Y9a34q/vq+sT+4QglD1oVOR8HKi4ydTNMNNY50D7VPbk0HCyfKegmbyWLJMof+xzWG/8Z0hhiE3IMXghZAvr5ufG+7hjy9/Jn8kzzVfMs9oP3zPX59xf3kvL98QDxgfGD9NPz9/K08Uvu+uyN6pPl/96v1bjNeMZIwTXFwc3K1gzf7eEG5vvu/PUJ+yP9yftM/WMB0AXBDPUWMiMKLQYypTT1NlE6RTugNb0tpyakINwevx6oHIAbAhwsHA8bRBc3Eo8OiQkRABr2U/E98VbxFvEN8732Nvvk/rL+v/xq+c/yy++v8NPuZe7270Lw3PF78ezvXfCu66viudnC0BPLqMXAwzTMONRJ2uXiEukr8+L8kPze/bT+PvuR/kkDTwkoFawdJSe0MGYyHDaxOlo7yDlJLr4iySBCHjMeQR8AHO8cFRzmFzgZcxZPDx0JeP7n9qTzc+6X7uXwbfD889b4IvzO/qH88veG9O3w/O0N7Xfu3e+B7qrtxu4h7+Luiezb5dHdx9SqyprIu8/61MPYt91W4SrrhPjs/TMB4ALl/nL/KATCB0EPhhhQIJQmBSoFL182oTu0OYktdiMQInEfPR35G5UXhBi1Gh8X9BZ+Fk4Qdws/BMX5D/Sc8Vfxq/Jy8Xfy7vix/gUA4vxd+XD4EvVW7zfs5Orz6lnqMOcg5xHpBumE6e/k39kl0YXL+cxk1QfYMtnt3lvji+z8+Nf/hwWrBu0CDwXfCfAOXBacHDYjlSe/Kd8wyzZAOLk11yr5I/IkNCKZIEUenRY3FVEXWBevGLcUyAy8BnX/RvmV9H3xf/Li8HfuMvEl9EP4DfvU9vfzNvMc7zTsk+pS6eDp6eji5vTkwOOD5QTlvN982FPPrswX1HDZ+tre3TLhCukI9f/8wAGgBWMFqgMiBt4LChKzGSchSCQiJzEtDDL3NSo3fS8mJ4Yk1B+PG64bkRmTFw0Y2hXkFFgWzBJjC3EEi/389z32NPa88z3xi/FR8s31X/pP+Yj3WPZr8DvsIOsb6OTmoOXi4b7giODF3/PfQN3G1pvPO8wp0FTXHN2m31zgoOY08vD85gSuBh0GfApmD38TyxjMHMEihClpKxgtOjE1NZM3HjTXKxolZiJAIqkfIhrfFSET/xJzE+QPoQz9CboDP/5n+if3l/c195vzs/Hx8Wf00/f99/71j/Mf8QHvluoX5p7kxeJY4N/d49q52+rd+9oE1TzPGs5s1Zjes+ML5XTltOvi9s//oQWTByoIxwxOESMV+Ru2IYgmJyvFK0Ut6zFfNDYz8izOJLUhrSEgIYId6RZhFAMV3xNOEhsOUwkMCMsD/fxD+cP2z/aW9+Xz/fBQ8iL1y/fD9g/zgPCZ7bHpreSh32reM97E28zZO9jH14rYuNUi0ufTRtmh39LjT+Se57vwsvrHAfEEYAcoDRMU1hhLG6AdxSJIKOAqqSyeLvgwzzIhLxgojSRXIz8isR8wGQIUFRRZFIsSpw8oDBwKdQgKBCH+zPom+z371fi99f3ySPN09ub1fPKL8P/suujL5bLgfNy725LY7tO60rjSX9Kv0VTOHMwN0lnc8eIh5kXoO+zk9v0CPgjNCsEOORPPGbEfzSGEJOYobCtBLJct2y+jMUExvyx8Jd8h0iHDH/EbthaKETARJBJ+EGIODwvMB3MFZQG4/pj9c/um+kD4yfTk9TH2Q/Rv8x7vPerq5yzjEd8G3avZgtbW0mfQ+NCE0CXQYs4HzJDSntvB4LLnq+q37fn5GgJ5BfELlA5TE4kcfh80IpIngirsLaouSC3mLrUvti9SLGgkASJlIQgefRwgFjAQ2hIEEiEPFQ4cCBgG7gYqAcX97vud+Oz5Nfjv89X0ifSI8zDyHOx76BfnQeOJ38TZUtWy1NPR189YznDL180nzzjO6dTm2/zhEuuu7fDwHvzKA0kJww5BEFQVch3nIYkloikwLjIxGDDOLqYtoC1XLzUqoCIUIdIe3ByPG3gUGxHLEzoSQw+yC2QGjgXNBO//tPty+H73RPgG9oXzavLh8FvwJu7/6P7kcuEW3ZrZVdZd0uzOdM3mzH3Mhs3jzXzOw9S43PDh1ucX7Zjy2/xLBREIGQw0EiEY6x5rI8okHim5L9ExhTD0L7IvpzABMU8r7yPrIeQhICDXHF4XihLxEd4RXg69Co4IswTJABH+8/n29174kvQh8DLv3+1q7d/s6OdO4zzhJt7l2mLXV9Os0OzOJM77zbvNp859z4nRLti53znmxex48Zb35wAmCFgNBxKkFZwaBCAWJMAoTi2IMCMywzFEMgM00jPqMFsrtCVEI8kh7R4eG+oW/xMsErAPsgxNCY0FVAGM/O/4kvYi9FfxvO076/LqL+q66LTmxuPw4RrfFdqr1v3TMtFVzxLMacowzbXPZNGz0zvXLd9h6CrujPJo9/P+DAhMDYUQcBTxGN0fDSULJ5IrAzAYMh40fzM3M641CzSoLoUpPCVrJJYjQh7aF8cSwxDAEJ4NzQguBFT/5vwB+h71gPKw7yfsiera5+blxuUj4/Tf39xI2U3Yb9bJ0sXQ280QzXXPzM6xz8rTrdbA3cHlF+mV72D31/x4BQ4M1Q7TFA8aOx1dIhwmOSkpLj0xUTJcMz00yzQANHMxHy2eKGgm/SPvH8Yb9xWzEJ8O6gtJCKEEIf+4+l34CPVn8aTtz+m85znmQOQo4trfPt5g3GzZ2dZO1BHSp9Cnzs7NYM910RvUQddT2yDitukZ8Lb1+PqeAbkIkg2CEXoV1xlCH98i9yTVKD0t/zBdMyQzUDPrNLM0sjGjLNUneSVmI0QfIhnMEuwObgzsCJcEl/9N+9L47fU58tXuTOsx6NHlSePA4GHex9u42P7VXdTC0ljRrdCDz47PvNGJ01fW29rr3o7kT+tS8A32pPwwAl0I4w15EcEVbhpJHughtiQeJyoqHy0IL7kvOjDyMMQwTy87LPonoCSgIWYdjxhgE5UOMQsNCFkEnABD/Vj6Vfc+9M/wu+w36Z7lb+G93m3cvNlr2GrWFdQb1N7TndP01P/UwtXe2A/bZt5548znOu6X9d/6DwEcB7MLdBGgFa4XJhvhHaAfXSKuIwUlfyifKm0rdyzwKw0rXSoIJ4Mi9h60GiYWGxJPDWgJaweeBCkBsv44/PX53/fv82nvSuwc6Y/lb+JK3zrd9NyK3OjbYNw53Qje9N4n33HfG+Hq4mzkpeZx6T3tTfIn9wj8vAEGB34LDA9AEZcTWxYGGOQYMhlBGXYa7xueHIAddB5DH/0fQB84HXcbtxlYFzoUMhBmDBcKNQhyBVMCfP+D/bP8Qvt1+Nb1n/Oo8ePvUO3K6n3pm+i/5+LmXObf5u/n0ugD6f/ozemI6izrIOya7E/uKPFc88j2ivqv/XMCLgaTCOgLKA38DfwPuw/xD5AQBg+CD6AQqxDzEmIUMxXqF4EYQBhbGDUWtRT+EuAOfQvvB4kEPgM0ASj/X/5u/cD9Gf7A/E/7V/lI96n19vIy8PntOuyh69nqaup26wLtO++c8Fbw6/Do8bbye/ON8h7y5fPs9W74u/qG/DIAPQT4BkUJhQqtCzMNCw38C1sLAwtbC5sLcgtVDHsO1hBXEr8SuBK5EpsSPxFKDhYLDghlBYIDgAHF/yv/y/6z/uX+av7N/Rn9hfuw+b/3m/UB9JLy9fDr75Hv++8g8evxUPIT8+vzsvQ49Qv1WfXL9jT4evnN+jj8yP60AWcDtwQhBlMHhgjLCCAIUAgrCaYJ7QkQCtUKwwxBDn8OVQ5ADmwOLw6FDCYKBwgeBmgEhwKxAMn/Nf9t/vD9f/1M/WH9cvz1+gn67fi695v2y/SC80zzvfKC8hPzmfPw9LL2qvcq+RT7SPyG/Vj+hP5N/+3/5v8rAH4AGAFqAqgD3gRrBvcHUQlSCtgK4gq/CnwKjAlgCD4HzgX+BJcEvwOKA3kD/wI8AwEDAgKrAdoAov/r/l/9uvv9+uz5CPm6+Bv48/d9+L74Ffm1+QX6dPoy+5P74ftF/DX8Qfym/Nb8Nf2o/e/9sv6i/4IAmwGBAnIDcgT6BGoFlwV1BX8FKgW3BHsE9wPEA8sDpwP8AyoEDAQzBOQDdwMkAzICXgGdAHT/lv6x/c78ifw//Pr77/vK++n7FfwI/Av89vv4+xj89/vt++774fsi/F/8jvz2/Ej9mP0l/qz+MP/Q/1MAygBrAeABIAKJAssC+AJSA0UDOgOGA3gDhwOpA2oDoAPQA3kDTgPdAmYCXwLjAUMBvwAKALz/aP/V/of+Iv7p/cj9Mv3V/I/8Q/xh/A38lPuY+3H7ovv9+877Cvxw/IX87PwT/Q79k/3r/Qr+T/5x/sT+aP/X/xwAgwDzAGoB/wFTAmwCtwLfAuwCJgMQA+cC7AKuApEClQJYAkUCOQIAAs8BdwEiAfoAzQCEAPD/YP8R/8j+rP5h/uL90f2t/W39af0d/RH9SP3y/Lf8pvx9/NL8+PzH/AL9RP2U/Qz+N/6E/gD/TP+N/7r/9/9SAIgArADJAAgBgwHKAfABMwJwAskCCQP9AgMDEAP1AsECbgIdAvcB3AGSATgBDAHhAMAArgBjACwADwCi/0L/8f57/k7+GP6r/YH9Wv08/V/9aP1x/ZT9lf2Z/a/9vf3J/dX97v0V/lT+m/7K/h7/jf/o/1sArwDbADMBawGMAdoBCgI2Am0CeQKbAtcC/QIkAy8DHQMYAwoD7ALDAo4CWQIhAuYBrQF0ATYB6QCXAEwACQDT/5D/O//s/q7+iv5z/lT+N/4O/u795/3X/c791P3P/dn95P3f/f/9OP56/s7+Df8//4v/3P8pAIAAzwASAVoBkgG3AQQCYQKjAuAC9gL+Aj0DZQNlA3IDVwM1Ay8DAAPSArkCeQI1AvUBsAGMAWMBFwHEAHUAPgAcAO//pv9c/yT/9v7P/qz+jP6G/n7+YP5R/lT+bv6d/q7+tv7Q/u/+If9N/3L/sP/t/zAAdgCnAPQAUwGgAewBGwI9AnIClwLAAukC+wISAyYDLQM5Az4DOQMeA/oC2wKkAnQCPALhAaMBZgEeAQEBwgB0AFIADQDM/63/Zf8k/+v+mP5o/kX+Hv4U/gv+Af4K/hn+L/5L/mn+f/6U/r3+2f7y/h//Q/+B/9T/CQBPAJcAzQAaAWABlAHIAeMB/wEaAiECMAJCAlgCcwJoAlgCUwJFAjwCJALtAbgBhwFQAQkBwgCRAGUAOgAAALz/mf98/1n/Pv8D/9T+w/6N/lf+Nv4W/hL+BP7r/fL9//0S/iX+JP4+/m3+nP7K/s/+3/4d/0X/bP+c/7T/4f8SACMAQgBzAJ8AxwDUAM4A1ADkAPAA8QDvAOUA0QC/AKoAjwB5AF0AOgAXAOz/xP+q/4T/Wf88/xn/9P7Z/rf+nf6G/lz+Qv4//jL+Kv4h/gz+FP4q/jP+QP5P/mn+kf6i/rL+2P74/hv/Qv9T/2n/i/+n/8P/1v/h//r/CwATACMALAAqACwALQAqAB4AAwDu/9z/wf+l/4X/Zf9Q/zv/G//z/tP+xP6x/pr+hf5n/lX+T/45/i3+LP4n/i/+Mf4j/iP+MP49/kn+U/5m/n7+lv60/tH+8f4U/y//Uf90/4X/nf++/9j/8P8BAAsAFwAqADQAMAAwADIALwAnABMA/v/z/9z/xP+4/5f/df9k/0P/I/8Q//H+1/7E/qj+lf6H/nP+Zf5b/k7+Rv5I/kz+UP5Z/mf+c/5//pH+o/67/tn+9P4J/yD/Qv9k/4L/pP/D/+L/BQAjAD0AWgBzAIgAmgCnALMAvQDEAMwA0QDRANAAzgDDALMApgCZAIgAcwBcAE4APAAfAAsA9//d/83/tv+Y/4v/ff9o/2D/XP9W/1L/Sv9H/0z/UP9W/2D/af92/4r/nf+u/8T/2P/r/wUAHQAvAEoAZQB4AIsAlwCiALcAyADYAOkA8AD3AAEBCAEMAQwBDQELAQIB/gD8AOwA3QDVAMgAugCwAKIAmACTAIkAfgB5AHIAaABcAE4ARgBHAEAAMwAzADUAMAAvADIAOQBEAEgATwBaAGAAbAB7AIMAjgCcAKcAtwDGAM8A3gDuAPUA/QAGARABGwEgAR8BJAEqASkBJgEiARsBFwERAQMB+gD2AOkA3ADaAM8AvQCyAKUAmQCQAIAAeAB1AGYAZABoAFkAVABeAFgAVABZAFgAWABbAFwAYABjAGcAbgB0AHwAgwCLAJQAmwCkAKgAogCmALEAsgCzALAArgCxAKcAoAClAJ4AmACaAJMAjwCKAIAAfwB9AHUAcgBpAGQAaABiAFwAWQBRAFEAVgBQAFAAUwBPAFIAVgBTAFMAVwBaAF8AXwBjAG4AcABuAHIAcwByAHgAewB8AH8AgAB/AH8AegByAHEAbABkAGcAYgBRAFMAUwBEAD4AMwAlACoAIgAQAA8ACAACAAgAAgD5//j/9v/1//f/9v/3//T/8f/2//X/7//y//T/8v/z//r/AQAHAAsACwAJAAwAEQARABQAFgAXABsAHAAZABwAHgAdABoAEwATABcAFAATAA4AAwAAAPn/7v/q/+D/2P/W/83/y//L/8D/uP+0/7D/s/+y/63/qP+d/53/n/+Z/5n/m/+a/53/n/+e/53/nP+c/5z/n/+l/6f/qv+t/67/tv+7/77/xv/E/8L/xf/H/83/0P/M/8v/y//N/8z/xP/F/8j/xP/F/8H/uf+7/7j/rv+q/6X/oP+d/5r/lv+P/4z/j/+O/4b/g/+F/4H/fP9+/3z/ff+B/3r/d/98/37/g/+F/4X/jv+P/4v/kP+N/4z/kP+N/4r/hv+D/4j/iv+J/4j/g/+B/3z/d/96/3v/ev97/3r/ff97/3r/f/96/3f/e/91/3X/ef90/3f/fv9//4P/gP9+/4L/gv+G/4z/if+F/4L/hP+K/47/jv+O/5T/mf+V/5f/nP+W/5j/mv+X/5v/nP+d/6X/pf+k/6f/of+f/6P/n/+c/5z/nP+g/5//nv+f/5v/lv+Y/5r/mP+a/53/mv+X/5T/j/+R/4//jP+P/4v/if+P/4r/hP+H/4r/i/+M/47/kf+N/4n/i/+L/43/kP+R/5P/lf+W/5f/mf+e/5//oP+i/6H/ov+m/6b/pP+i/6P/qf+u/7H/r/+r/67/s/+z/7L/sP+x/7X/tP+4/7v/uf+8/8T/xf/E/8T/w//C/8D/xP/L/8v/yf/I/8T/xP/I/8v/zf/N/8j/xv/I/8v/0P/V/9X/1//V/9D/z//R/9H/0f/P/8//zv/J/8j/yf/L/8z/yf/J/8v/yv/Q/9j/3P/g/+D/4//m/+T/5//p/+n/8f/y/+z/8v/1//L/9P/2//j/+//9//3/+f/3//v/+v/5//3/////////AAAAAP7/AgAGAAYACwAPABEAFAAQAA8AEQASABcAFQANABUAHgAdAB4AHQAbAB4AIAAhAB8AHgAeABwAGwAfAB4AHQAjACUAJAApADIAOAA7AD0APAA7AD0APgA8ADwAPgBBAEcATABLAEkASwBMAEwATgBPAFEAVgBZAFoAXABfAGIAYgBjAGYAZQBjAGUAYwBgAGYAbgByAHQAdgB7AH4AfAB9AIAAfQB7AH4AggCGAIkAhwCFAIYAhwCLAI0AigCMAI4AjgCTAJcAlQCVAJgAmgCZAJcAmwCgAJ4AnwCgAJ4AoQChAJwAnQCfAKAAowCjAKUAqACrAK8ArwCzALgAswCvALAAsACxALAAqwCqAKsAsAC2ALcAuQC8AL4AxADGAMUAyADFAMAAwAC+AL0AwADAAL8AvAC9AL4AuAC3ALcAsQCwALMAsgCxAK8ArwCxAK4ArACsAKsArQCsAKgApQCfAJsAmgCXAJMAkwCTAJYAlwCWAJMAkQCTAJUAlACVAJMAjwCQAI4AjACJAIEAfQB6AHcAdQB2AHgAegB5AHkAeQB4AHgAeAB2AHAAawBpAGgAawBuAGwAbQBqAGEAXgBcAFkAWgBVAFEAUABOAFEAUgBKAEoATQBMAE4ATABIAEoATABKAEYAQABCAEIAPQA8ADoANgA0ADEAKwApACkAKAAiABwAFwASABIAFQATAA8ACwAGAAUAAgD///v/+f/7//v/9v/z//P/9f/2//L/6v/l/9//3P/a/9X/0P/O/83/zP/H/7//u/+5/7f/t/+1/7X/tv+z/67/qv+n/6f/pv+k/6T/of+Z/5H/j/+P/4//iv9//3f/dP9y/3D/av9l/2T/ZP9j/2P/Yf9e/1r/Vv9X/1n/Wv9a/1j/U/9R/1D/T/9N/0z/Sv9K/0r/SP9F/0X/R/9H/0X/Q/9F/0r/Tf9N/0n/Rv9J/0v/Tf9Q/1D/Tv9O/0r/Rv9D/0L/Qf8//zz/OP81/zT/Nv82/zb/Nv83/zj/O/86/zb/NP8w/yv/Kv8p/yf/KP8m/yT/Jv8o/y3/Mf8w/zL/Mv8x/zb/NP8w/zH/L/8v/zL/MP8v/zD/L/8x/zH/Mf80/zP/Nf86/zj/Of88/z7/Qv9D/0L/RP9H/0z/TP9I/0//Vv9Z/1z/Wv9c/2P/Zf9k/2P/ZP9r/27/cP9z/3L/d/9+/3z/fv+D/4T/h/+J/4j/iv+K/4v/j/+R/5L/kv+T/5r/n/+g/6P/pv+l/6P/o/+l/6r/sP+y/7P/tP+0/7L/sf+0/7n/vv/A/8D/wP/D/8X/xf/J/87/zf/Q/9r/3v/d/9z/3P/e/+L/5v/l/+b/7P/v/+7/7v/t/+z/7//w//H/9P/4//7//v/8//z//P///wEAAAADAAgACgAOABEAEwAVABAADQATABkAHQAeAB0AHwAhACAAIgAiACAAIQAfABoAGQAbACAAKAAvADQANgAyAC4ALgAvADMANQA2ADoAPAA8AD0AQABBAD8AOwA9AEMASQBKAEsATABPAFAATgBMAE8AUwBRAFAAUwBVAFgAWwBdAF8AXgBbAFsAWgBcAGAAXABcAGIAYwBlAGUAZQBrAGoAZABnAGcAZgBoAGMAYwBoAGgAbABtAGsAbwBuAGwAbQBrAG0AcgBwAHEAdwB4AHoAfAB6AHYAdAB5AIAAfwB9AH4AfwB+AH0AewB7AIEAhwCGAIMAhACIAI4AkgCSAJUAmACZAJkAlwCZAJ0AngCfAJ8AnwCkAKUAoQCjAKcApQCfAJsAnACdAJ4AowClAKQApgCoAKQApACoAKoAqwCrAKoArACvALAAsgC1ALcAtQCzALIAsQCvALEAsQCuAK0ArQCqAKgApwCmAKsArACoAKgApwCkAKUApQCjAJ8AnQCcAJQAjQCPAIwAiQCOAIsAhwCGAIIAewB6AHoAeAByAGwAaABjAGEAYQBcAFoAXABcAFsAWABRAE4ATwBOAE0ATABLAEgASABKAEoARwBDAEMAQgBBAD0ANgAyADIALQArADIAMgAtACwALAAoACYAJQAkACAAHQAgACIAIAAbABUAEQAUABEADQAOAA0ABwACAP///f/5//P/8f/x//H/9P/w/+j/6P/o/+P/4v/j/+L/3v/d/+D/3v/Y/9r/3v/a/9j/1//V/9L/z//R/9L/zP/H/8b/w//A/7z/tf+v/6z/rP+r/6f/pf+j/6D/nf+b/5n/lf+O/4v/jP+N/4n/hf+F/4X/ff91/3T/dP9x/2z/a/9r/2f/Zv9q/23/bf9o/2H/Yv9e/1P/Uf9W/1b/W/9g/1z/Wf9f/2H/W/9Z/17/Wf9S/1L/T/9K/0z/S/9H/0f/RP9A/0P/Q/9A/0L/RP9E/0T/Rf9F/0X/Rv9E/0D/Qf9B/z3/P/9E/0P/Rf9K/03/Tv9L/0f/S/9R/1L/VP9W/1P/T/9U/1v/V/9R/1P/U/9T/1b/Vf9W/1X/Uf9W/1z/Wf9X/1r/W/9Z/1j/Xf9h/2T/Zv9g/1//ZP9g/2D/aP9o/2T/aP9w/3P/b/9p/2z/dv97/3n/fP9//3v/e/9//37/gv+L/4z/i/+U/5T/jf+P/5H/kf+Y/5z/nv+h/57/m/+g/6P/ov+i/6b/rv+v/6z/sP+2/7b/s/+4/8D/wf/B/8b/zP/S/9f/2v/Z/9P/1//k/+T/3//i/+L/5f/o/+b/6P/u//L/9//5//f//P8CAAgACwALAAwADwASABQAFgAdACIAIgAkACAAFQAbACYAJwAsAC4AKQAqAC8ANAA5ADYANQA3ADkAPgBCAEAAQwBHAEgATABPAE8ATwBRAFUAVABOAFEAVQBRAFEAVABTAFIAVABYAFkAUwBVAGAAYQBgAGcAaABiAF4AYwBpAGQAYwBvAGoAXgBiAGkAbQB2AHQAcAByAHMAdAB1AHUAegB9AHMAcQB7AHoAdQB6AHoAcwBwAG8AdAB6AHQAbgBtAG0AbABtAHEAcgBoAGkAdAByAG8AdABzAG0AbABvAHIAbwBpAG0AbwBnAGoAdgBzAG4AbwBsAG4AbABiAGMAaQBmAGQAaABlAGMAbgBwAGEAVwBWAFgAXQBZAFMAVABPAEwATwBHAEAAQAA+AD8AQgBAAEIAQAA4ADwARQA9ADYAOgA4ADMANwAxADUAPgAvACkANwAoABoAKwAvACIAIAAcAB4AJwAmACEAIAAbABkAHQAXABIAFAAUABEADgAMABUAHgAYABIAFQAQAAIABQAXABMABwAMAAoA//8CAAcAAwD7//T/9//4//j/AAD+//H/6f/p//L/9P/t//X/+f/v//b//v/0//T//P/0/+7/8//u/+X/5v/u/+3/5P/s//P/3//e/+r/1//V/+z/6P/k/+r/4//i/+P/2//j//L/7v/j/93/3v/j/+n/7v/o/97/4//l/9v/2//h/9v/2v/b/8z/xv/L/8v/0//h/+X/4//l/+v/6f/k/+v/7v/j/97/2v/T/9j/3v/b/9z/3P/Y/8//zP/e/+r/4f/f/93/1P/h//P/6//j/+7/8//w/+n/3f/e/+X/3f/d/+b/3P/Y/+X/5P/i/+f/4P/j/+7/6P/u//z/8P/s//n/+P/2//v/9//y//T/9P/w//L/6f/Z/+L/8//v/+f/5v/q/+r/4P/x/wsA/f/7/xMABgD3/////P/4/wAAAwAAAPj/6f/m//P/7//r//r/9v/r/+7/4P/c//H/6v/i//P/9v/y//X/9v/z//j/AwABAPv/+//t/+v/9P/o/+j/8P/s//f/AAD9//v/+v/+//v/+P8AAPP/6P/4//D/7/8GAAkAAQAAAP3/+f/1//n/9P/x/wIA7v/S/+f/4//a/+//5f/j//b/7//1//n/4P/k//f/7f/i/+P/6f/p/97/4//w/9z/yv/c/9b/w//Y/+L/1//g/93/0P/U/9b/2P/b/93/3v/X/9b/2P/M/87/1v/N/8n/zP/Q/87/wP/E/9D/zf/T/93/2f/V/9f/1//a/93/3f/b/+D/4v/k//L/8f/j/+L/6f/o/+H/5f/4//H/2f/Z/93/2P/e//D/7f/f/+3//P/6/wAAAwANABoABwD//wYA///9////AQABAO//9f/6/97/4f/s/+n/+//9/wAAGwAZABIADwAFAAoADgAZACIADwAYACIAFAAhAB8AGwA2ACYACwAXABsAFAAQACAAKgAOAAsADAD6/xwAMQAeADgAPQAZABAAFwAdABcAHAAyACoAKwA2ACUAKAAeAAUAGgAdABwAQwA5ACEAKQAbABoAMAAoAB8AOgBQAEUATQBkAE0AMAAhABMAJQAhABoAPwArABYAOwA1ADkATQA1AE8ATgAaAEQATAAXACsALwAkADwALAAlACQACAAfADYANABDADUANgBAADAARgBKADoAUwAwABkATwA9ACgAUQBKADYANQA+AEcALgBBAFwALQAvAEAAIAAqAC8ALgA5AA4AGQBDAB8AOQBhAC0AIAAjABsAQwBMAEsAVwArAB8ANgAPAPj/FQAdABYAEQAFAP3/9P/5/ysAQwAYABEAGwD9/wsALwAjAA8A8//o//f/6f8DAC8A///c//P/9v/y/+r/9P8TAAkAAgAXAAgA7//u//b////5/+X/2f/X/9X/4f/1/+b/z//d/+3/7//o/+H/5P/N/8T/5v/o/97/zf+r/8j/zf+j/7n/tP+a/63/of+o/63/j//F/9X/n/+7/7n/mv+z/5z/k/+r/4f/jv+z/6X/nP+X/43/g/+D/6b/qv+b/6H/if+A/4z/fv+T/6r/of+i/3//af+K/4z/nf/C/5P/cv+f/6P/k/+s/5n/Zv9v/4n/l/+e/4r/m/+v/5H/k/+O/3r/nP+J/3b/sf+e/4j/tf+Z/5X/y/+4/6X/rf+T/4b/ov/R/+b/0/+4/6L/rv++/7P/u/+y/6f/y//I/77/0P+y/6//0//G/7r/v//P/+3/6P/Y/9f/4f/1/+j/3f/h/9H/5f/2/+D/7v/2/+j/5//V/+D/7f/N/9z/6//d/wwAHwDa/8T/7//0/+b/DwAqAP3/7/8WACsANQA2ACoAFAD7/wQAHwAqADYANgAwACoAHgAiACIAJgAvACcASwBmAEUAQwA3AA4AFgAaACoASgA7ADAAHgAXAEEANgAxAFkATABTAEoADgAOAAQAEwBNABUAFwBRAP//DABjACAADQA5ACwAPgBEADkAWABbAD8ANAAtABkAHAA6ACAAAAAhADIAUABrACkADQA1ACwAEwAcAEoAXgA0ABcAAgAMACMA1v/g/2QASgAMACgAJQA7AEgAMAAvAPn/AgBhADwAHQA8APv/8/83ACkANwBtAEgACgADABMAIQApABwA/f/4/x8AQABDAEwASwAwABwA+P/i//3/1f/X/0sASgA1AFgA+f/p/yIA2P8TAFoA+/8ZABwAzv8HAO7/0/8qAAAA5v8GAOL/6v/U//r/cwAqABAAdgBAABkACADj/zcAMADl/+v/yv/2/zoAJQBDACIAAQBCABIAIgB0AB8AEwAnANn/4//2/xQAVQA3AEgAJAC9/yIASQDy/x4AEAD7/y8AEgA8AEwABQBYAEYA2f8zAD4A+v8pAAsA2f/6/wkAFwAbADMATQAgAB0AJQAMADgAKgDx/wsA/f8DAD8AIwA6AGYACwDW/+X/8/8sADsAIgAoABoAFQAjABEACAD//+D/3f8DADAAMAA3AGQASQAaABcA3P/k/0YAHgDw/xwAAAASAF4APQAwACAAyv/s/yAA6//l/wcADQD7/9//7v/5//r/AgDb/9P/zf+s/woAIgDT/xsAAACc/wAA2P9i/6n/q/+e/97/6f8WABEA3P/S/2X/dv8tAB8AEABbABQAyP+k/4//0v/x/+z/6P/C/9z/5P+a/6T/9f8BALb/rf/u/6T/fv/1//D/y//v/+T/AgDw/5L/wf8LABkAAQCc/37/hP+B/+X/5v+W/6//pv+d/7T/rv/x/+j/oP/m/+//wv/l/8n/wv/T/6r/4v8QAOr/3/+u/6//9f/y/yEAQwDa/63/v/+x/8D/y//V/9//yv/v/xMAyP+1/xgA/P+M/+j/KwCI/4L/DADM/4H/qf+z/9D/7//u/wMA+P/g/9z/z//j/+b/sf+M/6L/8/8eAPj/6f/O/4r/g/+p/+T/BADb/8r/y//G/wMAIQAXAEAAJwDw/woAEQAIABQA9v/6/yEA8v/D/9r/3f8AAEsAKAD8/zQACQC1//H/8v+r/+f/AgDZ/+n/zf/F/wIA5//t/zAA/f/u/xMAyf++//f/3//1/wgA3/8KABYAzP///zEA4P/e/w8A+f8fADkA5v8FAE4ACgAnAIkAOAD3/xYA+f/6/0cAcABRAPn/1/8DABcAKQAbANP/0v/t/87/4v8sAE0AUgBnAGoATgB3AJQAHQDk/w0At/+E/w8ATwDu/7r/8P8MAAQAPQBlADsAIwA1AE4ATABCAE4ABgDR/x4A/v/F/zcATwAkADMA9f8mAHoA5//l/4YAPAAKAIAAaAADABQAVABnAGIAeQB2AC4ABgArAFkAQADc/9D/HQDt/7b/MQBkAAgA/P/2/8r/2f/r/yYAXQACAAcAOQCY/7P/cwDM/2D/QgD9/zH/6v93AAsAKQBcAC0AVQAjAM3/SQBXAPj/WgBSAOv/GQDi/7b/JQAhABkANAACAC0AFgDI/zEA+v+G/zgASQCt//j/EACa/5n/3f/q/8D/+/9uAAMAq/8vACcAvf/f/+D/0f8TAB8AJAAlALX/wP9oAEEA2/8rABYAvv8NAAcAoP+p/6z/4v87ALf/cP8EANr/kv8eAPr/dP/i/x8Ayv/k/wgAAwAlAOf/of/i/wIAFQAzANr/pv/Q/8r/2v/i/87/AQDg/5H/zf/t/+v/AgDK/8f/5/+x/8r/5v+1/+H/8P+d/5r/zf/H/3f/gP/7/+X/0v8zAOP/gP+w/+v/TQD0/37/eQBrAD//tv8EAJb/GwBGACQANgCZ/83/gQDz/7z/EwDj/7r/gv+i/xQAi/8c/27/V/95/+D/w//B/9n/0v/x//3/FAARAL7/s//a/9X/3f/i/8f/nP+j/9T/vP/d/zYA5/+0/+j/tf+///X/yf/x//X/n//U/+//xf/6/wkACAAKAJH/bf+5/7v/5v/o/5j/6P8ZAML/w/+L/2T/8v+2/0v//f8QAJH/3//6/7T/rP/K/wwAuv9J/87/9f/Y/2YAFwCF/+3/yP+J/wwA/P/L////u/+c/9//5v/4/97/n//R/9v/qf+9/5v/lv/t/53/Z/8UACgAyP/q/6T/Qf+d/+n/3//O/8L/1v/D/7b/y/+L/5H/zf9i/1b/5//H/13/cv+Q/4j/oP+u/4P/gP+V/5L/6P/X/1L/8f90ALv/mv/E/3n/t//C/4r///8MAKr/zf/y/9f/mf9y/8D/7f/c/xsAIADM/9r/AgC//47/2v8VAO7//v9TADgADgA3AMr/Y/8BAAwAbv+k/7D/p/9eAGkALgBKANf/+v9/ADEAPgA+AOD/BQC5/8b/kAA1AA0AbQDy/z0AmADb/+v/GQAhAOUAkADq/38AiQBTALgAmgBcAHAAigDOALUAcwC/ANYAnQDRAMkAWQB0AL0ArADCANQAvADOAMgAxAC+AG8AcwClAJ8AzwC5AIcAtgB7AGgAqgBPAG8A3ABxAGEAdAAbAHwAvgBRAF0AfABjAI4AugDeAM0ATwBFAMMApABDAJYAtQA+AGkA0wB+AAMA8f81AHEAVgB6AOEAtgA2AE0ArwBhABUAhgB7ACUARAARADYAswAqAOL/VwBbAGAAQADx/wYAAwBjAPoAjQBIAJIAgACRAJsAeQB/AEMAewAaAc4ANgAEAAEAcgDaANkAxABqABoAVACNAKAArQAjAKX/OwB8AOr/RADTAIAAVgBIAEEAaQAhADoAkwAKAP//lwB8AEUAPAAmAFAAewBXAO7/yP/o/8b//P8oANr/UgCKAMv/8/9cACwAGgD+/0AAZwDs/xkAAABR/7//FACG/0P/v/+8AHAAPP91/7P/hP8eAAIAkf/j/w0ARgAAAED/0v9gAM7/rP/z//n/tf9S/5X/AAD4/xUA//+A/2T/Zf8T/yP/pf+z/5f/4f/T/4L/tv8HAAIAw/+f/9L/3f+u/6f/mP+D/5b/7v9VADoAHAAqALT/qv9XACYAef+z/xIAm/86/3f/av9Z/4P/LP9I/xQAZQB6AEUAFgBxAOb/RP+4/2v/MP/z/8H/ff/2/8H/kP/0/w8A4v/E/8T/yP/r////q/+K/4f/af/r/yIAv/8BADYABQD9/8b/8/8aAE//BP+Y/9f/4/8QAEgAOwDR/5//pv9v/yr/gv8nAPf/z/9YABMAf/9y/zz/Yf9x/yb/4P9BAK3/DACAAPv/eP84/0f/ev9m/yz/6/7P/sD+8P6I/3f/A//q/tr+Vv94//v+HwDfAH3/QP/R/4f/4f/4/yn/XP/z/8T/vv/4/83/wP+u/zH/af+V/9L+Q//L//D+c/81AJb/4P8kANP/8P9i/37/AwAk/3T/5v+H/qv+Uv/G/k7/uv9G/4n/0P/F/9D/1//m//f/+v87/6P+Mv8X/3n/wgCn//n+iwBoAMv/BwDH/1YArgAxABoAa/+K/6AAgAC0ALcABAD5AFEBcgCiAFwASAACAYwAcQCwAO3/DQClAIkApQCkAFAAMQCbABUBnwCLAPIAIADl/5EAIwAaALMASgAMAIgAuQCQAGgAdwCxAPgA5gBHAA0AMAD//0UA0QBhAJH/m/8mADcALgB+AHkAJwDq//j/cwDWADQB/gDI/8P/ewBYAI8A3/8c/44AXwDE/5gBwgBF/+QABgFEABgAmv+fAO//mf7lAF8Akv7/AG8A3f7oALv/pv5TAcsAZv9FADz/NP5I/9//2f8bAIsAvgCHACsAY//Q/jz/vv/z/zgASgAqAGwAnwDh/5//HgCX/6j/nAAqAB0A1wDEAMsA9v9B/3sARAA6/7r/Kv9o/l//cwCvACwA8QAmAh4BOAH2AWMAuwB1Aab/LQAwAfP/YwAFAUoAsgBpAb0B1wElAVsA5f8BADkAFACcAKoAJgD6AP4AIQAXAb8BNQFGASsBkwA7AI0AUQH/AFMAiABGANz/KgBOADkAxf///sP+uv4v/zwAFQBb/4D/E/+M/m3/p//p/k7/Sv8O/uX9tv23/Jz9Wv+O/8n/RQCt/w//UP+P/z3/pv4F/mr9W/3P/T3+3f5O/9r+kP4G/xX/rf6w/g3/bv+l/2L/EP8J/5n+Qv6o/j7+gP1Z/gP/fP6j/s/+H/75/Uz+Ov4G/kr+G/8r/1j+Xf6s/pn+r/8hAXMBpwHNAX0BVwH0AIcA4ADxAHcAagBqAHoAGQF5AZwBMAJ+Al8CvQJGA2kD7gMvBRMGGgY2BrMGtgZoBmYGHgaABTsF9QRkBNoDJwNVAmYBEwB5/+P/k//0/iH/Y/4t/cv9fv7G/Tz9+PyT/GX8Uvyj/LH8UfzM/Pb8Tfwt/Ir7wfqu+q75lfj39wz34vbs9R/09PP28mrx0fHF8G/ub+3i6yLqHuny5z3nIudG6JDqhOxg7+3y3fVj+ev8cwAkBA0GtQeSCRoKRwuxDIUNCg/HD/IQbxN2FO0VQxgTGUcaOxveGm0bhxuHGuoZ0RiRF6UWxhV7FdcU6RPUE88TgBMYEyMSjRACD9UNiwvcCNgHggbvBB4FzwQPBJoE1wTfBBkFawRaA08CMwF4/478L/qb+CH2ivPJ8crviu1L7PTqQehR5hXlkuJj4MTendxV24/aQtkA2NTW/tWx1e/Vq9V70xHRc893z1vTCNna3yrp7/ID/wkNxxiSJNUuKDU7OzI9/DmQNrwwKiqUJJYcmxVMELQLlQonCdUHNQkmCSMKyQtLCZgHygbSA3cBBv5U+m/57PiO+SH8sP/KBMIJUA80FWcYYRsFHj4eZR68HPYYuRa1FPcRiA/mDcwNvA3ODXkO8A2IDRQNVAtmCtMI2wUxBF4C7v9Z/sP8E/xX/ID7Q/qn+cb4+PaL9Fvx1Ozt53PjEN/92gnXvtNf0k3SjNK60iXTKdS81PvUztSX0mPPAsxCyE/FfMF9vEy7CMCGyRnXJue9+IEMaSFZNNdDy08kV+pZKViEUOhDgTVoKPgclBGmB8j/D/o6+Z/6ofth/rsAmAK1BEsDWQBn/SX6Hvpa+Z/2gffP+Kn71QNSC74RqhhjHb8hUCXtJcwj9x+AHX0ZABIlDNkGxAIKAw4DCAP0BKwGvgntDJMOYw85DgQOEg4JC+YIXwe5BQ4HIwi3CIIK0grNCqsKzAhgBQAA/vr29SnvDOnE4rvdk9tj2L7WydbS1LnUAdU+1ATVeNLLzurN3MrPxqvCtb3suoW3j7PnsJiu47G6urHHOdxk8SwFoRy3MoJGBVibYRhmNmdbYaRVvEavNhonlBq3EHYFh/zt9zP0SvRB9R/z//PC9rT3DvgF95T2sPdr+jP/5AHxBa0NMROCGpoiICVhKT4uOC0/K+0n2SGNHGwW/A3rBJX+a/t++F34Hvry+T/8ZQAbA0QHYgplCosLRg5hEBsSdhTiFZgWkRjjF9IUdhMPEJcL4ggrBPj+Ffpu9ILww+wI6njoHOVY5JTjRd9q3tXco9em1dzSss59zSXLz8fDxorHpsejxVXEn8GEvRW9qLnLstaw0LF3uqzO0eVo/5waoTMDTFpf4mvZcjRxkWoHX8xKljO1HegLLQER+lLzPe126+PtJe958XX0y/Qj+En7ofm8+aX7of8KCFIQRxe/HKUi6CpVL8MxsDPnLyUtDyqyH6EWqw4kBUEAiPto9X7ymPBs8GLyHfVK+cz8sADLBegJSQ4DEjgV4Rl9HXAfhx+YHn8ezRs8GJgVhxCoDDkIzgCW/KP3r/EX8DvtW+sk7AbqNeq46pnnO+fy5ULi7t8g21vWNtPdzs7L0smiyV/KzcmmzLzOuc2Ez1zNv8glxxnAaLmut2S1p7wez/LmtQUnIic7dFQMZHts9m81aJldWE/nNzkj0BLiAsP6DPni96z3kPen9cTylfEd8JrsPO0D8b3yTvh8AvQLIxgUJgwvljQqOHc2fjF9LSYo1R9fGbgUXQ5JCkwIowOLAAD/1vlz9T3z5vB38WHzJfZ1/DEDnwqaEhwY9R6RJIMkPiRpIlEdZxkDFV0RURBwDrwMgQovB7IEkv/9+V32PPAB65PoqOYN6KPqxOwk7+7uQu5I7CHn3uJS3MTUktFTzWvKVczkzcHRo9Xq1T7Yatga1TfTGs00xXbAhbkztKuzrbPPuh/P7+lJBWggOTi2SxxdYmVdYZ5aq1BSQmU15CW6FiEPVQokCfsIDAMc/sn5GPPT7ofoLuP85TDr0vO//8IJnxXgIJ8ptzGGMmAvSixUJaYg7RysFtAVZxXaEVoQMAxRB2kE5/3B9ybzN+6L7UPvivJ3+E3+BAaIDZ4SoRerGFYZzBxtGzwaRBvPFy8XvxjLFfwUHRSIDoIJ+gPK/IP27PBb7UHsYO0x8HTxtPFe8tHxVvBc7l3rW+cN5JPijt+323naSNlB2XPbq9pd2F7XvNSq0J7NXczzy4rLjspHxtjA2r2Lun24Wbu1w+PUhe1HCOkh+TcFTEVazVxAWC5O/kB1N5AsJiDFGCATSxDBEBIO1AjlANf2J+/F533h9t+O48HtwPoXB6ITIR4tJ1Msgyr/JxckAR7TGy8ZOxarGNMayxucHPsXQhDPB1794PNF7FLnQueM6iDw5vcp/xIFIgxKEkcUXRUuFf0S8xQ/GFQZBh3lH/8fnCDRHYQXYBAECXkD3PwJ9mXysu+38OrzlPQJ97343vYk9RryFPC+7mvrjOsZ6xXoyOdF5LvgUOES3uHbmttG13fUQ9K00P7RStCrz5XPVcv2yfTGr8Fxwdy9U7vZv17DfM/O5tgAxB/xNrdCo0/tU0BOTkivPWU2hjRMKy8jMSFsHFsYUBUlD84HDPwr7dXjJuCL30Ljx+yS+0YJLBFVFgwbLR6pHUMa1RihGJwXLhm1G74eaSNMIv8dnxuEEkMHoAAJ9+7vZe5n6+/tb/Sl9m/7zQFaBWwJwgpkCtcLYAzxDpgTCxeWG+Ee2R+3IJke2BoqFyoRQQr/Akv9JPtX+On1NPWz8q/xbPF37mnuy+9i7+zxuvSW9SP3ZfZg9Fjz1fAK7ovqT+aT5NXiueDX3zfdjdpx2LvUGNKUz+XL+siOxmrGJcZ1w2fEmcfDyhbQ59Qe4XL5rREZJ7A3NT9BRJlDTT2FO9M4MzWzNEsvJipeJ7MfwxtQGZYOAgOa9/Ls3Ont6MTpL/Hi+fwBNQhNCRQJrAhMCGsLyA54EHcUDBppH8Yj7SNgIR4fQBqDEowKCwNh/kD85fqz+6H72/mf+iH7iPoZ+/f54vp5ACEEnwaxCisONhKYFXcVoxPdEQERERFWEVQR2Q9lDRAKBgVkALn88Pg99afxz/BX8zr1UfYe+Mr5Dvtt+sr2rfPR86jzUfKA82X0I/TM9Q70jO9d7CHlh96f3JPYStYL1vXTM9VC1KTPn84Jy2nG0sQvwanCkci+y+XUceT793AQYSL5K9swIC/1LvQwOzFINeo4tzoPPt46wDLXLKYm+x+CFqoI3vxL9qr0xfUC+Cn8u/2m+x35D/WM8pXyKPN9+Nr/FAUSC7wP6xPuGDgZCxgvGFoV0xJREs0R9RLJE0ASnQ+dCwQGzv/q/Pj9Lf4K/z0BtAEcAz4DEQDv/78A0/8FAaQBRwLkBVUI2wq3DZELwQciBbYBbQDAAIX/wP9AAT0AVv85AEj/nf35/DD7BPvo/A/89fry+jT5vPe59XvybPAL7XvpR+jt5hTmH+T23wDeRtxj2fbWldP10TrRkM+D0I7P0syVzWTNxM4e0i3TM97+81UHqxVbGm0ZyRzbHQIedyMFKqEyZjieNg01aDGNKuUndiWlH5oX5w2OCVoL3ApxBlEC2/8U/Er10+6m7dnxgfWo91f6KvvJ+3/8kPztAM4EdwUbClkO1RDnFIMVbRbyF+AUDhQAFNsRhBLqEWYSDxUuEVQMfQmmBHcC0wCa/iz/Hf7W+w/6UPf/9JnyB/Nk9o73Svgt+Hz45ftG/L38Vv+r/pMAqAKcAqIIVwyKDEgQ6g5pDL8MTwgeBnYGTQTkBLEDAf8o+xH1Qu8160bneuZi5v/kION635HbdNdx1DfUCtQN1ZvWv9ZK11/Vd9Jb0oXSrtQG2pbkrvX8AsoJIwwOCTUJXQsuDTIXtSH4KD0wzy7yKfol4x9QIRMkvCBQH48cPhs9HCYVeA6XC4IGRQPu/T/5/frj+tb6aPoO9YbyLPFo8Vn3ifmP+nL/SQKtBHkEHAIbBdsIEguWDcMOfBE2Ey8SchKoEUIQJBCiEPESuRKfD+YN9gtyCh4HEwGs/jn9N/s8+8v5BflM+MX0dPOT8ZLuZO+G8LvzSfjh+J77VP9F/8f/6P/NARkI/wzhENgTKRNIEZkOhwwzDFcL+gqCCr4ITgUz/236evYK8dTtxupa6CLoUeSf4UfigN8D3XvaLdck2ePZHNg62VXYGNgK2mHZ3dwt5VzuvPonAoAA1/2w/I0ASApqEmQZvSAYI7IgRhwcGBMapiCfJMwl1CMRH6cddx1KGjsX1RLwDj8P3gycCCAHQgSSAcn95fV58nvzf/So9+T3svUd9tz09POI9fr1L/kR/r7/vwCQACgA6AJZBecGkQkkDFIPQxLzEr8SZRK/EfcQlg++DWwMMAyVC2wJlwZgA64AA//Y/Bf78/lt9970CvN08WrxtfED8v3zZfWL9VX2I/eW+Nb6L/xA/v0AVwJnBLEHVgpDDBYM2wqYCxwMpws+DFsMYwv3CHwEeAEWAH798/qX+Mn16/LY7prr0+p46fjmEOSQ4Ibdj9p02GvZx9sk3szhs+Y066Ps3epH6oztdPNa+h4BSQeoC5EM6wsIDSEQ7hTOGrYfuSK1ImQgDCBeIYwh7CBRH2MeVx5hG3sXPhRvD0YLRgdKA4kC3wDI/Yv8Pvn19ETxrexb7Ivu5O668FHxDfD27/Ttd+2r8PHytPY/+539agCUAbcBWARJBpsHoQklC84NExAfEOcPFw/GDckM8gsTDEwMZwuACR8HlQUXBC8C+wBu/+D9z/wk+2z6IfqE+FL3oPY59sH25fZA92z4ofg2+HH4oPn5+0/+W/9KANIBhwJSAzUFeQbZB98IFAjFCKQJSggnCI4HGAY4BngEJAPfA/IBiQCf/6b8mvsM+fv0dPRE8jPvE+4n66/qSuyL64/s9eyr6sLppOge6bLscO/x8pj2mffr93r3Tvj7/CsCZAZ1CZQKZwuMDDgOnxD2Eh0VexZlF+oXlRYoFbUU6hMIEwwRZg50DcoM/wr9B8kDUQAJ/nr88vtP+zD6wvib9o70KfOJ8h7zs/T49Yb1hvRN9NP0/fZN+bT6E/3Q/n3/JgF1Av0D7gU2BtYGAAinCDEK8grqCiILywkCCY4JNQkoCZEIwQalBRMEPwK6AY8BTAFIAK3+gf1U/J37CPsM+uD5ivkR+Zv5lPlc+YT5l/np+hb8W/wu/WL93v00/3L/ZgC1AVwBjAGqAQoBqwHmAXUBpAHjAAMA5P8m/33+qP0H/DH7x/pl+vj6E/st+i/5ePcR9lb2Bffo9934tPh0+LD4ufhA+UH6lvu4/Zn/2AAMAgADGwSEBcQGEwhsCYYKYgsRDEEM0QvVC00Mbwx5DL8LiAriCZMIBgcbBuYEPgR/A94B2gAH/6f8p/tb+rD53fm8+G34ffhd91r3ePdr9zz4LPiG+In5p/l8+iv7qfto/Sb+2v50AL8ANAHnARACPwMiBLIEuQXRBeoFtwUhBfYFSQYXBoQGlQW5BIoErAOuA4YDegIVAlwBuQA3AA7/CP8i/5X+sf77/U/9oP0Z/e/8Dv1g/Hb8svy7/Pf8bPxa/Ln8hPzO/Mn8tfx6/VL9A/0+/dr85fwa/eT8JP3t/If8t/y2/PP8GP3o/EP9Wf1Q/cb9+f1X/r3+w/5F/7//+v+VAEcBKwLuAlAD7wOFBCEFrwW8BTkG2QYAB4kHzAeaB8AHjwdJB00H4wZtBg0GmwUkBTcEXwPCAs0BJAGBAIH/Ef+e/qb9Dv18/JD7Bvvb+pv6b/pq+jT6Bfo9+kr6GPpd+tv6H/uX+zT8cfzT/Jn96f01/v/+Uv+i/3MAsgCtAP4AOAGGAe0BPAJkAnQC1ALhAosCzwLBAmECvAKhAjQCcAJXAhICDgK6AVQBBQHxAOoAjQCFAFAApf+3/5j/C/9l/3D//P4T/8X+Qf5D/kr+av6I/nf+YP4c/if+Zf5A/mz+lv4n/iX+RP7d/fD9Qv4U/gv+EP6//cL9Cv4b/ij+M/46/kT+U/61/vD+3/5c/7L/kv/8/0QAawA2AZsBuAEKAucBCQJ8AooC/gJ6A4wD5gPuA6gDwwOlA4EDqQODAzwDHQP9AscCUQLLAXYBLgH3AMoAfQAOAIf/+P6F/jX+Bv4R/gL+rP19/TX9zPwN/U/9IP04/Rr95/w4/Uz9if0h/jT+aP6t/pj+9/5A/0H/ov/E//X/gACzAAABNwHiANEA/wA4AZYBwwHeAb0BWgFBASoBTAHJAawBbAGCAR4BzAAAAfUAxwC9AI0AUgBDADYAAgDd/9f/vf+t/8P/2//d/7j/bf8t/yP/MP8m/xz/Ev/1/uT+7/4c/zL/Bf/w/vv+Dv8+/0f/aP+p/3H/Tv+W/6r/wv/s/+n/6//6/0MAkACBAIMAcQA9AHMAyAD+AA0B9AAHAe0A2wAmARoBQgGLAQAB5gAvAdMA0wDhAJgAmgBhAGwAsQA3ABEABQCM/8P/uP9j/93/rf9D/5T/L//v/oj/b/8+/4X/Yf9B/3v/jP+F/5P/nf+F/3f/qf+t/5r/BQBJAAQAKwBqACIAKgBGAA4AbgDFAH0AhwBwAP7/GwBxAJoAwQDOAMIAZwAuAHUAaACCABwB0gBRAKAAawATAKAAkwATALIA6wA8AI4AyQARAEIApgA5AFAAqgB3AD4APgAkAM//+f8+AIz/Tf93/77+0v4j/0b+P/50/rb9lv2j/Vj9F/3H/P38v/w+/Cj9Ov1e/Pb82vw8/FT95v21/VP+dP4s/qH+M/+R/zsAIAFrAVUB2wFFAlYCCgOuA8ADDQRTBFcEbgRnBHMEvAS6BIoEbQQTBK0DbQMnA/YCvAJ7AkoCtAEXAdIAYAA6AFUA3v+T/3L/yP5l/lj+Qv5m/mz+T/4B/nD9df2//cX9Af4E/s792v20/bL9EP46/m7+r/6t/p/+pP7v/lP/Tf9M/6z/z/+x//f/GADH/xAAdwA6AG0AhQAhAH4AjAAKAFQAZwAyAG4ATAAgABIA1f/0/9D/g//I/7n/mP+h/y3/G/9Z/0D/bf+H/1j/Qv8y/2T/Zv9E/8j/4f98/7b/tP+M//T/AgDt/wcAzv/i/yYA5P/t/zEA9P/w/yUA7v/i/yIAGQD5/wQACgDv/wgAQwAAAPX/UADh/7T/PwDq/9D/bAABAIv/vP+r/8r/9//h/+n/mv8+/4L/0f+g/5n/CwCb/+T+n//H/z7/9v/t/zf/kv95/3H/7v+v/8n/7/+W/83/0P/l/1YAGwBCAHYAEABsAKIAiAD4AN0A1gApAfAACQFNAVMBcAFmAZ8BoAFSAcABrwFOAdoB9gGoAbYBvgGKARQBpQEiAhMBdgHuAV0AsQB6AZsAAQH1ABMAVADA/5n/ggCo/w7/if/g/nP+2v6r/ib+8f3b/ZD9iv2G/Qf9+fzR/Fv8wfzr/I/8Z/wa/ED8aPx0/Cr93vxh/AX98vxE/Q/+0f1d/qf+LP4z/5f/bf+NAKYAfQBEAX0B4AFGAnkC7gLVAnIDKQR5A/gDjgTIA3gECgVRBKcEzgRHBE8ERAQ2BCEE8QPYAzAD4gISA38CRgJYAqwBYQFQAccAYwAyACYA/f+K/03//P6m/sT+xv6R/lj+K/4+/in+Ef5r/nj+Rf6F/qL+fP7a/mH/Tf9J/7v/yP/g/34AewBFAN0AJQEDAWgBhQEwAYYB7gGzAdUBIQLfAe8BCQKbAb4BEQLIAckBxwE6Af4AKwH+AIQApAC2ANb/tP/d/7j+y/6L/17+C/6p/qn9Lv22/VH9s/zN/FD90Pzn+5D8ZPxP+1z8gPxC+w38EfwE+737t/sS+9/78PtL+3L7w/vp+8n7HvyV/Nj7G/x1/RH9E/0y/rn9hf2V/s/+N/80AFMAJQBjANQAUQEJAgIDDAO3AocDwANiA34ECgWEBFsFwwXSBP8EUQXYBC0FigUqBewEggTyA7UDewNwA34DKAOaAvwBpgF0AfIA8gArAY8ANgBEAJ7/+v4W/2f/Of/t/h7/pf7k/VT+Vf4T/sv+cf72/aT+F/7O/fr+wP47/vf+HP+8/v7+kP9h/+7+rv/s/0T/GgBvAHL/BABTAGr/KwDfAPX/GQCvAOD/uf+SAC4AtP9yAGkAt//p/9r/Qv94//z/sP9S/4T/Cv9n/hf/Ov+c/jD/Ev8D/m7+8P50/oT+2f5R/uP94f4s/wX+g/7A/mT9lP6g/yv+xv4t/6D9av5H/57+av/Q//j+Av9c/4n/zv9JAKcAMABSABUBpQCWAHEBUAFKARwCFwJ9AbEBBgKnAeoBwQJ5Aj0ClwLXAVABCgJOAk8ClgIbAjkBFQFMASIBUQHDAR0BgAC4AAYAb/9YAJcA5P8AABcAM//K/pT/v/8c/6v/SQBH/+f+uf94/y3/OgCBAM3/IwB3AOL/KAC/AIUAAQGzAQQBogA2AesAsQDoARUC4AA3AZoBUABwAGsBpABWANkACgA2/0H/Kv/f/qz+of4Y/j79UP0q/UH8e/y1/KD7mPsn/B77uvq3+x37W/qi+877yvrF+0X8+PrQ+4X94fwd/an+5P2N/af/CACl/ysBggHzABUCywK/AnYD/AMcBE4EpQT7BOMERwWhBecELwW9Bc8E+AR3BUgEEQSdBNkDZQOeAyIDhAJuAicCnwGWAXoB+ADRAGEA3/9IACoAjP+5/1z/qv4f/2f/4/7Y/vj+ev5A/rj+xv6e/ur+u/5O/n7+p/7W/jL/Dv+y/qz+7f4U/yz/j/9U/6T+GP+F/xL/bv/b/xv/yv5o/4j/Nv9s/27/sP7C/on/WP8L/yb/cP4O/vD+I/+v/gT/qP6J/RT+5f5d/pv+Ff8j/sT9dv6O/oH++f4N/4P+kP4D/6P+xP6x/2D/I//u/3//xf6C////uf8NAJ0AMQCS/wwAWwDx/3wAKQGvAKIA/gCFAE4A4AABAesAaAF2AcMAsgACAcUA7wCcAX4BHgFnAWEBCwGFAecBsgEyApQC+QEEAocCTQJ1AlIDZAO3AtcCXgPaAtQC6AOJA+UC3AOqA5kCHAMzA5ICLwNlA2QC7gHXAYQBdwGGATQBgAAMABYAs/8h/zT/1P48/nr+Cv4s/VH9//xp/L38ifwI/Pr7lvte+0L7Lfu7+3P7zPop+9b6lfpW+wL7rvoT+5L6g/rj+mr6tvp3+zD7ufqc+tD6Rvsf/Cv9zfwF/Mj8Pv19/fj+gv9X/08ApABpAGQBSAKmAscDkQQmBIUE3gUbBi8GQgdOB80Guwc1CHcHrAc9CKgHRweYB/8GIgaCBlIGQAWsBeEFSwS7A6ADTgKHAssD1wJvAVIBnwDc/8UAEgGN/3L/UQA1/8v+4//i/gn+bf8o//L90/43/yr+PP6S/sn9/f00/9b+I/6g/lP+G/5b/3b/uf5B/2n/2P4r/5r/VP9U/7X/Yf/w/kn/M//Y/hv/yv6S/h7/ov76/Qr+ff1S/cL9Mf1U/P372vuR+wX77fqD+mz51flY+vD4yvjJ+dL4gvjC+fz4MPjK+Q76HfkT+mv6gPnE+lj8qvuz+yn9AP3E/BH/MgAt/5kAUQJPASACMQS0A/sD+wWKBoIGKwd/B+4G6QZ1CBAJnAh7CSEJPgevB3EIsQcqCIgICgdoBtMGNQamBfkFYgVrBN8EBAXOA3MD1wMRA2ECBgO+AnsB1gEmAu8A4ABYAbQAwgDHAMr/uv8qAA4AIAAWAHL/7/5O/4z/yv6e/s7+OP5t/pP+g/1t/Zj91vzT/OP8U/xb/IX8+vsX+7L63fq/+oj6BPrm+Kv47/hD+Mf3iPdr9r31XfYh9rb0I/Uu9vr0ovRX9Qr0WvTr9hb35fYC+Ev3/faN+QT7C/sw/Yb+C/0L/uoAWQHCAnkFEgWGBM0GlAgOCWEKagu2CnAL4Q2TDaQM6A1zDWgMyg0DDoMMQgxEDNIKjQkLCuEJvggZCfQHUgXmBVAGtQQmBRMF4wKDAgYDJQJcAZ8B0wEdAWgAKAC5/5z/BQAxAOf/nP+g/5H/j/+B/yL/3P+7ADYATwBRAGP/v////9b/+gA+Ae8ACQHg/zT/zP8fAF8ArP/F/vb+xv54/uz9pfxL/DX8GfwY/HX6Kvn3+PD3mPez9pD0xPS89LjyiPIo8uHvfe888EnvZu7p7vXuWu6x7jbvhu+Q8B7xMvFe8gL0m/Ue9/v3nfil+RL8cf8MAewBGQSQBd0GlQn1Cq8Lew5WEJQQ3xEnEooRHxNjFM8T1xM8FAwUTBMDEvUQNhBDENMQxQ/MDfkLHgrrCSsKAwlsCBIIsgY2BcwDJgMfAwoDigMGA3ABWQGBAdgARAB2/4L/wQBUAcoAmP+B/n3+kv/PANkAfAC4AIIAXQBYAAEABQE4Ag8CkgEiAC7/EwBiAGoAPQDr/rX+c/4A/Xj8i/so+1D86Pqw+CT4XvY59ZD16/O58RTx2/Cv73ztMexX63/qpOuw6zfpfOiW6NDo7uqt6zHrAuwS7Ljsd++18Qj0RPZb9nz2XPhg+6D/qgNUBWIFyAbpCZwMSg8PEvoSwhPkFfQW5haEF3IYIxm8GeoZQxlTGIMX9BXtExUTgBOzE+sSVBGKDn8LAwvvCyALvAmGCIoG2ASTA1UCGAI+AhEC9QG2AFv+e/01/rn+4/6q/m/+tv4P/hT9Ff2j/D79qP96ACcAaf/4/Y/+bP/v/uL/SQCp/wEAC//G/Y39s/wA/bH9Xfyx+kz5bPjO93b2Cva19ejzffJU8ZHvgu3268zr2+q46DXnROWU4zPjFOMh443i1uHD4bLiauZ+6JbnIemW6NDmMez28Yz0/vex+GT4Bvro/BADswe2CTcNwA1EDr0ShRQqFmYaChz7HMUebR+oHucc1R3FH9AeQB/NH5EcSxqPGewXSRclFywWZBSGEcAOUQy2ClALkwpqB9UG3AXMAb0BrgIr/wD/0gCz/kH+ZP4Q/NH7L/zm+7L8gf2A/nv9Wvvq+3b7HfzHAKsBev+V/gr90/w//rr/zwCS/9v+S/5f+1r7YvwW+wv8BvyW+Mr2K/a69Kny2vDp7xHug+xj6xXoC+XE4wDjDuIh4PXeuN2v3LfdINu82KLcP97b4AbmAuLk3s/iAOSr6cDxQ/LI8172sPaE+nr/cAUCDL0OrBEhE80SihhQHvgggiWkJt4lqCftJ7oojypuK34tHy2mKmIpMyZXJG0kFSKTIf0gRx1sG2QXshEuEQAQ0g31DQQK+gRmA7sArv6+/iL+g/1u/Mn6PPlF9yH3ePim+G74JvjM95D3N/e192r4qPkr/Ev9YP0z/VX7s/r3+778Qv68/0f/cv0t+w/6PPpq+yD8lvnC9mL0YvCN787voOxm64TqLOcA5Wrh890h3bnaS9os2y3YMNes1jbUX9dN24bcKODG3/rbnd3e4UHoy/Bp9W/3IPiX94j7wgJCCt0SBBh4GUkbZxwaIAMoXS0CMMcySTONMr8yGDPXMxY1mjZQN6g0LDDTLM4p6CeBJ6ok0CA/Hw8bXhTbED4N9wh0CD4H9gKT/iz67fec9vvzMfSP9K7yB/OJ8c3tLO5G7ynwMfNR9FLz9PIC9GT1RvVo9x37R/s4/DT+Bf3B/JT9IP3L/fb+Qv/X/rv9V/vF90P32/fF9K3yovAb7DDq/OcO5KzhQ94+3Drbt9ci1VjQGMw7zuDN/c9Y2CrY+9W31m7RqtIo3A3jB+1O823wifDe8df0HgCRC9gULhyAG+MZ/RxdIVgqPzX2ORg76jr5OCU5wTqrO/491z8DP4089DdHM7Uv/ivnKtkpBCVWIS4dQRXUDgEK5QU2BFYCzP97+0D1M/EC7U/q5uwj7RbsNe0S6cbk0uXa5kjqee5o7/7wWfAH74Dy3PQM+Jf+oQBuAbAC7v9i/xUBbAEnBDUGYgbpBTkBhP2A+0P3C/jb+J/zyPGM7ZnkvuLG3wfatNtC2mvTjM9vydvD+MS/ySvQcNJU0JPN/saPxhTR/9hl4iDteeqq5r3qxez19coHfBLKGIEdLhzfHJ8j8SypN5s/d0PNQ95AyUDGQihD30ZsSRRGv0RaQn078jinNhgwDy34Kfgi0h5CGrIRPwvhBYz/Mvzk+Q/2efJK7ozpxuVw47Pjz+R55W7my+RU4s7imON55tvrv+6O8Qj0+fMv9sD43fr//6YC2gMOB30GpgVuB2MGqAV8BtkFDwWPAhj/mfuF9fnx8PC266vnkeX83SfYANjO0rXLYMorxjHBVcb0y0vLOcxZy0jFJMRky/fTStx+5g3rqeeQ6AXu3PNjAToRuRlxHrchoCROKLEvnDwlRDRHRk1FS0tHM0ypTAVMElBUTcpIfkZtQeo8CzfhMNcsGyVMHwMdYRXaDRkJHwAF92DzSvBG63zpROeu31LcqNyX2efaG98X38Hfn+Hz4mvkiOfq7d3wTPKe96r48frsAjkF1QcqDZIMZQ0nEK4PMhCOEPgP5Q2nCQUHgQLI/Q39nfga80zwLOki4UncCtcT0GHK/cenwTG878BcwfC/pMZ+w9C8ncAywRzExs9R2OfeOuQA6W7vGfM6/ZULzRAXGikn9imCMEE9X0HGREdOJ1JsUSpX3FpyVilX9VgqUkJOpU27RrA+NTpTNGQq0CNJIG4VcQzTCXb/IPbP86HqreGi3y7bR9Y41QbVrtIc0Q7UpNRt1BLaw9zw3R/k5+cV6wrxgvXH+Sb+pgOLCcYM/RFXFUUUIhe6F4kVOhhKFi0SHRKQDHkHNwbS/6f6ffZq7YDmu9/D1kjRtcoaw4S/vrpet+S5ULpQuq+9b7s/uO27O75+w1/QgdjO3ufnHexl8h3+ZgibFDsg4yccMNg2ij4JSTZQTVc3XW5dWV+RYWBgRGFEYNZaAlb9T0xIikGjOlYytShvH9cVXQvUAzH93PR47o3nXN6B1/PRncwtyqjJVsk4yeHJKsuKzHbQddZZ23fhcehC7V7zaPp//yQGNw0SEroXKRwWHtMg8SFIIXch1R9kHTkbzBa6EqgOuQikA7H7V/B05/Xd19TA0KnKYMHNuTmwXKYwowOl2Kgsr8+0RLW2s0G1NrjZvVjJY9Xy3xvsvfZn/0AKXxZ9IsMuZjlBQvBJ+VBkWbRhJGjwbrNyenDDbUVpwGFhXs5a31IOTStF6jnzMZEnRxptD3sC1PUu7Z7kHN6R2VHTbcw4xUy/8rupumi8Qr6OwBTGO8uQ0d/ZBuBo5/XuqvQm/e0E3gwbGPMewiRHLBwu7jCDNdYz/zLFMiUtQyhjI7YbvxUSEOsIuwA49mHrWeDb1AbMtcPZug60nKuwoceax5SVkp6WH5qBn2mnZqrJr1y5Ib8TytLZ8uMs8Gf+XghkFTklZzMVQDlKfFQeXDBhWWsIcjVzo3kJe/Z0hXSRcTVo+mL1WwROM0J0OGQrXR/jFcYJbv3O8+roAt1j0i3J1sG7uzS49LWYsgWzWbX1tQ27vMHpxjvQ4dgp3zbpnfNT/dMIuRL9GhQkQi1xNDY57zx9Pq4+dz/dPRI6wTV2L9QnmB6LFAULowAV96Ds9t+61S/LX8F1uvWuLqXznkWToI0RjLSE0IcEkB+SGp0+qfGu+LuDybzSyN8W7Xf5ggb1E5gigS+APqpPJVuzZbJvcnMhd4B6sXm3eM93THZec1Ru8WjPX3dUzUrbPOQsMiCKEa8CjPe5647fr9Yzz4nGVb+euiq1grHXsAavNa8Zsyu4CcBnyI7QutrG4/ztWPo9BKIPORw2JewtljUxO4FBHkbSSH9J90ZeRC9AVzkhMvMoDR9cFLgHJ/x379bjqdtDzxjDz7ndrOykoJ9wlUmRoIzUg+qD34EIgIqMJ5YRn36xqbvoxerZreaz8zIGTRLmHx0vGjnaRRZTCF9AbW51+Hnbf/9//X7Ffjx4WnJ3buFlzl3YVZVKl0FqN/0n/xiYCeb5du4f46DW+cw+xAy9n7ittNyzW7XHtQ+4ornzuYfA58hMz/fZi+ST7cf7TwluE5Af9inAMQU6ZD8SQ8NHHUo1SvRIhkRBP+w6CTRCKlcgtBQzBxn7A+453+HT58m2vke2Xq5ypXSg5ZtalJWPr4uBhQGENYV7hEOLnZh8o2mzd8eL1bHmfftYCDMVjyQ6LRE2nUENSRBSwF4yaZRynXpxftt/MH/wepZz+2kZX75TlkhzPs00sSvxI+EaLQ8CBCj4bepQ34TUdcfxvum5r7TltCW4LLqrv/jF9smmz07VtNpb4krppfB9+ksEfA9kHOwndTJ4PGZEukiqSuBLgknxRDNBiTlkMGsqeSFuFwgQqAUp+xnyEeUX2FLMYL8GtRyrCKHVmjiWLZSyk/KQMZGKkX2PSpPFlZuXpaWwsgq9INHu3wztpwVDFhkifTQOPURE+VBUU9NXrWIvZrVsanIKbodu42+haupmeV60UYxIMj3bMF4l3BgAEWUJRP6/9O/py+Cf3KDVnc1yx9zB9sDdwJC/P8JQxtLMFtan25jh0+pK9Cb/mgdiDaMVAh7zJjUwfzUQO8BBeEX8Ri5FrkFQPjw4hjF3KMQbRxMwC0j/y/ZZ7e7g+difzxHDfLq5sTmouaLCnDyXo5amlT6Uc5Yzl5GXt5xOoU2nlbT0wWzPk+DZ7vn9nhDhHrIsUToeQlFLmlPXVR1b7GDtYgBnVGgvZTFklGKgXkFZlFAdR0Y9wjG9Juka8g47Bqn9bPOV6mrjft2S2d7VxdCdzPPKPMolysLKT8xy0CHWBNwL4y3raPVGAUwLYxOJGpshCSreMOs0djgqOhM72zwEPPw4AjdENIAuXSeNHwMVhQoaAjD23ui93gfTIcgRwbO4ZrEcrGamPqNwoMCevJ+SnXedlp/hnPieiKObpX6yC8HkykLdlewn+XEQJSHhKyw8yUOISMxRrlIuUytY71hyWp5ahVZJVgtXJFb4VIZOiEUAPpI0WCl9HZARgwa5+2jx3uYK3q7aT9k213fVFtMr0r/T6NS11bLWv9ia3C3gUOSB6szyAP5eCC4QuxgGIaYpMzNGOCQ6xDx3PU48TzqdNdEv+irGJZgeORa3Dr4HeAC3+CzvSOSo2bzPEsbKu86yCqxDpbOgw54gnCCcKZ/OoHKjqqaMp5OqCLEZuXvE4dDf20Xo8va/BkMXEydyNEA/00giUJNTh1YrWgpbpFpQWfRTEFC4UDxPS0yDSVRC7TqUNVQsTCJQGVgNCAIZ9y7qY+EV3AbXpNQK0jXPS9C70s7V/dkw3dngKOQ65gvqxe6q9IX8qQI/CLUP/xeMITAqcTDiNZE5jzyXPuo8QjpuNoEvGCi+HmsUrAxVBCr85fQA637ijdtV0qjKQ8M9uoWz/KxuplCiep6qnLKcRJw5nmGgGaIEqI+vALlExu3RWN1W6wj5tQhUGXQmgzInPYBE00q7TxZTc1b/WHFZX1cPVUpUjlNPU+lRs0wyR3FBLjk0MSIo9hyhEpUGIfku7l7k9dzD2PXTJdD8zrHOe9Dh013XrtvM3wHjwuWf6Drt0vL499j8ZwGJB98PdBgaIXYoby4dNQU6rjy+Pns9FjqiNeQs3SJ0GeMOAAZ6/RbzEOpg4c7YldI+zO/FdMAlur20zK+8ql+niKNxoIufRp2znCefSKIRqwi3aMHFzj/ceenz+6kMehqTKZczzztxRV5JBk2GUnJTGlVuVnNTHlRUVsJVi1aAVFhPeUyIRwhAhTjQLRAixxZ2CcT80/HM5+bfktjX0dnN+ctTzB/OsM9o0ifWwtnD3XLhVeWF6l7vcPN69xb80gIJC8ESyxlLIBAnfS4CNaw5XDzuPFU7ODfLMMwoSSDNF/8N8AL2997sPuNy2wXTc8tzxR2/ZbrPtg6yl67Qq8Onv6QhokKf1553oNejeqpIs4q9nskk12vmAffdBwgYxSWFMRM8FkS3SmhQEFOjVNpVtlRAVBhVjFTcVBxVulLlUOVOm0oURoU/1zVWK1kfhxJnBnD6Je9a5Hra5tIZzRDKjMmJyZDL7c4N0qjWT9uc30rlCOq57VzxDPQ6+PD9LgMgCYwOlBPpGj8i1CjQLzw0UjaQN081vjBJLKAlAB2sE4kHk/r47+DlTtw41NXLPMQRv/m6SbdEtM2xyq5tqx+pFaYRpCam/Kfnqs+xnLdNwETOONpz6Jn57gbyFfUkdi4XOZNCzke5TX1QV1BXUlFTMlTgVRRVxVQtVR1UeVM1UX5MjUcZQPo1WSt0H2wTdgis/F3wuuXz3EbWEtLVzlnMHMyYzezPGtN91iHaSd5e4sLlgejL6/vvYvRF+Tf+EAMoCS4Q+BaZHRkkcSkeLZ4vXi+ELPApOiXbHd0W6wy9AaP52e865nLfcNbyzknKysNavw28MLdJtN2wNq3+q7mqM6y0r1ayZrgnvwPGvNGt3GDnl/UJAVMMohntIvUryzXjO5hBs0bPSHFLvE4ZUUtTwFTRVDBUlFMsUj1PZUvGRQ0+WTVKK5ogbBY5DCACDPh07rHmgeAg3DHZPNZa1N/TutPn1AvX7Nh/23LepeBJ4wLnEuse8Ov1EvuPAOgGHw2YE7AZoR7fIrQlOScxJzIl8yI5H44Z1RPcC1kD7PwJ9abtludk3xzZZtRHznTKVMbRwEW9Sbits9yxxK+hsD+zuLSDuVi/6cXR0ALbGuVT8S37QQVEEMwYwCFAKkYwyDXjOVk9U0H3ROBInktuTbZPW1CvUBdR0E4ATC9IBUFxOVkxyCcSH/cVYwt7AY74gPBt6tTlgOFE3l3clNrf2Wba5dp13ETe/N5J4M3huuNb59jqcO4M83L3+/x4AzUJYg8vFYIZbB3sH7gg5SCvH9cctBg8E+IMNQbD/035pPKD7Hjmg+Dc29DX3dO20AfNNsjiw8S/w7vLuQe5cbjeuWC8SL8rxdTM9dQ031HpQ/I7/JQF8w37FsIe+iTrKn8vOTN/N6o7hj9QQ2NGqkjXSr9M1E0UTvxMCkqGRZI/jTjnMM4oVCD5FlYNVATI++H0oe+Q6tLm9ePp4JXfAN9P3hzffN8j37/f4t+T4O/iNuVD6Cbs0e+H9AT60v9aBo0MKxLwFmEaAh0wHhkeFB0YGkcWyRHsC58GUgFr+5f2VPG163Pn9+LM3pPbZdcN08HOt8kwxTXBBr45vEy797u3vX3AzMX+y0bTodwK5aDtR/fB/n0G1Q6VFOcaLiHQJLkp4S6ZMjI4UT3AQDhFmUjQSo5Nhk7STS1MMkjAQl081TQJLdAkRBy8Ey8LpQNJ/cf3efOS7+PrC+mY5rHkdOM24gfhxt9m3pfdjN2h3vzgyOMH5/rqT++u9Cf7bQGLB2INsxEvFRcYIhlvGTQZAhc3FPkQVgw1CHcEFwBa/KD4ZPSa8MbszOjh5OPgrNyC1xbSmsy3xpTCrb8Ove68wb0sv7LD1ci0zh7X997m5rHvevb4/LsDCAmWDuIT6hdaHPYgzCW4KwEyVziFPgZEokhWTDhPqVBvUEVOi0liQz88NTSHLHQkGByqFDgNyQbfASL9v/nm9oPz7PDP7Y7qR+gp5U3ixd+O3A/bndrp2nPdH+CT45boaO2y85L6lwAFB5wL2w4DEg0TKRS5FM4SiREND2ELvgmyBo8DKQK4/gr8I/ro9cLyLu/s6enljOBo2hPVe84WydTExsCVvwm/i7/1wgDGzsrN0XLXz96d5hzs7fLP+Jj89gFuBh4KtQ9+FDcZyR8WJvgsCzX8Ox5CxUeCSwhOn0/WTjtMMkgHQk07ljQ+LZgmLiBxGegT1Q48Ch8H4wOdAJn9ZfkG9bvw8uv05znkjeDQ3VzbHdqo2i/ck9/t40noxu0m8zz4J/7kAoEG6AlPC9ALjAzXC+UKagrNCGwHvwYVBZsDngKiANj+M/30+TH2F/Ku7IznrOLW3ETXz9EjzB/Io8VdxC7F5cZGyQPNJ9Ek1vbbMuFr5ifr1+7y8r72QPrd/kYDHwhFDgkUqxpmIp0pmDESOYQ+WUNERl9HG0i7RvVDfUAqO+81AzHAK7knuyN2HwMcDRhRFDARMg0xCaUE8f6K+dnzTu4D6v7lCeNL4cjfod+i4HXi6+XO6ZftdvGb9JD3i/r6/CL/nwBvASECkwIpAwQEqgRSBdEFrgVABXoE4QLrAKj+V/uv98jzs+7z6arlveAC3XrZ9NQc0r/Pv82UzlLPBtB30tPTEtYv2ijdJ+Fh5fDn8evv75jzR/k9/jsDhAmMDoQUahsfIewnOC68MpA3jjr5O6M9lj3yPFo84zkdNz40fDCWLc8qWic9JHQgHxxbGBYUpg+KC4oGcwHA/Hn39vJh78rrp+ll6B3nVOf2563o5ery7NzuePEH84X0gvaw91b5A/vN+x/9PP4f/8MA1wGpAo8DawMXA24CogCu/jj8/vjq9XfyiO7u6lzn4+Mm4Xzelts82QrXRdUG1TDVotUD1+7XWdkd3KPeBeLS5WroxetB71jyGfex+wsApAVcClgPXRVLGsYfXCVeKaQt8zChMpA0WDVMNZ01mTQFM3wx7S6iLKcq/SdnJW8inh7hGvwWvRKmDk4KoAVFASX9WPlq9vXz6fGl8KXvBe8F7xTvce8c8JLwL/Hm8ZHyn/Po9Er2wfcg+XX6u/sg/Xn+Zv8eACEAd//N/nP9yvtN+gz49fU69PDxOPB37grsSuop6JblreMF4VPertz62mXaFNuQ2/Hc596L4ETjY+br6PrrwO7P8Kvzk/ZO+R79xQBdBCgJeg3QERQXJBslH4MjDiaaKMQq9yrcKzMsNSt/K6Yq4ShuKIYmciRFIywgQh2HGiwW8hK6D48L0QibBSECIgCh/Yv7dPqK+ET3b/b39Hz0PPSc89Hz6vPn85/0V/VZ9sj36PgJ+gj7oPtL/ND8Fv1M/Rb9wPxj/LP7LfuJ+nf5lviB9z72SfXy85fyafHA74buYe2266nqY+nw563nQOc550/osOid6UXrEOy/7a7vtvCy8ln0a/V79+r4WPrM/Kz+GAEoBGkGKQnuC+wNcxCkEv0TixWJFukWrhdCGG0Y0RjeGFkYERiHF3EWohVIFEUSuxDIDqsMVwuYCe4H6wZ2BZgEQgRlAykD2gLCAUoBpQCM/zP/qv7y/fT93f3y/cH+W//p/8sAKAErAWYBLwGoAHUAFACl/5L/Vf8d/wn/nf5K/gH+Q/2n/Bf8QfvB+nz6JPoH+t75ePk3+eH4Vvgm+PD3Wvcv9/32RvYL9tn1TfV29bf16PW59jn3nvdf+JL40fhL+TX5Nvk7+Qj5R/mc+SL6GvvM+4v8fv0g/tH+mv8pAKEADgGHAQUClQJMA9YDVgTgBDQFsgU6BmsGpwbFBpQGkwa5BsUG3Ab9Bu4GyAbMBsIGrQbGBrUGngawBosGdgZxBjUGNQYtBgwGMwYIBtAF4QWFBVAFTwXJBIUEWgTWA8YDsANEAygD3AJjAjYC7wGiAV4B9gClADMArf9Z/8v+M/7l/W79Av3B/Dn8uvtP+6r6RvoB+nz5NPn++J34e/hx+Gz4gfhr+HD4cPgh+Cv4S/gf+FD4e/hh+Jz4y/j6+H35xfkP+pH6zvoR+3/7wvvp+xP8Xfyj/OD8Yf3J/fT9Rf6N/sX+Gv9t/9D/HQBOAJoAxADhABoBSwGgAfEBHwKDArcCuwIcA2IDdQPCA/kDCwQ6BHUEtATZBPIEDwUJBQwFIgUeBSkFHgX0BPYE2wSaBIoEVQTxA7gDeQMdA80CfwIsAtABfgE8AdwAeQAnAL//Zf8h/8b+fP49/uv9u/2h/X/9bv1q/V79RP00/Sz9Bf31/Aj98vz//C/9Hf01/W39YP2K/dH91v0L/kf+Sv5v/n/+fP6k/rL+zf4P/xv/M/9c/03/VP9d/z//Uf9Y/zv/Yv9v/0X/Zv9+/1v/eP+i/5L/p//R/93/AgA0AFMAkADCANgAFwFIAVABjAHJAd4BEQI/AlkCdQJ0ApICtAKZArkC5gK3Ar0C1QKcAosCgQJNAkECFwLYAcgBhAEzAR4B4gCXAHkAWAAnAPD/0f+9/33/YP9q/0H/L/87/yb/JP8l/yP/Q/9F/0r/e/+E/43/tv/G/+j/DgAsAGsAfwCHAMgAxQCxAOMA3gDQAPgA8QDoAPYA2wDTANMArgClAJwAdABcAEQAJgAMAPj/9v/r/+D/8f/v/+H/7v/z//f/AQAIABYAGwAhADMAMAA9AFsAWgB2AJgAkwC5AN4A3QAKASgBIwFOAVgBRQFfAVEBNAFBASwBFQEdAQwB/ADuANIAwwCkAHoAbgBJABgABADl/77/q/+Z/43/gP9v/2//af9U/0//Vf9Q/0j/Uf9g/1X/WP93/3v/hP+y/83/4v8JACIANwBGAEsAZgB2AHAAjQCnAKEArgC/ALoAsgCpAK0AqACJAIYAhABYAEcARwAcAAEAAADr/93/1P/J/9D/xf+2/8z/yv+2/8f/0f/H/87/2//e/93/4//7/wQAAQAcADMAMwBIAF8AXgBcAF4AZABiAFcAXQBiAFMATABCACgAEwABAO//4P/R/8r/wf+w/6v/qP+Z/5D/gv9y/2X/Tf85/y//Gv8K/wr/Bf/9/vz+BP8K/wn/Ev8a/xj/KP83/zn/U/90/3//lf+t/7X/vv/I/83/z//P/9f/2v/W/+H/6v/r//z/DwASABMAGgAaAAkA//8AAPT/4//i/9//2P/W/87/xv+9/7D/rf+k/5L/l/+f/5z/of+l/6P/o/+k/6z/sv+p/7L/wP+6/7//yv/G/8b/zf/Q/9X/0v/V/+H/1//T/+T/2P/E/8v/yf++/7v/tP+x/63/oP+h/57/iP+K/5L/g/+B/4T/df9p/2X/Yv9e/1T/Wv9u/2v/af98/33/b/91/33/eP95/4P/hf+G/5D/lf+X/6H/pf+q/7H/rv+1/7//tP+1/77/sf+t/7X/sP+v/7L/sP+x/6b/ov+p/5n/jf+P/3//d/99/3T/e/+B/2//Z/9e/0f/RP9C/y//J/8e/w//B//8/vH+7v7q/uz+7/7i/tr+5/7v/vL+/v4J/xj/L/87/0z/bP9//43/qf+5/8r/5v/0/wsAMAA8AFUAdQByAH0AngCpALgAzADPAN4A9QAEARcBHgEqAUoBVQFUAWUBdwGHAZgBoQGuAbkBwQHSAd0B4gHzAQICDAIbAiUCMwJGAk8CVAJlAnkCggKEAoQCfQJ2AnwCgwJ+AoECjQKNAoACfgKCAnwCgQKKAnoCbgJ+AoICfQKKApUCmQKkAqICmQKdAqUCowKZAo8ChAJ1AmUCXQJTAksCSgJEAjoCNAIhAgwCDAIIAusB1wHUAb0BmgGLAYoBfQFmAVQBRgE1ASgBIAETAQQB/QDzAOQA1QDMAMoAwgC3ALMApgCRAIwAjACEAHgAawBrAG0AYABdAGUAUgBBAEsARQA4AD4AOAArACoAIwAdAB8AFQANABEACwD///r//f8AAPX/6P/o/9//z//P/87/y//N/77/s//A/7z/pv+j/6L/lP+I/3v/cv9t/1//VP9R/0r/P/8t/x//H/8V/wD/+f73/u3+2f6+/rj+u/6c/n3+ef5k/kr+Qf41/jH+NP4g/hL+Gf4M/vn9+f34/ez92v3H/cP9wP20/a79qv2f/ZL9hf2A/YL9e/1y/Wz9Yv1h/WX9W/1T/VL9Tv1J/UL9O/0+/Tv9M/07/UH9N/0x/T79R/08/Tf9SP1M/Uf9Wv1g/U79VP1k/WD9aP14/X39if2V/Z79t/3F/cb92P3q/en98/0J/hT+FP4b/jH+Ov41/jr+Rv5P/lv+Yf5t/oX+iv6N/p/+mf6N/pz+oP6Z/pz+j/6G/pn+of6a/qL+tP7A/rT+qP67/sf+vv7F/sn+x/7Z/t/+4P76/vz+8P4A/wL/9P74/vf++f4H//j+7P7+/v7+7f7f/tb+5P7q/s/+0P7l/t7+0v7T/tf+3P7Z/t/+6/7c/t7+/f4A///+Ev8O/xf/Nv81/zv/Wf9g/3D/h/+B/4//rv+v/7j/zP/T/+X/8v/z/wMADAAVAC4AKgAqAE4ATwBFAFwAXgBkAIQAgAB6AJMAkgCTAKgAqACtALwAtwDGANsAzwDVAPAA8ADuAPMA9gAGAQYB+QAOARcBAgEPARoBCQEQARUBCwEUARUBFgElARcBFQEtARgBDgEvASIBDgElASUBIAEqASIBMAE6AR8BLwFBASEBLQE+ASoBQgFPATYBQwFHAUQBVAE+AT8BYQFKAUUBZAFaAVgBYgFdAXABewFzAX0BhAGPAZoBhwF6AYMBjwGWAYoBjwGjAZQBhAGVAZ8BkwGIAZMBlQF8AYMBlwGFAYEBjQGKAZABgwF2AZMBjgF2AYcBgQF5AYQBYgFgAYkBfgF2AXkBcQGIAXIBUAGAAYIBaQGAAWcBXwF8AVUBUAFtAVcBXQFUASoBPQE+ARQBFQEgAR0BGwENAfQA5QDuAOQA1gDuAOEAtwDKAOAA0wDFANUA5wCyAJ0A2AC2AIgAwACxAHEAhgCjAJkAjwCSAIsAbAB2AJAAaQBKAGwAiwBxAFAAaAB0AFQAUwBjAGsAdgBxAG0AYgBPAGcAewBnAGkAcQBUAC8AQwCHAIMANwBLAJoAdwBIAIIAiwBbAHAAhgB5AG4AXgBYACYABwBFADQAEAAZAMH/yP8IAM7/GgBKANL/CQD2/1T/0/9zADQAzf/b/2AAOgDu/0EAyf+p/3UA2f9k/xYAzP+W/8v/af/F/yQAp//M/yYACQDw/83/4//O/2z/qv+i/w3/fv///5D/iv+U/0D/mP+i/z3/9P8nADz/dP/4/7r/4P8CAP//FgDs/ykAPwDF/woAJwDH/zkAbwASAPT/1v8BAPX/rf8QAOD/ef8AAN7/mf/w/+b/HQCn//3+fwBKAGz+FAHfAzECwAG2As8BIAF1AH3/tP9q/1X/yQCXAID/AQCi/5/+N/+l/xD/b/46/pD+G/50/Tz+Lv4n/YX9e/2c/AH9gv1u/ZL9fv2H/bv9U/3R/Ob8sf1c/iT++f0l/oD+R/8a/1r+Av+W/+P+0P6n/5//6f5W/wcAiP8e//z+5/5K/9D+3f5qADUArP8YAe4B2wEZAfv/QwCQANoAYgE/AJIALwLDAOr/7QCXAKMAIAHlANsAnQDpABQBOACUAFUAx/66/8YAj/91/8r/0/4m/1UA7P/b/9X/sP2X/owCiwE//28BIQNbAs8AdP+F/6L+Gf2o/Y3+MP9h/8b+2f7l/Q/9xv47/7D+7P4X/hz+uv59/iP/sP6c/SP+6f0b/t/+8P1E/pf/9f+uALT/v/1d/pP/of8Y/9n+0f9NACYAuwDDAHUAsACxANEAlAC//9v/CQDf/7EBiAPHARoALgFiAKH9fv2y/50BYwGsAEsC2AGH/nf+4/7q/P78Pf6+/mj/O//T/hT+wfzp/Oz8Yvxw/SH+Df7b/cj8/fw4/Xj7j/t3/TH+jv0K/FL8l/1v/Bf8Qv1P/Yf+ef9A/i7++/33/On9p/6e/kP/+v5Y/1YBBQJrAWoAz/9qAID/3/2T/04CigMPBGMDMwOaA/AAmP7mANMCcAJ2AzEErAPEBOwEeQJNAgoE8QJeAZoCzAOPAwADFwLwApMFbgUfBCUFGATRAKYALgFCAEgCPQbsBlcFTAQbAp3+ZP2M/i8AKwK/AtgChwWdBkgD7P8o/Un7Uv2t/6v/2AG4BU4GnwTrAxIDewAC/lb9cP5CAaMDGQRpBbMGdgRWAff+Qfzg/EoAggEcA7MF6gTwAwgEAgGC/sP+yP1U/hACNgQzBVcGiQXMA5sBsf52/YD9uv30/50DeAbNBqQEFwNRAan9hvyS/JP6mfzpAJsAsACrAb/+1/xi/DT6kfqZ+8z6ZP0uAAD/2f4h/+z8hfs5/IP9G/6z/pIBDgQWBI4EOgSKApUCjwJ1AooE4QUIB8oJNwqlCJkH/gVwBXcG5QbJB4wJ/wp8CyYKDAnlCBUHYwVxBaIFvAaHB4YGfgZWBhMELgInAfUARwHh/2r/YwFFAY7/wP5X/Qb8cfuk+ov6Uvov+bT4Mfh49wz4h/gJ93z0JPMn8yPyI/Ee8lXyE/EO8FLu6OxW7bTtQe0v7FXrM+w37Dvq6+nu6uPqYuoc6ojrg+488DHx//Gz8ZHy3vRC9uT3TfpA/Bj+9P9FAiMF1gYWCFAKZwxADgIQ7xBDEqMULhZ7FvgWMxdrFmcWAxfyFeMUKRX8FIIVMhYRFN8RthDyDU0MSQyQCpMJNApOCQUIYwcPBk4E2AJuAiMCswCOAHQBgwDE/wUAQ/+T/vb9/fyR/cD9kftE+hv6kvhf9y33VPXH8qvxfPD+7m7uj+3v64LqM+lJ6DznNuWg45niM+HC4Njgzd/S3oLetN6F4L7iD+QL5urnauh36fvqQezO7vnxxfRq90f5z/vc/8YDYgeCCVEK8Qx2D9YQQBRJF3UYXxptG7EbGh27HWEdwByZG0kbBhv8GZUZ8hiwF1oW8BPcESwR5w+RDq4NlQv8CRcK9QgMB6IGFgYcBWwEVQOgA+AErgQpBW0FfQNLA+UDpgLXAioDHgKaAgkCxf9y/7f+ovyq+1v63vg4+Kz2DfXC80fx1e5o7P3p2+lV6eHmOOZD5afiSuJR4YveQN7X3bbccN444HThFOSx5QXmO+b25i7peOtL7trxyPNq9jT62vzvALAErQVPCKoLMg18D2gSuBVlGVMbohzpHYoeyB8kIGQfuh9cH3UeEh/HHmgd5hxCG24YmRZ5FBISShFTEIwO5w0DDXIL7ApUCoQJ7AhOBycG/AWrBbEG2geVB8AHdwe7BjEHtwYjBjcH9QaVBb4E2wMyBFIEQQKPAA3/1vxq+0759/YD9gD0z/G88IPu0+zX6w7pcObH4/XggOAp38jcu9z223Lb8twq3TbfrOJo4t/iKeUo5mzouOrU7ALxEfQD9zH7Tv6yAqwGmAisDJkPjBBRFG4XdxngHL4e9SAeJO0kSyWlJbgl9iW8I+UhKyIKIOYdOR2bGusYDRiWFBoSIBF/Dk8MYQvMCSIIvAZ4Bc8EIwSPA6MDjgOtA78DfgJVAqMDRAOOA8cFCAaYBUUGqQUEBUYFFgTfAkwDxwKhAIP/kP9//gj8c/lr93X1AvOS8OTtNOt26avmvOM94yPhvd3q3KXaxtc62FzYNNlW3Mfd39504CXhleLN4+jlAup47NjvePUM+SX9BwKnBIYIvgyUDnsR7hSAFx4bcx4bIXskCCdjKPQoFyibJ5MnXyUNIzsiNiAWHqcc8RkFGDkWWRLcDwwOswoLCDgFOwMGA+QAvf+3AC//T/64/k39Pv1j/cD8C//wAJYAIQFjAjYEFAU1BOQE1wUnBZcEwAOXA4MEjQPrAW8Brv8p/E35qfc+9dbxDO9n7FrpH+YL42Xh2N913KjYidV/0zzSl9EQ1N7XFdnc2SLbOtye3pfgceLh5jHrP+4T8lH2YPvoALcFsQp4Do0Q8xPlF50aUR0VIHAjhyehKRYqTisSLOoqMiguJVsjuSFrH2Ud2xqsF+YUxhGxDhoMwAiwBZMDqgAv/fX6l/p6+mr5u/iw+L74Kvkc+Wn5SPuP/NH85f26/18BqAJRBMQF5gW/BWsFOQUGBrsF1QQkBUwEkwEy/l/70vn99lTzkfAL7SLq9+Y64i7g+9092YzWcNO0z4POwc3az3rTMNRi1izZ39qU3YfdZd+l5e7n5urc8P70hfzHA04H2g1ZEhgUzhjiG/MeJyOFJbwqhS4GLmEwhjGIMKMwKSy8JxMnPiN3H/Md6hpJGG8VkBEVDrMJAQb2Auj+8Puv+E71YPXP9Y30fvQn9ez00vSR9b31Kfbs+Pj63Puw/r0AGgKNBXoHNAdqB5wHXQd2BgwGPQbxBDMEHgMs/wb9a/vd9sXzT/B36gbnMuQC4HbcMtnn1gbUHdDmzqPOkc8G04XTNdRa2JzZmNtf4B3ipOVb617uS/Px+NH98AXzC3MPEBX9GH0dcCPLJXspPS6NL10yXTRyM9E0fjSzMdovTitvJxUmkyFuHacanhVAElYPXwpyB2AEYP+7+xb4aPSe8kzxvfDP8Prvs+878O3wq/JA9Hv18Pcp+n77cP3l/6gCSwUwB9kIVgnDCN8IBQkoCboIRgapBP0D/ACN/b/6xfet9MLvB+ud58jiL99X3KrXp9Qs0VLNss5b0OjQfNTN1gvYEdrp2sLdkuHQ5BjqG+6a8sr5qv4kBXsNpRG/FlQc2R6iIyIoqSpqLwYzVzW9N/c3HjlbObI1JDPkL0wq6iYKIzEe2hsxGFMTzRANDbgHLwRmAJ37qPff83Xxt/AX76bu9O/276XwtvFx8UbzTvUY9nD5+Pvh/EEAQwPEBe8I9gnmCpwLbwp5CggKzghECZ8H6wS/A6MAO/3E+sb2ufI67svoaeSF4Dvdc9nz1OnSWtAqzVjP0NJz1FPXV9g22UzdS99e4XLn1uvc7vnzVvmh/7YGiw1xFUYb7R2NIQwm2yo+L/owCzRROHI4yTjgOho6FzmsNlcw1yvSJ7shhx6FG9EVyxFIDs4JlgbaAg7+L/ol9m3xJO7v7KTsxOzQ7Kbspu0t7w7wrPHr83r2TPmq+or8QwArA1wGpwnRChgMDA3gDIkN8gw3CwcKywfiBZgDk/8K/ev5//Qy8Q3s3ebN4x7fqdpz1wPTe890zCnLpc0hzwDR4NRm1gjZm9wF3tbiEOgN6j7vifVh+j8BXgjbD2EXAByoIF8lwSj7LNovYjKUNqA32zfGOjE7hjkqOEo0Fy86Kk8kzx7DGkkWHxHVDFIJWQVoAen98/mC9fHw5+xf6hDpkehi6H3oNOoW7LPsw+7s8f3zcfap+BP6Jf1cAOYCNQeRCjYLRAx/DU8Oyg4qDcULXwsQCAMErQHf/vf71vdJ8qLuOuoi5ATgZ9z72OrUiM6Byw3KgMZ/yK/M2c2c0TrT89NO263e6t655W/qbe2281T4UwDWCrkQ/BclH4siPCfrKsUuJzRYNNA02zhdOcA5JjsmOqw5VDbJLmkpxyTvHpMZthNyDv8J8wSCAT3/WfsB9yjzqe6B6r7nV+V25Ivld+Wu5YnoPOv37WLxg/O/9Tb4HfoD/QEAbAOZB9oJoQvJDc0OfxCJETkQ1Q5tDMYI7gWXA9IAQPxj9/HzD+/m6UXlLt9629LXdNBBzHzJwsQLxb7HRcm9zGDOvM8i1cvYrdrJ3irjuOd97H3xMPl3Aj4LFROWGXUfbCT5KGgu7zLVNSI4BzoDPEw9yT2KPl8+cTzcN8swTCtXJ7UhZhtLFX8PmgrQBaABRf7E+s32kPHK7N7pceaR5K7l/eRO41Dkj+ak6RntNe8H8vD1+vdx+fj8XAFXBWEIRQqEDIMOjQ/zEXQTgxF1D/kMwwkiCHUEe/8S/df4BfPY7uHpWeXN4GvafdUZ0LPJqcVRwj3D5seLyBHLVtCm0RzWxdvl3Knh7OXc5gTunvWG+2QG5Q/iF18gISSqKVQxyzP3NhE69Tn1PLk+TD7nQahCHUAwP8w5VDI8LQ4mYx+SGfoQ1ApwB+kCcf9u/OX4TfXd7wDr8ueo5Ezj0+JP4UDiUOT+5ZXqVe/L8ez00PeD+eP7gv6MAYYFuwjlCiENlQ/aERgT6xLkEeUPFAylB3IE1gAV/ET4IfQR783qeeUq4PjcYdds0MTLt8UQwZjCnsUCyczMN85t0fPWWtoa3rXiYeZ66pPu//SI/hMH2RB8G/QheiceLY8xSDdOOmU66Tx1Pi4/vkE3QvlC/kPFP5Y6PDXuLMUm9iB9GLwRfwvUBdQC0f42+6L4IPNp7jjrUeaV47niKeE84Ynhb+J/5nXq2+1y8YHzgPa7+Uz7N/9YA/gElQhODP4N/RD3EiQT4RNtEiUPZwwKCXAFEAEJ/GH46fPQ7rbqL+V34H3cA9XRzpjKacNhv3vBZMSmx5rKPs000kTXhdqC3Rvioufe6eHsG/aI/hEGjxErGyAjHSsSL7c0ijutO607Pj4PPxZBGULWQfVEPUUgQU49BjctMK4p5x/2F70RiwmpBNgAx/tD+r72k/Ct7jvrCuUH4ljfa90z3Qfcf94t5NXnxuu270fzVPjb+pn8ZgEMBPAEFggoCzAOYBGcEsMTNRUcFGMRNw9ODKQHOgJI/ET3fvO87dvnAeQj3zvagtQHzZnINcM1vey/UMNTw4LHKMq/zWTW9Njb27zkHOgb64fxo/YGAIgJzRCJHLAkSykMMkg4pzzsQFhAXEENRCNDskPLRE9EN0SaQOo6GjZeL8Uo+iGBGGIQ2wk+A0z+5vkF9lLza++H6znpCeYm433iFeFW3yfg5+EH5VDqAe4J8Uz1ivg2/EMA5QJTBm8JpgtyDuIPMhKPFZUVGBWWFOARLQ/UCpwFVgHn+vH07e/i6WflVd/V2YPXA9DfyGTFh71xuy2/Mr6AwbHF08XPzEfTK9bN3QnjCedA7YHx+PkPA1IJNRUgH90kyC0fNLw6L0JYQrtDL0crRkFHHEimRoBHyESVPyA81TUjL8soPiCkGA0QPAdOAsz8Gves82Pu9umX6DXljeHt4P/fNd7N3U/etuBS5efooewA8p312Pi+/UYCAwdgChMM5w9qEp4S4BSHFgwXLBdBFLERaw8SCjEFdAB7+vr0N+4A6ODiHNzf1pzRDsqFxBu+2LbXtTO4Qro7vQzACMQSypvQGdco3dDjKelQ7Cbz6PupApUMWhjbIeQqLTJMOTNCSkfCSDVKRErdSYRJg0iDSOlHQkXPQZo8TTb9Lz4o9B/wFjUMZgPt/E72o/ED7hnpR+b25DPic+BV36bdI93+24rb5t6F4rfmDu2S8Tz2ZfzjAMoGtAyLDmQRlhRRFAcVcRa1FhkYaxctFDES4g6XCe0EGf/k90fwvueH4F7aStOozZvIMsImvdG3WrI8s7m2I7fMuFS7u71vxBfMfNJ+247j2eiB8Cj6hQMJDZ8WpyDJKR4wPTa6PgdHkEslTbROSlDKUEFQ605FTYxKEUUjPgU4cjFsKfIhThq7EMQHTAC0+Tn14O/W6IzkfeFt3t/chtrl2cbb6toX24TeZuG45sPsafAs9kX7ZP75BN4K/Q1+EtkVrRf4GXMadRr7GxwcQBmFFd4Rlgz3BiUCDvuK84Xt3uUG30jZTtFuy2bG1b0Bt4SxBKy9rCGwzLHvtWK6nL5qx+/QHNg84ObnqO2E9Lj8bQUDEDwb4yRHLnk3YT/BR1pPHlP+VJ9VN1SSU+dSv0+0TMNJcEQvPpg3UDCkKQUi5heFDRMEmfuj9GDum+iW487ew9vq2vLZE9li2QXaidr/2qXcquDR5VLrz/Ag9nj8vAK4CAQQbRVeGBwc/x3tHSEfAR9HHpoeSRsvFjgTvg7ECOwCN/vg8mrqX+Gy2cXRzMm1w+27uLScsDCqTqcOrPqtGrB4ttO4Hb4xyRDP9NY848voZO8W+wIEUQ+kHHwlIS8hOXU/n0aOTsRTTVYsV25YGlkdWLBXuFUlUZ9MgEUnPF41wC1KIx8aUhA1BYz9O/ff76fq1uWU30vb4Nje1iPWvtWA1VfWqtcT2mXe2eO/6TLvafTu+r0BTgdFDaATqRe6Gjgelx/lIKIjMiNJIRIgahtQFrIS/Qu2BJz99/NG64Hj2ts01YnMWcXQvyq2aK9Uq0CkA6TzpoymvK0FtW23rcKPzQ7T3t4M6Fjt6vfL/8IHQBVpH+0oGjR3PPZFzk7CVIVa6Ft/WwNdGVtdWGBWo1HQTSlJ0UCBOWYyViogIlIXVQx+Ao344/CN6Sjivt0I2U3VQ9Xh08vSCNWI1qDXDdk02rfeKOWE6WbuCPY8/hQFUAs5EggZPx7rIGIiXyQ1JHAiECN4IngefxqfFdEQFg0xBX376fSr7B3id9kp0dnI/cFOutux9Ksmp0Ch35+VpEKoJazysne4vsAIzPPSU9xJ6a/vKvZfASILqBbXIvQrrDb6PxJGpE7AVihbzlwjXL1c/1yRWWJW4VOzT6JJ3kDJNyQwSSivH24VMwp2/7T1ue5f6I/hT9352PzUV9Sl0r/RhtT21R3Xp9ig2Q7fFuYp69XxQ/gL/3AH1wygEnUa0B7tIaAkZSRaJAclIiVHJK4g6xv6FlIR6AttBEj7LPNx6VPfTddLzgHG+b9WuDKwxqnVo0GfA55moJWkMKmzrqC0D73oyL3SDNwj6Arxl/jcA0QO+xhgJc0u2jgKQ8VI2FBlWkJeYWA2YehfX2BAXsRYjVU4UZtJPEHaN0EveSc0HrIUhAof/1L1wO0+5yzhXdtw1iDTstFG0K3OXdC40/vUF9Yu2bbezuXI68Pxp/mOAXEICw8xFkMdMCKZJbUoqSrsKg8q1CkWKYskmB7NGQQUxAx1BIL7EPNE6sfgvtfiz1fIO7/JtsCvLqdYoJObn5Y+mAGePaFmqFSxV7g8xXXSONsF5y/xV/hgA2oNixawIkktTTiVQ6JKN1OdXCVhe2SNZQhjkWHlXqlZglRqThdINEEuOE8vuSZTHvUVpQrl/jf1e+so42LcUtaa0vPO/MuszGXN1M300LjUiNdC2pzeGeUF7FTzjvrnATsLJBPcGIogXCfWKkYtZy6BLuAtuyvmKD8l4yBnGxYUYA06Bs381/Nh6vPf5NZszQHEArybs52reqSwnoya05WVlQOcHqG0pk6vYbZvwRXQ1NmQ5Hbx6/kdBKkQ+hn+JPMwmDpWRTNNK1KSWvFgz2J3ZItjeGENYKlbQFaaUFRJWEKUOXUvoiadHDcT+grI/wX1MO2n5cve+NhB1HjQjM37zAXNg81Y0EfT6NbX21ng8+bE7rL1Z/2DBAcMmRQfG0YhoibiKQgtES6rLksvoytjKGIl3x72GQYTKwnnAs75Vu4T5rLbYdKkyxrCDboksw2r+qQnn6Ca15Zek3WYaaDNpAWu7Lc9wT/REd4i53H1VgCkBxIT9RzsJYoxKTvCRGVOXlN5WfdhZWW5Ze5kaWGJXkBablLESyJFNz0NNbgqjSGeGYIPgAcB/+3yKuoY48rbwNc90xXPYM4bzljPwNFC1GfZGd5h4TLmtuvc8tL6XAFrCH4PXBYbHpokjykbLeEuCTDbL/QteioAJuEh+RuaFHsN4wRZ/Vn2T+yy4hrZFc9PyLrAqreFsK+puqP5nVuZoJculVeYHaLmp0ywlbxZxfjT6uOQ7Ab5mgXTDNoWZyDYKJwzXDxKRR9OOFMAWfxeYGI4YyRgX1zcWARTpUwyRQE9rDYsL9MlaB09FfkM9QRi/NvywOn74rLd2tgy1WzSytB90QPUXta/2JDdEeMb59XrVPE0+LYAGAckDY0UThqbIA0n2CoSLjsvpi6xLtsrTydBI74dIBjyEMcHSwCd+JPwC+lN39PVQs0yxLu9PrferjWpdqRInmiaxZhLl1aauqNsrKe02sAHzBDYhOjz9Nz+cgo5EtoZgiMsK0E0pz0qRdJM01GJVhBd+1+0X9lcUVdWUvlL+kThPtY1NS3UJoYeTxb3Dr4HxgH0+VLwV+jE4ivfxNqy1tfV4dTT1GHYZ9yj4BLlZOmS7+b06vhK/8sGwQ0IEw8Xlh1wJN0o8iyXL8cw1TCELVYq+Ce4IW0aPRS+DOME4vuE8pPsAub52ybT3csXxLu8ILZ2sEWryaWaoNicuJt7ml+Z9qCerV610769zELZ3edv9hUBfg3iFyQd3iS4LZM0vjvrQpVKs08IUZ1VM1t2W0hYpVIvTYpI4T8ZN1AxnClBIc4ZwBFDC4EFLP/Q+Qbz8+kv46vg6N4K293XQ9h32u/cI+AH5YLrTvHD9XL6DQAOBr0LQRL3GL8cMSA5JtErey+KMG0vNy/oLHQmOCESHc4WJw/cBhwAFvpV8Xjp+OMq3J3Sqsndwau727Tmrcip+aZ/ox6gZJ9hoZehvKMsrp25aMJ9zfzYAOa59XQBEgwHGYUhhSdGLyo2SD2cQ/hHVk3jT3RPA1LvUyxSOk4YR6hAwDuPM1YrISU5HkIXeg5dBasAKPwS9j3x2uqx5A3iKeCs39/fMt7w3rvixuX/6FntT/M7+pT+lwHzBiUOKxVmGlweSiKsJRopciwpLvUtySsGKcElRCCPGnkVxg88CRMAG/fB8Mjo3+C82QzQochTwtG5bLUwsrKsBapKpzKkTqMIogajlKWkqW60mr/hysTamOZ68/YFNhFzGhQmfiudMTs4rjm8PndE2kZAS8NMu0z9TkpN40rAR2U+szbAMEAnhR8AGLQP/gpJBBL8sfiA9SbxE+7C6WbmUuWO4/vi2+Md5OvlvOke7qXy5/bo/HAEnAmpDRQTehiyHccheSMQJuYpJSs/K+orAypJJikjbx5PGGcSIAvkA8n91vUu7RzmPN/510bQ+MgQw728Vrbksb+uI6xlqVSnVqd6p7WnqqnTrdW2xsKyzazazugd9XEDIxK4HIElAC2dMrI3CTv4POc/80MkRw1HkEUaRj1G0kPdPzQ53zA2KoUjaBusFK4O6AfHAlD+Vvh/9IfzpvEO72jsvuno6dXr6es67K3ufPHZ9Mv4cvyJAbAHcQywENYUSRiRHC0hGCRkJUMmNSisKZMovCa0I0gfpxt6FWINIAiMAcL5hPTO7GHkAN8o2A7S3cyxxDG/UrsVtRey7K90rHWsequIqaurXK2yr663UsK+zQ3alec59sEDIhHdHMAkryw5MsszjTfDOYc4EDtfPr0+8j5ePh4+Dz5pOl00xy06J6ogShg3Ea8MhwZyARP/dPuw+LX3JPYA9m/1O/K58ZvzAfOc8o304vYX+jr9VP+XAzIJhAyiDzsUzRcOGtwcBiDuIUgjXCVGJsQloCTxIEId5xo1FPILRQcwARf66/QZ7gjoqON/3E3W3dECyyPFfMB9uuy10LLgsJiwc69jrgWvXLE2tbm4bsCnzS7Y+uKr8FX7ogg1FxoePyXvLKgulTLjNhU1/DTVN1w55zk9OKY2cjckN14zWyzOJQ4i2hzwFbYQagvrBR4D/QBr/T77dvpj+ZD5yfeg88v03/cD9xH3r/ca+Qv+fAD4AfoGVQpdDZ0RABQiF+kZJRxhIEEhOCDsIVAiIiJxIEwaiRYtFFQNxAa8ARX8ZvfN8fDqQeWU39fZytTAzgrIG8LLvAG5JbY3skGwP7GBsGavhLACsnm25b4eyMPSTd676Tn2QgMrEAQauyCpKOEtlS88M340uDTaOIo5UDgYOlE5nDgpOZ40vS4MKv8jih69GCwSOw3HCJEEHgHm/o3+Xf1N++H5rvf79h74nfdm99f3ivd2+cX8RP97AjkG4QkWDcYPoxONF+QaKx7OHmMfFSJhIjQicSIYHwwcHxk6E+oOBwpGA3n/NvoB87PtOOcB4sDd6tVVzy3KasQbwBq6v7UQtdexW7CnsCiuEq/ZsBeyU7pnxEXOYttd56XzWwHNDmwclCSXKckv0jHDM5w1NTMPNrA5eTYnNs42jzUeN/A0Ui/vKt0jBR0CGJURpQsYBrMBev+c/GT7y/w0/YL8wfps+aj6nvvt+ov6sPqw+rv7LP/5AjwGAgo+DQwR/hT5FqEaHh9ZIJggRSB3IAUiOCBrHbsb0halER0NqgbLARX9+PZ98ubs6+X94PvccdjE0TzKfsW0wLu6yrays6exkrFhsIyvnLFFs8C11r1FyLjRbNxR5zXyh/8rDJgWTiDFJn0qHC64MIUywzPyNG82JzVxMp0xsTDwL3MuDinpIxsgsxl5FLgRBw27CL4FPAFY/6MAsf/K/hj/Iv1d/Nf9IP4d/1IA1/8CABYBQwN8BhcJKAwyDvIONxJIFRQXNRoyGyYbqRy2Gx8abRr/GPIVdhLFDSsJIQWYAEX8/fiS9LfuO+qy5TLgSNsy1UvPN8otwwm+qLuzuOa2/7S6swG1ULSZtJO4NL2oxuzRbNrB5drw+fsTDMcXGB4GJeAo9SujLmwtai5MMXgxmjBlLlAtuS6RLoAtsirOJEAgQhzSFmMS9Q13CdoG4wOSAIkAaQKWArUBfAAc/6T/6QAZAS4BiAASAH0BiAM4Bs4IAQt0DnQQQhEFFEIWKRhTGggamBnUGWEZXhnAF64U/BFiDukKKAbB/5z86Pl+9GHvh+m145/fL9q907fNqcc+wpy9c7qbt4K0g7QWtU6zP7MJtSO4Y7+byO/RIt2h6BXzyv+hDqcZiCDVJoYq5yu5LWUuSi+wMbUxny/oLhMvGy4ZLZosbSjIIWUdBhhKElIPrgqtBvMFvAIWAAwCpQOgA08DuQJJAjUCRgPgA9EDpwSaA18DYgeKCYsKGw4xELkRNBRQFTsX0RnFGg8bGhtXG7kauRiZFxgVtBCcDfAI9ALm/vr5s/X08tnsiOai4u3d8NkO1QjO9MktxhPBy74bvMa5BLqwt1a217dpt3u6dsHsyHvUFd+N6Kf23wKhDmAbCSGUJUQpFSfBKEIqHSf9KIkpqyZXJ+YlyyXxKFEmTCLqHtUZ0xYKEkANbwz5CCYGXAbZBFoG9Ah7CCAKrQpdCOMIHgp+CeoH/gVnBZ8FgQYUCLUJ4QxRDz8QYRP7FXgWxRd+GHAYGBiFFoUVfhQTEoEPvwxXCjwHHwJa/qP7T/fW8gnu8ujZ5OLfctpK1v7RcM2eyVTG08Mawn3Ap778vK67rbr/uty8h8BlyATTytzB5pHxZP1cC7YWLxzLH5ciUSQMJrQlniSiJVsmoCUWJDUjJiV1JholriKoHaYZpxjTFOMQ0A6tCtgJUwuWCAoItQp4C3oM+gvkCfYKRQxYC6wJ9gfGB70H+wc0CrkK4AoyDmMQRxH5EjATnBTiFxoXkhRiFZgVSRNzEfQOuQuZCSMGsQG3/gv7xfa684Pwsuun5ZXh6t4M2dfSCc6FyKDF18Lqvey8YLyjuTi6Ibsju/m9g8PvzP7Wlt6V5wTyi/5nC1MSNxiWHmUgIiPrJdck6SUyJxImwiUEJOQiCiUuJuIk6yA3HaIcKBpHFtITZxDXDmwOQAsBCg0L+QpvC2sL/wlwCekJNQoOCXkHlQaFBcIFmAZuBkgI/QoYDP4NWBDhEjYWwBfvFzgYNBhbGDYX+hROE1kQ1gwDCk8G4QJz/7z6fPYf8mDtZen15DjgNdvD1cDRj81OyNfEfsIJwJO92rqwuQC64Lm6uaq7jcItzMXUkN6z6Nby+gDRDXAV8Ru9H5YiSCdAJwokDCQCJfkkFSN+IC4hbSPlJBkk1x8cHZYb+Bf0FcoSHg04DK4MGwr/CNIIdwlADJkMlArDCogM1AxiC0UKPAnzB4sIUwnlCHUJRQq9CyYPahFcElkURRavFuoVshUBFokUKBKTD+0LNQkkByEEswFk/hT5h/Wj8xDwLOs65jPhANxK1lzQHsv5xq7DJcCEvI26qLlrue26FLtBunG/9Mi10SfbquNH7Ob5nQYKDskUQxrxHRIivyNQIoIhzCJoJJ4jlyGcIBEhpCPtIxEfqxt2GnYX+xRdErwOQA4mD84NkgzODHYNvQ7uD6MOjgx2DYYOQQ0dDJAKbwm/CvQKAwqTChgLzAsFDfUNnA/eEHAR8xE4EVkRcBKbEUkQRA4bC1YJSwf+A78Ayvws+dz1MfJz77jrROej417eWdmT1UrQBcy0yFvELsE5vsC7Mrsvuny5bLlGu07DHc1p1tHhRuva9RUEsQ3XFJAbFx1MH9MhMh/lHW8e2R3KHkUeOB3YH5ci+SM5I70foB2KG1kYexbIEkIPfA9cDvoM5w2yDX8P5BKqEWYQARIJEu0RSxG8DaMLZwsBCr4JRgq7CWMKZgw1DrsPIxHsEscTFRNdEhARHBCKD+ULjQi2B7cE8gFsAFX8cvnO90T0KPIW7/Toc+Rd4CDb2dXmz1zLq8d2w/fAhr7bvD69wbsfu5S8aL3Gw3fOpdam39/oAPIV/9EJCBCGFo4aqRwdH3sfxx/KIKwgyCCSIFsg4iGhIwckeCE2HYcbzxp6GLcV0RJrEaYRhBBCDy4Q4BG6Eq0S3hGaEBkR8BIIEtMPVA59DFcNvw54DEoMRg67DegNRA4cDsUQHhJnEGQPhA4nDgsOIgymCZsGaARFBAQCeP7e+w/4hfXh83vv8+si6bXjC99J20vW2dFczVbIjcSNwQC/fb2XvJK7QLreun6/E8eH0J/a0ONx7Z74mwMYDVUUrBg2G/YcjR1YHakdfx4xHowczhsIHYUfxCHZIF8dmBsaG+EZoRgTFtsS9hGFEYsQVxENE5MU0RXAFTsV0xVsF8YXPxWmEiMRnQ+gDyEPCA2gDXEOCA3ADUAP/g/6EekRgA+iDl0ORA2iCysJ2wUUA58C1gFG/wf+r/uQ9631sPK/7lrtHunm4pnfydu2167UUdB4zLDJCsf7xJzCC8Hrvqq7x7yMwNTFvNCO2t7hTe1D+MoC5Q5fFDgW+hm7GjUaMRqSGB0YBxgXFzcX/BfMGsEdbx2wHJYaCBi+GZoZXRUgE6MR6RE+Fc8VdRXsF/QZDhuKG7caxBnaGKoX1RSbELUOpA62DuUO6AxvCwsOTxBWEOwPzw4rDsMNwgsCCZUGAAWEAwIBs/69/L37v/zA+5X3XvRX8t7wa+9o63rmLuPh3+vb9dc61PbQ9M1Ky2bIaMULxPTCdsBuvoG+I8MkzRjXLt7C5cPvk/vkBj8OfhGuEx0WhxdNFzsWIxVaFZAWAhalFCsW1hlTHMsbmxh4FtQXEBndFpsTKhL7EmEVwxYnFtEWhRl3G70bmxpmGTUa7xodGG0T4hBJERkS7hAmDrMMbw6cEEMQ1g7+DZ4NhA0jDPIIigbXBbsELgLj/gT8bftu/B/7pfco9Vvz+/G18FLtPemf5ezgzdyg2fjV09KLz0/MUspByNnGN8UYwfy9d703wDTIGtCL1q/fK+kK9L8A+gheDqASsxOlFTIXyRWIFUkVnhQvFdkU4BZvG2MdPh5GHRsbYxwiHPUYExexE9QR5BMCFGMUmxaNF+oZCByRG2wcmR0THe0aoRbPE0ITDxK8EKUOCw3LDm4QpxA9EVkQNg91D/MNuwpJCPgFRAOHAMX8I/mm+Ez5zvfg9SH0TPLp8c7wPe0v6erk9ODj3WPaW9Yd0gbPhs3eyo7IxMcrxX3CosD+vh/DiMtr0g7aTOLL6uL2vwJ6Ci4PcRG8E4kWnRdjF1kWfBYCGC8X2BbfGbMcNR/eH80czxtjHekcMRvnF40ThBIsFFUVmhXtFaEX9Bl+GyIc+Rt3HKEccRmvFTsUDxMkEjoRog4TDT4OgQ9ZEMkQVQ/FDfUNNg1iCp4H8gTbATH/SvxV+RH4Wfef9RT00PLp8C3vzu1R60nnH+O5353ciNnk1UjRz83NyyXJhscfx2LEfsF2wa3DOspk05jaauIE7Kf1pAACCrIOTBHmEnEUzRXPFB8U6RQ6FfAV5RWTFjgbZh4JHnYdnxsgG9scUhvjF/4UahL6EqkUtxSFFTsXyhkBHMsbSxyfHescAhsgF10TLROsEpkQyQ5iDBoMgw7fD/0PEg8vDuIOYw7GC3wIEQX3AoAATvx9+Rr40/YN9lr0NPJx8eXwR+9j7G/ohuSc4fbev9oT1vvSS9CDzd7KfMgFyKHHI8Uqw83D5sib0RDZ19+k51Pw/PscBqoKHg6tEKESpRX0FI4SHxNME4sTVxQ9FAEX/hqgHEkdDhxTGxkd+xw2G2MYYBTkE/YUKBQ6FGEUQxWLGI0aexuYHIMcOByjGpwXZRUsE8YRkBAwDWgL9wuWDHwOzQ4zDegNjA7ADXoMmAhXBLYBz/4z/Dn5rfXQ82/yS/H98Hvv1e2O7MDpL+fL5IrglNyD2dzVstKrz/rL78m9yezIc8cYxsPFVMmq0A/Yf9745Mrs0vY4AC4GVQleC2UOxRH1EsUSExLZEQEU3BUjFtoXdRoTHTgfSx6BHOQcSR0/HJgZKxa2FFIVMxbZFS4UABTyFUIYDBqLGR4Ykxh8GMoW8RRjEpsQ4g/9DVMMzgudC3wMEA1dDOELrwv4C8cLoQhgBH4BXv/q/YH7BvfJ84Dyg/Fl8UzwRe236yTraekZ5+3iGN6v2x/ZWNUe0kHOVcudynHJi8jax77Gtcl00FfXeN425EPqGPQ4/R8DzQZvB2EJLA6SEHsQOw9RDokRfRVEFuoWzRgiHKcfix+oHUodhB2PHa0btxdoFZkVohbVFrgUzRIAFOYW9xjaGIoXNBeyF5wXLBaTE/cQ8Q6cDZUMDQvTCeEJkQruCmwK7wlgCl4Kjgg2BeMB0f/g/Tn7Dviu9MryHPLO8EXvPe2N65nrUuo151jk++B03jXc2ddu1L/RLs7fzBHMosrJylbKDMy70hnZCd8T5aHpUfEu+tX+pgF2AmwDoAjyC24LcwsQDNAPBxXoFYwWlRl/HNIfgyAzHtsdDh5RHVAcLBmXFtkWFRfOFtkVihRqFR4XuBfIFxQXThbwFTUVNBRsEgIQWg6vDW0NYwzkCpYK8QpQCyQL1gkICUYIbAbFBGAChv+6/TT7mfi29lr0J/PU8cnuwew968zpjOgO5cDhAuBh3Vjb7dhF1SDTvdDDzvrO1s3QzOHN489M1Zjb+N+05bHrCvKL+Sf9Tv6gAAoDCwfDCYAIRwn4DNUQqxTLFYwWthp1HjUgqiBXHyQf6x+uHoQcNBp6GKAYOhiTFvQVaBalF7UYLRi7FxgYtBfTFp0VrhPMEekPAw79DD4MHQt0Cm8KjQrvCjILtQrtCcsIHQeMBVkDVQDa/SH7Fvjf9aTzCPLM8Pbt0uvy6lDpIugi5tniC+Hc3incjdpa1xHUotJB0R/RA9Er0ELSMtbF2hngtOPr5/Ht5fJU95D5uvm//PAA2gPhBREGLwi4DfMRdxRPFiMYzxvfHmIfLR/pHjQfqh9kHjUcBBvwGhYbYxr6GLEYLhojG3YaXxksGJoXYBe1FfMTmBKLEGAPeg4gDeAMbgz9C1QMqwt2C6YLUwoxCXYH6ASWA18BvP5W/bf6Ifjg9jf1EfSc8rLvl+087GfqNuiP5dzieuCA3lXchdk6127VFtSg03rSy9G709rWttpg3szgbuQC6c3sJfC78ZbyZ/UQ+bj8zP+PAXIEawk3DtERkhQIF8UZWhx6HYkdXB6EHxwgSCAnHzIeNh/oH1EfJh7ZHG0dsh66HXUbNRnnF7kXVxbCE64RPBDUD4MP6g24DAcNww07Do8NxQsZC34Lago7CP4FigNLAl8B5v70/I37ivl7+Ab3gfT48hDxbe497IHpNue85STjK+C93ZrbFtqQ2J3WItWR1G3UC9U2167ZIdws3znhguMe5ybp5uo57V3ur/Fu9ub4+ftu/3MCvwf5CwMOORHgE/wVkBhaGRMa8xsOHR8e0x6ZHnQfoiDKIMggQSC7HzAgnh+rHS8cnBosGWsYcBYhFAkTsxHeEKIQWg/SDj8PHg8kD2MO/AyEDJcLCwpQCMgF5QN+AqEAQP+7/RD8+vpq+XP3dPVD8x7xhO7V63/pM+dJ5aPiZd+Z3TjctNp02UjXz9Vh1jvXOth82ZzaftwF383ge+FW4uTjtuVa6P3qYu1C8SP1Tvgg/D//egJxBuMIKAuGDSgP9xFIFIkVphcCGZEa3RxvHTQeXB+LH5sgDSFrIH4gyx/rHjkebhxMG2gaAhlNGOEWmRXHFVcV7xS7FHkT4BKVEjoR2A9FDlYMuQokCVQHjwU+BNEC7QBN/1r9Dvsh+Zb22/PK8XbvJ+3z6mzoFOar40DhDt/b3CrbVdlD1xjWP9Ud1fzVbdY1123YHtk+2i7bydth3RXfX+HD5MXnLOvC7n3xCfXF+KP76f7JAT0EhgdeCqgMjA9tEiEVwxe8GXcbeR1CH1Qg6iCLIU0i1CLMIhMiHiGlIEsgVR9BHnYdthxRHNUbtRolGisalhnVGPkXrhbGFbMUlRKHEP4OZA3vC2oKfgjdBnkFZQPmAHH+1vt0+RT3FvQu8afuEeyT6cfmn+MR4b/ePtwC2nXX9tSr063SCtKF0pTSmdK30xvUZ9S31S/WYtdX2ojcd9+D41Dm3enq7aDwX/RT+DD79f5XAjYFIwlzDIYP5xIxFcMXkxpuHIMeBCDNIHIiriMpJLMkXyTSI+AjgCOzIv4hNiGeIHYgCyAIH18eGx6nHUEdVhzUGsIZfRjQFlMVihPwEagQ/g6SDe8LmAmDByEFjwKeAAT+A/uP+KL1pPII8Jzs8+jr5cviud8z3W/ahNeH1dvTQdLX0ZbR1NDq0BPR/9De0WnSmdJY1MLWQNlu3ErfD+LF5Vzph+wh8L3zQvcq+8/+OQInBuYJLw10EDsTAhYoGYcbXR0dH4EgVSL6I2ckoiTIJL4kHSUPJYQkSyT+I6kjZCPaIkgivSFaIQYhWCCsH68eGh2uGwQaShhKF+YVCxR+EqEQyA4EDYUK8gehBRsDcgB3/Uz6Q/c79FvxX+4W6+bno+RS4TTe+9rY12vVyNOZ0sTRP9GL0BzQV9A40EvQCNFv0fPSttXR15fa0d094NTjjudc6k/u8/Hf9PX4rPxvAAoFWAiGC1IPWxLMFegYpRq8HJQe+x8QIloj2SOsJA8ldSUiJuQlPiX6JK4kjyTFJHckuyNnI/giViL7IdEgNh9EHsocLxswGn0Y8Ra/FYkTuxE4EKUNUQvcCOMFzANOAQv+UPsz+Av1cPIW75nraujL5Jrhk94A2wPYjdWZ07DStNGu0DPQac/gztLOjc4az2DQzNFR1AXXSNkF3JLeS+Hp5EDou+ua7//y0Pbm+pL+gQIBBjYJ/gxNEFQTRBZfGLEaBh2mHqEgIyLaIu0jfiTWJIElGCWOJLAkZCRrJIUkxyOOI4Yj0yJwIrAhMCAuHw4elByQGzUaihhgF+IVBxRuEmIQ/Q3QC14J4AaWBMYBuv71+wX58/Xb8mzv/eu+6FTlBeLl3ozbYdjU1djTl9Ks0ZzQ8M+Pz+7OeM5HzoLOy8+Q0VzTttVA2LPaZt3436LiG+bt6aftW/Hf9I74s/yiAAAEMgeGCgYOVxEjFJ0W7xgqGzMdvx41IJwhXSIAI6kj4CM/JG0k+iP1Ixgk7SMnJBUkdSMcI5ci1SEWIdsffR5nHVocRhvsGWYYzRbbFPAS/BCpDnIMEgpfB/gEXQJd/4j8ivlc9ljzLvDU7HnpCOaX4l7fXdxP2ZvW09R202HSntGF0KDPQc+izobONs/tz2PRe9OP1S/YpNqc3EffYuK65X3pzuwJ8NDzrfex+4j/xgL5BUYJtAwZEOMSZxXDF+IZQxxNHsofLyHWIW0ipSMwJFQkbCTmIywkFyUOJQQl6yQWJMIjWiMxIlMhPiDUHgweMx3uG4gaohimFvQUMRNYET8P1wxfCscHMgWLAoj/j/y++b32q/N18OHsR+nu5aXiid/X3B7af9fh1bHUZNOL0nzRYNBV0B3QtM990FzRjtIK1SDXJdnt2/TdMuCY45/m1umR7bTwMfRC+Nb7V//BAsQFGQmvDN8PjxLjFCQXlxkOHAseZR+DIIMhZCJDI8Uj2CPtIy8krSQ6JWklIyWfJB4kpCMVI3siniFqIEAfIh76HKEbvhnMFzUWlRTVEr0QQw4NDOwJcAfhBBwCJv9M/Ev5KfYQ89XvlOxL6f7l9uIO4DjdntpC2KTWwNXP1NbT3tLp0abRodFw0RHSUNO71OTWAdnF2iPdi9/s4SPlY+ha66fu6PFN9Tz59/xKAJkDuAa+CfEM7A9UEqgUFBdSGZ8bnR29Hr0f1iCnIZAiPiNbI3ojviMsJJwkkyRCJNkjfSNSI6oiniGnIGcfWx59HQAclBoZGRMXiRXrE5oRoA+ADfkK1ghTBnID9QAl/hf7PPgW9QDyEO/F67no7uXn4hzgdN3b2vzYj9dF1mHVdNSS0xDTdtIj0nXSF9OA1GHW+Nfd2e/b2d1B4NbilOXm6AHsF++X8uH1ZvkL/Q0AVgPBBpoJnQxrD68RORSdFsMYDhu7HOsdFx/uH9kgyyEwIoci+CJCI6cjxSN5I0QjAiO7InAikiGRIMIfiR5bHV0c5hqPGUkYYBaqFB0T+hDnDsEMQwokCNUFCAN7AMD9uvr29wf1AfJK71rsGen55QTjR+Dl3cfb1dk72BTXHNYu1U3Ue9P20tXSEdPR0/rUatYp2PvZx9vF3ezfR+Id5UToXetl7nHxo/Qx+Nj7Wf+0Aq0FdwhJC8sNVhD/EjcVcxegGTQbtxzuHboeuR9sIOkglCHQITMi5iILIzAjMiOYIlMiASI2IYQgbh80HlkdQhw+G0gashgEFzwVIhNDEVEPIg37Cp8ITgYABFMBo/7L+7f4CfZM8yHwGu3+6djmOOSZ4fHe5dwP24DZgthG1wnWQNU81KbT7dMo1OPUNtZR1/nYAduY3H/el+Di4g3mKukP7DjvC/Id9ab4vvsJ/4ECcAV4CEkLpQ1TELwS0RQzFxwZvxp/HIEdaB61H3EgCyG1IeAhTyLtIgMjISMXI7IijiIbIkshsyCvH20ecx1DHCcbJRqXGOAWGxUtE2URVg8PDf0Kqgg4Bs0DAQE+/qn73/gE9hXz9u/c7Mrp1uYh5KLhYd973f/br9p62V7YGtcv1t3VkdWm1SvWsNbX12HZy9qZ3GXeS+DY4lLl8ufm6nDtWfC889r2PPp6/U4AfgN6Bi8J8wsuDnkQDxMxFVsXXBmuGhEcYB1MHlMfECBrINggLyGcITQicyKEIpUiRiLQIVAhbSCCH70eyR3jHP0bvxpaGbAXzBUdFFQSexCzDoUMUAo/CM0FSgO7AO/9Q/t4+IH1nvKE74zs1+n35kfkyuFr36PdO9wC2wPa9dgG2EfXnNZi1nzW4tbs10TZstpB3LvdSN8h4VLj7OWq6Gvrae6F8ZX0nfd6+k39bACrA7YGhgn4CzAOexC0EukUDxfHGFgauRumHLIdlx7zHoAfFiCbIF8hqyGxId0hsCGFIUUhgSDoH0EfOR5SHTMc7RrOGVwYxBYpFWgTwRHXD64NuAuaCVYHEwWPAgsAjf3k+jL4YPV88qDvvOz16UvnxORj4iLgXN713MDb19qv2Y7YCtiA1yjXVdeP12DYtNnj2lbcwN0Z3yfhbuPX5avoQuvp7eXww/PL9tT5n/yd/58CkgV2CMgK7Aw0DzwRXRN6FQsXhxj1GR8bWxw8HZ0dJB6dHhMf2h82ID4gdyBrIF8geCDrHyUfcx5vHY0cqRtiGjIZ1xdeFjUVtBPoETMQLg4oDCsKxwd1BTAD0QC3/l78o/nr9t/z2PA17mvrwuhX5p7jGOEX31fdJtxA2zraa9mc2MvXfdda11XX5te82OjZkNse3aXeYeAg4jnkseYw6d3rlO5T8WH0bfdr+o39jABxA18GFQl0C4INaQ9sEYsTmBVfF8kY8Bn0GvEb2ByLHSAejh71HoEf8B83IHggfSBoIF0gCiBXH1UeMB0/HFUbQxolGeMXkxZTFdoTLRJpEHsOkgysCpUIaQYUBIsBEP+J/Pj5e/ep9JzxzO4A7Dvpp+YH5KThtd8K3tjc7dvt2hTaS9mK2CPY8tf512nYK9lS2tHbaN393pfgd+Kf5NLmQenb64XufPGC9I33s/qa/YAAfQMoBsIINAs/DUQPLhH+EvIUqxYdGHAZihqYG30cJR29HR8eeh4DH3Ifxx/xH/AfCyACILYfNR9IHikdIhwcGyMaDxnMF40WURUFFIYSzBDzDvMM/gocCQUHxQReAuX/mf01+6v4GPY28zXwWu2N6ufnVuXa4sDgG9/o3f/cI9xG21XanNk72evY3tgZ2Z7Zx9ok3IndNd+w4FLifeSu5hbppusc7gfxJvQl90n6LP3e/7cCcAUZCI4KlgyaDpQQcxJPFN4VNhdvGHoZnxqpG1Qc3BxMHb8dVR7MHhgfQx9CHz8fRR8QH3IekB2XHKEbzBrrGdwYvBdzFiEV6BN2Es8QHA9MDX4LngmMB2gFGQOuAE/+6Pt++ez2NfSN8cjuFeyd6RTnuuSZ4qDgS99G3kXdn9zx20jbENvd2tXaJNtw2yncUt1n3rHfLuHC4sjkB+dN6bzrGe6K8FLzMPYP+ez7r/50AS8ExAZECZILpw2tD5sRXBPqFC8WUxdsGFYZKhrgGkkblhvlGygcdByQHGscQBz7G44bGBtrGoAZihiRF5wWmhVaFOcSdhEFEJMOOA3ZC1oK3QhdB8gFKgRgAnEAi/6I/Gv6ZfhM9hf07fHI77rt1uv06RfoVuaY5PfinuFZ4BnfG95l3Q3dGN0z3Vvdo93j3U/e8d6I30LgT+HA4qjktuar6Jnqh+yh7gvxnPMj9oX45vp//UUAHgPfBWUIvQr2DCEPLhHfEiYUOBVHFmYXdxhrGS8azxqDGzUcuRzoHJYcJhzwG8QbuBufGy4bsBoZGkcZWxgHF2AV6hOXEmQRWxArD9kNgQwUC6sJQwinBuAEFwM5AUH/Wf1o+2v5hfeQ9aPzzvHF77ftw+vB6fjnY+bm5KPjYuJD4X/g6d+q36zftd/X39Hfzd8a4ILgTOGB4s/jcOUc57LojOpZ7ErusPAf86/1Rvir+kv9+/+gAm8F/gdrCuEMFg83EfsSOxSEFbwW+BdsGZoapBugHEId4h1XHl0ebx6IHpYeyB7BHnIeBx5aHZEczhvcGr4ZkhhGF9sVZRThEmURGRDaDqENdAwFC1gJjQeNBYUDjwGl/+/9R/yB+qz4p/Z79EvyHPAQ7iPsWurf6IznReb45JLjWOJ34fTg2ODY4LrgpOCm4N3gSuHK4XPiZOOo5Dvm6Od76ezqbexE7m7wyvIx9YT33flN/Mn+VgHUAzwGsQgvC5YNvA+AEe8SKRRdFZ4W2BcFGQEa4BrQG6EcSB29HcsdvB29HbYd1h3SHXEdDh2KHOgbQhszGtEYWBe4FUwUBxOjEVAQAw/BDaAMRguiCbwHkwWDA6MB3f84/oL8yfoi+VP3avVi8zTxL+9Z7bHrQerM6GDnIObu5N/j7eIV4o/hTOE/4VjhV+FX4X7h0eFy4jfjCuQa5U3moecZ6X3q+Ou97b3vDPJg9HH2eviZ+ub8dv/0AUMEeQaVCL4K5gzCDlUQsBHyEkQUfhWMFnQXPhgeGRIa4hpxG5gbhRuGG5cbuBvIG4YbFRuEGs8ZGRkzGBgXARbfFL8TnRJCEdIPaQ4QDfML3gqcCTgInQbsBD4DbwGZ/7793vss+oj40/YN9RzzMvF97+Ptdewa67bpdOhJ5y3mJ+Ue5D7jveKM4qXizuLY4uPi++JC48DjQuTX5KDlp+YH6IPp4eo57JXtMe8q8TLzLPUR9+v4BPtH/Xf/jAF2A2gFmQfQCdgLew2sDscP+RAyEmYTYBQzFR0WERcDGL0YDxk2GWIZoRn2GQ8a1xl7GQYZnRglGGAXZRZHFSEUHBMJEtgQmw9NDh8NEQzzCskJfggPB6EFFARxAtEAKP+f/TL8uPo5+Z335fU29H3y1fBl7x3uDO0U7AbrAOr+6BLoXee35hzmluUb5eDk5+QF5UjlmuUH5qzmVOf155voQekl6lXrsuw87r3vMvHM8nr0PvYF+KP5SfsO/en+6QDeArwEoAZtCCsKzgsnDVkOcw93EI0RjxJtEzsU6BSZFVsW+BZuF6sXqRehF4sXYhc5F/EWmxZDFsEVHxVIFC4TBhLaELkPtw6pDZkMlguMCosJewhBB/MFigQVA7MBSQDf/nX9//uk+mL5Ifjc9mv14PNm8gLxzu/G7tXtEe1s7NjrVuu86g/qZ+nN6HXoYeh26L7oGemD6QrqiOoH64jr+euQ7FvtUO5/77Lw4fEv84H07vVv99D4NPqa+/b8ef7//4ABIQOyBEIG2gc+CYAKkgtfDDYNFg7uDtQPlBBAEQASpRI9E7oT7BMHFBMUDBQcFBAU4BO/E5QTYhMcE4YSxhHzEAQQLg9lDpMNygzuCw8LSApvCXoIcAdIBiYFDQTtAtcBvACV/3v+cP1q/Fj7Jfrm+Ln3o/af9a30y/P18ivybvHD8DTwqe8e76juQO7s7ajtYe057UnthO347Xvu4e5D75fv7u9p8OHwbvEy8g7zGPQ79T/2SfdM+EX5Z/qE+478rf26/tT/CwExAm0DsgTGBdgG0weoCH8JIwqtClwLAgyqDFcN3Q1rDvAOQg+RD8YP0w/qD/UPAhAiEBkQ/A/fD5sPTQ/uDmkO4Q0+DX4M2gtDC7EKJgqHCe4IXwiyB/EGHQYvBUEEVwNwApwByADs/xX/Ov5S/Wb8cft/+pz5v/j09033tvYi9o318PRl9PnzkvMx89HyafIY8trxp/Gf8bTx3/El8l/ylvLh8iDzbPPM8zP0xPRq9Qr2wfZ59zD4AvnO+Z36efs9/Aj94f2r/oX/YAA2ASQCBgPZA7oEhgVABusGbQfyB4AI/AiCCQIKdArsCkULhgvPCwkMPAxfDFkMUAxNDEQMQww1DBYM+gvIC4QLNAvDCj8KtAkjCaYIMQi1B0EHxwY/BqYF9gRJBLADGAN3AskBDwFWAJn/2f4v/qD9Iv2c/PD7IvtQ+o/57/hu+Aj4tvdn9wT3lPYt9tz1nfVl9Tr1LPUu9Sr1IPUj9UP1dvWm9d31J/Z59sb2C/dU97L3HfiT+CD5tPk7+rf6PPvj+5v8Pf3O/WH++f6U/yAAqgBGAeEBcAL9AoQDCwSKBPQEYAXQBTcGmwbvBjUHege2B/YHQQh6CJsIngh/CGMIUQg/CDUIKggkCC8IJwgDCNUHmQdTB/0GkwY2BuMFfQUQBawEVgQGBJUDEgOrAkoC1AFDAakAMwDd/37/Hf+8/lX+8/2P/Sn9w/xD/LT7OfvT+n/6Nfrl+aH5avk2+Rb5+fjL+J/4gPh3+IX4hvh8+ID4iPia+LX4xvjX+OL46/gT+VT5lPnW+Rv6bPrH+g/7SvuV++/7WPzG/Cf9jP31/Vn+wf4l/3v/1f8tAIYA5QA8AY4B4AEoAnMCyQIcA24DtgPuAyUEVQR6BKcE2wQOBTwFVgViBW8FewWLBZcFkAWDBXkFbQVfBUAFFwX+BPAE0wShBGMELwQJBNYDlANOAwUDwwKJAk0CDwLDAWEB/gCrAGAAFAC+/2z/L//4/rj+bf4c/tf9of1i/Rj9z/yI/Eb8BvzJ+5z7e/td+0n7O/sw+yL7BPvi+tv66Pr6+gz7HPs5+1z7bvty+3L7e/uc+8P75fsR/Er8h/zG/Pv8NP2B/c/9Ff5Y/pn+4P4h/1X/nP/8/1sAqgDdAAIBLQFNAWUBjQHCAQMCSQKGAsAC9QIcA0sDgQOxA9sD8QP9AxIEIAQkBDIEPAQ9BDoEKAQNBOMDqQOGA3wDdwN3A20DXwNhA1kDPAMZA+0CuwKDAjoC7QGcAUUBAgHRAJ0AcgBCAAYA1v+l/3j/VP8u/xH/AP/j/r7+jv5R/iD+5v2P/Tr9+PzO/Lz8q/ye/KH8pPyx/Mv82vzg/N782fzw/BH9Iv0x/Tv9RP1T/Vn9X/1u/Xf9i/24/e39I/5S/oP+zv4a/0z/e/+r/9r/BgAhADsAZACDAJkAsQDQAPoAFQEcATQBXgGHAbEB0wH0AR4CRQJkAoMCngK4AskCywLUAt0C0QK3ApACZAJLAj8CNgI2AkECWAJtAm4CagJiAkcCJAIAAtcBtQGUAW8BUQE3ARQB4AChAGoAPgAHAM//o/+F/3r/fP94/3H/Yf9A/xT/3v6l/m7+Mv79/dz9x/26/a79nf2T/ZP9kP2M/Yn9jv2k/cD93P37/Rn+Mf5A/kH+Pv47/jT+Mf43/kT+W/53/pP+uf7p/hb/OP9S/2//j/+r/8j/6v8HACYARwBiAHsAlQClALAAvwDVAOwAAQEaATYBSgFcAXcBlgGvAcQB0AHbAe0B/AECAgMCBgIKAgoCDwIgAikCIgIUAgQC9QHpAdwBzAHBAbcBqwGbAYwBhAF+AXkBdgFpAUoBJAH8ANEAqQCHAGsATwAuAA0A8f/X/7z/nv9//2j/U/88/yn/Gf8M/wH/9f7s/uT+0/62/pX+df5X/jf+Hv4T/hD+D/4N/gb+Av4J/hP+GP4f/jD+RP5T/ln+Xv5o/nz+l/6r/rr+y/7X/tn+3v7y/gj/Fv8l/z3/Xv+A/53/tf/U/wIAMQBSAGsAhACWAKIArwC7AMMAzwDjAPcABgESAR4BJwEzAUMBUAFgAXUBiQGXAaYBuAHFAc0B0wHUAccBsAGYAYUBeAFuAWYBYQFhAWEBXAFRAUQBNgEqASMBHwEWAQUB7wDYAL8AmgBsAD0AGAD5/93/w/+r/5T/fv9r/1v/Uf9N/0n/RP9D/0D/NP8g/wf/7P7R/rv+pv6M/nP+Zf5c/lX+Vv5g/mz+fP6S/qf+uf7K/tr+6P77/hT/Jv8t/zL/NP8z/zb/Pf8+/zv/Qv9X/3H/jv+t/8r/6P8HACQAOABLAF0AaQBxAH4AjACSAJQAmgCjAKoArACuALIAvADJANgA8AANASQBLQEvASoBIAEOAf0A8ADiANUAzADJAMcAwwC6ALIArQCpAKYAoQCXAIsAgAB3AG4AZABYAEcAMQAVAPL/y/+u/57/j/+A/3X/bf9m/2H/Yf9j/2P/Yf9b/0//Rv8+/zH/JP8f/xr/Ev8E//L+3f7O/s/+0/7T/tr+7v4E/xb/Jv8w/zf/P/9F/0b/Rv9L/1H/VP9a/2L/ZP9i/2f/cP96/4r/nf+s/73/0//r////CAAIAAsAFAAcAB0AHQAlAC4AMAAwADkARwBRAFIAUQBWAF0AYQBlAG0AegCDAIUAhQCBAHoAcABhAFMATQBKAEgASQBKAEgARQBEAEMAOwAsAB8AFQAOAAkAAgD6//L/6f/k/+L/3v/Y/87/xf/B/73/uP+3/7P/qf+k/6P/n/+Z/5f/lv+P/4b/fv92/2//av9l/2P/Zf9t/3X/ev+C/4n/iv+Q/5r/nf+i/6r/rf+t/7H/tP+z/6//rP+p/6b/qv+0/77/yP/V/+D/6v/0//7/AwAFAAcADwAWABkAGQAaACAAKAAtADIANgA2ADYANwA5AEAASABRAFoAYwBpAGkAZwBlAGIAXwBgAF8AXQBhAGUAYwBfAF0AWgBVAE0ASQBJAEkASgBMAEoASQBRAFIASQBAADQAJwAeABgAEAAHAAIAAwACAPz/+f/3//D/7P/p/+b/5v/o/+n/6f/o/+T/2//S/9D/yf++/7v/u/+8/8L/yv/R/9j/3P/h/+T/4//i/+D/3f/g/+H/4P/j/+P/4v/j/+D/4P/m/+3/9P/5/wAACwAUABsAJQAqACkAKAAmACUAJgAjAB8AIQAjACYALAAvAC4AMAA3AD8ARgBMAFEAVQBXAFsAXwBdAFYAUQBPAE0ASwBKAEYAQQA6ADMANgA9AD8APAA9AEEARgBJAEoARwBBADwAOQAzACoAIgAeABkAFwAYABUAEAATABgAGwAdAB4AIAAgACAAHwAWAAwABwAAAPr/9f/s/+X/4//k/+b/6P/q/+7/8P/z//f/+f/2//b/+P/5//r/+//6//f/8//t/+n/5//h/93/3v/f/+L/6f/s//H/+v/+////AgAFAAkACQAIAAkABgABAAIABQAHAAoADAAPABMAFgAXABUAFQAXABcAGgAgACEAIgAjACEAIAAhACAAHwAdABsAHAAcAB0AJAAoACkAKgApACkAKAAkACUAIgAeAB0AGwAaABsAGwAbAB4AGwAXABgAFgARAA8ADwAOAAoABQADAAEA/////////P/4//f/9//7/wAAAAD8//v/+//8//z/+v/1//H/7//t/+3/7v/t/+r/6f/p/+b/4//k/+n/7v/r/+j/6v/t/+3/7P/s//H/8v/y//b/9//y//L/9f/0//T/8f/t/+//8//1//T/8//3//j/+f/+////+v/7///////8//r/+//+//7//f/8//z///8AAAAA/v///////P/8/wAAAQAAAAEAAAD8//j/9//2//T/8v/w/+//7f/u/+//7f/v//H/7v/t/+//7v/p/+b/5f/k/+P/3v/b/93/3P/Z/9j/1//W/9j/2f/a/9//4P/h/+L/4f/i/+L/3v/b/9j/1f/T/8//yf/H/8r/zf/O/87/z//O/83/z//P/8//0f/S/9T/1f/V/9f/2f/a/9n/1//X/9j/0//N/83/zv/R/9b/2P/a/9z/3f/d/9z/3v/f/+D/4v/k/+L/4f/j/+P/4f/j/+X/4v/h/+T/5P/k/+T/4v/l/+z/6//o/+j/5v/r/+//6f/o/+v/6f/n/+j/6v/q/+f/5v/r/+n/5v/n/+X/4f/i/+L/5P/l/+T/5f/k/+H/4v/i/+D/4v/j/+L/5P/n/+f/5v/m/+b/5f/n/+r/6f/n/+X/5f/k/+H/4P/k/+b/5v/o/+f/5//p/+j/6f/s/+r/5//n/+f/6P/q/+n/6//r/+j/6//v/+z/7v/y/+7/7v/x//D/8f/0//H/8v/z//H/8//1//L/8v/z//T/9f/0//T/9P/x//L/9f/2//j/+f/6//3//v8AAAMAAwAEAAMAAgAGAAYAAgACAAIAAQADAAIAAQAEAAMAAgACAAIABAAHAAUABQADAAEAAgADAAYACAAFAAgADQALAAsAEAAOAAsADQAMAAkACQAKAAgACAALAAoACAAHAAcACAAJAAkACgAMAA0AEAAQABAAFAATABAAEQASABMAFAATABYAGQAVABIAEwASABEAEQARABEAEQAUABUAFQAYABgAFwAaABwAGgAaABoAGwAcABoAGQAZABkAGgAaABoAHgAeABwAHQAdABwAHAAdAB0AHAAZABsAHQAcAB8AHwAZABgAGgAXABcAFgAUABUAFQATABgAHgAeAB4AHgAaABcAFwAXABUAEgATABMAEQASABEADQAQABQAEQAQABMADwANAA8ADgARABMADwAOABAAEQASABMAEgAUABQAFAATABMAFAATABEAEAAOAAwADAAPABEAEAANAA0ADwANAA4AEQAOAAwADAALAAwADAAKAAsACwALAAwADAAJAAoACwAKAAoADAALAAgACQAKAAoACQAIAAgACAAIAAoADQAOAAwADAAMAAsACwAKAAkACgAKAAoACwAJAAUABQAGAAQAAwAFAAYABgAFAAUABgAHAAcABgAFAAMAAwABAAEAAwADAAEA///9//7////8//z/AAD+//r//f8AAAAA/f/8///////9//7//P/7//3/+//2//b/+f/4//f/9//3//b/9f/3//r/+v/4//f/9//0//P/9P/0//L/8v/z//L/8P/y//L/8P/x//D/7//y//L/8P/z//P/7//v/+7/7v/v/+//7f/r/+7/8v/v/+3/8P/w/+3/7//x/+7/6//r/+3/6//p/+z/6//n/+j/6f/n/+r/7P/p/+r/7f/s/+v/7f/t/+n/6f/r/+r/6//t/+z/7P/s/+n/6f/p/+b/5v/o/+f/5//m/+T/5f/m/+b/5P/k/+f/5v/i/+L/4v/i/+T/5P/k/+T/5P/l/+X/4//n/+f/5P/l/+L/4P/n/+n/6P/q/+v/6//q/+j/5v/n/+f/5v/l/+T/5P/l/+X/4f/g/+P/5f/k/+b/6P/p/+f/5//p/+f/5f/p/+v/6P/p/+v/6v/r/+7/7f/s/+v/6//t/+3/7P/t/+z/6//q/+v/7P/u/+//7//x//P/8v/x//L/9P/2//T/8v/0//f/9v/0//T/9f/0//P/9v/4//j/9v/0//T/9P/1//b/9v/4//n/9//4//3//v/8//z//f/+//7/////////AAAAAP//AAABAAAA////////AAD+//z//v8AAAAAAAABAAQABAACAAMAAwADAAUABQAEAAQAAgACAAQABAAEAAIAAQAEAAMAAQACAAUABQAGAAYABAAGAAcABQAHAAkABwAIAAcABQAHAAgABgAGAAUABQAGAAcABwAGAAUABwAGAAQABAAGAAYABgAGAAgABgAFAAcABwAFAAYABgAIAAkACAAGAAcABwAHAAcACQAJAAkACwALAAoACQAKAAsADQALAAoACQAJAAoABwAFAAYABAADAAQAAwAFAAcABwAGAAUABAAFAAQABAAEAAMAAwAEAAMAAwADAAQABAADAAIAAgACAAMAAwADAAIAAQACAAEAAgAFAAUAAwABAAAAAAAAAAEAAwABAAAAAAD//wAAAgAAAAIABAACAAEAAgACAAEAAgADAAIAAQABAAEAAgAEAAEAAAD///7///8AAAAAAAABAAAA///9//z//f/+/////////wAA///9//3//f/+//7//v/+//3//f/9//3//P/7//r/+v/5//f/9//3//b/9//4//b/+P/9//z/+v/8//3/+//7//r/+f/3//b/9//3//b/+P/3//X/9f/2//T/9f/2//X/9v/3//j/+P/4//n/+//8//n/+P/5//f/9f/4//f/9P/z//X/9P/1//j/+f/4//j/+P/4//j/9//3//n/+f/3//n/+v/5//n/+f/5//r/+v/6//r/+v/4//f/+f/7//v/+v/5//n/+f/5//n/+f/6//n/+f/7//v/+f/6//r/+//7//r/+//7//n/+v/8//v/+//8//v/+//8//r/+v/7//r/+//9//z//P/8//v/+//7//v/+//7//v/+//6//r/+//7//3//f/9//3//P/8//z/+//8//3//f/+//3//f/+//3//f/+//3//f/9//3//f/9//z//P/8//z//P/7//3//f/9//3//f/9//3//P/9//3//f/9//z//P/8//z//P/8//3//P/8//3//f/9//3//P/8//3//f/8//3//f/7//z//P/8//3//P/7//v//P/8//z//f/9//z//f/9//z//P/9//z//P/+//3//P/8//3//P/9//3//P/8//z//P/8//v/+//8//z//P/8//z//f/9//3//f/9//3//f/8//3//f/9//3//f/8//z//P/8//3//f/9//3//P/8//3//f/9//3/+//6//z//P/9//3//f/7//z//f/8//v/+//9//3//P/9//z/+//8//v/+//9//3//P/9//z//P/9//3//f/9//3//f/8//z//f/9//z//P/8//z/+v/6//z//P/9//3//f/9//3//f/9//z//P/9//3//f/9//z//f/9//3//v/8//z//f/8//v//P/9//3//f/9//3//f/8//z//f/8//z//P/7//v//f/8//z//P/7//z//f/8//z//f/9//3//P/8//3//f/9//7//f/8//3//f/9//3//f/9//3/+//8//3//f/7//v/+//8//z/+//8//7//f/9//3//f/9//7//v/9//3//P/7//v//f/9//3//f/9//3//f/9//3//v/9//z/+//9//7//f/9//3//f/9//3//f/+//3/+//7//3//v/9//3//f/8//3//f/7//3//f/8//3//f/8//3//P/7//v/+//7//v/+//7//z//f/9//3//f/9//3//f/9//3//f/9//3//f/9//3//f/9//3/+//7//v//P/9//3//P/7//v//P/9//3//f/9//3//f/9//3//f/9//3//f/9//3//f/9//3//f/8//z//P/7//z//f/9//3//f/9//3//f/9//3//f/9//3//f/9//3//f/9//3//f/+//3//P/8//3//P/8//3//f/8//3//f/9//3//P/9//3/+//9//3//f/9//3//P/9//3//f/9//3//f/9//z//P/9//v/+//9//z//P/9//3//f/9//3//f/8//z//P/9//3//f/9//z//P/8//z//f/9//3//f/9//3//f/9//3//P/9//3//f/8//z//f/9//3//f/9//3//f/9//z/+//7//v//f/9//3//f/9//3//f/8//z//f/9//3//f/9//z/+//8//3//f/9//3//f/9//3//f/9//3//f/8//v//P/9//3//f/9//3//f/9//z//f/9//z/+//7//v//P/9//3//f/9//3//f/9//3//P/9//3/+//7//3//f/9//3//f/9//3//P/8//z//f/9//3//f/9//3//f/9//3//f/9//3//f/9//7//f/9//7//P/7//z//f/9//3//P/8//z//f/9//z//P/9//3//f/9//3//f/9//3//f/9//3//f/9//3//f/9//3//f/9//z/+//8//3//f/9//3//P/9//3//P/7//v//P/9//3//f/9//3//f/8//3//f/9//3//f/9//3//P/9//3//f/9//3/+//8//3//f/9//7//f/7//v//f/+//3//f/9//3//f/8//z//f/9//3//f/9//3//f/9//3//f/8//v//P/+//z/+//8//3//f/9//3//v/8//v//P/8//v//P/9//3//f/9//3//f/8//3//f/9//3//P/7//3//f/8//7//P/7//z//f/8//z//P/8//3//f/9//3//f/9//3//f/9//3//f/9//3//f/9//3//f/9//z/+//7//z//f/9//3//f/9//3//f/9//3//f/8//v/+//8//3//f/9//3//P/9//3//f/9//3//f/9//z//f/8//v/+//8//3//f/9//3//P/7//3//f/9//3//f/9//7//P/7//z//f/9//3//f/9//v/+//9//3//f/9//3//f/9//z//f/9//z//f/9//3//P/8//3//f/9//3//f/9//3//f/9//3//P/8//7//f/9//3//P/9//3//f/8//z//f/9//3//P/7//z//f/9//3//f/9//3//f/9//3//f/9//7//f/9//3//f/9//3//f/9//3//f/9//3//f/9//3//f/9//z/+//7//3//f/8//3//f/9//z//f/9//3//f/9//3//P/7//z//f/9//z//f/9//3//f/9//z/+//8//3//f/9//3//f/9//3//f/9//3//f/9//v/+v/8//3//f/9//3//P/9//3//f/9//3//f/9//z//f/8//v//P/9//z//f/9//3//P/8//z//f/9//3//v/9//3//f/8//3//f/7//v//f/9//3//P/8//3//f/9//3//P/8//3//f/9//3//P/8//3//f/8//z/+//8//3//P/9//z/+v/8//3//f/9//3//f/9//3//f/9//z//f/9//v//P/9//3//f/9//3//f/9//3//f/9//3//f/9//3//P/9//3//f/8//v/+//8//3//f/9//3//f/9//3//f/9//3//f/9//3//f/8//3//f/8//3//f/8//3//f/9//3//f/8//z//P/9//3//f/9//z/+//7//v//f/9//z//f/9//z//f/9//3//f/9//z//P/9//3//P/9//3//P/9//z/+//9//3//P/8//3//f/9//v//P/9//3//f/7//v//f/9//3//f/8//3//f/7//z//f/9//3//f/8//z//f/9//z//P/9//3//f/9//3//f/9//3//f/8//v/+//8//z//f/+//z/+//8//3//f/9//3//f/9//3//f/9//3//f/9//3//P/8//z//P/8//3//f/8//3//P/8//z//f/9//3//f/9//3//f/9//3//f/9//z//f/9//3//f/9//3//P/7//z//f/8//3//f/8//v//f/9//3//f/9//3//f/8//3//f/9//3//f/9//3//P/9//7//P/8//v/+//8//3//v/+//7//P/7//v//P/+//3//P/9//z/+//8//3//P/8//3//f/9//z//P/9//3//f/9//3//f/9//3//f/9//3//f/9//3//P/8//3//f/9//3//f/9//3//f/9//3//P/8//z//P/9//3//f/9//3//P/9//3//f/9//3//f/9//z//P/9//3//f/9//v/+//9//z//P/9//3//f/8//r//P/9//z//f/9//z//f/9//3//f/9//3//f/9//3//f/9//z//f/9//z//P/9//3//f/9//v/+//8//z//f/9//3//f/9//3//f/9//3//f/8//z//P/9//3//f/7//v/+//8//3//f/9//3//f/9//3//P/8//3//f/8//3//f/9//3//P/9//3//f/9//3//f/9//3//f/9//3//f/9//3//f/9//3//P/7//v/+//8//3//f/9//3/+//7//z//f/9//3//f/8//z//P/9//z//f/9//v//P/9//3//f/8//z//f/9//z//f/9//3//f/9//3//P/9//3//P/7//v//P/9//3//P/8//3//f/9//3//f/9//3//f/9//3//f/9//3//f/9//3//f/9//3//f/+//3//P/8//3//f/9//3//P/9//7//P/8//3//f/8//3//P/8//3//f/8//z//P/8//3//P/7//z//f/9//3//f/9//3//f/9//3//f/8//3//P/8//3//f/8//3//f/9//3//f/9//3//f/8//z//P/9//3//f/9//3//f/9//z//f/+//3//f/8//v/+//9//3//f/8//3//f/9//z//P/9//3//f/9//3//f/9//3//P/9//z/+//8//3//f/8//3//f/9//3//f/9//3//f/8//v//P/9//3//f/9//3//f/9//3//f/9//3//f/9//3//f/9//3//f/9//3//P/7//z//P/8//3//f/8//3//P/8//3//f/8//z//f/9//3//f/7//z//f/9//3//f/8//z//f/9//3//f/9//3//f/9//3//f/9//z//f/9//z//f/9//z//P/9//z/+//7//z//f/9//3//f/9//3//f/9//3//f/9//3/+//7//v//P/9//3//f/9//3//P/8//z//f/9//3//f/9//3//f/9//3//P/9//3//P/9//3/+//7//z//f/9//3//f/9//3//f/9//3//P/7//3//f/8//z//f/9//3//f/9//3//f/9//z//f/+//3//P/9//3//P/7//v//P/9//3//f/9//z//f/9//3//f/9//3//f/8//v//P/9//3//f/9//3//f/9//z//P/8//3//f/9//3//f/9//z//P/9//3//P/9//z//P/9//3//f/9//3//P/9//3//P/9//3//P/9//z/+//8//3//f/9//3//f/9//3//f/9//3//P/9//3//f/9//3//f/9//3//f/9//3//f/9//3//f/9//3//f/9//z//f/9//3//P/7//v//P/9//3//f/8//z//f/8//3//f/9//3//f/9//3//f/9//3//P/9//3/+//8//3//f/9//z/+//9//3//f/9//3//f/9//z/+//8//3//f/9//3//P/9//3//f/7//v//P/9//z//P/9//3//f/9//3//f/9//3//f/9//3//f/9//3//P/7//3//f/9//z//P/9//3//f/9//7//f/9//3//f/8//v//P/7//v//P/9//3//f/9//3//f/9//3//f/8//3//f/8//z//f/9//3//f/9//z//P/9//3//f/+//3//P/9//3//f/9//z//f/9//z//P/9//3//f/8//z//f/9//z//P/9//3//f/9//3//f/9//3//f/9//3//f/9//3//f/7//v//P/8//3//f/9//3//f/8//z//P/9//3//f/9//3//f/9//3//f/9//z//P/9//3//f/9//z/+//7//3//f/9//3//f/9//3//P/7//z//f/9//3//P/8//3//f/9//3//f/9//3//f/8//z//P/9//z//f/9//z//P/9//3//P/7//3//f/9//3//f/9//3//f/9//3//P/9//3//f/9//3//P/9//3//f/9//z//f/9//3//P/8//3//f/9//3//f/9//3//f/9//3//P/8//3//P/7//z//f/9//3//f/9//3//f/8//3//f/8//z//P/8//3//f/8//3//f/9//3//f/9//3//f/9//3//f/9//3/+//7//z//f/9//3//f/7//v//f/9//3//f/9//3//f/9//3//f/9//3//f/8//z//f/9//3//f/7//v//f/9//3//f/9//3//f/9//3//f/8//z//f/9//3//f/9//z//f/9//3//f/7//v//f/9//z//f/9//3//f/9//3//P/9//3//P/9//z//P/9//3//f/9//v/+//9//3//f/9//z/+//8//3//f/9//3//P/9//3//P/8//3//f/8//3//f/9//3//f/9//3//f/8//v//P/9//3//f/9//3//f/8//v//P/9//3//f/9//3//f/9//3//f/9//z/+//7//3//f/9//3/+//7//3//f/8//3//f/9//3//f/8//z//P/9//3//f/9//3//f/9//3//f/8//3//f/9//3//f/9//3//f/9//z//P/9//3//f/8//v//P/9//3//f/9//z//f/9//z//P/8//3//f/8//z//f/9//z//P/8//v//P/9//3//f/9//3//f/9//3//f/9//3//f/9//3//f/9//3//f/+//3//P/9//z/+//8//3//f/8//z//P/9//3//f/7//v//P/9//3//f/8//3//P/8//3//f/9//3//P/8//3//f/9//3//f/9//3//P/9//3//f/9//3//f/7//v//P/8//3//f/9//3//f/9//3//f/9//3//f/8//v//P/9//3//f/9//3//f/9//3//f/9//3//f/8//z//f/9//3//f/9//3//P/7//z//f/9//3//f/9//3//f/9//z//f/9//3//f/9//3//f/9//3//f/9//3//f/9//z//f/9//z//P/9//3//f/+//3//P/8//3//f/9//3//f/9//z/+//9//3//f/9//3//f/9//3//f/9//3//f/9//3//f/8//z//f/9//3//P/8//3//P/7//z//f/9//3//f/9//3//P/7//v//P/9//3//P/9//3//f/9//3//f/9//3//f/9//3//f/9//3//f/9//3//f/9//3//f/9//3//f/9//z//P/9//3//P/9//3//f/9//3//P/8//z//P/8//3//P/7//z//f/9//3//f/9//3//f/9//3//f/9//3//f/9//3/+//7//z//f/9//3//P/8//3//f/9//z/+//8//3//f/9//3//f/9//3//f/8//z//f/8//z//f/9//z//f/9//3//f/9//3//f/9//3//f/9//3//f/8//3//f/9//3//f/9//3//f/9//3//f/9//z//P/9//z//f/9//z/+//8//3//f/9//3//f/9//3//f/9//3//f/9//3//P/9//3//f/9//3//f/9//z//P/8//3//f/9//3//f/8//z//f/9//3//f/9//3//f/9//3//f/9//z/+//8//3//f/9//3//f/9//z//f/9//z//P/9//z//f/9//3//f/9//3//f/9//3//f/9//3//f/9//3//f/9//3//f/8//z//f/9//3//f/9//3//f/9//z//P/8//z//f/9//z//P/9//3//f/9//3//f/9//3//f/8//z//f/9//z//f/9//3//f/9//3//f/7//v//P/9//3//f/8//v//P/9//3//f/9//3//f/9//3//f/9//3//P/8//3//f/8//3//f/9//3//f/8//z//f/9//3/+//7//z//P/9//3//f/9//z//P/8//3//f/9//z//P/9//3//f/9//3//f/8//v//f/9//z//f/9//v//f/9//z//f/9//3//f/9//3//f/9//3//f/8//z//f/9//3/+//8//7//f/8//3//P/8//z//P/8//3//f/+//3//f/9//v/+//9//3//P/8//z//P/9//3//P/9//3//f/9//3//f/8//3//f/9//3//f/9//3//f/9//3//f/9//3//f/8//3//f/8//3//P/8//3//f/8//3//P/8//z//f/9//z//P/9//3//P/7//v//f/9//3//f/8//z//f/9//3//f/9//3//f/9//3//P/8//3//f/9//3//f/9//z//P/9//3//f/8//z//f/9//z/+//8//3//f/8//3//f/9//3//f/8//3//f/9//3//f/8//z//f/8//z//f/8//v//P/9//3//P/8//3//f/9//3//P/7//z//f/9//3//P/7//z//f/9//z/+//8//3//f/9//3//f/9//3//P/8//3//f/9//3//f/8//3//f/9//3//f/9//z/+//7//v/+//7//z//f/8//3//v/9//3//f/9//3//P/8//3//P/8//3//P/7//v//P/9//3//f/9//3//f/8//v//P/9//z//f/9//3//f/9//3//f/9//z//P/8//z//f/9//z/+//8//3//f/8//z//f/9//3//f/8//v/+//8//3//f/9//3//f/9//3//f/9//3//f/8//v//f/9//3//P/7//z//f/9//3//P/7//z//f/8//3//f/8//3//f/8//z//f/9//3//f/+//3//P/9//3//f/9//3//P/7//z//f/9//3//P/8//3//f/9//3//P/9//3/+//7//3//f/9//3//f/8//3//f/8//3//f/9//3//P/7//z//f/9//z//f/+//3//P/8//v/+//9//3//P/8//3//f/8//v//P/9//3//f/9//3//f/9//3//f/9//3//f/9//z//P/9//3//f/9//3//f/9//3//f/9//z//f/9//3//f/8//z//P/8//3//f/8//3//f/9//3//f/9//3//f/9//3//f/9//3//f/9//3//f/9//3//f/8//z/+//7//z//f/9//z//f/8//z//f/9//3//f/8//z//v/9//v//f/9//z//f/9//3//f/9//z//P/8//z//f/9//3//v/9//3//f/8//3//f/8//z//P/7//z//f/9//3//f/8//3//f/9//3//f/9//3//f/9//3//f/9//3//P/8//3//f/9//3//f/9//3/+//7//z//P/9//3/+//7//z//P/9//3//f/9//3//f/9//z//P/9//3//f/7//v//P/9//3//f/9//3//f/9//3//P/8//3//f/9//z/+//8//3//f/9//z//P/9//3//f/9//z//f/+//3//f/9//3//f/9//3//f/9//3//f/9//3//f/9//3//f/+//3/+//7//v//P/9//3//f/7//v//f/9//3//v/9//3//f/9//3//f/9//3//f/9//z//f/9//3//f/9//3//f/9//3//P/8//z//f/9//z/+//7//v//P/9//3//f/9//z//P/9//z//P/9//z//f/9//z//P/9//3//P/9//3//f/9//3//f/9//3//f/9//z/+//8//z/+//9//3//f/9//v//P/+//3//P/9//3//f/9//z/+//8//3//P/8//3//f/9//7//f/9//3//P/7//z//f/9//3//f/9//3//f/9//z//f/9//3//f/9//3//f/9//3//f/9//z/+//8//3//f/9//3//P/9//3//f/9//3//f/8//v//f/9//z//f/9//3//f/9//3//P/7//z//f/9//3//P/9//7//f/9//3//f/9//3//f/8//z//v/9//z//f/8//v//f/8//v//f/9//3//f/8//z//f/9//3//P/7//z//f/9//3//f/9//3//f/9//3//f/8//z//f/9//3//f/9//3//f/8//3//f/8//v/+//7//z//f/9//3//f/9//3//f/8//3//f/8//3//v/8//z//f/9//3//f/9//3//P/8//3//P/9//3//f/9//3//f/9//3//f/8//r/+//9//z/+//7//v//f/9//z//f/9//z//P/8//3//f/8//3//f/9//z//P/9//3//f/9//3//f/9//3//f/9//3//f/9//z//f/9//v//P/9//3//f/9//3/+//7//v//f/9//3//f/9//3//P/7//v//f/9//3//f/9//3//f/9//3//f/9//3//f/9//3//f/8//z//f/9//z//P/8//3//f/9//3//f/9//3//P/8//3//f/9//7//f/8//z//f/9//3//f/8//3//f/8//z//f/9//3//f/9//3//f/9//3//f/9//z/+//8//3//P/9//z/+//7//z//f/9//3//f/9//3//f/8//3//P/7//z//f/8//z//f/9//3//f/8//v//P/9//3//f/9//3//f/9//v//P/9//3//f/8//r/+//9//3//f/9//3//f/9//3//v/9//3//P/9//3//f/9//3//P/8//z/+//8//3//v/+//7//P/7//v/+//8//3//P/8//3//f/8//3//f/9//3//f/9//3//f/9//3//f/9//v/+//9//3//f/+//z//P/9//3//f/9//3//f/9//3//f/8//z//f/9//3//f/9//3//f/9//3//v/9//z//f/9//3//f/9//3//f/9//3//f/9//3//f/9//3//f/9//z/+//8//z//P/9//3//f/+//3//f/9//z//P/9//3//f/9//3//f/9//z//f/9//z//P/9//3//f/9//3//f/9//3//f/9//3//f/8//3//f/9//3//f/9//3//f/9//3//P/7//z//f/9//3//P/7//z//f/9//3//f/9//3//f/9//3//f/9//3//P/7//3//f/9//3//f/9//3//f/+//3//f/9//z/+//8//7//f/9//3//P/8//3//f/8//z//P/8//3//f/9//3//f/9//3//P/8//3//f/9//3//P/9//z//f/9//3//v/9//v//P/9//3//f/8//3//f/7//v//f/9//3//f/9//z/+//7//z//P/8//z//f/9//3//f/9//3//f/9//3//P/8//3//v/8//z//P/8//v//P/9//3//f/8//v//f/9//z//f/9//3//f/9//z//f/8//3//f/8//v/+//7//z//f/9//z//P/9//3//P/8//v//P/9//3//f/9//3//f/9//3//f/9//3//f/9//3//f/9//3//P/8//3//f/8//3//f/9//3//f/9//3//f/8//3//v/8//v//P/9//z//f/9//z//f/9//z//f/9//3//f/9//z//f/8//z//f/9//z//f/9//3//P/7//z//f/8//3//f/9//3//f/8//3//f/7//z//f/9//3//f/9//7//P/7//3//f/9//3//f/9//z/+//9//3//P/9//3//f/9//3//f/9//z//P/9//3//P/7//v/+//9//3//f/9//3//f/8//3//P/9//3//f/9//3//f/9//3//f/9//3//f/8//z//f/9//z//f/9//3//f/9//3//f/9//3//f/9//z//f/9//z/+//8//3//f/9//3//f/9//3//P/9//3/+//7//3//f/9//3//f/9//3//P/9//3//P/9//3//f/9//3//f/9//3//f/8//v//P/9//3//f/9//3//f/7//v//f/9//3//f/9//3//f/8//3//f/8//z//f/9//z//f/9//3//f/9//3//f/8//v//P/9//z/+//7//v//P/9//3//f/7//v//P/9//3//f/9//3//f/9//3//P/8//3//P/8//3//f/9//3//f/9//3//f/9//3//f/9//3//f/9//z/+//8//3//f/9//3//f/9//3//f/9//3//f/9//3//f/9//3//f/9//3//f/9//3//P/9//3/+//8//3//f/9//z//P/9//z//P/9//3//P/9//3//P/8//3//f/7//z//f/9//3//f/9//3//f/9//3//f/9//3//P/9//3//f/9//3//f/9//3//f/9//v/+//9//3//f/8//3//P/9//3//f/9//3//P/9//3//f/9//3//f/9//v/+v/7//3//f/9//3//f/9//3//f/9//v/+//9//3//P/9//3//f/+//z//P/7//v//f/9//z//f/9//3//f/9//3//f/9//3//f/8//z//P/8//3//f/9//z//f/8//z//f/9//z//f/9//z//f/9//3//f/9//3//f/8//v//f/9//z//P/8//3//f/8//3//P/7//z//f/9//3//f/9//z//P/8//v/+//8//3//f/8//v/+//7//z//f/9//z//f/9//3//f/8//3//P/7//3//f/8//3//f/9//3//f/9//3//f/9//3//f/9//z//f/8//v//P/9//z/+//7//z//f/9//z//f/9//3//P/9//3/+//7//3//P/9//3//f/9//3//f/9//z//f/9//3//f/9//z//f/8//3//f/9//3//f/7//v//P/9//3//f/9//3//P/9//3//f/9//3//f/9//3//P/7//z//f/9//3//P/8//3//f/9//3/+//7//3//f/8//3//f/9//3//f/9//v//P/9//3//f/8//z//P/9//3//f/9//3//f/9//3//P/7//z//f/9//3//f/9//3//f/9//3//P/9//7//v/+//3/+//6//z//f/9//3//f/8//3//f/8//v//f/9//z//P/7//z//f/9//3//f/9//3//f/9//3//P/8//z/+//7//z//f/8//3//f/9//z//f/+//3//f/8//v//P/8//z//f/9//3//P/7//v//P/9//3//f/9//3//f/9//3//f/8//3//f/7//v//f/9//3//f/9//z/+//8//3//f/9//3//f/9//3//f/9//3//f/9//3//f/9//v/+//9//3//f/9//3//f/8//3//f/8//z//f/8//v//f/+//3//f/9//3//f/9//3//f/8//z//f/9//3//f/9//3//f/9//3//P/9//3//f/9//3//f/9//3//f/9//v/+//9//z//P/9//z//P/9//3//f/8//z//f/9//3//P/7//z//v/9//3//v/8//v//f/9//3//f/9//3//P/8//z//f/9//3//f/9//3//f/8//3//f/9//z//f/9//z//P/9//3//f/9//3//P/8//z//f/9//3//f/9//3//P/7//v//f/9//3//f/9//z//P/8//3//f/9//3//f/9//3//P/7//v//P/9//3//f/9//3//f/9//3//f/9//3//f/9//3//f/9//3//f/7//z//v/8//v//f/9//3//f/9//3//P/8//3//f/9//3//f/8//v/+//8//3//f/9//z/+//7//v//P/9//3//f/9//3//f/9//3//f/8//3//f/9//3//f/9//3//f/9//3//f/+//3//P/9//z//P/9//z/+//7//z//P/8//3//f/9//3//f/8//z//f/9//3//f/9//v/+//9//3//P/9//z/+//8//3//f/9//3//f/9//3//f/9//3//f/9//3//f/8//v//P/8//z//f/9//3//f/8//z//f/9//3//f/9//z//P/9//3//f/9//3//f/9//3//f/9//3//P/8//3//f/9//3//P/8//3//P/8//3//f/9//3//f/9//3//f/9//3//f/9//3//f/9//3//P/9//3//P/9//3//f/9//3//P/7//z//f/8//v//P/+//3//f/9//3//f/9//3//P/7//v/+//7//z//f/9//3//f/9//3//f/9//z//P/9//3//f/9//3//f/9//z//P/9//3//f/9//3//P/9//3//P/9//z//P/9//3//P/9//z/+//8//z//f/9//3//f/8//z//P/9//3//P/9//3//f/9//3//f/9//z//f/9//3//f/9//3//f/8//r//P/+//3/+//7//v//P/8//3//f/8//z//f/9//z//f/9//3//f/9//3//f/9//3//f/9//3//f/8//z//f/9//3//f/9//3//P/8//3//f/8//3//f/8//v/+//7//z//f/9//3//f/9//3//f/9//3//P/8//3//P/9//3//f/9//3//f/9//3//f/9//v/+//9//3//P/8//3//f/9//3//f/9//3//f/9//z//P/9//3//P/9//3//f/8//3//f/8//z//f/9//3//f/9//3//f/7//v//f/9//3//f/8//3//f/9//3//f/9//z//P/9//3//f/9//3//P/9//3/+//7//3//f/9//z/+//8//3//P/9//3//f/9//z//P/9//3//f/9//z//P/9//3//f/9//3//P/7//3//f/7//z//f/9//3//f/8//z//P/9//z/+//7//z//f/9//3//f/9//3//f/9//3//f/9//3//f/8//z//f/8//z//f/+//3//f/9//z//f/9//z//P/9//z//P/9//3//f/9//3//f/9//3//f/9//3//P/8//3//f/9//3//f/9//3//f/9//3//f/9//3//f/9//3//f/9//3//P/7//z//f/9//3//f/9//3//f/8//3//f/8//3//f/8//3//f/9//z/+//8//z//P/9//3//f/8//v//f/9//z//f/9//3//f/9//3//f/9//3//f/9//3//P/8//z/+//8//3//f/8//z//P/9//3//f/9//3//f/9//3//f/9//z/+//8//3//P/8//3//f/9//z//f/9//z/+//7//v//P/9//z//f/9//z//f/9//3//f/9//z//P/7//v//f/8//z//f/9//3//f/9//z//f/9//3//f/9//z//f/9//3//f/9//3//f/9//3//f/9//3//f/8//v//P/8//z//f/9//3//f/9//3//f/9//3//P/7//3//P/7//z//f/9//3//f/9//3//P/8//3//P/9//3//P/8//3//f/9//3//f/9//3//P/8//3//f/9//3//f/9//3//f/9//z//f/9//3//f/8//v//f/9//3//f/9//3//P/7//3//f/9//3//f/9//3//f/9//z//P/9//3//f/9//3//f/9//3//f/9//3//f/9//z/+//7//z//f/9//3//f/9//3//f/9//3//f/9//z//f/8//z//f/9//3//f/9//3//f/8//3//f/8//3//f/7//z//f/9//3//f/9//3//f/9//3//f/9//7//P/7//3//f/7//v/+//8//3//f/8//3//P/9//z/+//8//3//f/9//3//f/9//3//f/8//z//f/8//3//f/9//3//P/7//z//f/9//3//f/9//3//f/9//3//f/9//z//f/9//z//f/9//z//f/9//z//f/8//v//P/7//v//f/9//3//f/9//3//f/9//3//f/9//3//f/8//z//f/9//3//v/9//3//f/9//3//P/7//v/+//8//3//f/+/////f/9//3/+//7//v//P/9//3//f/9//z//P/9//3//f/9//3//f/9//v//f/9//z//f/9//3//f/8//v//P/7//v//f/9//3//f/8//7/AAAAAAAAAAAAAAAAAAAAAAAAAAAAAAAAAAAAAAAAAAAAAAAAAAAAAAAAAAAAAAAAAAAAAAAAAAAAAAAAAAAAAAAAAAAAAAAAAAAAAAAAAAAAAAAAAAAAAAAAAAAAAAAAAAAAAAAAAAAAAAAAAAAAAAAAAAAAAAAAAAAAAAAAAAAAAAAAAAAAAAAAAAAAAAAAAAAAAAAAAAAAAAAAAAAAAAAAAAAAAAAAAAAAAAAAAAAAAAAAAAAAAAAAAAAAAAAAAAAAAAAAAAAAAAAAAAAAAAAAAAAAAAAAAAAAAAAAAAAAAAAAAAAAAAAAAAAAAAAAAAAAAAAAAAAAAAAAAAAAAAAAAAAAAAAAAAAAAAAAAAAAAAAAAAAAAAAAAAAAAAAAAAAAAAAAAAAAAAAAAAAAAAAAAAAAAAAAAAAAAAAAAAAAAAAAAAAAAAAAAAAAAAAAAAAAAAAAAAAAAAAAAAAAAAAAAAAAAAAAAAAAAAAAAAAAAAAAAAAAAAAAAAAAAAAAAAAAAAAAAAAAAAAAAAAAAAAAAAAAAAAAAAAAAAAAAAAAAAAAAAAAAAAAAAAAAAAAAAAAAAAAAAAAAAAAAAAAAAAAAAAAAAAAAAAAAAAAAAAAAAAAAAAAAAAAAAAAAAAAAAAAAAAAAAAAAAAAAAAAAAAAAAAAAAAAAAAAAAAAAAAAAAAAAAAAAAAAAAAAAAAAAAAAAAAAAAAAAAAAAAAAAAAAAAAAAAAAAAAAAAAAAAAAAAAAAAAAAAAAAAAAAAAAAAAAAAAAAAAAAAAAAAAAAAAAAAAAAAAAAAAAAAAAAAAAAAAAAAAAAAAAAAA=\" type=\"audio/wav\" />\n",
              "                    Your browser does not support the audio element.\n",
              "                </audio>\n",
              "              "
            ]
          },
          "metadata": {}
        }
      ]
    },
    {
      "cell_type": "code",
      "source": [
        "# DAY 30_TRIỂN KHAI VÀ ĐÓNG GÓI DỰ ÁN PYTHON VỚI POETRY\n",
        "#Làm thế nào để xây dựng các package, library như math, numpy, tensorflow, pytorch? Làm thế nào để tái sử dụng code trong dự án?\n",
        "# Hướng dẫn cách triển khai xây dựng một package đơn giản với poetry và anaconda và phát hành nó trên nền tảng chia sẻ package nổi tiếng PyPI.\n",
        "'''\n",
        "Poetry là một công cụ quản lý các package, library phụ thuộc trong môi trường riêng biệt để phát triển các dự án python,\n",
        "đặc biệt là nó cung cấp các chức năng thuận tiện cho việc xây dựng package python và phát hành lên nền tảng PyPI.\n",
        "pipx - một công cụ để cài đặt và quản lí các package, library python( không phải là các package, library như numpy, pandas\n",
        " mà bạn hay dùng để import khi viết code đâu, mà nó là các package có thể sử dụng từ dòng lệnh như Python, Poetry...)\n",
        "'''\n",
        "\n",
        "\n"
      ],
      "metadata": {
        "id": "jIpIU7H36n6X"
      },
      "execution_count": null,
      "outputs": []
    },
    {
      "cell_type": "code",
      "source": [
        "# DAY 31_Data Analysis with Visualization: Làm quen với thư viện PygWalker (chuyển đổi dữ liệu thành các ứng dụng phân tích trực quan)"
      ],
      "metadata": {
        "id": "Nlre7A2TAJ72"
      },
      "execution_count": null,
      "outputs": []
    },
    {
      "cell_type": "code",
      "source": [
        " ! pip install pygwalker\n",
        "# ...Successfully installed arrow-1.3.0 astor-0.8.1 backoff-2.2.1..."
      ],
      "metadata": {
        "id": "QIMUZyEAJOWV"
      },
      "execution_count": null,
      "outputs": []
    },
    {
      "cell_type": "code",
      "source": [],
      "metadata": {
        "id": "DQbQ2L48SdTl"
      },
      "execution_count": null,
      "outputs": []
    },
    {
      "cell_type": "code",
      "source": [
        "# DAY_32-33 BÀI LUYỆN TÂP\n",
        "\n",
        "# Câu 1: b\n",
        "n = 1\n",
        "for i in range (0 , 500 , 100) : # trong khoảng từ 0 đến 500, với bước cách 100\n",
        "  n = i\n",
        "  print ( n )\n",
        "print ( \"\\n\",n )\n",
        "\n",
        "for i in range (0 , 500 , 50) : # trong khoảng từ 0 đến 500, với bước cách 50\n",
        "  n = i\n",
        "  print ( n )\n",
        "print ( \"\\n\",n )"
      ],
      "metadata": {
        "colab": {
          "base_uri": "https://localhost:8080/"
        },
        "id": "O82ZFyCRJPPs",
        "outputId": "8c411a7a-5843-480e-8f6a-50d1daa22e5d"
      },
      "execution_count": null,
      "outputs": [
        {
          "output_type": "stream",
          "name": "stdout",
          "text": [
            "0\n",
            "100\n",
            "200\n",
            "300\n",
            "400\n",
            "\n",
            " 400\n",
            "0\n",
            "50\n",
            "100\n",
            "150\n",
            "200\n",
            "250\n",
            "300\n",
            "350\n",
            "400\n",
            "450\n",
            "\n",
            " 450\n"
          ]
        }
      ]
    },
    {
      "cell_type": "code",
      "source": [
        "# Câu 2: b\n",
        "data = \"I’m learning Python !\"\n",
        "print ( data . split ())\n",
        "print ( data . split () [1])\n"
      ],
      "metadata": {
        "colab": {
          "base_uri": "https://localhost:8080/"
        },
        "id": "5RKoMwCQSjMf",
        "outputId": "1a562c46-a76c-42d7-a99c-1760286b4887"
      },
      "execution_count": null,
      "outputs": [
        {
          "output_type": "stream",
          "name": "stdout",
          "text": [
            "['I’m', 'learning', 'Python', '!']\n",
            "learning\n"
          ]
        }
      ]
    },
    {
      "cell_type": "code",
      "source": [
        "# Câu 3: a\n",
        "\n",
        "def check_the_number ( N ) :\n",
        "  list_of_numbers = []\n",
        "  result = \"\"\n",
        "  for i in range (1 , 5) :\n",
        "    list_of_numbers . append ( i )\n",
        "    if N in list_of_numbers :\n",
        "      results = \" True \"\n",
        "    if N not in list_of_numbers :\n",
        "      results = \" False \"\n",
        "\n",
        "  print(list_of_numbers)\n",
        "  return results\n",
        "\n",
        "N = 2\n",
        "results = check_the_number ( N )\n",
        "print ( results )\n"
      ],
      "metadata": {
        "colab": {
          "base_uri": "https://localhost:8080/"
        },
        "id": "OOTtSRVvSjKL",
        "outputId": "7fcf53bd-62a0-4e8f-a232-1eea6e5e0c4b"
      },
      "execution_count": null,
      "outputs": [
        {
          "output_type": "stream",
          "name": "stdout",
          "text": [
            "[1, 2, 3, 4]\n",
            " True \n"
          ]
        }
      ]
    },
    {
      "cell_type": "code",
      "source": [
        "# Câu 4: a\n",
        "\n",
        "data = \"my list : [ 1 , 2 , [3 , 4]]\"\n",
        "print ( type ( data ) )\n"
      ],
      "metadata": {
        "colab": {
          "base_uri": "https://localhost:8080/"
        },
        "id": "w_mML8b5SjHC",
        "outputId": "e6dd428d-cc6a-490d-c835-798970aeaa98"
      },
      "execution_count": null,
      "outputs": [
        {
          "output_type": "stream",
          "name": "stdout",
          "text": [
            "<class 'str'>\n"
          ]
        }
      ]
    },
    {
      "cell_type": "code",
      "source": [
        "# Câu 5: a\n",
        "\n",
        "\" Eiffel \" > \" Apple \""
      ],
      "metadata": {
        "colab": {
          "base_uri": "https://localhost:8080/"
        },
        "id": "qcNMKhv6vo0r",
        "outputId": "bbbc216c-e07f-403a-be2c-6378274f9ed8"
      },
      "execution_count": null,
      "outputs": [
        {
          "output_type": "execute_result",
          "data": {
            "text/plain": [
              "True"
            ]
          },
          "metadata": {},
          "execution_count": 163
        }
      ]
    },
    {
      "cell_type": "code",
      "source": [
        "# Câu 6: b\n",
        "n = 0\n",
        "for i in range (5) :\n",
        "  n += i\n",
        "  if n >0 and n %3 == 0:\n",
        "    break\n",
        "print ( n )"
      ],
      "metadata": {
        "colab": {
          "base_uri": "https://localhost:8080/"
        },
        "id": "9ZmczfOvvo3-",
        "outputId": "9b291db9-5986-4e3b-bd74-80ab9aed9927"
      },
      "execution_count": null,
      "outputs": [
        {
          "output_type": "stream",
          "name": "stdout",
          "text": [
            "3\n"
          ]
        }
      ]
    },
    {
      "cell_type": "code",
      "source": [
        "# Câu 7: a\n",
        "\n",
        "space1 = \"Cherry Blossom After Winter\"\n",
        "space2 = \"Flowers are blooming on the hillsides , which signals the coming of spring\"\n",
        "space = space1 + space2\n",
        "print(space,\"\\n\")\n",
        "print ( space [ -6:])"
      ],
      "metadata": {
        "colab": {
          "base_uri": "https://localhost:8080/"
        },
        "id": "ZvxA6XzSvo6_",
        "outputId": "9f16d022-6d04-40b5-afa5-59b077ab5d0e"
      },
      "execution_count": null,
      "outputs": [
        {
          "output_type": "stream",
          "name": "stdout",
          "text": [
            "Cherry Blossom After WinterFlowers are blooming on the hillsides , which signals the coming of spring \n",
            "\n",
            "spring\n"
          ]
        }
      ]
    },
    {
      "cell_type": "code",
      "source": [
        "# Câu 8: c\n",
        "my_list = [0 , 1 , 1 , 2 , 1]\n",
        "odd = 1\n",
        "even = 0\n",
        "\n",
        "for number in my_list :\n",
        "  if number % 2 == 0:\n",
        "    odd += number\n",
        "  else :\n",
        "    even += number\n",
        "print ( f\" odd :{ odd} , even :{ even }\")"
      ],
      "metadata": {
        "colab": {
          "base_uri": "https://localhost:8080/"
        },
        "id": "LT75CqVlvo-A",
        "outputId": "946e03f9-3bd3-4f69-9750-2ddb87c69312"
      },
      "execution_count": null,
      "outputs": [
        {
          "output_type": "stream",
          "name": "stdout",
          "text": [
            " odd :3 , even :3\n"
          ]
        }
      ]
    },
    {
      "cell_type": "code",
      "source": [
        "# Câu 9: a\n",
        "weather = '@the drizzle in spring makes the air more humid. @@'\n",
        "me = \"i love iT!\"\n",
        "txt = weather . strip ('@') . capitalize () + me . title ()\n",
        "print ( txt )"
      ],
      "metadata": {
        "colab": {
          "base_uri": "https://localhost:8080/"
        },
        "id": "Qs0eng6FvpA6",
        "outputId": "0ed8f228-5965-4795-b496-114e0e32e477"
      },
      "execution_count": null,
      "outputs": [
        {
          "output_type": "stream",
          "name": "stdout",
          "text": [
            "The drizzle in spring makes the air more humid. I Love It!\n"
          ]
        }
      ]
    },
    {
      "cell_type": "code",
      "source": [
        "# Câu 10: a\n",
        "data = [1 , 9 , 3 , -3 ]\n",
        "data . sort ()\n",
        "print ( data )"
      ],
      "metadata": {
        "colab": {
          "base_uri": "https://localhost:8080/"
        },
        "id": "Wv8JhJSAvpDi",
        "outputId": "e741fafb-c699-4799-dc8d-6b44a9c8046e"
      },
      "execution_count": null,
      "outputs": [
        {
          "output_type": "stream",
          "name": "stdout",
          "text": [
            "[-3, 1, 3, 9]\n"
          ]
        }
      ]
    },
    {
      "cell_type": "code",
      "source": [
        "# Câu 11: a\n",
        "my_exam = \"Under the drizzle , the flower field seems covering with the glitter water drops !\"\n",
        "print ( my_exam . strip ('!') . split () )"
      ],
      "metadata": {
        "colab": {
          "base_uri": "https://localhost:8080/"
        },
        "id": "jAZCIU4uwWhm",
        "outputId": "84ae6b40-a33c-4b54-fb1c-f1ea031b69ff"
      },
      "execution_count": null,
      "outputs": [
        {
          "output_type": "stream",
          "name": "stdout",
          "text": [
            "['Under', 'the', 'drizzle', ',', 'the', 'flower', 'field', 'seems', 'covering', 'with', 'the', 'glitter', 'water', 'drops']\n"
          ]
        }
      ]
    },
    {
      "cell_type": "code",
      "source": [
        "# Câu 12: d\n",
        "my_string = \"Peach blossoms bloom in spring\"\n",
        "my_bag_of_word = []\n",
        "for element in my_string :\n",
        "  if element not in my_bag_of_word :\n",
        "    my_bag_of_word . append ( element )\n",
        "print ( my_bag_of_word )\n"
      ],
      "metadata": {
        "colab": {
          "base_uri": "https://localhost:8080/"
        },
        "id": "RuJXC66YwWkn",
        "outputId": "c8c26f85-cf97-4931-c140-201c32f73cfe"
      },
      "execution_count": null,
      "outputs": [
        {
          "output_type": "stream",
          "name": "stdout",
          "text": [
            "['P', 'e', 'a', 'c', 'h', ' ', 'b', 'l', 'o', 's', 'm', 'i', 'n', 'p', 'r', 'g']\n"
          ]
        }
      ]
    },
    {
      "cell_type": "code",
      "source": [
        "# Câu 13: b\n",
        "my_string = \"My name is Tom\"\n",
        "results = my_string . count ('m')\n",
        "print ( results )"
      ],
      "metadata": {
        "colab": {
          "base_uri": "https://localhost:8080/"
        },
        "id": "hxy4SXCxwWnV",
        "outputId": "0bf8a0b3-90af-46ab-da81-f1d677ecaf3f"
      },
      "execution_count": null,
      "outputs": [
        {
          "output_type": "stream",
          "name": "stdout",
          "text": [
            "2\n"
          ]
        }
      ]
    },
    {
      "cell_type": "code",
      "source": [
        "# Câu 14: c\n",
        "even_numbers = [ x for x in range (1 , 5) if x % 2==0]\n",
        "print ( even_numbers )"
      ],
      "metadata": {
        "colab": {
          "base_uri": "https://localhost:8080/"
        },
        "id": "Vpk5NXDswWp7",
        "outputId": "bbc1abff-aa3f-4e7f-a8af-33c072425b97"
      },
      "execution_count": null,
      "outputs": [
        {
          "output_type": "stream",
          "name": "stdout",
          "text": [
            "[2, 4]\n"
          ]
        }
      ]
    },
    {
      "cell_type": "code",
      "source": [
        "# Câu 15: a\n",
        "X = [[1 , 1] ,\n",
        "    [2 , 2]]\n",
        "\n",
        "result = [[0 ,0] ,\n",
        "          [0 ,0]]\n",
        "\n",
        "for i in range (len ( X) ) :\n",
        "  for j in range (len ( X [0]) ) :\n",
        "    result [ j ][ i ] = X [ i ][ j ]\n",
        "for r in result :\n",
        "  print ( r )"
      ],
      "metadata": {
        "colab": {
          "base_uri": "https://localhost:8080/"
        },
        "id": "kf4gc8KDwWs9",
        "outputId": "82c4a1fb-c3cf-490a-e8fa-177ffd6ed660"
      },
      "execution_count": null,
      "outputs": [
        {
          "output_type": "stream",
          "name": "stdout",
          "text": [
            "[1, 2]\n",
            "[1, 2]\n"
          ]
        }
      ]
    },
    {
      "cell_type": "code",
      "source": [
        "# Câu 16: b\n",
        "def my_function ( my_data ):\n",
        "  rs = 0\n",
        "  for i in my_data :\n",
        "    rs = rs + i\n",
        "  return rs\n",
        "my_list = [1 , 2 , 3]\n",
        "print ( my_function ( my_data = my_list ) )"
      ],
      "metadata": {
        "colab": {
          "base_uri": "https://localhost:8080/"
        },
        "id": "MSO1h2gLwWvd",
        "outputId": "c5abd762-5ea2-41cd-b9b0-a979d835e70b"
      },
      "execution_count": null,
      "outputs": [
        {
          "output_type": "stream",
          "name": "stdout",
          "text": [
            "6\n"
          ]
        }
      ]
    },
    {
      "cell_type": "code",
      "source": [
        "# Câu 17: a\n",
        "def my_function ( my_data ):\n",
        "  result = []\n",
        "  for element in data :\n",
        "    if element not in result :\n",
        "      result . append ( element )\n",
        "  return result\n",
        "\n",
        "data = [ {'id': 'M12'} , 10 , 20 , 30]\n",
        "print ( my_function ( data ) )\n"
      ],
      "metadata": {
        "colab": {
          "base_uri": "https://localhost:8080/"
        },
        "id": "1bmD0jaKwWyV",
        "outputId": "e275e500-7d11-4176-915d-00fd152a43e8"
      },
      "execution_count": null,
      "outputs": [
        {
          "output_type": "stream",
          "name": "stdout",
          "text": [
            "[{'id': 'M12'}, 10, 20, 30]\n"
          ]
        }
      ]
    },
    {
      "cell_type": "code",
      "source": [
        "# Câu 18: c\n",
        "def my_function ( data , max , min) :\n",
        "  result = []\n",
        "  for i in data :\n",
        "    if i < min:\n",
        "      result . append ( min )\n",
        "    elif i > max :\n",
        "      result . append ( max )\n",
        "    else :\n",
        "      result . append ( i )\n",
        "  return result\n",
        "my_list = [10 , 2 , 5 , 0 , 1]\n",
        "max = 2\n",
        "min = 1\n",
        "print ( my_function (max = max , min = min , data = my_list ) )"
      ],
      "metadata": {
        "colab": {
          "base_uri": "https://localhost:8080/"
        },
        "id": "OuYtlA60wW1R",
        "outputId": "1132b97f-31a3-4f36-e4ef-f173f982da6a"
      },
      "execution_count": null,
      "outputs": [
        {
          "output_type": "stream",
          "name": "stdout",
          "text": [
            "[2, 2, 2, 1, 1]\n"
          ]
        }
      ]
    },
    {
      "cell_type": "code",
      "source": [
        "# Câu 19: a\n",
        "def my_function (x , y ) :\n",
        "  x . extend ( y)\n",
        "  return x\n",
        "\n",
        "list_num1 = [1 , 2]\n",
        "list_num2 = [3 , 4]\n",
        "list_num3 = [0 , 0]\n",
        "my_function ( list_num1 , my_function ( list_num2 , list_num3 ) )\n"
      ],
      "metadata": {
        "colab": {
          "base_uri": "https://localhost:8080/"
        },
        "id": "I1OJz-DQwW4_",
        "outputId": "0951b8e1-d931-45d6-e940-570ecace0b7e"
      },
      "execution_count": null,
      "outputs": [
        {
          "output_type": "execute_result",
          "data": {
            "text/plain": [
              "[1, 2, 3, 4, 0, 0]"
            ]
          },
          "metadata": {},
          "execution_count": 187
        }
      ]
    },
    {
      "cell_type": "code",
      "source": [
        "# Câu 20: c\n",
        "def my_function ( n ) :  # Tìm giá trị NHỎ nhất trong List\n",
        "  x = n [0]\n",
        "  for i in n :\n",
        "    if i < x :\n",
        "      x = i\n",
        "  return x\n",
        "\n",
        "my_list = [1 , 2 , 3 , -1]\n",
        "my_function ( my_list )"
      ],
      "metadata": {
        "colab": {
          "base_uri": "https://localhost:8080/"
        },
        "id": "gQp_gUDawW8B",
        "outputId": "3c3cca0e-c8a0-4eca-b96d-2c4b0c15b402"
      },
      "execution_count": null,
      "outputs": [
        {
          "output_type": "execute_result",
          "data": {
            "text/plain": [
              "-1"
            ]
          },
          "metadata": {},
          "execution_count": 188
        }
      ]
    },
    {
      "cell_type": "code",
      "source": [
        "# Câu 21: d\n",
        "def my_function ( n ) : # Tìm giá trị LỚN nhất trong List\n",
        "  x = n [0]\n",
        "  for i in n :\n",
        "    if i > x :\n",
        "      x = i\n",
        "  return x\n",
        "\n",
        "my_list = [1 , 9 , 9 , 0]\n",
        "my_function ( my_list )"
      ],
      "metadata": {
        "colab": {
          "base_uri": "https://localhost:8080/"
        },
        "id": "sgfB1IrFwW-l",
        "outputId": "c7f816ef-f6f8-46cf-8cf2-5ca0f2edd927"
      },
      "execution_count": null,
      "outputs": [
        {
          "output_type": "execute_result",
          "data": {
            "text/plain": [
              "9"
            ]
          },
          "metadata": {},
          "execution_count": 189
        }
      ]
    },
    {
      "cell_type": "code",
      "source": [
        "# Câu 22: c\n",
        "def my_function ( integers , number = 1) :\n",
        "  return any ([ True if i == number else False for i in integers ])\n",
        "\n",
        "my_list = [1 , 2 , 3 , 4]\n",
        "my_function ( my_list , 2)"
      ],
      "metadata": {
        "colab": {
          "base_uri": "https://localhost:8080/"
        },
        "id": "vyHzHl2CwXBD",
        "outputId": "301f7173-328c-44bc-eb88-f55b5e24e8f9"
      },
      "execution_count": null,
      "outputs": [
        {
          "output_type": "execute_result",
          "data": {
            "text/plain": [
              "True"
            ]
          },
          "metadata": {},
          "execution_count": 190
        }
      ]
    },
    {
      "cell_type": "code",
      "source": [
        "# Câu 23: a\n",
        "def my_function ( list_nums = [0 , 1 , 2]) :\n",
        "  var = 0\n",
        "  for i in list_nums :\n",
        "    var += i\n",
        "  return var /len( list_nums )\n",
        "\n",
        "my_function ()"
      ],
      "metadata": {
        "colab": {
          "base_uri": "https://localhost:8080/"
        },
        "id": "YFjI9mVjwXDo",
        "outputId": "53fc7b41-d687-4e53-ab51-8e810a5f8832"
      },
      "execution_count": null,
      "outputs": [
        {
          "output_type": "execute_result",
          "data": {
            "text/plain": [
              "1.0"
            ]
          },
          "metadata": {},
          "execution_count": 191
        }
      ]
    },
    {
      "cell_type": "code",
      "source": [
        "# Câu 24: a\n",
        "def my_function ( signal1 , signal2 ) :\n",
        "  var = False\n",
        "  for s1 in signal1 :\n",
        "    for s2 in signal2 :\n",
        "      if s1 == s2 :\n",
        "        var = True\n",
        "  return var\n",
        "print ( my_function ([1 , 1 , 1] , [2 , 2 , 2]) )"
      ],
      "metadata": {
        "colab": {
          "base_uri": "https://localhost:8080/"
        },
        "id": "5hF83TO0wXH9",
        "outputId": "2bdddda6-f300-4ba1-fa2a-bcec99a35d31"
      },
      "execution_count": null,
      "outputs": [
        {
          "output_type": "stream",
          "name": "stdout",
          "text": [
            "False\n"
          ]
        }
      ]
    },
    {
      "cell_type": "code",
      "source": [
        "# Câu 25: b\n",
        "def my_function ( signal1 , signal2 ) :\n",
        "  var = False\n",
        "  for s1 in signal1 :\n",
        "    for s2 in signal2 :\n",
        "      if s1 == s2 :\n",
        "        var = True\n",
        "  return var\n",
        "print ( my_function ([1 , 2 , 3] , [2 , 2]) )"
      ],
      "metadata": {
        "colab": {
          "base_uri": "https://localhost:8080/"
        },
        "id": "9F59Z6nKvpGw",
        "outputId": "6cd24234-a079-452c-e6af-ba90076663be"
      },
      "execution_count": null,
      "outputs": [
        {
          "output_type": "stream",
          "name": "stdout",
          "text": [
            "True\n"
          ]
        }
      ]
    },
    {
      "cell_type": "code",
      "source": [
        "# Câu 26: a\n",
        "def my_function ( data ) :\n",
        "  var = []\n",
        "  for i in data :\n",
        "    if i %3 == 0:\n",
        "      var . append ( i )\n",
        "  return var\n",
        "\n",
        "print ( my_function ([1 , 2 , 3 , 5 , 6]) )\n"
      ],
      "metadata": {
        "colab": {
          "base_uri": "https://localhost:8080/"
        },
        "id": "u9t4MC7u4_DM",
        "outputId": "d644dcb9-9b80-4612-f936-e1858d0ebbc4"
      },
      "execution_count": null,
      "outputs": [
        {
          "output_type": "stream",
          "name": "stdout",
          "text": [
            "[3, 6]\n"
          ]
        }
      ]
    },
    {
      "cell_type": "code",
      "source": [
        "# Câu 27: a\n",
        "def my_function ( x ) :\n",
        "  for i in range ( x ) :\n",
        "    for j in range ( x ) :\n",
        "      if i == j :\n",
        "        print (\"1 \", end =\" \")\n",
        "      else :\n",
        "        print (\"0 \", end =\" \")\n",
        "    print ()\n",
        "my_function (2)\n"
      ],
      "metadata": {
        "colab": {
          "base_uri": "https://localhost:8080/"
        },
        "id": "68kdmYPK4_ya",
        "outputId": "faa350fd-0099-416a-cbbd-d36c748ec680"
      },
      "execution_count": null,
      "outputs": [
        {
          "output_type": "stream",
          "name": "stdout",
          "text": [
            "1  0  \n",
            "0  1  \n"
          ]
        }
      ]
    },
    {
      "cell_type": "code",
      "source": [
        "# Câu 28: c\n",
        "def my_function ( y ) :\n",
        "  var = 1\n",
        "  while ( y > 1) :\n",
        "    var = var * y\n",
        "    y = y - 1\n",
        "  return var\n",
        "\n",
        "print ( my_function (4) )\n"
      ],
      "metadata": {
        "colab": {
          "base_uri": "https://localhost:8080/"
        },
        "id": "19H3fLcV4_81",
        "outputId": "4e0ae230-1523-46aa-affc-4a656843e947"
      },
      "execution_count": null,
      "outputs": [
        {
          "output_type": "stream",
          "name": "stdout",
          "text": [
            "24\n"
          ]
        }
      ]
    },
    {
      "cell_type": "code",
      "source": [
        "# Câu 29: a\n",
        "def my_function ( signal ) :\n",
        "  var = True\n",
        "  while var :\n",
        "    var = False\n",
        "    for i in range (len ( signal ) - 1) :\n",
        "      if signal [ i ] > signal [ i + 1]:\n",
        "        signal [ i ] , signal [ i + 1] = signal [ i + 1] , signal [ i ]\n",
        "        var = True\n",
        "\n",
        "my_signal = [1 , 2 , 3 , 0]\n",
        "my_function ( my_signal )\n",
        "print ( my_signal )"
      ],
      "metadata": {
        "colab": {
          "base_uri": "https://localhost:8080/"
        },
        "id": "N5vuJV225AGL",
        "outputId": "46e03681-73a7-4e85-895b-3e9262bb16be"
      },
      "execution_count": null,
      "outputs": [
        {
          "output_type": "stream",
          "name": "stdout",
          "text": [
            "[0, 1, 2, 3]\n"
          ]
        }
      ]
    },
    {
      "cell_type": "code",
      "source": [
        "# Câu 30: a\n",
        "def sum_function ( num1 , num2 ) :\n",
        "  '''\n",
        "  Sum of two numbers\n",
        "  input : num1 , num2\n",
        "  output : num1 + num2\n",
        "  '''\n",
        "  return num1 + num1\n",
        "print ( sum_function . __doc__ )"
      ],
      "metadata": {
        "colab": {
          "base_uri": "https://localhost:8080/"
        },
        "id": "iSNm3w3H5AOH",
        "outputId": "833b4303-74dc-4cc7-edf8-ebe2099a239c"
      },
      "execution_count": null,
      "outputs": [
        {
          "output_type": "stream",
          "name": "stdout",
          "text": [
            "\n",
            "  Sum of two numbers\n",
            "  input : num1 , num2\n",
            "  output : num1 + num2\n",
            "  \n"
          ]
        }
      ]
    },
    {
      "cell_type": "code",
      "source": [
        "# Câu 31: b\n",
        "def my_function ( x ) : # Đảo ký tự từ\n",
        "  res = \"\"\n",
        "  for i in x :\n",
        "    res = i + res\n",
        "  return res\n",
        "\n",
        "x = 'apricot'\n",
        "print ( my_function ( x ) )"
      ],
      "metadata": {
        "colab": {
          "base_uri": "https://localhost:8080/"
        },
        "id": "xqPEh_-x5AWU",
        "outputId": "91525414-7743-4e5c-cbbe-a86d5a82ad0b"
      },
      "execution_count": null,
      "outputs": [
        {
          "output_type": "stream",
          "name": "stdout",
          "text": [
            "tocirpa\n"
          ]
        }
      ]
    },
    {
      "cell_type": "code",
      "source": [
        "# Câu 32: c\n",
        "def function_helper ( x) : # x=0\n",
        "  if x > 0:\n",
        "    return 'T'\n",
        "  else :\n",
        "    return 'N'\n",
        "\n",
        "def my_function ( data ) :\n",
        "  res = [ function_helper ( x ) for x in data ]\n",
        "  return res\n",
        "\n",
        "data = [2 , 3 , 5 , -1]\n",
        "print ( my_function ( data ) )"
      ],
      "metadata": {
        "colab": {
          "base_uri": "https://localhost:8080/"
        },
        "id": "f8GZtvTm5Aei",
        "outputId": "af00ff56-a6d3-418e-fcc0-82a75f9ec85f"
      },
      "execution_count": null,
      "outputs": [
        {
          "output_type": "stream",
          "name": "stdout",
          "text": [
            "['T', 'T', 'T', 'N']\n"
          ]
        }
      ]
    },
    {
      "cell_type": "code",
      "source": [
        "# Câu 33: a\n",
        "def function_helper (x , data ) :\n",
        "  for i in data :\n",
        "    if x == i :\n",
        "      return 0\n",
        "  return 1\n",
        "def my_function ( data ) :\n",
        "  res = []\n",
        "  for i in data :\n",
        "    if function_helper (i , res ) :\n",
        "      res . append ( i )\n",
        "  return res\n",
        "lst = [9 , 9 , 8 , 1 , 1]\n",
        "print ( my_function ( lst ) )\n"
      ],
      "metadata": {
        "colab": {
          "base_uri": "https://localhost:8080/"
        },
        "id": "58qN17W45Am8",
        "outputId": "a2b8764b-fbdd-441e-917f-e4155baec65c"
      },
      "execution_count": null,
      "outputs": [
        {
          "output_type": "stream",
          "name": "stdout",
          "text": [
            "[9, 8, 1]\n"
          ]
        }
      ]
    },
    {
      "cell_type": "code",
      "source": [
        "# Câu"
      ],
      "metadata": {
        "id": "dDdWZgOX5Avg"
      },
      "execution_count": null,
      "outputs": []
    },
    {
      "cell_type": "code",
      "source": [],
      "metadata": {
        "id": "3HSOOjaxvpJx"
      },
      "execution_count": null,
      "outputs": []
    },
    {
      "cell_type": "code",
      "source": [
        "# DAY 34_Work with Image Data:\n",
        "'''\n",
        "OpenCV cung cấp hai hàm để thực hiện bộ lọc Gauss\n",
        "cv2.GaussianBlur: Hàm này cung cấp một cách đơn giản để áp dụng bộ lọc Gauss.\n",
        "cv2.filter2D: Hàm này cho phép áp dụng một ma trận tùy ý lên ảnh, bao gồm cả ma trận Gauss.\n",
        "'''\n",
        "import cv2\n",
        "# Load image\n",
        "img = cv2.imread ('image . png')  # Đường dẫn ???\n",
        "if img is None:\n",
        "    print(\"Error: Image not found\")\n",
        "    exit()\n",
        "# Apply Gaussian Filter with kernel matrix 5x5 , sigma = 1\n",
        "mg_filtered = cv2.GaussianBlur (img ,(5 , 5), 1)"
      ],
      "metadata": {
        "id": "6UgSLE-_SjEG"
      },
      "execution_count": null,
      "outputs": []
    },
    {
      "cell_type": "code",
      "source": [
        "def gaussian_kernel(size , sigma):\n",
        "if size % 2 == 0:\n",
        "size = size + 1\n",
        "\n",
        "max_point = size // 2 # both directions (x,y) maximum cell start point\n",
        "min_point = - max_point # both directions (x,y) minimum cell start point\n",
        "K = np.zeros (( size , size ) ) # kernel matrix\n",
        "for x in range( min_point , max_point + 1):\n",
        "for y in range( min_point , max_point + 1):\n",
        "value = # Gaussian Filter Forumla Here #\n",
        "K[x - min_point , y - min_point] = value\n",
        "\n",
        "return K\n",
        "\n",
        "kernel = gaussian_kernel(5 , 1.4)\n",
        "img = cv2.imread(\" image_path \", 0)\n",
        "img_gaussian = cv2.filter2D(img , -1 , kernel)"
      ],
      "metadata": {
        "id": "vulpnrW3TMX4"
      },
      "execution_count": null,
      "outputs": []
    },
    {
      "cell_type": "code",
      "source": [],
      "metadata": {
        "id": "UDgnY98PVAd2"
      },
      "execution_count": null,
      "outputs": []
    },
    {
      "cell_type": "code",
      "source": [
        "#DAY 35_Work with SQLite Database: Làm quen với Cơ sở dữ liệu SQLite\n",
        "\n",
        "# Tạo Bảng CUSTOMERS gồm 3 cột email , name , phone với email là khóa chính\n",
        "CREATE TABLE customers (\n",
        "email TEXT PRIMARY KEY ,\n",
        "name TEXT NOT NULL ,\n",
        "phone TEXT ) ;\n",
        "\n",
        "#lấy hết dữ liệu của toàn bộ cột trong bảng và lấy dữ liệu từ các cột được chỉ định\n",
        "SELECT column1 , column2 , ...\n",
        "FROM table_name ;\n",
        "\n",
        "# Lấy toàn bộ dữ liệu của tất cả cột trong bảng CUSTOMERS\n",
        "SELECT *\n",
        "FROM CUSTOMERS ;\n",
        "\n",
        "# Lấy dữ liệu theo điều kiện email = giá trị truy ền vào từ bảng CUSTOMERS\n",
        "SELECT NAME , PHONE\n",
        "FROM CUSTOMERS\n",
        "WHERRE 1 = 1\n",
        "AND EMAIL = ' aivietnam@aivietnam . edu .vn ';\n",
        "\n",
        "# thêm dữ liệu vào bảng\n",
        "INSERT INTO table_name ( column1 , column2 , column3 , ...)\n",
        "VALUES ( value1 , value2 , value3 , ...) ;\n",
        "\n",
        "# Thêm mới 1 dòng trong bảng CUSTOMERS\n",
        "INSERT INTO CUSTOMERS ( EMAIL , NAME , PHONE )\n",
        "VALUES ( 'guyen@nguyen . com ', 'Nguyen ', '123456789 ') ;\n",
        "\n",
        "# Thêm mới nhi ều dòng trong bảng CUSTOMERS\n",
        "INSERT INTO CUSTOMERS ( EMAIL , NAME , PHONE )\n",
        "VALUES\n",
        "(' nguyen@aivietnam . edu .vn ', 'Nguyen', '123456789') ,\n",
        "(' admin@aivietnam . edu .vn ', 'Vinh ', '1122334455 ') ;\n",
        "\n",
        "# cập nhật dữ liệu vào bảng\n",
        "UPDATE table_name\n",
        "SET column1 = value1 , column2 = value2 , ...\n",
        "WHERE condition ;\n",
        "\n",
        "# Cập nhật tên của email là nguyen@aivietnam . edu .vn thành Hoang Nguyen\n",
        "UPDATE CUSTOMERS\n",
        "SET NAME = 'Hoang Nguyen'\n",
        "WHERE 1 = 1\n",
        "AND EMAIL = 'nguyen@aivietnam . edu .vn ';\n",
        "\n",
        "# xóa dữ liệu khỏi bảng\n",
        "DELETE FROM table_name\n",
        "WHERE condition ;\n",
        "\n",
        "# Xóa email : nguyen@aivietnam . edu .vn khỏi bảng CUSTOMERS\n",
        "DELETE FROM CUSTOMERS\n",
        "WHERE 1 = 1\n",
        "AND EMAIL = ' nguyen@aivietnam . edu .vn ';"
      ],
      "metadata": {
        "id": "RENORMS6VAlL"
      },
      "execution_count": null,
      "outputs": []
    },
    {
      "cell_type": "code",
      "source": [
        "import sqlite3\n",
        "#Tạo kết nối tới CSDL có tên là database . sqlite\n",
        "#Nếu database . sqlite chưa tồn tại trong hệ thống thì nó sẽ tự tạo mới\n",
        "connection = sqlite3 . connect ('database . sqlite')\n",
        "\n",
        "#Object có tên cursor nhằm giúp chúng ta thực thi và tương tác các câu lệnh truy vấn\n",
        "# (SELECT, INSERT, UPDATE, DELETE,...) đến cơ sở dữ liệu.\n",
        "cursor = connection . cursor ()\n",
        "\n",
        "# Tạo bảng CUSTOMERS :\n",
        "cursor . execute (\"\"\"\n",
        "CREATE TABLE CUSTOMERS (\n",
        "EMAIL TEXT PRIMARY KEY ,\n",
        "NAME TEXT NOT NULL ,\n",
        "PHONE TEXT NOT NULL\n",
        " );\n",
        " \"\"\" )"
      ],
      "metadata": {
        "id": "8UCeVdw8VAn-",
        "colab": {
          "base_uri": "https://localhost:8080/"
        },
        "outputId": "2117d6e2-d956-427b-8879-89823f640b9f"
      },
      "execution_count": null,
      "outputs": [
        {
          "output_type": "execute_result",
          "data": {
            "text/plain": [
              "<sqlite3.Cursor at 0x7b2c302b2fc0>"
            ]
          },
          "metadata": {},
          "execution_count": 2
        }
      ]
    },
    {
      "cell_type": "code",
      "source": [
        "# Insert data mới\n",
        "cursor . execute (\"\"\"\n",
        "INSERT INTO CUSTOMERS (EMAIL , NAME , PHONE )\n",
        "VALUES\n",
        "( 'nguyen@aivietnam . edu .vn ', 'Nguyen ', '123456789 ') ,\n",
        "( 'admin@aivietnam . edu .vn ', 'Vinh ', '1122334455 ') ;\n",
        " \"\"\" )\n",
        "connection . commit () # cần phải thực bước commit để lưu những thay đổi này vào CSDL"
      ],
      "metadata": {
        "id": "4em5v_HY6A5W"
      },
      "execution_count": null,
      "outputs": []
    },
    {
      "cell_type": "code",
      "source": [
        "import pandas as pd\n",
        "# Lấy tất cả data từ bảng CUSTOMER\n",
        "data = pd . read_sql_query (\" SELECT * FROM CUSTOMERS \", connection )\n",
        "print ( data )"
      ],
      "metadata": {
        "colab": {
          "base_uri": "https://localhost:8080/"
        },
        "id": "29RnjPbY2Adt",
        "outputId": "3010dddc-47f1-4131-ae88-7ff1b69f0675"
      },
      "execution_count": null,
      "outputs": [
        {
          "output_type": "stream",
          "name": "stdout",
          "text": [
            "                         EMAIL     NAME        PHONE\n",
            "0  nguyen@aivietnam . edu .vn   Nguyen    123456789 \n",
            "1   admin@aivietnam . edu .vn     Vinh   1122334455 \n"
          ]
        }
      ]
    },
    {
      "cell_type": "code",
      "source": [
        "# Update name của email : nguyen@aivietnam . edu .vn\n",
        "cursor . execute (\"\"\"\n",
        "UPDATE CUSTOMERS\n",
        "SET NAME = 'Hoang Nguyen'\n",
        "WHERE 1 = 1\n",
        "AND EMAIL = 'nguyen@aivietnam . edu .vn ';\n",
        "\"\"\" )\n",
        "connection . commit ()\n",
        "\n",
        "data = pd . read_sql_query (\" SELECT * FROM CUSTOMERS \", connection )\n",
        "print ( data )"
      ],
      "metadata": {
        "colab": {
          "base_uri": "https://localhost:8080/"
        },
        "id": "9QmQssJf17gH",
        "outputId": "7ad4bd7e-46f2-4450-b433-083b6f48f98c"
      },
      "execution_count": null,
      "outputs": [
        {
          "output_type": "stream",
          "name": "stdout",
          "text": [
            "                         EMAIL          NAME        PHONE\n",
            "0  nguyen@aivietnam . edu .vn   Hoang Nguyen   123456789 \n",
            "1   admin@aivietnam . edu .vn          Vinh   1122334455 \n"
          ]
        }
      ]
    },
    {
      "cell_type": "code",
      "source": [
        "# Update name của email : nguyen@aivietnam . edu .vn\n",
        "cursor . execute (\"\"\"\n",
        "DELETE FROM CUSTOMERS\n",
        "WHERE 1 = 1\n",
        "AND EMAIL = 'nguyen@aivietnam.edu.vn';\n",
        " \"\"\" )\n",
        "\n",
        "connection . commit ()\n",
        "\n",
        "data = pd . read_sql_query (\" SELECT * FROM CUSTOMERS \", connection )\n",
        "print ( data )\n"
      ],
      "metadata": {
        "id": "3V6Gr6xnVAql",
        "colab": {
          "base_uri": "https://localhost:8080/"
        },
        "outputId": "8305c487-7f46-4a9c-b93c-7c0cdda7e1f3"
      },
      "execution_count": null,
      "outputs": [
        {
          "output_type": "stream",
          "name": "stdout",
          "text": [
            "                         EMAIL          NAME        PHONE\n",
            "0  nguyen@aivietnam . edu .vn   Hoang Nguyen   123456789 \n",
            "1   admin@aivietnam . edu .vn          Vinh   1122334455 \n"
          ]
        }
      ]
    },
    {
      "cell_type": "code",
      "source": [
        "import sqlite3\n",
        "#Tạo kết nối tới CSDL có tên là database. product\n",
        "connection = sqlite3 . connect ('database. product')\n",
        "\n",
        "#Object có tên cursor nhằm giúp chúng ta thực thi và tương tác các câu lệnh truy vấn\n",
        "# (SELECT, INSERT, UPDATE, DELETE,...) đến cơ sở dữ liệu.\n",
        "cursor = connection . cursor ()\n",
        "\n",
        "# Tạo bảng CUSTOMERS :\n",
        "cursor . execute (\"\"\"\n",
        "CREATE TABLE CUSTOMERS (\n",
        "ID INTEGER PRIMARY KEY ,\n",
        "NAME TEXT NOT NULL ,\n",
        "PRICE INTERGER NOT NULL\n",
        " );\n",
        " \"\"\" )"
      ],
      "metadata": {
        "colab": {
          "base_uri": "https://localhost:8080/"
        },
        "id": "xY4r-0TC3NuI",
        "outputId": "e0b243a2-17eb-4d3a-cfbd-ef79f6b72bc0"
      },
      "execution_count": null,
      "outputs": [
        {
          "output_type": "execute_result",
          "data": {
            "text/plain": [
              "<sqlite3.Cursor at 0x7d9cec2ed2c0>"
            ]
          },
          "metadata": {},
          "execution_count": 10
        }
      ]
    },
    {
      "cell_type": "code",
      "source": [
        "# Insert data mới\n",
        "cursor . execute (\"\"\"\n",
        "INSERT INTO CUSTOMERS (ID , NAME , PRICE )\n",
        "VALUES\n",
        "( '1', 'iPhone 15', '18000000') ,\n",
        "( '2', 'Galaxy Z-Fold 5', '30000000') ;\n",
        " \"\"\" )\n",
        "connection . commit ()"
      ],
      "metadata": {
        "id": "zlBopiwe6DiR"
      },
      "execution_count": null,
      "outputs": []
    },
    {
      "cell_type": "code",
      "source": [
        "import pandas as pd\n",
        "# Lấy tất cả data từ bảng CUSTOMER\n",
        "data = pd . read_sql_query (\" SELECT * FROM CUSTOMERS \", connection )\n",
        "print ( data )"
      ],
      "metadata": {
        "colab": {
          "base_uri": "https://localhost:8080/"
        },
        "id": "E3v-mPBQ6mNz",
        "outputId": "fe17a70a-efc0-4cff-e129-9104dd7f8851"
      },
      "execution_count": null,
      "outputs": [
        {
          "output_type": "stream",
          "name": "stdout",
          "text": [
            "   ID             NAME     PRICE\n",
            "0   1        iPhone 15  18000000\n",
            "1   2  Galaxy Z-Fold 5  30000000\n"
          ]
        }
      ]
    },
    {
      "cell_type": "code",
      "source": [
        "# cập nhật giá mới cho Galaxy Z-Fold 5 thành 50.000.000\n",
        "cursor . execute (\"\"\"\n",
        "UPDATE CUSTOMERS\n",
        "SET PRICE = '50000000'\n",
        "WHERE 1 = 1\n",
        "AND ID = '2';\n",
        "\"\"\" )\n",
        "connection . commit ()\n",
        "\n",
        "data = pd . read_sql_query (\" SELECT * FROM CUSTOMERS \", connection )\n",
        "print ( data )"
      ],
      "metadata": {
        "colab": {
          "base_uri": "https://localhost:8080/"
        },
        "id": "dAoD9wIG6ydd",
        "outputId": "9221edd3-8c0d-4654-e07f-20b0802d4de8"
      },
      "execution_count": null,
      "outputs": [
        {
          "output_type": "stream",
          "name": "stdout",
          "text": [
            "   ID             NAME     PRICE\n",
            "0   1        iPhone 15  18000000\n",
            "1   2  Galaxy Z-Fold 5  50000000\n"
          ]
        }
      ]
    },
    {
      "cell_type": "code",
      "source": [
        "# Xóa iPhone 15 ra khỏi CSDL\n",
        "cursor . execute (\"\"\"\n",
        "DELETE FROM CUSTOMERS\n",
        "WHERE 1 = 1\n",
        "AND ID = '1';\n",
        " \"\"\" )\n",
        "\n",
        "connection . commit ()\n",
        "\n",
        "data = pd . read_sql_query (\" SELECT * FROM CUSTOMERS \", connection )\n",
        "print ( data )\n"
      ],
      "metadata": {
        "colab": {
          "base_uri": "https://localhost:8080/"
        },
        "id": "a5LV64Pt7Nvm",
        "outputId": "7a948714-6a25-479a-bf16-b618285ca825"
      },
      "execution_count": null,
      "outputs": [
        {
          "output_type": "stream",
          "name": "stdout",
          "text": [
            "   ID             NAME     PRICE\n",
            "0   2  Galaxy Z-Fold 5  50000000\n"
          ]
        }
      ]
    },
    {
      "cell_type": "code",
      "source": [
        "#DAY 36_Work with SQLite Database: Làm quen với Cơ sở dữ liệu SQLite\n",
        "'''\n",
        "– SUM(): Tính tổng của các giá trị trong một cột.\n",
        "– AVG(): Tính trung bình của các giá trị trong một cột.\n",
        "– MIN(): Tìm giá trị nhỏ nhất trong một cột.\n",
        "– MAX(): Tìm giá trị lớn nhất trong một cột.\n",
        "– COUNT(): Đếm số lượng các giá trị trong một cột.\n",
        "'''\n",
        "# Query để lấy tổng giá bán toàn bộ sản phẩm trong bảng Product\n",
        "query = \"\"\"\n",
        "SELECT SUM ( price ) AS total_revenue\n",
        "FROM PRODUCT ;\n",
        "\"\"\"\n",
        "data_sum = pd . read_sql_query ( query , connection )\n",
        "print ( data_sum )\n",
        "\n",
        "# Query để lấy thông tin sản phẩm có giá bán cao nhất\n",
        "query = \"\"\"\n",
        "SELECT NAME , MAX ( price ) AS PRICE\n",
        "FROM PRODUCT ;\n",
        "\"\"\"\n",
        "data_max = pd . read_sql_query ( query , connection )\n",
        "print ( data_max )\n",
        "\n",
        "# Query để lấy tổng giá bán toàn bộ sản phẩm theo hãng trong bảng Product\n",
        "query = \"\"\"\n",
        "SELECT BRAND , SUM( price ) AS total_revenue\n",
        "FROM PRODUCT\n",
        "GROUP BY BRAND ;\n",
        "\"\"\"\n",
        "data_sum_by_brand = pd . read_sql_query ( query , connection )\n",
        "print ( data_sum_by_brand )\n",
        "\n",
        "# Query để lấy thông tin sản phẩm có giá bán thấp nhất theo Hãng\n",
        "query = \"\"\"\n",
        "SELECT NAME , BRAND , MIN ( price ) AS PRICE\n",
        "FROM PRODUCT\n",
        "GROUP BY BRAND ;\n",
        "\"\"\"\n",
        "data_min_by_brand = pd . read_sql_query ( query , connection )\n",
        "print ( data_min_by_brand )"
      ],
      "metadata": {
        "id": "NsvzQOCO7msl"
      },
      "execution_count": null,
      "outputs": []
    },
    {
      "cell_type": "code",
      "source": [
        "import sqlite3\n",
        "# tạo mới bảng có tên STOCK1\n",
        "#Tạo kết nối tới CSDL có tên là database.STOCK\n",
        "connection1 = sqlite3.connect ('database.STOCK1')\n",
        "\n",
        "#Object có tên cursor nhằm giúp chúng ta thực thi và tương tác các câu lệnh truy vấn\n",
        "# (SELECT, INSERT, UPDATE, DELETE,...) đến cơ sở dữ liệu database.STOCK\n",
        "cursor1 = connection1.cursor()\n",
        "\n",
        "# Tạo bảng STOCK :\n",
        "cursor1.execute (\"\"\"\n",
        "CREATE TABLE STOCK1 (\n",
        "ID INTEGER PRIMARY KEY,\n",
        "NAME TEXT NOT NULL,\n",
        "BUY INTERGER NOT NULL,\n",
        "INVESTER TEXT NOT NULL\n",
        " );\n",
        " \"\"\" )"
      ],
      "metadata": {
        "colab": {
          "base_uri": "https://localhost:8080/"
        },
        "id": "Wm1DjUetzu7n",
        "outputId": "7036a60a-1f3a-4008-e838-79f63a6876ab"
      },
      "execution_count": null,
      "outputs": [
        {
          "output_type": "execute_result",
          "data": {
            "text/plain": [
              "<sqlite3.Cursor at 0x7b2c02ab2840>"
            ]
          },
          "metadata": {},
          "execution_count": 18
        }
      ]
    },
    {
      "cell_type": "code",
      "source": [
        "# Insert data mới\n",
        "cursor1. execute (\"\"\"\n",
        "INSERT INTO STOCK1 (ID , NAME , BUY, INVESTER )\n",
        "VALUES\n",
        "( '1', 'ACB', '29.45', 'Nguyen'),\n",
        "( '2', 'VIC', '44.55', 'Nguyen'),\n",
        "( '3', 'GMD', '74.30', 'Nguyen'),\n",
        "( '4', 'ACB', '28.45', 'Vinh'),\n",
        "( '5', 'VIC', '40.55', 'Vinh'),\n",
        "( '6', 'GMD', '60.30', 'Vinh');\n",
        " \"\"\" )\n",
        "connection1 . commit ()\n",
        "import pandas as pd\n",
        "# Lấy tất cả data từ bảng STOCK\n",
        "data = pd . read_sql_query (\" SELECT * FROM STOCK1 \", connection1 )\n",
        "print ( data )"
      ],
      "metadata": {
        "colab": {
          "base_uri": "https://localhost:8080/"
        },
        "id": "Fq-Qe1q_0qn1",
        "outputId": "a51983de-df6c-40a0-ddf7-5a8334d3c262"
      },
      "execution_count": null,
      "outputs": [
        {
          "output_type": "stream",
          "name": "stdout",
          "text": [
            "   ID NAME    BUY INVESTER\n",
            "0   1  ACB  29.45   Nguyen\n",
            "1   2  VIC  44.55   Nguyen\n",
            "2   3  GMD  74.30   Nguyen\n",
            "3   4  ACB  28.45     Vinh\n",
            "4   5  VIC  40.55     Vinh\n",
            "5   6  GMD  60.30     Vinh\n"
          ]
        }
      ]
    },
    {
      "cell_type": "code",
      "source": [
        "#  truy vấn và in ra kết quả thống kê tổng giá bán (BUY) của bảng STOCK1\n",
        "query = \"\"\"\n",
        "SELECT SUM (BUY) AS total_revenue\n",
        "FROM STOCK1 ;\n",
        "\"\"\"\n",
        "data_sum = pd . read_sql_query ( query , connection1 )\n",
        "print ( data_sum )\n"
      ],
      "metadata": {
        "colab": {
          "base_uri": "https://localhost:8080/"
        },
        "id": "nEoCH9wd2p1F",
        "outputId": "096a56b7-c502-47db-afc9-8ce49955d420"
      },
      "execution_count": null,
      "outputs": [
        {
          "output_type": "stream",
          "name": "stdout",
          "text": [
            "   total_revenue\n",
            "0          277.6\n"
          ]
        }
      ]
    },
    {
      "cell_type": "code",
      "source": [
        "#  thống kê mã cổ phiếu có giá mua (BUY) lớn nhất theo nhà đầu tư (Investor)\n",
        "# Query để lấy thông tin sản phẩm có giá bán thấp nhất theo Hãng\n",
        "query = \"\"\"\n",
        "SELECT NAME , INVESTER , MAX ( buy ) AS BUY\n",
        "FROM STOCK1\n",
        "GROUP BY INVESTER ;\n",
        "\"\"\"\n",
        "data_max_by_Invester = pd . read_sql_query ( query , connection1 )\n",
        "print ( data_max_by_Invester )"
      ],
      "metadata": {
        "colab": {
          "base_uri": "https://localhost:8080/"
        },
        "id": "HPE2ndNy6E6-",
        "outputId": "7c12eb36-329b-4a0d-e0e4-5b4996892d07"
      },
      "execution_count": null,
      "outputs": [
        {
          "output_type": "stream",
          "name": "stdout",
          "text": [
            "  NAME INVESTER   BUY\n",
            "0  GMD   Nguyen  74.3\n",
            "1  GMD     Vinh  60.3\n"
          ]
        }
      ]
    },
    {
      "cell_type": "code",
      "source": [
        "# DAY 37_ thư viện PyPDF, cho phép thao tác với file pdf\n"
      ],
      "metadata": {
        "id": "Ya3dvolDZr4S"
      },
      "execution_count": null,
      "outputs": []
    },
    {
      "cell_type": "code",
      "source": [
        "# DAY 38_ Getting Started with WandB. thư viện  được sử dụng nhiều để lưu thông tin log.\n",
        "'''\n",
        "WandB hay còn gọi là Weights and Biases là một công cụ giúp các Data Scientist\n",
        "theo dõi mô hình, dữ liệu, thông tin hệ thống chỉ với vài dòng code.\n",
        "Các thông tin cần quản lý và theo dõi sẽ được chuyển tới một giao diện (UI)\n",
        "của Weights & Biases. Giao diện này sẽ hiển thị và phân tích thông tin dễ dàng,\n",
        "việc so sánh các mô hình cũng như các tham số của nhiều thử nghiệm cũng diễn\n",
        "ra một cách nhanh chóng và trực tiếp.\n",
        "'''\n",
        "\n"
      ],
      "metadata": {
        "id": "0ZFoTq4c67dt"
      },
      "execution_count": null,
      "outputs": []
    },
    {
      "cell_type": "code",
      "source": [
        "# DAY 40_ Numpy Array và Pytorch/Tensorflow Tensor\n",
        "\n",
        "import numpy as np\n",
        "import torch\n",
        "import tensorflow as tf\n",
        "\n",
        "# Tạo một danh sách 1 chiều\n",
        "list_1D = [1 , 2 , 3 , 4 , 5 , 6 , 7 , 8 , 9]\n",
        "\n",
        "# Tạo một mảng 1 chiều từ danh sách\n",
        "arr_1D = np . array ( list_1D )\n",
        "print (\"Mảng 1 chiều NumPy :\\n\",\n",
        "arr_1D , type ( arr_1D ) )\n",
        "\n",
        "# Tạo một tensor PyTorch từ danh sách\n",
        "tensor_1D_pt = torch . tensor ( list_1D )\n",
        "print (\"\\n Tensor PyTorch 1 chiều:\\n\",\n",
        "tensor_1D_pt, type ( tensor_1D_pt ) )\n",
        "\n",
        "# Tạo một tensor TensorFlow từ danh sách\n",
        "tensor_1D_tf = tf . convert_to_tensor (list_1D )\n",
        "#tensor_1D_tf = tf.constant(list_1D)\n",
        "print (\"\\n Tensor TensorFlow 1 chiều:\\n\",\n",
        "tensor_1D_tf )"
      ],
      "metadata": {
        "colab": {
          "base_uri": "https://localhost:8080/"
        },
        "id": "QaEzzG3r39pe",
        "outputId": "17db753d-73c3-450e-879e-b0d79f6ee6bf"
      },
      "execution_count": 4,
      "outputs": [
        {
          "output_type": "stream",
          "name": "stdout",
          "text": [
            "Mảng 1 chiều NumPy :\n",
            " [1 2 3 4 5 6 7 8 9] <class 'numpy.ndarray'>\n",
            "\n",
            " Tensor PyTorch 1 chiều:\n",
            " tensor([1, 2, 3, 4, 5, 6, 7, 8, 9]) <class 'torch.Tensor'>\n",
            "\n",
            " Tensor TensorFlow 1 chiều:\n",
            " tf.Tensor([1 2 3 4 5 6 7 8 9], shape=(9,), dtype=int32)\n"
          ]
        }
      ]
    },
    {
      "cell_type": "code",
      "source": [
        "# NumPy code\n",
        "import numpy as np\n",
        "# Tạo một danh sách 2 chiều\n",
        "list_2D = [[1 , 2 , 3],\n",
        "          [4 , 5 , 6],\n",
        "          [7 , 8 , 9]]\n",
        "# Tạo một mảng 2 chiều\n",
        "arr_2D = np . array ( list_2D )\n",
        "# Kiểm tra hình dạng , kiểu dữ liệu và loại\n",
        "print (\"Hình dạng của mảng: \", arr_2D . shape )\n",
        "print (\"Kiểu dữ liệu của mảng: \", arr_2D . dtype )\n",
        "print (\"Loại của mảng: \", type ( arr_2D ) )\n",
        "print (\"Mảng :\\n\", arr_2D )\n"
      ],
      "metadata": {
        "colab": {
          "base_uri": "https://localhost:8080/"
        },
        "id": "XKghj-AW4d_y",
        "outputId": "e91ded06-c99d-4cba-f763-06a06344627a"
      },
      "execution_count": 5,
      "outputs": [
        {
          "output_type": "stream",
          "name": "stdout",
          "text": [
            "Hình dạng của mảng:  (3, 3)\n",
            "Kiểu dữ liệu của mảng:  int64\n",
            "Loại của mảng:  <class 'numpy.ndarray'>\n",
            "Mảng :\n",
            " [[1 2 3]\n",
            " [4 5 6]\n",
            " [7 8 9]]\n"
          ]
        }
      ]
    },
    {
      "cell_type": "code",
      "source": [
        "# PyTorch code\n",
        "import torch\n",
        "\n",
        "# Tạo một danh sách 2 chiều\n",
        "list_2D = [[1 , 2 , 3] ,\n",
        "          [4 , 5 , 6] ,\n",
        "          [7 , 8 , 9]]\n",
        "# Tạo một tensor 2 chiều\n",
        "tensor_2D_pt = torch . tensor ( list_2D )\n",
        "\n",
        "# Kiểm tra hình dạng , kiểu dữ liệu, loại, thiết bị lưu trữ của tensor\n",
        "print (\"Hình dạng của tensor : \", tensor_2D_pt . shape )\n",
        "print (\"Kiểu dữ liệu của tensor : \", tensor_2D_pt . dtype )\n",
        "print (\"Loại của tensor : \", type ( tensor_2D_pt ) )\n",
        "print (\"Thiết bị lưu trữ của tensor : \", tensor_2D_pt . device )\n",
        "print (\"\\n\", tensor_2D_pt )"
      ],
      "metadata": {
        "colab": {
          "base_uri": "https://localhost:8080/"
        },
        "id": "CTiWRR1-54vr",
        "outputId": "ca8034bd-e54f-48bf-90a7-8d6e80e9eec0"
      },
      "execution_count": 8,
      "outputs": [
        {
          "output_type": "stream",
          "name": "stdout",
          "text": [
            "Hình dạng của tensor :  torch.Size([3, 3])\n",
            "Kiểu dữ liệu của tensor :  torch.int64\n",
            "Loại của tensor :  <class 'torch.Tensor'>\n",
            "Thiết bị lưu trữ của tensor :  cpu\n",
            "\n",
            " tensor([[1, 2, 3],\n",
            "        [4, 5, 6],\n",
            "        [7, 8, 9]])\n"
          ]
        }
      ]
    },
    {
      "cell_type": "code",
      "source": [
        "import tensorflow as tf\n",
        "\n",
        "# Tạo một danh sách 2 chiều\n",
        "list_2D = [[1 , 2 , 3] ,\n",
        "          [4 , 5 , 6] ,\n",
        "          [7 , 8 , 9]]\n",
        "# Tạo một tensor 2 chiều từ danh sách\n",
        "tensor_2D_tf = tf . convert_to_tensor (list_2D )\n",
        "#tensor_2D_tf = tf . constant(list_2D)\n",
        "\n",
        "# Kiểm tra hình dạng , kiểu dữ liệu, loại, và thiết bị mà tensor được lưu trữ\n",
        "print (\"Hình dạng của tensor : \", tensor_2D_tf . shape )\n",
        "print (\"Kiểu dữ liệu của tensor : \", tensor_2D_tf . dtype )\n",
        "print (\"Loại của tensor : \", type ( tensor_2D_tf ) )\n",
        "print (\"Thiết bị mà tensor được lưu trữ: \", tensor_2D_tf . device )\n",
        "print ( tensor_2D_tf )\n"
      ],
      "metadata": {
        "colab": {
          "base_uri": "https://localhost:8080/"
        },
        "id": "I8JEEBt26gbG",
        "outputId": "c01b1c64-6ddc-47c0-876a-c9769b841101"
      },
      "execution_count": 10,
      "outputs": [
        {
          "output_type": "stream",
          "name": "stdout",
          "text": [
            "Hình dạng của tensor :  (3, 3)\n",
            "Kiểu dữ liệu của tensor :  <dtype: 'int32'>\n",
            "Loại của tensor :  <class 'tensorflow.python.framework.ops.EagerTensor'>\n",
            "Thiết bị mà tensor được lưu trữ:  /job:localhost/replica:0/task:0/device:CPU:0\n",
            "tf.Tensor(\n",
            "[[1 2 3]\n",
            " [4 5 6]\n",
            " [7 8 9]], shape=(3, 3), dtype=int32)\n"
          ]
        }
      ]
    },
    {
      "cell_type": "code",
      "source": [
        "# Numpy code\n",
        "import numpy as np\n",
        "# Tạo array toàn số 0\n",
        "arr_zeros = np . zeros ((3 , 4))\n",
        "print ( arr_zeros )\n",
        "\n",
        "# Pytorch code\n",
        "import torch\n",
        "# Tạo tensor toàn số 0\n",
        "tensor_zeros = torch . zeros ((3 , 4))\n",
        "print ( tensor_zeros )\n",
        "\n",
        "# Tensorflow code\n",
        "import tensorflow as tf\n",
        "# Tạo tensor toàn số 0\n",
        "tensor_zeros = tf . zeros ((3 , 4))\n",
        "print ( tensor_zeros )"
      ],
      "metadata": {
        "colab": {
          "base_uri": "https://localhost:8080/"
        },
        "id": "2hWf1HFL7PVI",
        "outputId": "cc894c91-1dcb-44b2-8384-041972650a6c"
      },
      "execution_count": 13,
      "outputs": [
        {
          "output_type": "stream",
          "name": "stdout",
          "text": [
            "[[0. 0. 0. 0.]\n",
            " [0. 0. 0. 0.]\n",
            " [0. 0. 0. 0.]]\n",
            "tensor([[0., 0., 0., 0.],\n",
            "        [0., 0., 0., 0.],\n",
            "        [0., 0., 0., 0.]])\n",
            "tf.Tensor(\n",
            "[[0. 0. 0. 0.]\n",
            " [0. 0. 0. 0.]\n",
            " [0. 0. 0. 0.]], shape=(3, 4), dtype=float32)\n"
          ]
        }
      ]
    },
    {
      "cell_type": "code",
      "source": [
        "# Numpy code\n",
        "import numpy as np\n",
        "# Tạo array toàn số 0\n",
        "arr_zeros = np . ones ((3 , 4))\n",
        "print ( arr_zeros )\n",
        "\n",
        "# Pytorch code\n",
        "import torch\n",
        "# Tạo tensor toàn số 0\n",
        "tensor_zeros = torch . ones ((3 , 4))\n",
        "print ( tensor_zeros )\n",
        "\n",
        "# Tensorflow code\n",
        "import tensorflow as tf\n",
        "# Tạo tensor toàn số 0\n",
        "tensor_zeros = tf . ones ((3 , 4))\n",
        "print ( tensor_zeros )"
      ],
      "metadata": {
        "colab": {
          "base_uri": "https://localhost:8080/"
        },
        "id": "BerN7lWdAqoZ",
        "outputId": "da6ded5e-e173-423b-ad91-9596204e4b1f"
      },
      "execution_count": 14,
      "outputs": [
        {
          "output_type": "stream",
          "name": "stdout",
          "text": [
            "[[1. 1. 1. 1.]\n",
            " [1. 1. 1. 1.]\n",
            " [1. 1. 1. 1.]]\n",
            "tensor([[1., 1., 1., 1.],\n",
            "        [1., 1., 1., 1.],\n",
            "        [1., 1., 1., 1.]])\n",
            "tf.Tensor(\n",
            "[[1. 1. 1. 1.]\n",
            " [1. 1. 1. 1.]\n",
            " [1. 1. 1. 1.]], shape=(3, 4), dtype=float32)\n"
          ]
        }
      ]
    },
    {
      "cell_type": "code",
      "source": [
        "# Numpy code\n",
        "import numpy as np\n",
        "# Tạo array toàn số 5\n",
        "arr_full = np . full ((3 , 4) , 5)\n",
        "print ( arr_full )\n",
        "\n",
        "# Pytorch code\n",
        "import torch\n",
        "# Tạo tensor toàn số 5\n",
        "tensor_full = torch . full ((3 , 4) , 5)\n",
        "print ( tensor_full )\n",
        "\n",
        "# Tensorflow code\n",
        "import tensorflow as tf\n",
        "# Tạo tensor toàn số 5\n",
        "tensor_full = tf . fill ((3 , 4) , 5)\n",
        "print ( tensor_full )\n"
      ],
      "metadata": {
        "colab": {
          "base_uri": "https://localhost:8080/"
        },
        "id": "6rrfXb71BUJQ",
        "outputId": "52ef56e4-c9f2-4271-c09c-c8272996f77b"
      },
      "execution_count": 1,
      "outputs": [
        {
          "output_type": "stream",
          "name": "stdout",
          "text": [
            "[[5 5 5 5]\n",
            " [5 5 5 5]\n",
            " [5 5 5 5]]\n",
            "tensor([[5, 5, 5, 5],\n",
            "        [5, 5, 5, 5],\n",
            "        [5, 5, 5, 5]])\n",
            "tf.Tensor(\n",
            "[[5 5 5 5]\n",
            " [5 5 5 5]\n",
            " [5 5 5 5]], shape=(3, 4), dtype=int32)\n"
          ]
        }
      ]
    },
    {
      "cell_type": "code",
      "source": [
        "# Numpy code\n",
        "import numpy as np\n",
        "np . random . seed (2024)\n",
        "\n",
        "# Tạo array trong khoảng [0 , 10) , bước nhảy 1\n",
        "arr_arange = np . arange (10)   # np.arrange(start=0,stop,step=1)\n",
        "print ( arr_arange )\n",
        "\n",
        "# Tạo array với đường chéo chính là 1 , còn lại là 0\n",
        "arr_eye = np . eye (3)\n",
        "print ( arr_eye )\n",
        "\n",
        "# Tạo một mảng với các giá trị ngẫu nhiên trong khoảng [0 , 1) với kích thước (3 , 4)\n",
        "arr_rand = np . random . rand (3 , 4) # np.random.rand (shape)\n",
        "print (\"Mảng ngẫu nhiên trong khoảng [0 , 1) :\\n\", arr_rand )\n",
        "\n",
        "# Tạo một mảng với các giá trị số nguyên ngẫu nhiên trong khoảng [ -10 , 10)\n",
        "arr_randint = np . random . randint ( -10 , 10 , size =(3 , 4) )  # np.random.randint (low, hight, shape)\n",
        "print (\"Mảng ngẫu nhiên trong khoảng [ -10 , 10) :\\n\", arr_randint )"
      ],
      "metadata": {
        "colab": {
          "base_uri": "https://localhost:8080/"
        },
        "id": "v8paJvJC-k4i",
        "outputId": "be69f668-ee52-4f10-884a-751eab92d49a"
      },
      "execution_count": 10,
      "outputs": [
        {
          "output_type": "stream",
          "name": "stdout",
          "text": [
            "[0 1 2 3 4 5 6 7 8 9]\n",
            "[[1. 0. 0.]\n",
            " [0. 1. 0.]\n",
            " [0. 0. 1.]]\n",
            "Mảng ngẫu nhiên trong khoảng [0 , 1) :\n",
            " [[0.58801452 0.69910875 0.18815196 0.04380856]\n",
            " [0.20501895 0.10606287 0.72724014 0.67940052]\n",
            " [0.4738457  0.44829582 0.01910695 0.75259834]]\n",
            "Mảng ngẫu nhiên trong khoảng [ -10 , 10) :\n",
            " [[ 5  1 -3  8]\n",
            " [-1 -4  0 -9]\n",
            " [-5  9 -6 -2]]\n"
          ]
        }
      ]
    },
    {
      "cell_type": "code",
      "source": [
        "# Pytorch code\n",
        "import torch\n",
        "torch . manual_seed (2024)\n",
        "\n",
        "# Tạo tensor trong khoảng [0 , 10) , bước nhảy 1\n",
        "tensor_arange = torch . arange (10)   # torch.arrange(start=0,stop,step=1)\n",
        "print ( tensor_arange )\n",
        "\n",
        "# Tạo tensor với đường chéo chính là 1 , còn lại là 0\n",
        "tensor_eye = torch . eye (3)\n",
        "print ( tensor_eye )\n",
        "\n",
        "# Tạo một mảng với các giá trị ngẫu nhiên trong khoảng [0 , 1) với kích thước (3 , 4)\n",
        "tensor_rand = torch . rand (3 , 4) # torch.rand (shape)\n",
        "print (\"Mảng ngẫu nhiên trong khoảng [0 , 1) :\\n\", tensor_rand )\n",
        "\n",
        "# Tạo một mảng với các giá trị số nguyên ngẫu nhiên trong khoảng [ -10 , 10)\n",
        "tensor_randint = torch . randint ( -10 , 10 , size =(3 , 4) )  # torch.randint(low, hight, shape)\n",
        "print (\"Mảng ngẫu nhiên trong khoảng [ -10 , 10) :\\n\", tensor_randint )"
      ],
      "metadata": {
        "colab": {
          "base_uri": "https://localhost:8080/"
        },
        "id": "wY7cgG69AFib",
        "outputId": "da59e607-8097-4906-d93e-ce01e320468c"
      },
      "execution_count": 11,
      "outputs": [
        {
          "output_type": "stream",
          "name": "stdout",
          "text": [
            "tensor([0, 1, 2, 3, 4, 5, 6, 7, 8, 9])\n",
            "tensor([[1., 0., 0.],\n",
            "        [0., 1., 0.],\n",
            "        [0., 0., 1.]])\n",
            "Mảng ngẫu nhiên trong khoảng [0 , 1) :\n",
            " tensor([[0.5317, 0.8313, 0.9718, 0.1193],\n",
            "        [0.1669, 0.3495, 0.2150, 0.6201],\n",
            "        [0.4849, 0.7492, 0.1521, 0.5625]])\n",
            "Mảng ngẫu nhiên trong khoảng [ -10 , 10) :\n",
            " tensor([[  1,   8,   0,  -2],\n",
            "        [ -9, -10,  -9,   0],\n",
            "        [ -3,  -7,  -4,   8]])\n"
          ]
        }
      ]
    },
    {
      "cell_type": "code",
      "source": [
        "# Tensorflow code\n",
        "import tensorflow as tf\n",
        "tf . random . set_seed (2024)\n",
        "\n",
        "# Tạo tensor trong khoảng [0 , 10) , bước nhảy 1\n",
        "tf_range = tf . range (10)   # tf.range(start=0,stop,step=1)\n",
        "print ( tf_range )\n",
        "\n",
        "# Tạo tensor với đường chéo chính là 1 , còn lại là 0\n",
        "tf_eye = tf . eye (3)\n",
        "print ( tf_eye )\n",
        "\n",
        "# Tạo một mảng với các giá trị ngẫu nhiên trong khoảng [0 , 1) với kích thước (3 , 4)\n",
        "# tf.random.uniform (shape, minval, maxval, dtype)\n",
        "tf_rand = tf . random . uniform ((3 , 4))\n",
        "print (\"Mảng ngẫu nhiên trong khoảng [0 , 1) :\\n\", tf_rand )\n",
        "\n",
        "# Tạo một mảng với các giá trị số nguyên ngẫu nhiên trong khoảng [ -10 , 10)\n",
        "# tf.random.uniform (shape, minval, maxval, dtype)\n",
        "tf_randint = tf . random . uniform ((3 , 4), minval = -10, maxval =10, dtype = tf.dtypes.int32 )\n",
        "print (\"Mảng ngẫu nhiên trong khoảng [ -10 , 10) :\\n\", tf_randint )"
      ],
      "metadata": {
        "colab": {
          "base_uri": "https://localhost:8080/"
        },
        "id": "NBQkuz5rAFrs",
        "outputId": "47ddafb7-ae04-4be8-f8db-d963667e74f2"
      },
      "execution_count": 17,
      "outputs": [
        {
          "output_type": "stream",
          "name": "stdout",
          "text": [
            "tf.Tensor([0 1 2 3 4 5 6 7 8 9], shape=(10,), dtype=int32)\n",
            "tf.Tensor(\n",
            "[[1. 0. 0.]\n",
            " [0. 1. 0.]\n",
            " [0. 0. 1.]], shape=(3, 3), dtype=float32)\n",
            "Mảng ngẫu nhiên trong khoảng [0 , 1) :\n",
            " tf.Tensor(\n",
            "[[0.90034294 0.19453335 0.36069036 0.66361904]\n",
            " [0.76605344 0.2159369  0.6261736  0.07380784]\n",
            " [0.22062695 0.934368   0.93327904 0.69267046]], shape=(3, 4), dtype=float32)\n",
            "Mảng ngẫu nhiên trong khoảng [ -10 , 10) :\n",
            " tf.Tensor(\n",
            "[[-3 -7  9  3]\n",
            " [ 2 -5 -3 -5]\n",
            " [ 4 -3 -3  5]], shape=(3, 4), dtype=int32)\n"
          ]
        }
      ]
    },
    {
      "cell_type": "code",
      "source": [
        "import numpy as np\n",
        "# Tạo hai mảng\n",
        "arr_1 = np . array ([1 , 2 , 3])\n",
        "arr_2 = np . array ([4 , 5 , 6])\n",
        "\n",
        "# Nối hai mảng theo trục ngang ( axis =0)\n",
        "arr_3 = np . hstack (( arr_1 , arr_2 ) )\n",
        "arr_4 = np . vstack (( arr_1 , arr_2 ) )\n",
        "\n",
        "# In kết quả\n",
        "print (\"Mảng 1:\\n\", arr_1 )\n",
        "print (\"Mảng 2:\\n\", arr_2 )\n",
        "print (\"Mảng sau khi nối theo trục ngang :\\n\", arr_3 )\n",
        "print (\"Mảng sau khi nối theo trục dọc :\\n\", arr_4 )"
      ],
      "metadata": {
        "colab": {
          "base_uri": "https://localhost:8080/"
        },
        "id": "3tgUnIKWMdD1",
        "outputId": "4d0513ef-fc41-4405-f496-21d0d8bfc892"
      },
      "execution_count": 20,
      "outputs": [
        {
          "output_type": "stream",
          "name": "stdout",
          "text": [
            "Mảng 1:\n",
            " [1 2 3]\n",
            "Mảng 2:\n",
            " [4 5 6]\n",
            "Mảng sau khi nối theo trục ngang :\n",
            " [1 2 3 4 5 6]\n",
            "Mảng sau khi nối theo trục dọc :\n",
            " [[1 2 3]\n",
            " [4 5 6]]\n"
          ]
        }
      ]
    },
    {
      "cell_type": "code",
      "source": [
        "# Pytorch code\n",
        "import torch\n",
        "\n",
        "# Tạo hai tensor\n",
        "tensor_1 = torch . tensor ([1 , 2 , 3])\n",
        "tensor_2 = torch . tensor ([4 , 5 , 6])\n",
        "\n",
        "# Nối hai tensor theo trục ngang\n",
        "tensor_3 = torch . hstack (( tensor_1 , tensor_2 ) )\n",
        "tensor_4 = torch . vstack (( tensor_1 , tensor_2 ) )\n",
        "\n",
        "print (\" Tensor 1:\\n\", tensor_1 )\n",
        "print (\" Tensor 2:\\n\", tensor_2 )\n",
        "print (\" Tensor sau khi nối theo trục ngang:\\n\", tensor_3 )\n",
        "print (\" Tensor sau khi nối theo trục dọc:\\n\", tensor_4 )"
      ],
      "metadata": {
        "colab": {
          "base_uri": "https://localhost:8080/"
        },
        "id": "iL5J0AFyMxQF",
        "outputId": "c66d0d52-1aa2-4195-930e-facc77fede30"
      },
      "execution_count": 21,
      "outputs": [
        {
          "output_type": "stream",
          "name": "stdout",
          "text": [
            " Tensor 1:\n",
            " tensor([1, 2, 3])\n",
            " Tensor 2:\n",
            " tensor([4, 5, 6])\n",
            " Tensor sau khi nối theo trục ngang:\n",
            " tensor([1, 2, 3, 4, 5, 6])\n",
            " Tensor sau khi nối theo trục dọc:\n",
            " tensor([[1, 2, 3],\n",
            "        [4, 5, 6]])\n"
          ]
        }
      ]
    },
    {
      "cell_type": "code",
      "source": [
        "# Numpy code\n",
        "import numpy as np\n",
        "# Tạo hai array 2D\n",
        "arr_1 = np . array ([[1 , 2 , 3] , [4 , 5 , 6]])\n",
        "arr_2 = np . array ([[7 , 8 , 9] , [10 , 11 , 12]])\n",
        "# Nối hai array theo chiều dọc axis = 0\n",
        "arr_3 = np . concatenate (( arr_1 , arr_2 ) , axis =0)\n",
        "# Nối hai array theo chiều ngang axis = 1\n",
        "arr_4 = np . concatenate (( arr_1 , arr_2 ) , axis =1)\n",
        "# In kết quả\n",
        "print (\" Array 1:\\n\", arr_1 )\n",
        "print (\" Array 2:\\n\", arr_2 )\n",
        "print (\"Nối theo chiều dọc ( axis =0) :\\n\", arr_3 )\n",
        "print (\"Nối theo chiều ngang ( axis =1) :\\n\", arr_4 )\n"
      ],
      "metadata": {
        "colab": {
          "base_uri": "https://localhost:8080/"
        },
        "id": "iw_mmTNgMxTE",
        "outputId": "b136e053-12fd-40cd-c9be-d1a28e667844"
      },
      "execution_count": 22,
      "outputs": [
        {
          "output_type": "stream",
          "name": "stdout",
          "text": [
            " Array 1:\n",
            " [[1 2 3]\n",
            " [4 5 6]]\n",
            " Array 2:\n",
            " [[ 7  8  9]\n",
            " [10 11 12]]\n",
            "Nối theo chiều dọc ( axis =0) :\n",
            " [[ 1  2  3]\n",
            " [ 4  5  6]\n",
            " [ 7  8  9]\n",
            " [10 11 12]]\n",
            "Nối theo chiều ngang ( axis =1) :\n",
            " [[ 1  2  3  7  8  9]\n",
            " [ 4  5  6 10 11 12]]\n"
          ]
        }
      ]
    },
    {
      "cell_type": "code",
      "source": [
        "# Pytorch code\n",
        "import torch\n",
        "# Tạo hai tensor 2D\n",
        "tensor_1 = torch . tensor ([[1 , 2 , 3] , [4 , 5 , 6]])\n",
        "tensor_2 = torch . tensor ([[7 , 8 , 9] , [10 , 11 , 12]])\n",
        "# Nối hai tensor theo chiều dọc axis = 0\n",
        "tensor_3 = torch . cat (( tensor_1 , tensor_2 ) , dim =0)\n",
        "# Nối hai tensor theo chiều ngang axis = 1\n",
        "tensor_4 = torch . cat (( tensor_1 , tensor_2 ) , dim =1)\n",
        "# In kết quả\n",
        "print (\" Tensor 1:\\n\", tensor_1 )\n",
        "print (\" Tensor 2:\\n\", tensor_2 )\n",
        "print (\"Nối theo chiều dọc ( axis =0) :\\n\", tensor_3 )\n",
        "print (\"Nối theo chiều ngang ( axis =1) :\\n\", tensor_4 )\n"
      ],
      "metadata": {
        "colab": {
          "base_uri": "https://localhost:8080/"
        },
        "id": "mxcCpfqgMsc4",
        "outputId": "97dbab75-ad60-4e0f-8ef3-df46d7840a54"
      },
      "execution_count": 23,
      "outputs": [
        {
          "output_type": "stream",
          "name": "stdout",
          "text": [
            " Tensor 1:\n",
            " tensor([[1, 2, 3],\n",
            "        [4, 5, 6]])\n",
            " Tensor 2:\n",
            " tensor([[ 7,  8,  9],\n",
            "        [10, 11, 12]])\n",
            "Nối theo chiều dọc ( axis =0) :\n",
            " tensor([[ 1,  2,  3],\n",
            "        [ 4,  5,  6],\n",
            "        [ 7,  8,  9],\n",
            "        [10, 11, 12]])\n",
            "Nối theo chiều ngang ( axis =1) :\n",
            " tensor([[ 1,  2,  3,  7,  8,  9],\n",
            "        [ 4,  5,  6, 10, 11, 12]])\n"
          ]
        }
      ]
    },
    {
      "cell_type": "code",
      "source": [
        "# Tensorflow code\n",
        "import tensorflow as tf\n",
        "\n",
        "# Tạo hai tensor 2D\n",
        "tensor_1 = tf . constant ([[1 , 2 , 3] , [4 , 5 , 6]])\n",
        "tensor_2 = tf . constant ([[7 , 8 , 9] , [10 , 11 , 12]])\n",
        "\n",
        "# Nối hai tensor theo chiều dọc axis = 0\n",
        "tensor_3 = tf . concat (( tensor_1 , tensor_2 ) , axis =0)\n",
        "\n",
        "# Nối hai tensor theo chiều ngang axis = 1\n",
        "tensor_4 = tf . concat (( tensor_1 , tensor_2 ) , axis =1)\n",
        "\n",
        "# In kết quả\n",
        "print (\" Tensor 1:\\n\", tensor_1 )\n",
        "print (\" Tensor 2:\\n\", tensor_2 )\n",
        "print (\"Nối theo chiều dọc ( axis =0) :\\n\", tensor_3 )\n",
        "print (\"Nối theo chiều ngang ( axis =1) :\\n\", tensor_4 )\n"
      ],
      "metadata": {
        "colab": {
          "base_uri": "https://localhost:8080/"
        },
        "id": "0KZwen2hOahp",
        "outputId": "bd218a41-78df-4447-ca4a-868714a792e9"
      },
      "execution_count": 24,
      "outputs": [
        {
          "output_type": "stream",
          "name": "stdout",
          "text": [
            " Tensor 1:\n",
            " tf.Tensor(\n",
            "[[1 2 3]\n",
            " [4 5 6]], shape=(2, 3), dtype=int32)\n",
            " Tensor 2:\n",
            " tf.Tensor(\n",
            "[[ 7  8  9]\n",
            " [10 11 12]], shape=(2, 3), dtype=int32)\n",
            "Nối theo chiều dọc ( axis =0) :\n",
            " tf.Tensor(\n",
            "[[ 1  2  3]\n",
            " [ 4  5  6]\n",
            " [ 7  8  9]\n",
            " [10 11 12]], shape=(4, 3), dtype=int32)\n",
            "Nối theo chiều ngang ( axis =1) :\n",
            " tf.Tensor(\n",
            "[[ 1  2  3  7  8  9]\n",
            " [ 4  5  6 10 11 12]], shape=(2, 6), dtype=int32)\n"
          ]
        }
      ]
    },
    {
      "cell_type": "code",
      "source": [
        "# thực hiện thêm một chiều mới vào array sử dụng newaxis:\n",
        "# Numpy code\n",
        "import numpy as np\n",
        "# Tạo một array 1D\n",
        "arr_1 = np . array ([1 , 2 , 3])\n",
        "#\"np.newaxis\"là chiều mới ta muốn tạo, có thể đặt ở các vị trí khác nhau, ta cũng có thể thay thế nó bằng \"None\"hoặc \"...\"\n",
        "# 1D -> 2D\n",
        "arr_2 = arr_1 [ np . newaxis , :] # thêm một chiều mới ở vị trí 0, chuyển từ array 1D thành array 2D,  dấu \":\" thể hiện chiều của array cũ\n",
        "# 2D -> 5D\n",
        "# thêm các chiều mới ở vị trí 0, 2, và 4. Dấu \":\"Thể hiện chiều của array cũ,\n",
        "# dấu đầu tiên là chiều thứ nhất của array cũ thành chiều thứ 2 array mới\n",
        "# dấu thứ hai là chiều thứ 2 của array cũ thành chiều thứ 3 array mới\n",
        "arr_3 = arr_2 [ np . newaxis ,:, np . newaxis ,:, np . newaxis ]  # thêm các chiều mới ở vị trí 0, 2, và 4.\n",
        "print (\" array 1: \", arr_1 , arr_1 . shape )\n",
        "print (\" array 2: \", arr_2 , arr_2 . shape )\n",
        "print (\" array 3:\\n \", arr_3 , arr_3 . shape )"
      ],
      "metadata": {
        "colab": {
          "base_uri": "https://localhost:8080/"
        },
        "id": "5eXmphKfOv2e",
        "outputId": "95479744-964a-4efe-c285-de7255e39a8b"
      },
      "execution_count": 25,
      "outputs": [
        {
          "output_type": "stream",
          "name": "stdout",
          "text": [
            " array 1:  [1 2 3] (3,)\n",
            " array 2:  [[1 2 3]] (1, 3)\n",
            " array 3:\n",
            "  [[[[[1]\n",
            "    [2]\n",
            "    [3]]]]] (1, 1, 1, 3, 1)\n"
          ]
        }
      ]
    },
    {
      "cell_type": "code",
      "source": [
        "# có thể sử dụng cách thứ hai: np.expand_dims để thêm chiều mới cho array.\n",
        "# Numpy code\n",
        "import numpy as np\n",
        "# Tạo một array 1D\n",
        "arr_1 = np . array ([1 , 2 , 3])\n",
        "# Thêm chiều mới, chuy ển từ 1D -> 2D\n",
        "arr_2 = np . expand_dims ( arr_1 , axis =0) # thêm một chiều mới ở vị trí 0\n",
        "# Thêm nhiều chiều mới, chuy ển từ 2D -> 5D\n",
        "arr_3 = np . expand_dims ( arr_2 , axis =(0 , 2 , 4) ) # thêm các chiều mới ở vị trí 0, 2, và 4.\n",
        "# In kết quả\n",
        "print (\" array 1:\", arr_1 , arr_1 . shape )\n",
        "print (\" array 2:\", arr_2 , arr_2 . shape )\n",
        "print (\" array 3:\\n\", arr_3 , arr_3 . shape )\n",
        "\n"
      ],
      "metadata": {
        "colab": {
          "base_uri": "https://localhost:8080/"
        },
        "id": "JQ2Y5665PfEB",
        "outputId": "51bee517-c433-4903-cb16-5a63d94d84da"
      },
      "execution_count": 28,
      "outputs": [
        {
          "output_type": "stream",
          "name": "stdout",
          "text": [
            " array 1: [1 2 3] (3,)\n",
            " array 2: [[1 2 3]] (1, 3)\n",
            " array 3:\n",
            " [[[[[1]\n",
            "    [2]\n",
            "    [3]]]]] (1, 1, 1, 3, 1)\n"
          ]
        }
      ]
    },
    {
      "cell_type": "code",
      "source": [
        "# Pytorch code\n",
        "import torch\n",
        "# Tạo một tensor 1D\n",
        "tensor_1 = torch . tensor ([1 , 2 , 3])\n",
        "# Thêm chiều mới, chuy ển từ 1D -> 2D\n",
        "tensor_2 = tensor_1 [ None , :]\n",
        "# Thêm nhiều chiều mới, chuy ển từ 2D -> 5D\n",
        "tensor_3 = tensor_2 [ None , : , None , : , None]\n",
        "# In kết quả\n",
        "print (\" tensor 1:\", tensor_1 , tensor_1 . shape )\n",
        "print (\" tensor 2:\", tensor_2 , tensor_2 . shape )\n",
        "print (\" tensor 3:\\n\", tensor_3 , tensor_3 . shape )"
      ],
      "metadata": {
        "colab": {
          "base_uri": "https://localhost:8080/"
        },
        "id": "hO2DwgJjShLk",
        "outputId": "96297bff-db0a-4378-9116-1afb63ff961e"
      },
      "execution_count": 29,
      "outputs": [
        {
          "output_type": "stream",
          "name": "stdout",
          "text": [
            " tensor 1: tensor([1, 2, 3]) torch.Size([3])\n",
            " tensor 2: tensor([[1, 2, 3]]) torch.Size([1, 3])\n",
            " tensor 3:\n",
            " tensor([[[[[1],\n",
            "           [2],\n",
            "           [3]]]]]) torch.Size([1, 1, 1, 3, 1])\n"
          ]
        }
      ]
    },
    {
      "cell_type": "code",
      "source": [
        "# TensorFlow code\n",
        "import tensorflow as tf\n",
        "# Tạo một tensor 1D\n",
        "tensor_1 = tf . constant ([1 , 2, 3])\n",
        "# Thêm chiều mới, chuy ển từ 1D -> 2D\n",
        "tensor_2 = tf . expand_dims ( tensor_1 , axis =0)\n",
        "# Thêm nhiều chiều mới, chuy ển từ 2D -> 5D\n",
        "tensor_3 = tensor_2 [ None , : , None , : , None]\n",
        "# In kết quả\n",
        "print (\" tensor 1:\", tensor_1 , tensor_1 . shape )\n",
        "print (\" tensor 2:\", tensor_2 , tensor_2 . shape )\n",
        "print (\" tensor 3:\\n\", tensor_3 , tensor_3 . shape )"
      ],
      "metadata": {
        "colab": {
          "base_uri": "https://localhost:8080/"
        },
        "id": "grFOi2ukTYPP",
        "outputId": "21dfe08c-49c2-40f7-9609-dca1b4b5de10"
      },
      "execution_count": 30,
      "outputs": [
        {
          "output_type": "stream",
          "name": "stdout",
          "text": [
            " tensor 1: tf.Tensor([1 2 3], shape=(3,), dtype=int32) (3,)\n",
            " tensor 2: tf.Tensor([[1 2 3]], shape=(1, 3), dtype=int32) (1, 3)\n",
            " tensor 3:\n",
            " tf.Tensor(\n",
            "[[[[[1]\n",
            "    [2]\n",
            "    [3]]]]], shape=(1, 1, 1, 3, 1), dtype=int32) (1, 1, 1, 3, 1)\n"
          ]
        }
      ]
    },
    {
      "cell_type": "code",
      "source": [
        "# reshape là một hàm được sử dụng để thay đổi hình dạng của một array hoặc tensor mà không làm thay đổi dữ liệu bên trong nó.\n",
        "'''\n",
        "Numpy       : np . reshape (input , newshape )\n",
        "Pytorch     : torch . reshape (input , newshape )\n",
        "Tensorflow  : torch . reshape (input , newshape )\n",
        "'''\n",
        "# Numpy code\n",
        "import numpy as np\n",
        "# Tạo một array 2D\n",
        "np_arr_2D = np . array ([[1 , 2 , 3] , [4 , 5 , 6]])\n",
        "# Chuyển từ 2D -> 1D\n",
        "np_arr_1D = np . reshape ( np_arr_2D , newshape =(6 , ) )\n",
        "print (\" array 2D:\\n\", np_arr_2D , np_arr_2D . shape )\n",
        "print (\" array 1D:\\n\", arr_1D , np_arr_1D . shape )\n",
        "\n"
      ],
      "metadata": {
        "colab": {
          "base_uri": "https://localhost:8080/"
        },
        "id": "x2CXH97UTv0j",
        "outputId": "73de0c48-6f09-4914-a331-802ee2d929c2"
      },
      "execution_count": 37,
      "outputs": [
        {
          "output_type": "stream",
          "name": "stdout",
          "text": [
            " array 2D:\n",
            " [[1 2 3]\n",
            " [4 5 6]] (2, 3)\n",
            " array 1D:\n",
            " [1 2 3 4 5 6] (6,)\n"
          ]
        }
      ]
    },
    {
      "cell_type": "code",
      "source": [
        "'''\n",
        "Hàm clip rất hữu ích khi ta muốn đảm bảo rằng các giá trị trong array hoặc tensor không vượt quá một khoảng cụ thể,\n",
        "giúp kiểm soát và chuẩn hóa dữ liệu, đặc biệt trong quá trình tiền xử lý dữ liệu cho mô hình máy học.\n",
        "'''"
      ],
      "metadata": {
        "id": "Ss47c9z3bHrI"
      },
      "execution_count": null,
      "outputs": []
    },
    {
      "cell_type": "code",
      "source": [
        "# Numpy code\n",
        "import numpy as np\n",
        "\n",
        "# Thiết lập seed để đảm bảo kết quả ngẫu nhiên có thể tái tạo được\n",
        "np . random . seed (2024)\n",
        "\n",
        "# Tạo một array với các giá trị ngẫu nhiên trong khoảng [ -10 , 10) với kích thước (3 , 3)\n",
        "arr_rand = np . random . randint ( -5 , 10 , (4 , 3) )\n",
        "print (\"Mảng ngẫu nhiên trong khoảng [ -5 , 10) :\\n\", arr_rand )\n",
        "\n",
        "# Sử dụng hàm clip để cắt các giá trị nằm ngoài khoảng [3 , 8]\n",
        "# giá trị nào nhỏ hơn 3 thì sẽ gán bằng 3, giá trị nào lớn hơn 8 sẽ gán bằng 8, các giá trị trong khoảng [3, 8] thì giữ nguyên\n",
        "arr_clip = np . clip ( arr_rand , a_min =-2 , a_max =0)\n",
        "print (\"Mảng sau khi được cắt trong khoảng [-2 , 0]:\\n\", arr_clip )"
      ],
      "metadata": {
        "colab": {
          "base_uri": "https://localhost:8080/"
        },
        "id": "vwPRPszuUybH",
        "outputId": "e3930718-141a-4e04-cdc7-2719416a2e33"
      },
      "execution_count": 49,
      "outputs": [
        {
          "output_type": "stream",
          "name": "stdout",
          "text": [
            "Mảng ngẫu nhiên trong khoảng [ -5 , 10) :\n",
            " [[ 3  5 -5]\n",
            " [-5  6 -1]\n",
            " [ 9  2  4]\n",
            " [-4  7 -2]]\n",
            "Mảng sau khi được cắt trong khoảng [-2 , 0]:\n",
            " [[ 0  0 -2]\n",
            " [-2  0 -1]\n",
            " [ 0  0  0]\n",
            " [-2  0 -2]]\n"
          ]
        }
      ]
    },
    {
      "cell_type": "code",
      "source": [
        "# Pytorch code\n",
        "import torch\n",
        "# Thiết lập seed để đảm bảo kết quả ngẫu nhiên có thể tái tạo được\n",
        "torch . manual_seed (2024)\n",
        "\n",
        "# Tạo một tensor với các giá trị ngẫu nhiên trong khoảng [ -10 , 10) với kích thước (4 , 3)\n",
        "tensor_rand = torch . randint ( -5 , 10 , size =(4 , 3) )\n",
        "print (\" Tensor ngẫu nhiên trong khoảng [ -5 , 10) :\\n\", tensor_rand )\n",
        "# Sử dụng hàm clamp để cắt các giá trị nằm ngoài khoảng [-2 , 0]\n",
        "tensor_clip = torch . clamp ( tensor_rand , min =-2 , max =0)\n",
        "#tensor_clip = torch . clip ( tensor_rand , min =-2 , max =0)\n",
        "\n",
        "print (\" Tensor sau khi được cắt trong khoảng [-2 , 0]:\\n\", tensor_clip )"
      ],
      "metadata": {
        "colab": {
          "base_uri": "https://localhost:8080/"
        },
        "id": "URpUCW1uZFpP",
        "outputId": "257a23fd-22e2-489c-ff22-6147a6f6379f"
      },
      "execution_count": 50,
      "outputs": [
        {
          "output_type": "stream",
          "name": "stdout",
          "text": [
            " Tensor ngẫu nhiên trong khoảng [ -5 , 10) :\n",
            " tensor([[-3,  0, -1],\n",
            "        [ 0, -2,  0],\n",
            "        [ 5,  6,  3],\n",
            "        [ 4, -3, -1]])\n",
            " Tensor sau khi được cắt trong khoảng [-2 , 0]:\n",
            " tensor([[-2,  0, -1],\n",
            "        [ 0, -2,  0],\n",
            "        [ 0,  0,  0],\n",
            "        [ 0, -2, -1]])\n"
          ]
        }
      ]
    },
    {
      "cell_type": "code",
      "source": [
        "# Tensorflow code\n",
        "import tensorflow as tf\n",
        "\n",
        "# Thiết lập seed để đảm bảo kết quả ngẫu nhiên có thể tái tạo được\n",
        "tf . random . set_seed (2024)\n",
        "\n",
        "# Tạo một tensor với các giá trị ngẫu nhiên trong khoảng [ -5 , 10) với kích thước (4 , 3)\n",
        "tensor_random = tf . random . uniform ((4 , 3) , minval = -5 , maxval =10 , dtype = tf . int32 )\n",
        "print (\" Tensor ngẫu nhiên trong khoảng [ -5 , 10) :\\n\", tensor_random )\n",
        "\n",
        "# Sử dụng hàm clip_by_value để cắt các giá trị nằm ngoài khoảng [-2 , 0]\n",
        "tensor_clip = tf . clip_by_value (tensor_random , clip_value_min =-2 ,clip_value_max =0)\n",
        "print (\"Tensor sau khi được cắt trong khoảng [-2 , 0]:\\n\", tensor_clip )\n"
      ],
      "metadata": {
        "colab": {
          "base_uri": "https://localhost:8080/"
        },
        "id": "zz4_QNvJaKpe",
        "outputId": "af64cc87-f521-4ff5-be0c-52f4706af7d8"
      },
      "execution_count": 52,
      "outputs": [
        {
          "output_type": "stream",
          "name": "stdout",
          "text": [
            " Tensor ngẫu nhiên trong khoảng [ -5 , 10) :\n",
            " tf.Tensor(\n",
            "[[ 4  3  0]\n",
            " [ 3  9  9]\n",
            " [-4 -2  2]\n",
            " [ 6  2  0]], shape=(4, 3), dtype=int32)\n",
            "Tensor sau khi được cắt trong khoảng [-2 , 0]:\n",
            " tf.Tensor(\n",
            "[[ 0  0  0]\n",
            " [ 0  0  0]\n",
            " [-2 -2  0]\n",
            " [ 0  0  0]], shape=(4, 3), dtype=int32)\n"
          ]
        }
      ]
    },
    {
      "cell_type": "code",
      "source": [
        "# Tạo một array với các giá trị ngẫu nhiên trong khoảng [ -10 , 10) với kích thước (3 , 3)\n",
        "arr_rand = np . random . randint ( -5 , 10 , (4 , 3) )\n",
        "print (\"Mảng ngẫu nhiên trong khoảng [ -5 , 10) :\\n\", arr_rand )\n",
        "# Tạo một tensor với các giá trị ngẫu nhiên trong khoảng [ -5 , 10) với kích thước (4 , 3)\n",
        "tensor_random = tf . random . uniform ((4 , 3) , minval = -5 , maxval =10 , dtype = tf . int32 )\n",
        "print (\" Tensor ngẫu nhiên trong khoảng [ -5 , 10) :\\n\", tensor_random )"
      ],
      "metadata": {
        "id": "_et_mFaE1lzH"
      },
      "execution_count": null,
      "outputs": []
    },
    {
      "cell_type": "code",
      "source": [
        "''' Slicing là một cách để trích xuất một phần của array, tensor dựa trên các chỉ số hoặc các điều kiện.\n",
        "array [ axis n row : column , axis n -1 row : column ,..., axis 1 row : column, axis 0 row : column ]"
      ],
      "metadata": {
        "id": "f9J_xt7xkbkZ"
      },
      "execution_count": null,
      "outputs": []
    },
    {
      "cell_type": "code",
      "source": [
        "# Import thư viện Numpy\n",
        "import numpy as np\n",
        "# Tạo mảng 2D\n",
        "array_2d = np . array ([[1 , 2 , 3] , [4 , 5 , 6]])\n",
        "# Slicing mảng tại row = 0 , column = 6 # Giữ nguyên số chiều của mảng\n",
        "sliced_array_1 = array_2d [0:1 , 1:2] # trích xuất một phần của mảng bằng cách chỉ định slicing cho cả hai chiều (hàng và cột).\n",
        "print (\" sliced_array_1 (Giữ nguyên số chiều):\")\n",
        "print ( sliced_array_1 )\n",
        "# Giảm số chiều của mảng\n",
        "sliced_array_2 = array_2d [0 , 1:2] # trích xuất một hàng (0) và một phần của cột (từ 1 đến 1)\n",
        "print (\"\\ nsliced_array_2 (Giảm số chiều):\")\n",
        "print ( sliced_array_2 )\n",
        "# Giảm số chiều của mảng\n",
        "sliced_array_3 = array_2d [0 , 1] # trích xuất một phần nhỏ của mảng, nên kết quả là một mảng 0D (véc-tơ, còn đượcgọi là scalar\n",
        "print (\"\\ nsliced_array_3 (Giảm số chiều):\")\n",
        "print ( sliced_array_3 )\n",
        "# Lấy toàn bộ mảng\n",
        "sliced_array_4 = array_2d [: , :] #lấy toàn bộ mảng bằng cách không chỉ định slicing cho bất kỳ chiều nào cả\n",
        "print (\"\\ nsliced_array_4 (Giữ nguy ên số chiều):\")\n",
        "print ( sliced_array_4 )\n"
      ],
      "metadata": {
        "colab": {
          "base_uri": "https://localhost:8080/"
        },
        "id": "_S-L0mUea4uW",
        "outputId": "14062147-549f-4d96-a851-279bb24d30ae"
      },
      "execution_count": 53,
      "outputs": [
        {
          "output_type": "stream",
          "name": "stdout",
          "text": [
            " sliced_array_1 (Giữ nguyên số chiều):\n",
            "[[2]]\n",
            "\\ nsliced_array_2 (Giảm số chiều):\n",
            "[2]\n",
            "\\ nsliced_array_3 (Giảm số chiều):\n",
            "2\n",
            "\\ nsliced_array_4 (Giữ nguy ên số chiều):\n",
            "[[1 2 3]\n",
            " [4 5 6]]\n"
          ]
        }
      ]
    },
    {
      "cell_type": "code",
      "source": [
        "import numpy as np\n",
        "# Tạo mảng 3D\n",
        "array_3d = np.array([[[1, 2, 3], [4, 5, 6]],\n",
        "                     [[7, 8, 9], [10, 11, 12]],\n",
        "                     [[13, 14, 15], [16, 17, 18]]])\n",
        "# Slicing mảng tại  index (0, 1)  trong mảng 3D và giữ nguyên số chiều\n",
        "sliced_array_1 = array_3d [0:1 , 1:2] # trích xuất một phần của mảng bằng cách chỉ định slicing cho cả hai chiều (hàng và cột).\n",
        "print (\" sliced_array_1 (Giữ nguyên số chiều):\")\n",
        "print ( sliced_array_1 )\n",
        "# Slicing mảng tại  index (0, 1) trong mảng 3D và Giảm đi một chiều của mảng\n",
        "sliced_array_2 = array_3d [0 , 1:2] # trích xuất một hàng (0) và một phần của cột (từ 1 đến 1)\n",
        "print (\"\\ nsliced_array_2 (Giảm số chiều):\")\n",
        "print ( sliced_array_2 )"
      ],
      "metadata": {
        "colab": {
          "base_uri": "https://localhost:8080/"
        },
        "id": "yKfFzBhemebL",
        "outputId": "7fd8223b-cbea-46bd-b660-a71c53ce294d"
      },
      "execution_count": 61,
      "outputs": [
        {
          "output_type": "stream",
          "name": "stdout",
          "text": [
            " sliced_array_1 (Giữ nguyên số chiều):\n",
            "[[[4 5 6]]]\n",
            "\\ nsliced_array_2 (Giảm số chiều):\n",
            "[[4 5 6]]\n"
          ]
        }
      ]
    },
    {
      "cell_type": "code",
      "source": [
        "# Pytorch code\n",
        "import torch\n",
        "# Tạo tensor 2D\n",
        "tensor_2d = torch . tensor ([[1 , 2 , 3] , [4 , 5 , 6]])\n",
        "\n",
        "# Slicing tensor tại vị trí row= 0 ,column = 1 Giữ nguyên số chiều của tensor\n",
        "sliced_tensor_1 = tensor_2d [0:1 , 1:2]\n",
        "print (\" sliced_tensor_1 (Giữ nguyên số chiều):\")\n",
        "print ( sliced_tensor_1 )\n",
        "# Giảm số chiều của tensor\n",
        "sliced_tensor_2 = tensor_2d [0 , 1:2]\n",
        "print (\"\\ nsliced_tensor_2 (Giảm số chiều):\")\n",
        "print ( sliced_tensor_2 )\n",
        "# Giảm số chiều của tensor\n",
        "sliced_tensor_3 = tensor_2d [0 , 1]\n",
        "print (\"\\ nsliced_tensor_3 (Giảm số chiều):\")\n",
        "print ( sliced_tensor_3 )\n",
        "# Lấy toàn bộ tensor\n",
        "sliced_tensor_4 = tensor_2d [: , :]\n",
        "print (\"\\ nsliced_tensor_4 (Giữ nguyên số chiều):\")\n",
        "print ( sliced_tensor_4 )"
      ],
      "metadata": {
        "colab": {
          "base_uri": "https://localhost:8080/"
        },
        "id": "NmJ-dH1YjWH2",
        "outputId": "94df8e34-4fb4-4f59-ec30-50b07c62a0e2"
      },
      "execution_count": 55,
      "outputs": [
        {
          "output_type": "stream",
          "name": "stdout",
          "text": [
            " sliced_tensor_1 (Giữ nguyên số chiều):\n",
            "tensor([[2]])\n",
            "\\ nsliced_tensor_2 (Giảm số chiều):\n",
            "tensor([2])\n",
            "\\ nsliced_tensor_3 (Giảm số chiều):\n",
            "tensor(2)\n",
            "\\ nsliced_tensor_4 (Giữ nguyên số chiều):\n",
            "tensor([[1, 2, 3],\n",
            "        [4, 5, 6]])\n"
          ]
        }
      ]
    },
    {
      "cell_type": "code",
      "source": [
        "import torch\n",
        "tensor_3d = torch . tensor([[[1, 2, 3], [4, 5, 6]],\n",
        "                           [[7, 8, 9], [10, 11, 12]],\n",
        "                           [[13, 14, 15], [16, 17, 18]]])\n",
        "# Slicing mảng tại  index (0, 1)  trong mảng 3D và giữ nguyên số chiều\n",
        "sliced_array_1 = tensor_3d [0:1 , 1:2] # trích xuất một phần của mảng bằng cách chỉ định slicing cho cả hai chiều (hàng và cột).\n",
        "print (\" sliced_array_1 (Giữ nguyên số chiều):\")\n",
        "print ( sliced_array_1 )\n",
        "# Slicing mảng tại  index (0, 1) trong mảng 3D và Giảm đi một chiều của mảng\n",
        "sliced_array_2 = tensor_3d [0 , 1:2] # trích xuất một hàng (0) và một phần của cột (từ 1 đến 1)\n",
        "print (\"\\ nsliced_array_2 (Giảm số chiều):\")\n",
        "print ( sliced_array_2 )"
      ],
      "metadata": {
        "colab": {
          "base_uri": "https://localhost:8080/"
        },
        "id": "gE4tomJZp7b0",
        "outputId": "7d299c27-cb53-4da8-98f5-780a4314ae24"
      },
      "execution_count": 62,
      "outputs": [
        {
          "output_type": "stream",
          "name": "stdout",
          "text": [
            " sliced_array_1 (Giữ nguyên số chiều):\n",
            "tensor([[[4, 5, 6]]])\n",
            "\\ nsliced_array_2 (Giảm số chiều):\n",
            "tensor([[4, 5, 6]])\n"
          ]
        }
      ]
    },
    {
      "cell_type": "code",
      "source": [
        "# Tensorflow code\n",
        "import tensorflow as tf\n",
        "# Tạo tensor 2D\n",
        "tensor_2d = tf . constant ([[1 , 2 , 3] , [4 , 5 , 6]])\n",
        "# Slicing tensor tại vị trí row =0 , column =1. Giữ nguyên số chiều của tensor\n",
        "sliced_tensor_1 = tensor_2d [0:1 , 1:2]\n",
        "print (\" sliced_tensor_1 (Giữ nguyên số chiều):\")\n",
        "print ( sliced_tensor_1 )\n",
        "# Giảm số chiều của tensor\n",
        "sliced_tensor_2 = tensor_2d [0 , 1:2]\n",
        "print (\"\\ nsliced_tensor_2 (Giảm số chiều):\")\n",
        "print ( sliced_tensor_2 )\n",
        "# Giảm số chiều của tensor\n",
        "sliced_tensor_3 = tensor_2d [0 , 1]\n",
        "print (\"\\ nsliced_tensor_3 (Giảm số chiều):\")\n",
        "print ( sliced_tensor_3 )\n",
        "# Lấy toàn bộ tensor\n",
        "sliced_tensor_4 = tensor_2d [: , :]\n",
        "print (\"\\ nsliced_tensor_4 (Giữ nguy ên số chiều):\")\n",
        "print ( sliced_tensor_4 )"
      ],
      "metadata": {
        "colab": {
          "base_uri": "https://localhost:8080/"
        },
        "id": "978DkYSXlb5R",
        "outputId": "a3a4c2ac-7775-4abe-8200-af003889e73c"
      },
      "execution_count": 56,
      "outputs": [
        {
          "output_type": "stream",
          "name": "stdout",
          "text": [
            " sliced_tensor_1 (Giữ nguyên số chiều):\n",
            "tf.Tensor([[2]], shape=(1, 1), dtype=int32)\n",
            "\\ nsliced_tensor_2 (Giảm số chiều):\n",
            "tf.Tensor([2], shape=(1,), dtype=int32)\n",
            "\\ nsliced_tensor_3 (Giảm số chiều):\n",
            "tf.Tensor(2, shape=(), dtype=int32)\n",
            "\\ nsliced_tensor_4 (Giữ nguy ên số chiều):\n",
            "tf.Tensor(\n",
            "[[1 2 3]\n",
            " [4 5 6]], shape=(2, 3), dtype=int32)\n"
          ]
        }
      ]
    },
    {
      "cell_type": "code",
      "source": [
        "import tensorflow as tf\n",
        "tensor_3d = tf . constant ([[[1, 2, 3], [4, 5, 6]],\n",
        "                           [[7, 8, 9], [10, 11, 12]],\n",
        "                           [[13, 14, 15], [16, 17, 18]]])\n",
        "# Slicing mảng tại  index (0, 1)  trong mảng 3D và giữ nguyên số chiều\n",
        "sliced_array_1 = tensor_3d [0:1 , 1:2] # trích xuất một phần của mảng bằng cách chỉ định slicing cho cả hai chiều (hàng và cột).\n",
        "print (\" sliced_array_1 (Giữ nguyên số chiều):\")\n",
        "print ( sliced_array_1 )\n",
        "# Slicing mảng tại  index (0, 1) trong mảng 3D và Giảm đi một chiều của mảng\n",
        "sliced_array_2 = tensor_3d [0 , 1:2] # trích xuất một hàng (0) và một phần của cột (từ 1 đến 1)\n",
        "print (\"\\ nsliced_array_2 (Giảm số chiều):\")\n",
        "print ( sliced_array_2 )"
      ],
      "metadata": {
        "colab": {
          "base_uri": "https://localhost:8080/"
        },
        "id": "xGScWQCWqVyI",
        "outputId": "ffbbcffb-a0f2-4e28-821a-681aa99ff339"
      },
      "execution_count": 63,
      "outputs": [
        {
          "output_type": "stream",
          "name": "stdout",
          "text": [
            " sliced_array_1 (Giữ nguyên số chiều):\n",
            "tf.Tensor([[[4 5 6]]], shape=(1, 1, 3), dtype=int32)\n",
            "\\ nsliced_array_2 (Giảm số chiều):\n",
            "tf.Tensor([[4 5 6]], shape=(1, 3), dtype=int32)\n"
          ]
        }
      ]
    },
    {
      "cell_type": "code",
      "source": [
        "# Indexing Trong Numpy, Pytorch và Tensorflow\n",
        "\n",
        "# Numpy code\n",
        "import numpy as np\n",
        "\n",
        "# Tạo mảng 2D\n",
        "arr_2d = np . array ([[1 , 2 , 3] , [4 , 5 , 6] , [7 , 8 , 9]])\n",
        "\n",
        "# Hai cách để lấy hàng index =1\n",
        "# Cách 1: giảm số chiều của mảng\n",
        "row_1_arr_1 = arr_2d [1 , :]\n",
        "print (\" row_1_arr_1 (Giảm số chiều):\", row_1_arr_1 )\n",
        "\n",
        "# Cách 2: giữ nguyên số chiều của mảng\n",
        "row_1_arr_2 = arr_2d [1:2 , :]\n",
        "print (\" row_1_arr_2 (Giữ nguyên số chiều):\", row_1_arr_2 )\n",
        "\n",
        "# Hai cách để lấy cột index =2\n",
        "# Cách 1: giảm số chiều của mảng\n",
        "column_2_arr_1 = arr_2d [: , 2]\n",
        "print (\"\\ ncolumn_2_arr_1 (Giảm số chiều):\\n\", column_2_arr_1 )\n",
        "# Cách 2: giữ nguy ên số chiều của mảng\n",
        "column_2_arr_2 = arr_2d [: , 2:3]\n",
        "print (\"\\ ncolumn_2_arr_2 (Giữ nguyên số chiều):\\n\", column_2_arr_2 )"
      ],
      "metadata": {
        "colab": {
          "base_uri": "https://localhost:8080/"
        },
        "id": "IrayXb8fmMAn",
        "outputId": "16ecc019-b4fe-46e1-9e91-f20fb0514e87"
      },
      "execution_count": 72,
      "outputs": [
        {
          "output_type": "stream",
          "name": "stdout",
          "text": [
            " row_1_arr_1 (Giảm số chiều): [4 5 6]\n",
            " row_1_arr_2 (Giữ nguyên số chiều): [[4 5 6]]\n",
            "\\ ncolumn_2_arr_1 (Giảm số chiều):\n",
            " [3 6 9]\n",
            "\\ ncolumn_2_arr_2 (Giữ nguyên số chiều):\n",
            " [[3]\n",
            " [6]\n",
            " [9]]\n"
          ]
        }
      ]
    },
    {
      "cell_type": "code",
      "source": [
        "# Pytorch code\n",
        "import torch\n",
        "# Tạo tensor 2D\n",
        "tensor_2d = torch . tensor ([[1 , 2 , 3] ,\n",
        "                             [4 , 5 , 6] ,\n",
        "                             [7 , 8 , 9]])\n",
        "# Hai cách để lấy hàng index =1\n",
        "# Cách 1: giảm số chiều của tensor\n",
        "row_1_tensor_1 = tensor_2d [1 , :]\n",
        "print (\" row_1_tensor_1 (Giảm số chiều):\", row_1_tensor_1 )\n",
        "# Cách 2: giữ nguy ên số chiều của tensor\n",
        "row_1_tensor_2 = tensor_2d [1:2 , :]\n",
        "print (\" row_1_tensor_2 (Giữ nguyên số chiều):\", row_1_tensor_2 )\n",
        "# Hai cách để lấy cột index =2\n",
        "# Cách 1: giảm số chiều của tensor\n",
        "column_2_tensor_1 = tensor_2d [: , 2]\n",
        "print (\"\\ ncolumn_2_tensor_1 (Giảm số chiều):\\n\", column_2_tensor_1 )\n",
        "# Cách 2: giữ nguy ên số chiều của tensor\n",
        "column_2_tensor_2 = tensor_2d [: , 2:3]\n",
        "print (\"\\ ncolumn_2_tensor_2 (Giữ nguyên số chiều):\\n\", column_2_tensor_2 )\n"
      ],
      "metadata": {
        "colab": {
          "base_uri": "https://localhost:8080/"
        },
        "id": "czTnGvolr-VG",
        "outputId": "f6b221ee-ab61-451d-f722-829ae927a017"
      },
      "execution_count": 67,
      "outputs": [
        {
          "output_type": "stream",
          "name": "stdout",
          "text": [
            " row_1_tensor_1 (Giảm số chiều): tensor([4, 5, 6])\n",
            " row_1_tensor_2 (Giữ nguyên số chiều): tensor([[4, 5, 6]])\n",
            "\\ ncolumn_2_tensor_1 (Giảm số chiều):\n",
            " tensor([3, 6, 9])\n",
            "\\ ncolumn_2_tensor_2 (Giữ nguyên số chiều):\n",
            " tensor([[3],\n",
            "        [6],\n",
            "        [9]])\n"
          ]
        }
      ]
    },
    {
      "cell_type": "code",
      "source": [
        "# Tensorflow code\n",
        "import tensorflow as tf\n",
        "# Tạo tensor 2D\n",
        "tensor_2d = tf . constant ([[1 , 2 , 3] ,\n",
        "                            [4 , 5 , 6] ,\n",
        "                            [7 , 8 , 9]])\n",
        "# Hai cách để lấy hàng index =1\n",
        "# Cách 1: giảm số chiều của tensor\n",
        "row_1_tensor_1 = tensor_2d [1 , :]\n",
        "print (\" row_1_tensor_1 (Giảm số chiều):\", row_1_tensor_1 )\n",
        "# Cách 2: giữ nguy ên số chiều của tensor\n",
        "row_1_tensor_2 = tensor_2d [1:2 , :]\n",
        "print (\" row_1_tensor_2 (Giữ nguyên số chiều):\", row_1_tensor_2 )\n",
        "# Hai cách để lấy cột index =2\n",
        "# Cách 1: giảm số chiều của tensor\n",
        "column_2_tensor_1 = tensor_2d [: , 2]\n",
        "print (\"\\ ncolumn_2_tensor_1 (Giảm số chiều):\\n\", column_2_tensor_1 )\n",
        "# Cách 2: giữ nguy ên số chiều của tensor\n",
        "column_2_tensor_2 = tensor_2d [: , 2:3]\n",
        "print (\"\\ ncolumn_2_tensor_2 (Giữ nguyên số chiều):\\n\", column_2_tensor_2 )\n"
      ],
      "metadata": {
        "colab": {
          "base_uri": "https://localhost:8080/"
        },
        "id": "Nz9E_5Rzs9E-",
        "outputId": "3198dfae-0cd0-4736-ca30-882ba25f8b29"
      },
      "execution_count": 68,
      "outputs": [
        {
          "output_type": "stream",
          "name": "stdout",
          "text": [
            " row_1_tensor_1 (Giảm số chiều): tf.Tensor([4 5 6], shape=(3,), dtype=int32)\n",
            " row_1_tensor_2 (Giữ nguyên số chiều): tf.Tensor([[4 5 6]], shape=(1, 3), dtype=int32)\n",
            "\\ ncolumn_2_tensor_1 (Giảm số chiều):\n",
            " tf.Tensor([3 6 9], shape=(3,), dtype=int32)\n",
            "\\ ncolumn_2_tensor_2 (Giữ nguyên số chiều):\n",
            " tf.Tensor(\n",
            "[[3]\n",
            " [6]\n",
            " [9]], shape=(3, 1), dtype=int32)\n"
          ]
        }
      ]
    },
    {
      "cell_type": "code",
      "source": [
        "'''Boolean indices (hoặc boolean indexing) là một cách để lấy hoặc lọc các phần tử từ một mảng dựa\n",
        "trên một mảng boolean có cùng hình dạng. Mảng boolean này được gọi là mask, và nó được sử dụng\n",
        "để chọn các phần tử tương ứng từ mảng gốc.\n",
        "'''"
      ],
      "metadata": {
        "id": "s5HIEVBKtUsk"
      },
      "execution_count": null,
      "outputs": []
    },
    {
      "cell_type": "code",
      "source": [
        "# Import thư viện Numpy\n",
        "import numpy as np\n",
        "\n",
        "# Tạo mảng 2D\n",
        "array_2d = np . array ([[1 , 2 , 3] , [4 , 5 , 6] ,[7 , 8 , 9]])\n",
        "\n",
        "# Lấy các phần tử có giá trị lớn hơn 5\n",
        "boolean_mask = array_2d > 5 #boolean_mask được tạo ra bằng cách kiểm tra xem mỗi phần tử của array_2d có lớn hơn 5 hay không.\n",
        "#boolean_mask được sử dụng để lọc các phần tử tương ứng từ array_2d, chỉ giữ lại những phần tử có giá trị True\n",
        "filtered_result = array_2d [ boolean_mask ]\n",
        "\n",
        "# In kết quả\n",
        "print (\"Mảng 2D ban đầu:\\n\", array_2d )\n",
        "print (\"\\n Boolean mask :\\n\", boolean_mask )\n",
        "print (\"\\nCác phần tử lớn hơn 5:\\n\", filtered_result )"
      ],
      "metadata": {
        "colab": {
          "base_uri": "https://localhost:8080/"
        },
        "id": "q6dakZUZuXvu",
        "outputId": "fd526563-9771-47a2-dd86-7b9e8c1bd02c"
      },
      "execution_count": 69,
      "outputs": [
        {
          "output_type": "stream",
          "name": "stdout",
          "text": [
            "Mảng 2D ban đầu:\n",
            " [[1 2 3]\n",
            " [4 5 6]\n",
            " [7 8 9]]\n",
            "\n",
            " Boolean mask :\n",
            " [[False False False]\n",
            " [False False  True]\n",
            " [ True  True  True]]\n",
            "\n",
            "Các phần tử lớn hơn 5:\n",
            " [6 7 8 9]\n"
          ]
        }
      ]
    },
    {
      "cell_type": "code",
      "source": [
        "# Pytorch code\n",
        "import torch\n",
        "\n",
        "# Tạo tensor 2D\n",
        "tensor_2d = torch . tensor ([[1 , 2 , 3] , [4 , 5 , 6] , [7 , 8 , 9]])\n",
        "\n",
        "# Lấy các phần tử có giá trị lớn hơn 5\n",
        "boolean_mask = tensor_2d > 5\n",
        "filtered_result = tensor_2d [ boolean_mask ]\n",
        "# In kết quả\n",
        "print (\" Tensor 2D ban đầu:\\n\", tensor_2d )\n",
        "print (\"\\n Boolean mask :\\n\", boolean_mask )\n",
        "print (\"\\nCác phần tử lớn hơn 5:\\n\", filtered_result )"
      ],
      "metadata": {
        "colab": {
          "base_uri": "https://localhost:8080/"
        },
        "id": "7UPDcc75ujf8",
        "outputId": "d14800fc-26f9-4aa3-bf35-b027e8baaef9"
      },
      "execution_count": 70,
      "outputs": [
        {
          "output_type": "stream",
          "name": "stdout",
          "text": [
            " Tensor 2D ban đầu:\n",
            " tensor([[1, 2, 3],\n",
            "        [4, 5, 6],\n",
            "        [7, 8, 9]])\n",
            "\n",
            " Boolean mask :\n",
            " tensor([[False, False, False],\n",
            "        [False, False,  True],\n",
            "        [ True,  True,  True]])\n",
            "\n",
            "Các phần tử lớn hơn 5:\n",
            " tensor([6, 7, 8, 9])\n"
          ]
        }
      ]
    },
    {
      "cell_type": "code",
      "source": [
        "# Tensorflow code\n",
        "import tensorflow as tf\n",
        "\n",
        "\n",
        "# Tạo tensor 2D\n",
        "tensor_2d = tf . constant ([[1 , 2 , 3] , [4 , 5 , 6] , [7 , 8 , 9]])\n",
        "\n",
        "# Lấy các phần tử có giá trị lớn hơn 5\n",
        "boolean_mask = tensor_2d > 5\n",
        "filtered_result = tf . boolean_mask (tensor_2d , boolean_mask )\n",
        "\n",
        "# In kết quả\n",
        "print (\" Tensor 2D ban đầu:\\n\", tensor_2d )\n",
        "print (\"\\n Boolean mask :\\n\", boolean_mask )\n",
        "print (\"\\nCác phần tử lớn hơn 5:\\n\", filtered_result )\n"
      ],
      "metadata": {
        "colab": {
          "base_uri": "https://localhost:8080/"
        },
        "id": "8c7FigRpvWQ1",
        "outputId": "506fcd82-3471-4af1-fe41-fcb8bab5710c"
      },
      "execution_count": 71,
      "outputs": [
        {
          "output_type": "stream",
          "name": "stdout",
          "text": [
            " Tensor 2D ban đầu:\n",
            " tf.Tensor(\n",
            "[[1 2 3]\n",
            " [4 5 6]\n",
            " [7 8 9]], shape=(3, 3), dtype=int32)\n",
            "\n",
            " Boolean mask :\n",
            " tf.Tensor(\n",
            "[[False False False]\n",
            " [False False  True]\n",
            " [ True  True  True]], shape=(3, 3), dtype=bool)\n",
            "\n",
            "Các phần tử lớn hơn 5:\n",
            " tf.Tensor([6 7 8 9], shape=(4,), dtype=int32)\n"
          ]
        }
      ]
    },
    {
      "cell_type": "code",
      "source": [
        "import numpy as np\n",
        "arr_2d = np . array ([[1 , 0 , 1] ,\n",
        "                      [0 , 1 , 0] ,\n",
        "                      [1 , 0 , 1]])\n",
        "# Lấy hàng thứ 2(index=1) theo 2 cách giữ nguyên hoặc giảm số chiều\n",
        "# Cách 1: giảm số chiều của mảng\n",
        "row_1_arr_1 = arr_2d [1 , :]\n",
        "print (\" row_1_arr_1 (Giảm số chiều):\", row_1_arr_1 )\n",
        "# Cách 2: giữ nguyên số chiều của mảng\n",
        "row_1_arr_2 = arr_2d [1:2 , :]\n",
        "print (\" row_1_arr_2 (Giữ nguyên số chiều):\", row_1_arr_2 )\n",
        "\n",
        "# Lấy cột thứ nhất(index=0) theo 2 cách giữ nguyên hoặc giảm số chiều\n",
        "# Cách 1: giảm số chiều của mảng\n",
        "column_2_arr_1 = arr_2d [: , 0]\n",
        "print (\"\\ ncolumn_2_arr_1 (Giảm số chiều):\\n\", column_2_arr_1 )\n",
        "# Cách 2: giữ nguy ên số chiều của mảng\n",
        "column_2_arr_2 = arr_2d [: , 0:1]\n",
        "print (\"\\ ncolumn_2_arr_2 (Giữ nguyên số chiều):\\n\", column_2_arr_2 )"
      ],
      "metadata": {
        "colab": {
          "base_uri": "https://localhost:8080/"
        },
        "id": "Rz4V9GTxvto7",
        "outputId": "6f432b83-5ad2-4fc6-d8c0-09279f6fa6db"
      },
      "execution_count": 78,
      "outputs": [
        {
          "output_type": "stream",
          "name": "stdout",
          "text": [
            " row_1_arr_1 (Giảm số chiều): [0 1 0]\n",
            " row_1_arr_2 (Giữ nguyên số chiều): [[0 1 0]]\n",
            "\\ ncolumn_2_arr_1 (Giảm số chiều):\n",
            " [1 0 1]\n",
            "\\ ncolumn_2_arr_2 (Giữ nguyên số chiều):\n",
            " [[1]\n",
            " [0]\n",
            " [1]]\n"
          ]
        }
      ]
    },
    {
      "cell_type": "code",
      "source": [
        "import torch\n",
        "# Tạo tensor 2D\n",
        "tensor_2d = torch . tensor ([[1 , 0 , 1] ,\n",
        "                             [0 , 1 , 0] ,\n",
        "                             [1 , 0 , 1]])\n",
        "# Lấy hàng thứ 2(index=1) theo 2 cách giữ nguyên hoặc giảm số chiều\n",
        "# Cách 1: giảm số chiều của tensor\n",
        "row_1_tensor_1 = tensor_2d [1 , :]\n",
        "print (\" row_1_tensor_1 (Giảm số chiều):\", row_1_tensor_1 )\n",
        "# Cách 2: giữ nguy ên số chiều của tensor\n",
        "row_1_tensor_2 = tensor_2d [1:2 , :]\n",
        "print (\" row_1_tensor_2 (Giữ nguyên số chiều):\", row_1_tensor_2 )\n",
        "\n",
        "# Lấy cột thứ nhất(index=0) theo 2 cách giữ nguyên hoặc giảm số chiều\n",
        "# Cách 1: giảm số chiều của tensor\n",
        "column_2_tensor_1 = tensor_2d [: , 0]\n",
        "print (\"\\ ncolumn_2_tensor_1 (Giảm số chiều):\\n\", column_2_tensor_1 )\n",
        "# Cách 2: giữ nguy ên số chiều của tensor\n",
        "column_2_tensor_2 = tensor_2d [: , 0:1]\n",
        "print (\"\\ ncolumn_2_tensor_2 (Giữ nguyên số chiều):\\n\", column_2_tensor_2 )\n"
      ],
      "metadata": {
        "colab": {
          "base_uri": "https://localhost:8080/"
        },
        "id": "VqrJzPnKxsds",
        "outputId": "2a7e7679-6cbc-48f0-c233-52fe690df900"
      },
      "execution_count": 80,
      "outputs": [
        {
          "output_type": "stream",
          "name": "stdout",
          "text": [
            " row_1_tensor_1 (Giảm số chiều): tensor([0, 1, 0])\n",
            " row_1_tensor_2 (Giữ nguyên số chiều): tensor([[0, 1, 0]])\n",
            "\\ ncolumn_2_tensor_1 (Giảm số chiều):\n",
            " tensor([1, 0, 1])\n",
            "\\ ncolumn_2_tensor_2 (Giữ nguyên số chiều):\n",
            " tensor([[1],\n",
            "        [0],\n",
            "        [1]])\n"
          ]
        }
      ]
    },
    {
      "cell_type": "code",
      "source": [
        "import tensorflow as tf\n",
        "# Tạo tensor 2D\n",
        "tensor_2d = tf . constant ([[1 , 0 , 1] ,\n",
        "                            [0 , 1 , 0] ,\n",
        "                            [1 , 0 , 1]])\n",
        "# Lấy hàng thứ 2(index=1) theo 2 cách giữ nguyên hoặc giảm số chiều\n",
        "# Cách 1: giảm số chiều của tensor\n",
        "row_1_tensor_1 = tensor_2d [1 , :]\n",
        "print (\" row_1_tensor_1 (Giảm số chiều):\", row_1_tensor_1 )\n",
        "# Cách 2: giữ nguy ên số chiều của tensor\n",
        "row_1_tensor_2 = tensor_2d [1:2 , :]\n",
        "print (\" row_1_tensor_2 (Giữ nguyên số chiều):\", row_1_tensor_2 )\n",
        "\n",
        "# Lấy cột thứ nhất(index=0) theo 2 cách giữ nguyên hoặc giảm số chiều\n",
        "# Cách 1: giảm số chiều của tensor\n",
        "column_2_tensor_1 = tensor_2d [: , 0]\n",
        "print (\"\\ ncolumn_2_tensor_1 (Giảm số chiều):\\n\", column_2_tensor_1 )\n",
        "# Cách 2: giữ nguy ên số chiều của tensor\n",
        "column_2_tensor_2 = tensor_2d [: , 0:1]\n",
        "print (\"\\ ncolumn_2_tensor_2 (Giữ nguyên số chiều):\\n\", column_2_tensor_2 )"
      ],
      "metadata": {
        "colab": {
          "base_uri": "https://localhost:8080/"
        },
        "id": "ZNeZOvMFyHkt",
        "outputId": "21f1ca32-4167-40dc-90a5-dca8151f2fba"
      },
      "execution_count": 81,
      "outputs": [
        {
          "output_type": "stream",
          "name": "stdout",
          "text": [
            " row_1_tensor_1 (Giảm số chiều): tf.Tensor([0 1 0], shape=(3,), dtype=int32)\n",
            " row_1_tensor_2 (Giữ nguyên số chiều): tf.Tensor([[0 1 0]], shape=(1, 3), dtype=int32)\n",
            "\\ ncolumn_2_tensor_1 (Giảm số chiều):\n",
            " tf.Tensor([1 0 1], shape=(3,), dtype=int32)\n",
            "\\ ncolumn_2_tensor_2 (Giữ nguyên số chiều):\n",
            " tf.Tensor(\n",
            "[[1]\n",
            " [0]\n",
            " [1]], shape=(3, 1), dtype=int32)\n"
          ]
        }
      ]
    },
    {
      "cell_type": "code",
      "source": [
        "# Tạo một mảng với các giá trị số nguyên ngẫu nhiên trong khoảng [ -10 , 10), kích thước (3,3), sử dụng seed=2024\n",
        "\n",
        "import numpy as np\n",
        "np . random . seed (2024)\n",
        "\n",
        "arr_randint = np . random . randint ( -10 , 10 , size =(3 , 3) )  # np.random.randint (low, hight, shape)\n",
        "\n",
        "# sử dụng Boolean indices để lọc các phần tử lớn hơn 0.\n",
        "boolean_mask = arr_randint > 0 #boolean_mask được tạo ra bằng cách kiểm tra xem mỗi phần tử của array_2d có lớn hơn 0 hay không.\n",
        "#boolean_mask được sử dụng để lọc các phần tử tương ứng từ array_2d, chỉ giữ lại những phần tử có giá trị True\n",
        "filtered_result = arr_randint [ boolean_mask ]\n",
        "\n",
        "# In kết quả\n",
        "print (\"Mảng ngẫu nhiên ban đầu trong khoảng [ -10 , 10) :\\n\", arr_randint )\n",
        "print (\"\\n Boolean mask :\\n\", boolean_mask )\n",
        "print (\"\\nCác phần tử lớn hơn 0:\\n\", filtered_result )"
      ],
      "metadata": {
        "colab": {
          "base_uri": "https://localhost:8080/"
        },
        "id": "_QW457iUyoZ6",
        "outputId": "2aeaec3f-a561-4c69-e631-477eb28b49eb"
      },
      "execution_count": 90,
      "outputs": [
        {
          "output_type": "stream",
          "name": "stdout",
          "text": [
            "Mảng ngẫu nhiên ban đầu trong khoảng [ -10 , 10) :\n",
            " [[ -2 -10 -10]\n",
            " [ -6  -1  -9]\n",
            " [ -7   0  -8]]\n",
            "\n",
            " Boolean mask :\n",
            " [[False False False]\n",
            " [False False False]\n",
            " [False False False]]\n",
            "\n",
            "Các phần tử lớn hơn 0:\n",
            " []\n"
          ]
        }
      ]
    },
    {
      "cell_type": "code",
      "source": [
        "# Tạo một mảng với các giá trị số nguyên ngẫu nhiên trong khoảng [ -10 , 10), kích thước (3,3), sử dụng seed=2024\n",
        "\n",
        "import torch\n",
        "torch . manual_seed (2024)\n",
        "\n",
        "tensor_rand = torch . randint ( -10 , 10 , size =(3 , 3) )\n",
        "\n",
        "# sử dụng Boolean indices để lọc các phần tử lớn hơn 0.\n",
        "boolean_mask = tensor_rand > 0 #boolean_mask được tạo ra bằng cách kiểm tra xem mỗi phần tử của array_2d có lớn hơn 0 hay không.\n",
        "#boolean_mask được sử dụng để lọc các phần tử tương ứng từ array_2d, chỉ giữ lại những phần tử có giá trị True\n",
        "filtered_result = tensor_rand [ boolean_mask ]\n",
        "\n",
        "# In kết quả\n",
        "print (\"Mảng ngẫu nhiên ban đầu trong khoảng [ -10 , 10) :\\n\", arr_randint )\n",
        "print (\"\\n Boolean mask :\\n\", boolean_mask )\n",
        "print (\"\\nCác phần tử lớn hơn 0:\\n\", filtered_result )\n"
      ],
      "metadata": {
        "colab": {
          "base_uri": "https://localhost:8080/"
        },
        "id": "P939NL4Q0Z3Y",
        "outputId": "e615af96-1870-484e-be84-07500251e811"
      },
      "execution_count": 134,
      "outputs": [
        {
          "output_type": "stream",
          "name": "stdout",
          "text": [
            "Mảng ngẫu nhiên ban đầu trong khoảng [ -10 , 10) :\n",
            " [[-10  -5   7]\n",
            " [  5   0   4]\n",
            " [  5   1  -3]]\n",
            "\n",
            " Boolean mask :\n",
            " tensor([[ True, False, False],\n",
            "        [False, False, False],\n",
            "        [False,  True,  True]])\n",
            "\n",
            "Các phần tử lớn hơn 0:\n",
            " tensor([2, 1, 3])\n"
          ]
        }
      ]
    },
    {
      "cell_type": "code",
      "source": [
        "# Tạo một mảng với các giá trị số nguyên ngẫu nhiên trong khoảng [ -10 , 10), kích thước (3,3), sử dụng seed=2024\n",
        "\n",
        "import tensorflow as tf\n",
        "tf . random . set_seed (2024)\n",
        "\n",
        "tensor_random = tf . random . uniform ((3 , 3) , minval = -10 , maxval =10 , dtype = tf . int32 )\n",
        "\n",
        "# Lấy các phần tử có giá trị lớn hơn 0\n",
        "boolean_mask = tensor_random > 0\n",
        "filtered_result = tf . boolean_mask (tensor_random , boolean_mask )\n",
        "\n",
        "# In kết quả\n",
        "print (\" Tensor 2D ban đầu:\\n\", tensor_random )\n",
        "print (\"\\n Boolean mask :\\n\", boolean_mask )\n",
        "print (\"\\nCác phần tử lớn hơn 5:\\n\", filtered_result )"
      ],
      "metadata": {
        "colab": {
          "base_uri": "https://localhost:8080/"
        },
        "id": "D8yDiJ_E1JoM",
        "outputId": "dbbbab64-21c8-4cd5-821a-9f2182416a85"
      },
      "execution_count": 93,
      "outputs": [
        {
          "output_type": "stream",
          "name": "stdout",
          "text": [
            " Tensor 2D ban đầu:\n",
            " tf.Tensor(\n",
            "[[-6 -2  0]\n",
            " [-2  4  4]\n",
            " [-9  3  7]], shape=(3, 3), dtype=int32)\n",
            "\n",
            " Boolean mask :\n",
            " tf.Tensor(\n",
            "[[False False False]\n",
            " [False  True  True]\n",
            " [False  True  True]], shape=(3, 3), dtype=bool)\n",
            "\n",
            "Các phần tử lớn hơn 5:\n",
            " tf.Tensor([4 4 3 7], shape=(4,), dtype=int32)\n"
          ]
        }
      ]
    },
    {
      "cell_type": "code",
      "source": [
        "import numpy as np\n",
        "# Tạo hai array 1D\n",
        "arr_1 = np . array ([1 , 2 , 3 , 4])\n",
        "arr_2 = np . array ([5 , 6 , 7 , 8])\n",
        "# Thực hiện phép cộng hai array\n",
        "arr_add_1 = arr_1 + arr_2               # phép \"-\", \"*\", \"/\"\n",
        "arr_add_2 = np . add ( arr_1 , arr_2 )  # np.substract(),  np.multiply(),  np . divide()\n",
        "\n",
        "print ( f\" arr_1 = { arr_1 }\\n\")\n",
        "print ( f\" arr_2 = { arr_2 }\\n\")\n",
        "print (\" arr_1 + arr_2: \\n\")\n",
        "print ( f\" arr_add_1 = { arr_add_1 }\")\n",
        "print ( f\" arr_add_2 = { arr_add_2 }\")"
      ],
      "metadata": {
        "colab": {
          "base_uri": "https://localhost:8080/"
        },
        "id": "RrfU_DIZ3GcJ",
        "outputId": "b4f72576-3e26-4472-bba4-3b0e2d9c6c12"
      },
      "execution_count": 98,
      "outputs": [
        {
          "output_type": "stream",
          "name": "stdout",
          "text": [
            " arr_1 = [1 2 3 4]\n",
            "\n",
            " arr_2 = [5 6 7 8]\n",
            "\n",
            " arr_1 + arr_2: \n",
            "\n",
            " arr_add_1 = [ 6  8 10 12]\n",
            " arr_add_2 = [ 6  8 10 12]\n"
          ]
        }
      ]
    },
    {
      "cell_type": "code",
      "source": [
        "# Pytorch Tensorflow code\n",
        "import torch\n",
        "import tensorflow as tf\n",
        "lst_1 = [[1 , -2 , 1],\n",
        "         [ -3 , 1 , 0],\n",
        "         [ -2 , 5 , 1]]\n",
        "\n",
        "lst_2 = [[1 , 3 , 5],\n",
        "         [2 , 4 , 6],\n",
        "         [3 , 5 , 7]]\n",
        "\n",
        "tensor_1 = torch . tensor (lst_1)\n",
        "tensor_2 = torch . tensor (lst_2)\n",
        "tensor_sub_1 = tensor_1 - tensor_2                # phép \"+\", \"*\", \"/\"\n",
        "tensor_sub_2 = torch.sub ( tensor_1 ,tensor_2 ) # hoặc torch.subtract(), torch.add(), torch.multiply, torch.divide()\n",
        "\n",
        "print ( f\" tensor_1: \\n{ tensor_1 }\")\n",
        "print ( f\" tensor_2: \\n{ tensor_2 }\\n\")\n",
        "print ( f\" tensor_1 - tensor_2: \\n \")\n",
        "print ( f\" tensor_sub_1 = \\n{ tensor_sub_1 }\")\n",
        "print ( f\" tensor_sub_2 = \\n{ tensor_sub_2 }\\n\")\n",
        "\n",
        "import tensorflow as tf\n",
        "tensor_3 = tf . constant (lst_1)\n",
        "tensor_4 = tf . constant (lst_2)\n",
        "tensor_sub_3 = tensor_3 - tensor_4              # phép \"+\", \"*\", \"/\"\n",
        "tensor_sub_4 = tf.subtract ( tensor_3 ,tensor_4 )  # tf.add, tf.multiply(), tf.divide()\n",
        "\n",
        "print ( f\" tensor_3: \\n { tensor_3 }\")\n",
        "print ( f\" tensor_4: \\n { tensor_4 }\\n\")\n",
        "print ( f\" tensor_3 - tensor_4: \\n \")\n",
        "print ( f\" tensor_sub_3 = \\n{ tensor_sub_3 }\")\n",
        "print ( f\" tensor_sub_4 = \\n{ tensor_sub_4 }\")"
      ],
      "metadata": {
        "colab": {
          "base_uri": "https://localhost:8080/"
        },
        "id": "3NPJ-7aB8Le-",
        "outputId": "107ec7e3-e452-4869-81ae-cd73cb558674"
      },
      "execution_count": 105,
      "outputs": [
        {
          "output_type": "stream",
          "name": "stdout",
          "text": [
            " tensor_1: \n",
            "tensor([[ 1, -2,  1],\n",
            "        [-3,  1,  0],\n",
            "        [-2,  5,  1]])\n",
            " tensor_2: \n",
            "tensor([[1, 3, 5],\n",
            "        [2, 4, 6],\n",
            "        [3, 5, 7]])\n",
            "\n",
            " tensor_1 - tensor_2: \n",
            " \n",
            " tensor_sub_1 = \n",
            "tensor([[ 0, -5, -4],\n",
            "        [-5, -3, -6],\n",
            "        [-5,  0, -6]])\n",
            " tensor_sub_2 = \n",
            "tensor([[ 0, -5, -4],\n",
            "        [-5, -3, -6],\n",
            "        [-5,  0, -6]])\n",
            "\n",
            " tensor_3: \n",
            " [[ 1 -2  1]\n",
            " [-3  1  0]\n",
            " [-2  5  1]]\n",
            " tensor_4: \n",
            " [[1 3 5]\n",
            " [2 4 6]\n",
            " [3 5 7]]\n",
            "\n",
            " tensor_3 - tensor_4: \n",
            " \n",
            " tensor_sub_3 = \n",
            "[[ 0 -5 -4]\n",
            " [-5 -3 -6]\n",
            " [-5  0 -6]]\n",
            " tensor_sub_4 = \n",
            "[[ 0 -5 -4]\n",
            " [-5 -3 -6]\n",
            " [-5  0 -6]]\n"
          ]
        }
      ]
    },
    {
      "cell_type": "code",
      "source": [
        "import numpy as np\n",
        "lst_1 = [[1 , -2 , 1],\n",
        "         [ -3 , 1 , 0],\n",
        "         [ -2 , 5 , 1]]\n",
        "\n",
        "lst_2 = [[1 , 3 , 5],\n",
        "         [2 , 4 , 6],\n",
        "         [3 , 5 , 7]]\n",
        "arr_1 = np . array (lst_1)\n",
        "arr_2 = np . array (lst_2)\n",
        "# Thực hiện phép cộng hai array\n",
        "arr_add_1 = arr_1 + arr_2               # phép \"-\", \"*\", \"/\"\n",
        "arr_add_2 = np . add ( arr_1 , arr_2 )  # np.substract(),  np.multiply(),  np . divide()\n",
        "\n",
        "print ( f\" arr_1 = \\n { arr_1 }\\n\")\n",
        "print ( f\" arr_2 = \\n { arr_2 }\\n\")\n",
        "print (\" arr_1 + arr_2: \\n\")\n",
        "print ( f\" arr_add_1 = \\n { arr_add_1 }\")\n",
        "print ( f\" arr_add_2 = \\n { arr_add_2 }\\n\")\n",
        "\n",
        "arr_sub_1 = arr_1 - arr_2               # phép \"-\", \"*\", \"/\"\n",
        "arr_sub_2 = np . subtract ( arr_1 , arr_2 ) # np.substract(),  np.multiply(),  np . divide()\n",
        "print (\" arr_1 - arr_2: \\n\")\n",
        "print ( f\" arr_sub_1 = \\n { arr_sub_1 }\")\n",
        "print ( f\" arr_sub_2 = \\n { arr_sub_2 }\\n\")\n",
        "\n",
        "arr_mul_1 = arr_1 * arr_2               # phép \"-\", \"*\", \"/\"\n",
        "arr_mul_2 = np.multiply ( arr_1 , arr_2 ) # np.substract(),  np.multiply(),  np . divide()\n",
        "print (\" arr_1 * arr_2: \\n\")\n",
        "print ( f\" arr_mul_1 = \\n { arr_mul_1 }\")\n",
        "print ( f\" arr_mul_2 = \\n { arr_mul_2 }\\n\")\n",
        "\n",
        "arr_div_1 = arr_1 / arr_2               # phép \"-\", \"*\", \"/\"\n",
        "arr_div_2 = np . divide ( arr_1 , arr_2 ) # np.substract(),  np.multiply(),  np . divide()\n",
        "print (\" arr_1 / arr_2: \\n\")\n",
        "print ( f\" arr_div_1 = \\n { arr_div_1 }\")\n",
        "print ( f\" arr_div_2 = \\n { arr_div_2 }\\n\")"
      ],
      "metadata": {
        "colab": {
          "base_uri": "https://localhost:8080/"
        },
        "id": "Evi-Qxe59AeZ",
        "outputId": "6ba06bd2-3627-42bb-c3f3-cf668c02ddbe"
      },
      "execution_count": 117,
      "outputs": [
        {
          "output_type": "stream",
          "name": "stdout",
          "text": [
            " arr_1 = \n",
            " [[ 1 -2  1]\n",
            " [-3  1  0]\n",
            " [-2  5  1]]\n",
            "\n",
            " arr_2 = \n",
            " [[1 3 5]\n",
            " [2 4 6]\n",
            " [3 5 7]]\n",
            "\n",
            " arr_1 + arr_2: \n",
            "\n",
            " arr_add_1 = \n",
            " [[ 2  1  6]\n",
            " [-1  5  6]\n",
            " [ 1 10  8]]\n",
            " arr_add_2 = \n",
            " [[ 2  1  6]\n",
            " [-1  5  6]\n",
            " [ 1 10  8]]\n",
            "\n",
            " arr_1 - arr_2: \n",
            "\n",
            " arr_sub_1 = \n",
            " [[ 0 -5 -4]\n",
            " [-5 -3 -6]\n",
            " [-5  0 -6]]\n",
            " arr_sub_2 = \n",
            " [[ 0 -5 -4]\n",
            " [-5 -3 -6]\n",
            " [-5  0 -6]]\n",
            "\n",
            " arr_1 * arr_2: \n",
            "\n",
            " arr_mul_1 = \n",
            " [[ 1 -6  5]\n",
            " [-6  4  0]\n",
            " [-6 25  7]]\n",
            " arr_mul_2 = \n",
            " [[ 1 -6  5]\n",
            " [-6  4  0]\n",
            " [-6 25  7]]\n",
            "\n",
            " arr_1 / arr_2: \n",
            "\n",
            " arr_div_1 = \n",
            " [[ 1.         -0.66666667  0.2       ]\n",
            " [-1.5         0.25        0.        ]\n",
            " [-0.66666667  1.          0.14285714]]\n",
            " arr_div_2 = \n",
            " [[ 1.         -0.66666667  0.2       ]\n",
            " [-1.5         0.25        0.        ]\n",
            " [-0.66666667  1.          0.14285714]]\n",
            "\n"
          ]
        }
      ]
    },
    {
      "cell_type": "code",
      "source": [
        "'''Phép tính tích vô hướng (inner product), còn được biết đến với tên gọi khác là dot product. Phép\n",
        "tích vô hướng giữa hai vector có thể được tính để đo lường sự tương quan hoặc hướng của chúng.\n",
        "Cho hai vectơ a = [a1, a2, . . . , an] và b = [b1, b2, . . . , bn] trong không gian Euclidean Rn,\n",
        "phép tích vô hướng của chúng được xác định bởi công thức: a · b = a1b1 + a2b2 + . . . + anbn\n",
        "'''"
      ],
      "metadata": {
        "id": "nFqXa2I2HyYu"
      },
      "execution_count": null,
      "outputs": []
    },
    {
      "cell_type": "code",
      "source": [
        "# Numpy code\n",
        "import numpy as np\n",
        "\n",
        "# Tạo hai array 1D\n",
        "arr_1 = np . array ([1 , 2])\n",
        "arr_2 = np . array ([2 , 3])\n",
        "# In ra giá trị của hai array\n",
        "print (\" arr_1 :\\n\", arr_1 )\n",
        "print (\" arr_2 :\\n\", arr_2 )\n",
        "# Sử dụng hàm np.dot ()\n",
        "result_dot = np . dot ( arr_1 , arr_2 )\n",
        "# In ra màn hình\n",
        "print (\"Kết quả tích vô hướng arr_1 , arr_2:\\n\", result_dot )"
      ],
      "metadata": {
        "colab": {
          "base_uri": "https://localhost:8080/"
        },
        "id": "zbi41Lc5LXCP",
        "outputId": "f8a64a99-91d1-4c93-aa49-d7bda16092f0"
      },
      "execution_count": 118,
      "outputs": [
        {
          "output_type": "stream",
          "name": "stdout",
          "text": [
            " arr_1 :\n",
            " [1 2]\n",
            " arr_2 :\n",
            " [2 3]\n",
            "Kết quả tích vô hướng arr_1 , arr_2:\n",
            " 8\n"
          ]
        }
      ]
    },
    {
      "cell_type": "code",
      "source": [
        "import numpy as np\n",
        "a = [1, 4, 7]\n",
        "b = [9, 2, 3]\n",
        "arr_1 = np . array (a)\n",
        "arr_2 = np . array (b)\n",
        "# In ra giá trị của hai array\n",
        "print (\" arr_1 :\\n\", arr_1 )\n",
        "print (\" arr_2 :\\n\", arr_2 )\n",
        "# Sử dụng hàm np.dot ()\n",
        "result_dot = np . dot ( arr_1 , arr_2 )\n",
        "# In ra màn hình\n",
        "print (\"Kết quả tích vô hướng arr_1 , arr_2:\\n\", result_dot )"
      ],
      "metadata": {
        "colab": {
          "base_uri": "https://localhost:8080/"
        },
        "id": "4HlIttGXPM8K",
        "outputId": "b78c2462-9c40-47dd-a706-d30212afc436"
      },
      "execution_count": 124,
      "outputs": [
        {
          "output_type": "stream",
          "name": "stdout",
          "text": [
            " arr_1 :\n",
            " [1 4 7]\n",
            " arr_2 :\n",
            " [9 2 3]\n",
            "Kết quả tích vô hướng arr_1 , arr_2:\n",
            " 38\n"
          ]
        }
      ]
    },
    {
      "cell_type": "code",
      "source": [
        "# Pytorch code\n",
        "import torch\n",
        "# Tạo hai tensor 1D\n",
        "tensor_1 = torch . tensor ([1 , 2])\n",
        "tensor_2 = torch . tensor ([2 , 3])\n",
        "# In ra giá trị của hai tensor\n",
        "print (\" tensor 1:\\n\", tensor_1 )\n",
        "print (\" tensor 2:\\n\", tensor_2 )\n",
        "# Sử dụng hàm torch .dot ()\n",
        "result_dot = torch . dot ( tensor_1 , tensor_2 )\n",
        "# In ra màn hình\n",
        "print (\"Kết quả tích vô hướng tensor_1 , tensor_2 :\\n\", result_dot )\n"
      ],
      "metadata": {
        "colab": {
          "base_uri": "https://localhost:8080/"
        },
        "id": "V2uyax9ELeEm",
        "outputId": "12f1a6ee-42fb-4e59-b8f8-09828bef6520"
      },
      "execution_count": 119,
      "outputs": [
        {
          "output_type": "stream",
          "name": "stdout",
          "text": [
            " tensor 1:\n",
            " tensor([1, 2])\n",
            " tensor 2:\n",
            " tensor([2, 3])\n",
            "Kết quả tích vô hướng tensor_1 , tensor_2 :\n",
            " tensor(8)\n"
          ]
        }
      ]
    },
    {
      "cell_type": "code",
      "source": [
        "import torch\n",
        "# Tạo hai tensor 1D\n",
        "a = [1, 4, 7]\n",
        "b = [9, 2, 3]\n",
        "tensor_1 = torch . tensor (a)\n",
        "tensor_2 = torch . tensor (b)\n",
        "# In ra giá trị của hai tensor\n",
        "print (\" tensor 1:\\n\", tensor_1 )\n",
        "print (\" tensor 2:\\n\", tensor_2 )\n",
        "# Sử dụng hàm torch .dot ()\n",
        "result_dot = torch . dot ( tensor_1 , tensor_2 )\n",
        "# In ra màn hình\n",
        "print (\"Kết quả tích vô hướng tensor_1 , tensor_2 :\\n\", result_dot )\n"
      ],
      "metadata": {
        "colab": {
          "base_uri": "https://localhost:8080/"
        },
        "id": "yO55Yzc0PtlG",
        "outputId": "d8340c7b-0947-4bab-ba3e-be5f61087769"
      },
      "execution_count": 125,
      "outputs": [
        {
          "output_type": "stream",
          "name": "stdout",
          "text": [
            " tensor 1:\n",
            " tensor([1, 4, 7])\n",
            " tensor 2:\n",
            " tensor([9, 2, 3])\n",
            "Kết quả tích vô hướng tensor_1 , tensor_2 :\n",
            " tensor(38)\n"
          ]
        }
      ]
    },
    {
      "cell_type": "code",
      "source": [
        "# TensorFlow code\n",
        "import tensorflow as tf\n",
        "\n",
        "# Tạo hai tensor 1D\n",
        "tensor_1 = tf . constant ([1 , 2])\n",
        "tensor_2 = tf . constant ([2 , 3])\n",
        "\n",
        "# In ra giá trị của hai tensor\n",
        "print (\" tensor 1:\\n\", tensor_1 )\n",
        "print (\" tensor 2:\\n\", tensor_2 )\n",
        "# Tích vô hướng hai tensor\n",
        "result_dot = tf . tensordot ( tensor_1 ,tensor_2 , axes =1)\n",
        "\n",
        "# In ra màn hình\n",
        "print (\"Kết quả tích vô hướng tensor_1 , tensor_2 :\\n\", result_dot )\n"
      ],
      "metadata": {
        "colab": {
          "base_uri": "https://localhost:8080/"
        },
        "id": "tVqMRhjcLp2o",
        "outputId": "52f45907-cefe-4c83-bade-152328207deb"
      },
      "execution_count": 120,
      "outputs": [
        {
          "output_type": "stream",
          "name": "stdout",
          "text": [
            " tensor 1:\n",
            " tf.Tensor([1 2], shape=(2,), dtype=int32)\n",
            " tensor 2:\n",
            " tf.Tensor([2 3], shape=(2,), dtype=int32)\n",
            "Kết quả tích vô hướng tensor_1 , tensor_2 :\n",
            " tf.Tensor(8, shape=(), dtype=int32)\n"
          ]
        }
      ]
    },
    {
      "cell_type": "code",
      "source": [
        "import tensorflow as tf\n",
        "\n",
        "# Tạo hai tensor 1D\n",
        "a = [1, 4, 7]\n",
        "b = [9, 2, 3]\n",
        "tensor_1 = tf . constant (a)\n",
        "tensor_2 = tf . constant (b)\n",
        "\n",
        "# In ra giá trị của hai tensor\n",
        "print (\" tensor 1:\\n\", tensor_1 )\n",
        "print (\" tensor 2:\\n\", tensor_2 )\n",
        "# Tích vô hướng hai tensor\n",
        "result_dot = tf . tensordot ( tensor_1 ,tensor_2 , axes =1)\n",
        "\n",
        "# In ra màn hình\n",
        "print (\"Kết quả tích vô hướng tensor_1 , tensor_2 :\\n\", result_dot )"
      ],
      "metadata": {
        "colab": {
          "base_uri": "https://localhost:8080/"
        },
        "id": "2adxjm-bP5W7",
        "outputId": "9dd2551e-999b-4155-b0a9-03d24fd3e5f9"
      },
      "execution_count": 126,
      "outputs": [
        {
          "output_type": "stream",
          "name": "stdout",
          "text": [
            " tensor 1:\n",
            " tf.Tensor([1 4 7], shape=(3,), dtype=int32)\n",
            " tensor 2:\n",
            " tf.Tensor([9 2 3], shape=(3,), dtype=int32)\n",
            "Kết quả tích vô hướng tensor_1 , tensor_2 :\n",
            " tf.Tensor(38, shape=(), dtype=int32)\n"
          ]
        }
      ]
    },
    {
      "cell_type": "code",
      "source": [
        "# Matrix-matrix multiplication\n",
        "# Numpy code\n",
        "import numpy as np\n",
        "\n",
        "# Tạo 2 array 2D\n",
        "arr_1 = np . array ([[1 , 2] , [3 , 4]])\n",
        "arr_2 = np . array ([[5 , 6] , [7 , 8]])\n",
        "# In ra giá trị của hai array\n",
        "print (\" arr_1 :\\n\", arr_1 )\n",
        "print (\" arr_2 :\\n\", arr_2 )\n",
        "\n",
        "# Sử dụng hàm np. matmul ()\n",
        "result_matmul = np . matmul ( arr_1 , arr_2 )\n",
        "\n",
        "print (\"Kết quả tích arr_1 , arr_2 :\\n\", result_matmul )"
      ],
      "metadata": {
        "colab": {
          "base_uri": "https://localhost:8080/"
        },
        "id": "WVrviEZML43j",
        "outputId": "ce540a2e-7ae9-4489-b5c5-aaa9e5a8dece"
      },
      "execution_count": 121,
      "outputs": [
        {
          "output_type": "stream",
          "name": "stdout",
          "text": [
            " arr_1 :\n",
            " [[1 2]\n",
            " [3 4]]\n",
            " arr_2 :\n",
            " [[5 6]\n",
            " [7 8]]\n",
            "Kết quả tích arr_1 , arr_2 :\n",
            " [[19 22]\n",
            " [43 50]]\n"
          ]
        }
      ]
    },
    {
      "cell_type": "code",
      "source": [],
      "metadata": {
        "id": "bOdEFvOzQCWb"
      },
      "execution_count": null,
      "outputs": []
    },
    {
      "cell_type": "code",
      "source": [
        "# Pytorch code\n",
        "import torch\n",
        "\n",
        "# Tạo hai tensor 2D\n",
        "tensor_1 = torch . tensor ([[1 , 2] , [3 , 4]])\n",
        "tensor_2 = torch . tensor ([[5 , 6] , [7 , 8]])\n",
        "\n",
        "# In ra giá trị của hai tensor\n",
        "print (\" tensor 1:\\n\", tensor_1 )\n",
        "print (\" tensor 2:\\n\", tensor_2 )\n",
        "\n",
        "# Sử dụng hàm  torch . matmul (input , other , out = None )\n",
        "'''input: Tensor đầu tiên để thực hiện phép nhân ma trận.\n",
        "other: Tensor thứ hai để thực hiện phép nhân ma trận.\n",
        "out: Tensor để lưu trữ kết quả. Nếu không được chỉ định, một tensor mới sẽ được tạo.'''\n",
        "\n",
        "result_matmul = torch . matmul ( tensor_1 ,tensor_2 )\n",
        "\n",
        "# In ra màn hình\n",
        "print (\"Kết quả tích tensor_1 , tensor_2 :\\n\", result_matmul )"
      ],
      "metadata": {
        "colab": {
          "base_uri": "https://localhost:8080/"
        },
        "id": "O5D6YFz1NJOJ",
        "outputId": "a1f251ad-16f1-4a85-e39c-6b34ed214e3c"
      },
      "execution_count": 122,
      "outputs": [
        {
          "output_type": "stream",
          "name": "stdout",
          "text": [
            " tensor 1:\n",
            " tensor([[1, 2],\n",
            "        [3, 4]])\n",
            " tensor 2:\n",
            " tensor([[5, 6],\n",
            "        [7, 8]])\n",
            "Kết quả tích tensor_1 , tensor_2 :\n",
            " tensor([[19, 22],\n",
            "        [43, 50]])\n"
          ]
        }
      ]
    },
    {
      "cell_type": "code",
      "source": [
        "# Tensorflow code\n",
        "import tensorflow as tf\n",
        "\n",
        "# Tạo hai tensor 2D\n",
        "tensor_1 = tf . constant ([[1 , 2] , [3 , 4]])\n",
        "tensor_2 = tf . constant ([[5 , 6] , [7 , 8]])\n",
        "\n",
        "# In ra giá trị của hai tensor\n",
        "print (\" tensor 1:\\n\", tensor_1 )\n",
        "print (\" tensor 2:\\n\", tensor_2 )\n",
        "\n",
        "# Tích hai tensor: tf . matmul (a , b , transpose_a = False , transpose_b = False )\n",
        "'''a, b: Hai tensor để thực hiện phép nhân ma trận.\n",
        "transpose_a, transpose_b: Xác định xem có nên chuyển vị các tensor a và b trước khi thực hiện\n",
        "phép nhân hay không.\n",
        "'''\n",
        "\n",
        "result_matmul = tf . matmul ( tensor_1 ,tensor_2 )\n",
        "\n",
        "# In ra màn hình\n",
        "print (\"Kết quả tích tensor_1 , tensor_2 :\\n\", result_matmul )"
      ],
      "metadata": {
        "colab": {
          "base_uri": "https://localhost:8080/"
        },
        "id": "7RH4zEJMN12p",
        "outputId": "8744df26-af16-45ae-f9b5-41ca082293e0"
      },
      "execution_count": 123,
      "outputs": [
        {
          "output_type": "stream",
          "name": "stdout",
          "text": [
            " tensor 1:\n",
            " tf.Tensor(\n",
            "[[1 2]\n",
            " [3 4]], shape=(2, 2), dtype=int32)\n",
            " tensor 2:\n",
            " tf.Tensor(\n",
            "[[5 6]\n",
            " [7 8]], shape=(2, 2), dtype=int32)\n",
            "Kết quả tích tensor_1 , tensor_2 :\n",
            " tf.Tensor(\n",
            "[[19 22]\n",
            " [43 50]], shape=(2, 2), dtype=int32)\n"
          ]
        }
      ]
    },
    {
      "cell_type": "code",
      "source": [
        "'''\n",
        "Viết chương trình tạo hai Numpy array, Pytorch tensor, Tensorflow tensor với các giá trị số\n",
        "nguyên ngẫu nhiên trong khoảng [-10, 10) với kích thước (3, 3).\n",
        "Hãy tính matrix multiplication hai ma trận này bằng ba thư viện Numpy, Pytorch và Tensorflow.\n",
        "Lưu ý: sử dụng seed=2024\n",
        "'''"
      ],
      "metadata": {
        "id": "3imVBP-CQrlG"
      },
      "execution_count": null,
      "outputs": []
    },
    {
      "cell_type": "code",
      "source": [
        "import numpy as np\n",
        "np . random . seed (2024)\n",
        "\n",
        "arr_randint1 = np . random . randint ( -10 , 10 , size =(3 , 3) )  # np.random.randint (low, hight, shape)\n",
        "arr_randint2 = np . random . randint ( -10 , 10 , size =(3 , 3) )\n",
        "print (\" arr_randint1 :\\n\", arr_randint1 )\n",
        "print (\" arr_randint2 :\\n\", arr_randint2 )\n",
        "\n",
        "# Sử dụng hàm np. matmul ()\n",
        "result_matmul = np . matmul ( arr_randint1 , arr_randint2 )\n",
        "\n",
        "print (\"Kết quả tích arr_randint1 , arr_randint2 :\\n\", result_matmul )\n"
      ],
      "metadata": {
        "colab": {
          "base_uri": "https://localhost:8080/"
        },
        "id": "NPZwQtaKOa0L",
        "outputId": "60e0bee8-91df-4425-ec71-91dee3c475dd"
      },
      "execution_count": 127,
      "outputs": [
        {
          "output_type": "stream",
          "name": "stdout",
          "text": [
            " arr_randint1 :\n",
            " [[ -2 -10 -10]\n",
            " [ -6  -1  -9]\n",
            " [ -7   0  -8]]\n",
            " arr_randint2 :\n",
            " [[-10  -5   7]\n",
            " [  5   0   4]\n",
            " [  5   1  -3]]\n",
            "Kết quả tích arr_randint1 , arr_randint2 :\n",
            " [[-80   0 -24]\n",
            " [ 10  21 -19]\n",
            " [ 30  27 -25]]\n"
          ]
        }
      ]
    },
    {
      "cell_type": "code",
      "source": [
        "import torch\n",
        "torch . manual_seed (2024)\n",
        "\n",
        "tensor_rand1 = torch . randint ( -10 , 10 , size =(3 , 3) )\n",
        "tensor_rand2 = torch . randint ( -10 , 10 , size =(3 , 3) )\n",
        "\n",
        "# In ra giá trị của hai tensor\n",
        "print (\" tensor_rand 1:\\n\", tensor_rand1 )\n",
        "print (\" tensor_rand 2:\\n\", tensor_rand2 )\n",
        "\n",
        "# Sử dụng hàm  torch . matmul (input , other , out = None )\n",
        "'''input: Tensor đầu tiên để thực hiện phép nhân ma trận.\n",
        "other: Tensor thứ hai để thực hiện phép nhân ma trận.\n",
        "out: Tensor để lưu trữ kết quả. Nếu không được chỉ định, một tensor mới sẽ được tạo.'''\n",
        "\n",
        "result_matmul = torch.matmul(tensor_rand1, tensor_rand2)\n",
        "\n",
        "# In ra màn hình\n",
        "print (\"Kết quả tích tensor_rand_1 , tensor_rand_2 :\\n\", result_matmul )"
      ],
      "metadata": {
        "colab": {
          "base_uri": "https://localhost:8080/"
        },
        "id": "gbmjwbOCQhM4",
        "outputId": "51ac503d-8af0-4f37-d3e2-2de0c33f446d"
      },
      "execution_count": 135,
      "outputs": [
        {
          "output_type": "stream",
          "name": "stdout",
          "text": [
            " tensor_rand 1:\n",
            " tensor([[  2,   0,  -6],\n",
            "        [-10,  -7, -10],\n",
            "        [  0,   1,   3]])\n",
            " tensor_rand 2:\n",
            " tensor([[  9,   7,  -6],\n",
            "        [  1,   8,   0],\n",
            "        [ -2,  -9, -10]])\n",
            "Kết quả tích tensor_rand_1 , tensor_rand_2 :\n",
            " tensor([[ 30,  68,  48],\n",
            "        [-77, -36, 160],\n",
            "        [ -5, -19, -30]])\n"
          ]
        }
      ]
    },
    {
      "cell_type": "code",
      "source": [
        "import tensorflow as tf\n",
        "tf . random . set_seed (2024)\n",
        "\n",
        "tensor_random1 = tf . random . uniform ((3 , 3) , minval = -10 , maxval =10 , dtype = tf . int32 )\n",
        "tensor_random2 = tf . random . uniform ((3 , 3) , minval = -10 , maxval =10 , dtype = tf . int32 )\n",
        "\n",
        "print (\" tensor_random1 :\\n\", tensor_random1 )\n",
        "print (\" tensor_random2 :\\n\", tensor_random2 )\n",
        "\n",
        "# Sử dụng hàm np. matmul ()\n",
        "result_matmul = np . matmul ( arr_randint1 , arr_randint2 )\n",
        "\n",
        "print (\"Kết quả tích arr_randint1 , arr_randint2 :\\n\", result_matmul )\n"
      ],
      "metadata": {
        "colab": {
          "base_uri": "https://localhost:8080/"
        },
        "id": "kje9r-BnQkZW",
        "outputId": "beff3bd3-7f2c-4e52-c88d-7ca17acace5a"
      },
      "execution_count": 136,
      "outputs": [
        {
          "output_type": "stream",
          "name": "stdout",
          "text": [
            " tensor_random1 :\n",
            " tf.Tensor(\n",
            "[[-6 -2  0]\n",
            " [-2  4  4]\n",
            " [-9  3  7]], shape=(3, 3), dtype=int32)\n",
            " tensor_random2 :\n",
            " tf.Tensor(\n",
            "[[-3 -7  9]\n",
            " [ 3  2 -5]\n",
            " [-3 -5  4]], shape=(3, 3), dtype=int32)\n",
            "Kết quả tích arr_randint1 , arr_randint2 :\n",
            " [[  77  -16  -19]\n",
            " [ -48    1   35]\n",
            " [ -69   24 -101]]\n"
          ]
        }
      ]
    },
    {
      "cell_type": "code",
      "source": [
        "# Transpose và Summation\n",
        "# Numpy code\n",
        "import numpy as np\n",
        "\n",
        "# Tạo array 2d\n",
        "arr_1 = np . array ([[1 , 2] , [3 , 4]])\n",
        "# Chuyển vị array\n",
        "# Cách 1: Sử dụng hàm np. transpose ()\n",
        "arr_transposed_1 = np . transpose ( arr_1 )\n",
        "# Cách 2: Sử dụng toán tử T\n",
        "arr_transposed_2 = arr_1 . T\n",
        "# In ra màn hình\n",
        "print (\" array 1:\\n\", arr_1 )\n",
        "print (\" array 1 sau khi chuyển vị, cách 1:\\n\", arr_transposed_1 )\n",
        "print (\" array 1 sau khi chuyển vị, cách 2:\\n\", arr_transposed_2 )"
      ],
      "metadata": {
        "colab": {
          "base_uri": "https://localhost:8080/"
        },
        "id": "_cUKpEwpUVum",
        "outputId": "4340da21-0d56-497c-e5d6-d9a6d1a211bf"
      },
      "execution_count": 137,
      "outputs": [
        {
          "output_type": "stream",
          "name": "stdout",
          "text": [
            " array 1:\n",
            " [[1 2]\n",
            " [3 4]]\n",
            " array 1 sau khi chuyển vị, cách 1:\n",
            " [[1 3]\n",
            " [2 4]]\n",
            " array 1 sau khi chuyển vị, cách 2:\n",
            " [[1 3]\n",
            " [2 4]]\n"
          ]
        }
      ]
    },
    {
      "cell_type": "code",
      "source": [
        "# Pytorch code\n",
        "import torch\n",
        "\n",
        "#Tạo tensor 2d\n",
        "tensor_1 = torch . tensor ([[1 , 2] , [3 , 4]])\n",
        "# Chuyển vị tensor\n",
        "# Cách 1: Sử dụng hàm torch .t()\n",
        "tensor_transposed_1 = torch . t ( tensor_1 )\n",
        "# Cách 2: Sử dụng hàm torch . transpose (input , dim0 , dim1 ):\n",
        "# input: Tensor cần được chuyển vị. dim0, dim1: Các chiều được chọn để thực hiện chuyển vị\n",
        "\n",
        "tensor_transposed_2 = torch . transpose (tensor_1 , 0 , 1)\n",
        "# In ra màn hình\n",
        "print (\" tensor 1:\\n\", tensor_1 )\n",
        "print (\" tensor 1 sau khi chuyển vị, cách 1\\n\", tensor_transposed_1 )\n",
        "print (\" tensor 1 sau khi chuyển vị, cách 2 \\n\", tensor_transposed_2 )\n"
      ],
      "metadata": {
        "colab": {
          "base_uri": "https://localhost:8080/"
        },
        "id": "Wc1eCkB-U9uj",
        "outputId": "de0b9191-8080-486d-f619-d0a13ebe09bd"
      },
      "execution_count": 140,
      "outputs": [
        {
          "output_type": "stream",
          "name": "stdout",
          "text": [
            " tensor 1:\n",
            " tensor([[1, 2],\n",
            "        [3, 4]])\n",
            " tensor 1 sau khi chuyển vị, cách 1\n",
            " tensor([[1, 3],\n",
            "        [2, 4]])\n",
            " tensor 1 sau khi chuyển vị, cách 2 \n",
            " tensor([[1, 3],\n",
            "        [2, 4]])\n"
          ]
        }
      ]
    },
    {
      "cell_type": "code",
      "source": [
        "# Tensorflow code\n",
        "import tensorflow as tf\n",
        "\n",
        "# Tạo tensor 2d\n",
        "tensor_1 = tf . constant ([[1 , 2] , [3 , 4]])\n",
        "# Chuy ển vị tensor\n",
        "tensor_transposed = tf . transpose ( tensor_1 )\n",
        "\n",
        "# In ra màn hình\n",
        "print (\" tensor 1:\\n\", tensor_1 )\n",
        "print (\" tensor 1 sau khi chuyển vị:\\n\", tensor_transposed )\n"
      ],
      "metadata": {
        "colab": {
          "base_uri": "https://localhost:8080/"
        },
        "id": "-bHIHixSVqLg",
        "outputId": "2174d74f-70d1-4b5b-977a-75e31953024b"
      },
      "execution_count": 141,
      "outputs": [
        {
          "output_type": "stream",
          "name": "stdout",
          "text": [
            " tensor 1:\n",
            " tf.Tensor(\n",
            "[[1 2]\n",
            " [3 4]], shape=(2, 2), dtype=int32)\n",
            " tensor 1 sau khi chuy ển vị:\n",
            " tf.Tensor(\n",
            "[[1 3]\n",
            " [2 4]], shape=(2, 2), dtype=int32)\n"
          ]
        }
      ]
    },
    {
      "cell_type": "code",
      "source": [
        "'''\n",
        "Summation\n",
        "Trong thư viện Numpy, hàm np.sum() được sử dụng để tính tổng của các phần tử trong mảng (array).\n",
        "Hàm này có thể được áp dụng trên các mảng 1D, 2D hoặc có số chiều cao hơn. Cú phắp:\n",
        "np . sum (a , axis = None , dtype = None , keepdims = False , initial =0 , where = True )\n",
        "Trong đó:\n",
        "a: Mảng đầu vào.\n",
        "axis: (Tùy chọn) Chiều hoặc các chiều trên đó tổng sẽ được thực hiện. Mặc định là None, tức là tổng của tất cả các phần tử trong mảng.\n",
        "dtype: (Tùy chọn) Kiểu dữ liệu của kết quả.\n",
        "keepdims: (Tùy chọn) Nếu là True, giữ chiều của mảng kết quả (nếu có) giống với chiều của mảng đầu vào.\n",
        "initial: (Tùy chọn) Giá trị khởi tạo cho tổng.\n",
        "where: (Tùy chọn) Một mảng Boolean chỉ định vị trí các phần tử được sử dụng trong phép toán.\n",
        "'''"
      ],
      "metadata": {
        "id": "WtcqbWrgWGXF"
      },
      "execution_count": null,
      "outputs": []
    },
    {
      "cell_type": "code",
      "source": [
        "# Numpy code\n",
        "import numpy as np\n",
        "\n",
        "# Tạo mảng 2D\n",
        "arr = np . array ([[1 , 2 , 3] ,\n",
        "                  [4 , 5 , 6]])\n",
        "\n",
        "# Tính tổng của tất cả các phần tử trong mảng\n",
        "total_sum = np .sum( arr )\n",
        "\n",
        "# Tính tổng theo cột ( theo chiều dọc)\n",
        "column_sum = np .sum ( arr , axis =0)\n",
        "\n",
        "# Tính tổng theo hàng ( theo chiều ngang )\n",
        "row_sum = np .sum ( arr , axis =1)\n",
        "\n",
        "# In ra màn hình\n",
        "print (\"Mảng :\\n\", arr )\n",
        "print (\"Tổng của tất cả các phần tử trong mảng :\\n\", total_sum )\n",
        "print (\"Tổng theo cột:\\n\", column_sum )\n",
        "print (\"Tổng theo hàng :\\n\", row_sum )"
      ],
      "metadata": {
        "colab": {
          "base_uri": "https://localhost:8080/"
        },
        "id": "rj9WWKJmWkhA",
        "outputId": "58ec79fa-d16a-4e35-dc75-76eefa92c173"
      },
      "execution_count": 143,
      "outputs": [
        {
          "output_type": "stream",
          "name": "stdout",
          "text": [
            "Mảng :\n",
            " [[1 2 3]\n",
            " [4 5 6]]\n",
            "Tổng của tất cả các phần tử trong mảng :\n",
            " 21\n",
            "Tổng theo cột:\n",
            " [5 7 9]\n",
            "Tổng theo hàng :\n",
            " [ 6 15]\n"
          ]
        }
      ]
    },
    {
      "cell_type": "code",
      "source": [
        "# Pytorch code\n",
        "import torch\n",
        "\n",
        "# Tạo tensor 2d\n",
        "tensor_1 = torch . tensor ([[1 , 2] , [3 , 4]])\n",
        "# Tính tổng tensor\n",
        "tensor_sum = torch .sum( tensor_1 )\n",
        "# Tính tổng tensor theo cột axis = 0\n",
        "tensor_sum_axis_0 = torch .sum( tensor_1 ,axis =0)\n",
        "# Tính tổng tensor theo hàng axis = 1\n",
        "tensor_sum_axis_1 = torch .sum( tensor_1 ,axis =1)\n",
        "\n",
        "# In ra màn hình\n",
        "print (\" tensor :\\n\", tensor_1 )\n",
        "print (\"Tổng các phần tử trong tensor :\\n\",tensor_sum )\n",
        "print (\"Tổng theo cột:\\n\",tensor_sum_axis_0 )\n",
        "print (\"Tổng theo hàng :\\n\",tensor_sum_axis_1 )\n"
      ],
      "metadata": {
        "colab": {
          "base_uri": "https://localhost:8080/"
        },
        "id": "4R3zMb7OXHty",
        "outputId": "3f0c9400-1df6-47b9-d285-38680105c27d"
      },
      "execution_count": 144,
      "outputs": [
        {
          "output_type": "stream",
          "name": "stdout",
          "text": [
            " tensor :\n",
            " tensor([[1, 2],\n",
            "        [3, 4]])\n",
            "Tổng các phần tử trong tensor :\n",
            " tensor(10)\n",
            "Tổng theo cột:\n",
            " tensor([4, 6])\n",
            "Tổng theo hàng :\n",
            " tensor([3, 7])\n"
          ]
        }
      ]
    },
    {
      "cell_type": "code",
      "source": [
        "# Tensorflow code\n",
        "import tensorflow as tf\n",
        "\n",
        "# Tạo tensor 2d\n",
        "tensor_1 = tf . constant ([[1 , 2] , [3 , 4]])\n",
        "# Tính tổng tensor\n",
        "tensor_sum = tf . reduce_sum ( tensor_1 )\n",
        "# Tính tổng tensor theo cột axis = 0\n",
        "tensor_sum_axis_0 = tf . reduce_sum ( tensor_1, axis =0)\n",
        "# Tính tổng tensor theo hàng axis = 1\n",
        "tensor_sum_axis_1 = tf . reduce_sum ( tensor_1, axis =1)\n",
        "\n",
        "# In ra màn hình\n",
        "print (\" tensor :\\n\", tensor_1 )\n",
        "print (\"Tổng các phần tử trong tensor :\\n\",tensor_sum )\n",
        "print (\"Tổng theo cột:\\n\", tensor_sum_axis_0 )\n",
        "print (\"Tổng theo hàng :\\n\", tensor_sum_axis_1 )\n"
      ],
      "metadata": {
        "colab": {
          "base_uri": "https://localhost:8080/"
        },
        "id": "Cy_tCZ7uXjT0",
        "outputId": "2993dadd-74a6-4e5e-d4bb-653ba7086cce"
      },
      "execution_count": 145,
      "outputs": [
        {
          "output_type": "stream",
          "name": "stdout",
          "text": [
            " tensor :\n",
            " tf.Tensor(\n",
            "[[1 2]\n",
            " [3 4]], shape=(2, 2), dtype=int32)\n",
            "Tổng các phần tử trong tensor :\n",
            " tf.Tensor(10, shape=(), dtype=int32)\n",
            "Tổng theo cột:\n",
            " tf.Tensor([4 6], shape=(2,), dtype=int32)\n",
            "Tổng theo hàng :\n",
            " tf.Tensor([3 7], shape=(2,), dtype=int32)\n"
          ]
        }
      ]
    },
    {
      "cell_type": "code",
      "source": [
        "'''\n",
        "Viết chương trình tạo hai Numpy array, Pytorch tensor, Tensorflow tensor với các giá trị số\n",
        "nguyên ngẫu nhiên trong khoảng [-10, 10) với kích thước (3, 4). Sau đó chuyển vị array, tensor thứ 2\n",
        "và thực hiện phép nhân matrix multiplication. Lưu ý: sử dụng seed=2024\n",
        "'''"
      ],
      "metadata": {
        "id": "YZphd571YQ8-"
      },
      "execution_count": null,
      "outputs": []
    },
    {
      "cell_type": "code",
      "source": [
        "import numpy as np\n",
        "np . random . seed (2024)\n",
        "\n",
        "arr_randint1 = np . random . randint ( -10 , 10 , size =(3 , 4) )  # np.random.randint (low, hight, shape)\n",
        "arr_randint2 = np . random . randint ( -10 , 10 , size =(3 , 4) )\n",
        "print (\" arr_randint1 :\\n\", arr_randint1 )\n",
        "print (\" arr_randint2 :\\n\", arr_randint2 )\n",
        "\n",
        "# Chuyển vị array 2\n",
        "arr_transposed_2 = np . transpose ( arr_randint2 )\n",
        "# arr_transposed_2 = arr_randint2 . T\n",
        "print (\" array 2 sau khi chuyển vị:\\n\", arr_transposed_2 )\n",
        "\n",
        "# nhân matrix\n",
        "result_matmul = np . matmul ( arr_randint1 , arr_transposed_2 )\n",
        "\n",
        "print (\"Kết quả tích arr_randint_1 , arr_transposed_2 :\\n\", result_matmul )\n"
      ],
      "metadata": {
        "colab": {
          "base_uri": "https://localhost:8080/"
        },
        "id": "5JOQi336X2hv",
        "outputId": "9ba731bf-c96a-4969-dc1e-5a579e2efcb8"
      },
      "execution_count": 149,
      "outputs": [
        {
          "output_type": "stream",
          "name": "stdout",
          "text": [
            " arr_randint1 :\n",
            " [[ -2 -10 -10  -6]\n",
            " [ -1  -9  -7   0]\n",
            " [ -8 -10  -5   7]]\n",
            " arr_randint2 :\n",
            " [[ 5  0  4  5]\n",
            " [ 1 -3  8 -1]\n",
            " [-4  0 -9 -5]]\n",
            " array 2 sau khi chuyển vị:\n",
            " [[ 5  1 -4]\n",
            " [ 0 -3  0]\n",
            " [ 4  8 -9]\n",
            " [ 5 -1 -5]]\n",
            "Kết quả tích arr_randint_1 , arr_transposed_2 :\n",
            " [[-80 -46 128]\n",
            " [-33 -30  67]\n",
            " [-25 -25  42]]\n"
          ]
        }
      ]
    },
    {
      "cell_type": "code",
      "source": [
        "import torch\n",
        "torch . manual_seed (2024)\n",
        "\n",
        "tensor_rand1 = torch . randint ( -10 , 10 , size =(3 , 4) )\n",
        "tensor_rand2 = torch . randint ( -10 , 10 , size =(3 , 4) )\n",
        "\n",
        "# In ra giá trị của hai tensor\n",
        "print (\" tensor_rand 1:\\n\", tensor_rand1 )\n",
        "print (\" tensor_rand 2:\\n\", tensor_rand2 )\n",
        "\n",
        "# Chuyển vị array 2\n",
        "tensor_transposed_2 = torch . t ( tensor_rand2 )\n",
        "# arr_transposed_2 = tensor_rand2 . T\n",
        "print (\" array 2 sau khi chuyển vị:\\n\", tensor_transposed_2 )\n",
        "\n",
        "# nhân matrix\n",
        "result_matmul = torch . matmul ( tensor_rand1 , tensor_transposed_2 )\n",
        "\n",
        "print (\"Kết quả tích tensor_rand1 , arr_transposed_2 :\\n\", result_matmul )"
      ],
      "metadata": {
        "colab": {
          "base_uri": "https://localhost:8080/"
        },
        "id": "9830674eYL_y",
        "outputId": "f5fcc4c4-d4f0-4da2-e323-a6d5fa4f0cce"
      },
      "execution_count": 1,
      "outputs": [
        {
          "output_type": "stream",
          "name": "stdout",
          "text": [
            " tensor_rand 1:\n",
            " tensor([[  2,   0,  -6, -10],\n",
            "        [ -7, -10,   0,   1],\n",
            "        [  3,   9,   7,  -6]])\n",
            " tensor_rand 2:\n",
            " tensor([[  1,   8,   0,  -2],\n",
            "        [ -9, -10,  -9,   0],\n",
            "        [ -3,  -7,  -4,   8]])\n",
            " array 2 sau khi chuyển vị:\n",
            " tensor([[  1,  -9,  -3],\n",
            "        [  8, -10,  -7],\n",
            "        [  0,  -9,  -4],\n",
            "        [ -2,   0,   8]])\n",
            "Kết quả tích tensor_rand1 , arr_transposed_2 :\n",
            " tensor([[  22,   36,  -62],\n",
            "        [ -89,  163,   99],\n",
            "        [  87, -180, -148]])\n"
          ]
        }
      ]
    },
    {
      "cell_type": "code",
      "source": [
        "import tensorflow as tf\n",
        "tf . random . set_seed (2024)\n",
        "\n",
        "tensor_random1 = tf . random . uniform ((3 , 4) , minval = -10 , maxval =10 , dtype = tf . int32 )\n",
        "tensor_random2 = tf . random . uniform ((3 , 4) , minval = -10 , maxval =10 , dtype = tf . int32 )\n",
        "\n",
        "print (\" tensor_random1 :\\n\", tensor_random1 )\n",
        "print (\" tensor_random2 :\\n\", tensor_random2 )\n",
        "\n",
        "# Chuyển vị array 2\n",
        "tensor_transposed_2 = tf . transpose ( tensor_random2 )\n",
        "# arr_transposed_2 = arr_randint2 . T\n",
        "print (\" array 2 sau khi chuyển vị:\\n\", tensor_transposed_2 )\n",
        "\n",
        "# nhân matrix\n",
        "result_matmul = tf . matmul ( tensor_random1 , tensor_transposed_2 )\n",
        "\n",
        "print (\"Kết quả tích tensor_random1 , arr_transposed_2 :\\n\", result_matmul )\n"
      ],
      "metadata": {
        "colab": {
          "base_uri": "https://localhost:8080/"
        },
        "id": "kIslaXSOZn2l",
        "outputId": "9082aa62-7221-4e62-8e30-727e238d9d31"
      },
      "execution_count": 3,
      "outputs": [
        {
          "output_type": "stream",
          "name": "stdout",
          "text": [
            " tensor_random1 :\n",
            " tf.Tensor(\n",
            "[[-6 -2  0 -2]\n",
            " [ 4  4 -9  3]\n",
            " [ 7  1  2 -5]], shape=(3, 4), dtype=int32)\n",
            " tensor_random2 :\n",
            " tf.Tensor(\n",
            "[[-3 -7  9  3]\n",
            " [ 2 -5 -3 -5]\n",
            " [ 4 -3 -3  5]], shape=(3, 4), dtype=int32)\n",
            " array 2 sau khi chuyển vị:\n",
            " tf.Tensor(\n",
            "[[-3  2  4]\n",
            " [-7 -5 -3]\n",
            " [ 9 -3 -3]\n",
            " [ 3 -5  5]], shape=(4, 3), dtype=int32)\n",
            "Kết quả tích tensor_random1 , arr_transposed_2 :\n",
            " tf.Tensor(\n",
            "[[  26    8  -28]\n",
            " [-112    0   46]\n",
            " [ -25   28   -6]], shape=(3, 3), dtype=int32)\n"
          ]
        }
      ]
    },
    {
      "cell_type": "code",
      "source": [
        "'''\n",
        "Viết chương trình tạo một Numpy array, Pytorch tensor, Tensorflow tensor với các giá trị số\n",
        "nguyên ngẫu nhiên trong khoảng [-10, 10) với kích thước (3, 3). Sau đó hãy tính tổng của toàn bộ\n",
        "tensor, array, tiếp theo tính tổng theo chiều dọc, chiều ngang . Lưu ý: sử dụng seed=2024\n",
        "'''"
      ],
      "metadata": {
        "id": "pPzwM22baRe2"
      },
      "execution_count": null,
      "outputs": []
    },
    {
      "cell_type": "code",
      "source": [
        "import numpy as np\n",
        "np . random . seed (2024)\n",
        "\n",
        "arr_randint = np . random . randint ( -10 , 10 , size =(3 , 3) )  # np.random.randint (low, hight, shape)\n",
        "\n",
        "# Tính tổng của tất cả các phần tử trong mảng\n",
        "total_sum = np .sum( arr_randint )\n",
        "\n",
        "# Tính tổng theo cột ( theo chiều dọc)\n",
        "column_sum = np .sum ( arr_randint , axis =0)\n",
        "# Tính tổng theo hàng ( theo chiều ngang )\n",
        "row_sum = np .sum ( arr_randint , axis =1)\n",
        "\n",
        "# In ra màn hình\n",
        "print (\"Mảng :\\n\", arr_randint )\n",
        "print (\"Tổng của tất cả các phần tử trong mảng :\\n\", total_sum )\n",
        "print (\"Tổng theo cột:\\n\", column_sum )\n",
        "print (\"Tổng theo hàng :\\n\", row_sum )"
      ],
      "metadata": {
        "colab": {
          "base_uri": "https://localhost:8080/"
        },
        "id": "IjUrSSUhbTcy",
        "outputId": "ace82935-cee1-4fd7-c6ca-c98a622a950d"
      },
      "execution_count": 5,
      "outputs": [
        {
          "output_type": "stream",
          "name": "stdout",
          "text": [
            "Mảng :\n",
            " [[ -2 -10 -10]\n",
            " [ -6  -1  -9]\n",
            " [ -7   0  -8]]\n",
            "Tổng của tất cả các phần tử trong mảng :\n",
            " -53\n",
            "Tổng theo cột:\n",
            " [-15 -11 -27]\n",
            "Tổng theo hàng :\n",
            " [-22 -16 -15]\n"
          ]
        }
      ]
    },
    {
      "cell_type": "code",
      "source": [
        "import torch\n",
        "torch . manual_seed (2024)\n",
        "\n",
        "tensor_rand = torch . randint ( -10 , 10 , size =(3 , 3) )\n",
        "\n",
        "# Tính tổng tensor\n",
        "tensor_sum = torch .sum( tensor_rand )\n",
        "# Tính tổng tensor theo cột axis = 0\n",
        "tensor_sum_axis_0 = torch .sum( tensor_rand ,axis =0)\n",
        "# Tính tổng tensor theo hàng axis = 1\n",
        "tensor_sum_axis_1 = torch .sum( tensor_rand ,axis =1)\n",
        "\n",
        "# In ra màn hình\n",
        "print (\" tensor :\\n\", tensor_rand )\n",
        "print (\"Tổng các phần tử trong tensor :\\n\",tensor_sum )\n",
        "print (\"Tổng theo cột:\\n\",tensor_sum_axis_0 )\n",
        "print (\"Tổng theo hàng :\\n\",tensor_sum_axis_1 )"
      ],
      "metadata": {
        "colab": {
          "base_uri": "https://localhost:8080/"
        },
        "id": "VjQiagVmb4kF",
        "outputId": "064aa88c-d47c-47eb-c533-1d31537627f8"
      },
      "execution_count": 6,
      "outputs": [
        {
          "output_type": "stream",
          "name": "stdout",
          "text": [
            " tensor :\n",
            " tensor([[  2,   0,  -6],\n",
            "        [-10,  -7, -10],\n",
            "        [  0,   1,   3]])\n",
            "Tổng các phần tử trong tensor :\n",
            " tensor(-27)\n",
            "Tổng theo cột:\n",
            " tensor([ -8,  -6, -13])\n",
            "Tổng theo hàng :\n",
            " tensor([ -4, -27,   4])\n"
          ]
        }
      ]
    },
    {
      "cell_type": "code",
      "source": [
        "import tensorflow as tf\n",
        "tf . random . set_seed (2024)\n",
        "\n",
        "tensor_random = tf . random . uniform ((3 , 3) , minval = -10 , maxval =10 , dtype = tf . int32 )\n",
        "\n",
        "# Tính tổng tensor\n",
        "tensor_sum = tf . reduce_sum ( tensor_random )\n",
        "# Tính tổng tensor theo cột axis = 0\n",
        "tensor_sum_axis_0 = tf . reduce_sum ( tensor_random, axis =0)\n",
        "# Tính tổng tensor theo hàng axis = 1\n",
        "tensor_sum_axis_1 = tf . reduce_sum ( tensor_random, axis =1)\n",
        "\n",
        "# In ra màn hình\n",
        "print (\" tensor :\\n\", tensor_random )\n",
        "print (\"Tổng các phần tử trong tensor :\\n\", tensor_sum )\n",
        "print (\"Tổng theo cột:\\n\", tensor_sum_axis_0 )\n",
        "print (\"Tổng theo hàng :\\n\", tensor_sum_axis_1 )"
      ],
      "metadata": {
        "colab": {
          "base_uri": "https://localhost:8080/"
        },
        "id": "Q36JCKHwcUyc",
        "outputId": "fb59ca8a-5778-4791-dcd8-5e872e6aa4d1"
      },
      "execution_count": 10,
      "outputs": [
        {
          "output_type": "stream",
          "name": "stdout",
          "text": [
            " tensor :\n",
            " tf.Tensor(\n",
            "[[-6 -2  0]\n",
            " [-2  4  4]\n",
            " [-9  3  7]], shape=(3, 3), dtype=int32)\n",
            "Tổng các phần tử trong tensor :\n",
            " tf.Tensor(-1, shape=(), dtype=int32)\n",
            "Tổng theo cột:\n",
            " tf.Tensor([-17   5  11], shape=(3,), dtype=int32)\n",
            "Tổng theo hàng :\n",
            " tf.Tensor([-8  6  1], shape=(3,), dtype=int32)\n"
          ]
        }
      ]
    },
    {
      "cell_type": "code",
      "source": [],
      "metadata": {
        "id": "Q1NgBUytcqtb"
      },
      "execution_count": null,
      "outputs": []
    }
  ]
}